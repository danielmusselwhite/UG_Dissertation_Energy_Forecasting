{
 "cells": [
  {
   "cell_type": "code",
   "execution_count": 2,
   "metadata": {},
   "outputs": [],
   "source": [
    "import os "
   ]
  },
  {
   "cell_type": "code",
   "execution_count": 6,
   "metadata": {},
   "outputs": [],
   "source": [
    "if not os.path.exists('../Data/Original_Data/'):\n",
    "    os.makedirs(\"../Data/Original_Data/\")\n",
    "if not os.path.exists('../Data/Preprocessed_Data'):\n",
    "    os.makedirs('../Data/Preprocessed_Data')\n",
    "if not os.path.exists('../Data/Prepared_Data'):\n",
    "    os.makedirs('../Data/Prepared_Data')\n",
    "if not os.path.exists('../Data/Prepared_Data/Supervised/'):\n",
    "    os.makedirs('../Data/Prepared_Data/Supervised/')\n",
    "    \n",
    "    \n",
    "if not os.path.exists('../EDA/plots/consumption/Original/'):\n",
    "    os.makedirs('../EDA/plots/consumption/Original/')\n",
    "if not os.path.exists('../EDA/plots/consumption/Daily_Ignored/'):\n",
    "    os.makedirs('../EDA/plots/consumption/Daily_Ignored/')\n",
    "if not os.path.exists('../EDA/plots/consumption/Daily_Removed/'):\n",
    "    os.makedirs('../EDA/plots/consumption/Daily_Removed/')\n",
    "if not os.path.exists('../EDA/plots/consumption/Daily_Interpolated/'):\n",
    "    os.makedirs('../EDA/plots/consumption/Daily_Interpolated/')\n",
    "if not os.path.exists('../EDA/plots/consumption/Clustering/'):\n",
    "    os.makedirs('../EDA/plots/consumption/Clustering/')\n",
    "if not os.path.exists('../EDA/plots/consumption/Interpolated_Weekly_Removed/'):\n",
    "    os.makedirs('../EDA/plots/consumption/Interpolated_Weekly_Removed/')\n",
    "if not os.path.exists('../EDA/plots/consumption/Interpolated_Monthly_ImputedMean/'):\n",
    "    os.makedirs('../EDA/plots/consumption/Interpolated_Monthly_ImputedMean/')\n",
    "    \n",
    "    \n",
    "    \n",
    "if not os.path.exists('../EDA/plots/addInfo/'):\n",
    "    os.makedirs('../EDA/plots/addInfo/')\n",
    "if not os.path.exists('../EDA/plots/addInfo/Pre-Imputation/'):\n",
    "    os.makedirs('../EDA/plots/addInfo/Pre-Imputation/')\n",
    "if not os.path.exists('../EDA/plots/addInfo/Imputed/'):\n",
    "    os.makedirs('../EDA/plots/addInfo/Imputed/')\n",
    "if not os.path.exists('my_folder'):\n",
    "    os.makedirs('my_folder')\n"
   ]
  },
  {
   "cell_type": "code",
   "execution_count": null,
   "metadata": {},
   "outputs": [],
   "source": []
  }
 ],
 "metadata": {
  "kernelspec": {
   "display_name": "mle_tf",
   "language": "python",
   "name": "mle_tf"
  },
  "language_info": {
   "codemirror_mode": {
    "name": "ipython",
    "version": 3
   },
   "file_extension": ".py",
   "mimetype": "text/x-python",
   "name": "python",
   "nbconvert_exporter": "python",
   "pygments_lexer": "ipython3",
   "version": "3.7.9"
  }
 },
 "nbformat": 4,
 "nbformat_minor": 4
}
