{
 "cells": [
  {
   "cell_type": "markdown",
   "metadata": {},
   "source": [
    "* TODO :\n",
    "        * Compare the plotted graphs for the interpolated vs daily vs original datasets\n",
    "        * Adapt the function for plotting the original dataset\n",
    "        * Compare the count of missing values in untinterpolated and interpolated by using .isna().sum() for both\n",
    "        * Handle the resampling size for week and month so they use either interpolated or not depending on what I think looks better from the plots (do we even need to do them?)\n",
    "* after doing teh above 2 things should be finished with EDA and preprocessing can move on to feature engineering and data preparation for the RNN algorithms"
   ]
  },
  {
   "cell_type": "markdown",
   "metadata": {},
   "source": [
    "# EDA of the data\n",
    "* Performing an EDA of the data to discover preliminary patterns and problems which we will use in our preprocessing of the data\n",
    "\n",
    "# Importing required libraries"
   ]
  },
  {
   "cell_type": "code",
   "execution_count": 157,
   "metadata": {},
   "outputs": [],
   "source": [
    "import numpy as np\n",
    "import pandas as pd\n",
    "import matplotlib.pyplot as plt\n",
    "import os\n",
    "from sklearn.impute import KNNImputer\n",
    "from sklearn.preprocessing import OrdinalEncoder, LabelEncoder, OneHotEncoder, MinMaxScaler\n",
    "from datetime import datetime\n",
    "from tqdm.notebook import tqdm #lets us display pretty progress bars for loops\n",
    "import seaborn as sns\n",
    "from datetime import timedelta\n",
    "from datetime import date\n",
    "from dateutil.relativedelta import relativedelta\n",
    "import random #used for randomly selecting which plots to display (as there are a lot)"
   ]
  },
  {
   "cell_type": "markdown",
   "metadata": {},
   "source": [
    "# Setting up display options for pandas"
   ]
  },
  {
   "cell_type": "code",
   "execution_count": 158,
   "metadata": {},
   "outputs": [],
   "source": [
    "pd.set_option('display.max_columns', 500)\n",
    "pd.set_option('display.max_rows', 500)"
   ]
  },
  {
   "cell_type": "markdown",
   "metadata": {},
   "source": [
    "# Loading the data\n",
    "* Try to load from pickle file as it is quicker to access\n",
    "* If this fails, load the original CSV and save it to a pickle file\n",
    "* <b>No point in doing anything with weather data as we only have 1 years worth of values so it is impossible to leverage with our chosen RNN/CNN based models to predict the next years worth of energy readings</b>\n",
    "    * <b>Unless we leveraged them to produce multivariate predictions and also predicting the weathers values in order to use those as input for subsequent days: but this will likely result in worse performing energy predictions</b>\n",
    "* Hence we are only looking into addInfo and consumption"
   ]
  },
  {
   "cell_type": "code",
   "execution_count": 159,
   "metadata": {
    "scrolled": true
   },
   "outputs": [
    {
     "name": "stdout",
     "output_type": "stream",
     "text": [
      "Loading consumption via pickle\n",
      "Loading addInfo via pickle\n"
     ]
    }
   ],
   "source": [
    "#try to load pickle file as it is quicker\n",
    "try:\n",
    "    print(\"Loading consumption via pickle\")\n",
    "    df_energy = pd.read_pickle(\"../Data/Original_Data/consumption.pkl\")\n",
    "# if the file was not found then load the csv then save it to pickle for future loads\n",
    "except:\n",
    "    print(\"Loading consumption via csv\")\n",
    "    df_energy = pd.read_csv(\"../Data/Original_Data/consumption.csv\")\n",
    "    df_energy.to_pickle(\"../Data/Original_Data/consumption.pkl\")\n",
    "\n",
    "    #try to load pickle file as it is quicker\n",
    "try:\n",
    "    print(\"Loading addInfo via pickle\")\n",
    "    df_info = pd.read_pickle(\"../Data/Original_Data/addInfo.pkl\")\n",
    "# if the file was not found then load the csv then save it to pickle for future loads\n",
    "except:\n",
    "    print(\"Loading addInfo via csv\")\n",
    "    df_info = pd.read_csv(\"../Data/Original_Data/addInfo.csv\")\n",
    "    df_info.to_pickle(\"../Data/Original_Data/addInfo.pkl\")"
   ]
  },
  {
   "cell_type": "markdown",
   "metadata": {},
   "source": [
    "# Inspecting df_energy and df_info"
   ]
  },
  {
   "cell_type": "code",
   "execution_count": 160,
   "metadata": {},
   "outputs": [
    {
     "data": {
      "text/html": [
       "<div>\n",
       "<style scoped>\n",
       "    .dataframe tbody tr th:only-of-type {\n",
       "        vertical-align: middle;\n",
       "    }\n",
       "\n",
       "    .dataframe tbody tr th {\n",
       "        vertical-align: top;\n",
       "    }\n",
       "\n",
       "    .dataframe thead th {\n",
       "        text-align: right;\n",
       "    }\n",
       "</style>\n",
       "<table border=\"1\" class=\"dataframe\">\n",
       "  <thead>\n",
       "    <tr style=\"text-align: right;\">\n",
       "      <th></th>\n",
       "      <th>meter_id</th>\n",
       "      <th>2017-01-01 00:00:00</th>\n",
       "      <th>2017-01-01 00:30:00</th>\n",
       "      <th>2017-01-01 01:00:00</th>\n",
       "      <th>2017-01-01 01:30:00</th>\n",
       "      <th>2017-01-01 02:00:00</th>\n",
       "      <th>2017-01-01 02:30:00</th>\n",
       "      <th>2017-01-01 03:00:00</th>\n",
       "      <th>2017-01-01 03:30:00</th>\n",
       "      <th>2017-01-01 04:00:00</th>\n",
       "      <th>2017-01-01 04:30:00</th>\n",
       "      <th>2017-01-01 05:00:00</th>\n",
       "      <th>2017-01-01 05:30:00</th>\n",
       "      <th>2017-01-01 06:00:00</th>\n",
       "      <th>2017-01-01 06:30:00</th>\n",
       "      <th>2017-01-01 07:00:00</th>\n",
       "      <th>2017-01-01 07:30:00</th>\n",
       "      <th>2017-01-01 08:00:00</th>\n",
       "      <th>2017-01-01 08:30:00</th>\n",
       "      <th>2017-01-01 09:00:00</th>\n",
       "      <th>2017-01-01 09:30:00</th>\n",
       "      <th>2017-01-01 10:00:00</th>\n",
       "      <th>2017-01-01 10:30:00</th>\n",
       "      <th>2017-01-01 11:00:00</th>\n",
       "      <th>2017-01-01 11:30:00</th>\n",
       "      <th>2017-01-01 12:00:00</th>\n",
       "      <th>2017-01-01 12:30:00</th>\n",
       "      <th>2017-01-01 13:00:00</th>\n",
       "      <th>2017-01-01 13:30:00</th>\n",
       "      <th>2017-01-01 14:00:00</th>\n",
       "      <th>2017-01-01 14:30:00</th>\n",
       "      <th>2017-01-01 15:00:00</th>\n",
       "      <th>2017-01-01 15:30:00</th>\n",
       "      <th>2017-01-01 16:00:00</th>\n",
       "      <th>2017-01-01 16:30:00</th>\n",
       "      <th>2017-01-01 17:00:00</th>\n",
       "      <th>2017-01-01 17:30:00</th>\n",
       "      <th>2017-01-01 18:00:00</th>\n",
       "      <th>2017-01-01 18:30:00</th>\n",
       "      <th>2017-01-01 19:00:00</th>\n",
       "      <th>2017-01-01 19:30:00</th>\n",
       "      <th>2017-01-01 20:00:00</th>\n",
       "      <th>2017-01-01 20:30:00</th>\n",
       "      <th>2017-01-01 21:00:00</th>\n",
       "      <th>2017-01-01 21:30:00</th>\n",
       "      <th>2017-01-01 22:00:00</th>\n",
       "      <th>2017-01-01 22:30:00</th>\n",
       "      <th>2017-01-01 23:00:00</th>\n",
       "      <th>2017-01-01 23:30:00</th>\n",
       "      <th>2017-01-02 00:00:00</th>\n",
       "      <th>2017-01-02 00:30:00</th>\n",
       "      <th>2017-01-02 01:00:00</th>\n",
       "      <th>2017-01-02 01:30:00</th>\n",
       "      <th>2017-01-02 02:00:00</th>\n",
       "      <th>2017-01-02 02:30:00</th>\n",
       "      <th>2017-01-02 03:00:00</th>\n",
       "      <th>2017-01-02 03:30:00</th>\n",
       "      <th>2017-01-02 04:00:00</th>\n",
       "      <th>2017-01-02 04:30:00</th>\n",
       "      <th>2017-01-02 05:00:00</th>\n",
       "      <th>2017-01-02 05:30:00</th>\n",
       "      <th>2017-01-02 06:00:00</th>\n",
       "      <th>2017-01-02 06:30:00</th>\n",
       "      <th>2017-01-02 07:00:00</th>\n",
       "      <th>2017-01-02 07:30:00</th>\n",
       "      <th>2017-01-02 08:00:00</th>\n",
       "      <th>2017-01-02 08:30:00</th>\n",
       "      <th>2017-01-02 09:00:00</th>\n",
       "      <th>2017-01-02 09:30:00</th>\n",
       "      <th>2017-01-02 10:00:00</th>\n",
       "      <th>2017-01-02 10:30:00</th>\n",
       "      <th>2017-01-02 11:00:00</th>\n",
       "      <th>2017-01-02 11:30:00</th>\n",
       "      <th>2017-01-02 12:00:00</th>\n",
       "      <th>2017-01-02 12:30:00</th>\n",
       "      <th>2017-01-02 13:00:00</th>\n",
       "      <th>2017-01-02 13:30:00</th>\n",
       "      <th>2017-01-02 14:00:00</th>\n",
       "      <th>2017-01-02 14:30:00</th>\n",
       "      <th>2017-01-02 15:00:00</th>\n",
       "      <th>2017-01-02 15:30:00</th>\n",
       "      <th>2017-01-02 16:00:00</th>\n",
       "      <th>2017-01-02 16:30:00</th>\n",
       "      <th>2017-01-02 17:00:00</th>\n",
       "      <th>2017-01-02 17:30:00</th>\n",
       "      <th>2017-01-02 18:00:00</th>\n",
       "      <th>2017-01-02 18:30:00</th>\n",
       "      <th>2017-01-02 19:00:00</th>\n",
       "      <th>2017-01-02 19:30:00</th>\n",
       "      <th>2017-01-02 20:00:00</th>\n",
       "      <th>2017-01-02 20:30:00</th>\n",
       "      <th>2017-01-02 21:00:00</th>\n",
       "      <th>2017-01-02 21:30:00</th>\n",
       "      <th>2017-01-02 22:00:00</th>\n",
       "      <th>2017-01-02 22:30:00</th>\n",
       "      <th>2017-01-02 23:00:00</th>\n",
       "      <th>2017-01-02 23:30:00</th>\n",
       "      <th>2017-01-03 00:00:00</th>\n",
       "      <th>2017-01-03 00:30:00</th>\n",
       "      <th>2017-01-03 01:00:00</th>\n",
       "      <th>2017-01-03 01:30:00</th>\n",
       "      <th>2017-01-03 02:00:00</th>\n",
       "      <th>2017-01-03 02:30:00</th>\n",
       "      <th>2017-01-03 03:00:00</th>\n",
       "      <th>2017-01-03 03:30:00</th>\n",
       "      <th>2017-01-03 04:00:00</th>\n",
       "      <th>2017-01-03 04:30:00</th>\n",
       "      <th>2017-01-03 05:00:00</th>\n",
       "      <th>2017-01-03 05:30:00</th>\n",
       "      <th>2017-01-03 06:00:00</th>\n",
       "      <th>2017-01-03 06:30:00</th>\n",
       "      <th>2017-01-03 07:00:00</th>\n",
       "      <th>2017-01-03 07:30:00</th>\n",
       "      <th>2017-01-03 08:00:00</th>\n",
       "      <th>2017-01-03 08:30:00</th>\n",
       "      <th>2017-01-03 09:00:00</th>\n",
       "      <th>2017-01-03 09:30:00</th>\n",
       "      <th>2017-01-03 10:00:00</th>\n",
       "      <th>2017-01-03 10:30:00</th>\n",
       "      <th>2017-01-03 11:00:00</th>\n",
       "      <th>2017-01-03 11:30:00</th>\n",
       "      <th>2017-01-03 12:00:00</th>\n",
       "      <th>2017-01-03 12:30:00</th>\n",
       "      <th>2017-01-03 13:00:00</th>\n",
       "      <th>2017-01-03 13:30:00</th>\n",
       "      <th>2017-01-03 14:00:00</th>\n",
       "      <th>2017-01-03 14:30:00</th>\n",
       "      <th>2017-01-03 15:00:00</th>\n",
       "      <th>2017-01-03 15:30:00</th>\n",
       "      <th>2017-01-03 16:00:00</th>\n",
       "      <th>2017-01-03 16:30:00</th>\n",
       "      <th>2017-01-03 17:00:00</th>\n",
       "      <th>2017-01-03 17:30:00</th>\n",
       "      <th>2017-01-03 18:00:00</th>\n",
       "      <th>2017-01-03 18:30:00</th>\n",
       "      <th>2017-01-03 19:00:00</th>\n",
       "      <th>2017-01-03 19:30:00</th>\n",
       "      <th>2017-01-03 20:00:00</th>\n",
       "      <th>2017-01-03 20:30:00</th>\n",
       "      <th>2017-01-03 21:00:00</th>\n",
       "      <th>2017-01-03 21:30:00</th>\n",
       "      <th>2017-01-03 22:00:00</th>\n",
       "      <th>2017-01-03 22:30:00</th>\n",
       "      <th>2017-01-03 23:00:00</th>\n",
       "      <th>2017-01-03 23:30:00</th>\n",
       "      <th>2017-01-04 00:00:00</th>\n",
       "      <th>2017-01-04 00:30:00</th>\n",
       "      <th>2017-01-04 01:00:00</th>\n",
       "      <th>2017-01-04 01:30:00</th>\n",
       "      <th>2017-01-04 02:00:00</th>\n",
       "      <th>2017-01-04 02:30:00</th>\n",
       "      <th>2017-01-04 03:00:00</th>\n",
       "      <th>2017-01-04 03:30:00</th>\n",
       "      <th>2017-01-04 04:00:00</th>\n",
       "      <th>2017-01-04 04:30:00</th>\n",
       "      <th>2017-01-04 05:00:00</th>\n",
       "      <th>2017-01-04 05:30:00</th>\n",
       "      <th>2017-01-04 06:00:00</th>\n",
       "      <th>2017-01-04 06:30:00</th>\n",
       "      <th>2017-01-04 07:00:00</th>\n",
       "      <th>2017-01-04 07:30:00</th>\n",
       "      <th>2017-01-04 08:00:00</th>\n",
       "      <th>2017-01-04 08:30:00</th>\n",
       "      <th>2017-01-04 09:00:00</th>\n",
       "      <th>2017-01-04 09:30:00</th>\n",
       "      <th>2017-01-04 10:00:00</th>\n",
       "      <th>2017-01-04 10:30:00</th>\n",
       "      <th>2017-01-04 11:00:00</th>\n",
       "      <th>2017-01-04 11:30:00</th>\n",
       "      <th>2017-01-04 12:00:00</th>\n",
       "      <th>2017-01-04 12:30:00</th>\n",
       "      <th>2017-01-04 13:00:00</th>\n",
       "      <th>2017-01-04 13:30:00</th>\n",
       "      <th>2017-01-04 14:00:00</th>\n",
       "      <th>2017-01-04 14:30:00</th>\n",
       "      <th>2017-01-04 15:00:00</th>\n",
       "      <th>2017-01-04 15:30:00</th>\n",
       "      <th>2017-01-04 16:00:00</th>\n",
       "      <th>2017-01-04 16:30:00</th>\n",
       "      <th>2017-01-04 17:00:00</th>\n",
       "      <th>2017-01-04 17:30:00</th>\n",
       "      <th>2017-01-04 18:00:00</th>\n",
       "      <th>2017-01-04 18:30:00</th>\n",
       "      <th>2017-01-04 19:00:00</th>\n",
       "      <th>2017-01-04 19:30:00</th>\n",
       "      <th>2017-01-04 20:00:00</th>\n",
       "      <th>2017-01-04 20:30:00</th>\n",
       "      <th>2017-01-04 21:00:00</th>\n",
       "      <th>2017-01-04 21:30:00</th>\n",
       "      <th>2017-01-04 22:00:00</th>\n",
       "      <th>2017-01-04 22:30:00</th>\n",
       "      <th>2017-01-04 23:00:00</th>\n",
       "      <th>2017-01-04 23:30:00</th>\n",
       "      <th>2017-01-05 00:00:00</th>\n",
       "      <th>2017-01-05 00:30:00</th>\n",
       "      <th>2017-01-05 01:00:00</th>\n",
       "      <th>2017-01-05 01:30:00</th>\n",
       "      <th>2017-01-05 02:00:00</th>\n",
       "      <th>2017-01-05 02:30:00</th>\n",
       "      <th>2017-01-05 03:00:00</th>\n",
       "      <th>2017-01-05 03:30:00</th>\n",
       "      <th>2017-01-05 04:00:00</th>\n",
       "      <th>2017-01-05 04:30:00</th>\n",
       "      <th>2017-01-05 05:00:00</th>\n",
       "      <th>2017-01-05 05:30:00</th>\n",
       "      <th>2017-01-05 06:00:00</th>\n",
       "      <th>2017-01-05 06:30:00</th>\n",
       "      <th>2017-01-05 07:00:00</th>\n",
       "      <th>2017-01-05 07:30:00</th>\n",
       "      <th>2017-01-05 08:00:00</th>\n",
       "      <th>2017-01-05 08:30:00</th>\n",
       "      <th>2017-01-05 09:00:00</th>\n",
       "      <th>2017-01-05 09:30:00</th>\n",
       "      <th>2017-01-05 10:00:00</th>\n",
       "      <th>2017-01-05 10:30:00</th>\n",
       "      <th>2017-01-05 11:00:00</th>\n",
       "      <th>2017-01-05 11:30:00</th>\n",
       "      <th>2017-01-05 12:00:00</th>\n",
       "      <th>2017-01-05 12:30:00</th>\n",
       "      <th>2017-01-05 13:00:00</th>\n",
       "      <th>2017-01-05 13:30:00</th>\n",
       "      <th>2017-01-05 14:00:00</th>\n",
       "      <th>2017-01-05 14:30:00</th>\n",
       "      <th>2017-01-05 15:00:00</th>\n",
       "      <th>2017-01-05 15:30:00</th>\n",
       "      <th>2017-01-05 16:00:00</th>\n",
       "      <th>2017-01-05 16:30:00</th>\n",
       "      <th>2017-01-05 17:00:00</th>\n",
       "      <th>2017-01-05 17:30:00</th>\n",
       "      <th>2017-01-05 18:00:00</th>\n",
       "      <th>2017-01-05 18:30:00</th>\n",
       "      <th>2017-01-05 19:00:00</th>\n",
       "      <th>2017-01-05 19:30:00</th>\n",
       "      <th>2017-01-05 20:00:00</th>\n",
       "      <th>2017-01-05 20:30:00</th>\n",
       "      <th>2017-01-05 21:00:00</th>\n",
       "      <th>2017-01-05 21:30:00</th>\n",
       "      <th>2017-01-05 22:00:00</th>\n",
       "      <th>2017-01-05 22:30:00</th>\n",
       "      <th>2017-01-05 23:00:00</th>\n",
       "      <th>2017-01-05 23:30:00</th>\n",
       "      <th>2017-01-06 00:00:00</th>\n",
       "      <th>2017-01-06 00:30:00</th>\n",
       "      <th>2017-01-06 01:00:00</th>\n",
       "      <th>2017-01-06 01:30:00</th>\n",
       "      <th>2017-01-06 02:00:00</th>\n",
       "      <th>2017-01-06 02:30:00</th>\n",
       "      <th>2017-01-06 03:00:00</th>\n",
       "      <th>2017-01-06 03:30:00</th>\n",
       "      <th>2017-01-06 04:00:00</th>\n",
       "      <th>...</th>\n",
       "      <th>2017-12-26 19:00:00</th>\n",
       "      <th>2017-12-26 19:30:00</th>\n",
       "      <th>2017-12-26 20:00:00</th>\n",
       "      <th>2017-12-26 20:30:00</th>\n",
       "      <th>2017-12-26 21:00:00</th>\n",
       "      <th>2017-12-26 21:30:00</th>\n",
       "      <th>2017-12-26 22:00:00</th>\n",
       "      <th>2017-12-26 22:30:00</th>\n",
       "      <th>2017-12-26 23:00:00</th>\n",
       "      <th>2017-12-26 23:30:00</th>\n",
       "      <th>2017-12-27 00:00:00</th>\n",
       "      <th>2017-12-27 00:30:00</th>\n",
       "      <th>2017-12-27 01:00:00</th>\n",
       "      <th>2017-12-27 01:30:00</th>\n",
       "      <th>2017-12-27 02:00:00</th>\n",
       "      <th>2017-12-27 02:30:00</th>\n",
       "      <th>2017-12-27 03:00:00</th>\n",
       "      <th>2017-12-27 03:30:00</th>\n",
       "      <th>2017-12-27 04:00:00</th>\n",
       "      <th>2017-12-27 04:30:00</th>\n",
       "      <th>2017-12-27 05:00:00</th>\n",
       "      <th>2017-12-27 05:30:00</th>\n",
       "      <th>2017-12-27 06:00:00</th>\n",
       "      <th>2017-12-27 06:30:00</th>\n",
       "      <th>2017-12-27 07:00:00</th>\n",
       "      <th>2017-12-27 07:30:00</th>\n",
       "      <th>2017-12-27 08:00:00</th>\n",
       "      <th>2017-12-27 08:30:00</th>\n",
       "      <th>2017-12-27 09:00:00</th>\n",
       "      <th>2017-12-27 09:30:00</th>\n",
       "      <th>2017-12-27 10:00:00</th>\n",
       "      <th>2017-12-27 10:30:00</th>\n",
       "      <th>2017-12-27 11:00:00</th>\n",
       "      <th>2017-12-27 11:30:00</th>\n",
       "      <th>2017-12-27 12:00:00</th>\n",
       "      <th>2017-12-27 12:30:00</th>\n",
       "      <th>2017-12-27 13:00:00</th>\n",
       "      <th>2017-12-27 13:30:00</th>\n",
       "      <th>2017-12-27 14:00:00</th>\n",
       "      <th>2017-12-27 14:30:00</th>\n",
       "      <th>2017-12-27 15:00:00</th>\n",
       "      <th>2017-12-27 15:30:00</th>\n",
       "      <th>2017-12-27 16:00:00</th>\n",
       "      <th>2017-12-27 16:30:00</th>\n",
       "      <th>2017-12-27 17:00:00</th>\n",
       "      <th>2017-12-27 17:30:00</th>\n",
       "      <th>2017-12-27 18:00:00</th>\n",
       "      <th>2017-12-27 18:30:00</th>\n",
       "      <th>2017-12-27 19:00:00</th>\n",
       "      <th>2017-12-27 19:30:00</th>\n",
       "      <th>2017-12-27 20:00:00</th>\n",
       "      <th>2017-12-27 20:30:00</th>\n",
       "      <th>2017-12-27 21:00:00</th>\n",
       "      <th>2017-12-27 21:30:00</th>\n",
       "      <th>2017-12-27 22:00:00</th>\n",
       "      <th>2017-12-27 22:30:00</th>\n",
       "      <th>2017-12-27 23:00:00</th>\n",
       "      <th>2017-12-27 23:30:00</th>\n",
       "      <th>2017-12-28 00:00:00</th>\n",
       "      <th>2017-12-28 00:30:00</th>\n",
       "      <th>2017-12-28 01:00:00</th>\n",
       "      <th>2017-12-28 01:30:00</th>\n",
       "      <th>2017-12-28 02:00:00</th>\n",
       "      <th>2017-12-28 02:30:00</th>\n",
       "      <th>2017-12-28 03:00:00</th>\n",
       "      <th>2017-12-28 03:30:00</th>\n",
       "      <th>2017-12-28 04:00:00</th>\n",
       "      <th>2017-12-28 04:30:00</th>\n",
       "      <th>2017-12-28 05:00:00</th>\n",
       "      <th>2017-12-28 05:30:00</th>\n",
       "      <th>2017-12-28 06:00:00</th>\n",
       "      <th>2017-12-28 06:30:00</th>\n",
       "      <th>2017-12-28 07:00:00</th>\n",
       "      <th>2017-12-28 07:30:00</th>\n",
       "      <th>2017-12-28 08:00:00</th>\n",
       "      <th>2017-12-28 08:30:00</th>\n",
       "      <th>2017-12-28 09:00:00</th>\n",
       "      <th>2017-12-28 09:30:00</th>\n",
       "      <th>2017-12-28 10:00:00</th>\n",
       "      <th>2017-12-28 10:30:00</th>\n",
       "      <th>2017-12-28 11:00:00</th>\n",
       "      <th>2017-12-28 11:30:00</th>\n",
       "      <th>2017-12-28 12:00:00</th>\n",
       "      <th>2017-12-28 12:30:00</th>\n",
       "      <th>2017-12-28 13:00:00</th>\n",
       "      <th>2017-12-28 13:30:00</th>\n",
       "      <th>2017-12-28 14:00:00</th>\n",
       "      <th>2017-12-28 14:30:00</th>\n",
       "      <th>2017-12-28 15:00:00</th>\n",
       "      <th>2017-12-28 15:30:00</th>\n",
       "      <th>2017-12-28 16:00:00</th>\n",
       "      <th>2017-12-28 16:30:00</th>\n",
       "      <th>2017-12-28 17:00:00</th>\n",
       "      <th>2017-12-28 17:30:00</th>\n",
       "      <th>2017-12-28 18:00:00</th>\n",
       "      <th>2017-12-28 18:30:00</th>\n",
       "      <th>2017-12-28 19:00:00</th>\n",
       "      <th>2017-12-28 19:30:00</th>\n",
       "      <th>2017-12-28 20:00:00</th>\n",
       "      <th>2017-12-28 20:30:00</th>\n",
       "      <th>2017-12-28 21:00:00</th>\n",
       "      <th>2017-12-28 21:30:00</th>\n",
       "      <th>2017-12-28 22:00:00</th>\n",
       "      <th>2017-12-28 22:30:00</th>\n",
       "      <th>2017-12-28 23:00:00</th>\n",
       "      <th>2017-12-28 23:30:00</th>\n",
       "      <th>2017-12-29 00:00:00</th>\n",
       "      <th>2017-12-29 00:30:00</th>\n",
       "      <th>2017-12-29 01:00:00</th>\n",
       "      <th>2017-12-29 01:30:00</th>\n",
       "      <th>2017-12-29 02:00:00</th>\n",
       "      <th>2017-12-29 02:30:00</th>\n",
       "      <th>2017-12-29 03:00:00</th>\n",
       "      <th>2017-12-29 03:30:00</th>\n",
       "      <th>2017-12-29 04:00:00</th>\n",
       "      <th>2017-12-29 04:30:00</th>\n",
       "      <th>2017-12-29 05:00:00</th>\n",
       "      <th>2017-12-29 05:30:00</th>\n",
       "      <th>2017-12-29 06:00:00</th>\n",
       "      <th>2017-12-29 06:30:00</th>\n",
       "      <th>2017-12-29 07:00:00</th>\n",
       "      <th>2017-12-29 07:30:00</th>\n",
       "      <th>2017-12-29 08:00:00</th>\n",
       "      <th>2017-12-29 08:30:00</th>\n",
       "      <th>2017-12-29 09:00:00</th>\n",
       "      <th>2017-12-29 09:30:00</th>\n",
       "      <th>2017-12-29 10:00:00</th>\n",
       "      <th>2017-12-29 10:30:00</th>\n",
       "      <th>2017-12-29 11:00:00</th>\n",
       "      <th>2017-12-29 11:30:00</th>\n",
       "      <th>2017-12-29 12:00:00</th>\n",
       "      <th>2017-12-29 12:30:00</th>\n",
       "      <th>2017-12-29 13:00:00</th>\n",
       "      <th>2017-12-29 13:30:00</th>\n",
       "      <th>2017-12-29 14:00:00</th>\n",
       "      <th>2017-12-29 14:30:00</th>\n",
       "      <th>2017-12-29 15:00:00</th>\n",
       "      <th>2017-12-29 15:30:00</th>\n",
       "      <th>2017-12-29 16:00:00</th>\n",
       "      <th>2017-12-29 16:30:00</th>\n",
       "      <th>2017-12-29 17:00:00</th>\n",
       "      <th>2017-12-29 17:30:00</th>\n",
       "      <th>2017-12-29 18:00:00</th>\n",
       "      <th>2017-12-29 18:30:00</th>\n",
       "      <th>2017-12-29 19:00:00</th>\n",
       "      <th>2017-12-29 19:30:00</th>\n",
       "      <th>2017-12-29 20:00:00</th>\n",
       "      <th>2017-12-29 20:30:00</th>\n",
       "      <th>2017-12-29 21:00:00</th>\n",
       "      <th>2017-12-29 21:30:00</th>\n",
       "      <th>2017-12-29 22:00:00</th>\n",
       "      <th>2017-12-29 22:30:00</th>\n",
       "      <th>2017-12-29 23:00:00</th>\n",
       "      <th>2017-12-29 23:30:00</th>\n",
       "      <th>2017-12-30 00:00:00</th>\n",
       "      <th>2017-12-30 00:30:00</th>\n",
       "      <th>2017-12-30 01:00:00</th>\n",
       "      <th>2017-12-30 01:30:00</th>\n",
       "      <th>2017-12-30 02:00:00</th>\n",
       "      <th>2017-12-30 02:30:00</th>\n",
       "      <th>2017-12-30 03:00:00</th>\n",
       "      <th>2017-12-30 03:30:00</th>\n",
       "      <th>2017-12-30 04:00:00</th>\n",
       "      <th>2017-12-30 04:30:00</th>\n",
       "      <th>2017-12-30 05:00:00</th>\n",
       "      <th>2017-12-30 05:30:00</th>\n",
       "      <th>2017-12-30 06:00:00</th>\n",
       "      <th>2017-12-30 06:30:00</th>\n",
       "      <th>2017-12-30 07:00:00</th>\n",
       "      <th>2017-12-30 07:30:00</th>\n",
       "      <th>2017-12-30 08:00:00</th>\n",
       "      <th>2017-12-30 08:30:00</th>\n",
       "      <th>2017-12-30 09:00:00</th>\n",
       "      <th>2017-12-30 09:30:00</th>\n",
       "      <th>2017-12-30 10:00:00</th>\n",
       "      <th>2017-12-30 10:30:00</th>\n",
       "      <th>2017-12-30 11:00:00</th>\n",
       "      <th>2017-12-30 11:30:00</th>\n",
       "      <th>2017-12-30 12:00:00</th>\n",
       "      <th>2017-12-30 12:30:00</th>\n",
       "      <th>2017-12-30 13:00:00</th>\n",
       "      <th>2017-12-30 13:30:00</th>\n",
       "      <th>2017-12-30 14:00:00</th>\n",
       "      <th>2017-12-30 14:30:00</th>\n",
       "      <th>2017-12-30 15:00:00</th>\n",
       "      <th>2017-12-30 15:30:00</th>\n",
       "      <th>2017-12-30 16:00:00</th>\n",
       "      <th>2017-12-30 16:30:00</th>\n",
       "      <th>2017-12-30 17:00:00</th>\n",
       "      <th>2017-12-30 17:30:00</th>\n",
       "      <th>2017-12-30 18:00:00</th>\n",
       "      <th>2017-12-30 18:30:00</th>\n",
       "      <th>2017-12-30 19:00:00</th>\n",
       "      <th>2017-12-30 19:30:00</th>\n",
       "      <th>2017-12-30 20:00:00</th>\n",
       "      <th>2017-12-30 20:30:00</th>\n",
       "      <th>2017-12-30 21:00:00</th>\n",
       "      <th>2017-12-30 21:30:00</th>\n",
       "      <th>2017-12-30 22:00:00</th>\n",
       "      <th>2017-12-30 22:30:00</th>\n",
       "      <th>2017-12-30 23:00:00</th>\n",
       "      <th>2017-12-30 23:30:00</th>\n",
       "      <th>2017-12-31 00:00:00</th>\n",
       "      <th>2017-12-31 00:30:00</th>\n",
       "      <th>2017-12-31 01:00:00</th>\n",
       "      <th>2017-12-31 01:30:00</th>\n",
       "      <th>2017-12-31 02:00:00</th>\n",
       "      <th>2017-12-31 02:30:00</th>\n",
       "      <th>2017-12-31 03:00:00</th>\n",
       "      <th>2017-12-31 03:30:00</th>\n",
       "      <th>2017-12-31 04:00:00</th>\n",
       "      <th>2017-12-31 04:30:00</th>\n",
       "      <th>2017-12-31 05:00:00</th>\n",
       "      <th>2017-12-31 05:30:00</th>\n",
       "      <th>2017-12-31 06:00:00</th>\n",
       "      <th>2017-12-31 06:30:00</th>\n",
       "      <th>2017-12-31 07:00:00</th>\n",
       "      <th>2017-12-31 07:30:00</th>\n",
       "      <th>2017-12-31 08:00:00</th>\n",
       "      <th>2017-12-31 08:30:00</th>\n",
       "      <th>2017-12-31 09:00:00</th>\n",
       "      <th>2017-12-31 09:30:00</th>\n",
       "      <th>2017-12-31 10:00:00</th>\n",
       "      <th>2017-12-31 10:30:00</th>\n",
       "      <th>2017-12-31 11:00:00</th>\n",
       "      <th>2017-12-31 11:30:00</th>\n",
       "      <th>2017-12-31 12:00:00</th>\n",
       "      <th>2017-12-31 12:30:00</th>\n",
       "      <th>2017-12-31 13:00:00</th>\n",
       "      <th>2017-12-31 13:30:00</th>\n",
       "      <th>2017-12-31 14:00:00</th>\n",
       "      <th>2017-12-31 14:30:00</th>\n",
       "      <th>2017-12-31 15:00:00</th>\n",
       "      <th>2017-12-31 15:30:00</th>\n",
       "      <th>2017-12-31 16:00:00</th>\n",
       "      <th>2017-12-31 16:30:00</th>\n",
       "      <th>2017-12-31 17:00:00</th>\n",
       "      <th>2017-12-31 17:30:00</th>\n",
       "      <th>2017-12-31 18:00:00</th>\n",
       "      <th>2017-12-31 18:30:00</th>\n",
       "      <th>2017-12-31 19:00:00</th>\n",
       "      <th>2017-12-31 19:30:00</th>\n",
       "      <th>2017-12-31 20:00:00</th>\n",
       "      <th>2017-12-31 20:30:00</th>\n",
       "      <th>2017-12-31 21:00:00</th>\n",
       "      <th>2017-12-31 21:30:00</th>\n",
       "      <th>2017-12-31 22:00:00</th>\n",
       "      <th>2017-12-31 22:30:00</th>\n",
       "      <th>2017-12-31 23:00:00</th>\n",
       "      <th>2017-12-31 23:30:00</th>\n",
       "    </tr>\n",
       "  </thead>\n",
       "  <tbody>\n",
       "    <tr>\n",
       "      <th>0</th>\n",
       "      <td>0xa62b9f23553ff183f61e2bf943aab3d5983d02d7</td>\n",
       "      <td>NaN</td>\n",
       "      <td>NaN</td>\n",
       "      <td>NaN</td>\n",
       "      <td>NaN</td>\n",
       "      <td>NaN</td>\n",
       "      <td>NaN</td>\n",
       "      <td>NaN</td>\n",
       "      <td>NaN</td>\n",
       "      <td>NaN</td>\n",
       "      <td>NaN</td>\n",
       "      <td>NaN</td>\n",
       "      <td>NaN</td>\n",
       "      <td>NaN</td>\n",
       "      <td>NaN</td>\n",
       "      <td>NaN</td>\n",
       "      <td>NaN</td>\n",
       "      <td>NaN</td>\n",
       "      <td>NaN</td>\n",
       "      <td>NaN</td>\n",
       "      <td>NaN</td>\n",
       "      <td>NaN</td>\n",
       "      <td>NaN</td>\n",
       "      <td>NaN</td>\n",
       "      <td>NaN</td>\n",
       "      <td>NaN</td>\n",
       "      <td>NaN</td>\n",
       "      <td>NaN</td>\n",
       "      <td>NaN</td>\n",
       "      <td>NaN</td>\n",
       "      <td>NaN</td>\n",
       "      <td>NaN</td>\n",
       "      <td>NaN</td>\n",
       "      <td>NaN</td>\n",
       "      <td>NaN</td>\n",
       "      <td>NaN</td>\n",
       "      <td>NaN</td>\n",
       "      <td>NaN</td>\n",
       "      <td>NaN</td>\n",
       "      <td>NaN</td>\n",
       "      <td>NaN</td>\n",
       "      <td>NaN</td>\n",
       "      <td>NaN</td>\n",
       "      <td>NaN</td>\n",
       "      <td>NaN</td>\n",
       "      <td>NaN</td>\n",
       "      <td>NaN</td>\n",
       "      <td>NaN</td>\n",
       "      <td>NaN</td>\n",
       "      <td>NaN</td>\n",
       "      <td>NaN</td>\n",
       "      <td>NaN</td>\n",
       "      <td>NaN</td>\n",
       "      <td>NaN</td>\n",
       "      <td>NaN</td>\n",
       "      <td>NaN</td>\n",
       "      <td>NaN</td>\n",
       "      <td>NaN</td>\n",
       "      <td>NaN</td>\n",
       "      <td>NaN</td>\n",
       "      <td>NaN</td>\n",
       "      <td>NaN</td>\n",
       "      <td>NaN</td>\n",
       "      <td>NaN</td>\n",
       "      <td>NaN</td>\n",
       "      <td>NaN</td>\n",
       "      <td>NaN</td>\n",
       "      <td>NaN</td>\n",
       "      <td>NaN</td>\n",
       "      <td>NaN</td>\n",
       "      <td>NaN</td>\n",
       "      <td>NaN</td>\n",
       "      <td>NaN</td>\n",
       "      <td>NaN</td>\n",
       "      <td>NaN</td>\n",
       "      <td>NaN</td>\n",
       "      <td>NaN</td>\n",
       "      <td>NaN</td>\n",
       "      <td>NaN</td>\n",
       "      <td>NaN</td>\n",
       "      <td>NaN</td>\n",
       "      <td>NaN</td>\n",
       "      <td>NaN</td>\n",
       "      <td>NaN</td>\n",
       "      <td>NaN</td>\n",
       "      <td>NaN</td>\n",
       "      <td>NaN</td>\n",
       "      <td>NaN</td>\n",
       "      <td>NaN</td>\n",
       "      <td>NaN</td>\n",
       "      <td>NaN</td>\n",
       "      <td>NaN</td>\n",
       "      <td>NaN</td>\n",
       "      <td>NaN</td>\n",
       "      <td>NaN</td>\n",
       "      <td>NaN</td>\n",
       "      <td>NaN</td>\n",
       "      <td>NaN</td>\n",
       "      <td>NaN</td>\n",
       "      <td>NaN</td>\n",
       "      <td>NaN</td>\n",
       "      <td>NaN</td>\n",
       "      <td>NaN</td>\n",
       "      <td>NaN</td>\n",
       "      <td>NaN</td>\n",
       "      <td>NaN</td>\n",
       "      <td>NaN</td>\n",
       "      <td>NaN</td>\n",
       "      <td>NaN</td>\n",
       "      <td>NaN</td>\n",
       "      <td>NaN</td>\n",
       "      <td>NaN</td>\n",
       "      <td>NaN</td>\n",
       "      <td>NaN</td>\n",
       "      <td>NaN</td>\n",
       "      <td>NaN</td>\n",
       "      <td>NaN</td>\n",
       "      <td>NaN</td>\n",
       "      <td>NaN</td>\n",
       "      <td>NaN</td>\n",
       "      <td>NaN</td>\n",
       "      <td>NaN</td>\n",
       "      <td>NaN</td>\n",
       "      <td>NaN</td>\n",
       "      <td>NaN</td>\n",
       "      <td>NaN</td>\n",
       "      <td>NaN</td>\n",
       "      <td>NaN</td>\n",
       "      <td>NaN</td>\n",
       "      <td>NaN</td>\n",
       "      <td>NaN</td>\n",
       "      <td>NaN</td>\n",
       "      <td>NaN</td>\n",
       "      <td>NaN</td>\n",
       "      <td>NaN</td>\n",
       "      <td>NaN</td>\n",
       "      <td>NaN</td>\n",
       "      <td>NaN</td>\n",
       "      <td>NaN</td>\n",
       "      <td>NaN</td>\n",
       "      <td>NaN</td>\n",
       "      <td>NaN</td>\n",
       "      <td>NaN</td>\n",
       "      <td>NaN</td>\n",
       "      <td>NaN</td>\n",
       "      <td>NaN</td>\n",
       "      <td>NaN</td>\n",
       "      <td>NaN</td>\n",
       "      <td>NaN</td>\n",
       "      <td>NaN</td>\n",
       "      <td>NaN</td>\n",
       "      <td>NaN</td>\n",
       "      <td>NaN</td>\n",
       "      <td>NaN</td>\n",
       "      <td>NaN</td>\n",
       "      <td>NaN</td>\n",
       "      <td>NaN</td>\n",
       "      <td>NaN</td>\n",
       "      <td>NaN</td>\n",
       "      <td>NaN</td>\n",
       "      <td>NaN</td>\n",
       "      <td>NaN</td>\n",
       "      <td>NaN</td>\n",
       "      <td>NaN</td>\n",
       "      <td>NaN</td>\n",
       "      <td>NaN</td>\n",
       "      <td>NaN</td>\n",
       "      <td>NaN</td>\n",
       "      <td>NaN</td>\n",
       "      <td>NaN</td>\n",
       "      <td>NaN</td>\n",
       "      <td>NaN</td>\n",
       "      <td>NaN</td>\n",
       "      <td>NaN</td>\n",
       "      <td>NaN</td>\n",
       "      <td>NaN</td>\n",
       "      <td>NaN</td>\n",
       "      <td>NaN</td>\n",
       "      <td>NaN</td>\n",
       "      <td>NaN</td>\n",
       "      <td>NaN</td>\n",
       "      <td>NaN</td>\n",
       "      <td>NaN</td>\n",
       "      <td>NaN</td>\n",
       "      <td>NaN</td>\n",
       "      <td>NaN</td>\n",
       "      <td>NaN</td>\n",
       "      <td>NaN</td>\n",
       "      <td>NaN</td>\n",
       "      <td>NaN</td>\n",
       "      <td>NaN</td>\n",
       "      <td>NaN</td>\n",
       "      <td>NaN</td>\n",
       "      <td>NaN</td>\n",
       "      <td>NaN</td>\n",
       "      <td>NaN</td>\n",
       "      <td>NaN</td>\n",
       "      <td>NaN</td>\n",
       "      <td>NaN</td>\n",
       "      <td>NaN</td>\n",
       "      <td>NaN</td>\n",
       "      <td>NaN</td>\n",
       "      <td>NaN</td>\n",
       "      <td>NaN</td>\n",
       "      <td>NaN</td>\n",
       "      <td>NaN</td>\n",
       "      <td>NaN</td>\n",
       "      <td>NaN</td>\n",
       "      <td>NaN</td>\n",
       "      <td>NaN</td>\n",
       "      <td>NaN</td>\n",
       "      <td>NaN</td>\n",
       "      <td>NaN</td>\n",
       "      <td>NaN</td>\n",
       "      <td>NaN</td>\n",
       "      <td>NaN</td>\n",
       "      <td>NaN</td>\n",
       "      <td>NaN</td>\n",
       "      <td>NaN</td>\n",
       "      <td>NaN</td>\n",
       "      <td>NaN</td>\n",
       "      <td>NaN</td>\n",
       "      <td>NaN</td>\n",
       "      <td>NaN</td>\n",
       "      <td>NaN</td>\n",
       "      <td>NaN</td>\n",
       "      <td>NaN</td>\n",
       "      <td>NaN</td>\n",
       "      <td>NaN</td>\n",
       "      <td>NaN</td>\n",
       "      <td>NaN</td>\n",
       "      <td>NaN</td>\n",
       "      <td>NaN</td>\n",
       "      <td>NaN</td>\n",
       "      <td>NaN</td>\n",
       "      <td>NaN</td>\n",
       "      <td>NaN</td>\n",
       "      <td>NaN</td>\n",
       "      <td>NaN</td>\n",
       "      <td>NaN</td>\n",
       "      <td>NaN</td>\n",
       "      <td>NaN</td>\n",
       "      <td>NaN</td>\n",
       "      <td>NaN</td>\n",
       "      <td>NaN</td>\n",
       "      <td>NaN</td>\n",
       "      <td>NaN</td>\n",
       "      <td>NaN</td>\n",
       "      <td>NaN</td>\n",
       "      <td>NaN</td>\n",
       "      <td>...</td>\n",
       "      <td>0.078</td>\n",
       "      <td>0.054</td>\n",
       "      <td>0.051</td>\n",
       "      <td>0.041</td>\n",
       "      <td>0.103</td>\n",
       "      <td>0.122</td>\n",
       "      <td>0.090</td>\n",
       "      <td>0.061</td>\n",
       "      <td>0.030</td>\n",
       "      <td>0.032</td>\n",
       "      <td>NaN</td>\n",
       "      <td>NaN</td>\n",
       "      <td>NaN</td>\n",
       "      <td>NaN</td>\n",
       "      <td>NaN</td>\n",
       "      <td>NaN</td>\n",
       "      <td>NaN</td>\n",
       "      <td>NaN</td>\n",
       "      <td>NaN</td>\n",
       "      <td>NaN</td>\n",
       "      <td>NaN</td>\n",
       "      <td>NaN</td>\n",
       "      <td>NaN</td>\n",
       "      <td>NaN</td>\n",
       "      <td>NaN</td>\n",
       "      <td>NaN</td>\n",
       "      <td>NaN</td>\n",
       "      <td>NaN</td>\n",
       "      <td>NaN</td>\n",
       "      <td>NaN</td>\n",
       "      <td>NaN</td>\n",
       "      <td>NaN</td>\n",
       "      <td>NaN</td>\n",
       "      <td>NaN</td>\n",
       "      <td>NaN</td>\n",
       "      <td>NaN</td>\n",
       "      <td>NaN</td>\n",
       "      <td>NaN</td>\n",
       "      <td>NaN</td>\n",
       "      <td>NaN</td>\n",
       "      <td>NaN</td>\n",
       "      <td>NaN</td>\n",
       "      <td>NaN</td>\n",
       "      <td>NaN</td>\n",
       "      <td>NaN</td>\n",
       "      <td>NaN</td>\n",
       "      <td>NaN</td>\n",
       "      <td>NaN</td>\n",
       "      <td>NaN</td>\n",
       "      <td>NaN</td>\n",
       "      <td>NaN</td>\n",
       "      <td>NaN</td>\n",
       "      <td>NaN</td>\n",
       "      <td>NaN</td>\n",
       "      <td>NaN</td>\n",
       "      <td>NaN</td>\n",
       "      <td>NaN</td>\n",
       "      <td>NaN</td>\n",
       "      <td>0.017</td>\n",
       "      <td>0.064</td>\n",
       "      <td>0.056</td>\n",
       "      <td>0.034</td>\n",
       "      <td>0.018</td>\n",
       "      <td>0.016</td>\n",
       "      <td>0.025</td>\n",
       "      <td>0.064</td>\n",
       "      <td>0.059</td>\n",
       "      <td>0.025</td>\n",
       "      <td>0.020</td>\n",
       "      <td>0.017</td>\n",
       "      <td>0.021</td>\n",
       "      <td>0.063</td>\n",
       "      <td>0.056</td>\n",
       "      <td>0.023</td>\n",
       "      <td>0.061</td>\n",
       "      <td>0.058</td>\n",
       "      <td>0.070</td>\n",
       "      <td>0.491</td>\n",
       "      <td>0.128</td>\n",
       "      <td>0.108</td>\n",
       "      <td>0.081</td>\n",
       "      <td>0.071</td>\n",
       "      <td>0.177</td>\n",
       "      <td>0.137</td>\n",
       "      <td>0.131</td>\n",
       "      <td>0.180</td>\n",
       "      <td>0.125</td>\n",
       "      <td>0.135</td>\n",
       "      <td>0.143</td>\n",
       "      <td>0.101</td>\n",
       "      <td>0.391</td>\n",
       "      <td>0.261</td>\n",
       "      <td>0.141</td>\n",
       "      <td>0.087</td>\n",
       "      <td>0.066</td>\n",
       "      <td>0.055</td>\n",
       "      <td>0.055</td>\n",
       "      <td>0.091</td>\n",
       "      <td>0.096</td>\n",
       "      <td>0.096</td>\n",
       "      <td>0.063</td>\n",
       "      <td>0.055</td>\n",
       "      <td>0.059</td>\n",
       "      <td>0.088</td>\n",
       "      <td>0.069</td>\n",
       "      <td>0.055</td>\n",
       "      <td>NaN</td>\n",
       "      <td>NaN</td>\n",
       "      <td>NaN</td>\n",
       "      <td>NaN</td>\n",
       "      <td>NaN</td>\n",
       "      <td>NaN</td>\n",
       "      <td>NaN</td>\n",
       "      <td>NaN</td>\n",
       "      <td>NaN</td>\n",
       "      <td>NaN</td>\n",
       "      <td>NaN</td>\n",
       "      <td>NaN</td>\n",
       "      <td>NaN</td>\n",
       "      <td>NaN</td>\n",
       "      <td>NaN</td>\n",
       "      <td>NaN</td>\n",
       "      <td>NaN</td>\n",
       "      <td>NaN</td>\n",
       "      <td>NaN</td>\n",
       "      <td>NaN</td>\n",
       "      <td>NaN</td>\n",
       "      <td>NaN</td>\n",
       "      <td>NaN</td>\n",
       "      <td>NaN</td>\n",
       "      <td>NaN</td>\n",
       "      <td>NaN</td>\n",
       "      <td>NaN</td>\n",
       "      <td>NaN</td>\n",
       "      <td>NaN</td>\n",
       "      <td>NaN</td>\n",
       "      <td>NaN</td>\n",
       "      <td>NaN</td>\n",
       "      <td>NaN</td>\n",
       "      <td>NaN</td>\n",
       "      <td>NaN</td>\n",
       "      <td>NaN</td>\n",
       "      <td>NaN</td>\n",
       "      <td>NaN</td>\n",
       "      <td>NaN</td>\n",
       "      <td>NaN</td>\n",
       "      <td>NaN</td>\n",
       "      <td>NaN</td>\n",
       "      <td>NaN</td>\n",
       "      <td>NaN</td>\n",
       "      <td>NaN</td>\n",
       "      <td>NaN</td>\n",
       "      <td>NaN</td>\n",
       "      <td>NaN</td>\n",
       "      <td>0.058</td>\n",
       "      <td>0.057</td>\n",
       "      <td>0.055</td>\n",
       "      <td>0.015</td>\n",
       "      <td>0.017</td>\n",
       "      <td>0.015</td>\n",
       "      <td>0.041</td>\n",
       "      <td>0.061</td>\n",
       "      <td>0.058</td>\n",
       "      <td>0.026</td>\n",
       "      <td>0.020</td>\n",
       "      <td>0.017</td>\n",
       "      <td>0.022</td>\n",
       "      <td>0.060</td>\n",
       "      <td>0.057</td>\n",
       "      <td>0.068</td>\n",
       "      <td>0.227</td>\n",
       "      <td>0.096</td>\n",
       "      <td>0.108</td>\n",
       "      <td>0.131</td>\n",
       "      <td>0.125</td>\n",
       "      <td>0.112</td>\n",
       "      <td>0.188</td>\n",
       "      <td>0.096</td>\n",
       "      <td>0.106</td>\n",
       "      <td>0.403</td>\n",
       "      <td>0.098</td>\n",
       "      <td>0.096</td>\n",
       "      <td>0.071</td>\n",
       "      <td>0.170</td>\n",
       "      <td>0.085</td>\n",
       "      <td>0.121</td>\n",
       "      <td>0.127</td>\n",
       "      <td>0.186</td>\n",
       "      <td>0.177</td>\n",
       "      <td>0.117</td>\n",
       "      <td>0.084</td>\n",
       "      <td>0.437</td>\n",
       "      <td>0.126</td>\n",
       "      <td>0.153</td>\n",
       "      <td>0.206</td>\n",
       "      <td>0.122</td>\n",
       "      <td>0.112</td>\n",
       "      <td>0.061</td>\n",
       "      <td>0.036</td>\n",
       "      <td>0.145</td>\n",
       "      <td>0.090</td>\n",
       "      <td>0.070</td>\n",
       "      <td>0.051</td>\n",
       "      <td>0.016</td>\n",
       "      <td>0.016</td>\n",
       "      <td>0.022</td>\n",
       "      <td>0.062</td>\n",
       "      <td>0.057</td>\n",
       "      <td>0.050</td>\n",
       "      <td>0.019</td>\n",
       "      <td>0.017</td>\n",
       "      <td>0.018</td>\n",
       "      <td>0.057</td>\n",
       "      <td>0.059</td>\n",
       "      <td>0.055</td>\n",
       "      <td>0.017</td>\n",
       "      <td>0.015</td>\n",
       "      <td>0.015</td>\n",
       "      <td>0.096</td>\n",
       "      <td>0.208</td>\n",
       "      <td>0.150</td>\n",
       "      <td>0.132</td>\n",
       "      <td>0.344</td>\n",
       "      <td>0.394</td>\n",
       "      <td>0.255</td>\n",
       "      <td>0.126</td>\n",
       "      <td>0.094</td>\n",
       "      <td>0.070</td>\n",
       "      <td>0.064</td>\n",
       "      <td>0.075</td>\n",
       "      <td>0.063</td>\n",
       "      <td>0.078</td>\n",
       "      <td>0.804</td>\n",
       "      <td>0.183</td>\n",
       "      <td>0.149</td>\n",
       "      <td>0.238</td>\n",
       "      <td>0.351</td>\n",
       "      <td>0.108</td>\n",
       "      <td>0.077</td>\n",
       "      <td>0.059</td>\n",
       "      <td>0.052</td>\n",
       "      <td>0.091</td>\n",
       "      <td>0.083</td>\n",
       "      <td>0.082</td>\n",
       "      <td>0.090</td>\n",
       "      <td>0.074</td>\n",
       "      <td>0.092</td>\n",
       "      <td>0.076</td>\n",
       "      <td>0.055</td>\n",
       "      <td>0.036</td>\n",
       "    </tr>\n",
       "    <tr>\n",
       "      <th>1</th>\n",
       "      <td>0x459c834d1f6cfb5b734b82aa9f5410fa97fb70da</td>\n",
       "      <td>NaN</td>\n",
       "      <td>NaN</td>\n",
       "      <td>NaN</td>\n",
       "      <td>NaN</td>\n",
       "      <td>NaN</td>\n",
       "      <td>NaN</td>\n",
       "      <td>NaN</td>\n",
       "      <td>NaN</td>\n",
       "      <td>NaN</td>\n",
       "      <td>NaN</td>\n",
       "      <td>NaN</td>\n",
       "      <td>NaN</td>\n",
       "      <td>NaN</td>\n",
       "      <td>NaN</td>\n",
       "      <td>NaN</td>\n",
       "      <td>NaN</td>\n",
       "      <td>NaN</td>\n",
       "      <td>NaN</td>\n",
       "      <td>NaN</td>\n",
       "      <td>NaN</td>\n",
       "      <td>NaN</td>\n",
       "      <td>NaN</td>\n",
       "      <td>NaN</td>\n",
       "      <td>NaN</td>\n",
       "      <td>NaN</td>\n",
       "      <td>NaN</td>\n",
       "      <td>NaN</td>\n",
       "      <td>NaN</td>\n",
       "      <td>NaN</td>\n",
       "      <td>NaN</td>\n",
       "      <td>NaN</td>\n",
       "      <td>NaN</td>\n",
       "      <td>NaN</td>\n",
       "      <td>NaN</td>\n",
       "      <td>NaN</td>\n",
       "      <td>NaN</td>\n",
       "      <td>NaN</td>\n",
       "      <td>NaN</td>\n",
       "      <td>NaN</td>\n",
       "      <td>NaN</td>\n",
       "      <td>NaN</td>\n",
       "      <td>NaN</td>\n",
       "      <td>NaN</td>\n",
       "      <td>NaN</td>\n",
       "      <td>NaN</td>\n",
       "      <td>NaN</td>\n",
       "      <td>NaN</td>\n",
       "      <td>NaN</td>\n",
       "      <td>NaN</td>\n",
       "      <td>NaN</td>\n",
       "      <td>NaN</td>\n",
       "      <td>NaN</td>\n",
       "      <td>NaN</td>\n",
       "      <td>NaN</td>\n",
       "      <td>NaN</td>\n",
       "      <td>NaN</td>\n",
       "      <td>NaN</td>\n",
       "      <td>NaN</td>\n",
       "      <td>NaN</td>\n",
       "      <td>NaN</td>\n",
       "      <td>NaN</td>\n",
       "      <td>NaN</td>\n",
       "      <td>NaN</td>\n",
       "      <td>NaN</td>\n",
       "      <td>NaN</td>\n",
       "      <td>NaN</td>\n",
       "      <td>NaN</td>\n",
       "      <td>NaN</td>\n",
       "      <td>NaN</td>\n",
       "      <td>NaN</td>\n",
       "      <td>NaN</td>\n",
       "      <td>NaN</td>\n",
       "      <td>NaN</td>\n",
       "      <td>NaN</td>\n",
       "      <td>NaN</td>\n",
       "      <td>NaN</td>\n",
       "      <td>NaN</td>\n",
       "      <td>NaN</td>\n",
       "      <td>NaN</td>\n",
       "      <td>NaN</td>\n",
       "      <td>NaN</td>\n",
       "      <td>NaN</td>\n",
       "      <td>NaN</td>\n",
       "      <td>NaN</td>\n",
       "      <td>NaN</td>\n",
       "      <td>NaN</td>\n",
       "      <td>NaN</td>\n",
       "      <td>NaN</td>\n",
       "      <td>NaN</td>\n",
       "      <td>NaN</td>\n",
       "      <td>NaN</td>\n",
       "      <td>NaN</td>\n",
       "      <td>NaN</td>\n",
       "      <td>NaN</td>\n",
       "      <td>NaN</td>\n",
       "      <td>NaN</td>\n",
       "      <td>NaN</td>\n",
       "      <td>NaN</td>\n",
       "      <td>NaN</td>\n",
       "      <td>NaN</td>\n",
       "      <td>NaN</td>\n",
       "      <td>NaN</td>\n",
       "      <td>NaN</td>\n",
       "      <td>NaN</td>\n",
       "      <td>NaN</td>\n",
       "      <td>NaN</td>\n",
       "      <td>NaN</td>\n",
       "      <td>NaN</td>\n",
       "      <td>NaN</td>\n",
       "      <td>NaN</td>\n",
       "      <td>NaN</td>\n",
       "      <td>NaN</td>\n",
       "      <td>NaN</td>\n",
       "      <td>NaN</td>\n",
       "      <td>NaN</td>\n",
       "      <td>NaN</td>\n",
       "      <td>NaN</td>\n",
       "      <td>NaN</td>\n",
       "      <td>NaN</td>\n",
       "      <td>NaN</td>\n",
       "      <td>NaN</td>\n",
       "      <td>NaN</td>\n",
       "      <td>NaN</td>\n",
       "      <td>NaN</td>\n",
       "      <td>NaN</td>\n",
       "      <td>NaN</td>\n",
       "      <td>NaN</td>\n",
       "      <td>NaN</td>\n",
       "      <td>NaN</td>\n",
       "      <td>NaN</td>\n",
       "      <td>NaN</td>\n",
       "      <td>NaN</td>\n",
       "      <td>NaN</td>\n",
       "      <td>NaN</td>\n",
       "      <td>NaN</td>\n",
       "      <td>NaN</td>\n",
       "      <td>NaN</td>\n",
       "      <td>NaN</td>\n",
       "      <td>NaN</td>\n",
       "      <td>NaN</td>\n",
       "      <td>NaN</td>\n",
       "      <td>NaN</td>\n",
       "      <td>NaN</td>\n",
       "      <td>NaN</td>\n",
       "      <td>NaN</td>\n",
       "      <td>NaN</td>\n",
       "      <td>NaN</td>\n",
       "      <td>NaN</td>\n",
       "      <td>NaN</td>\n",
       "      <td>NaN</td>\n",
       "      <td>NaN</td>\n",
       "      <td>NaN</td>\n",
       "      <td>NaN</td>\n",
       "      <td>NaN</td>\n",
       "      <td>NaN</td>\n",
       "      <td>NaN</td>\n",
       "      <td>NaN</td>\n",
       "      <td>NaN</td>\n",
       "      <td>NaN</td>\n",
       "      <td>NaN</td>\n",
       "      <td>NaN</td>\n",
       "      <td>NaN</td>\n",
       "      <td>NaN</td>\n",
       "      <td>NaN</td>\n",
       "      <td>NaN</td>\n",
       "      <td>NaN</td>\n",
       "      <td>NaN</td>\n",
       "      <td>NaN</td>\n",
       "      <td>NaN</td>\n",
       "      <td>NaN</td>\n",
       "      <td>NaN</td>\n",
       "      <td>NaN</td>\n",
       "      <td>NaN</td>\n",
       "      <td>NaN</td>\n",
       "      <td>NaN</td>\n",
       "      <td>NaN</td>\n",
       "      <td>NaN</td>\n",
       "      <td>NaN</td>\n",
       "      <td>NaN</td>\n",
       "      <td>NaN</td>\n",
       "      <td>NaN</td>\n",
       "      <td>NaN</td>\n",
       "      <td>NaN</td>\n",
       "      <td>NaN</td>\n",
       "      <td>NaN</td>\n",
       "      <td>NaN</td>\n",
       "      <td>NaN</td>\n",
       "      <td>NaN</td>\n",
       "      <td>NaN</td>\n",
       "      <td>NaN</td>\n",
       "      <td>NaN</td>\n",
       "      <td>NaN</td>\n",
       "      <td>NaN</td>\n",
       "      <td>NaN</td>\n",
       "      <td>NaN</td>\n",
       "      <td>NaN</td>\n",
       "      <td>NaN</td>\n",
       "      <td>NaN</td>\n",
       "      <td>NaN</td>\n",
       "      <td>NaN</td>\n",
       "      <td>NaN</td>\n",
       "      <td>NaN</td>\n",
       "      <td>NaN</td>\n",
       "      <td>NaN</td>\n",
       "      <td>NaN</td>\n",
       "      <td>NaN</td>\n",
       "      <td>NaN</td>\n",
       "      <td>NaN</td>\n",
       "      <td>NaN</td>\n",
       "      <td>NaN</td>\n",
       "      <td>NaN</td>\n",
       "      <td>NaN</td>\n",
       "      <td>NaN</td>\n",
       "      <td>NaN</td>\n",
       "      <td>NaN</td>\n",
       "      <td>NaN</td>\n",
       "      <td>NaN</td>\n",
       "      <td>NaN</td>\n",
       "      <td>NaN</td>\n",
       "      <td>NaN</td>\n",
       "      <td>NaN</td>\n",
       "      <td>NaN</td>\n",
       "      <td>NaN</td>\n",
       "      <td>NaN</td>\n",
       "      <td>NaN</td>\n",
       "      <td>NaN</td>\n",
       "      <td>NaN</td>\n",
       "      <td>NaN</td>\n",
       "      <td>NaN</td>\n",
       "      <td>NaN</td>\n",
       "      <td>NaN</td>\n",
       "      <td>NaN</td>\n",
       "      <td>NaN</td>\n",
       "      <td>NaN</td>\n",
       "      <td>NaN</td>\n",
       "      <td>NaN</td>\n",
       "      <td>NaN</td>\n",
       "      <td>NaN</td>\n",
       "      <td>NaN</td>\n",
       "      <td>NaN</td>\n",
       "      <td>NaN</td>\n",
       "      <td>NaN</td>\n",
       "      <td>NaN</td>\n",
       "      <td>NaN</td>\n",
       "      <td>NaN</td>\n",
       "      <td>NaN</td>\n",
       "      <td>NaN</td>\n",
       "      <td>NaN</td>\n",
       "      <td>NaN</td>\n",
       "      <td>...</td>\n",
       "      <td>0.293</td>\n",
       "      <td>0.530</td>\n",
       "      <td>0.704</td>\n",
       "      <td>0.754</td>\n",
       "      <td>1.018</td>\n",
       "      <td>0.448</td>\n",
       "      <td>0.094</td>\n",
       "      <td>0.208</td>\n",
       "      <td>0.156</td>\n",
       "      <td>0.087</td>\n",
       "      <td>NaN</td>\n",
       "      <td>NaN</td>\n",
       "      <td>NaN</td>\n",
       "      <td>NaN</td>\n",
       "      <td>NaN</td>\n",
       "      <td>NaN</td>\n",
       "      <td>NaN</td>\n",
       "      <td>NaN</td>\n",
       "      <td>NaN</td>\n",
       "      <td>NaN</td>\n",
       "      <td>NaN</td>\n",
       "      <td>NaN</td>\n",
       "      <td>NaN</td>\n",
       "      <td>NaN</td>\n",
       "      <td>NaN</td>\n",
       "      <td>NaN</td>\n",
       "      <td>NaN</td>\n",
       "      <td>NaN</td>\n",
       "      <td>NaN</td>\n",
       "      <td>NaN</td>\n",
       "      <td>NaN</td>\n",
       "      <td>NaN</td>\n",
       "      <td>NaN</td>\n",
       "      <td>NaN</td>\n",
       "      <td>NaN</td>\n",
       "      <td>NaN</td>\n",
       "      <td>NaN</td>\n",
       "      <td>NaN</td>\n",
       "      <td>NaN</td>\n",
       "      <td>NaN</td>\n",
       "      <td>NaN</td>\n",
       "      <td>NaN</td>\n",
       "      <td>NaN</td>\n",
       "      <td>NaN</td>\n",
       "      <td>NaN</td>\n",
       "      <td>NaN</td>\n",
       "      <td>NaN</td>\n",
       "      <td>NaN</td>\n",
       "      <td>NaN</td>\n",
       "      <td>NaN</td>\n",
       "      <td>NaN</td>\n",
       "      <td>NaN</td>\n",
       "      <td>NaN</td>\n",
       "      <td>NaN</td>\n",
       "      <td>NaN</td>\n",
       "      <td>NaN</td>\n",
       "      <td>NaN</td>\n",
       "      <td>NaN</td>\n",
       "      <td>0.082</td>\n",
       "      <td>0.057</td>\n",
       "      <td>0.046</td>\n",
       "      <td>0.049</td>\n",
       "      <td>0.048</td>\n",
       "      <td>0.078</td>\n",
       "      <td>0.112</td>\n",
       "      <td>0.188</td>\n",
       "      <td>0.257</td>\n",
       "      <td>0.361</td>\n",
       "      <td>0.553</td>\n",
       "      <td>0.876</td>\n",
       "      <td>1.067</td>\n",
       "      <td>0.546</td>\n",
       "      <td>0.047</td>\n",
       "      <td>0.041</td>\n",
       "      <td>1.228</td>\n",
       "      <td>0.752</td>\n",
       "      <td>0.693</td>\n",
       "      <td>0.715</td>\n",
       "      <td>0.338</td>\n",
       "      <td>0.454</td>\n",
       "      <td>0.441</td>\n",
       "      <td>0.362</td>\n",
       "      <td>0.356</td>\n",
       "      <td>0.413</td>\n",
       "      <td>0.375</td>\n",
       "      <td>0.345</td>\n",
       "      <td>0.336</td>\n",
       "      <td>0.406</td>\n",
       "      <td>0.379</td>\n",
       "      <td>0.416</td>\n",
       "      <td>0.790</td>\n",
       "      <td>1.324</td>\n",
       "      <td>1.123</td>\n",
       "      <td>1.091</td>\n",
       "      <td>0.994</td>\n",
       "      <td>0.965</td>\n",
       "      <td>0.976</td>\n",
       "      <td>0.985</td>\n",
       "      <td>1.021</td>\n",
       "      <td>0.872</td>\n",
       "      <td>0.875</td>\n",
       "      <td>0.619</td>\n",
       "      <td>0.124</td>\n",
       "      <td>0.257</td>\n",
       "      <td>0.132</td>\n",
       "      <td>0.053</td>\n",
       "      <td>NaN</td>\n",
       "      <td>NaN</td>\n",
       "      <td>NaN</td>\n",
       "      <td>NaN</td>\n",
       "      <td>NaN</td>\n",
       "      <td>NaN</td>\n",
       "      <td>NaN</td>\n",
       "      <td>NaN</td>\n",
       "      <td>NaN</td>\n",
       "      <td>NaN</td>\n",
       "      <td>NaN</td>\n",
       "      <td>NaN</td>\n",
       "      <td>NaN</td>\n",
       "      <td>NaN</td>\n",
       "      <td>NaN</td>\n",
       "      <td>NaN</td>\n",
       "      <td>NaN</td>\n",
       "      <td>NaN</td>\n",
       "      <td>NaN</td>\n",
       "      <td>NaN</td>\n",
       "      <td>NaN</td>\n",
       "      <td>NaN</td>\n",
       "      <td>NaN</td>\n",
       "      <td>NaN</td>\n",
       "      <td>NaN</td>\n",
       "      <td>NaN</td>\n",
       "      <td>NaN</td>\n",
       "      <td>NaN</td>\n",
       "      <td>NaN</td>\n",
       "      <td>NaN</td>\n",
       "      <td>NaN</td>\n",
       "      <td>NaN</td>\n",
       "      <td>NaN</td>\n",
       "      <td>NaN</td>\n",
       "      <td>NaN</td>\n",
       "      <td>NaN</td>\n",
       "      <td>NaN</td>\n",
       "      <td>NaN</td>\n",
       "      <td>NaN</td>\n",
       "      <td>NaN</td>\n",
       "      <td>NaN</td>\n",
       "      <td>NaN</td>\n",
       "      <td>NaN</td>\n",
       "      <td>NaN</td>\n",
       "      <td>NaN</td>\n",
       "      <td>NaN</td>\n",
       "      <td>NaN</td>\n",
       "      <td>NaN</td>\n",
       "      <td>0.083</td>\n",
       "      <td>0.069</td>\n",
       "      <td>0.047</td>\n",
       "      <td>0.049</td>\n",
       "      <td>0.044</td>\n",
       "      <td>0.061</td>\n",
       "      <td>0.074</td>\n",
       "      <td>0.073</td>\n",
       "      <td>0.039</td>\n",
       "      <td>0.039</td>\n",
       "      <td>0.037</td>\n",
       "      <td>0.041</td>\n",
       "      <td>0.344</td>\n",
       "      <td>0.755</td>\n",
       "      <td>0.831</td>\n",
       "      <td>0.385</td>\n",
       "      <td>0.336</td>\n",
       "      <td>0.374</td>\n",
       "      <td>0.400</td>\n",
       "      <td>0.381</td>\n",
       "      <td>0.414</td>\n",
       "      <td>0.036</td>\n",
       "      <td>0.039</td>\n",
       "      <td>0.034</td>\n",
       "      <td>0.046</td>\n",
       "      <td>0.082</td>\n",
       "      <td>0.107</td>\n",
       "      <td>0.128</td>\n",
       "      <td>0.185</td>\n",
       "      <td>0.262</td>\n",
       "      <td>0.333</td>\n",
       "      <td>0.314</td>\n",
       "      <td>0.348</td>\n",
       "      <td>0.790</td>\n",
       "      <td>0.781</td>\n",
       "      <td>0.961</td>\n",
       "      <td>0.830</td>\n",
       "      <td>0.793</td>\n",
       "      <td>0.688</td>\n",
       "      <td>0.774</td>\n",
       "      <td>0.664</td>\n",
       "      <td>0.801</td>\n",
       "      <td>0.628</td>\n",
       "      <td>0.369</td>\n",
       "      <td>0.089</td>\n",
       "      <td>0.088</td>\n",
       "      <td>0.072</td>\n",
       "      <td>0.049</td>\n",
       "      <td>0.048</td>\n",
       "      <td>0.048</td>\n",
       "      <td>0.079</td>\n",
       "      <td>0.085</td>\n",
       "      <td>0.079</td>\n",
       "      <td>0.046</td>\n",
       "      <td>0.037</td>\n",
       "      <td>0.037</td>\n",
       "      <td>0.048</td>\n",
       "      <td>0.077</td>\n",
       "      <td>0.073</td>\n",
       "      <td>0.065</td>\n",
       "      <td>0.282</td>\n",
       "      <td>0.396</td>\n",
       "      <td>0.321</td>\n",
       "      <td>0.672</td>\n",
       "      <td>0.187</td>\n",
       "      <td>0.200</td>\n",
       "      <td>0.189</td>\n",
       "      <td>0.205</td>\n",
       "      <td>0.264</td>\n",
       "      <td>0.273</td>\n",
       "      <td>0.309</td>\n",
       "      <td>0.212</td>\n",
       "      <td>0.170</td>\n",
       "      <td>0.078</td>\n",
       "      <td>0.092</td>\n",
       "      <td>0.102</td>\n",
       "      <td>0.253</td>\n",
       "      <td>0.383</td>\n",
       "      <td>0.068</td>\n",
       "      <td>0.077</td>\n",
       "      <td>0.085</td>\n",
       "      <td>0.594</td>\n",
       "      <td>0.413</td>\n",
       "      <td>0.277</td>\n",
       "      <td>0.315</td>\n",
       "      <td>0.691</td>\n",
       "      <td>0.402</td>\n",
       "      <td>0.639</td>\n",
       "      <td>0.537</td>\n",
       "      <td>0.834</td>\n",
       "      <td>0.868</td>\n",
       "      <td>0.394</td>\n",
       "      <td>0.073</td>\n",
       "      <td>0.077</td>\n",
       "      <td>0.049</td>\n",
       "      <td>0.048</td>\n",
       "    </tr>\n",
       "    <tr>\n",
       "      <th>2</th>\n",
       "      <td>0x4a1ed36825360a058cec2bdd409fc2459e1ce54f</td>\n",
       "      <td>NaN</td>\n",
       "      <td>NaN</td>\n",
       "      <td>NaN</td>\n",
       "      <td>NaN</td>\n",
       "      <td>NaN</td>\n",
       "      <td>NaN</td>\n",
       "      <td>NaN</td>\n",
       "      <td>NaN</td>\n",
       "      <td>NaN</td>\n",
       "      <td>NaN</td>\n",
       "      <td>NaN</td>\n",
       "      <td>NaN</td>\n",
       "      <td>NaN</td>\n",
       "      <td>NaN</td>\n",
       "      <td>NaN</td>\n",
       "      <td>NaN</td>\n",
       "      <td>NaN</td>\n",
       "      <td>NaN</td>\n",
       "      <td>NaN</td>\n",
       "      <td>NaN</td>\n",
       "      <td>NaN</td>\n",
       "      <td>NaN</td>\n",
       "      <td>NaN</td>\n",
       "      <td>NaN</td>\n",
       "      <td>NaN</td>\n",
       "      <td>NaN</td>\n",
       "      <td>NaN</td>\n",
       "      <td>NaN</td>\n",
       "      <td>NaN</td>\n",
       "      <td>NaN</td>\n",
       "      <td>NaN</td>\n",
       "      <td>NaN</td>\n",
       "      <td>NaN</td>\n",
       "      <td>NaN</td>\n",
       "      <td>NaN</td>\n",
       "      <td>NaN</td>\n",
       "      <td>NaN</td>\n",
       "      <td>NaN</td>\n",
       "      <td>NaN</td>\n",
       "      <td>NaN</td>\n",
       "      <td>NaN</td>\n",
       "      <td>NaN</td>\n",
       "      <td>NaN</td>\n",
       "      <td>NaN</td>\n",
       "      <td>NaN</td>\n",
       "      <td>NaN</td>\n",
       "      <td>NaN</td>\n",
       "      <td>NaN</td>\n",
       "      <td>NaN</td>\n",
       "      <td>NaN</td>\n",
       "      <td>NaN</td>\n",
       "      <td>NaN</td>\n",
       "      <td>NaN</td>\n",
       "      <td>NaN</td>\n",
       "      <td>NaN</td>\n",
       "      <td>NaN</td>\n",
       "      <td>NaN</td>\n",
       "      <td>NaN</td>\n",
       "      <td>NaN</td>\n",
       "      <td>NaN</td>\n",
       "      <td>NaN</td>\n",
       "      <td>NaN</td>\n",
       "      <td>NaN</td>\n",
       "      <td>NaN</td>\n",
       "      <td>NaN</td>\n",
       "      <td>NaN</td>\n",
       "      <td>NaN</td>\n",
       "      <td>NaN</td>\n",
       "      <td>NaN</td>\n",
       "      <td>NaN</td>\n",
       "      <td>NaN</td>\n",
       "      <td>NaN</td>\n",
       "      <td>NaN</td>\n",
       "      <td>NaN</td>\n",
       "      <td>NaN</td>\n",
       "      <td>NaN</td>\n",
       "      <td>NaN</td>\n",
       "      <td>NaN</td>\n",
       "      <td>NaN</td>\n",
       "      <td>NaN</td>\n",
       "      <td>NaN</td>\n",
       "      <td>NaN</td>\n",
       "      <td>NaN</td>\n",
       "      <td>NaN</td>\n",
       "      <td>NaN</td>\n",
       "      <td>NaN</td>\n",
       "      <td>NaN</td>\n",
       "      <td>NaN</td>\n",
       "      <td>NaN</td>\n",
       "      <td>NaN</td>\n",
       "      <td>NaN</td>\n",
       "      <td>NaN</td>\n",
       "      <td>NaN</td>\n",
       "      <td>NaN</td>\n",
       "      <td>NaN</td>\n",
       "      <td>NaN</td>\n",
       "      <td>NaN</td>\n",
       "      <td>NaN</td>\n",
       "      <td>NaN</td>\n",
       "      <td>NaN</td>\n",
       "      <td>NaN</td>\n",
       "      <td>NaN</td>\n",
       "      <td>NaN</td>\n",
       "      <td>NaN</td>\n",
       "      <td>NaN</td>\n",
       "      <td>NaN</td>\n",
       "      <td>NaN</td>\n",
       "      <td>NaN</td>\n",
       "      <td>NaN</td>\n",
       "      <td>NaN</td>\n",
       "      <td>NaN</td>\n",
       "      <td>NaN</td>\n",
       "      <td>NaN</td>\n",
       "      <td>NaN</td>\n",
       "      <td>NaN</td>\n",
       "      <td>NaN</td>\n",
       "      <td>NaN</td>\n",
       "      <td>NaN</td>\n",
       "      <td>NaN</td>\n",
       "      <td>NaN</td>\n",
       "      <td>NaN</td>\n",
       "      <td>NaN</td>\n",
       "      <td>NaN</td>\n",
       "      <td>NaN</td>\n",
       "      <td>NaN</td>\n",
       "      <td>NaN</td>\n",
       "      <td>NaN</td>\n",
       "      <td>NaN</td>\n",
       "      <td>NaN</td>\n",
       "      <td>NaN</td>\n",
       "      <td>NaN</td>\n",
       "      <td>NaN</td>\n",
       "      <td>NaN</td>\n",
       "      <td>NaN</td>\n",
       "      <td>NaN</td>\n",
       "      <td>NaN</td>\n",
       "      <td>NaN</td>\n",
       "      <td>NaN</td>\n",
       "      <td>NaN</td>\n",
       "      <td>NaN</td>\n",
       "      <td>NaN</td>\n",
       "      <td>NaN</td>\n",
       "      <td>NaN</td>\n",
       "      <td>NaN</td>\n",
       "      <td>NaN</td>\n",
       "      <td>NaN</td>\n",
       "      <td>NaN</td>\n",
       "      <td>NaN</td>\n",
       "      <td>NaN</td>\n",
       "      <td>NaN</td>\n",
       "      <td>NaN</td>\n",
       "      <td>NaN</td>\n",
       "      <td>NaN</td>\n",
       "      <td>NaN</td>\n",
       "      <td>NaN</td>\n",
       "      <td>NaN</td>\n",
       "      <td>NaN</td>\n",
       "      <td>NaN</td>\n",
       "      <td>NaN</td>\n",
       "      <td>NaN</td>\n",
       "      <td>NaN</td>\n",
       "      <td>NaN</td>\n",
       "      <td>NaN</td>\n",
       "      <td>NaN</td>\n",
       "      <td>NaN</td>\n",
       "      <td>NaN</td>\n",
       "      <td>NaN</td>\n",
       "      <td>NaN</td>\n",
       "      <td>NaN</td>\n",
       "      <td>NaN</td>\n",
       "      <td>NaN</td>\n",
       "      <td>NaN</td>\n",
       "      <td>NaN</td>\n",
       "      <td>NaN</td>\n",
       "      <td>NaN</td>\n",
       "      <td>NaN</td>\n",
       "      <td>NaN</td>\n",
       "      <td>NaN</td>\n",
       "      <td>NaN</td>\n",
       "      <td>NaN</td>\n",
       "      <td>NaN</td>\n",
       "      <td>NaN</td>\n",
       "      <td>NaN</td>\n",
       "      <td>NaN</td>\n",
       "      <td>NaN</td>\n",
       "      <td>NaN</td>\n",
       "      <td>NaN</td>\n",
       "      <td>NaN</td>\n",
       "      <td>NaN</td>\n",
       "      <td>NaN</td>\n",
       "      <td>NaN</td>\n",
       "      <td>NaN</td>\n",
       "      <td>NaN</td>\n",
       "      <td>NaN</td>\n",
       "      <td>NaN</td>\n",
       "      <td>NaN</td>\n",
       "      <td>NaN</td>\n",
       "      <td>NaN</td>\n",
       "      <td>NaN</td>\n",
       "      <td>NaN</td>\n",
       "      <td>NaN</td>\n",
       "      <td>NaN</td>\n",
       "      <td>NaN</td>\n",
       "      <td>NaN</td>\n",
       "      <td>NaN</td>\n",
       "      <td>NaN</td>\n",
       "      <td>NaN</td>\n",
       "      <td>NaN</td>\n",
       "      <td>NaN</td>\n",
       "      <td>NaN</td>\n",
       "      <td>NaN</td>\n",
       "      <td>NaN</td>\n",
       "      <td>NaN</td>\n",
       "      <td>NaN</td>\n",
       "      <td>NaN</td>\n",
       "      <td>NaN</td>\n",
       "      <td>NaN</td>\n",
       "      <td>NaN</td>\n",
       "      <td>NaN</td>\n",
       "      <td>NaN</td>\n",
       "      <td>NaN</td>\n",
       "      <td>NaN</td>\n",
       "      <td>NaN</td>\n",
       "      <td>NaN</td>\n",
       "      <td>NaN</td>\n",
       "      <td>NaN</td>\n",
       "      <td>NaN</td>\n",
       "      <td>NaN</td>\n",
       "      <td>NaN</td>\n",
       "      <td>NaN</td>\n",
       "      <td>NaN</td>\n",
       "      <td>NaN</td>\n",
       "      <td>NaN</td>\n",
       "      <td>NaN</td>\n",
       "      <td>NaN</td>\n",
       "      <td>NaN</td>\n",
       "      <td>NaN</td>\n",
       "      <td>NaN</td>\n",
       "      <td>NaN</td>\n",
       "      <td>NaN</td>\n",
       "      <td>NaN</td>\n",
       "      <td>NaN</td>\n",
       "      <td>NaN</td>\n",
       "      <td>NaN</td>\n",
       "      <td>NaN</td>\n",
       "      <td>NaN</td>\n",
       "      <td>NaN</td>\n",
       "      <td>NaN</td>\n",
       "      <td>NaN</td>\n",
       "      <td>...</td>\n",
       "      <td>0.125</td>\n",
       "      <td>0.149</td>\n",
       "      <td>0.236</td>\n",
       "      <td>0.092</td>\n",
       "      <td>0.057</td>\n",
       "      <td>0.006</td>\n",
       "      <td>0.031</td>\n",
       "      <td>0.013</td>\n",
       "      <td>0.028</td>\n",
       "      <td>0.015</td>\n",
       "      <td>NaN</td>\n",
       "      <td>NaN</td>\n",
       "      <td>NaN</td>\n",
       "      <td>NaN</td>\n",
       "      <td>NaN</td>\n",
       "      <td>NaN</td>\n",
       "      <td>NaN</td>\n",
       "      <td>NaN</td>\n",
       "      <td>NaN</td>\n",
       "      <td>NaN</td>\n",
       "      <td>NaN</td>\n",
       "      <td>NaN</td>\n",
       "      <td>NaN</td>\n",
       "      <td>NaN</td>\n",
       "      <td>NaN</td>\n",
       "      <td>NaN</td>\n",
       "      <td>NaN</td>\n",
       "      <td>NaN</td>\n",
       "      <td>NaN</td>\n",
       "      <td>NaN</td>\n",
       "      <td>NaN</td>\n",
       "      <td>NaN</td>\n",
       "      <td>NaN</td>\n",
       "      <td>NaN</td>\n",
       "      <td>NaN</td>\n",
       "      <td>NaN</td>\n",
       "      <td>NaN</td>\n",
       "      <td>NaN</td>\n",
       "      <td>NaN</td>\n",
       "      <td>NaN</td>\n",
       "      <td>NaN</td>\n",
       "      <td>NaN</td>\n",
       "      <td>NaN</td>\n",
       "      <td>NaN</td>\n",
       "      <td>NaN</td>\n",
       "      <td>NaN</td>\n",
       "      <td>NaN</td>\n",
       "      <td>NaN</td>\n",
       "      <td>NaN</td>\n",
       "      <td>NaN</td>\n",
       "      <td>NaN</td>\n",
       "      <td>NaN</td>\n",
       "      <td>NaN</td>\n",
       "      <td>NaN</td>\n",
       "      <td>NaN</td>\n",
       "      <td>NaN</td>\n",
       "      <td>NaN</td>\n",
       "      <td>NaN</td>\n",
       "      <td>0.040</td>\n",
       "      <td>2.879</td>\n",
       "      <td>1.493</td>\n",
       "      <td>1.363</td>\n",
       "      <td>1.456</td>\n",
       "      <td>1.422</td>\n",
       "      <td>1.446</td>\n",
       "      <td>1.354</td>\n",
       "      <td>1.422</td>\n",
       "      <td>1.361</td>\n",
       "      <td>0.512</td>\n",
       "      <td>0.050</td>\n",
       "      <td>0.097</td>\n",
       "      <td>0.042</td>\n",
       "      <td>0.011</td>\n",
       "      <td>0.130</td>\n",
       "      <td>0.043</td>\n",
       "      <td>0.141</td>\n",
       "      <td>0.022</td>\n",
       "      <td>0.092</td>\n",
       "      <td>0.079</td>\n",
       "      <td>0.065</td>\n",
       "      <td>0.030</td>\n",
       "      <td>0.145</td>\n",
       "      <td>0.085</td>\n",
       "      <td>0.068</td>\n",
       "      <td>0.097</td>\n",
       "      <td>0.062</td>\n",
       "      <td>0.076</td>\n",
       "      <td>0.005</td>\n",
       "      <td>0.042</td>\n",
       "      <td>0.010</td>\n",
       "      <td>0.029</td>\n",
       "      <td>0.011</td>\n",
       "      <td>0.183</td>\n",
       "      <td>0.109</td>\n",
       "      <td>0.116</td>\n",
       "      <td>0.127</td>\n",
       "      <td>0.103</td>\n",
       "      <td>0.201</td>\n",
       "      <td>0.104</td>\n",
       "      <td>0.144</td>\n",
       "      <td>0.172</td>\n",
       "      <td>0.118</td>\n",
       "      <td>0.062</td>\n",
       "      <td>0.051</td>\n",
       "      <td>0.002</td>\n",
       "      <td>0.033</td>\n",
       "      <td>NaN</td>\n",
       "      <td>NaN</td>\n",
       "      <td>NaN</td>\n",
       "      <td>NaN</td>\n",
       "      <td>NaN</td>\n",
       "      <td>NaN</td>\n",
       "      <td>NaN</td>\n",
       "      <td>NaN</td>\n",
       "      <td>NaN</td>\n",
       "      <td>NaN</td>\n",
       "      <td>NaN</td>\n",
       "      <td>NaN</td>\n",
       "      <td>NaN</td>\n",
       "      <td>NaN</td>\n",
       "      <td>NaN</td>\n",
       "      <td>NaN</td>\n",
       "      <td>NaN</td>\n",
       "      <td>NaN</td>\n",
       "      <td>NaN</td>\n",
       "      <td>NaN</td>\n",
       "      <td>NaN</td>\n",
       "      <td>NaN</td>\n",
       "      <td>NaN</td>\n",
       "      <td>NaN</td>\n",
       "      <td>NaN</td>\n",
       "      <td>NaN</td>\n",
       "      <td>NaN</td>\n",
       "      <td>NaN</td>\n",
       "      <td>NaN</td>\n",
       "      <td>NaN</td>\n",
       "      <td>NaN</td>\n",
       "      <td>NaN</td>\n",
       "      <td>NaN</td>\n",
       "      <td>NaN</td>\n",
       "      <td>NaN</td>\n",
       "      <td>NaN</td>\n",
       "      <td>NaN</td>\n",
       "      <td>NaN</td>\n",
       "      <td>NaN</td>\n",
       "      <td>NaN</td>\n",
       "      <td>NaN</td>\n",
       "      <td>NaN</td>\n",
       "      <td>NaN</td>\n",
       "      <td>NaN</td>\n",
       "      <td>NaN</td>\n",
       "      <td>NaN</td>\n",
       "      <td>NaN</td>\n",
       "      <td>NaN</td>\n",
       "      <td>0.035</td>\n",
       "      <td>2.716</td>\n",
       "      <td>1.512</td>\n",
       "      <td>1.164</td>\n",
       "      <td>0.224</td>\n",
       "      <td>0.111</td>\n",
       "      <td>0.112</td>\n",
       "      <td>0.118</td>\n",
       "      <td>0.023</td>\n",
       "      <td>0.119</td>\n",
       "      <td>0.021</td>\n",
       "      <td>0.133</td>\n",
       "      <td>0.011</td>\n",
       "      <td>0.161</td>\n",
       "      <td>0.174</td>\n",
       "      <td>0.251</td>\n",
       "      <td>0.096</td>\n",
       "      <td>0.153</td>\n",
       "      <td>0.036</td>\n",
       "      <td>0.029</td>\n",
       "      <td>0.016</td>\n",
       "      <td>0.028</td>\n",
       "      <td>0.011</td>\n",
       "      <td>0.026</td>\n",
       "      <td>0.137</td>\n",
       "      <td>0.032</td>\n",
       "      <td>0.025</td>\n",
       "      <td>0.029</td>\n",
       "      <td>0.066</td>\n",
       "      <td>0.036</td>\n",
       "      <td>0.023</td>\n",
       "      <td>0.021</td>\n",
       "      <td>0.021</td>\n",
       "      <td>0.022</td>\n",
       "      <td>0.040</td>\n",
       "      <td>0.060</td>\n",
       "      <td>0.058</td>\n",
       "      <td>0.225</td>\n",
       "      <td>0.127</td>\n",
       "      <td>0.134</td>\n",
       "      <td>0.156</td>\n",
       "      <td>0.133</td>\n",
       "      <td>0.135</td>\n",
       "      <td>0.129</td>\n",
       "      <td>0.015</td>\n",
       "      <td>0.027</td>\n",
       "      <td>0.008</td>\n",
       "      <td>0.027</td>\n",
       "      <td>0.021</td>\n",
       "      <td>1.497</td>\n",
       "      <td>0.120</td>\n",
       "      <td>0.127</td>\n",
       "      <td>0.036</td>\n",
       "      <td>0.097</td>\n",
       "      <td>0.149</td>\n",
       "      <td>0.059</td>\n",
       "      <td>0.113</td>\n",
       "      <td>0.112</td>\n",
       "      <td>0.042</td>\n",
       "      <td>0.095</td>\n",
       "      <td>0.043</td>\n",
       "      <td>0.093</td>\n",
       "      <td>0.055</td>\n",
       "      <td>0.002</td>\n",
       "      <td>0.131</td>\n",
       "      <td>0.143</td>\n",
       "      <td>0.130</td>\n",
       "      <td>0.106</td>\n",
       "      <td>0.050</td>\n",
       "      <td>0.008</td>\n",
       "      <td>0.037</td>\n",
       "      <td>0.005</td>\n",
       "      <td>0.029</td>\n",
       "      <td>0.196</td>\n",
       "      <td>0.134</td>\n",
       "      <td>0.069</td>\n",
       "      <td>0.067</td>\n",
       "      <td>0.025</td>\n",
       "      <td>0.026</td>\n",
       "      <td>0.020</td>\n",
       "      <td>0.014</td>\n",
       "      <td>0.032</td>\n",
       "      <td>0.019</td>\n",
       "      <td>0.107</td>\n",
       "      <td>0.104</td>\n",
       "      <td>0.124</td>\n",
       "      <td>0.110</td>\n",
       "      <td>0.123</td>\n",
       "      <td>0.012</td>\n",
       "      <td>0.034</td>\n",
       "      <td>0.006</td>\n",
       "      <td>0.027</td>\n",
       "      <td>0.001</td>\n",
       "      <td>0.044</td>\n",
       "      <td>0.004</td>\n",
       "      <td>0.035</td>\n",
       "    </tr>\n",
       "    <tr>\n",
       "      <th>3</th>\n",
       "      <td>0x5b76d3c0e0aefc6e0a8d1d031f96388a23263407</td>\n",
       "      <td>NaN</td>\n",
       "      <td>NaN</td>\n",
       "      <td>NaN</td>\n",
       "      <td>NaN</td>\n",
       "      <td>NaN</td>\n",
       "      <td>NaN</td>\n",
       "      <td>NaN</td>\n",
       "      <td>NaN</td>\n",
       "      <td>NaN</td>\n",
       "      <td>NaN</td>\n",
       "      <td>NaN</td>\n",
       "      <td>NaN</td>\n",
       "      <td>NaN</td>\n",
       "      <td>NaN</td>\n",
       "      <td>NaN</td>\n",
       "      <td>NaN</td>\n",
       "      <td>NaN</td>\n",
       "      <td>NaN</td>\n",
       "      <td>NaN</td>\n",
       "      <td>NaN</td>\n",
       "      <td>NaN</td>\n",
       "      <td>NaN</td>\n",
       "      <td>NaN</td>\n",
       "      <td>NaN</td>\n",
       "      <td>NaN</td>\n",
       "      <td>NaN</td>\n",
       "      <td>NaN</td>\n",
       "      <td>NaN</td>\n",
       "      <td>NaN</td>\n",
       "      <td>NaN</td>\n",
       "      <td>NaN</td>\n",
       "      <td>NaN</td>\n",
       "      <td>NaN</td>\n",
       "      <td>NaN</td>\n",
       "      <td>NaN</td>\n",
       "      <td>NaN</td>\n",
       "      <td>NaN</td>\n",
       "      <td>NaN</td>\n",
       "      <td>NaN</td>\n",
       "      <td>NaN</td>\n",
       "      <td>NaN</td>\n",
       "      <td>NaN</td>\n",
       "      <td>NaN</td>\n",
       "      <td>NaN</td>\n",
       "      <td>NaN</td>\n",
       "      <td>NaN</td>\n",
       "      <td>NaN</td>\n",
       "      <td>NaN</td>\n",
       "      <td>NaN</td>\n",
       "      <td>NaN</td>\n",
       "      <td>NaN</td>\n",
       "      <td>NaN</td>\n",
       "      <td>NaN</td>\n",
       "      <td>NaN</td>\n",
       "      <td>NaN</td>\n",
       "      <td>NaN</td>\n",
       "      <td>NaN</td>\n",
       "      <td>NaN</td>\n",
       "      <td>NaN</td>\n",
       "      <td>NaN</td>\n",
       "      <td>NaN</td>\n",
       "      <td>NaN</td>\n",
       "      <td>NaN</td>\n",
       "      <td>NaN</td>\n",
       "      <td>NaN</td>\n",
       "      <td>NaN</td>\n",
       "      <td>NaN</td>\n",
       "      <td>NaN</td>\n",
       "      <td>NaN</td>\n",
       "      <td>NaN</td>\n",
       "      <td>NaN</td>\n",
       "      <td>NaN</td>\n",
       "      <td>NaN</td>\n",
       "      <td>NaN</td>\n",
       "      <td>NaN</td>\n",
       "      <td>NaN</td>\n",
       "      <td>NaN</td>\n",
       "      <td>NaN</td>\n",
       "      <td>NaN</td>\n",
       "      <td>NaN</td>\n",
       "      <td>NaN</td>\n",
       "      <td>NaN</td>\n",
       "      <td>NaN</td>\n",
       "      <td>NaN</td>\n",
       "      <td>NaN</td>\n",
       "      <td>NaN</td>\n",
       "      <td>NaN</td>\n",
       "      <td>NaN</td>\n",
       "      <td>NaN</td>\n",
       "      <td>NaN</td>\n",
       "      <td>NaN</td>\n",
       "      <td>NaN</td>\n",
       "      <td>NaN</td>\n",
       "      <td>NaN</td>\n",
       "      <td>NaN</td>\n",
       "      <td>NaN</td>\n",
       "      <td>NaN</td>\n",
       "      <td>NaN</td>\n",
       "      <td>NaN</td>\n",
       "      <td>NaN</td>\n",
       "      <td>NaN</td>\n",
       "      <td>NaN</td>\n",
       "      <td>NaN</td>\n",
       "      <td>NaN</td>\n",
       "      <td>NaN</td>\n",
       "      <td>NaN</td>\n",
       "      <td>NaN</td>\n",
       "      <td>NaN</td>\n",
       "      <td>NaN</td>\n",
       "      <td>NaN</td>\n",
       "      <td>NaN</td>\n",
       "      <td>NaN</td>\n",
       "      <td>NaN</td>\n",
       "      <td>NaN</td>\n",
       "      <td>NaN</td>\n",
       "      <td>NaN</td>\n",
       "      <td>NaN</td>\n",
       "      <td>NaN</td>\n",
       "      <td>NaN</td>\n",
       "      <td>NaN</td>\n",
       "      <td>NaN</td>\n",
       "      <td>NaN</td>\n",
       "      <td>NaN</td>\n",
       "      <td>NaN</td>\n",
       "      <td>NaN</td>\n",
       "      <td>NaN</td>\n",
       "      <td>NaN</td>\n",
       "      <td>NaN</td>\n",
       "      <td>NaN</td>\n",
       "      <td>NaN</td>\n",
       "      <td>NaN</td>\n",
       "      <td>NaN</td>\n",
       "      <td>NaN</td>\n",
       "      <td>NaN</td>\n",
       "      <td>NaN</td>\n",
       "      <td>NaN</td>\n",
       "      <td>NaN</td>\n",
       "      <td>NaN</td>\n",
       "      <td>NaN</td>\n",
       "      <td>NaN</td>\n",
       "      <td>NaN</td>\n",
       "      <td>NaN</td>\n",
       "      <td>NaN</td>\n",
       "      <td>NaN</td>\n",
       "      <td>NaN</td>\n",
       "      <td>NaN</td>\n",
       "      <td>NaN</td>\n",
       "      <td>NaN</td>\n",
       "      <td>NaN</td>\n",
       "      <td>NaN</td>\n",
       "      <td>NaN</td>\n",
       "      <td>NaN</td>\n",
       "      <td>NaN</td>\n",
       "      <td>NaN</td>\n",
       "      <td>NaN</td>\n",
       "      <td>NaN</td>\n",
       "      <td>NaN</td>\n",
       "      <td>NaN</td>\n",
       "      <td>NaN</td>\n",
       "      <td>NaN</td>\n",
       "      <td>NaN</td>\n",
       "      <td>NaN</td>\n",
       "      <td>NaN</td>\n",
       "      <td>NaN</td>\n",
       "      <td>NaN</td>\n",
       "      <td>NaN</td>\n",
       "      <td>NaN</td>\n",
       "      <td>NaN</td>\n",
       "      <td>NaN</td>\n",
       "      <td>NaN</td>\n",
       "      <td>NaN</td>\n",
       "      <td>NaN</td>\n",
       "      <td>NaN</td>\n",
       "      <td>NaN</td>\n",
       "      <td>NaN</td>\n",
       "      <td>NaN</td>\n",
       "      <td>NaN</td>\n",
       "      <td>NaN</td>\n",
       "      <td>NaN</td>\n",
       "      <td>NaN</td>\n",
       "      <td>NaN</td>\n",
       "      <td>NaN</td>\n",
       "      <td>NaN</td>\n",
       "      <td>NaN</td>\n",
       "      <td>NaN</td>\n",
       "      <td>NaN</td>\n",
       "      <td>NaN</td>\n",
       "      <td>NaN</td>\n",
       "      <td>NaN</td>\n",
       "      <td>NaN</td>\n",
       "      <td>NaN</td>\n",
       "      <td>NaN</td>\n",
       "      <td>NaN</td>\n",
       "      <td>NaN</td>\n",
       "      <td>NaN</td>\n",
       "      <td>NaN</td>\n",
       "      <td>NaN</td>\n",
       "      <td>NaN</td>\n",
       "      <td>NaN</td>\n",
       "      <td>NaN</td>\n",
       "      <td>NaN</td>\n",
       "      <td>NaN</td>\n",
       "      <td>NaN</td>\n",
       "      <td>NaN</td>\n",
       "      <td>NaN</td>\n",
       "      <td>NaN</td>\n",
       "      <td>NaN</td>\n",
       "      <td>NaN</td>\n",
       "      <td>NaN</td>\n",
       "      <td>NaN</td>\n",
       "      <td>NaN</td>\n",
       "      <td>NaN</td>\n",
       "      <td>NaN</td>\n",
       "      <td>NaN</td>\n",
       "      <td>NaN</td>\n",
       "      <td>NaN</td>\n",
       "      <td>NaN</td>\n",
       "      <td>NaN</td>\n",
       "      <td>NaN</td>\n",
       "      <td>NaN</td>\n",
       "      <td>NaN</td>\n",
       "      <td>NaN</td>\n",
       "      <td>NaN</td>\n",
       "      <td>NaN</td>\n",
       "      <td>NaN</td>\n",
       "      <td>NaN</td>\n",
       "      <td>NaN</td>\n",
       "      <td>NaN</td>\n",
       "      <td>NaN</td>\n",
       "      <td>NaN</td>\n",
       "      <td>NaN</td>\n",
       "      <td>NaN</td>\n",
       "      <td>NaN</td>\n",
       "      <td>NaN</td>\n",
       "      <td>NaN</td>\n",
       "      <td>NaN</td>\n",
       "      <td>NaN</td>\n",
       "      <td>NaN</td>\n",
       "      <td>NaN</td>\n",
       "      <td>NaN</td>\n",
       "      <td>NaN</td>\n",
       "      <td>NaN</td>\n",
       "      <td>NaN</td>\n",
       "      <td>NaN</td>\n",
       "      <td>NaN</td>\n",
       "      <td>NaN</td>\n",
       "      <td>NaN</td>\n",
       "      <td>NaN</td>\n",
       "      <td>NaN</td>\n",
       "      <td>...</td>\n",
       "      <td>0.228</td>\n",
       "      <td>0.152</td>\n",
       "      <td>0.059</td>\n",
       "      <td>0.068</td>\n",
       "      <td>0.092</td>\n",
       "      <td>0.037</td>\n",
       "      <td>0.084</td>\n",
       "      <td>0.057</td>\n",
       "      <td>0.024</td>\n",
       "      <td>0.039</td>\n",
       "      <td>NaN</td>\n",
       "      <td>NaN</td>\n",
       "      <td>NaN</td>\n",
       "      <td>NaN</td>\n",
       "      <td>NaN</td>\n",
       "      <td>NaN</td>\n",
       "      <td>NaN</td>\n",
       "      <td>NaN</td>\n",
       "      <td>NaN</td>\n",
       "      <td>NaN</td>\n",
       "      <td>NaN</td>\n",
       "      <td>NaN</td>\n",
       "      <td>NaN</td>\n",
       "      <td>NaN</td>\n",
       "      <td>NaN</td>\n",
       "      <td>NaN</td>\n",
       "      <td>NaN</td>\n",
       "      <td>NaN</td>\n",
       "      <td>NaN</td>\n",
       "      <td>NaN</td>\n",
       "      <td>NaN</td>\n",
       "      <td>NaN</td>\n",
       "      <td>NaN</td>\n",
       "      <td>NaN</td>\n",
       "      <td>NaN</td>\n",
       "      <td>NaN</td>\n",
       "      <td>NaN</td>\n",
       "      <td>NaN</td>\n",
       "      <td>NaN</td>\n",
       "      <td>NaN</td>\n",
       "      <td>NaN</td>\n",
       "      <td>NaN</td>\n",
       "      <td>NaN</td>\n",
       "      <td>NaN</td>\n",
       "      <td>NaN</td>\n",
       "      <td>NaN</td>\n",
       "      <td>NaN</td>\n",
       "      <td>NaN</td>\n",
       "      <td>NaN</td>\n",
       "      <td>NaN</td>\n",
       "      <td>NaN</td>\n",
       "      <td>NaN</td>\n",
       "      <td>NaN</td>\n",
       "      <td>NaN</td>\n",
       "      <td>NaN</td>\n",
       "      <td>NaN</td>\n",
       "      <td>NaN</td>\n",
       "      <td>NaN</td>\n",
       "      <td>0.166</td>\n",
       "      <td>3.053</td>\n",
       "      <td>2.390</td>\n",
       "      <td>1.674</td>\n",
       "      <td>1.598</td>\n",
       "      <td>1.406</td>\n",
       "      <td>1.476</td>\n",
       "      <td>1.427</td>\n",
       "      <td>1.394</td>\n",
       "      <td>1.358</td>\n",
       "      <td>1.462</td>\n",
       "      <td>1.451</td>\n",
       "      <td>1.420</td>\n",
       "      <td>0.098</td>\n",
       "      <td>0.134</td>\n",
       "      <td>0.018</td>\n",
       "      <td>0.025</td>\n",
       "      <td>0.072</td>\n",
       "      <td>0.104</td>\n",
       "      <td>0.054</td>\n",
       "      <td>0.016</td>\n",
       "      <td>0.037</td>\n",
       "      <td>0.031</td>\n",
       "      <td>0.013</td>\n",
       "      <td>0.057</td>\n",
       "      <td>0.017</td>\n",
       "      <td>0.156</td>\n",
       "      <td>0.036</td>\n",
       "      <td>0.013</td>\n",
       "      <td>0.097</td>\n",
       "      <td>0.076</td>\n",
       "      <td>0.096</td>\n",
       "      <td>0.578</td>\n",
       "      <td>0.415</td>\n",
       "      <td>0.520</td>\n",
       "      <td>0.151</td>\n",
       "      <td>0.148</td>\n",
       "      <td>0.157</td>\n",
       "      <td>0.038</td>\n",
       "      <td>0.070</td>\n",
       "      <td>0.039</td>\n",
       "      <td>0.222</td>\n",
       "      <td>0.043</td>\n",
       "      <td>0.046</td>\n",
       "      <td>0.053</td>\n",
       "      <td>0.019</td>\n",
       "      <td>0.053</td>\n",
       "      <td>0.016</td>\n",
       "      <td>NaN</td>\n",
       "      <td>NaN</td>\n",
       "      <td>NaN</td>\n",
       "      <td>NaN</td>\n",
       "      <td>NaN</td>\n",
       "      <td>NaN</td>\n",
       "      <td>NaN</td>\n",
       "      <td>NaN</td>\n",
       "      <td>NaN</td>\n",
       "      <td>NaN</td>\n",
       "      <td>NaN</td>\n",
       "      <td>NaN</td>\n",
       "      <td>NaN</td>\n",
       "      <td>NaN</td>\n",
       "      <td>NaN</td>\n",
       "      <td>NaN</td>\n",
       "      <td>NaN</td>\n",
       "      <td>NaN</td>\n",
       "      <td>NaN</td>\n",
       "      <td>NaN</td>\n",
       "      <td>NaN</td>\n",
       "      <td>NaN</td>\n",
       "      <td>NaN</td>\n",
       "      <td>NaN</td>\n",
       "      <td>NaN</td>\n",
       "      <td>NaN</td>\n",
       "      <td>NaN</td>\n",
       "      <td>NaN</td>\n",
       "      <td>NaN</td>\n",
       "      <td>NaN</td>\n",
       "      <td>NaN</td>\n",
       "      <td>NaN</td>\n",
       "      <td>NaN</td>\n",
       "      <td>NaN</td>\n",
       "      <td>NaN</td>\n",
       "      <td>NaN</td>\n",
       "      <td>NaN</td>\n",
       "      <td>NaN</td>\n",
       "      <td>NaN</td>\n",
       "      <td>NaN</td>\n",
       "      <td>NaN</td>\n",
       "      <td>NaN</td>\n",
       "      <td>NaN</td>\n",
       "      <td>NaN</td>\n",
       "      <td>NaN</td>\n",
       "      <td>NaN</td>\n",
       "      <td>NaN</td>\n",
       "      <td>NaN</td>\n",
       "      <td>0.050</td>\n",
       "      <td>2.887</td>\n",
       "      <td>2.350</td>\n",
       "      <td>1.615</td>\n",
       "      <td>1.471</td>\n",
       "      <td>1.488</td>\n",
       "      <td>0.671</td>\n",
       "      <td>0.084</td>\n",
       "      <td>0.107</td>\n",
       "      <td>0.104</td>\n",
       "      <td>0.091</td>\n",
       "      <td>0.045</td>\n",
       "      <td>0.431</td>\n",
       "      <td>0.020</td>\n",
       "      <td>0.169</td>\n",
       "      <td>0.023</td>\n",
       "      <td>0.014</td>\n",
       "      <td>0.050</td>\n",
       "      <td>0.031</td>\n",
       "      <td>0.098</td>\n",
       "      <td>0.051</td>\n",
       "      <td>0.015</td>\n",
       "      <td>0.030</td>\n",
       "      <td>0.038</td>\n",
       "      <td>0.042</td>\n",
       "      <td>0.181</td>\n",
       "      <td>0.035</td>\n",
       "      <td>0.018</td>\n",
       "      <td>0.096</td>\n",
       "      <td>0.074</td>\n",
       "      <td>0.031</td>\n",
       "      <td>0.876</td>\n",
       "      <td>0.764</td>\n",
       "      <td>0.343</td>\n",
       "      <td>0.157</td>\n",
       "      <td>0.135</td>\n",
       "      <td>0.165</td>\n",
       "      <td>0.130</td>\n",
       "      <td>0.169</td>\n",
       "      <td>0.247</td>\n",
       "      <td>0.155</td>\n",
       "      <td>0.052</td>\n",
       "      <td>0.069</td>\n",
       "      <td>0.037</td>\n",
       "      <td>0.032</td>\n",
       "      <td>0.052</td>\n",
       "      <td>0.014</td>\n",
       "      <td>0.034</td>\n",
       "      <td>0.036</td>\n",
       "      <td>2.940</td>\n",
       "      <td>1.997</td>\n",
       "      <td>1.527</td>\n",
       "      <td>1.450</td>\n",
       "      <td>1.523</td>\n",
       "      <td>0.676</td>\n",
       "      <td>0.103</td>\n",
       "      <td>0.110</td>\n",
       "      <td>0.097</td>\n",
       "      <td>0.049</td>\n",
       "      <td>0.101</td>\n",
       "      <td>0.097</td>\n",
       "      <td>0.060</td>\n",
       "      <td>0.095</td>\n",
       "      <td>0.020</td>\n",
       "      <td>0.046</td>\n",
       "      <td>0.013</td>\n",
       "      <td>0.042</td>\n",
       "      <td>0.118</td>\n",
       "      <td>0.019</td>\n",
       "      <td>0.062</td>\n",
       "      <td>0.078</td>\n",
       "      <td>0.104</td>\n",
       "      <td>0.039</td>\n",
       "      <td>0.120</td>\n",
       "      <td>0.063</td>\n",
       "      <td>0.078</td>\n",
       "      <td>0.111</td>\n",
       "      <td>0.074</td>\n",
       "      <td>0.103</td>\n",
       "      <td>0.635</td>\n",
       "      <td>0.421</td>\n",
       "      <td>0.466</td>\n",
       "      <td>0.087</td>\n",
       "      <td>0.052</td>\n",
       "      <td>0.115</td>\n",
       "      <td>0.150</td>\n",
       "      <td>0.118</td>\n",
       "      <td>0.096</td>\n",
       "      <td>0.135</td>\n",
       "      <td>0.041</td>\n",
       "      <td>0.018</td>\n",
       "      <td>0.057</td>\n",
       "      <td>0.018</td>\n",
       "      <td>0.038</td>\n",
       "      <td>0.040</td>\n",
       "      <td>0.014</td>\n",
       "    </tr>\n",
       "    <tr>\n",
       "      <th>4</th>\n",
       "      <td>0x943ebe39ef2be6ef807c42c5a647e27112ca5b0f</td>\n",
       "      <td>NaN</td>\n",
       "      <td>NaN</td>\n",
       "      <td>NaN</td>\n",
       "      <td>NaN</td>\n",
       "      <td>NaN</td>\n",
       "      <td>NaN</td>\n",
       "      <td>NaN</td>\n",
       "      <td>NaN</td>\n",
       "      <td>NaN</td>\n",
       "      <td>NaN</td>\n",
       "      <td>NaN</td>\n",
       "      <td>NaN</td>\n",
       "      <td>NaN</td>\n",
       "      <td>NaN</td>\n",
       "      <td>NaN</td>\n",
       "      <td>NaN</td>\n",
       "      <td>NaN</td>\n",
       "      <td>NaN</td>\n",
       "      <td>NaN</td>\n",
       "      <td>NaN</td>\n",
       "      <td>NaN</td>\n",
       "      <td>NaN</td>\n",
       "      <td>NaN</td>\n",
       "      <td>NaN</td>\n",
       "      <td>NaN</td>\n",
       "      <td>NaN</td>\n",
       "      <td>NaN</td>\n",
       "      <td>NaN</td>\n",
       "      <td>NaN</td>\n",
       "      <td>NaN</td>\n",
       "      <td>NaN</td>\n",
       "      <td>NaN</td>\n",
       "      <td>NaN</td>\n",
       "      <td>NaN</td>\n",
       "      <td>NaN</td>\n",
       "      <td>NaN</td>\n",
       "      <td>NaN</td>\n",
       "      <td>NaN</td>\n",
       "      <td>NaN</td>\n",
       "      <td>NaN</td>\n",
       "      <td>NaN</td>\n",
       "      <td>NaN</td>\n",
       "      <td>NaN</td>\n",
       "      <td>NaN</td>\n",
       "      <td>NaN</td>\n",
       "      <td>NaN</td>\n",
       "      <td>NaN</td>\n",
       "      <td>NaN</td>\n",
       "      <td>NaN</td>\n",
       "      <td>NaN</td>\n",
       "      <td>NaN</td>\n",
       "      <td>NaN</td>\n",
       "      <td>NaN</td>\n",
       "      <td>NaN</td>\n",
       "      <td>NaN</td>\n",
       "      <td>NaN</td>\n",
       "      <td>NaN</td>\n",
       "      <td>NaN</td>\n",
       "      <td>NaN</td>\n",
       "      <td>NaN</td>\n",
       "      <td>NaN</td>\n",
       "      <td>NaN</td>\n",
       "      <td>NaN</td>\n",
       "      <td>NaN</td>\n",
       "      <td>NaN</td>\n",
       "      <td>NaN</td>\n",
       "      <td>NaN</td>\n",
       "      <td>NaN</td>\n",
       "      <td>NaN</td>\n",
       "      <td>NaN</td>\n",
       "      <td>NaN</td>\n",
       "      <td>NaN</td>\n",
       "      <td>NaN</td>\n",
       "      <td>NaN</td>\n",
       "      <td>NaN</td>\n",
       "      <td>NaN</td>\n",
       "      <td>NaN</td>\n",
       "      <td>NaN</td>\n",
       "      <td>NaN</td>\n",
       "      <td>NaN</td>\n",
       "      <td>NaN</td>\n",
       "      <td>NaN</td>\n",
       "      <td>NaN</td>\n",
       "      <td>NaN</td>\n",
       "      <td>NaN</td>\n",
       "      <td>NaN</td>\n",
       "      <td>NaN</td>\n",
       "      <td>NaN</td>\n",
       "      <td>NaN</td>\n",
       "      <td>NaN</td>\n",
       "      <td>NaN</td>\n",
       "      <td>NaN</td>\n",
       "      <td>NaN</td>\n",
       "      <td>NaN</td>\n",
       "      <td>NaN</td>\n",
       "      <td>NaN</td>\n",
       "      <td>NaN</td>\n",
       "      <td>NaN</td>\n",
       "      <td>NaN</td>\n",
       "      <td>NaN</td>\n",
       "      <td>NaN</td>\n",
       "      <td>NaN</td>\n",
       "      <td>NaN</td>\n",
       "      <td>NaN</td>\n",
       "      <td>NaN</td>\n",
       "      <td>NaN</td>\n",
       "      <td>NaN</td>\n",
       "      <td>NaN</td>\n",
       "      <td>NaN</td>\n",
       "      <td>NaN</td>\n",
       "      <td>NaN</td>\n",
       "      <td>NaN</td>\n",
       "      <td>NaN</td>\n",
       "      <td>NaN</td>\n",
       "      <td>NaN</td>\n",
       "      <td>NaN</td>\n",
       "      <td>NaN</td>\n",
       "      <td>NaN</td>\n",
       "      <td>NaN</td>\n",
       "      <td>NaN</td>\n",
       "      <td>NaN</td>\n",
       "      <td>NaN</td>\n",
       "      <td>NaN</td>\n",
       "      <td>NaN</td>\n",
       "      <td>NaN</td>\n",
       "      <td>NaN</td>\n",
       "      <td>NaN</td>\n",
       "      <td>NaN</td>\n",
       "      <td>NaN</td>\n",
       "      <td>NaN</td>\n",
       "      <td>NaN</td>\n",
       "      <td>NaN</td>\n",
       "      <td>NaN</td>\n",
       "      <td>NaN</td>\n",
       "      <td>NaN</td>\n",
       "      <td>NaN</td>\n",
       "      <td>NaN</td>\n",
       "      <td>NaN</td>\n",
       "      <td>NaN</td>\n",
       "      <td>NaN</td>\n",
       "      <td>NaN</td>\n",
       "      <td>NaN</td>\n",
       "      <td>NaN</td>\n",
       "      <td>NaN</td>\n",
       "      <td>NaN</td>\n",
       "      <td>NaN</td>\n",
       "      <td>NaN</td>\n",
       "      <td>NaN</td>\n",
       "      <td>NaN</td>\n",
       "      <td>NaN</td>\n",
       "      <td>NaN</td>\n",
       "      <td>NaN</td>\n",
       "      <td>NaN</td>\n",
       "      <td>NaN</td>\n",
       "      <td>NaN</td>\n",
       "      <td>NaN</td>\n",
       "      <td>NaN</td>\n",
       "      <td>NaN</td>\n",
       "      <td>NaN</td>\n",
       "      <td>NaN</td>\n",
       "      <td>NaN</td>\n",
       "      <td>NaN</td>\n",
       "      <td>NaN</td>\n",
       "      <td>NaN</td>\n",
       "      <td>NaN</td>\n",
       "      <td>NaN</td>\n",
       "      <td>NaN</td>\n",
       "      <td>NaN</td>\n",
       "      <td>NaN</td>\n",
       "      <td>NaN</td>\n",
       "      <td>NaN</td>\n",
       "      <td>NaN</td>\n",
       "      <td>NaN</td>\n",
       "      <td>NaN</td>\n",
       "      <td>NaN</td>\n",
       "      <td>NaN</td>\n",
       "      <td>NaN</td>\n",
       "      <td>NaN</td>\n",
       "      <td>NaN</td>\n",
       "      <td>NaN</td>\n",
       "      <td>NaN</td>\n",
       "      <td>NaN</td>\n",
       "      <td>NaN</td>\n",
       "      <td>NaN</td>\n",
       "      <td>NaN</td>\n",
       "      <td>NaN</td>\n",
       "      <td>NaN</td>\n",
       "      <td>NaN</td>\n",
       "      <td>NaN</td>\n",
       "      <td>NaN</td>\n",
       "      <td>NaN</td>\n",
       "      <td>NaN</td>\n",
       "      <td>NaN</td>\n",
       "      <td>NaN</td>\n",
       "      <td>NaN</td>\n",
       "      <td>NaN</td>\n",
       "      <td>NaN</td>\n",
       "      <td>NaN</td>\n",
       "      <td>NaN</td>\n",
       "      <td>NaN</td>\n",
       "      <td>NaN</td>\n",
       "      <td>NaN</td>\n",
       "      <td>NaN</td>\n",
       "      <td>NaN</td>\n",
       "      <td>NaN</td>\n",
       "      <td>NaN</td>\n",
       "      <td>NaN</td>\n",
       "      <td>NaN</td>\n",
       "      <td>NaN</td>\n",
       "      <td>NaN</td>\n",
       "      <td>NaN</td>\n",
       "      <td>NaN</td>\n",
       "      <td>NaN</td>\n",
       "      <td>NaN</td>\n",
       "      <td>NaN</td>\n",
       "      <td>NaN</td>\n",
       "      <td>NaN</td>\n",
       "      <td>NaN</td>\n",
       "      <td>NaN</td>\n",
       "      <td>NaN</td>\n",
       "      <td>NaN</td>\n",
       "      <td>NaN</td>\n",
       "      <td>NaN</td>\n",
       "      <td>NaN</td>\n",
       "      <td>NaN</td>\n",
       "      <td>NaN</td>\n",
       "      <td>NaN</td>\n",
       "      <td>NaN</td>\n",
       "      <td>NaN</td>\n",
       "      <td>NaN</td>\n",
       "      <td>NaN</td>\n",
       "      <td>NaN</td>\n",
       "      <td>NaN</td>\n",
       "      <td>NaN</td>\n",
       "      <td>NaN</td>\n",
       "      <td>NaN</td>\n",
       "      <td>NaN</td>\n",
       "      <td>NaN</td>\n",
       "      <td>NaN</td>\n",
       "      <td>NaN</td>\n",
       "      <td>NaN</td>\n",
       "      <td>NaN</td>\n",
       "      <td>NaN</td>\n",
       "      <td>NaN</td>\n",
       "      <td>NaN</td>\n",
       "      <td>NaN</td>\n",
       "      <td>NaN</td>\n",
       "      <td>NaN</td>\n",
       "      <td>NaN</td>\n",
       "      <td>...</td>\n",
       "      <td>0.006</td>\n",
       "      <td>0.024</td>\n",
       "      <td>0.032</td>\n",
       "      <td>0.006</td>\n",
       "      <td>0.044</td>\n",
       "      <td>1.821</td>\n",
       "      <td>1.602</td>\n",
       "      <td>1.596</td>\n",
       "      <td>1.550</td>\n",
       "      <td>0.793</td>\n",
       "      <td>NaN</td>\n",
       "      <td>NaN</td>\n",
       "      <td>NaN</td>\n",
       "      <td>NaN</td>\n",
       "      <td>NaN</td>\n",
       "      <td>NaN</td>\n",
       "      <td>NaN</td>\n",
       "      <td>NaN</td>\n",
       "      <td>NaN</td>\n",
       "      <td>NaN</td>\n",
       "      <td>NaN</td>\n",
       "      <td>NaN</td>\n",
       "      <td>NaN</td>\n",
       "      <td>NaN</td>\n",
       "      <td>NaN</td>\n",
       "      <td>NaN</td>\n",
       "      <td>NaN</td>\n",
       "      <td>NaN</td>\n",
       "      <td>NaN</td>\n",
       "      <td>NaN</td>\n",
       "      <td>NaN</td>\n",
       "      <td>NaN</td>\n",
       "      <td>NaN</td>\n",
       "      <td>NaN</td>\n",
       "      <td>NaN</td>\n",
       "      <td>NaN</td>\n",
       "      <td>NaN</td>\n",
       "      <td>NaN</td>\n",
       "      <td>NaN</td>\n",
       "      <td>NaN</td>\n",
       "      <td>NaN</td>\n",
       "      <td>NaN</td>\n",
       "      <td>NaN</td>\n",
       "      <td>NaN</td>\n",
       "      <td>NaN</td>\n",
       "      <td>NaN</td>\n",
       "      <td>NaN</td>\n",
       "      <td>NaN</td>\n",
       "      <td>NaN</td>\n",
       "      <td>NaN</td>\n",
       "      <td>NaN</td>\n",
       "      <td>NaN</td>\n",
       "      <td>NaN</td>\n",
       "      <td>NaN</td>\n",
       "      <td>NaN</td>\n",
       "      <td>NaN</td>\n",
       "      <td>NaN</td>\n",
       "      <td>NaN</td>\n",
       "      <td>0.496</td>\n",
       "      <td>0.437</td>\n",
       "      <td>0.211</td>\n",
       "      <td>0.033</td>\n",
       "      <td>1.421</td>\n",
       "      <td>1.668</td>\n",
       "      <td>1.626</td>\n",
       "      <td>1.655</td>\n",
       "      <td>1.393</td>\n",
       "      <td>0.523</td>\n",
       "      <td>0.267</td>\n",
       "      <td>0.170</td>\n",
       "      <td>0.283</td>\n",
       "      <td>0.056</td>\n",
       "      <td>0.027</td>\n",
       "      <td>0.120</td>\n",
       "      <td>0.904</td>\n",
       "      <td>0.071</td>\n",
       "      <td>0.017</td>\n",
       "      <td>0.028</td>\n",
       "      <td>0.021</td>\n",
       "      <td>0.019</td>\n",
       "      <td>0.014</td>\n",
       "      <td>0.033</td>\n",
       "      <td>0.015</td>\n",
       "      <td>0.024</td>\n",
       "      <td>0.009</td>\n",
       "      <td>0.041</td>\n",
       "      <td>0.007</td>\n",
       "      <td>0.027</td>\n",
       "      <td>0.098</td>\n",
       "      <td>0.061</td>\n",
       "      <td>0.050</td>\n",
       "      <td>0.007</td>\n",
       "      <td>0.872</td>\n",
       "      <td>0.987</td>\n",
       "      <td>1.399</td>\n",
       "      <td>1.717</td>\n",
       "      <td>1.023</td>\n",
       "      <td>1.031</td>\n",
       "      <td>0.956</td>\n",
       "      <td>0.986</td>\n",
       "      <td>0.960</td>\n",
       "      <td>0.987</td>\n",
       "      <td>0.926</td>\n",
       "      <td>0.959</td>\n",
       "      <td>0.627</td>\n",
       "      <td>0.609</td>\n",
       "      <td>NaN</td>\n",
       "      <td>NaN</td>\n",
       "      <td>NaN</td>\n",
       "      <td>NaN</td>\n",
       "      <td>NaN</td>\n",
       "      <td>NaN</td>\n",
       "      <td>NaN</td>\n",
       "      <td>NaN</td>\n",
       "      <td>NaN</td>\n",
       "      <td>NaN</td>\n",
       "      <td>NaN</td>\n",
       "      <td>NaN</td>\n",
       "      <td>NaN</td>\n",
       "      <td>NaN</td>\n",
       "      <td>NaN</td>\n",
       "      <td>NaN</td>\n",
       "      <td>NaN</td>\n",
       "      <td>NaN</td>\n",
       "      <td>NaN</td>\n",
       "      <td>NaN</td>\n",
       "      <td>NaN</td>\n",
       "      <td>NaN</td>\n",
       "      <td>NaN</td>\n",
       "      <td>NaN</td>\n",
       "      <td>NaN</td>\n",
       "      <td>NaN</td>\n",
       "      <td>NaN</td>\n",
       "      <td>NaN</td>\n",
       "      <td>NaN</td>\n",
       "      <td>NaN</td>\n",
       "      <td>NaN</td>\n",
       "      <td>NaN</td>\n",
       "      <td>NaN</td>\n",
       "      <td>NaN</td>\n",
       "      <td>NaN</td>\n",
       "      <td>NaN</td>\n",
       "      <td>NaN</td>\n",
       "      <td>NaN</td>\n",
       "      <td>NaN</td>\n",
       "      <td>NaN</td>\n",
       "      <td>NaN</td>\n",
       "      <td>NaN</td>\n",
       "      <td>NaN</td>\n",
       "      <td>NaN</td>\n",
       "      <td>NaN</td>\n",
       "      <td>NaN</td>\n",
       "      <td>NaN</td>\n",
       "      <td>NaN</td>\n",
       "      <td>0.432</td>\n",
       "      <td>0.354</td>\n",
       "      <td>0.351</td>\n",
       "      <td>0.293</td>\n",
       "      <td>1.623</td>\n",
       "      <td>1.881</td>\n",
       "      <td>1.496</td>\n",
       "      <td>0.956</td>\n",
       "      <td>0.415</td>\n",
       "      <td>0.398</td>\n",
       "      <td>0.357</td>\n",
       "      <td>0.389</td>\n",
       "      <td>0.279</td>\n",
       "      <td>0.348</td>\n",
       "      <td>0.219</td>\n",
       "      <td>0.233</td>\n",
       "      <td>0.209</td>\n",
       "      <td>0.145</td>\n",
       "      <td>0.509</td>\n",
       "      <td>0.934</td>\n",
       "      <td>1.666</td>\n",
       "      <td>1.219</td>\n",
       "      <td>1.026</td>\n",
       "      <td>0.906</td>\n",
       "      <td>0.196</td>\n",
       "      <td>0.398</td>\n",
       "      <td>1.084</td>\n",
       "      <td>0.906</td>\n",
       "      <td>1.160</td>\n",
       "      <td>1.313</td>\n",
       "      <td>1.448</td>\n",
       "      <td>1.241</td>\n",
       "      <td>1.219</td>\n",
       "      <td>1.292</td>\n",
       "      <td>1.355</td>\n",
       "      <td>1.405</td>\n",
       "      <td>1.497</td>\n",
       "      <td>2.134</td>\n",
       "      <td>1.632</td>\n",
       "      <td>1.505</td>\n",
       "      <td>1.648</td>\n",
       "      <td>1.720</td>\n",
       "      <td>1.583</td>\n",
       "      <td>1.239</td>\n",
       "      <td>1.039</td>\n",
       "      <td>0.948</td>\n",
       "      <td>0.709</td>\n",
       "      <td>0.965</td>\n",
       "      <td>0.254</td>\n",
       "      <td>0.033</td>\n",
       "      <td>0.031</td>\n",
       "      <td>0.026</td>\n",
       "      <td>1.370</td>\n",
       "      <td>1.605</td>\n",
       "      <td>1.639</td>\n",
       "      <td>1.042</td>\n",
       "      <td>0.450</td>\n",
       "      <td>0.369</td>\n",
       "      <td>0.137</td>\n",
       "      <td>0.186</td>\n",
       "      <td>0.184</td>\n",
       "      <td>0.119</td>\n",
       "      <td>0.010</td>\n",
       "      <td>0.031</td>\n",
       "      <td>0.016</td>\n",
       "      <td>0.027</td>\n",
       "      <td>0.007</td>\n",
       "      <td>0.603</td>\n",
       "      <td>1.730</td>\n",
       "      <td>1.429</td>\n",
       "      <td>0.951</td>\n",
       "      <td>0.545</td>\n",
       "      <td>0.150</td>\n",
       "      <td>0.498</td>\n",
       "      <td>1.165</td>\n",
       "      <td>1.054</td>\n",
       "      <td>0.498</td>\n",
       "      <td>0.199</td>\n",
       "      <td>0.058</td>\n",
       "      <td>0.019</td>\n",
       "      <td>0.068</td>\n",
       "      <td>0.077</td>\n",
       "      <td>0.060</td>\n",
       "      <td>0.024</td>\n",
       "      <td>0.026</td>\n",
       "      <td>0.016</td>\n",
       "      <td>0.022</td>\n",
       "      <td>0.010</td>\n",
       "      <td>0.036</td>\n",
       "      <td>0.006</td>\n",
       "      <td>0.024</td>\n",
       "      <td>0.014</td>\n",
       "      <td>0.028</td>\n",
       "      <td>0.006</td>\n",
       "      <td>0.024</td>\n",
       "      <td>0.025</td>\n",
       "    </tr>\n",
       "    <tr>\n",
       "      <th>...</th>\n",
       "      <td>...</td>\n",
       "      <td>...</td>\n",
       "      <td>...</td>\n",
       "      <td>...</td>\n",
       "      <td>...</td>\n",
       "      <td>...</td>\n",
       "      <td>...</td>\n",
       "      <td>...</td>\n",
       "      <td>...</td>\n",
       "      <td>...</td>\n",
       "      <td>...</td>\n",
       "      <td>...</td>\n",
       "      <td>...</td>\n",
       "      <td>...</td>\n",
       "      <td>...</td>\n",
       "      <td>...</td>\n",
       "      <td>...</td>\n",
       "      <td>...</td>\n",
       "      <td>...</td>\n",
       "      <td>...</td>\n",
       "      <td>...</td>\n",
       "      <td>...</td>\n",
       "      <td>...</td>\n",
       "      <td>...</td>\n",
       "      <td>...</td>\n",
       "      <td>...</td>\n",
       "      <td>...</td>\n",
       "      <td>...</td>\n",
       "      <td>...</td>\n",
       "      <td>...</td>\n",
       "      <td>...</td>\n",
       "      <td>...</td>\n",
       "      <td>...</td>\n",
       "      <td>...</td>\n",
       "      <td>...</td>\n",
       "      <td>...</td>\n",
       "      <td>...</td>\n",
       "      <td>...</td>\n",
       "      <td>...</td>\n",
       "      <td>...</td>\n",
       "      <td>...</td>\n",
       "      <td>...</td>\n",
       "      <td>...</td>\n",
       "      <td>...</td>\n",
       "      <td>...</td>\n",
       "      <td>...</td>\n",
       "      <td>...</td>\n",
       "      <td>...</td>\n",
       "      <td>...</td>\n",
       "      <td>...</td>\n",
       "      <td>...</td>\n",
       "      <td>...</td>\n",
       "      <td>...</td>\n",
       "      <td>...</td>\n",
       "      <td>...</td>\n",
       "      <td>...</td>\n",
       "      <td>...</td>\n",
       "      <td>...</td>\n",
       "      <td>...</td>\n",
       "      <td>...</td>\n",
       "      <td>...</td>\n",
       "      <td>...</td>\n",
       "      <td>...</td>\n",
       "      <td>...</td>\n",
       "      <td>...</td>\n",
       "      <td>...</td>\n",
       "      <td>...</td>\n",
       "      <td>...</td>\n",
       "      <td>...</td>\n",
       "      <td>...</td>\n",
       "      <td>...</td>\n",
       "      <td>...</td>\n",
       "      <td>...</td>\n",
       "      <td>...</td>\n",
       "      <td>...</td>\n",
       "      <td>...</td>\n",
       "      <td>...</td>\n",
       "      <td>...</td>\n",
       "      <td>...</td>\n",
       "      <td>...</td>\n",
       "      <td>...</td>\n",
       "      <td>...</td>\n",
       "      <td>...</td>\n",
       "      <td>...</td>\n",
       "      <td>...</td>\n",
       "      <td>...</td>\n",
       "      <td>...</td>\n",
       "      <td>...</td>\n",
       "      <td>...</td>\n",
       "      <td>...</td>\n",
       "      <td>...</td>\n",
       "      <td>...</td>\n",
       "      <td>...</td>\n",
       "      <td>...</td>\n",
       "      <td>...</td>\n",
       "      <td>...</td>\n",
       "      <td>...</td>\n",
       "      <td>...</td>\n",
       "      <td>...</td>\n",
       "      <td>...</td>\n",
       "      <td>...</td>\n",
       "      <td>...</td>\n",
       "      <td>...</td>\n",
       "      <td>...</td>\n",
       "      <td>...</td>\n",
       "      <td>...</td>\n",
       "      <td>...</td>\n",
       "      <td>...</td>\n",
       "      <td>...</td>\n",
       "      <td>...</td>\n",
       "      <td>...</td>\n",
       "      <td>...</td>\n",
       "      <td>...</td>\n",
       "      <td>...</td>\n",
       "      <td>...</td>\n",
       "      <td>...</td>\n",
       "      <td>...</td>\n",
       "      <td>...</td>\n",
       "      <td>...</td>\n",
       "      <td>...</td>\n",
       "      <td>...</td>\n",
       "      <td>...</td>\n",
       "      <td>...</td>\n",
       "      <td>...</td>\n",
       "      <td>...</td>\n",
       "      <td>...</td>\n",
       "      <td>...</td>\n",
       "      <td>...</td>\n",
       "      <td>...</td>\n",
       "      <td>...</td>\n",
       "      <td>...</td>\n",
       "      <td>...</td>\n",
       "      <td>...</td>\n",
       "      <td>...</td>\n",
       "      <td>...</td>\n",
       "      <td>...</td>\n",
       "      <td>...</td>\n",
       "      <td>...</td>\n",
       "      <td>...</td>\n",
       "      <td>...</td>\n",
       "      <td>...</td>\n",
       "      <td>...</td>\n",
       "      <td>...</td>\n",
       "      <td>...</td>\n",
       "      <td>...</td>\n",
       "      <td>...</td>\n",
       "      <td>...</td>\n",
       "      <td>...</td>\n",
       "      <td>...</td>\n",
       "      <td>...</td>\n",
       "      <td>...</td>\n",
       "      <td>...</td>\n",
       "      <td>...</td>\n",
       "      <td>...</td>\n",
       "      <td>...</td>\n",
       "      <td>...</td>\n",
       "      <td>...</td>\n",
       "      <td>...</td>\n",
       "      <td>...</td>\n",
       "      <td>...</td>\n",
       "      <td>...</td>\n",
       "      <td>...</td>\n",
       "      <td>...</td>\n",
       "      <td>...</td>\n",
       "      <td>...</td>\n",
       "      <td>...</td>\n",
       "      <td>...</td>\n",
       "      <td>...</td>\n",
       "      <td>...</td>\n",
       "      <td>...</td>\n",
       "      <td>...</td>\n",
       "      <td>...</td>\n",
       "      <td>...</td>\n",
       "      <td>...</td>\n",
       "      <td>...</td>\n",
       "      <td>...</td>\n",
       "      <td>...</td>\n",
       "      <td>...</td>\n",
       "      <td>...</td>\n",
       "      <td>...</td>\n",
       "      <td>...</td>\n",
       "      <td>...</td>\n",
       "      <td>...</td>\n",
       "      <td>...</td>\n",
       "      <td>...</td>\n",
       "      <td>...</td>\n",
       "      <td>...</td>\n",
       "      <td>...</td>\n",
       "      <td>...</td>\n",
       "      <td>...</td>\n",
       "      <td>...</td>\n",
       "      <td>...</td>\n",
       "      <td>...</td>\n",
       "      <td>...</td>\n",
       "      <td>...</td>\n",
       "      <td>...</td>\n",
       "      <td>...</td>\n",
       "      <td>...</td>\n",
       "      <td>...</td>\n",
       "      <td>...</td>\n",
       "      <td>...</td>\n",
       "      <td>...</td>\n",
       "      <td>...</td>\n",
       "      <td>...</td>\n",
       "      <td>...</td>\n",
       "      <td>...</td>\n",
       "      <td>...</td>\n",
       "      <td>...</td>\n",
       "      <td>...</td>\n",
       "      <td>...</td>\n",
       "      <td>...</td>\n",
       "      <td>...</td>\n",
       "      <td>...</td>\n",
       "      <td>...</td>\n",
       "      <td>...</td>\n",
       "      <td>...</td>\n",
       "      <td>...</td>\n",
       "      <td>...</td>\n",
       "      <td>...</td>\n",
       "      <td>...</td>\n",
       "      <td>...</td>\n",
       "      <td>...</td>\n",
       "      <td>...</td>\n",
       "      <td>...</td>\n",
       "      <td>...</td>\n",
       "      <td>...</td>\n",
       "      <td>...</td>\n",
       "      <td>...</td>\n",
       "      <td>...</td>\n",
       "      <td>...</td>\n",
       "      <td>...</td>\n",
       "      <td>...</td>\n",
       "      <td>...</td>\n",
       "      <td>...</td>\n",
       "      <td>...</td>\n",
       "      <td>...</td>\n",
       "      <td>...</td>\n",
       "      <td>...</td>\n",
       "      <td>...</td>\n",
       "      <td>...</td>\n",
       "      <td>...</td>\n",
       "      <td>...</td>\n",
       "      <td>...</td>\n",
       "      <td>...</td>\n",
       "      <td>...</td>\n",
       "      <td>...</td>\n",
       "      <td>...</td>\n",
       "      <td>...</td>\n",
       "      <td>...</td>\n",
       "      <td>...</td>\n",
       "      <td>...</td>\n",
       "      <td>...</td>\n",
       "      <td>...</td>\n",
       "      <td>...</td>\n",
       "      <td>...</td>\n",
       "      <td>...</td>\n",
       "      <td>...</td>\n",
       "      <td>...</td>\n",
       "      <td>...</td>\n",
       "      <td>...</td>\n",
       "      <td>...</td>\n",
       "      <td>...</td>\n",
       "      <td>...</td>\n",
       "      <td>...</td>\n",
       "      <td>...</td>\n",
       "      <td>...</td>\n",
       "      <td>...</td>\n",
       "      <td>...</td>\n",
       "      <td>...</td>\n",
       "      <td>...</td>\n",
       "      <td>...</td>\n",
       "      <td>...</td>\n",
       "      <td>...</td>\n",
       "      <td>...</td>\n",
       "      <td>...</td>\n",
       "      <td>...</td>\n",
       "      <td>...</td>\n",
       "      <td>...</td>\n",
       "      <td>...</td>\n",
       "      <td>...</td>\n",
       "      <td>...</td>\n",
       "      <td>...</td>\n",
       "      <td>...</td>\n",
       "      <td>...</td>\n",
       "      <td>...</td>\n",
       "      <td>...</td>\n",
       "      <td>...</td>\n",
       "      <td>...</td>\n",
       "      <td>...</td>\n",
       "      <td>...</td>\n",
       "      <td>...</td>\n",
       "      <td>...</td>\n",
       "      <td>...</td>\n",
       "      <td>...</td>\n",
       "      <td>...</td>\n",
       "      <td>...</td>\n",
       "      <td>...</td>\n",
       "      <td>...</td>\n",
       "      <td>...</td>\n",
       "      <td>...</td>\n",
       "      <td>...</td>\n",
       "      <td>...</td>\n",
       "      <td>...</td>\n",
       "      <td>...</td>\n",
       "      <td>...</td>\n",
       "      <td>...</td>\n",
       "      <td>...</td>\n",
       "      <td>...</td>\n",
       "      <td>...</td>\n",
       "      <td>...</td>\n",
       "      <td>...</td>\n",
       "      <td>...</td>\n",
       "      <td>...</td>\n",
       "      <td>...</td>\n",
       "      <td>...</td>\n",
       "      <td>...</td>\n",
       "      <td>...</td>\n",
       "      <td>...</td>\n",
       "      <td>...</td>\n",
       "      <td>...</td>\n",
       "      <td>...</td>\n",
       "      <td>...</td>\n",
       "      <td>...</td>\n",
       "      <td>...</td>\n",
       "      <td>...</td>\n",
       "      <td>...</td>\n",
       "      <td>...</td>\n",
       "      <td>...</td>\n",
       "      <td>...</td>\n",
       "      <td>...</td>\n",
       "      <td>...</td>\n",
       "      <td>...</td>\n",
       "      <td>...</td>\n",
       "      <td>...</td>\n",
       "      <td>...</td>\n",
       "      <td>...</td>\n",
       "      <td>...</td>\n",
       "      <td>...</td>\n",
       "      <td>...</td>\n",
       "      <td>...</td>\n",
       "      <td>...</td>\n",
       "      <td>...</td>\n",
       "      <td>...</td>\n",
       "      <td>...</td>\n",
       "      <td>...</td>\n",
       "      <td>...</td>\n",
       "      <td>...</td>\n",
       "      <td>...</td>\n",
       "      <td>...</td>\n",
       "      <td>...</td>\n",
       "      <td>...</td>\n",
       "      <td>...</td>\n",
       "      <td>...</td>\n",
       "      <td>...</td>\n",
       "      <td>...</td>\n",
       "      <td>...</td>\n",
       "      <td>...</td>\n",
       "      <td>...</td>\n",
       "      <td>...</td>\n",
       "      <td>...</td>\n",
       "      <td>...</td>\n",
       "      <td>...</td>\n",
       "      <td>...</td>\n",
       "      <td>...</td>\n",
       "      <td>...</td>\n",
       "      <td>...</td>\n",
       "      <td>...</td>\n",
       "      <td>...</td>\n",
       "      <td>...</td>\n",
       "      <td>...</td>\n",
       "      <td>...</td>\n",
       "      <td>...</td>\n",
       "      <td>...</td>\n",
       "      <td>...</td>\n",
       "      <td>...</td>\n",
       "      <td>...</td>\n",
       "      <td>...</td>\n",
       "      <td>...</td>\n",
       "      <td>...</td>\n",
       "      <td>...</td>\n",
       "      <td>...</td>\n",
       "      <td>...</td>\n",
       "      <td>...</td>\n",
       "      <td>...</td>\n",
       "      <td>...</td>\n",
       "      <td>...</td>\n",
       "      <td>...</td>\n",
       "      <td>...</td>\n",
       "      <td>...</td>\n",
       "      <td>...</td>\n",
       "      <td>...</td>\n",
       "      <td>...</td>\n",
       "      <td>...</td>\n",
       "      <td>...</td>\n",
       "      <td>...</td>\n",
       "      <td>...</td>\n",
       "      <td>...</td>\n",
       "      <td>...</td>\n",
       "      <td>...</td>\n",
       "      <td>...</td>\n",
       "      <td>...</td>\n",
       "      <td>...</td>\n",
       "      <td>...</td>\n",
       "      <td>...</td>\n",
       "      <td>...</td>\n",
       "      <td>...</td>\n",
       "      <td>...</td>\n",
       "      <td>...</td>\n",
       "      <td>...</td>\n",
       "      <td>...</td>\n",
       "      <td>...</td>\n",
       "      <td>...</td>\n",
       "      <td>...</td>\n",
       "      <td>...</td>\n",
       "      <td>...</td>\n",
       "      <td>...</td>\n",
       "      <td>...</td>\n",
       "      <td>...</td>\n",
       "      <td>...</td>\n",
       "      <td>...</td>\n",
       "      <td>...</td>\n",
       "      <td>...</td>\n",
       "      <td>...</td>\n",
       "      <td>...</td>\n",
       "      <td>...</td>\n",
       "      <td>...</td>\n",
       "      <td>...</td>\n",
       "      <td>...</td>\n",
       "      <td>...</td>\n",
       "      <td>...</td>\n",
       "      <td>...</td>\n",
       "      <td>...</td>\n",
       "      <td>...</td>\n",
       "      <td>...</td>\n",
       "      <td>...</td>\n",
       "      <td>...</td>\n",
       "      <td>...</td>\n",
       "      <td>...</td>\n",
       "      <td>...</td>\n",
       "      <td>...</td>\n",
       "      <td>...</td>\n",
       "      <td>...</td>\n",
       "      <td>...</td>\n",
       "      <td>...</td>\n",
       "      <td>...</td>\n",
       "      <td>...</td>\n",
       "      <td>...</td>\n",
       "      <td>...</td>\n",
       "      <td>...</td>\n",
       "      <td>...</td>\n",
       "      <td>...</td>\n",
       "      <td>...</td>\n",
       "      <td>...</td>\n",
       "      <td>...</td>\n",
       "      <td>...</td>\n",
       "      <td>...</td>\n",
       "      <td>...</td>\n",
       "      <td>...</td>\n",
       "      <td>...</td>\n",
       "      <td>...</td>\n",
       "      <td>...</td>\n",
       "      <td>...</td>\n",
       "      <td>...</td>\n",
       "      <td>...</td>\n",
       "      <td>...</td>\n",
       "      <td>...</td>\n",
       "      <td>...</td>\n",
       "      <td>...</td>\n",
       "      <td>...</td>\n",
       "      <td>...</td>\n",
       "      <td>...</td>\n",
       "      <td>...</td>\n",
       "      <td>...</td>\n",
       "      <td>...</td>\n",
       "      <td>...</td>\n",
       "      <td>...</td>\n",
       "      <td>...</td>\n",
       "      <td>...</td>\n",
       "      <td>...</td>\n",
       "      <td>...</td>\n",
       "      <td>...</td>\n",
       "      <td>...</td>\n",
       "      <td>...</td>\n",
       "      <td>...</td>\n",
       "      <td>...</td>\n",
       "      <td>...</td>\n",
       "      <td>...</td>\n",
       "      <td>...</td>\n",
       "      <td>...</td>\n",
       "      <td>...</td>\n",
       "      <td>...</td>\n",
       "      <td>...</td>\n",
       "      <td>...</td>\n",
       "      <td>...</td>\n",
       "      <td>...</td>\n",
       "      <td>...</td>\n",
       "      <td>...</td>\n",
       "      <td>...</td>\n",
       "      <td>...</td>\n",
       "      <td>...</td>\n",
       "      <td>...</td>\n",
       "    </tr>\n",
       "    <tr>\n",
       "      <th>3243</th>\n",
       "      <td>0x7dd7a7b8ee1bec7c44b24f738c752482f6161065</td>\n",
       "      <td>0.011</td>\n",
       "      <td>1.089</td>\n",
       "      <td>0.014</td>\n",
       "      <td>0.204</td>\n",
       "      <td>0.015</td>\n",
       "      <td>0.159</td>\n",
       "      <td>0.014</td>\n",
       "      <td>0.013</td>\n",
       "      <td>0.174</td>\n",
       "      <td>0.013</td>\n",
       "      <td>0.014</td>\n",
       "      <td>0.014</td>\n",
       "      <td>0.014</td>\n",
       "      <td>0.189</td>\n",
       "      <td>0.015</td>\n",
       "      <td>0.011</td>\n",
       "      <td>0.011</td>\n",
       "      <td>0.011</td>\n",
       "      <td>0.011</td>\n",
       "      <td>0.011</td>\n",
       "      <td>0.011</td>\n",
       "      <td>0.011</td>\n",
       "      <td>0.011</td>\n",
       "      <td>0.011</td>\n",
       "      <td>0.011</td>\n",
       "      <td>0.011</td>\n",
       "      <td>0.011</td>\n",
       "      <td>0.011</td>\n",
       "      <td>0.011</td>\n",
       "      <td>0.011</td>\n",
       "      <td>0.011</td>\n",
       "      <td>0.011</td>\n",
       "      <td>0.011</td>\n",
       "      <td>0.011</td>\n",
       "      <td>0.011</td>\n",
       "      <td>0.011</td>\n",
       "      <td>0.011</td>\n",
       "      <td>0.011</td>\n",
       "      <td>0.012</td>\n",
       "      <td>0.011</td>\n",
       "      <td>0.011</td>\n",
       "      <td>0.011</td>\n",
       "      <td>0.011</td>\n",
       "      <td>0.012</td>\n",
       "      <td>0.011</td>\n",
       "      <td>0.011</td>\n",
       "      <td>0.011</td>\n",
       "      <td>0.011</td>\n",
       "      <td>0.010</td>\n",
       "      <td>1.066</td>\n",
       "      <td>0.133</td>\n",
       "      <td>0.074</td>\n",
       "      <td>0.069</td>\n",
       "      <td>0.153</td>\n",
       "      <td>0.014</td>\n",
       "      <td>0.014</td>\n",
       "      <td>0.160</td>\n",
       "      <td>0.014</td>\n",
       "      <td>0.014</td>\n",
       "      <td>0.122</td>\n",
       "      <td>0.063</td>\n",
       "      <td>0.015</td>\n",
       "      <td>0.014</td>\n",
       "      <td>0.011</td>\n",
       "      <td>0.012</td>\n",
       "      <td>0.011</td>\n",
       "      <td>0.011</td>\n",
       "      <td>0.011</td>\n",
       "      <td>0.011</td>\n",
       "      <td>0.011</td>\n",
       "      <td>0.011</td>\n",
       "      <td>0.011</td>\n",
       "      <td>0.011</td>\n",
       "      <td>0.011</td>\n",
       "      <td>0.011</td>\n",
       "      <td>0.011</td>\n",
       "      <td>0.011</td>\n",
       "      <td>0.011</td>\n",
       "      <td>0.011</td>\n",
       "      <td>0.011</td>\n",
       "      <td>0.011</td>\n",
       "      <td>0.011</td>\n",
       "      <td>0.010</td>\n",
       "      <td>0.011</td>\n",
       "      <td>0.012</td>\n",
       "      <td>0.011</td>\n",
       "      <td>0.011</td>\n",
       "      <td>0.012</td>\n",
       "      <td>0.011</td>\n",
       "      <td>0.011</td>\n",
       "      <td>0.011</td>\n",
       "      <td>0.011</td>\n",
       "      <td>0.011</td>\n",
       "      <td>0.012</td>\n",
       "      <td>0.011</td>\n",
       "      <td>0.011</td>\n",
       "      <td>0.011</td>\n",
       "      <td>1.077</td>\n",
       "      <td>0.175</td>\n",
       "      <td>0.014</td>\n",
       "      <td>0.208</td>\n",
       "      <td>0.014</td>\n",
       "      <td>0.014</td>\n",
       "      <td>0.231</td>\n",
       "      <td>0.014</td>\n",
       "      <td>0.014</td>\n",
       "      <td>0.014</td>\n",
       "      <td>0.158</td>\n",
       "      <td>0.014</td>\n",
       "      <td>0.015</td>\n",
       "      <td>0.014</td>\n",
       "      <td>0.011</td>\n",
       "      <td>0.011</td>\n",
       "      <td>0.010</td>\n",
       "      <td>0.011</td>\n",
       "      <td>0.011</td>\n",
       "      <td>0.011</td>\n",
       "      <td>0.010</td>\n",
       "      <td>0.011</td>\n",
       "      <td>0.011</td>\n",
       "      <td>0.011</td>\n",
       "      <td>0.010</td>\n",
       "      <td>0.011</td>\n",
       "      <td>0.011</td>\n",
       "      <td>0.011</td>\n",
       "      <td>0.012</td>\n",
       "      <td>0.011</td>\n",
       "      <td>0.011</td>\n",
       "      <td>0.011</td>\n",
       "      <td>0.011</td>\n",
       "      <td>0.011</td>\n",
       "      <td>0.012</td>\n",
       "      <td>0.011</td>\n",
       "      <td>0.011</td>\n",
       "      <td>0.012</td>\n",
       "      <td>0.011</td>\n",
       "      <td>0.011</td>\n",
       "      <td>0.012</td>\n",
       "      <td>0.011</td>\n",
       "      <td>0.011</td>\n",
       "      <td>0.012</td>\n",
       "      <td>0.011</td>\n",
       "      <td>0.011</td>\n",
       "      <td>0.011</td>\n",
       "      <td>0.012</td>\n",
       "      <td>1.142</td>\n",
       "      <td>0.031</td>\n",
       "      <td>0.155</td>\n",
       "      <td>0.147</td>\n",
       "      <td>0.084</td>\n",
       "      <td>0.014</td>\n",
       "      <td>0.015</td>\n",
       "      <td>0.134</td>\n",
       "      <td>0.014</td>\n",
       "      <td>0.014</td>\n",
       "      <td>0.346</td>\n",
       "      <td>0.014</td>\n",
       "      <td>0.014</td>\n",
       "      <td>0.014</td>\n",
       "      <td>0.011</td>\n",
       "      <td>0.011</td>\n",
       "      <td>0.011</td>\n",
       "      <td>0.011</td>\n",
       "      <td>0.011</td>\n",
       "      <td>0.010</td>\n",
       "      <td>0.011</td>\n",
       "      <td>0.011</td>\n",
       "      <td>0.011</td>\n",
       "      <td>0.011</td>\n",
       "      <td>0.011</td>\n",
       "      <td>0.011</td>\n",
       "      <td>0.011</td>\n",
       "      <td>0.011</td>\n",
       "      <td>0.012</td>\n",
       "      <td>0.011</td>\n",
       "      <td>0.011</td>\n",
       "      <td>0.011</td>\n",
       "      <td>0.011</td>\n",
       "      <td>0.011</td>\n",
       "      <td>0.011</td>\n",
       "      <td>0.011</td>\n",
       "      <td>0.012</td>\n",
       "      <td>0.011</td>\n",
       "      <td>0.011</td>\n",
       "      <td>0.012</td>\n",
       "      <td>0.011</td>\n",
       "      <td>0.011</td>\n",
       "      <td>0.012</td>\n",
       "      <td>0.011</td>\n",
       "      <td>0.011</td>\n",
       "      <td>0.011</td>\n",
       "      <td>0.011</td>\n",
       "      <td>0.012</td>\n",
       "      <td>1.041</td>\n",
       "      <td>0.014</td>\n",
       "      <td>0.221</td>\n",
       "      <td>0.014</td>\n",
       "      <td>0.145</td>\n",
       "      <td>0.014</td>\n",
       "      <td>0.015</td>\n",
       "      <td>0.160</td>\n",
       "      <td>0.014</td>\n",
       "      <td>0.015</td>\n",
       "      <td>0.014</td>\n",
       "      <td>0.156</td>\n",
       "      <td>0.014</td>\n",
       "      <td>0.014</td>\n",
       "      <td>0.011</td>\n",
       "      <td>0.011</td>\n",
       "      <td>0.011</td>\n",
       "      <td>0.011</td>\n",
       "      <td>0.011</td>\n",
       "      <td>0.010</td>\n",
       "      <td>0.011</td>\n",
       "      <td>0.011</td>\n",
       "      <td>0.011</td>\n",
       "      <td>0.010</td>\n",
       "      <td>0.011</td>\n",
       "      <td>0.011</td>\n",
       "      <td>0.011</td>\n",
       "      <td>0.012</td>\n",
       "      <td>0.011</td>\n",
       "      <td>0.011</td>\n",
       "      <td>0.011</td>\n",
       "      <td>0.011</td>\n",
       "      <td>0.011</td>\n",
       "      <td>0.011</td>\n",
       "      <td>0.011</td>\n",
       "      <td>0.012</td>\n",
       "      <td>0.011</td>\n",
       "      <td>0.011</td>\n",
       "      <td>0.012</td>\n",
       "      <td>0.011</td>\n",
       "      <td>0.011</td>\n",
       "      <td>0.012</td>\n",
       "      <td>0.011</td>\n",
       "      <td>0.011</td>\n",
       "      <td>0.011</td>\n",
       "      <td>0.012</td>\n",
       "      <td>0.011</td>\n",
       "      <td>0.011</td>\n",
       "      <td>1.140</td>\n",
       "      <td>0.167</td>\n",
       "      <td>0.082</td>\n",
       "      <td>0.015</td>\n",
       "      <td>0.156</td>\n",
       "      <td>0.014</td>\n",
       "      <td>0.154</td>\n",
       "      <td>0.014</td>\n",
       "      <td>...</td>\n",
       "      <td>0.185</td>\n",
       "      <td>0.176</td>\n",
       "      <td>0.186</td>\n",
       "      <td>0.203</td>\n",
       "      <td>0.189</td>\n",
       "      <td>0.182</td>\n",
       "      <td>0.179</td>\n",
       "      <td>0.199</td>\n",
       "      <td>0.198</td>\n",
       "      <td>0.183</td>\n",
       "      <td>NaN</td>\n",
       "      <td>NaN</td>\n",
       "      <td>NaN</td>\n",
       "      <td>NaN</td>\n",
       "      <td>NaN</td>\n",
       "      <td>NaN</td>\n",
       "      <td>NaN</td>\n",
       "      <td>NaN</td>\n",
       "      <td>NaN</td>\n",
       "      <td>NaN</td>\n",
       "      <td>NaN</td>\n",
       "      <td>NaN</td>\n",
       "      <td>NaN</td>\n",
       "      <td>NaN</td>\n",
       "      <td>NaN</td>\n",
       "      <td>NaN</td>\n",
       "      <td>NaN</td>\n",
       "      <td>NaN</td>\n",
       "      <td>NaN</td>\n",
       "      <td>NaN</td>\n",
       "      <td>NaN</td>\n",
       "      <td>NaN</td>\n",
       "      <td>NaN</td>\n",
       "      <td>NaN</td>\n",
       "      <td>NaN</td>\n",
       "      <td>NaN</td>\n",
       "      <td>NaN</td>\n",
       "      <td>NaN</td>\n",
       "      <td>NaN</td>\n",
       "      <td>NaN</td>\n",
       "      <td>NaN</td>\n",
       "      <td>NaN</td>\n",
       "      <td>NaN</td>\n",
       "      <td>NaN</td>\n",
       "      <td>NaN</td>\n",
       "      <td>NaN</td>\n",
       "      <td>NaN</td>\n",
       "      <td>NaN</td>\n",
       "      <td>NaN</td>\n",
       "      <td>NaN</td>\n",
       "      <td>NaN</td>\n",
       "      <td>NaN</td>\n",
       "      <td>NaN</td>\n",
       "      <td>NaN</td>\n",
       "      <td>NaN</td>\n",
       "      <td>NaN</td>\n",
       "      <td>NaN</td>\n",
       "      <td>NaN</td>\n",
       "      <td>0.179</td>\n",
       "      <td>1.175</td>\n",
       "      <td>0.377</td>\n",
       "      <td>0.321</td>\n",
       "      <td>0.264</td>\n",
       "      <td>0.038</td>\n",
       "      <td>0.407</td>\n",
       "      <td>0.118</td>\n",
       "      <td>0.204</td>\n",
       "      <td>0.036</td>\n",
       "      <td>0.308</td>\n",
       "      <td>0.026</td>\n",
       "      <td>0.188</td>\n",
       "      <td>0.197</td>\n",
       "      <td>0.041</td>\n",
       "      <td>0.192</td>\n",
       "      <td>0.180</td>\n",
       "      <td>0.192</td>\n",
       "      <td>0.193</td>\n",
       "      <td>0.180</td>\n",
       "      <td>0.182</td>\n",
       "      <td>0.187</td>\n",
       "      <td>0.194</td>\n",
       "      <td>0.179</td>\n",
       "      <td>0.178</td>\n",
       "      <td>0.193</td>\n",
       "      <td>0.190</td>\n",
       "      <td>0.177</td>\n",
       "      <td>0.184</td>\n",
       "      <td>0.189</td>\n",
       "      <td>0.191</td>\n",
       "      <td>0.183</td>\n",
       "      <td>0.177</td>\n",
       "      <td>0.193</td>\n",
       "      <td>0.192</td>\n",
       "      <td>0.178</td>\n",
       "      <td>0.184</td>\n",
       "      <td>0.193</td>\n",
       "      <td>0.190</td>\n",
       "      <td>0.184</td>\n",
       "      <td>0.179</td>\n",
       "      <td>0.193</td>\n",
       "      <td>0.195</td>\n",
       "      <td>0.180</td>\n",
       "      <td>0.182</td>\n",
       "      <td>0.200</td>\n",
       "      <td>0.188</td>\n",
       "      <td>0.181</td>\n",
       "      <td>NaN</td>\n",
       "      <td>NaN</td>\n",
       "      <td>NaN</td>\n",
       "      <td>NaN</td>\n",
       "      <td>NaN</td>\n",
       "      <td>NaN</td>\n",
       "      <td>NaN</td>\n",
       "      <td>NaN</td>\n",
       "      <td>NaN</td>\n",
       "      <td>NaN</td>\n",
       "      <td>NaN</td>\n",
       "      <td>NaN</td>\n",
       "      <td>NaN</td>\n",
       "      <td>NaN</td>\n",
       "      <td>NaN</td>\n",
       "      <td>NaN</td>\n",
       "      <td>NaN</td>\n",
       "      <td>NaN</td>\n",
       "      <td>NaN</td>\n",
       "      <td>NaN</td>\n",
       "      <td>NaN</td>\n",
       "      <td>NaN</td>\n",
       "      <td>NaN</td>\n",
       "      <td>NaN</td>\n",
       "      <td>NaN</td>\n",
       "      <td>NaN</td>\n",
       "      <td>NaN</td>\n",
       "      <td>NaN</td>\n",
       "      <td>NaN</td>\n",
       "      <td>NaN</td>\n",
       "      <td>NaN</td>\n",
       "      <td>NaN</td>\n",
       "      <td>NaN</td>\n",
       "      <td>NaN</td>\n",
       "      <td>NaN</td>\n",
       "      <td>NaN</td>\n",
       "      <td>NaN</td>\n",
       "      <td>NaN</td>\n",
       "      <td>NaN</td>\n",
       "      <td>NaN</td>\n",
       "      <td>NaN</td>\n",
       "      <td>NaN</td>\n",
       "      <td>NaN</td>\n",
       "      <td>NaN</td>\n",
       "      <td>NaN</td>\n",
       "      <td>NaN</td>\n",
       "      <td>NaN</td>\n",
       "      <td>NaN</td>\n",
       "      <td>0.185</td>\n",
       "      <td>1.284</td>\n",
       "      <td>0.341</td>\n",
       "      <td>0.325</td>\n",
       "      <td>0.197</td>\n",
       "      <td>0.162</td>\n",
       "      <td>0.309</td>\n",
       "      <td>0.191</td>\n",
       "      <td>0.265</td>\n",
       "      <td>0.026</td>\n",
       "      <td>0.203</td>\n",
       "      <td>0.116</td>\n",
       "      <td>0.050</td>\n",
       "      <td>0.114</td>\n",
       "      <td>0.023</td>\n",
       "      <td>0.027</td>\n",
       "      <td>0.207</td>\n",
       "      <td>0.187</td>\n",
       "      <td>0.185</td>\n",
       "      <td>0.179</td>\n",
       "      <td>0.184</td>\n",
       "      <td>0.199</td>\n",
       "      <td>0.180</td>\n",
       "      <td>0.176</td>\n",
       "      <td>0.180</td>\n",
       "      <td>0.200</td>\n",
       "      <td>0.179</td>\n",
       "      <td>0.179</td>\n",
       "      <td>0.180</td>\n",
       "      <td>0.191</td>\n",
       "      <td>0.186</td>\n",
       "      <td>0.182</td>\n",
       "      <td>0.177</td>\n",
       "      <td>0.186</td>\n",
       "      <td>0.196</td>\n",
       "      <td>0.177</td>\n",
       "      <td>0.178</td>\n",
       "      <td>0.187</td>\n",
       "      <td>0.197</td>\n",
       "      <td>0.179</td>\n",
       "      <td>0.183</td>\n",
       "      <td>0.179</td>\n",
       "      <td>0.201</td>\n",
       "      <td>0.184</td>\n",
       "      <td>0.178</td>\n",
       "      <td>0.177</td>\n",
       "      <td>0.207</td>\n",
       "      <td>0.179</td>\n",
       "      <td>0.177</td>\n",
       "      <td>1.245</td>\n",
       "      <td>0.335</td>\n",
       "      <td>0.263</td>\n",
       "      <td>0.268</td>\n",
       "      <td>0.161</td>\n",
       "      <td>0.046</td>\n",
       "      <td>0.164</td>\n",
       "      <td>0.189</td>\n",
       "      <td>0.112</td>\n",
       "      <td>0.044</td>\n",
       "      <td>0.115</td>\n",
       "      <td>0.110</td>\n",
       "      <td>0.027</td>\n",
       "      <td>0.228</td>\n",
       "      <td>0.077</td>\n",
       "      <td>0.182</td>\n",
       "      <td>0.180</td>\n",
       "      <td>0.194</td>\n",
       "      <td>0.190</td>\n",
       "      <td>0.179</td>\n",
       "      <td>0.181</td>\n",
       "      <td>0.184</td>\n",
       "      <td>0.195</td>\n",
       "      <td>0.181</td>\n",
       "      <td>0.177</td>\n",
       "      <td>0.184</td>\n",
       "      <td>0.198</td>\n",
       "      <td>0.177</td>\n",
       "      <td>0.182</td>\n",
       "      <td>0.180</td>\n",
       "      <td>0.196</td>\n",
       "      <td>0.182</td>\n",
       "      <td>0.177</td>\n",
       "      <td>0.181</td>\n",
       "      <td>0.203</td>\n",
       "      <td>0.176</td>\n",
       "      <td>0.183</td>\n",
       "      <td>0.176</td>\n",
       "      <td>0.200</td>\n",
       "      <td>0.184</td>\n",
       "      <td>0.177</td>\n",
       "      <td>0.182</td>\n",
       "      <td>0.201</td>\n",
       "      <td>0.181</td>\n",
       "      <td>0.181</td>\n",
       "      <td>0.177</td>\n",
       "      <td>0.198</td>\n",
       "    </tr>\n",
       "    <tr>\n",
       "      <th>3244</th>\n",
       "      <td>0xfdaf9f857621ec06f2cf801f42a020a322835090</td>\n",
       "      <td>0.015</td>\n",
       "      <td>1.523</td>\n",
       "      <td>0.105</td>\n",
       "      <td>0.296</td>\n",
       "      <td>0.067</td>\n",
       "      <td>0.171</td>\n",
       "      <td>0.025</td>\n",
       "      <td>0.260</td>\n",
       "      <td>0.013</td>\n",
       "      <td>0.024</td>\n",
       "      <td>0.012</td>\n",
       "      <td>0.178</td>\n",
       "      <td>0.018</td>\n",
       "      <td>0.454</td>\n",
       "      <td>0.290</td>\n",
       "      <td>1.228</td>\n",
       "      <td>1.228</td>\n",
       "      <td>1.229</td>\n",
       "      <td>1.199</td>\n",
       "      <td>1.075</td>\n",
       "      <td>0.021</td>\n",
       "      <td>0.009</td>\n",
       "      <td>0.019</td>\n",
       "      <td>0.011</td>\n",
       "      <td>0.009</td>\n",
       "      <td>0.023</td>\n",
       "      <td>0.008</td>\n",
       "      <td>0.017</td>\n",
       "      <td>0.014</td>\n",
       "      <td>0.009</td>\n",
       "      <td>0.022</td>\n",
       "      <td>0.008</td>\n",
       "      <td>0.555</td>\n",
       "      <td>1.227</td>\n",
       "      <td>1.222</td>\n",
       "      <td>1.237</td>\n",
       "      <td>0.446</td>\n",
       "      <td>0.028</td>\n",
       "      <td>0.020</td>\n",
       "      <td>0.009</td>\n",
       "      <td>0.021</td>\n",
       "      <td>0.011</td>\n",
       "      <td>0.009</td>\n",
       "      <td>0.022</td>\n",
       "      <td>0.009</td>\n",
       "      <td>0.016</td>\n",
       "      <td>0.016</td>\n",
       "      <td>0.009</td>\n",
       "      <td>0.021</td>\n",
       "      <td>1.515</td>\n",
       "      <td>0.168</td>\n",
       "      <td>0.300</td>\n",
       "      <td>0.015</td>\n",
       "      <td>0.184</td>\n",
       "      <td>0.019</td>\n",
       "      <td>0.231</td>\n",
       "      <td>0.025</td>\n",
       "      <td>0.012</td>\n",
       "      <td>0.177</td>\n",
       "      <td>0.027</td>\n",
       "      <td>0.275</td>\n",
       "      <td>0.014</td>\n",
       "      <td>0.415</td>\n",
       "      <td>0.020</td>\n",
       "      <td>0.035</td>\n",
       "      <td>0.023</td>\n",
       "      <td>0.017</td>\n",
       "      <td>0.021</td>\n",
       "      <td>0.009</td>\n",
       "      <td>0.018</td>\n",
       "      <td>0.014</td>\n",
       "      <td>0.008</td>\n",
       "      <td>0.021</td>\n",
       "      <td>0.009</td>\n",
       "      <td>0.011</td>\n",
       "      <td>0.019</td>\n",
       "      <td>0.009</td>\n",
       "      <td>0.016</td>\n",
       "      <td>0.014</td>\n",
       "      <td>0.009</td>\n",
       "      <td>0.019</td>\n",
       "      <td>0.010</td>\n",
       "      <td>0.839</td>\n",
       "      <td>1.248</td>\n",
       "      <td>1.247</td>\n",
       "      <td>1.254</td>\n",
       "      <td>1.255</td>\n",
       "      <td>1.236</td>\n",
       "      <td>1.241</td>\n",
       "      <td>1.242</td>\n",
       "      <td>1.238</td>\n",
       "      <td>1.237</td>\n",
       "      <td>0.499</td>\n",
       "      <td>0.009</td>\n",
       "      <td>0.021</td>\n",
       "      <td>0.008</td>\n",
       "      <td>0.018</td>\n",
       "      <td>1.507</td>\n",
       "      <td>0.123</td>\n",
       "      <td>0.207</td>\n",
       "      <td>0.234</td>\n",
       "      <td>0.016</td>\n",
       "      <td>0.070</td>\n",
       "      <td>0.168</td>\n",
       "      <td>0.024</td>\n",
       "      <td>0.012</td>\n",
       "      <td>0.177</td>\n",
       "      <td>0.024</td>\n",
       "      <td>0.012</td>\n",
       "      <td>0.347</td>\n",
       "      <td>0.444</td>\n",
       "      <td>0.025</td>\n",
       "      <td>0.035</td>\n",
       "      <td>0.024</td>\n",
       "      <td>0.898</td>\n",
       "      <td>1.242</td>\n",
       "      <td>0.756</td>\n",
       "      <td>0.210</td>\n",
       "      <td>0.029</td>\n",
       "      <td>0.009</td>\n",
       "      <td>0.024</td>\n",
       "      <td>0.009</td>\n",
       "      <td>0.018</td>\n",
       "      <td>0.013</td>\n",
       "      <td>0.009</td>\n",
       "      <td>0.021</td>\n",
       "      <td>0.009</td>\n",
       "      <td>0.011</td>\n",
       "      <td>0.019</td>\n",
       "      <td>0.012</td>\n",
       "      <td>0.037</td>\n",
       "      <td>0.023</td>\n",
       "      <td>0.024</td>\n",
       "      <td>0.038</td>\n",
       "      <td>0.023</td>\n",
       "      <td>0.009</td>\n",
       "      <td>0.025</td>\n",
       "      <td>0.009</td>\n",
       "      <td>0.013</td>\n",
       "      <td>0.021</td>\n",
       "      <td>0.014</td>\n",
       "      <td>0.017</td>\n",
       "      <td>0.013</td>\n",
       "      <td>0.009</td>\n",
       "      <td>0.021</td>\n",
       "      <td>1.523</td>\n",
       "      <td>1.146</td>\n",
       "      <td>0.224</td>\n",
       "      <td>0.248</td>\n",
       "      <td>0.012</td>\n",
       "      <td>0.158</td>\n",
       "      <td>0.013</td>\n",
       "      <td>0.150</td>\n",
       "      <td>0.024</td>\n",
       "      <td>0.015</td>\n",
       "      <td>0.158</td>\n",
       "      <td>0.025</td>\n",
       "      <td>0.336</td>\n",
       "      <td>0.342</td>\n",
       "      <td>0.034</td>\n",
       "      <td>0.090</td>\n",
       "      <td>1.242</td>\n",
       "      <td>0.680</td>\n",
       "      <td>0.201</td>\n",
       "      <td>0.876</td>\n",
       "      <td>1.236</td>\n",
       "      <td>1.043</td>\n",
       "      <td>0.285</td>\n",
       "      <td>0.008</td>\n",
       "      <td>0.012</td>\n",
       "      <td>0.020</td>\n",
       "      <td>0.009</td>\n",
       "      <td>0.020</td>\n",
       "      <td>0.010</td>\n",
       "      <td>0.009</td>\n",
       "      <td>0.029</td>\n",
       "      <td>0.009</td>\n",
       "      <td>1.050</td>\n",
       "      <td>1.253</td>\n",
       "      <td>1.259</td>\n",
       "      <td>1.277</td>\n",
       "      <td>1.268</td>\n",
       "      <td>0.575</td>\n",
       "      <td>0.018</td>\n",
       "      <td>0.009</td>\n",
       "      <td>0.021</td>\n",
       "      <td>0.009</td>\n",
       "      <td>0.021</td>\n",
       "      <td>0.009</td>\n",
       "      <td>0.009</td>\n",
       "      <td>0.023</td>\n",
       "      <td>0.009</td>\n",
       "      <td>0.018</td>\n",
       "      <td>1.521</td>\n",
       "      <td>0.105</td>\n",
       "      <td>0.282</td>\n",
       "      <td>0.178</td>\n",
       "      <td>0.017</td>\n",
       "      <td>0.045</td>\n",
       "      <td>0.183</td>\n",
       "      <td>0.024</td>\n",
       "      <td>0.184</td>\n",
       "      <td>0.012</td>\n",
       "      <td>0.023</td>\n",
       "      <td>0.190</td>\n",
       "      <td>0.016</td>\n",
       "      <td>0.458</td>\n",
       "      <td>0.076</td>\n",
       "      <td>0.041</td>\n",
       "      <td>0.023</td>\n",
       "      <td>0.169</td>\n",
       "      <td>1.250</td>\n",
       "      <td>1.209</td>\n",
       "      <td>0.014</td>\n",
       "      <td>0.015</td>\n",
       "      <td>0.015</td>\n",
       "      <td>0.022</td>\n",
       "      <td>0.009</td>\n",
       "      <td>0.009</td>\n",
       "      <td>0.956</td>\n",
       "      <td>1.214</td>\n",
       "      <td>1.227</td>\n",
       "      <td>1.226</td>\n",
       "      <td>1.227</td>\n",
       "      <td>1.245</td>\n",
       "      <td>1.218</td>\n",
       "      <td>1.246</td>\n",
       "      <td>1.258</td>\n",
       "      <td>0.504</td>\n",
       "      <td>0.015</td>\n",
       "      <td>0.017</td>\n",
       "      <td>0.013</td>\n",
       "      <td>0.011</td>\n",
       "      <td>0.022</td>\n",
       "      <td>0.009</td>\n",
       "      <td>0.021</td>\n",
       "      <td>0.014</td>\n",
       "      <td>0.024</td>\n",
       "      <td>0.009</td>\n",
       "      <td>0.019</td>\n",
       "      <td>0.015</td>\n",
       "      <td>1.534</td>\n",
       "      <td>0.160</td>\n",
       "      <td>0.240</td>\n",
       "      <td>0.185</td>\n",
       "      <td>0.012</td>\n",
       "      <td>0.154</td>\n",
       "      <td>0.018</td>\n",
       "      <td>0.014</td>\n",
       "      <td>...</td>\n",
       "      <td>0.018</td>\n",
       "      <td>0.041</td>\n",
       "      <td>0.017</td>\n",
       "      <td>0.019</td>\n",
       "      <td>0.009</td>\n",
       "      <td>0.023</td>\n",
       "      <td>0.030</td>\n",
       "      <td>0.011</td>\n",
       "      <td>0.009</td>\n",
       "      <td>0.009</td>\n",
       "      <td>NaN</td>\n",
       "      <td>NaN</td>\n",
       "      <td>NaN</td>\n",
       "      <td>NaN</td>\n",
       "      <td>NaN</td>\n",
       "      <td>NaN</td>\n",
       "      <td>NaN</td>\n",
       "      <td>NaN</td>\n",
       "      <td>NaN</td>\n",
       "      <td>NaN</td>\n",
       "      <td>NaN</td>\n",
       "      <td>NaN</td>\n",
       "      <td>NaN</td>\n",
       "      <td>NaN</td>\n",
       "      <td>NaN</td>\n",
       "      <td>NaN</td>\n",
       "      <td>NaN</td>\n",
       "      <td>NaN</td>\n",
       "      <td>NaN</td>\n",
       "      <td>NaN</td>\n",
       "      <td>NaN</td>\n",
       "      <td>NaN</td>\n",
       "      <td>NaN</td>\n",
       "      <td>NaN</td>\n",
       "      <td>NaN</td>\n",
       "      <td>NaN</td>\n",
       "      <td>NaN</td>\n",
       "      <td>NaN</td>\n",
       "      <td>NaN</td>\n",
       "      <td>NaN</td>\n",
       "      <td>NaN</td>\n",
       "      <td>NaN</td>\n",
       "      <td>NaN</td>\n",
       "      <td>NaN</td>\n",
       "      <td>NaN</td>\n",
       "      <td>NaN</td>\n",
       "      <td>NaN</td>\n",
       "      <td>NaN</td>\n",
       "      <td>NaN</td>\n",
       "      <td>NaN</td>\n",
       "      <td>NaN</td>\n",
       "      <td>NaN</td>\n",
       "      <td>NaN</td>\n",
       "      <td>NaN</td>\n",
       "      <td>NaN</td>\n",
       "      <td>NaN</td>\n",
       "      <td>NaN</td>\n",
       "      <td>NaN</td>\n",
       "      <td>0.010</td>\n",
       "      <td>1.034</td>\n",
       "      <td>0.419</td>\n",
       "      <td>0.144</td>\n",
       "      <td>0.038</td>\n",
       "      <td>0.143</td>\n",
       "      <td>0.146</td>\n",
       "      <td>0.013</td>\n",
       "      <td>0.098</td>\n",
       "      <td>0.034</td>\n",
       "      <td>0.093</td>\n",
       "      <td>0.013</td>\n",
       "      <td>0.074</td>\n",
       "      <td>0.093</td>\n",
       "      <td>0.043</td>\n",
       "      <td>0.260</td>\n",
       "      <td>1.200</td>\n",
       "      <td>1.196</td>\n",
       "      <td>1.203</td>\n",
       "      <td>1.385</td>\n",
       "      <td>1.040</td>\n",
       "      <td>0.349</td>\n",
       "      <td>0.291</td>\n",
       "      <td>0.174</td>\n",
       "      <td>0.184</td>\n",
       "      <td>0.194</td>\n",
       "      <td>0.176</td>\n",
       "      <td>0.175</td>\n",
       "      <td>0.175</td>\n",
       "      <td>0.186</td>\n",
       "      <td>0.193</td>\n",
       "      <td>0.176</td>\n",
       "      <td>0.175</td>\n",
       "      <td>0.188</td>\n",
       "      <td>0.217</td>\n",
       "      <td>0.195</td>\n",
       "      <td>0.192</td>\n",
       "      <td>0.190</td>\n",
       "      <td>0.194</td>\n",
       "      <td>0.213</td>\n",
       "      <td>0.193</td>\n",
       "      <td>0.113</td>\n",
       "      <td>0.011</td>\n",
       "      <td>0.022</td>\n",
       "      <td>0.020</td>\n",
       "      <td>0.009</td>\n",
       "      <td>0.013</td>\n",
       "      <td>0.009</td>\n",
       "      <td>NaN</td>\n",
       "      <td>NaN</td>\n",
       "      <td>NaN</td>\n",
       "      <td>NaN</td>\n",
       "      <td>NaN</td>\n",
       "      <td>NaN</td>\n",
       "      <td>NaN</td>\n",
       "      <td>NaN</td>\n",
       "      <td>NaN</td>\n",
       "      <td>NaN</td>\n",
       "      <td>NaN</td>\n",
       "      <td>NaN</td>\n",
       "      <td>NaN</td>\n",
       "      <td>NaN</td>\n",
       "      <td>NaN</td>\n",
       "      <td>NaN</td>\n",
       "      <td>NaN</td>\n",
       "      <td>NaN</td>\n",
       "      <td>NaN</td>\n",
       "      <td>NaN</td>\n",
       "      <td>NaN</td>\n",
       "      <td>NaN</td>\n",
       "      <td>NaN</td>\n",
       "      <td>NaN</td>\n",
       "      <td>NaN</td>\n",
       "      <td>NaN</td>\n",
       "      <td>NaN</td>\n",
       "      <td>NaN</td>\n",
       "      <td>NaN</td>\n",
       "      <td>NaN</td>\n",
       "      <td>NaN</td>\n",
       "      <td>NaN</td>\n",
       "      <td>NaN</td>\n",
       "      <td>NaN</td>\n",
       "      <td>NaN</td>\n",
       "      <td>NaN</td>\n",
       "      <td>NaN</td>\n",
       "      <td>NaN</td>\n",
       "      <td>NaN</td>\n",
       "      <td>NaN</td>\n",
       "      <td>NaN</td>\n",
       "      <td>NaN</td>\n",
       "      <td>NaN</td>\n",
       "      <td>NaN</td>\n",
       "      <td>NaN</td>\n",
       "      <td>NaN</td>\n",
       "      <td>NaN</td>\n",
       "      <td>NaN</td>\n",
       "      <td>0.008</td>\n",
       "      <td>1.233</td>\n",
       "      <td>0.355</td>\n",
       "      <td>0.167</td>\n",
       "      <td>0.129</td>\n",
       "      <td>0.012</td>\n",
       "      <td>0.102</td>\n",
       "      <td>0.105</td>\n",
       "      <td>0.122</td>\n",
       "      <td>0.012</td>\n",
       "      <td>0.102</td>\n",
       "      <td>0.011</td>\n",
       "      <td>0.080</td>\n",
       "      <td>0.037</td>\n",
       "      <td>0.087</td>\n",
       "      <td>0.028</td>\n",
       "      <td>0.027</td>\n",
       "      <td>0.017</td>\n",
       "      <td>0.032</td>\n",
       "      <td>0.010</td>\n",
       "      <td>0.008</td>\n",
       "      <td>0.009</td>\n",
       "      <td>0.008</td>\n",
       "      <td>0.029</td>\n",
       "      <td>0.015</td>\n",
       "      <td>0.008</td>\n",
       "      <td>0.009</td>\n",
       "      <td>0.008</td>\n",
       "      <td>0.026</td>\n",
       "      <td>0.017</td>\n",
       "      <td>0.009</td>\n",
       "      <td>0.008</td>\n",
       "      <td>0.009</td>\n",
       "      <td>0.033</td>\n",
       "      <td>0.036</td>\n",
       "      <td>0.016</td>\n",
       "      <td>0.016</td>\n",
       "      <td>0.016</td>\n",
       "      <td>0.032</td>\n",
       "      <td>0.031</td>\n",
       "      <td>0.009</td>\n",
       "      <td>0.008</td>\n",
       "      <td>0.009</td>\n",
       "      <td>0.024</td>\n",
       "      <td>0.023</td>\n",
       "      <td>0.008</td>\n",
       "      <td>0.009</td>\n",
       "      <td>0.013</td>\n",
       "      <td>0.019</td>\n",
       "      <td>1.389</td>\n",
       "      <td>0.395</td>\n",
       "      <td>0.189</td>\n",
       "      <td>0.101</td>\n",
       "      <td>0.050</td>\n",
       "      <td>0.169</td>\n",
       "      <td>0.094</td>\n",
       "      <td>0.012</td>\n",
       "      <td>0.130</td>\n",
       "      <td>0.019</td>\n",
       "      <td>0.103</td>\n",
       "      <td>0.014</td>\n",
       "      <td>0.098</td>\n",
       "      <td>0.019</td>\n",
       "      <td>0.029</td>\n",
       "      <td>0.043</td>\n",
       "      <td>0.016</td>\n",
       "      <td>0.009</td>\n",
       "      <td>0.008</td>\n",
       "      <td>0.018</td>\n",
       "      <td>0.028</td>\n",
       "      <td>0.009</td>\n",
       "      <td>0.009</td>\n",
       "      <td>0.008</td>\n",
       "      <td>0.016</td>\n",
       "      <td>0.028</td>\n",
       "      <td>0.008</td>\n",
       "      <td>0.009</td>\n",
       "      <td>0.009</td>\n",
       "      <td>0.015</td>\n",
       "      <td>0.028</td>\n",
       "      <td>0.009</td>\n",
       "      <td>0.012</td>\n",
       "      <td>0.023</td>\n",
       "      <td>0.034</td>\n",
       "      <td>0.040</td>\n",
       "      <td>0.025</td>\n",
       "      <td>0.022</td>\n",
       "      <td>0.009</td>\n",
       "      <td>0.028</td>\n",
       "      <td>0.020</td>\n",
       "      <td>0.010</td>\n",
       "      <td>0.009</td>\n",
       "      <td>0.008</td>\n",
       "      <td>0.033</td>\n",
       "      <td>0.015</td>\n",
       "      <td>0.013</td>\n",
       "    </tr>\n",
       "    <tr>\n",
       "      <th>3245</th>\n",
       "      <td>0xd28f2f001e0cd4d6c121a3cb2e1427207e170e18</td>\n",
       "      <td>0.222</td>\n",
       "      <td>0.276</td>\n",
       "      <td>0.097</td>\n",
       "      <td>0.058</td>\n",
       "      <td>0.045</td>\n",
       "      <td>0.045</td>\n",
       "      <td>0.038</td>\n",
       "      <td>0.034</td>\n",
       "      <td>0.043</td>\n",
       "      <td>0.044</td>\n",
       "      <td>0.046</td>\n",
       "      <td>0.033</td>\n",
       "      <td>0.038</td>\n",
       "      <td>0.043</td>\n",
       "      <td>0.056</td>\n",
       "      <td>0.250</td>\n",
       "      <td>0.187</td>\n",
       "      <td>0.207</td>\n",
       "      <td>0.182</td>\n",
       "      <td>0.164</td>\n",
       "      <td>0.144</td>\n",
       "      <td>0.055</td>\n",
       "      <td>0.052</td>\n",
       "      <td>0.051</td>\n",
       "      <td>0.044</td>\n",
       "      <td>0.048</td>\n",
       "      <td>0.117</td>\n",
       "      <td>0.514</td>\n",
       "      <td>0.746</td>\n",
       "      <td>0.417</td>\n",
       "      <td>0.167</td>\n",
       "      <td>0.139</td>\n",
       "      <td>0.157</td>\n",
       "      <td>0.169</td>\n",
       "      <td>0.161</td>\n",
       "      <td>0.139</td>\n",
       "      <td>0.132</td>\n",
       "      <td>0.198</td>\n",
       "      <td>0.193</td>\n",
       "      <td>0.241</td>\n",
       "      <td>0.226</td>\n",
       "      <td>0.218</td>\n",
       "      <td>0.331</td>\n",
       "      <td>0.203</td>\n",
       "      <td>0.235</td>\n",
       "      <td>0.369</td>\n",
       "      <td>0.147</td>\n",
       "      <td>0.103</td>\n",
       "      <td>0.127</td>\n",
       "      <td>0.161</td>\n",
       "      <td>0.129</td>\n",
       "      <td>0.094</td>\n",
       "      <td>0.071</td>\n",
       "      <td>0.072</td>\n",
       "      <td>0.062</td>\n",
       "      <td>0.055</td>\n",
       "      <td>0.055</td>\n",
       "      <td>0.061</td>\n",
       "      <td>0.051</td>\n",
       "      <td>0.049</td>\n",
       "      <td>0.046</td>\n",
       "      <td>0.045</td>\n",
       "      <td>0.056</td>\n",
       "      <td>0.053</td>\n",
       "      <td>0.045</td>\n",
       "      <td>0.095</td>\n",
       "      <td>0.202</td>\n",
       "      <td>0.193</td>\n",
       "      <td>0.161</td>\n",
       "      <td>0.278</td>\n",
       "      <td>0.225</td>\n",
       "      <td>0.192</td>\n",
       "      <td>0.230</td>\n",
       "      <td>0.241</td>\n",
       "      <td>0.195</td>\n",
       "      <td>0.258</td>\n",
       "      <td>0.236</td>\n",
       "      <td>0.265</td>\n",
       "      <td>0.264</td>\n",
       "      <td>0.210</td>\n",
       "      <td>0.156</td>\n",
       "      <td>0.104</td>\n",
       "      <td>0.088</td>\n",
       "      <td>0.086</td>\n",
       "      <td>0.084</td>\n",
       "      <td>0.088</td>\n",
       "      <td>0.275</td>\n",
       "      <td>0.256</td>\n",
       "      <td>0.221</td>\n",
       "      <td>0.405</td>\n",
       "      <td>0.262</td>\n",
       "      <td>0.211</td>\n",
       "      <td>0.228</td>\n",
       "      <td>0.225</td>\n",
       "      <td>0.265</td>\n",
       "      <td>0.086</td>\n",
       "      <td>0.099</td>\n",
       "      <td>0.063</td>\n",
       "      <td>0.049</td>\n",
       "      <td>0.038</td>\n",
       "      <td>0.047</td>\n",
       "      <td>0.051</td>\n",
       "      <td>0.046</td>\n",
       "      <td>0.037</td>\n",
       "      <td>0.047</td>\n",
       "      <td>0.048</td>\n",
       "      <td>0.042</td>\n",
       "      <td>0.033</td>\n",
       "      <td>0.048</td>\n",
       "      <td>0.075</td>\n",
       "      <td>0.187</td>\n",
       "      <td>0.128</td>\n",
       "      <td>0.059</td>\n",
       "      <td>0.057</td>\n",
       "      <td>0.112</td>\n",
       "      <td>0.075</td>\n",
       "      <td>0.107</td>\n",
       "      <td>0.090</td>\n",
       "      <td>0.091</td>\n",
       "      <td>0.086</td>\n",
       "      <td>0.206</td>\n",
       "      <td>0.149</td>\n",
       "      <td>0.255</td>\n",
       "      <td>0.228</td>\n",
       "      <td>0.129</td>\n",
       "      <td>0.121</td>\n",
       "      <td>0.268</td>\n",
       "      <td>0.069</td>\n",
       "      <td>0.142</td>\n",
       "      <td>0.311</td>\n",
       "      <td>0.162</td>\n",
       "      <td>0.059</td>\n",
       "      <td>0.048</td>\n",
       "      <td>0.051</td>\n",
       "      <td>0.040</td>\n",
       "      <td>0.038</td>\n",
       "      <td>0.048</td>\n",
       "      <td>0.117</td>\n",
       "      <td>0.346</td>\n",
       "      <td>0.249</td>\n",
       "      <td>0.213</td>\n",
       "      <td>0.161</td>\n",
       "      <td>0.148</td>\n",
       "      <td>0.125</td>\n",
       "      <td>0.086</td>\n",
       "      <td>0.079</td>\n",
       "      <td>0.072</td>\n",
       "      <td>0.050</td>\n",
       "      <td>0.053</td>\n",
       "      <td>0.045</td>\n",
       "      <td>0.057</td>\n",
       "      <td>0.058</td>\n",
       "      <td>0.055</td>\n",
       "      <td>0.039</td>\n",
       "      <td>0.035</td>\n",
       "      <td>0.037</td>\n",
       "      <td>0.053</td>\n",
       "      <td>0.059</td>\n",
       "      <td>0.137</td>\n",
       "      <td>0.078</td>\n",
       "      <td>0.067</td>\n",
       "      <td>0.071</td>\n",
       "      <td>0.126</td>\n",
       "      <td>0.089</td>\n",
       "      <td>0.090</td>\n",
       "      <td>0.100</td>\n",
       "      <td>0.107</td>\n",
       "      <td>0.146</td>\n",
       "      <td>0.232</td>\n",
       "      <td>0.187</td>\n",
       "      <td>0.188</td>\n",
       "      <td>0.165</td>\n",
       "      <td>0.274</td>\n",
       "      <td>0.129</td>\n",
       "      <td>0.105</td>\n",
       "      <td>0.173</td>\n",
       "      <td>0.826</td>\n",
       "      <td>0.335</td>\n",
       "      <td>0.251</td>\n",
       "      <td>0.137</td>\n",
       "      <td>0.120</td>\n",
       "      <td>0.114</td>\n",
       "      <td>0.104</td>\n",
       "      <td>0.147</td>\n",
       "      <td>0.179</td>\n",
       "      <td>0.153</td>\n",
       "      <td>0.119</td>\n",
       "      <td>0.134</td>\n",
       "      <td>0.425</td>\n",
       "      <td>0.126</td>\n",
       "      <td>0.198</td>\n",
       "      <td>0.178</td>\n",
       "      <td>0.216</td>\n",
       "      <td>0.194</td>\n",
       "      <td>0.283</td>\n",
       "      <td>0.186</td>\n",
       "      <td>0.110</td>\n",
       "      <td>0.064</td>\n",
       "      <td>0.049</td>\n",
       "      <td>0.046</td>\n",
       "      <td>0.067</td>\n",
       "      <td>0.095</td>\n",
       "      <td>0.069</td>\n",
       "      <td>0.063</td>\n",
       "      <td>0.061</td>\n",
       "      <td>0.067</td>\n",
       "      <td>0.152</td>\n",
       "      <td>0.150</td>\n",
       "      <td>0.082</td>\n",
       "      <td>0.040</td>\n",
       "      <td>0.036</td>\n",
       "      <td>0.039</td>\n",
       "      <td>0.178</td>\n",
       "      <td>0.102</td>\n",
       "      <td>0.090</td>\n",
       "      <td>0.098</td>\n",
       "      <td>0.120</td>\n",
       "      <td>0.094</td>\n",
       "      <td>0.081</td>\n",
       "      <td>0.196</td>\n",
       "      <td>0.094</td>\n",
       "      <td>0.117</td>\n",
       "      <td>0.113</td>\n",
       "      <td>0.200</td>\n",
       "      <td>0.508</td>\n",
       "      <td>0.471</td>\n",
       "      <td>0.229</td>\n",
       "      <td>0.192</td>\n",
       "      <td>0.284</td>\n",
       "      <td>0.163</td>\n",
       "      <td>0.190</td>\n",
       "      <td>0.173</td>\n",
       "      <td>0.182</td>\n",
       "      <td>0.126</td>\n",
       "      <td>0.196</td>\n",
       "      <td>0.417</td>\n",
       "      <td>0.398</td>\n",
       "      <td>0.097</td>\n",
       "      <td>0.084</td>\n",
       "      <td>0.098</td>\n",
       "      <td>0.088</td>\n",
       "      <td>0.142</td>\n",
       "      <td>0.074</td>\n",
       "      <td>0.059</td>\n",
       "      <td>0.040</td>\n",
       "      <td>0.043</td>\n",
       "      <td>0.045</td>\n",
       "      <td>0.039</td>\n",
       "      <td>0.030</td>\n",
       "      <td>...</td>\n",
       "      <td>0.145</td>\n",
       "      <td>0.201</td>\n",
       "      <td>1.264</td>\n",
       "      <td>0.143</td>\n",
       "      <td>0.266</td>\n",
       "      <td>0.143</td>\n",
       "      <td>0.216</td>\n",
       "      <td>0.255</td>\n",
       "      <td>0.093</td>\n",
       "      <td>0.074</td>\n",
       "      <td>NaN</td>\n",
       "      <td>NaN</td>\n",
       "      <td>NaN</td>\n",
       "      <td>NaN</td>\n",
       "      <td>NaN</td>\n",
       "      <td>NaN</td>\n",
       "      <td>NaN</td>\n",
       "      <td>NaN</td>\n",
       "      <td>NaN</td>\n",
       "      <td>NaN</td>\n",
       "      <td>NaN</td>\n",
       "      <td>NaN</td>\n",
       "      <td>NaN</td>\n",
       "      <td>NaN</td>\n",
       "      <td>NaN</td>\n",
       "      <td>NaN</td>\n",
       "      <td>NaN</td>\n",
       "      <td>NaN</td>\n",
       "      <td>NaN</td>\n",
       "      <td>NaN</td>\n",
       "      <td>NaN</td>\n",
       "      <td>NaN</td>\n",
       "      <td>NaN</td>\n",
       "      <td>NaN</td>\n",
       "      <td>NaN</td>\n",
       "      <td>NaN</td>\n",
       "      <td>NaN</td>\n",
       "      <td>NaN</td>\n",
       "      <td>NaN</td>\n",
       "      <td>NaN</td>\n",
       "      <td>NaN</td>\n",
       "      <td>NaN</td>\n",
       "      <td>NaN</td>\n",
       "      <td>NaN</td>\n",
       "      <td>NaN</td>\n",
       "      <td>NaN</td>\n",
       "      <td>NaN</td>\n",
       "      <td>NaN</td>\n",
       "      <td>NaN</td>\n",
       "      <td>NaN</td>\n",
       "      <td>NaN</td>\n",
       "      <td>NaN</td>\n",
       "      <td>NaN</td>\n",
       "      <td>NaN</td>\n",
       "      <td>NaN</td>\n",
       "      <td>NaN</td>\n",
       "      <td>NaN</td>\n",
       "      <td>NaN</td>\n",
       "      <td>0.080</td>\n",
       "      <td>0.075</td>\n",
       "      <td>0.051</td>\n",
       "      <td>0.049</td>\n",
       "      <td>0.046</td>\n",
       "      <td>0.029</td>\n",
       "      <td>0.052</td>\n",
       "      <td>0.046</td>\n",
       "      <td>0.105</td>\n",
       "      <td>0.060</td>\n",
       "      <td>0.067</td>\n",
       "      <td>0.048</td>\n",
       "      <td>0.050</td>\n",
       "      <td>0.065</td>\n",
       "      <td>0.088</td>\n",
       "      <td>0.053</td>\n",
       "      <td>0.046</td>\n",
       "      <td>0.045</td>\n",
       "      <td>0.036</td>\n",
       "      <td>0.043</td>\n",
       "      <td>0.047</td>\n",
       "      <td>0.043</td>\n",
       "      <td>0.064</td>\n",
       "      <td>0.149</td>\n",
       "      <td>0.118</td>\n",
       "      <td>0.108</td>\n",
       "      <td>0.200</td>\n",
       "      <td>0.158</td>\n",
       "      <td>0.111</td>\n",
       "      <td>0.117</td>\n",
       "      <td>0.119</td>\n",
       "      <td>0.413</td>\n",
       "      <td>0.290</td>\n",
       "      <td>0.109</td>\n",
       "      <td>0.156</td>\n",
       "      <td>0.227</td>\n",
       "      <td>0.156</td>\n",
       "      <td>0.206</td>\n",
       "      <td>0.144</td>\n",
       "      <td>0.151</td>\n",
       "      <td>0.293</td>\n",
       "      <td>0.113</td>\n",
       "      <td>0.116</td>\n",
       "      <td>0.100</td>\n",
       "      <td>0.103</td>\n",
       "      <td>0.153</td>\n",
       "      <td>0.148</td>\n",
       "      <td>0.209</td>\n",
       "      <td>NaN</td>\n",
       "      <td>NaN</td>\n",
       "      <td>NaN</td>\n",
       "      <td>NaN</td>\n",
       "      <td>NaN</td>\n",
       "      <td>NaN</td>\n",
       "      <td>NaN</td>\n",
       "      <td>NaN</td>\n",
       "      <td>NaN</td>\n",
       "      <td>NaN</td>\n",
       "      <td>NaN</td>\n",
       "      <td>NaN</td>\n",
       "      <td>NaN</td>\n",
       "      <td>NaN</td>\n",
       "      <td>NaN</td>\n",
       "      <td>NaN</td>\n",
       "      <td>NaN</td>\n",
       "      <td>NaN</td>\n",
       "      <td>NaN</td>\n",
       "      <td>NaN</td>\n",
       "      <td>NaN</td>\n",
       "      <td>NaN</td>\n",
       "      <td>NaN</td>\n",
       "      <td>NaN</td>\n",
       "      <td>NaN</td>\n",
       "      <td>NaN</td>\n",
       "      <td>NaN</td>\n",
       "      <td>NaN</td>\n",
       "      <td>NaN</td>\n",
       "      <td>NaN</td>\n",
       "      <td>NaN</td>\n",
       "      <td>NaN</td>\n",
       "      <td>NaN</td>\n",
       "      <td>NaN</td>\n",
       "      <td>NaN</td>\n",
       "      <td>NaN</td>\n",
       "      <td>NaN</td>\n",
       "      <td>NaN</td>\n",
       "      <td>NaN</td>\n",
       "      <td>NaN</td>\n",
       "      <td>NaN</td>\n",
       "      <td>NaN</td>\n",
       "      <td>NaN</td>\n",
       "      <td>NaN</td>\n",
       "      <td>NaN</td>\n",
       "      <td>NaN</td>\n",
       "      <td>NaN</td>\n",
       "      <td>NaN</td>\n",
       "      <td>0.065</td>\n",
       "      <td>0.082</td>\n",
       "      <td>0.060</td>\n",
       "      <td>0.039</td>\n",
       "      <td>0.032</td>\n",
       "      <td>0.045</td>\n",
       "      <td>0.043</td>\n",
       "      <td>0.027</td>\n",
       "      <td>0.062</td>\n",
       "      <td>0.043</td>\n",
       "      <td>0.033</td>\n",
       "      <td>0.030</td>\n",
       "      <td>0.041</td>\n",
       "      <td>0.049</td>\n",
       "      <td>0.072</td>\n",
       "      <td>0.157</td>\n",
       "      <td>0.104</td>\n",
       "      <td>0.149</td>\n",
       "      <td>0.249</td>\n",
       "      <td>0.177</td>\n",
       "      <td>0.129</td>\n",
       "      <td>0.179</td>\n",
       "      <td>0.078</td>\n",
       "      <td>0.067</td>\n",
       "      <td>0.063</td>\n",
       "      <td>0.037</td>\n",
       "      <td>0.039</td>\n",
       "      <td>0.045</td>\n",
       "      <td>0.045</td>\n",
       "      <td>0.057</td>\n",
       "      <td>0.098</td>\n",
       "      <td>0.241</td>\n",
       "      <td>0.145</td>\n",
       "      <td>0.196</td>\n",
       "      <td>0.195</td>\n",
       "      <td>0.474</td>\n",
       "      <td>0.203</td>\n",
       "      <td>0.259</td>\n",
       "      <td>0.172</td>\n",
       "      <td>0.192</td>\n",
       "      <td>0.126</td>\n",
       "      <td>0.120</td>\n",
       "      <td>0.143</td>\n",
       "      <td>0.169</td>\n",
       "      <td>0.219</td>\n",
       "      <td>0.138</td>\n",
       "      <td>0.173</td>\n",
       "      <td>0.118</td>\n",
       "      <td>0.116</td>\n",
       "      <td>0.092</td>\n",
       "      <td>0.081</td>\n",
       "      <td>0.056</td>\n",
       "      <td>0.044</td>\n",
       "      <td>0.086</td>\n",
       "      <td>0.072</td>\n",
       "      <td>0.063</td>\n",
       "      <td>0.060</td>\n",
       "      <td>0.057</td>\n",
       "      <td>0.050</td>\n",
       "      <td>0.068</td>\n",
       "      <td>0.041</td>\n",
       "      <td>0.040</td>\n",
       "      <td>0.038</td>\n",
       "      <td>0.046</td>\n",
       "      <td>0.047</td>\n",
       "      <td>0.050</td>\n",
       "      <td>0.077</td>\n",
       "      <td>0.041</td>\n",
       "      <td>0.112</td>\n",
       "      <td>0.225</td>\n",
       "      <td>0.180</td>\n",
       "      <td>0.181</td>\n",
       "      <td>0.195</td>\n",
       "      <td>0.462</td>\n",
       "      <td>0.631</td>\n",
       "      <td>0.203</td>\n",
       "      <td>0.189</td>\n",
       "      <td>0.242</td>\n",
       "      <td>0.264</td>\n",
       "      <td>0.187</td>\n",
       "      <td>0.479</td>\n",
       "      <td>0.316</td>\n",
       "      <td>0.275</td>\n",
       "      <td>0.503</td>\n",
       "      <td>0.422</td>\n",
       "      <td>0.343</td>\n",
       "      <td>0.144</td>\n",
       "      <td>0.169</td>\n",
       "      <td>0.145</td>\n",
       "      <td>0.200</td>\n",
       "      <td>0.170</td>\n",
       "      <td>0.127</td>\n",
       "      <td>0.135</td>\n",
       "      <td>0.200</td>\n",
       "      <td>0.118</td>\n",
       "      <td>0.106</td>\n",
       "    </tr>\n",
       "    <tr>\n",
       "      <th>3246</th>\n",
       "      <td>0x47218b46abb2fcaade487a211911406dc6e13730</td>\n",
       "      <td>0.195</td>\n",
       "      <td>2.881</td>\n",
       "      <td>1.765</td>\n",
       "      <td>1.391</td>\n",
       "      <td>1.609</td>\n",
       "      <td>1.362</td>\n",
       "      <td>1.352</td>\n",
       "      <td>1.321</td>\n",
       "      <td>0.701</td>\n",
       "      <td>0.784</td>\n",
       "      <td>0.587</td>\n",
       "      <td>0.788</td>\n",
       "      <td>0.636</td>\n",
       "      <td>0.728</td>\n",
       "      <td>0.097</td>\n",
       "      <td>0.061</td>\n",
       "      <td>0.177</td>\n",
       "      <td>0.097</td>\n",
       "      <td>0.136</td>\n",
       "      <td>0.128</td>\n",
       "      <td>0.114</td>\n",
       "      <td>0.109</td>\n",
       "      <td>0.152</td>\n",
       "      <td>0.147</td>\n",
       "      <td>0.147</td>\n",
       "      <td>0.129</td>\n",
       "      <td>0.126</td>\n",
       "      <td>0.153</td>\n",
       "      <td>0.151</td>\n",
       "      <td>0.249</td>\n",
       "      <td>0.175</td>\n",
       "      <td>0.170</td>\n",
       "      <td>0.214</td>\n",
       "      <td>0.236</td>\n",
       "      <td>0.251</td>\n",
       "      <td>0.270</td>\n",
       "      <td>0.292</td>\n",
       "      <td>0.253</td>\n",
       "      <td>0.256</td>\n",
       "      <td>0.266</td>\n",
       "      <td>0.372</td>\n",
       "      <td>0.800</td>\n",
       "      <td>0.667</td>\n",
       "      <td>0.524</td>\n",
       "      <td>0.317</td>\n",
       "      <td>0.259</td>\n",
       "      <td>0.201</td>\n",
       "      <td>0.169</td>\n",
       "      <td>0.183</td>\n",
       "      <td>2.967</td>\n",
       "      <td>2.183</td>\n",
       "      <td>1.437</td>\n",
       "      <td>1.728</td>\n",
       "      <td>1.358</td>\n",
       "      <td>1.335</td>\n",
       "      <td>1.544</td>\n",
       "      <td>1.351</td>\n",
       "      <td>1.335</td>\n",
       "      <td>1.328</td>\n",
       "      <td>1.365</td>\n",
       "      <td>1.089</td>\n",
       "      <td>0.313</td>\n",
       "      <td>0.037</td>\n",
       "      <td>0.040</td>\n",
       "      <td>0.182</td>\n",
       "      <td>0.122</td>\n",
       "      <td>0.156</td>\n",
       "      <td>0.112</td>\n",
       "      <td>0.087</td>\n",
       "      <td>0.107</td>\n",
       "      <td>0.094</td>\n",
       "      <td>0.115</td>\n",
       "      <td>0.106</td>\n",
       "      <td>0.113</td>\n",
       "      <td>0.127</td>\n",
       "      <td>0.124</td>\n",
       "      <td>0.130</td>\n",
       "      <td>0.134</td>\n",
       "      <td>0.133</td>\n",
       "      <td>0.149</td>\n",
       "      <td>0.148</td>\n",
       "      <td>0.217</td>\n",
       "      <td>0.349</td>\n",
       "      <td>0.236</td>\n",
       "      <td>0.254</td>\n",
       "      <td>0.273</td>\n",
       "      <td>0.659</td>\n",
       "      <td>0.671</td>\n",
       "      <td>0.663</td>\n",
       "      <td>0.722</td>\n",
       "      <td>0.673</td>\n",
       "      <td>0.660</td>\n",
       "      <td>0.660</td>\n",
       "      <td>0.545</td>\n",
       "      <td>0.197</td>\n",
       "      <td>0.178</td>\n",
       "      <td>0.180</td>\n",
       "      <td>2.967</td>\n",
       "      <td>2.417</td>\n",
       "      <td>1.478</td>\n",
       "      <td>1.702</td>\n",
       "      <td>1.364</td>\n",
       "      <td>1.370</td>\n",
       "      <td>1.573</td>\n",
       "      <td>1.371</td>\n",
       "      <td>1.362</td>\n",
       "      <td>1.353</td>\n",
       "      <td>1.352</td>\n",
       "      <td>1.188</td>\n",
       "      <td>0.038</td>\n",
       "      <td>0.035</td>\n",
       "      <td>0.152</td>\n",
       "      <td>0.097</td>\n",
       "      <td>0.149</td>\n",
       "      <td>0.567</td>\n",
       "      <td>0.220</td>\n",
       "      <td>0.097</td>\n",
       "      <td>0.180</td>\n",
       "      <td>0.104</td>\n",
       "      <td>0.106</td>\n",
       "      <td>0.123</td>\n",
       "      <td>0.118</td>\n",
       "      <td>0.117</td>\n",
       "      <td>0.134</td>\n",
       "      <td>0.134</td>\n",
       "      <td>0.132</td>\n",
       "      <td>0.140</td>\n",
       "      <td>0.147</td>\n",
       "      <td>0.294</td>\n",
       "      <td>0.220</td>\n",
       "      <td>0.238</td>\n",
       "      <td>0.231</td>\n",
       "      <td>0.230</td>\n",
       "      <td>0.252</td>\n",
       "      <td>0.181</td>\n",
       "      <td>0.178</td>\n",
       "      <td>0.199</td>\n",
       "      <td>0.313</td>\n",
       "      <td>0.693</td>\n",
       "      <td>0.682</td>\n",
       "      <td>0.669</td>\n",
       "      <td>0.459</td>\n",
       "      <td>0.181</td>\n",
       "      <td>0.177</td>\n",
       "      <td>0.174</td>\n",
       "      <td>3.016</td>\n",
       "      <td>2.692</td>\n",
       "      <td>1.479</td>\n",
       "      <td>1.734</td>\n",
       "      <td>1.386</td>\n",
       "      <td>1.553</td>\n",
       "      <td>1.372</td>\n",
       "      <td>1.382</td>\n",
       "      <td>1.363</td>\n",
       "      <td>1.354</td>\n",
       "      <td>1.584</td>\n",
       "      <td>0.550</td>\n",
       "      <td>0.035</td>\n",
       "      <td>0.048</td>\n",
       "      <td>0.139</td>\n",
       "      <td>0.166</td>\n",
       "      <td>0.135</td>\n",
       "      <td>0.128</td>\n",
       "      <td>0.098</td>\n",
       "      <td>0.109</td>\n",
       "      <td>0.095</td>\n",
       "      <td>0.109</td>\n",
       "      <td>0.104</td>\n",
       "      <td>0.112</td>\n",
       "      <td>0.127</td>\n",
       "      <td>0.118</td>\n",
       "      <td>0.125</td>\n",
       "      <td>0.168</td>\n",
       "      <td>0.166</td>\n",
       "      <td>0.171</td>\n",
       "      <td>0.154</td>\n",
       "      <td>0.157</td>\n",
       "      <td>0.236</td>\n",
       "      <td>0.239</td>\n",
       "      <td>0.233</td>\n",
       "      <td>0.258</td>\n",
       "      <td>0.242</td>\n",
       "      <td>0.675</td>\n",
       "      <td>0.685</td>\n",
       "      <td>0.670</td>\n",
       "      <td>0.765</td>\n",
       "      <td>0.687</td>\n",
       "      <td>0.421</td>\n",
       "      <td>0.725</td>\n",
       "      <td>0.695</td>\n",
       "      <td>0.416</td>\n",
       "      <td>0.179</td>\n",
       "      <td>0.179</td>\n",
       "      <td>3.030</td>\n",
       "      <td>2.621</td>\n",
       "      <td>1.483</td>\n",
       "      <td>1.727</td>\n",
       "      <td>1.387</td>\n",
       "      <td>1.597</td>\n",
       "      <td>1.357</td>\n",
       "      <td>1.368</td>\n",
       "      <td>1.354</td>\n",
       "      <td>1.353</td>\n",
       "      <td>1.618</td>\n",
       "      <td>0.728</td>\n",
       "      <td>0.043</td>\n",
       "      <td>0.077</td>\n",
       "      <td>0.189</td>\n",
       "      <td>0.102</td>\n",
       "      <td>0.093</td>\n",
       "      <td>0.119</td>\n",
       "      <td>0.088</td>\n",
       "      <td>0.099</td>\n",
       "      <td>0.096</td>\n",
       "      <td>0.147</td>\n",
       "      <td>0.116</td>\n",
       "      <td>0.111</td>\n",
       "      <td>0.119</td>\n",
       "      <td>0.132</td>\n",
       "      <td>0.123</td>\n",
       "      <td>0.197</td>\n",
       "      <td>0.224</td>\n",
       "      <td>0.212</td>\n",
       "      <td>0.236</td>\n",
       "      <td>0.177</td>\n",
       "      <td>0.216</td>\n",
       "      <td>0.248</td>\n",
       "      <td>0.255</td>\n",
       "      <td>0.247</td>\n",
       "      <td>0.559</td>\n",
       "      <td>0.673</td>\n",
       "      <td>0.671</td>\n",
       "      <td>0.699</td>\n",
       "      <td>0.705</td>\n",
       "      <td>0.673</td>\n",
       "      <td>0.687</td>\n",
       "      <td>0.670</td>\n",
       "      <td>0.388</td>\n",
       "      <td>0.181</td>\n",
       "      <td>0.174</td>\n",
       "      <td>0.180</td>\n",
       "      <td>3.013</td>\n",
       "      <td>2.586</td>\n",
       "      <td>1.472</td>\n",
       "      <td>1.727</td>\n",
       "      <td>1.363</td>\n",
       "      <td>1.588</td>\n",
       "      <td>1.384</td>\n",
       "      <td>1.377</td>\n",
       "      <td>...</td>\n",
       "      <td>0.145</td>\n",
       "      <td>0.151</td>\n",
       "      <td>0.162</td>\n",
       "      <td>0.153</td>\n",
       "      <td>0.171</td>\n",
       "      <td>0.157</td>\n",
       "      <td>0.160</td>\n",
       "      <td>0.173</td>\n",
       "      <td>0.162</td>\n",
       "      <td>0.171</td>\n",
       "      <td>NaN</td>\n",
       "      <td>NaN</td>\n",
       "      <td>NaN</td>\n",
       "      <td>NaN</td>\n",
       "      <td>NaN</td>\n",
       "      <td>NaN</td>\n",
       "      <td>NaN</td>\n",
       "      <td>NaN</td>\n",
       "      <td>NaN</td>\n",
       "      <td>NaN</td>\n",
       "      <td>NaN</td>\n",
       "      <td>NaN</td>\n",
       "      <td>NaN</td>\n",
       "      <td>NaN</td>\n",
       "      <td>NaN</td>\n",
       "      <td>NaN</td>\n",
       "      <td>NaN</td>\n",
       "      <td>NaN</td>\n",
       "      <td>NaN</td>\n",
       "      <td>NaN</td>\n",
       "      <td>NaN</td>\n",
       "      <td>NaN</td>\n",
       "      <td>NaN</td>\n",
       "      <td>NaN</td>\n",
       "      <td>NaN</td>\n",
       "      <td>NaN</td>\n",
       "      <td>NaN</td>\n",
       "      <td>NaN</td>\n",
       "      <td>NaN</td>\n",
       "      <td>NaN</td>\n",
       "      <td>NaN</td>\n",
       "      <td>NaN</td>\n",
       "      <td>NaN</td>\n",
       "      <td>NaN</td>\n",
       "      <td>NaN</td>\n",
       "      <td>NaN</td>\n",
       "      <td>NaN</td>\n",
       "      <td>NaN</td>\n",
       "      <td>NaN</td>\n",
       "      <td>NaN</td>\n",
       "      <td>NaN</td>\n",
       "      <td>NaN</td>\n",
       "      <td>NaN</td>\n",
       "      <td>NaN</td>\n",
       "      <td>NaN</td>\n",
       "      <td>NaN</td>\n",
       "      <td>NaN</td>\n",
       "      <td>NaN</td>\n",
       "      <td>0.183</td>\n",
       "      <td>3.022</td>\n",
       "      <td>1.491</td>\n",
       "      <td>1.720</td>\n",
       "      <td>1.530</td>\n",
       "      <td>1.388</td>\n",
       "      <td>1.373</td>\n",
       "      <td>1.591</td>\n",
       "      <td>1.380</td>\n",
       "      <td>1.386</td>\n",
       "      <td>1.370</td>\n",
       "      <td>1.363</td>\n",
       "      <td>0.853</td>\n",
       "      <td>0.035</td>\n",
       "      <td>0.034</td>\n",
       "      <td>0.062</td>\n",
       "      <td>0.189</td>\n",
       "      <td>0.166</td>\n",
       "      <td>0.105</td>\n",
       "      <td>0.094</td>\n",
       "      <td>0.108</td>\n",
       "      <td>0.100</td>\n",
       "      <td>0.114</td>\n",
       "      <td>0.121</td>\n",
       "      <td>0.109</td>\n",
       "      <td>0.112</td>\n",
       "      <td>0.131</td>\n",
       "      <td>0.196</td>\n",
       "      <td>0.543</td>\n",
       "      <td>0.565</td>\n",
       "      <td>0.550</td>\n",
       "      <td>0.715</td>\n",
       "      <td>0.580</td>\n",
       "      <td>0.420</td>\n",
       "      <td>0.646</td>\n",
       "      <td>0.671</td>\n",
       "      <td>0.729</td>\n",
       "      <td>0.673</td>\n",
       "      <td>0.654</td>\n",
       "      <td>0.677</td>\n",
       "      <td>0.707</td>\n",
       "      <td>0.673</td>\n",
       "      <td>0.673</td>\n",
       "      <td>0.680</td>\n",
       "      <td>0.688</td>\n",
       "      <td>0.388</td>\n",
       "      <td>0.169</td>\n",
       "      <td>0.185</td>\n",
       "      <td>NaN</td>\n",
       "      <td>NaN</td>\n",
       "      <td>NaN</td>\n",
       "      <td>NaN</td>\n",
       "      <td>NaN</td>\n",
       "      <td>NaN</td>\n",
       "      <td>NaN</td>\n",
       "      <td>NaN</td>\n",
       "      <td>NaN</td>\n",
       "      <td>NaN</td>\n",
       "      <td>NaN</td>\n",
       "      <td>NaN</td>\n",
       "      <td>NaN</td>\n",
       "      <td>NaN</td>\n",
       "      <td>NaN</td>\n",
       "      <td>NaN</td>\n",
       "      <td>NaN</td>\n",
       "      <td>NaN</td>\n",
       "      <td>NaN</td>\n",
       "      <td>NaN</td>\n",
       "      <td>NaN</td>\n",
       "      <td>NaN</td>\n",
       "      <td>NaN</td>\n",
       "      <td>NaN</td>\n",
       "      <td>NaN</td>\n",
       "      <td>NaN</td>\n",
       "      <td>NaN</td>\n",
       "      <td>NaN</td>\n",
       "      <td>NaN</td>\n",
       "      <td>NaN</td>\n",
       "      <td>NaN</td>\n",
       "      <td>NaN</td>\n",
       "      <td>NaN</td>\n",
       "      <td>NaN</td>\n",
       "      <td>NaN</td>\n",
       "      <td>NaN</td>\n",
       "      <td>NaN</td>\n",
       "      <td>NaN</td>\n",
       "      <td>NaN</td>\n",
       "      <td>NaN</td>\n",
       "      <td>NaN</td>\n",
       "      <td>NaN</td>\n",
       "      <td>NaN</td>\n",
       "      <td>NaN</td>\n",
       "      <td>NaN</td>\n",
       "      <td>NaN</td>\n",
       "      <td>NaN</td>\n",
       "      <td>NaN</td>\n",
       "      <td>0.172</td>\n",
       "      <td>3.023</td>\n",
       "      <td>1.967</td>\n",
       "      <td>1.663</td>\n",
       "      <td>1.585</td>\n",
       "      <td>1.385</td>\n",
       "      <td>1.613</td>\n",
       "      <td>1.372</td>\n",
       "      <td>1.353</td>\n",
       "      <td>1.361</td>\n",
       "      <td>1.372</td>\n",
       "      <td>1.581</td>\n",
       "      <td>0.582</td>\n",
       "      <td>0.048</td>\n",
       "      <td>0.037</td>\n",
       "      <td>0.040</td>\n",
       "      <td>0.185</td>\n",
       "      <td>0.101</td>\n",
       "      <td>0.152</td>\n",
       "      <td>0.108</td>\n",
       "      <td>0.105</td>\n",
       "      <td>0.103</td>\n",
       "      <td>0.104</td>\n",
       "      <td>0.175</td>\n",
       "      <td>0.110</td>\n",
       "      <td>0.121</td>\n",
       "      <td>0.112</td>\n",
       "      <td>0.118</td>\n",
       "      <td>0.134</td>\n",
       "      <td>0.126</td>\n",
       "      <td>0.141</td>\n",
       "      <td>0.134</td>\n",
       "      <td>0.135</td>\n",
       "      <td>0.151</td>\n",
       "      <td>0.141</td>\n",
       "      <td>0.152</td>\n",
       "      <td>0.152</td>\n",
       "      <td>0.150</td>\n",
       "      <td>0.166</td>\n",
       "      <td>0.263</td>\n",
       "      <td>0.455</td>\n",
       "      <td>0.667</td>\n",
       "      <td>0.657</td>\n",
       "      <td>0.672</td>\n",
       "      <td>0.661</td>\n",
       "      <td>0.367</td>\n",
       "      <td>0.175</td>\n",
       "      <td>0.166</td>\n",
       "      <td>0.181</td>\n",
       "      <td>2.991</td>\n",
       "      <td>2.151</td>\n",
       "      <td>1.393</td>\n",
       "      <td>1.672</td>\n",
       "      <td>1.385</td>\n",
       "      <td>1.569</td>\n",
       "      <td>1.374</td>\n",
       "      <td>1.376</td>\n",
       "      <td>0.294</td>\n",
       "      <td>0.855</td>\n",
       "      <td>0.454</td>\n",
       "      <td>0.631</td>\n",
       "      <td>0.426</td>\n",
       "      <td>0.158</td>\n",
       "      <td>0.111</td>\n",
       "      <td>0.135</td>\n",
       "      <td>0.191</td>\n",
       "      <td>0.104</td>\n",
       "      <td>0.107</td>\n",
       "      <td>0.097</td>\n",
       "      <td>0.106</td>\n",
       "      <td>0.101</td>\n",
       "      <td>0.116</td>\n",
       "      <td>0.126</td>\n",
       "      <td>0.118</td>\n",
       "      <td>0.136</td>\n",
       "      <td>0.126</td>\n",
       "      <td>0.137</td>\n",
       "      <td>0.138</td>\n",
       "      <td>0.158</td>\n",
       "      <td>0.220</td>\n",
       "      <td>0.215</td>\n",
       "      <td>0.511</td>\n",
       "      <td>0.717</td>\n",
       "      <td>0.647</td>\n",
       "      <td>0.653</td>\n",
       "      <td>0.330</td>\n",
       "      <td>0.186</td>\n",
       "      <td>0.163</td>\n",
       "      <td>0.170</td>\n",
       "      <td>0.175</td>\n",
       "      <td>0.167</td>\n",
       "      <td>0.185</td>\n",
       "      <td>0.171</td>\n",
       "      <td>0.196</td>\n",
       "      <td>0.260</td>\n",
       "      <td>0.318</td>\n",
       "    </tr>\n",
       "    <tr>\n",
       "      <th>3247</th>\n",
       "      <td>0xcd19e6fe3d887bc5dcac7ca18d46199695463fdd</td>\n",
       "      <td>0.023</td>\n",
       "      <td>2.307</td>\n",
       "      <td>1.403</td>\n",
       "      <td>1.471</td>\n",
       "      <td>1.421</td>\n",
       "      <td>1.305</td>\n",
       "      <td>1.299</td>\n",
       "      <td>0.657</td>\n",
       "      <td>0.054</td>\n",
       "      <td>0.122</td>\n",
       "      <td>0.033</td>\n",
       "      <td>0.031</td>\n",
       "      <td>0.129</td>\n",
       "      <td>0.032</td>\n",
       "      <td>0.043</td>\n",
       "      <td>0.040</td>\n",
       "      <td>0.026</td>\n",
       "      <td>0.023</td>\n",
       "      <td>0.026</td>\n",
       "      <td>0.027</td>\n",
       "      <td>0.022</td>\n",
       "      <td>0.042</td>\n",
       "      <td>0.040</td>\n",
       "      <td>0.022</td>\n",
       "      <td>0.026</td>\n",
       "      <td>0.027</td>\n",
       "      <td>0.022</td>\n",
       "      <td>0.027</td>\n",
       "      <td>0.048</td>\n",
       "      <td>0.028</td>\n",
       "      <td>0.027</td>\n",
       "      <td>0.025</td>\n",
       "      <td>0.024</td>\n",
       "      <td>0.026</td>\n",
       "      <td>0.029</td>\n",
       "      <td>0.047</td>\n",
       "      <td>0.027</td>\n",
       "      <td>0.025</td>\n",
       "      <td>0.024</td>\n",
       "      <td>0.027</td>\n",
       "      <td>0.025</td>\n",
       "      <td>0.038</td>\n",
       "      <td>0.036</td>\n",
       "      <td>0.024</td>\n",
       "      <td>0.025</td>\n",
       "      <td>0.027</td>\n",
       "      <td>0.024</td>\n",
       "      <td>0.046</td>\n",
       "      <td>0.030</td>\n",
       "      <td>2.138</td>\n",
       "      <td>1.530</td>\n",
       "      <td>1.361</td>\n",
       "      <td>1.272</td>\n",
       "      <td>1.429</td>\n",
       "      <td>1.296</td>\n",
       "      <td>1.401</td>\n",
       "      <td>1.310</td>\n",
       "      <td>1.104</td>\n",
       "      <td>0.035</td>\n",
       "      <td>0.047</td>\n",
       "      <td>0.117</td>\n",
       "      <td>0.031</td>\n",
       "      <td>0.099</td>\n",
       "      <td>0.026</td>\n",
       "      <td>0.043</td>\n",
       "      <td>0.026</td>\n",
       "      <td>0.022</td>\n",
       "      <td>0.027</td>\n",
       "      <td>0.029</td>\n",
       "      <td>0.038</td>\n",
       "      <td>0.026</td>\n",
       "      <td>0.023</td>\n",
       "      <td>0.026</td>\n",
       "      <td>0.047</td>\n",
       "      <td>0.024</td>\n",
       "      <td>0.027</td>\n",
       "      <td>0.027</td>\n",
       "      <td>0.022</td>\n",
       "      <td>0.039</td>\n",
       "      <td>0.039</td>\n",
       "      <td>0.023</td>\n",
       "      <td>0.027</td>\n",
       "      <td>0.025</td>\n",
       "      <td>0.024</td>\n",
       "      <td>0.038</td>\n",
       "      <td>0.039</td>\n",
       "      <td>0.024</td>\n",
       "      <td>0.027</td>\n",
       "      <td>0.024</td>\n",
       "      <td>0.025</td>\n",
       "      <td>0.041</td>\n",
       "      <td>0.028</td>\n",
       "      <td>0.026</td>\n",
       "      <td>0.027</td>\n",
       "      <td>0.022</td>\n",
       "      <td>0.047</td>\n",
       "      <td>0.027</td>\n",
       "      <td>2.309</td>\n",
       "      <td>1.290</td>\n",
       "      <td>1.531</td>\n",
       "      <td>1.294</td>\n",
       "      <td>1.375</td>\n",
       "      <td>1.300</td>\n",
       "      <td>1.405</td>\n",
       "      <td>1.304</td>\n",
       "      <td>1.309</td>\n",
       "      <td>1.177</td>\n",
       "      <td>0.030</td>\n",
       "      <td>0.032</td>\n",
       "      <td>0.137</td>\n",
       "      <td>0.025</td>\n",
       "      <td>0.027</td>\n",
       "      <td>0.033</td>\n",
       "      <td>0.031</td>\n",
       "      <td>0.027</td>\n",
       "      <td>0.023</td>\n",
       "      <td>0.033</td>\n",
       "      <td>0.036</td>\n",
       "      <td>0.022</td>\n",
       "      <td>0.027</td>\n",
       "      <td>0.027</td>\n",
       "      <td>0.038</td>\n",
       "      <td>0.027</td>\n",
       "      <td>0.023</td>\n",
       "      <td>0.035</td>\n",
       "      <td>0.032</td>\n",
       "      <td>0.026</td>\n",
       "      <td>0.026</td>\n",
       "      <td>0.030</td>\n",
       "      <td>0.034</td>\n",
       "      <td>0.024</td>\n",
       "      <td>0.025</td>\n",
       "      <td>0.044</td>\n",
       "      <td>0.022</td>\n",
       "      <td>0.026</td>\n",
       "      <td>0.025</td>\n",
       "      <td>0.034</td>\n",
       "      <td>0.034</td>\n",
       "      <td>0.022</td>\n",
       "      <td>0.027</td>\n",
       "      <td>0.032</td>\n",
       "      <td>0.033</td>\n",
       "      <td>0.027</td>\n",
       "      <td>0.022</td>\n",
       "      <td>0.035</td>\n",
       "      <td>2.352</td>\n",
       "      <td>1.445</td>\n",
       "      <td>1.469</td>\n",
       "      <td>1.287</td>\n",
       "      <td>1.692</td>\n",
       "      <td>1.301</td>\n",
       "      <td>0.944</td>\n",
       "      <td>0.043</td>\n",
       "      <td>0.032</td>\n",
       "      <td>0.033</td>\n",
       "      <td>0.029</td>\n",
       "      <td>0.173</td>\n",
       "      <td>0.032</td>\n",
       "      <td>0.025</td>\n",
       "      <td>0.027</td>\n",
       "      <td>0.038</td>\n",
       "      <td>0.026</td>\n",
       "      <td>0.027</td>\n",
       "      <td>0.028</td>\n",
       "      <td>0.036</td>\n",
       "      <td>0.023</td>\n",
       "      <td>0.026</td>\n",
       "      <td>0.038</td>\n",
       "      <td>0.026</td>\n",
       "      <td>0.027</td>\n",
       "      <td>0.024</td>\n",
       "      <td>0.041</td>\n",
       "      <td>0.027</td>\n",
       "      <td>0.022</td>\n",
       "      <td>0.031</td>\n",
       "      <td>0.035</td>\n",
       "      <td>0.025</td>\n",
       "      <td>0.027</td>\n",
       "      <td>0.035</td>\n",
       "      <td>0.029</td>\n",
       "      <td>0.026</td>\n",
       "      <td>0.023</td>\n",
       "      <td>0.042</td>\n",
       "      <td>0.023</td>\n",
       "      <td>0.026</td>\n",
       "      <td>0.032</td>\n",
       "      <td>0.031</td>\n",
       "      <td>0.027</td>\n",
       "      <td>0.024</td>\n",
       "      <td>0.040</td>\n",
       "      <td>0.027</td>\n",
       "      <td>0.022</td>\n",
       "      <td>0.028</td>\n",
       "      <td>2.103</td>\n",
       "      <td>1.755</td>\n",
       "      <td>1.313</td>\n",
       "      <td>1.318</td>\n",
       "      <td>1.458</td>\n",
       "      <td>1.321</td>\n",
       "      <td>1.282</td>\n",
       "      <td>1.293</td>\n",
       "      <td>1.375</td>\n",
       "      <td>1.319</td>\n",
       "      <td>1.310</td>\n",
       "      <td>0.538</td>\n",
       "      <td>0.030</td>\n",
       "      <td>0.025</td>\n",
       "      <td>0.028</td>\n",
       "      <td>0.037</td>\n",
       "      <td>0.025</td>\n",
       "      <td>0.027</td>\n",
       "      <td>0.030</td>\n",
       "      <td>0.036</td>\n",
       "      <td>0.022</td>\n",
       "      <td>0.027</td>\n",
       "      <td>0.026</td>\n",
       "      <td>0.038</td>\n",
       "      <td>0.027</td>\n",
       "      <td>0.023</td>\n",
       "      <td>0.035</td>\n",
       "      <td>0.033</td>\n",
       "      <td>0.024</td>\n",
       "      <td>0.027</td>\n",
       "      <td>0.035</td>\n",
       "      <td>0.030</td>\n",
       "      <td>0.026</td>\n",
       "      <td>0.023</td>\n",
       "      <td>0.042</td>\n",
       "      <td>0.023</td>\n",
       "      <td>0.026</td>\n",
       "      <td>0.027</td>\n",
       "      <td>0.040</td>\n",
       "      <td>0.027</td>\n",
       "      <td>0.025</td>\n",
       "      <td>0.025</td>\n",
       "      <td>0.040</td>\n",
       "      <td>0.026</td>\n",
       "      <td>0.027</td>\n",
       "      <td>0.025</td>\n",
       "      <td>0.031</td>\n",
       "      <td>0.038</td>\n",
       "      <td>2.239</td>\n",
       "      <td>1.598</td>\n",
       "      <td>1.305</td>\n",
       "      <td>1.321</td>\n",
       "      <td>1.425</td>\n",
       "      <td>1.290</td>\n",
       "      <td>1.337</td>\n",
       "      <td>1.394</td>\n",
       "      <td>...</td>\n",
       "      <td>0.201</td>\n",
       "      <td>0.195</td>\n",
       "      <td>0.205</td>\n",
       "      <td>0.209</td>\n",
       "      <td>0.204</td>\n",
       "      <td>0.194</td>\n",
       "      <td>0.243</td>\n",
       "      <td>0.227</td>\n",
       "      <td>0.222</td>\n",
       "      <td>0.207</td>\n",
       "      <td>NaN</td>\n",
       "      <td>NaN</td>\n",
       "      <td>NaN</td>\n",
       "      <td>NaN</td>\n",
       "      <td>NaN</td>\n",
       "      <td>NaN</td>\n",
       "      <td>NaN</td>\n",
       "      <td>NaN</td>\n",
       "      <td>NaN</td>\n",
       "      <td>NaN</td>\n",
       "      <td>NaN</td>\n",
       "      <td>NaN</td>\n",
       "      <td>NaN</td>\n",
       "      <td>NaN</td>\n",
       "      <td>NaN</td>\n",
       "      <td>NaN</td>\n",
       "      <td>NaN</td>\n",
       "      <td>NaN</td>\n",
       "      <td>NaN</td>\n",
       "      <td>NaN</td>\n",
       "      <td>NaN</td>\n",
       "      <td>NaN</td>\n",
       "      <td>NaN</td>\n",
       "      <td>NaN</td>\n",
       "      <td>NaN</td>\n",
       "      <td>NaN</td>\n",
       "      <td>NaN</td>\n",
       "      <td>NaN</td>\n",
       "      <td>NaN</td>\n",
       "      <td>NaN</td>\n",
       "      <td>NaN</td>\n",
       "      <td>NaN</td>\n",
       "      <td>NaN</td>\n",
       "      <td>NaN</td>\n",
       "      <td>NaN</td>\n",
       "      <td>NaN</td>\n",
       "      <td>NaN</td>\n",
       "      <td>NaN</td>\n",
       "      <td>NaN</td>\n",
       "      <td>NaN</td>\n",
       "      <td>NaN</td>\n",
       "      <td>NaN</td>\n",
       "      <td>NaN</td>\n",
       "      <td>NaN</td>\n",
       "      <td>NaN</td>\n",
       "      <td>NaN</td>\n",
       "      <td>NaN</td>\n",
       "      <td>NaN</td>\n",
       "      <td>0.244</td>\n",
       "      <td>2.334</td>\n",
       "      <td>1.755</td>\n",
       "      <td>1.857</td>\n",
       "      <td>1.489</td>\n",
       "      <td>1.419</td>\n",
       "      <td>1.405</td>\n",
       "      <td>1.538</td>\n",
       "      <td>1.417</td>\n",
       "      <td>1.419</td>\n",
       "      <td>0.448</td>\n",
       "      <td>0.223</td>\n",
       "      <td>0.124</td>\n",
       "      <td>0.120</td>\n",
       "      <td>0.124</td>\n",
       "      <td>0.115</td>\n",
       "      <td>0.116</td>\n",
       "      <td>0.116</td>\n",
       "      <td>0.115</td>\n",
       "      <td>0.119</td>\n",
       "      <td>0.114</td>\n",
       "      <td>0.132</td>\n",
       "      <td>0.139</td>\n",
       "      <td>0.126</td>\n",
       "      <td>0.114</td>\n",
       "      <td>0.117</td>\n",
       "      <td>0.116</td>\n",
       "      <td>0.117</td>\n",
       "      <td>0.116</td>\n",
       "      <td>0.117</td>\n",
       "      <td>0.116</td>\n",
       "      <td>0.127</td>\n",
       "      <td>0.141</td>\n",
       "      <td>0.127</td>\n",
       "      <td>0.117</td>\n",
       "      <td>0.148</td>\n",
       "      <td>0.175</td>\n",
       "      <td>0.148</td>\n",
       "      <td>0.182</td>\n",
       "      <td>0.188</td>\n",
       "      <td>0.210</td>\n",
       "      <td>0.202</td>\n",
       "      <td>0.253</td>\n",
       "      <td>0.240</td>\n",
       "      <td>0.221</td>\n",
       "      <td>0.236</td>\n",
       "      <td>0.235</td>\n",
       "      <td>0.240</td>\n",
       "      <td>NaN</td>\n",
       "      <td>NaN</td>\n",
       "      <td>NaN</td>\n",
       "      <td>NaN</td>\n",
       "      <td>NaN</td>\n",
       "      <td>NaN</td>\n",
       "      <td>NaN</td>\n",
       "      <td>NaN</td>\n",
       "      <td>NaN</td>\n",
       "      <td>NaN</td>\n",
       "      <td>NaN</td>\n",
       "      <td>NaN</td>\n",
       "      <td>NaN</td>\n",
       "      <td>NaN</td>\n",
       "      <td>NaN</td>\n",
       "      <td>NaN</td>\n",
       "      <td>NaN</td>\n",
       "      <td>NaN</td>\n",
       "      <td>NaN</td>\n",
       "      <td>NaN</td>\n",
       "      <td>NaN</td>\n",
       "      <td>NaN</td>\n",
       "      <td>NaN</td>\n",
       "      <td>NaN</td>\n",
       "      <td>NaN</td>\n",
       "      <td>NaN</td>\n",
       "      <td>NaN</td>\n",
       "      <td>NaN</td>\n",
       "      <td>NaN</td>\n",
       "      <td>NaN</td>\n",
       "      <td>NaN</td>\n",
       "      <td>NaN</td>\n",
       "      <td>NaN</td>\n",
       "      <td>NaN</td>\n",
       "      <td>NaN</td>\n",
       "      <td>NaN</td>\n",
       "      <td>NaN</td>\n",
       "      <td>NaN</td>\n",
       "      <td>NaN</td>\n",
       "      <td>NaN</td>\n",
       "      <td>NaN</td>\n",
       "      <td>NaN</td>\n",
       "      <td>NaN</td>\n",
       "      <td>NaN</td>\n",
       "      <td>NaN</td>\n",
       "      <td>NaN</td>\n",
       "      <td>NaN</td>\n",
       "      <td>NaN</td>\n",
       "      <td>0.243</td>\n",
       "      <td>2.380</td>\n",
       "      <td>1.705</td>\n",
       "      <td>1.455</td>\n",
       "      <td>1.562</td>\n",
       "      <td>1.397</td>\n",
       "      <td>1.500</td>\n",
       "      <td>1.324</td>\n",
       "      <td>0.217</td>\n",
       "      <td>0.118</td>\n",
       "      <td>0.291</td>\n",
       "      <td>0.125</td>\n",
       "      <td>0.145</td>\n",
       "      <td>0.152</td>\n",
       "      <td>0.231</td>\n",
       "      <td>0.116</td>\n",
       "      <td>0.118</td>\n",
       "      <td>0.114</td>\n",
       "      <td>0.120</td>\n",
       "      <td>0.115</td>\n",
       "      <td>0.120</td>\n",
       "      <td>0.115</td>\n",
       "      <td>0.116</td>\n",
       "      <td>0.118</td>\n",
       "      <td>0.115</td>\n",
       "      <td>0.120</td>\n",
       "      <td>0.120</td>\n",
       "      <td>0.143</td>\n",
       "      <td>0.142</td>\n",
       "      <td>0.125</td>\n",
       "      <td>0.118</td>\n",
       "      <td>0.114</td>\n",
       "      <td>0.121</td>\n",
       "      <td>0.115</td>\n",
       "      <td>0.119</td>\n",
       "      <td>0.116</td>\n",
       "      <td>0.119</td>\n",
       "      <td>0.132</td>\n",
       "      <td>0.144</td>\n",
       "      <td>0.149</td>\n",
       "      <td>0.156</td>\n",
       "      <td>0.173</td>\n",
       "      <td>0.196</td>\n",
       "      <td>0.208</td>\n",
       "      <td>0.180</td>\n",
       "      <td>0.197</td>\n",
       "      <td>0.177</td>\n",
       "      <td>0.201</td>\n",
       "      <td>0.198</td>\n",
       "      <td>2.406</td>\n",
       "      <td>1.634</td>\n",
       "      <td>1.414</td>\n",
       "      <td>1.479</td>\n",
       "      <td>1.395</td>\n",
       "      <td>0.319</td>\n",
       "      <td>0.122</td>\n",
       "      <td>0.227</td>\n",
       "      <td>0.145</td>\n",
       "      <td>0.236</td>\n",
       "      <td>0.174</td>\n",
       "      <td>0.125</td>\n",
       "      <td>0.120</td>\n",
       "      <td>0.254</td>\n",
       "      <td>0.115</td>\n",
       "      <td>0.119</td>\n",
       "      <td>0.115</td>\n",
       "      <td>0.121</td>\n",
       "      <td>0.114</td>\n",
       "      <td>0.120</td>\n",
       "      <td>0.114</td>\n",
       "      <td>0.120</td>\n",
       "      <td>0.115</td>\n",
       "      <td>0.119</td>\n",
       "      <td>0.115</td>\n",
       "      <td>0.143</td>\n",
       "      <td>0.140</td>\n",
       "      <td>0.147</td>\n",
       "      <td>0.121</td>\n",
       "      <td>0.124</td>\n",
       "      <td>0.133</td>\n",
       "      <td>0.153</td>\n",
       "      <td>0.148</td>\n",
       "      <td>0.166</td>\n",
       "      <td>0.161</td>\n",
       "      <td>0.188</td>\n",
       "      <td>0.181</td>\n",
       "      <td>0.182</td>\n",
       "      <td>0.182</td>\n",
       "      <td>0.194</td>\n",
       "      <td>0.187</td>\n",
       "      <td>0.170</td>\n",
       "      <td>0.200</td>\n",
       "      <td>0.203</td>\n",
       "      <td>0.203</td>\n",
       "      <td>0.190</td>\n",
       "      <td>0.186</td>\n",
       "    </tr>\n",
       "  </tbody>\n",
       "</table>\n",
       "<p>3248 rows × 17521 columns</p>\n",
       "</div>"
      ],
      "text/plain": [
       "                                        meter_id  2017-01-01 00:00:00  \\\n",
       "0     0xa62b9f23553ff183f61e2bf943aab3d5983d02d7                  NaN   \n",
       "1     0x459c834d1f6cfb5b734b82aa9f5410fa97fb70da                  NaN   \n",
       "2     0x4a1ed36825360a058cec2bdd409fc2459e1ce54f                  NaN   \n",
       "3     0x5b76d3c0e0aefc6e0a8d1d031f96388a23263407                  NaN   \n",
       "4     0x943ebe39ef2be6ef807c42c5a647e27112ca5b0f                  NaN   \n",
       "...                                          ...                  ...   \n",
       "3243  0x7dd7a7b8ee1bec7c44b24f738c752482f6161065                0.011   \n",
       "3244  0xfdaf9f857621ec06f2cf801f42a020a322835090                0.015   \n",
       "3245  0xd28f2f001e0cd4d6c121a3cb2e1427207e170e18                0.222   \n",
       "3246  0x47218b46abb2fcaade487a211911406dc6e13730                0.195   \n",
       "3247  0xcd19e6fe3d887bc5dcac7ca18d46199695463fdd                0.023   \n",
       "\n",
       "      2017-01-01 00:30:00  2017-01-01 01:00:00  2017-01-01 01:30:00  \\\n",
       "0                     NaN                  NaN                  NaN   \n",
       "1                     NaN                  NaN                  NaN   \n",
       "2                     NaN                  NaN                  NaN   \n",
       "3                     NaN                  NaN                  NaN   \n",
       "4                     NaN                  NaN                  NaN   \n",
       "...                   ...                  ...                  ...   \n",
       "3243                1.089                0.014                0.204   \n",
       "3244                1.523                0.105                0.296   \n",
       "3245                0.276                0.097                0.058   \n",
       "3246                2.881                1.765                1.391   \n",
       "3247                2.307                1.403                1.471   \n",
       "\n",
       "      2017-01-01 02:00:00  2017-01-01 02:30:00  2017-01-01 03:00:00  \\\n",
       "0                     NaN                  NaN                  NaN   \n",
       "1                     NaN                  NaN                  NaN   \n",
       "2                     NaN                  NaN                  NaN   \n",
       "3                     NaN                  NaN                  NaN   \n",
       "4                     NaN                  NaN                  NaN   \n",
       "...                   ...                  ...                  ...   \n",
       "3243                0.015                0.159                0.014   \n",
       "3244                0.067                0.171                0.025   \n",
       "3245                0.045                0.045                0.038   \n",
       "3246                1.609                1.362                1.352   \n",
       "3247                1.421                1.305                1.299   \n",
       "\n",
       "      2017-01-01 03:30:00  2017-01-01 04:00:00  2017-01-01 04:30:00  \\\n",
       "0                     NaN                  NaN                  NaN   \n",
       "1                     NaN                  NaN                  NaN   \n",
       "2                     NaN                  NaN                  NaN   \n",
       "3                     NaN                  NaN                  NaN   \n",
       "4                     NaN                  NaN                  NaN   \n",
       "...                   ...                  ...                  ...   \n",
       "3243                0.013                0.174                0.013   \n",
       "3244                0.260                0.013                0.024   \n",
       "3245                0.034                0.043                0.044   \n",
       "3246                1.321                0.701                0.784   \n",
       "3247                0.657                0.054                0.122   \n",
       "\n",
       "      2017-01-01 05:00:00  2017-01-01 05:30:00  2017-01-01 06:00:00  \\\n",
       "0                     NaN                  NaN                  NaN   \n",
       "1                     NaN                  NaN                  NaN   \n",
       "2                     NaN                  NaN                  NaN   \n",
       "3                     NaN                  NaN                  NaN   \n",
       "4                     NaN                  NaN                  NaN   \n",
       "...                   ...                  ...                  ...   \n",
       "3243                0.014                0.014                0.014   \n",
       "3244                0.012                0.178                0.018   \n",
       "3245                0.046                0.033                0.038   \n",
       "3246                0.587                0.788                0.636   \n",
       "3247                0.033                0.031                0.129   \n",
       "\n",
       "      2017-01-01 06:30:00  2017-01-01 07:00:00  2017-01-01 07:30:00  \\\n",
       "0                     NaN                  NaN                  NaN   \n",
       "1                     NaN                  NaN                  NaN   \n",
       "2                     NaN                  NaN                  NaN   \n",
       "3                     NaN                  NaN                  NaN   \n",
       "4                     NaN                  NaN                  NaN   \n",
       "...                   ...                  ...                  ...   \n",
       "3243                0.189                0.015                0.011   \n",
       "3244                0.454                0.290                1.228   \n",
       "3245                0.043                0.056                0.250   \n",
       "3246                0.728                0.097                0.061   \n",
       "3247                0.032                0.043                0.040   \n",
       "\n",
       "      2017-01-01 08:00:00  2017-01-01 08:30:00  2017-01-01 09:00:00  \\\n",
       "0                     NaN                  NaN                  NaN   \n",
       "1                     NaN                  NaN                  NaN   \n",
       "2                     NaN                  NaN                  NaN   \n",
       "3                     NaN                  NaN                  NaN   \n",
       "4                     NaN                  NaN                  NaN   \n",
       "...                   ...                  ...                  ...   \n",
       "3243                0.011                0.011                0.011   \n",
       "3244                1.228                1.229                1.199   \n",
       "3245                0.187                0.207                0.182   \n",
       "3246                0.177                0.097                0.136   \n",
       "3247                0.026                0.023                0.026   \n",
       "\n",
       "      2017-01-01 09:30:00  2017-01-01 10:00:00  2017-01-01 10:30:00  \\\n",
       "0                     NaN                  NaN                  NaN   \n",
       "1                     NaN                  NaN                  NaN   \n",
       "2                     NaN                  NaN                  NaN   \n",
       "3                     NaN                  NaN                  NaN   \n",
       "4                     NaN                  NaN                  NaN   \n",
       "...                   ...                  ...                  ...   \n",
       "3243                0.011                0.011                0.011   \n",
       "3244                1.075                0.021                0.009   \n",
       "3245                0.164                0.144                0.055   \n",
       "3246                0.128                0.114                0.109   \n",
       "3247                0.027                0.022                0.042   \n",
       "\n",
       "      2017-01-01 11:00:00  2017-01-01 11:30:00  2017-01-01 12:00:00  \\\n",
       "0                     NaN                  NaN                  NaN   \n",
       "1                     NaN                  NaN                  NaN   \n",
       "2                     NaN                  NaN                  NaN   \n",
       "3                     NaN                  NaN                  NaN   \n",
       "4                     NaN                  NaN                  NaN   \n",
       "...                   ...                  ...                  ...   \n",
       "3243                0.011                0.011                0.011   \n",
       "3244                0.019                0.011                0.009   \n",
       "3245                0.052                0.051                0.044   \n",
       "3246                0.152                0.147                0.147   \n",
       "3247                0.040                0.022                0.026   \n",
       "\n",
       "      2017-01-01 12:30:00  2017-01-01 13:00:00  2017-01-01 13:30:00  \\\n",
       "0                     NaN                  NaN                  NaN   \n",
       "1                     NaN                  NaN                  NaN   \n",
       "2                     NaN                  NaN                  NaN   \n",
       "3                     NaN                  NaN                  NaN   \n",
       "4                     NaN                  NaN                  NaN   \n",
       "...                   ...                  ...                  ...   \n",
       "3243                0.011                0.011                0.011   \n",
       "3244                0.023                0.008                0.017   \n",
       "3245                0.048                0.117                0.514   \n",
       "3246                0.129                0.126                0.153   \n",
       "3247                0.027                0.022                0.027   \n",
       "\n",
       "      2017-01-01 14:00:00  2017-01-01 14:30:00  2017-01-01 15:00:00  \\\n",
       "0                     NaN                  NaN                  NaN   \n",
       "1                     NaN                  NaN                  NaN   \n",
       "2                     NaN                  NaN                  NaN   \n",
       "3                     NaN                  NaN                  NaN   \n",
       "4                     NaN                  NaN                  NaN   \n",
       "...                   ...                  ...                  ...   \n",
       "3243                0.011                0.011                0.011   \n",
       "3244                0.014                0.009                0.022   \n",
       "3245                0.746                0.417                0.167   \n",
       "3246                0.151                0.249                0.175   \n",
       "3247                0.048                0.028                0.027   \n",
       "\n",
       "      2017-01-01 15:30:00  2017-01-01 16:00:00  2017-01-01 16:30:00  \\\n",
       "0                     NaN                  NaN                  NaN   \n",
       "1                     NaN                  NaN                  NaN   \n",
       "2                     NaN                  NaN                  NaN   \n",
       "3                     NaN                  NaN                  NaN   \n",
       "4                     NaN                  NaN                  NaN   \n",
       "...                   ...                  ...                  ...   \n",
       "3243                0.011                0.011                0.011   \n",
       "3244                0.008                0.555                1.227   \n",
       "3245                0.139                0.157                0.169   \n",
       "3246                0.170                0.214                0.236   \n",
       "3247                0.025                0.024                0.026   \n",
       "\n",
       "      2017-01-01 17:00:00  2017-01-01 17:30:00  2017-01-01 18:00:00  \\\n",
       "0                     NaN                  NaN                  NaN   \n",
       "1                     NaN                  NaN                  NaN   \n",
       "2                     NaN                  NaN                  NaN   \n",
       "3                     NaN                  NaN                  NaN   \n",
       "4                     NaN                  NaN                  NaN   \n",
       "...                   ...                  ...                  ...   \n",
       "3243                0.011                0.011                0.011   \n",
       "3244                1.222                1.237                0.446   \n",
       "3245                0.161                0.139                0.132   \n",
       "3246                0.251                0.270                0.292   \n",
       "3247                0.029                0.047                0.027   \n",
       "\n",
       "      2017-01-01 18:30:00  2017-01-01 19:00:00  2017-01-01 19:30:00  \\\n",
       "0                     NaN                  NaN                  NaN   \n",
       "1                     NaN                  NaN                  NaN   \n",
       "2                     NaN                  NaN                  NaN   \n",
       "3                     NaN                  NaN                  NaN   \n",
       "4                     NaN                  NaN                  NaN   \n",
       "...                   ...                  ...                  ...   \n",
       "3243                0.011                0.012                0.011   \n",
       "3244                0.028                0.020                0.009   \n",
       "3245                0.198                0.193                0.241   \n",
       "3246                0.253                0.256                0.266   \n",
       "3247                0.025                0.024                0.027   \n",
       "\n",
       "      2017-01-01 20:00:00  2017-01-01 20:30:00  2017-01-01 21:00:00  \\\n",
       "0                     NaN                  NaN                  NaN   \n",
       "1                     NaN                  NaN                  NaN   \n",
       "2                     NaN                  NaN                  NaN   \n",
       "3                     NaN                  NaN                  NaN   \n",
       "4                     NaN                  NaN                  NaN   \n",
       "...                   ...                  ...                  ...   \n",
       "3243                0.011                0.011                0.011   \n",
       "3244                0.021                0.011                0.009   \n",
       "3245                0.226                0.218                0.331   \n",
       "3246                0.372                0.800                0.667   \n",
       "3247                0.025                0.038                0.036   \n",
       "\n",
       "      2017-01-01 21:30:00  2017-01-01 22:00:00  2017-01-01 22:30:00  \\\n",
       "0                     NaN                  NaN                  NaN   \n",
       "1                     NaN                  NaN                  NaN   \n",
       "2                     NaN                  NaN                  NaN   \n",
       "3                     NaN                  NaN                  NaN   \n",
       "4                     NaN                  NaN                  NaN   \n",
       "...                   ...                  ...                  ...   \n",
       "3243                0.012                0.011                0.011   \n",
       "3244                0.022                0.009                0.016   \n",
       "3245                0.203                0.235                0.369   \n",
       "3246                0.524                0.317                0.259   \n",
       "3247                0.024                0.025                0.027   \n",
       "\n",
       "      2017-01-01 23:00:00  2017-01-01 23:30:00  2017-01-02 00:00:00  \\\n",
       "0                     NaN                  NaN                  NaN   \n",
       "1                     NaN                  NaN                  NaN   \n",
       "2                     NaN                  NaN                  NaN   \n",
       "3                     NaN                  NaN                  NaN   \n",
       "4                     NaN                  NaN                  NaN   \n",
       "...                   ...                  ...                  ...   \n",
       "3243                0.011                0.011                0.010   \n",
       "3244                0.016                0.009                0.021   \n",
       "3245                0.147                0.103                0.127   \n",
       "3246                0.201                0.169                0.183   \n",
       "3247                0.024                0.046                0.030   \n",
       "\n",
       "      2017-01-02 00:30:00  2017-01-02 01:00:00  2017-01-02 01:30:00  \\\n",
       "0                     NaN                  NaN                  NaN   \n",
       "1                     NaN                  NaN                  NaN   \n",
       "2                     NaN                  NaN                  NaN   \n",
       "3                     NaN                  NaN                  NaN   \n",
       "4                     NaN                  NaN                  NaN   \n",
       "...                   ...                  ...                  ...   \n",
       "3243                1.066                0.133                0.074   \n",
       "3244                1.515                0.168                0.300   \n",
       "3245                0.161                0.129                0.094   \n",
       "3246                2.967                2.183                1.437   \n",
       "3247                2.138                1.530                1.361   \n",
       "\n",
       "      2017-01-02 02:00:00  2017-01-02 02:30:00  2017-01-02 03:00:00  \\\n",
       "0                     NaN                  NaN                  NaN   \n",
       "1                     NaN                  NaN                  NaN   \n",
       "2                     NaN                  NaN                  NaN   \n",
       "3                     NaN                  NaN                  NaN   \n",
       "4                     NaN                  NaN                  NaN   \n",
       "...                   ...                  ...                  ...   \n",
       "3243                0.069                0.153                0.014   \n",
       "3244                0.015                0.184                0.019   \n",
       "3245                0.071                0.072                0.062   \n",
       "3246                1.728                1.358                1.335   \n",
       "3247                1.272                1.429                1.296   \n",
       "\n",
       "      2017-01-02 03:30:00  2017-01-02 04:00:00  2017-01-02 04:30:00  \\\n",
       "0                     NaN                  NaN                  NaN   \n",
       "1                     NaN                  NaN                  NaN   \n",
       "2                     NaN                  NaN                  NaN   \n",
       "3                     NaN                  NaN                  NaN   \n",
       "4                     NaN                  NaN                  NaN   \n",
       "...                   ...                  ...                  ...   \n",
       "3243                0.014                0.160                0.014   \n",
       "3244                0.231                0.025                0.012   \n",
       "3245                0.055                0.055                0.061   \n",
       "3246                1.544                1.351                1.335   \n",
       "3247                1.401                1.310                1.104   \n",
       "\n",
       "      2017-01-02 05:00:00  2017-01-02 05:30:00  2017-01-02 06:00:00  \\\n",
       "0                     NaN                  NaN                  NaN   \n",
       "1                     NaN                  NaN                  NaN   \n",
       "2                     NaN                  NaN                  NaN   \n",
       "3                     NaN                  NaN                  NaN   \n",
       "4                     NaN                  NaN                  NaN   \n",
       "...                   ...                  ...                  ...   \n",
       "3243                0.014                0.122                0.063   \n",
       "3244                0.177                0.027                0.275   \n",
       "3245                0.051                0.049                0.046   \n",
       "3246                1.328                1.365                1.089   \n",
       "3247                0.035                0.047                0.117   \n",
       "\n",
       "      2017-01-02 06:30:00  2017-01-02 07:00:00  2017-01-02 07:30:00  \\\n",
       "0                     NaN                  NaN                  NaN   \n",
       "1                     NaN                  NaN                  NaN   \n",
       "2                     NaN                  NaN                  NaN   \n",
       "3                     NaN                  NaN                  NaN   \n",
       "4                     NaN                  NaN                  NaN   \n",
       "...                   ...                  ...                  ...   \n",
       "3243                0.015                0.014                0.011   \n",
       "3244                0.014                0.415                0.020   \n",
       "3245                0.045                0.056                0.053   \n",
       "3246                0.313                0.037                0.040   \n",
       "3247                0.031                0.099                0.026   \n",
       "\n",
       "      2017-01-02 08:00:00  2017-01-02 08:30:00  2017-01-02 09:00:00  \\\n",
       "0                     NaN                  NaN                  NaN   \n",
       "1                     NaN                  NaN                  NaN   \n",
       "2                     NaN                  NaN                  NaN   \n",
       "3                     NaN                  NaN                  NaN   \n",
       "4                     NaN                  NaN                  NaN   \n",
       "...                   ...                  ...                  ...   \n",
       "3243                0.012                0.011                0.011   \n",
       "3244                0.035                0.023                0.017   \n",
       "3245                0.045                0.095                0.202   \n",
       "3246                0.182                0.122                0.156   \n",
       "3247                0.043                0.026                0.022   \n",
       "\n",
       "      2017-01-02 09:30:00  2017-01-02 10:00:00  2017-01-02 10:30:00  \\\n",
       "0                     NaN                  NaN                  NaN   \n",
       "1                     NaN                  NaN                  NaN   \n",
       "2                     NaN                  NaN                  NaN   \n",
       "3                     NaN                  NaN                  NaN   \n",
       "4                     NaN                  NaN                  NaN   \n",
       "...                   ...                  ...                  ...   \n",
       "3243                0.011                0.011                0.011   \n",
       "3244                0.021                0.009                0.018   \n",
       "3245                0.193                0.161                0.278   \n",
       "3246                0.112                0.087                0.107   \n",
       "3247                0.027                0.029                0.038   \n",
       "\n",
       "      2017-01-02 11:00:00  2017-01-02 11:30:00  2017-01-02 12:00:00  \\\n",
       "0                     NaN                  NaN                  NaN   \n",
       "1                     NaN                  NaN                  NaN   \n",
       "2                     NaN                  NaN                  NaN   \n",
       "3                     NaN                  NaN                  NaN   \n",
       "4                     NaN                  NaN                  NaN   \n",
       "...                   ...                  ...                  ...   \n",
       "3243                0.011                0.011                0.011   \n",
       "3244                0.014                0.008                0.021   \n",
       "3245                0.225                0.192                0.230   \n",
       "3246                0.094                0.115                0.106   \n",
       "3247                0.026                0.023                0.026   \n",
       "\n",
       "      2017-01-02 12:30:00  2017-01-02 13:00:00  2017-01-02 13:30:00  \\\n",
       "0                     NaN                  NaN                  NaN   \n",
       "1                     NaN                  NaN                  NaN   \n",
       "2                     NaN                  NaN                  NaN   \n",
       "3                     NaN                  NaN                  NaN   \n",
       "4                     NaN                  NaN                  NaN   \n",
       "...                   ...                  ...                  ...   \n",
       "3243                0.011                0.011                0.011   \n",
       "3244                0.009                0.011                0.019   \n",
       "3245                0.241                0.195                0.258   \n",
       "3246                0.113                0.127                0.124   \n",
       "3247                0.047                0.024                0.027   \n",
       "\n",
       "      2017-01-02 14:00:00  2017-01-02 14:30:00  2017-01-02 15:00:00  \\\n",
       "0                     NaN                  NaN                  NaN   \n",
       "1                     NaN                  NaN                  NaN   \n",
       "2                     NaN                  NaN                  NaN   \n",
       "3                     NaN                  NaN                  NaN   \n",
       "4                     NaN                  NaN                  NaN   \n",
       "...                   ...                  ...                  ...   \n",
       "3243                0.011                0.011                0.011   \n",
       "3244                0.009                0.016                0.014   \n",
       "3245                0.236                0.265                0.264   \n",
       "3246                0.130                0.134                0.133   \n",
       "3247                0.027                0.022                0.039   \n",
       "\n",
       "      2017-01-02 15:30:00  2017-01-02 16:00:00  2017-01-02 16:30:00  \\\n",
       "0                     NaN                  NaN                  NaN   \n",
       "1                     NaN                  NaN                  NaN   \n",
       "2                     NaN                  NaN                  NaN   \n",
       "3                     NaN                  NaN                  NaN   \n",
       "4                     NaN                  NaN                  NaN   \n",
       "...                   ...                  ...                  ...   \n",
       "3243                0.011                0.011                0.011   \n",
       "3244                0.009                0.019                0.010   \n",
       "3245                0.210                0.156                0.104   \n",
       "3246                0.149                0.148                0.217   \n",
       "3247                0.039                0.023                0.027   \n",
       "\n",
       "      2017-01-02 17:00:00  2017-01-02 17:30:00  2017-01-02 18:00:00  \\\n",
       "0                     NaN                  NaN                  NaN   \n",
       "1                     NaN                  NaN                  NaN   \n",
       "2                     NaN                  NaN                  NaN   \n",
       "3                     NaN                  NaN                  NaN   \n",
       "4                     NaN                  NaN                  NaN   \n",
       "...                   ...                  ...                  ...   \n",
       "3243                0.010                0.011                0.012   \n",
       "3244                0.839                1.248                1.247   \n",
       "3245                0.088                0.086                0.084   \n",
       "3246                0.349                0.236                0.254   \n",
       "3247                0.025                0.024                0.038   \n",
       "\n",
       "      2017-01-02 18:30:00  2017-01-02 19:00:00  2017-01-02 19:30:00  \\\n",
       "0                     NaN                  NaN                  NaN   \n",
       "1                     NaN                  NaN                  NaN   \n",
       "2                     NaN                  NaN                  NaN   \n",
       "3                     NaN                  NaN                  NaN   \n",
       "4                     NaN                  NaN                  NaN   \n",
       "...                   ...                  ...                  ...   \n",
       "3243                0.011                0.011                0.012   \n",
       "3244                1.254                1.255                1.236   \n",
       "3245                0.088                0.275                0.256   \n",
       "3246                0.273                0.659                0.671   \n",
       "3247                0.039                0.024                0.027   \n",
       "\n",
       "      2017-01-02 20:00:00  2017-01-02 20:30:00  2017-01-02 21:00:00  \\\n",
       "0                     NaN                  NaN                  NaN   \n",
       "1                     NaN                  NaN                  NaN   \n",
       "2                     NaN                  NaN                  NaN   \n",
       "3                     NaN                  NaN                  NaN   \n",
       "4                     NaN                  NaN                  NaN   \n",
       "...                   ...                  ...                  ...   \n",
       "3243                0.011                0.011                0.011   \n",
       "3244                1.241                1.242                1.238   \n",
       "3245                0.221                0.405                0.262   \n",
       "3246                0.663                0.722                0.673   \n",
       "3247                0.024                0.025                0.041   \n",
       "\n",
       "      2017-01-02 21:30:00  2017-01-02 22:00:00  2017-01-02 22:30:00  \\\n",
       "0                     NaN                  NaN                  NaN   \n",
       "1                     NaN                  NaN                  NaN   \n",
       "2                     NaN                  NaN                  NaN   \n",
       "3                     NaN                  NaN                  NaN   \n",
       "4                     NaN                  NaN                  NaN   \n",
       "...                   ...                  ...                  ...   \n",
       "3243                0.011                0.011                0.012   \n",
       "3244                1.237                0.499                0.009   \n",
       "3245                0.211                0.228                0.225   \n",
       "3246                0.660                0.660                0.545   \n",
       "3247                0.028                0.026                0.027   \n",
       "\n",
       "      2017-01-02 23:00:00  2017-01-02 23:30:00  2017-01-03 00:00:00  \\\n",
       "0                     NaN                  NaN                  NaN   \n",
       "1                     NaN                  NaN                  NaN   \n",
       "2                     NaN                  NaN                  NaN   \n",
       "3                     NaN                  NaN                  NaN   \n",
       "4                     NaN                  NaN                  NaN   \n",
       "...                   ...                  ...                  ...   \n",
       "3243                0.011                0.011                0.011   \n",
       "3244                0.021                0.008                0.018   \n",
       "3245                0.265                0.086                0.099   \n",
       "3246                0.197                0.178                0.180   \n",
       "3247                0.022                0.047                0.027   \n",
       "\n",
       "      2017-01-03 00:30:00  2017-01-03 01:00:00  2017-01-03 01:30:00  \\\n",
       "0                     NaN                  NaN                  NaN   \n",
       "1                     NaN                  NaN                  NaN   \n",
       "2                     NaN                  NaN                  NaN   \n",
       "3                     NaN                  NaN                  NaN   \n",
       "4                     NaN                  NaN                  NaN   \n",
       "...                   ...                  ...                  ...   \n",
       "3243                1.077                0.175                0.014   \n",
       "3244                1.507                0.123                0.207   \n",
       "3245                0.063                0.049                0.038   \n",
       "3246                2.967                2.417                1.478   \n",
       "3247                2.309                1.290                1.531   \n",
       "\n",
       "      2017-01-03 02:00:00  2017-01-03 02:30:00  2017-01-03 03:00:00  \\\n",
       "0                     NaN                  NaN                  NaN   \n",
       "1                     NaN                  NaN                  NaN   \n",
       "2                     NaN                  NaN                  NaN   \n",
       "3                     NaN                  NaN                  NaN   \n",
       "4                     NaN                  NaN                  NaN   \n",
       "...                   ...                  ...                  ...   \n",
       "3243                0.208                0.014                0.014   \n",
       "3244                0.234                0.016                0.070   \n",
       "3245                0.047                0.051                0.046   \n",
       "3246                1.702                1.364                1.370   \n",
       "3247                1.294                1.375                1.300   \n",
       "\n",
       "      2017-01-03 03:30:00  2017-01-03 04:00:00  2017-01-03 04:30:00  \\\n",
       "0                     NaN                  NaN                  NaN   \n",
       "1                     NaN                  NaN                  NaN   \n",
       "2                     NaN                  NaN                  NaN   \n",
       "3                     NaN                  NaN                  NaN   \n",
       "4                     NaN                  NaN                  NaN   \n",
       "...                   ...                  ...                  ...   \n",
       "3243                0.231                0.014                0.014   \n",
       "3244                0.168                0.024                0.012   \n",
       "3245                0.037                0.047                0.048   \n",
       "3246                1.573                1.371                1.362   \n",
       "3247                1.405                1.304                1.309   \n",
       "\n",
       "      2017-01-03 05:00:00  2017-01-03 05:30:00  2017-01-03 06:00:00  \\\n",
       "0                     NaN                  NaN                  NaN   \n",
       "1                     NaN                  NaN                  NaN   \n",
       "2                     NaN                  NaN                  NaN   \n",
       "3                     NaN                  NaN                  NaN   \n",
       "4                     NaN                  NaN                  NaN   \n",
       "...                   ...                  ...                  ...   \n",
       "3243                0.014                0.158                0.014   \n",
       "3244                0.177                0.024                0.012   \n",
       "3245                0.042                0.033                0.048   \n",
       "3246                1.353                1.352                1.188   \n",
       "3247                1.177                0.030                0.032   \n",
       "\n",
       "      2017-01-03 06:30:00  2017-01-03 07:00:00  2017-01-03 07:30:00  \\\n",
       "0                     NaN                  NaN                  NaN   \n",
       "1                     NaN                  NaN                  NaN   \n",
       "2                     NaN                  NaN                  NaN   \n",
       "3                     NaN                  NaN                  NaN   \n",
       "4                     NaN                  NaN                  NaN   \n",
       "...                   ...                  ...                  ...   \n",
       "3243                0.015                0.014                0.011   \n",
       "3244                0.347                0.444                0.025   \n",
       "3245                0.075                0.187                0.128   \n",
       "3246                0.038                0.035                0.152   \n",
       "3247                0.137                0.025                0.027   \n",
       "\n",
       "      2017-01-03 08:00:00  2017-01-03 08:30:00  2017-01-03 09:00:00  \\\n",
       "0                     NaN                  NaN                  NaN   \n",
       "1                     NaN                  NaN                  NaN   \n",
       "2                     NaN                  NaN                  NaN   \n",
       "3                     NaN                  NaN                  NaN   \n",
       "4                     NaN                  NaN                  NaN   \n",
       "...                   ...                  ...                  ...   \n",
       "3243                0.011                0.010                0.011   \n",
       "3244                0.035                0.024                0.898   \n",
       "3245                0.059                0.057                0.112   \n",
       "3246                0.097                0.149                0.567   \n",
       "3247                0.033                0.031                0.027   \n",
       "\n",
       "      2017-01-03 09:30:00  2017-01-03 10:00:00  2017-01-03 10:30:00  \\\n",
       "0                     NaN                  NaN                  NaN   \n",
       "1                     NaN                  NaN                  NaN   \n",
       "2                     NaN                  NaN                  NaN   \n",
       "3                     NaN                  NaN                  NaN   \n",
       "4                     NaN                  NaN                  NaN   \n",
       "...                   ...                  ...                  ...   \n",
       "3243                0.011                0.011                0.010   \n",
       "3244                1.242                0.756                0.210   \n",
       "3245                0.075                0.107                0.090   \n",
       "3246                0.220                0.097                0.180   \n",
       "3247                0.023                0.033                0.036   \n",
       "\n",
       "      2017-01-03 11:00:00  2017-01-03 11:30:00  2017-01-03 12:00:00  \\\n",
       "0                     NaN                  NaN                  NaN   \n",
       "1                     NaN                  NaN                  NaN   \n",
       "2                     NaN                  NaN                  NaN   \n",
       "3                     NaN                  NaN                  NaN   \n",
       "4                     NaN                  NaN                  NaN   \n",
       "...                   ...                  ...                  ...   \n",
       "3243                0.011                0.011                0.011   \n",
       "3244                0.029                0.009                0.024   \n",
       "3245                0.091                0.086                0.206   \n",
       "3246                0.104                0.106                0.123   \n",
       "3247                0.022                0.027                0.027   \n",
       "\n",
       "      2017-01-03 12:30:00  2017-01-03 13:00:00  2017-01-03 13:30:00  \\\n",
       "0                     NaN                  NaN                  NaN   \n",
       "1                     NaN                  NaN                  NaN   \n",
       "2                     NaN                  NaN                  NaN   \n",
       "3                     NaN                  NaN                  NaN   \n",
       "4                     NaN                  NaN                  NaN   \n",
       "...                   ...                  ...                  ...   \n",
       "3243                0.010                0.011                0.011   \n",
       "3244                0.009                0.018                0.013   \n",
       "3245                0.149                0.255                0.228   \n",
       "3246                0.118                0.117                0.134   \n",
       "3247                0.038                0.027                0.023   \n",
       "\n",
       "      2017-01-03 14:00:00  2017-01-03 14:30:00  2017-01-03 15:00:00  \\\n",
       "0                     NaN                  NaN                  NaN   \n",
       "1                     NaN                  NaN                  NaN   \n",
       "2                     NaN                  NaN                  NaN   \n",
       "3                     NaN                  NaN                  NaN   \n",
       "4                     NaN                  NaN                  NaN   \n",
       "...                   ...                  ...                  ...   \n",
       "3243                0.011                0.012                0.011   \n",
       "3244                0.009                0.021                0.009   \n",
       "3245                0.129                0.121                0.268   \n",
       "3246                0.134                0.132                0.140   \n",
       "3247                0.035                0.032                0.026   \n",
       "\n",
       "      2017-01-03 15:30:00  2017-01-03 16:00:00  2017-01-03 16:30:00  \\\n",
       "0                     NaN                  NaN                  NaN   \n",
       "1                     NaN                  NaN                  NaN   \n",
       "2                     NaN                  NaN                  NaN   \n",
       "3                     NaN                  NaN                  NaN   \n",
       "4                     NaN                  NaN                  NaN   \n",
       "...                   ...                  ...                  ...   \n",
       "3243                0.011                0.011                0.011   \n",
       "3244                0.011                0.019                0.012   \n",
       "3245                0.069                0.142                0.311   \n",
       "3246                0.147                0.294                0.220   \n",
       "3247                0.026                0.030                0.034   \n",
       "\n",
       "      2017-01-03 17:00:00  2017-01-03 17:30:00  2017-01-03 18:00:00  \\\n",
       "0                     NaN                  NaN                  NaN   \n",
       "1                     NaN                  NaN                  NaN   \n",
       "2                     NaN                  NaN                  NaN   \n",
       "3                     NaN                  NaN                  NaN   \n",
       "4                     NaN                  NaN                  NaN   \n",
       "...                   ...                  ...                  ...   \n",
       "3243                0.011                0.012                0.011   \n",
       "3244                0.037                0.023                0.024   \n",
       "3245                0.162                0.059                0.048   \n",
       "3246                0.238                0.231                0.230   \n",
       "3247                0.024                0.025                0.044   \n",
       "\n",
       "      2017-01-03 18:30:00  2017-01-03 19:00:00  2017-01-03 19:30:00  \\\n",
       "0                     NaN                  NaN                  NaN   \n",
       "1                     NaN                  NaN                  NaN   \n",
       "2                     NaN                  NaN                  NaN   \n",
       "3                     NaN                  NaN                  NaN   \n",
       "4                     NaN                  NaN                  NaN   \n",
       "...                   ...                  ...                  ...   \n",
       "3243                0.011                0.012                0.011   \n",
       "3244                0.038                0.023                0.009   \n",
       "3245                0.051                0.040                0.038   \n",
       "3246                0.252                0.181                0.178   \n",
       "3247                0.022                0.026                0.025   \n",
       "\n",
       "      2017-01-03 20:00:00  2017-01-03 20:30:00  2017-01-03 21:00:00  \\\n",
       "0                     NaN                  NaN                  NaN   \n",
       "1                     NaN                  NaN                  NaN   \n",
       "2                     NaN                  NaN                  NaN   \n",
       "3                     NaN                  NaN                  NaN   \n",
       "4                     NaN                  NaN                  NaN   \n",
       "...                   ...                  ...                  ...   \n",
       "3243                0.011                0.012                0.011   \n",
       "3244                0.025                0.009                0.013   \n",
       "3245                0.048                0.117                0.346   \n",
       "3246                0.199                0.313                0.693   \n",
       "3247                0.034                0.034                0.022   \n",
       "\n",
       "      2017-01-03 21:30:00  2017-01-03 22:00:00  2017-01-03 22:30:00  \\\n",
       "0                     NaN                  NaN                  NaN   \n",
       "1                     NaN                  NaN                  NaN   \n",
       "2                     NaN                  NaN                  NaN   \n",
       "3                     NaN                  NaN                  NaN   \n",
       "4                     NaN                  NaN                  NaN   \n",
       "...                   ...                  ...                  ...   \n",
       "3243                0.011                0.012                0.011   \n",
       "3244                0.021                0.014                0.017   \n",
       "3245                0.249                0.213                0.161   \n",
       "3246                0.682                0.669                0.459   \n",
       "3247                0.027                0.032                0.033   \n",
       "\n",
       "      2017-01-03 23:00:00  2017-01-03 23:30:00  2017-01-04 00:00:00  \\\n",
       "0                     NaN                  NaN                  NaN   \n",
       "1                     NaN                  NaN                  NaN   \n",
       "2                     NaN                  NaN                  NaN   \n",
       "3                     NaN                  NaN                  NaN   \n",
       "4                     NaN                  NaN                  NaN   \n",
       "...                   ...                  ...                  ...   \n",
       "3243                0.011                0.011                0.012   \n",
       "3244                0.013                0.009                0.021   \n",
       "3245                0.148                0.125                0.086   \n",
       "3246                0.181                0.177                0.174   \n",
       "3247                0.027                0.022                0.035   \n",
       "\n",
       "      2017-01-04 00:30:00  2017-01-04 01:00:00  2017-01-04 01:30:00  \\\n",
       "0                     NaN                  NaN                  NaN   \n",
       "1                     NaN                  NaN                  NaN   \n",
       "2                     NaN                  NaN                  NaN   \n",
       "3                     NaN                  NaN                  NaN   \n",
       "4                     NaN                  NaN                  NaN   \n",
       "...                   ...                  ...                  ...   \n",
       "3243                1.142                0.031                0.155   \n",
       "3244                1.523                1.146                0.224   \n",
       "3245                0.079                0.072                0.050   \n",
       "3246                3.016                2.692                1.479   \n",
       "3247                2.352                1.445                1.469   \n",
       "\n",
       "      2017-01-04 02:00:00  2017-01-04 02:30:00  2017-01-04 03:00:00  \\\n",
       "0                     NaN                  NaN                  NaN   \n",
       "1                     NaN                  NaN                  NaN   \n",
       "2                     NaN                  NaN                  NaN   \n",
       "3                     NaN                  NaN                  NaN   \n",
       "4                     NaN                  NaN                  NaN   \n",
       "...                   ...                  ...                  ...   \n",
       "3243                0.147                0.084                0.014   \n",
       "3244                0.248                0.012                0.158   \n",
       "3245                0.053                0.045                0.057   \n",
       "3246                1.734                1.386                1.553   \n",
       "3247                1.287                1.692                1.301   \n",
       "\n",
       "      2017-01-04 03:30:00  2017-01-04 04:00:00  2017-01-04 04:30:00  \\\n",
       "0                     NaN                  NaN                  NaN   \n",
       "1                     NaN                  NaN                  NaN   \n",
       "2                     NaN                  NaN                  NaN   \n",
       "3                     NaN                  NaN                  NaN   \n",
       "4                     NaN                  NaN                  NaN   \n",
       "...                   ...                  ...                  ...   \n",
       "3243                0.015                0.134                0.014   \n",
       "3244                0.013                0.150                0.024   \n",
       "3245                0.058                0.055                0.039   \n",
       "3246                1.372                1.382                1.363   \n",
       "3247                0.944                0.043                0.032   \n",
       "\n",
       "      2017-01-04 05:00:00  2017-01-04 05:30:00  2017-01-04 06:00:00  \\\n",
       "0                     NaN                  NaN                  NaN   \n",
       "1                     NaN                  NaN                  NaN   \n",
       "2                     NaN                  NaN                  NaN   \n",
       "3                     NaN                  NaN                  NaN   \n",
       "4                     NaN                  NaN                  NaN   \n",
       "...                   ...                  ...                  ...   \n",
       "3243                0.014                0.346                0.014   \n",
       "3244                0.015                0.158                0.025   \n",
       "3245                0.035                0.037                0.053   \n",
       "3246                1.354                1.584                0.550   \n",
       "3247                0.033                0.029                0.173   \n",
       "\n",
       "      2017-01-04 06:30:00  2017-01-04 07:00:00  2017-01-04 07:30:00  \\\n",
       "0                     NaN                  NaN                  NaN   \n",
       "1                     NaN                  NaN                  NaN   \n",
       "2                     NaN                  NaN                  NaN   \n",
       "3                     NaN                  NaN                  NaN   \n",
       "4                     NaN                  NaN                  NaN   \n",
       "...                   ...                  ...                  ...   \n",
       "3243                0.014                0.014                0.011   \n",
       "3244                0.336                0.342                0.034   \n",
       "3245                0.059                0.137                0.078   \n",
       "3246                0.035                0.048                0.139   \n",
       "3247                0.032                0.025                0.027   \n",
       "\n",
       "      2017-01-04 08:00:00  2017-01-04 08:30:00  2017-01-04 09:00:00  \\\n",
       "0                     NaN                  NaN                  NaN   \n",
       "1                     NaN                  NaN                  NaN   \n",
       "2                     NaN                  NaN                  NaN   \n",
       "3                     NaN                  NaN                  NaN   \n",
       "4                     NaN                  NaN                  NaN   \n",
       "...                   ...                  ...                  ...   \n",
       "3243                0.011                0.011                0.011   \n",
       "3244                0.090                1.242                0.680   \n",
       "3245                0.067                0.071                0.126   \n",
       "3246                0.166                0.135                0.128   \n",
       "3247                0.038                0.026                0.027   \n",
       "\n",
       "      2017-01-04 09:30:00  2017-01-04 10:00:00  2017-01-04 10:30:00  \\\n",
       "0                     NaN                  NaN                  NaN   \n",
       "1                     NaN                  NaN                  NaN   \n",
       "2                     NaN                  NaN                  NaN   \n",
       "3                     NaN                  NaN                  NaN   \n",
       "4                     NaN                  NaN                  NaN   \n",
       "...                   ...                  ...                  ...   \n",
       "3243                0.011                0.010                0.011   \n",
       "3244                0.201                0.876                1.236   \n",
       "3245                0.089                0.090                0.100   \n",
       "3246                0.098                0.109                0.095   \n",
       "3247                0.028                0.036                0.023   \n",
       "\n",
       "      2017-01-04 11:00:00  2017-01-04 11:30:00  2017-01-04 12:00:00  \\\n",
       "0                     NaN                  NaN                  NaN   \n",
       "1                     NaN                  NaN                  NaN   \n",
       "2                     NaN                  NaN                  NaN   \n",
       "3                     NaN                  NaN                  NaN   \n",
       "4                     NaN                  NaN                  NaN   \n",
       "...                   ...                  ...                  ...   \n",
       "3243                0.011                0.011                0.011   \n",
       "3244                1.043                0.285                0.008   \n",
       "3245                0.107                0.146                0.232   \n",
       "3246                0.109                0.104                0.112   \n",
       "3247                0.026                0.038                0.026   \n",
       "\n",
       "      2017-01-04 12:30:00  2017-01-04 13:00:00  2017-01-04 13:30:00  \\\n",
       "0                     NaN                  NaN                  NaN   \n",
       "1                     NaN                  NaN                  NaN   \n",
       "2                     NaN                  NaN                  NaN   \n",
       "3                     NaN                  NaN                  NaN   \n",
       "4                     NaN                  NaN                  NaN   \n",
       "...                   ...                  ...                  ...   \n",
       "3243                0.011                0.011                0.011   \n",
       "3244                0.012                0.020                0.009   \n",
       "3245                0.187                0.188                0.165   \n",
       "3246                0.127                0.118                0.125   \n",
       "3247                0.027                0.024                0.041   \n",
       "\n",
       "      2017-01-04 14:00:00  2017-01-04 14:30:00  2017-01-04 15:00:00  \\\n",
       "0                     NaN                  NaN                  NaN   \n",
       "1                     NaN                  NaN                  NaN   \n",
       "2                     NaN                  NaN                  NaN   \n",
       "3                     NaN                  NaN                  NaN   \n",
       "4                     NaN                  NaN                  NaN   \n",
       "...                   ...                  ...                  ...   \n",
       "3243                0.011                0.012                0.011   \n",
       "3244                0.020                0.010                0.009   \n",
       "3245                0.274                0.129                0.105   \n",
       "3246                0.168                0.166                0.171   \n",
       "3247                0.027                0.022                0.031   \n",
       "\n",
       "      2017-01-04 15:30:00  2017-01-04 16:00:00  2017-01-04 16:30:00  \\\n",
       "0                     NaN                  NaN                  NaN   \n",
       "1                     NaN                  NaN                  NaN   \n",
       "2                     NaN                  NaN                  NaN   \n",
       "3                     NaN                  NaN                  NaN   \n",
       "4                     NaN                  NaN                  NaN   \n",
       "...                   ...                  ...                  ...   \n",
       "3243                0.011                0.011                0.011   \n",
       "3244                0.029                0.009                1.050   \n",
       "3245                0.173                0.826                0.335   \n",
       "3246                0.154                0.157                0.236   \n",
       "3247                0.035                0.025                0.027   \n",
       "\n",
       "      2017-01-04 17:00:00  2017-01-04 17:30:00  2017-01-04 18:00:00  \\\n",
       "0                     NaN                  NaN                  NaN   \n",
       "1                     NaN                  NaN                  NaN   \n",
       "2                     NaN                  NaN                  NaN   \n",
       "3                     NaN                  NaN                  NaN   \n",
       "4                     NaN                  NaN                  NaN   \n",
       "...                   ...                  ...                  ...   \n",
       "3243                0.011                0.011                0.011   \n",
       "3244                1.253                1.259                1.277   \n",
       "3245                0.251                0.137                0.120   \n",
       "3246                0.239                0.233                0.258   \n",
       "3247                0.035                0.029                0.026   \n",
       "\n",
       "      2017-01-04 18:30:00  2017-01-04 19:00:00  2017-01-04 19:30:00  \\\n",
       "0                     NaN                  NaN                  NaN   \n",
       "1                     NaN                  NaN                  NaN   \n",
       "2                     NaN                  NaN                  NaN   \n",
       "3                     NaN                  NaN                  NaN   \n",
       "4                     NaN                  NaN                  NaN   \n",
       "...                   ...                  ...                  ...   \n",
       "3243                0.012                0.011                0.011   \n",
       "3244                1.268                0.575                0.018   \n",
       "3245                0.114                0.104                0.147   \n",
       "3246                0.242                0.675                0.685   \n",
       "3247                0.023                0.042                0.023   \n",
       "\n",
       "      2017-01-04 20:00:00  2017-01-04 20:30:00  2017-01-04 21:00:00  \\\n",
       "0                     NaN                  NaN                  NaN   \n",
       "1                     NaN                  NaN                  NaN   \n",
       "2                     NaN                  NaN                  NaN   \n",
       "3                     NaN                  NaN                  NaN   \n",
       "4                     NaN                  NaN                  NaN   \n",
       "...                   ...                  ...                  ...   \n",
       "3243                0.012                0.011                0.011   \n",
       "3244                0.009                0.021                0.009   \n",
       "3245                0.179                0.153                0.119   \n",
       "3246                0.670                0.765                0.687   \n",
       "3247                0.026                0.032                0.031   \n",
       "\n",
       "      2017-01-04 21:30:00  2017-01-04 22:00:00  2017-01-04 22:30:00  \\\n",
       "0                     NaN                  NaN                  NaN   \n",
       "1                     NaN                  NaN                  NaN   \n",
       "2                     NaN                  NaN                  NaN   \n",
       "3                     NaN                  NaN                  NaN   \n",
       "4                     NaN                  NaN                  NaN   \n",
       "...                   ...                  ...                  ...   \n",
       "3243                0.012                0.011                0.011   \n",
       "3244                0.021                0.009                0.009   \n",
       "3245                0.134                0.425                0.126   \n",
       "3246                0.421                0.725                0.695   \n",
       "3247                0.027                0.024                0.040   \n",
       "\n",
       "      2017-01-04 23:00:00  2017-01-04 23:30:00  2017-01-05 00:00:00  \\\n",
       "0                     NaN                  NaN                  NaN   \n",
       "1                     NaN                  NaN                  NaN   \n",
       "2                     NaN                  NaN                  NaN   \n",
       "3                     NaN                  NaN                  NaN   \n",
       "4                     NaN                  NaN                  NaN   \n",
       "...                   ...                  ...                  ...   \n",
       "3243                0.011                0.011                0.012   \n",
       "3244                0.023                0.009                0.018   \n",
       "3245                0.198                0.178                0.216   \n",
       "3246                0.416                0.179                0.179   \n",
       "3247                0.027                0.022                0.028   \n",
       "\n",
       "      2017-01-05 00:30:00  2017-01-05 01:00:00  2017-01-05 01:30:00  \\\n",
       "0                     NaN                  NaN                  NaN   \n",
       "1                     NaN                  NaN                  NaN   \n",
       "2                     NaN                  NaN                  NaN   \n",
       "3                     NaN                  NaN                  NaN   \n",
       "4                     NaN                  NaN                  NaN   \n",
       "...                   ...                  ...                  ...   \n",
       "3243                1.041                0.014                0.221   \n",
       "3244                1.521                0.105                0.282   \n",
       "3245                0.194                0.283                0.186   \n",
       "3246                3.030                2.621                1.483   \n",
       "3247                2.103                1.755                1.313   \n",
       "\n",
       "      2017-01-05 02:00:00  2017-01-05 02:30:00  2017-01-05 03:00:00  \\\n",
       "0                     NaN                  NaN                  NaN   \n",
       "1                     NaN                  NaN                  NaN   \n",
       "2                     NaN                  NaN                  NaN   \n",
       "3                     NaN                  NaN                  NaN   \n",
       "4                     NaN                  NaN                  NaN   \n",
       "...                   ...                  ...                  ...   \n",
       "3243                0.014                0.145                0.014   \n",
       "3244                0.178                0.017                0.045   \n",
       "3245                0.110                0.064                0.049   \n",
       "3246                1.727                1.387                1.597   \n",
       "3247                1.318                1.458                1.321   \n",
       "\n",
       "      2017-01-05 03:30:00  2017-01-05 04:00:00  2017-01-05 04:30:00  \\\n",
       "0                     NaN                  NaN                  NaN   \n",
       "1                     NaN                  NaN                  NaN   \n",
       "2                     NaN                  NaN                  NaN   \n",
       "3                     NaN                  NaN                  NaN   \n",
       "4                     NaN                  NaN                  NaN   \n",
       "...                   ...                  ...                  ...   \n",
       "3243                0.015                0.160                0.014   \n",
       "3244                0.183                0.024                0.184   \n",
       "3245                0.046                0.067                0.095   \n",
       "3246                1.357                1.368                1.354   \n",
       "3247                1.282                1.293                1.375   \n",
       "\n",
       "      2017-01-05 05:00:00  2017-01-05 05:30:00  2017-01-05 06:00:00  \\\n",
       "0                     NaN                  NaN                  NaN   \n",
       "1                     NaN                  NaN                  NaN   \n",
       "2                     NaN                  NaN                  NaN   \n",
       "3                     NaN                  NaN                  NaN   \n",
       "4                     NaN                  NaN                  NaN   \n",
       "...                   ...                  ...                  ...   \n",
       "3243                0.015                0.014                0.156   \n",
       "3244                0.012                0.023                0.190   \n",
       "3245                0.069                0.063                0.061   \n",
       "3246                1.353                1.618                0.728   \n",
       "3247                1.319                1.310                0.538   \n",
       "\n",
       "      2017-01-05 06:30:00  2017-01-05 07:00:00  2017-01-05 07:30:00  \\\n",
       "0                     NaN                  NaN                  NaN   \n",
       "1                     NaN                  NaN                  NaN   \n",
       "2                     NaN                  NaN                  NaN   \n",
       "3                     NaN                  NaN                  NaN   \n",
       "4                     NaN                  NaN                  NaN   \n",
       "...                   ...                  ...                  ...   \n",
       "3243                0.014                0.014                0.011   \n",
       "3244                0.016                0.458                0.076   \n",
       "3245                0.067                0.152                0.150   \n",
       "3246                0.043                0.077                0.189   \n",
       "3247                0.030                0.025                0.028   \n",
       "\n",
       "      2017-01-05 08:00:00  2017-01-05 08:30:00  2017-01-05 09:00:00  \\\n",
       "0                     NaN                  NaN                  NaN   \n",
       "1                     NaN                  NaN                  NaN   \n",
       "2                     NaN                  NaN                  NaN   \n",
       "3                     NaN                  NaN                  NaN   \n",
       "4                     NaN                  NaN                  NaN   \n",
       "...                   ...                  ...                  ...   \n",
       "3243                0.011                0.011                0.011   \n",
       "3244                0.041                0.023                0.169   \n",
       "3245                0.082                0.040                0.036   \n",
       "3246                0.102                0.093                0.119   \n",
       "3247                0.037                0.025                0.027   \n",
       "\n",
       "      2017-01-05 09:30:00  2017-01-05 10:00:00  2017-01-05 10:30:00  \\\n",
       "0                     NaN                  NaN                  NaN   \n",
       "1                     NaN                  NaN                  NaN   \n",
       "2                     NaN                  NaN                  NaN   \n",
       "3                     NaN                  NaN                  NaN   \n",
       "4                     NaN                  NaN                  NaN   \n",
       "...                   ...                  ...                  ...   \n",
       "3243                0.011                0.010                0.011   \n",
       "3244                1.250                1.209                0.014   \n",
       "3245                0.039                0.178                0.102   \n",
       "3246                0.088                0.099                0.096   \n",
       "3247                0.030                0.036                0.022   \n",
       "\n",
       "      2017-01-05 11:00:00  2017-01-05 11:30:00  2017-01-05 12:00:00  \\\n",
       "0                     NaN                  NaN                  NaN   \n",
       "1                     NaN                  NaN                  NaN   \n",
       "2                     NaN                  NaN                  NaN   \n",
       "3                     NaN                  NaN                  NaN   \n",
       "4                     NaN                  NaN                  NaN   \n",
       "...                   ...                  ...                  ...   \n",
       "3243                0.011                0.011                0.010   \n",
       "3244                0.015                0.015                0.022   \n",
       "3245                0.090                0.098                0.120   \n",
       "3246                0.147                0.116                0.111   \n",
       "3247                0.027                0.026                0.038   \n",
       "\n",
       "      2017-01-05 12:30:00  2017-01-05 13:00:00  2017-01-05 13:30:00  \\\n",
       "0                     NaN                  NaN                  NaN   \n",
       "1                     NaN                  NaN                  NaN   \n",
       "2                     NaN                  NaN                  NaN   \n",
       "3                     NaN                  NaN                  NaN   \n",
       "4                     NaN                  NaN                  NaN   \n",
       "...                   ...                  ...                  ...   \n",
       "3243                0.011                0.011                0.011   \n",
       "3244                0.009                0.009                0.956   \n",
       "3245                0.094                0.081                0.196   \n",
       "3246                0.119                0.132                0.123   \n",
       "3247                0.027                0.023                0.035   \n",
       "\n",
       "      2017-01-05 14:00:00  2017-01-05 14:30:00  2017-01-05 15:00:00  \\\n",
       "0                     NaN                  NaN                  NaN   \n",
       "1                     NaN                  NaN                  NaN   \n",
       "2                     NaN                  NaN                  NaN   \n",
       "3                     NaN                  NaN                  NaN   \n",
       "4                     NaN                  NaN                  NaN   \n",
       "...                   ...                  ...                  ...   \n",
       "3243                0.012                0.011                0.011   \n",
       "3244                1.214                1.227                1.226   \n",
       "3245                0.094                0.117                0.113   \n",
       "3246                0.197                0.224                0.212   \n",
       "3247                0.033                0.024                0.027   \n",
       "\n",
       "      2017-01-05 15:30:00  2017-01-05 16:00:00  2017-01-05 16:30:00  \\\n",
       "0                     NaN                  NaN                  NaN   \n",
       "1                     NaN                  NaN                  NaN   \n",
       "2                     NaN                  NaN                  NaN   \n",
       "3                     NaN                  NaN                  NaN   \n",
       "4                     NaN                  NaN                  NaN   \n",
       "...                   ...                  ...                  ...   \n",
       "3243                0.011                0.011                0.011   \n",
       "3244                1.227                1.245                1.218   \n",
       "3245                0.200                0.508                0.471   \n",
       "3246                0.236                0.177                0.216   \n",
       "3247                0.035                0.030                0.026   \n",
       "\n",
       "      2017-01-05 17:00:00  2017-01-05 17:30:00  2017-01-05 18:00:00  \\\n",
       "0                     NaN                  NaN                  NaN   \n",
       "1                     NaN                  NaN                  NaN   \n",
       "2                     NaN                  NaN                  NaN   \n",
       "3                     NaN                  NaN                  NaN   \n",
       "4                     NaN                  NaN                  NaN   \n",
       "...                   ...                  ...                  ...   \n",
       "3243                0.011                0.011                0.012   \n",
       "3244                1.246                1.258                0.504   \n",
       "3245                0.229                0.192                0.284   \n",
       "3246                0.248                0.255                0.247   \n",
       "3247                0.023                0.042                0.023   \n",
       "\n",
       "      2017-01-05 18:30:00  2017-01-05 19:00:00  2017-01-05 19:30:00  \\\n",
       "0                     NaN                  NaN                  NaN   \n",
       "1                     NaN                  NaN                  NaN   \n",
       "2                     NaN                  NaN                  NaN   \n",
       "3                     NaN                  NaN                  NaN   \n",
       "4                     NaN                  NaN                  NaN   \n",
       "...                   ...                  ...                  ...   \n",
       "3243                0.011                0.011                0.012   \n",
       "3244                0.015                0.017                0.013   \n",
       "3245                0.163                0.190                0.173   \n",
       "3246                0.559                0.673                0.671   \n",
       "3247                0.026                0.027                0.040   \n",
       "\n",
       "      2017-01-05 20:00:00  2017-01-05 20:30:00  2017-01-05 21:00:00  \\\n",
       "0                     NaN                  NaN                  NaN   \n",
       "1                     NaN                  NaN                  NaN   \n",
       "2                     NaN                  NaN                  NaN   \n",
       "3                     NaN                  NaN                  NaN   \n",
       "4                     NaN                  NaN                  NaN   \n",
       "...                   ...                  ...                  ...   \n",
       "3243                0.011                0.011                0.012   \n",
       "3244                0.011                0.022                0.009   \n",
       "3245                0.182                0.126                0.196   \n",
       "3246                0.699                0.705                0.673   \n",
       "3247                0.027                0.025                0.025   \n",
       "\n",
       "      2017-01-05 21:30:00  2017-01-05 22:00:00  2017-01-05 22:30:00  \\\n",
       "0                     NaN                  NaN                  NaN   \n",
       "1                     NaN                  NaN                  NaN   \n",
       "2                     NaN                  NaN                  NaN   \n",
       "3                     NaN                  NaN                  NaN   \n",
       "4                     NaN                  NaN                  NaN   \n",
       "...                   ...                  ...                  ...   \n",
       "3243                0.011                0.011                0.011   \n",
       "3244                0.021                0.014                0.024   \n",
       "3245                0.417                0.398                0.097   \n",
       "3246                0.687                0.670                0.388   \n",
       "3247                0.040                0.026                0.027   \n",
       "\n",
       "      2017-01-05 23:00:00  2017-01-05 23:30:00  2017-01-06 00:00:00  \\\n",
       "0                     NaN                  NaN                  NaN   \n",
       "1                     NaN                  NaN                  NaN   \n",
       "2                     NaN                  NaN                  NaN   \n",
       "3                     NaN                  NaN                  NaN   \n",
       "4                     NaN                  NaN                  NaN   \n",
       "...                   ...                  ...                  ...   \n",
       "3243                0.012                0.011                0.011   \n",
       "3244                0.009                0.019                0.015   \n",
       "3245                0.084                0.098                0.088   \n",
       "3246                0.181                0.174                0.180   \n",
       "3247                0.025                0.031                0.038   \n",
       "\n",
       "      2017-01-06 00:30:00  2017-01-06 01:00:00  2017-01-06 01:30:00  \\\n",
       "0                     NaN                  NaN                  NaN   \n",
       "1                     NaN                  NaN                  NaN   \n",
       "2                     NaN                  NaN                  NaN   \n",
       "3                     NaN                  NaN                  NaN   \n",
       "4                     NaN                  NaN                  NaN   \n",
       "...                   ...                  ...                  ...   \n",
       "3243                1.140                0.167                0.082   \n",
       "3244                1.534                0.160                0.240   \n",
       "3245                0.142                0.074                0.059   \n",
       "3246                3.013                2.586                1.472   \n",
       "3247                2.239                1.598                1.305   \n",
       "\n",
       "      2017-01-06 02:00:00  2017-01-06 02:30:00  2017-01-06 03:00:00  \\\n",
       "0                     NaN                  NaN                  NaN   \n",
       "1                     NaN                  NaN                  NaN   \n",
       "2                     NaN                  NaN                  NaN   \n",
       "3                     NaN                  NaN                  NaN   \n",
       "4                     NaN                  NaN                  NaN   \n",
       "...                   ...                  ...                  ...   \n",
       "3243                0.015                0.156                0.014   \n",
       "3244                0.185                0.012                0.154   \n",
       "3245                0.040                0.043                0.045   \n",
       "3246                1.727                1.363                1.588   \n",
       "3247                1.321                1.425                1.290   \n",
       "\n",
       "      2017-01-06 03:30:00  2017-01-06 04:00:00  ...  2017-12-26 19:00:00  \\\n",
       "0                     NaN                  NaN  ...                0.078   \n",
       "1                     NaN                  NaN  ...                0.293   \n",
       "2                     NaN                  NaN  ...                0.125   \n",
       "3                     NaN                  NaN  ...                0.228   \n",
       "4                     NaN                  NaN  ...                0.006   \n",
       "...                   ...                  ...  ...                  ...   \n",
       "3243                0.154                0.014  ...                0.185   \n",
       "3244                0.018                0.014  ...                0.018   \n",
       "3245                0.039                0.030  ...                0.145   \n",
       "3246                1.384                1.377  ...                0.145   \n",
       "3247                1.337                1.394  ...                0.201   \n",
       "\n",
       "      2017-12-26 19:30:00  2017-12-26 20:00:00  2017-12-26 20:30:00  \\\n",
       "0                   0.054                0.051                0.041   \n",
       "1                   0.530                0.704                0.754   \n",
       "2                   0.149                0.236                0.092   \n",
       "3                   0.152                0.059                0.068   \n",
       "4                   0.024                0.032                0.006   \n",
       "...                   ...                  ...                  ...   \n",
       "3243                0.176                0.186                0.203   \n",
       "3244                0.041                0.017                0.019   \n",
       "3245                0.201                1.264                0.143   \n",
       "3246                0.151                0.162                0.153   \n",
       "3247                0.195                0.205                0.209   \n",
       "\n",
       "      2017-12-26 21:00:00  2017-12-26 21:30:00  2017-12-26 22:00:00  \\\n",
       "0                   0.103                0.122                0.090   \n",
       "1                   1.018                0.448                0.094   \n",
       "2                   0.057                0.006                0.031   \n",
       "3                   0.092                0.037                0.084   \n",
       "4                   0.044                1.821                1.602   \n",
       "...                   ...                  ...                  ...   \n",
       "3243                0.189                0.182                0.179   \n",
       "3244                0.009                0.023                0.030   \n",
       "3245                0.266                0.143                0.216   \n",
       "3246                0.171                0.157                0.160   \n",
       "3247                0.204                0.194                0.243   \n",
       "\n",
       "      2017-12-26 22:30:00  2017-12-26 23:00:00  2017-12-26 23:30:00  \\\n",
       "0                   0.061                0.030                0.032   \n",
       "1                   0.208                0.156                0.087   \n",
       "2                   0.013                0.028                0.015   \n",
       "3                   0.057                0.024                0.039   \n",
       "4                   1.596                1.550                0.793   \n",
       "...                   ...                  ...                  ...   \n",
       "3243                0.199                0.198                0.183   \n",
       "3244                0.011                0.009                0.009   \n",
       "3245                0.255                0.093                0.074   \n",
       "3246                0.173                0.162                0.171   \n",
       "3247                0.227                0.222                0.207   \n",
       "\n",
       "      2017-12-27 00:00:00  2017-12-27 00:30:00  2017-12-27 01:00:00  \\\n",
       "0                     NaN                  NaN                  NaN   \n",
       "1                     NaN                  NaN                  NaN   \n",
       "2                     NaN                  NaN                  NaN   \n",
       "3                     NaN                  NaN                  NaN   \n",
       "4                     NaN                  NaN                  NaN   \n",
       "...                   ...                  ...                  ...   \n",
       "3243                  NaN                  NaN                  NaN   \n",
       "3244                  NaN                  NaN                  NaN   \n",
       "3245                  NaN                  NaN                  NaN   \n",
       "3246                  NaN                  NaN                  NaN   \n",
       "3247                  NaN                  NaN                  NaN   \n",
       "\n",
       "      2017-12-27 01:30:00  2017-12-27 02:00:00  2017-12-27 02:30:00  \\\n",
       "0                     NaN                  NaN                  NaN   \n",
       "1                     NaN                  NaN                  NaN   \n",
       "2                     NaN                  NaN                  NaN   \n",
       "3                     NaN                  NaN                  NaN   \n",
       "4                     NaN                  NaN                  NaN   \n",
       "...                   ...                  ...                  ...   \n",
       "3243                  NaN                  NaN                  NaN   \n",
       "3244                  NaN                  NaN                  NaN   \n",
       "3245                  NaN                  NaN                  NaN   \n",
       "3246                  NaN                  NaN                  NaN   \n",
       "3247                  NaN                  NaN                  NaN   \n",
       "\n",
       "      2017-12-27 03:00:00  2017-12-27 03:30:00  2017-12-27 04:00:00  \\\n",
       "0                     NaN                  NaN                  NaN   \n",
       "1                     NaN                  NaN                  NaN   \n",
       "2                     NaN                  NaN                  NaN   \n",
       "3                     NaN                  NaN                  NaN   \n",
       "4                     NaN                  NaN                  NaN   \n",
       "...                   ...                  ...                  ...   \n",
       "3243                  NaN                  NaN                  NaN   \n",
       "3244                  NaN                  NaN                  NaN   \n",
       "3245                  NaN                  NaN                  NaN   \n",
       "3246                  NaN                  NaN                  NaN   \n",
       "3247                  NaN                  NaN                  NaN   \n",
       "\n",
       "      2017-12-27 04:30:00  2017-12-27 05:00:00  2017-12-27 05:30:00  \\\n",
       "0                     NaN                  NaN                  NaN   \n",
       "1                     NaN                  NaN                  NaN   \n",
       "2                     NaN                  NaN                  NaN   \n",
       "3                     NaN                  NaN                  NaN   \n",
       "4                     NaN                  NaN                  NaN   \n",
       "...                   ...                  ...                  ...   \n",
       "3243                  NaN                  NaN                  NaN   \n",
       "3244                  NaN                  NaN                  NaN   \n",
       "3245                  NaN                  NaN                  NaN   \n",
       "3246                  NaN                  NaN                  NaN   \n",
       "3247                  NaN                  NaN                  NaN   \n",
       "\n",
       "      2017-12-27 06:00:00  2017-12-27 06:30:00  2017-12-27 07:00:00  \\\n",
       "0                     NaN                  NaN                  NaN   \n",
       "1                     NaN                  NaN                  NaN   \n",
       "2                     NaN                  NaN                  NaN   \n",
       "3                     NaN                  NaN                  NaN   \n",
       "4                     NaN                  NaN                  NaN   \n",
       "...                   ...                  ...                  ...   \n",
       "3243                  NaN                  NaN                  NaN   \n",
       "3244                  NaN                  NaN                  NaN   \n",
       "3245                  NaN                  NaN                  NaN   \n",
       "3246                  NaN                  NaN                  NaN   \n",
       "3247                  NaN                  NaN                  NaN   \n",
       "\n",
       "      2017-12-27 07:30:00  2017-12-27 08:00:00  2017-12-27 08:30:00  \\\n",
       "0                     NaN                  NaN                  NaN   \n",
       "1                     NaN                  NaN                  NaN   \n",
       "2                     NaN                  NaN                  NaN   \n",
       "3                     NaN                  NaN                  NaN   \n",
       "4                     NaN                  NaN                  NaN   \n",
       "...                   ...                  ...                  ...   \n",
       "3243                  NaN                  NaN                  NaN   \n",
       "3244                  NaN                  NaN                  NaN   \n",
       "3245                  NaN                  NaN                  NaN   \n",
       "3246                  NaN                  NaN                  NaN   \n",
       "3247                  NaN                  NaN                  NaN   \n",
       "\n",
       "      2017-12-27 09:00:00  2017-12-27 09:30:00  2017-12-27 10:00:00  \\\n",
       "0                     NaN                  NaN                  NaN   \n",
       "1                     NaN                  NaN                  NaN   \n",
       "2                     NaN                  NaN                  NaN   \n",
       "3                     NaN                  NaN                  NaN   \n",
       "4                     NaN                  NaN                  NaN   \n",
       "...                   ...                  ...                  ...   \n",
       "3243                  NaN                  NaN                  NaN   \n",
       "3244                  NaN                  NaN                  NaN   \n",
       "3245                  NaN                  NaN                  NaN   \n",
       "3246                  NaN                  NaN                  NaN   \n",
       "3247                  NaN                  NaN                  NaN   \n",
       "\n",
       "      2017-12-27 10:30:00  2017-12-27 11:00:00  2017-12-27 11:30:00  \\\n",
       "0                     NaN                  NaN                  NaN   \n",
       "1                     NaN                  NaN                  NaN   \n",
       "2                     NaN                  NaN                  NaN   \n",
       "3                     NaN                  NaN                  NaN   \n",
       "4                     NaN                  NaN                  NaN   \n",
       "...                   ...                  ...                  ...   \n",
       "3243                  NaN                  NaN                  NaN   \n",
       "3244                  NaN                  NaN                  NaN   \n",
       "3245                  NaN                  NaN                  NaN   \n",
       "3246                  NaN                  NaN                  NaN   \n",
       "3247                  NaN                  NaN                  NaN   \n",
       "\n",
       "      2017-12-27 12:00:00  2017-12-27 12:30:00  2017-12-27 13:00:00  \\\n",
       "0                     NaN                  NaN                  NaN   \n",
       "1                     NaN                  NaN                  NaN   \n",
       "2                     NaN                  NaN                  NaN   \n",
       "3                     NaN                  NaN                  NaN   \n",
       "4                     NaN                  NaN                  NaN   \n",
       "...                   ...                  ...                  ...   \n",
       "3243                  NaN                  NaN                  NaN   \n",
       "3244                  NaN                  NaN                  NaN   \n",
       "3245                  NaN                  NaN                  NaN   \n",
       "3246                  NaN                  NaN                  NaN   \n",
       "3247                  NaN                  NaN                  NaN   \n",
       "\n",
       "      2017-12-27 13:30:00  2017-12-27 14:00:00  2017-12-27 14:30:00  \\\n",
       "0                     NaN                  NaN                  NaN   \n",
       "1                     NaN                  NaN                  NaN   \n",
       "2                     NaN                  NaN                  NaN   \n",
       "3                     NaN                  NaN                  NaN   \n",
       "4                     NaN                  NaN                  NaN   \n",
       "...                   ...                  ...                  ...   \n",
       "3243                  NaN                  NaN                  NaN   \n",
       "3244                  NaN                  NaN                  NaN   \n",
       "3245                  NaN                  NaN                  NaN   \n",
       "3246                  NaN                  NaN                  NaN   \n",
       "3247                  NaN                  NaN                  NaN   \n",
       "\n",
       "      2017-12-27 15:00:00  2017-12-27 15:30:00  2017-12-27 16:00:00  \\\n",
       "0                     NaN                  NaN                  NaN   \n",
       "1                     NaN                  NaN                  NaN   \n",
       "2                     NaN                  NaN                  NaN   \n",
       "3                     NaN                  NaN                  NaN   \n",
       "4                     NaN                  NaN                  NaN   \n",
       "...                   ...                  ...                  ...   \n",
       "3243                  NaN                  NaN                  NaN   \n",
       "3244                  NaN                  NaN                  NaN   \n",
       "3245                  NaN                  NaN                  NaN   \n",
       "3246                  NaN                  NaN                  NaN   \n",
       "3247                  NaN                  NaN                  NaN   \n",
       "\n",
       "      2017-12-27 16:30:00  2017-12-27 17:00:00  2017-12-27 17:30:00  \\\n",
       "0                     NaN                  NaN                  NaN   \n",
       "1                     NaN                  NaN                  NaN   \n",
       "2                     NaN                  NaN                  NaN   \n",
       "3                     NaN                  NaN                  NaN   \n",
       "4                     NaN                  NaN                  NaN   \n",
       "...                   ...                  ...                  ...   \n",
       "3243                  NaN                  NaN                  NaN   \n",
       "3244                  NaN                  NaN                  NaN   \n",
       "3245                  NaN                  NaN                  NaN   \n",
       "3246                  NaN                  NaN                  NaN   \n",
       "3247                  NaN                  NaN                  NaN   \n",
       "\n",
       "      2017-12-27 18:00:00  2017-12-27 18:30:00  2017-12-27 19:00:00  \\\n",
       "0                     NaN                  NaN                  NaN   \n",
       "1                     NaN                  NaN                  NaN   \n",
       "2                     NaN                  NaN                  NaN   \n",
       "3                     NaN                  NaN                  NaN   \n",
       "4                     NaN                  NaN                  NaN   \n",
       "...                   ...                  ...                  ...   \n",
       "3243                  NaN                  NaN                  NaN   \n",
       "3244                  NaN                  NaN                  NaN   \n",
       "3245                  NaN                  NaN                  NaN   \n",
       "3246                  NaN                  NaN                  NaN   \n",
       "3247                  NaN                  NaN                  NaN   \n",
       "\n",
       "      2017-12-27 19:30:00  2017-12-27 20:00:00  2017-12-27 20:30:00  \\\n",
       "0                     NaN                  NaN                  NaN   \n",
       "1                     NaN                  NaN                  NaN   \n",
       "2                     NaN                  NaN                  NaN   \n",
       "3                     NaN                  NaN                  NaN   \n",
       "4                     NaN                  NaN                  NaN   \n",
       "...                   ...                  ...                  ...   \n",
       "3243                  NaN                  NaN                  NaN   \n",
       "3244                  NaN                  NaN                  NaN   \n",
       "3245                  NaN                  NaN                  NaN   \n",
       "3246                  NaN                  NaN                  NaN   \n",
       "3247                  NaN                  NaN                  NaN   \n",
       "\n",
       "      2017-12-27 21:00:00  2017-12-27 21:30:00  2017-12-27 22:00:00  \\\n",
       "0                     NaN                  NaN                  NaN   \n",
       "1                     NaN                  NaN                  NaN   \n",
       "2                     NaN                  NaN                  NaN   \n",
       "3                     NaN                  NaN                  NaN   \n",
       "4                     NaN                  NaN                  NaN   \n",
       "...                   ...                  ...                  ...   \n",
       "3243                  NaN                  NaN                  NaN   \n",
       "3244                  NaN                  NaN                  NaN   \n",
       "3245                  NaN                  NaN                  NaN   \n",
       "3246                  NaN                  NaN                  NaN   \n",
       "3247                  NaN                  NaN                  NaN   \n",
       "\n",
       "      2017-12-27 22:30:00  2017-12-27 23:00:00  2017-12-27 23:30:00  \\\n",
       "0                     NaN                  NaN                  NaN   \n",
       "1                     NaN                  NaN                  NaN   \n",
       "2                     NaN                  NaN                  NaN   \n",
       "3                     NaN                  NaN                  NaN   \n",
       "4                     NaN                  NaN                  NaN   \n",
       "...                   ...                  ...                  ...   \n",
       "3243                  NaN                  NaN                  NaN   \n",
       "3244                  NaN                  NaN                  NaN   \n",
       "3245                  NaN                  NaN                  NaN   \n",
       "3246                  NaN                  NaN                  NaN   \n",
       "3247                  NaN                  NaN                  NaN   \n",
       "\n",
       "      2017-12-28 00:00:00  2017-12-28 00:30:00  2017-12-28 01:00:00  \\\n",
       "0                   0.017                0.064                0.056   \n",
       "1                   0.082                0.057                0.046   \n",
       "2                   0.040                2.879                1.493   \n",
       "3                   0.166                3.053                2.390   \n",
       "4                   0.496                0.437                0.211   \n",
       "...                   ...                  ...                  ...   \n",
       "3243                0.179                1.175                0.377   \n",
       "3244                0.010                1.034                0.419   \n",
       "3245                0.080                0.075                0.051   \n",
       "3246                0.183                3.022                1.491   \n",
       "3247                0.244                2.334                1.755   \n",
       "\n",
       "      2017-12-28 01:30:00  2017-12-28 02:00:00  2017-12-28 02:30:00  \\\n",
       "0                   0.034                0.018                0.016   \n",
       "1                   0.049                0.048                0.078   \n",
       "2                   1.363                1.456                1.422   \n",
       "3                   1.674                1.598                1.406   \n",
       "4                   0.033                1.421                1.668   \n",
       "...                   ...                  ...                  ...   \n",
       "3243                0.321                0.264                0.038   \n",
       "3244                0.144                0.038                0.143   \n",
       "3245                0.049                0.046                0.029   \n",
       "3246                1.720                1.530                1.388   \n",
       "3247                1.857                1.489                1.419   \n",
       "\n",
       "      2017-12-28 03:00:00  2017-12-28 03:30:00  2017-12-28 04:00:00  \\\n",
       "0                   0.025                0.064                0.059   \n",
       "1                   0.112                0.188                0.257   \n",
       "2                   1.446                1.354                1.422   \n",
       "3                   1.476                1.427                1.394   \n",
       "4                   1.626                1.655                1.393   \n",
       "...                   ...                  ...                  ...   \n",
       "3243                0.407                0.118                0.204   \n",
       "3244                0.146                0.013                0.098   \n",
       "3245                0.052                0.046                0.105   \n",
       "3246                1.373                1.591                1.380   \n",
       "3247                1.405                1.538                1.417   \n",
       "\n",
       "      2017-12-28 04:30:00  2017-12-28 05:00:00  2017-12-28 05:30:00  \\\n",
       "0                   0.025                0.020                0.017   \n",
       "1                   0.361                0.553                0.876   \n",
       "2                   1.361                0.512                0.050   \n",
       "3                   1.358                1.462                1.451   \n",
       "4                   0.523                0.267                0.170   \n",
       "...                   ...                  ...                  ...   \n",
       "3243                0.036                0.308                0.026   \n",
       "3244                0.034                0.093                0.013   \n",
       "3245                0.060                0.067                0.048   \n",
       "3246                1.386                1.370                1.363   \n",
       "3247                1.419                0.448                0.223   \n",
       "\n",
       "      2017-12-28 06:00:00  2017-12-28 06:30:00  2017-12-28 07:00:00  \\\n",
       "0                   0.021                0.063                0.056   \n",
       "1                   1.067                0.546                0.047   \n",
       "2                   0.097                0.042                0.011   \n",
       "3                   1.420                0.098                0.134   \n",
       "4                   0.283                0.056                0.027   \n",
       "...                   ...                  ...                  ...   \n",
       "3243                0.188                0.197                0.041   \n",
       "3244                0.074                0.093                0.043   \n",
       "3245                0.050                0.065                0.088   \n",
       "3246                0.853                0.035                0.034   \n",
       "3247                0.124                0.120                0.124   \n",
       "\n",
       "      2017-12-28 07:30:00  2017-12-28 08:00:00  2017-12-28 08:30:00  \\\n",
       "0                   0.023                0.061                0.058   \n",
       "1                   0.041                1.228                0.752   \n",
       "2                   0.130                0.043                0.141   \n",
       "3                   0.018                0.025                0.072   \n",
       "4                   0.120                0.904                0.071   \n",
       "...                   ...                  ...                  ...   \n",
       "3243                0.192                0.180                0.192   \n",
       "3244                0.260                1.200                1.196   \n",
       "3245                0.053                0.046                0.045   \n",
       "3246                0.062                0.189                0.166   \n",
       "3247                0.115                0.116                0.116   \n",
       "\n",
       "      2017-12-28 09:00:00  2017-12-28 09:30:00  2017-12-28 10:00:00  \\\n",
       "0                   0.070                0.491                0.128   \n",
       "1                   0.693                0.715                0.338   \n",
       "2                   0.022                0.092                0.079   \n",
       "3                   0.104                0.054                0.016   \n",
       "4                   0.017                0.028                0.021   \n",
       "...                   ...                  ...                  ...   \n",
       "3243                0.193                0.180                0.182   \n",
       "3244                1.203                1.385                1.040   \n",
       "3245                0.036                0.043                0.047   \n",
       "3246                0.105                0.094                0.108   \n",
       "3247                0.115                0.119                0.114   \n",
       "\n",
       "      2017-12-28 10:30:00  2017-12-28 11:00:00  2017-12-28 11:30:00  \\\n",
       "0                   0.108                0.081                0.071   \n",
       "1                   0.454                0.441                0.362   \n",
       "2                   0.065                0.030                0.145   \n",
       "3                   0.037                0.031                0.013   \n",
       "4                   0.019                0.014                0.033   \n",
       "...                   ...                  ...                  ...   \n",
       "3243                0.187                0.194                0.179   \n",
       "3244                0.349                0.291                0.174   \n",
       "3245                0.043                0.064                0.149   \n",
       "3246                0.100                0.114                0.121   \n",
       "3247                0.132                0.139                0.126   \n",
       "\n",
       "      2017-12-28 12:00:00  2017-12-28 12:30:00  2017-12-28 13:00:00  \\\n",
       "0                   0.177                0.137                0.131   \n",
       "1                   0.356                0.413                0.375   \n",
       "2                   0.085                0.068                0.097   \n",
       "3                   0.057                0.017                0.156   \n",
       "4                   0.015                0.024                0.009   \n",
       "...                   ...                  ...                  ...   \n",
       "3243                0.178                0.193                0.190   \n",
       "3244                0.184                0.194                0.176   \n",
       "3245                0.118                0.108                0.200   \n",
       "3246                0.109                0.112                0.131   \n",
       "3247                0.114                0.117                0.116   \n",
       "\n",
       "      2017-12-28 13:30:00  2017-12-28 14:00:00  2017-12-28 14:30:00  \\\n",
       "0                   0.180                0.125                0.135   \n",
       "1                   0.345                0.336                0.406   \n",
       "2                   0.062                0.076                0.005   \n",
       "3                   0.036                0.013                0.097   \n",
       "4                   0.041                0.007                0.027   \n",
       "...                   ...                  ...                  ...   \n",
       "3243                0.177                0.184                0.189   \n",
       "3244                0.175                0.175                0.186   \n",
       "3245                0.158                0.111                0.117   \n",
       "3246                0.196                0.543                0.565   \n",
       "3247                0.117                0.116                0.117   \n",
       "\n",
       "      2017-12-28 15:00:00  2017-12-28 15:30:00  2017-12-28 16:00:00  \\\n",
       "0                   0.143                0.101                0.391   \n",
       "1                   0.379                0.416                0.790   \n",
       "2                   0.042                0.010                0.029   \n",
       "3                   0.076                0.096                0.578   \n",
       "4                   0.098                0.061                0.050   \n",
       "...                   ...                  ...                  ...   \n",
       "3243                0.191                0.183                0.177   \n",
       "3244                0.193                0.176                0.175   \n",
       "3245                0.119                0.413                0.290   \n",
       "3246                0.550                0.715                0.580   \n",
       "3247                0.116                0.127                0.141   \n",
       "\n",
       "      2017-12-28 16:30:00  2017-12-28 17:00:00  2017-12-28 17:30:00  \\\n",
       "0                   0.261                0.141                0.087   \n",
       "1                   1.324                1.123                1.091   \n",
       "2                   0.011                0.183                0.109   \n",
       "3                   0.415                0.520                0.151   \n",
       "4                   0.007                0.872                0.987   \n",
       "...                   ...                  ...                  ...   \n",
       "3243                0.193                0.192                0.178   \n",
       "3244                0.188                0.217                0.195   \n",
       "3245                0.109                0.156                0.227   \n",
       "3246                0.420                0.646                0.671   \n",
       "3247                0.127                0.117                0.148   \n",
       "\n",
       "      2017-12-28 18:00:00  2017-12-28 18:30:00  2017-12-28 19:00:00  \\\n",
       "0                   0.066                0.055                0.055   \n",
       "1                   0.994                0.965                0.976   \n",
       "2                   0.116                0.127                0.103   \n",
       "3                   0.148                0.157                0.038   \n",
       "4                   1.399                1.717                1.023   \n",
       "...                   ...                  ...                  ...   \n",
       "3243                0.184                0.193                0.190   \n",
       "3244                0.192                0.190                0.194   \n",
       "3245                0.156                0.206                0.144   \n",
       "3246                0.729                0.673                0.654   \n",
       "3247                0.175                0.148                0.182   \n",
       "\n",
       "      2017-12-28 19:30:00  2017-12-28 20:00:00  2017-12-28 20:30:00  \\\n",
       "0                   0.091                0.096                0.096   \n",
       "1                   0.985                1.021                0.872   \n",
       "2                   0.201                0.104                0.144   \n",
       "3                   0.070                0.039                0.222   \n",
       "4                   1.031                0.956                0.986   \n",
       "...                   ...                  ...                  ...   \n",
       "3243                0.184                0.179                0.193   \n",
       "3244                0.213                0.193                0.113   \n",
       "3245                0.151                0.293                0.113   \n",
       "3246                0.677                0.707                0.673   \n",
       "3247                0.188                0.210                0.202   \n",
       "\n",
       "      2017-12-28 21:00:00  2017-12-28 21:30:00  2017-12-28 22:00:00  \\\n",
       "0                   0.063                0.055                0.059   \n",
       "1                   0.875                0.619                0.124   \n",
       "2                   0.172                0.118                0.062   \n",
       "3                   0.043                0.046                0.053   \n",
       "4                   0.960                0.987                0.926   \n",
       "...                   ...                  ...                  ...   \n",
       "3243                0.195                0.180                0.182   \n",
       "3244                0.011                0.022                0.020   \n",
       "3245                0.116                0.100                0.103   \n",
       "3246                0.673                0.680                0.688   \n",
       "3247                0.253                0.240                0.221   \n",
       "\n",
       "      2017-12-28 22:30:00  2017-12-28 23:00:00  2017-12-28 23:30:00  \\\n",
       "0                   0.088                0.069                0.055   \n",
       "1                   0.257                0.132                0.053   \n",
       "2                   0.051                0.002                0.033   \n",
       "3                   0.019                0.053                0.016   \n",
       "4                   0.959                0.627                0.609   \n",
       "...                   ...                  ...                  ...   \n",
       "3243                0.200                0.188                0.181   \n",
       "3244                0.009                0.013                0.009   \n",
       "3245                0.153                0.148                0.209   \n",
       "3246                0.388                0.169                0.185   \n",
       "3247                0.236                0.235                0.240   \n",
       "\n",
       "      2017-12-29 00:00:00  2017-12-29 00:30:00  2017-12-29 01:00:00  \\\n",
       "0                     NaN                  NaN                  NaN   \n",
       "1                     NaN                  NaN                  NaN   \n",
       "2                     NaN                  NaN                  NaN   \n",
       "3                     NaN                  NaN                  NaN   \n",
       "4                     NaN                  NaN                  NaN   \n",
       "...                   ...                  ...                  ...   \n",
       "3243                  NaN                  NaN                  NaN   \n",
       "3244                  NaN                  NaN                  NaN   \n",
       "3245                  NaN                  NaN                  NaN   \n",
       "3246                  NaN                  NaN                  NaN   \n",
       "3247                  NaN                  NaN                  NaN   \n",
       "\n",
       "      2017-12-29 01:30:00  2017-12-29 02:00:00  2017-12-29 02:30:00  \\\n",
       "0                     NaN                  NaN                  NaN   \n",
       "1                     NaN                  NaN                  NaN   \n",
       "2                     NaN                  NaN                  NaN   \n",
       "3                     NaN                  NaN                  NaN   \n",
       "4                     NaN                  NaN                  NaN   \n",
       "...                   ...                  ...                  ...   \n",
       "3243                  NaN                  NaN                  NaN   \n",
       "3244                  NaN                  NaN                  NaN   \n",
       "3245                  NaN                  NaN                  NaN   \n",
       "3246                  NaN                  NaN                  NaN   \n",
       "3247                  NaN                  NaN                  NaN   \n",
       "\n",
       "      2017-12-29 03:00:00  2017-12-29 03:30:00  2017-12-29 04:00:00  \\\n",
       "0                     NaN                  NaN                  NaN   \n",
       "1                     NaN                  NaN                  NaN   \n",
       "2                     NaN                  NaN                  NaN   \n",
       "3                     NaN                  NaN                  NaN   \n",
       "4                     NaN                  NaN                  NaN   \n",
       "...                   ...                  ...                  ...   \n",
       "3243                  NaN                  NaN                  NaN   \n",
       "3244                  NaN                  NaN                  NaN   \n",
       "3245                  NaN                  NaN                  NaN   \n",
       "3246                  NaN                  NaN                  NaN   \n",
       "3247                  NaN                  NaN                  NaN   \n",
       "\n",
       "      2017-12-29 04:30:00  2017-12-29 05:00:00  2017-12-29 05:30:00  \\\n",
       "0                     NaN                  NaN                  NaN   \n",
       "1                     NaN                  NaN                  NaN   \n",
       "2                     NaN                  NaN                  NaN   \n",
       "3                     NaN                  NaN                  NaN   \n",
       "4                     NaN                  NaN                  NaN   \n",
       "...                   ...                  ...                  ...   \n",
       "3243                  NaN                  NaN                  NaN   \n",
       "3244                  NaN                  NaN                  NaN   \n",
       "3245                  NaN                  NaN                  NaN   \n",
       "3246                  NaN                  NaN                  NaN   \n",
       "3247                  NaN                  NaN                  NaN   \n",
       "\n",
       "      2017-12-29 06:00:00  2017-12-29 06:30:00  2017-12-29 07:00:00  \\\n",
       "0                     NaN                  NaN                  NaN   \n",
       "1                     NaN                  NaN                  NaN   \n",
       "2                     NaN                  NaN                  NaN   \n",
       "3                     NaN                  NaN                  NaN   \n",
       "4                     NaN                  NaN                  NaN   \n",
       "...                   ...                  ...                  ...   \n",
       "3243                  NaN                  NaN                  NaN   \n",
       "3244                  NaN                  NaN                  NaN   \n",
       "3245                  NaN                  NaN                  NaN   \n",
       "3246                  NaN                  NaN                  NaN   \n",
       "3247                  NaN                  NaN                  NaN   \n",
       "\n",
       "      2017-12-29 07:30:00  2017-12-29 08:00:00  2017-12-29 08:30:00  \\\n",
       "0                     NaN                  NaN                  NaN   \n",
       "1                     NaN                  NaN                  NaN   \n",
       "2                     NaN                  NaN                  NaN   \n",
       "3                     NaN                  NaN                  NaN   \n",
       "4                     NaN                  NaN                  NaN   \n",
       "...                   ...                  ...                  ...   \n",
       "3243                  NaN                  NaN                  NaN   \n",
       "3244                  NaN                  NaN                  NaN   \n",
       "3245                  NaN                  NaN                  NaN   \n",
       "3246                  NaN                  NaN                  NaN   \n",
       "3247                  NaN                  NaN                  NaN   \n",
       "\n",
       "      2017-12-29 09:00:00  2017-12-29 09:30:00  2017-12-29 10:00:00  \\\n",
       "0                     NaN                  NaN                  NaN   \n",
       "1                     NaN                  NaN                  NaN   \n",
       "2                     NaN                  NaN                  NaN   \n",
       "3                     NaN                  NaN                  NaN   \n",
       "4                     NaN                  NaN                  NaN   \n",
       "...                   ...                  ...                  ...   \n",
       "3243                  NaN                  NaN                  NaN   \n",
       "3244                  NaN                  NaN                  NaN   \n",
       "3245                  NaN                  NaN                  NaN   \n",
       "3246                  NaN                  NaN                  NaN   \n",
       "3247                  NaN                  NaN                  NaN   \n",
       "\n",
       "      2017-12-29 10:30:00  2017-12-29 11:00:00  2017-12-29 11:30:00  \\\n",
       "0                     NaN                  NaN                  NaN   \n",
       "1                     NaN                  NaN                  NaN   \n",
       "2                     NaN                  NaN                  NaN   \n",
       "3                     NaN                  NaN                  NaN   \n",
       "4                     NaN                  NaN                  NaN   \n",
       "...                   ...                  ...                  ...   \n",
       "3243                  NaN                  NaN                  NaN   \n",
       "3244                  NaN                  NaN                  NaN   \n",
       "3245                  NaN                  NaN                  NaN   \n",
       "3246                  NaN                  NaN                  NaN   \n",
       "3247                  NaN                  NaN                  NaN   \n",
       "\n",
       "      2017-12-29 12:00:00  2017-12-29 12:30:00  2017-12-29 13:00:00  \\\n",
       "0                     NaN                  NaN                  NaN   \n",
       "1                     NaN                  NaN                  NaN   \n",
       "2                     NaN                  NaN                  NaN   \n",
       "3                     NaN                  NaN                  NaN   \n",
       "4                     NaN                  NaN                  NaN   \n",
       "...                   ...                  ...                  ...   \n",
       "3243                  NaN                  NaN                  NaN   \n",
       "3244                  NaN                  NaN                  NaN   \n",
       "3245                  NaN                  NaN                  NaN   \n",
       "3246                  NaN                  NaN                  NaN   \n",
       "3247                  NaN                  NaN                  NaN   \n",
       "\n",
       "      2017-12-29 13:30:00  2017-12-29 14:00:00  2017-12-29 14:30:00  \\\n",
       "0                     NaN                  NaN                  NaN   \n",
       "1                     NaN                  NaN                  NaN   \n",
       "2                     NaN                  NaN                  NaN   \n",
       "3                     NaN                  NaN                  NaN   \n",
       "4                     NaN                  NaN                  NaN   \n",
       "...                   ...                  ...                  ...   \n",
       "3243                  NaN                  NaN                  NaN   \n",
       "3244                  NaN                  NaN                  NaN   \n",
       "3245                  NaN                  NaN                  NaN   \n",
       "3246                  NaN                  NaN                  NaN   \n",
       "3247                  NaN                  NaN                  NaN   \n",
       "\n",
       "      2017-12-29 15:00:00  2017-12-29 15:30:00  2017-12-29 16:00:00  \\\n",
       "0                     NaN                  NaN                  NaN   \n",
       "1                     NaN                  NaN                  NaN   \n",
       "2                     NaN                  NaN                  NaN   \n",
       "3                     NaN                  NaN                  NaN   \n",
       "4                     NaN                  NaN                  NaN   \n",
       "...                   ...                  ...                  ...   \n",
       "3243                  NaN                  NaN                  NaN   \n",
       "3244                  NaN                  NaN                  NaN   \n",
       "3245                  NaN                  NaN                  NaN   \n",
       "3246                  NaN                  NaN                  NaN   \n",
       "3247                  NaN                  NaN                  NaN   \n",
       "\n",
       "      2017-12-29 16:30:00  2017-12-29 17:00:00  2017-12-29 17:30:00  \\\n",
       "0                     NaN                  NaN                  NaN   \n",
       "1                     NaN                  NaN                  NaN   \n",
       "2                     NaN                  NaN                  NaN   \n",
       "3                     NaN                  NaN                  NaN   \n",
       "4                     NaN                  NaN                  NaN   \n",
       "...                   ...                  ...                  ...   \n",
       "3243                  NaN                  NaN                  NaN   \n",
       "3244                  NaN                  NaN                  NaN   \n",
       "3245                  NaN                  NaN                  NaN   \n",
       "3246                  NaN                  NaN                  NaN   \n",
       "3247                  NaN                  NaN                  NaN   \n",
       "\n",
       "      2017-12-29 18:00:00  2017-12-29 18:30:00  2017-12-29 19:00:00  \\\n",
       "0                     NaN                  NaN                  NaN   \n",
       "1                     NaN                  NaN                  NaN   \n",
       "2                     NaN                  NaN                  NaN   \n",
       "3                     NaN                  NaN                  NaN   \n",
       "4                     NaN                  NaN                  NaN   \n",
       "...                   ...                  ...                  ...   \n",
       "3243                  NaN                  NaN                  NaN   \n",
       "3244                  NaN                  NaN                  NaN   \n",
       "3245                  NaN                  NaN                  NaN   \n",
       "3246                  NaN                  NaN                  NaN   \n",
       "3247                  NaN                  NaN                  NaN   \n",
       "\n",
       "      2017-12-29 19:30:00  2017-12-29 20:00:00  2017-12-29 20:30:00  \\\n",
       "0                     NaN                  NaN                  NaN   \n",
       "1                     NaN                  NaN                  NaN   \n",
       "2                     NaN                  NaN                  NaN   \n",
       "3                     NaN                  NaN                  NaN   \n",
       "4                     NaN                  NaN                  NaN   \n",
       "...                   ...                  ...                  ...   \n",
       "3243                  NaN                  NaN                  NaN   \n",
       "3244                  NaN                  NaN                  NaN   \n",
       "3245                  NaN                  NaN                  NaN   \n",
       "3246                  NaN                  NaN                  NaN   \n",
       "3247                  NaN                  NaN                  NaN   \n",
       "\n",
       "      2017-12-29 21:00:00  2017-12-29 21:30:00  2017-12-29 22:00:00  \\\n",
       "0                     NaN                  NaN                  NaN   \n",
       "1                     NaN                  NaN                  NaN   \n",
       "2                     NaN                  NaN                  NaN   \n",
       "3                     NaN                  NaN                  NaN   \n",
       "4                     NaN                  NaN                  NaN   \n",
       "...                   ...                  ...                  ...   \n",
       "3243                  NaN                  NaN                  NaN   \n",
       "3244                  NaN                  NaN                  NaN   \n",
       "3245                  NaN                  NaN                  NaN   \n",
       "3246                  NaN                  NaN                  NaN   \n",
       "3247                  NaN                  NaN                  NaN   \n",
       "\n",
       "      2017-12-29 22:30:00  2017-12-29 23:00:00  2017-12-29 23:30:00  \\\n",
       "0                     NaN                  NaN                  NaN   \n",
       "1                     NaN                  NaN                  NaN   \n",
       "2                     NaN                  NaN                  NaN   \n",
       "3                     NaN                  NaN                  NaN   \n",
       "4                     NaN                  NaN                  NaN   \n",
       "...                   ...                  ...                  ...   \n",
       "3243                  NaN                  NaN                  NaN   \n",
       "3244                  NaN                  NaN                  NaN   \n",
       "3245                  NaN                  NaN                  NaN   \n",
       "3246                  NaN                  NaN                  NaN   \n",
       "3247                  NaN                  NaN                  NaN   \n",
       "\n",
       "      2017-12-30 00:00:00  2017-12-30 00:30:00  2017-12-30 01:00:00  \\\n",
       "0                   0.058                0.057                0.055   \n",
       "1                   0.083                0.069                0.047   \n",
       "2                   0.035                2.716                1.512   \n",
       "3                   0.050                2.887                2.350   \n",
       "4                   0.432                0.354                0.351   \n",
       "...                   ...                  ...                  ...   \n",
       "3243                0.185                1.284                0.341   \n",
       "3244                0.008                1.233                0.355   \n",
       "3245                0.065                0.082                0.060   \n",
       "3246                0.172                3.023                1.967   \n",
       "3247                0.243                2.380                1.705   \n",
       "\n",
       "      2017-12-30 01:30:00  2017-12-30 02:00:00  2017-12-30 02:30:00  \\\n",
       "0                   0.015                0.017                0.015   \n",
       "1                   0.049                0.044                0.061   \n",
       "2                   1.164                0.224                0.111   \n",
       "3                   1.615                1.471                1.488   \n",
       "4                   0.293                1.623                1.881   \n",
       "...                   ...                  ...                  ...   \n",
       "3243                0.325                0.197                0.162   \n",
       "3244                0.167                0.129                0.012   \n",
       "3245                0.039                0.032                0.045   \n",
       "3246                1.663                1.585                1.385   \n",
       "3247                1.455                1.562                1.397   \n",
       "\n",
       "      2017-12-30 03:00:00  2017-12-30 03:30:00  2017-12-30 04:00:00  \\\n",
       "0                   0.041                0.061                0.058   \n",
       "1                   0.074                0.073                0.039   \n",
       "2                   0.112                0.118                0.023   \n",
       "3                   0.671                0.084                0.107   \n",
       "4                   1.496                0.956                0.415   \n",
       "...                   ...                  ...                  ...   \n",
       "3243                0.309                0.191                0.265   \n",
       "3244                0.102                0.105                0.122   \n",
       "3245                0.043                0.027                0.062   \n",
       "3246                1.613                1.372                1.353   \n",
       "3247                1.500                1.324                0.217   \n",
       "\n",
       "      2017-12-30 04:30:00  2017-12-30 05:00:00  2017-12-30 05:30:00  \\\n",
       "0                   0.026                0.020                0.017   \n",
       "1                   0.039                0.037                0.041   \n",
       "2                   0.119                0.021                0.133   \n",
       "3                   0.104                0.091                0.045   \n",
       "4                   0.398                0.357                0.389   \n",
       "...                   ...                  ...                  ...   \n",
       "3243                0.026                0.203                0.116   \n",
       "3244                0.012                0.102                0.011   \n",
       "3245                0.043                0.033                0.030   \n",
       "3246                1.361                1.372                1.581   \n",
       "3247                0.118                0.291                0.125   \n",
       "\n",
       "      2017-12-30 06:00:00  2017-12-30 06:30:00  2017-12-30 07:00:00  \\\n",
       "0                   0.022                0.060                0.057   \n",
       "1                   0.344                0.755                0.831   \n",
       "2                   0.011                0.161                0.174   \n",
       "3                   0.431                0.020                0.169   \n",
       "4                   0.279                0.348                0.219   \n",
       "...                   ...                  ...                  ...   \n",
       "3243                0.050                0.114                0.023   \n",
       "3244                0.080                0.037                0.087   \n",
       "3245                0.041                0.049                0.072   \n",
       "3246                0.582                0.048                0.037   \n",
       "3247                0.145                0.152                0.231   \n",
       "\n",
       "      2017-12-30 07:30:00  2017-12-30 08:00:00  2017-12-30 08:30:00  \\\n",
       "0                   0.068                0.227                0.096   \n",
       "1                   0.385                0.336                0.374   \n",
       "2                   0.251                0.096                0.153   \n",
       "3                   0.023                0.014                0.050   \n",
       "4                   0.233                0.209                0.145   \n",
       "...                   ...                  ...                  ...   \n",
       "3243                0.027                0.207                0.187   \n",
       "3244                0.028                0.027                0.017   \n",
       "3245                0.157                0.104                0.149   \n",
       "3246                0.040                0.185                0.101   \n",
       "3247                0.116                0.118                0.114   \n",
       "\n",
       "      2017-12-30 09:00:00  2017-12-30 09:30:00  2017-12-30 10:00:00  \\\n",
       "0                   0.108                0.131                0.125   \n",
       "1                   0.400                0.381                0.414   \n",
       "2                   0.036                0.029                0.016   \n",
       "3                   0.031                0.098                0.051   \n",
       "4                   0.509                0.934                1.666   \n",
       "...                   ...                  ...                  ...   \n",
       "3243                0.185                0.179                0.184   \n",
       "3244                0.032                0.010                0.008   \n",
       "3245                0.249                0.177                0.129   \n",
       "3246                0.152                0.108                0.105   \n",
       "3247                0.120                0.115                0.120   \n",
       "\n",
       "      2017-12-30 10:30:00  2017-12-30 11:00:00  2017-12-30 11:30:00  \\\n",
       "0                   0.112                0.188                0.096   \n",
       "1                   0.036                0.039                0.034   \n",
       "2                   0.028                0.011                0.026   \n",
       "3                   0.015                0.030                0.038   \n",
       "4                   1.219                1.026                0.906   \n",
       "...                   ...                  ...                  ...   \n",
       "3243                0.199                0.180                0.176   \n",
       "3244                0.009                0.008                0.029   \n",
       "3245                0.179                0.078                0.067   \n",
       "3246                0.103                0.104                0.175   \n",
       "3247                0.115                0.116                0.118   \n",
       "\n",
       "      2017-12-30 12:00:00  2017-12-30 12:30:00  2017-12-30 13:00:00  \\\n",
       "0                   0.106                0.403                0.098   \n",
       "1                   0.046                0.082                0.107   \n",
       "2                   0.137                0.032                0.025   \n",
       "3                   0.042                0.181                0.035   \n",
       "4                   0.196                0.398                1.084   \n",
       "...                   ...                  ...                  ...   \n",
       "3243                0.180                0.200                0.179   \n",
       "3244                0.015                0.008                0.009   \n",
       "3245                0.063                0.037                0.039   \n",
       "3246                0.110                0.121                0.112   \n",
       "3247                0.115                0.120                0.120   \n",
       "\n",
       "      2017-12-30 13:30:00  2017-12-30 14:00:00  2017-12-30 14:30:00  \\\n",
       "0                   0.096                0.071                0.170   \n",
       "1                   0.128                0.185                0.262   \n",
       "2                   0.029                0.066                0.036   \n",
       "3                   0.018                0.096                0.074   \n",
       "4                   0.906                1.160                1.313   \n",
       "...                   ...                  ...                  ...   \n",
       "3243                0.179                0.180                0.191   \n",
       "3244                0.008                0.026                0.017   \n",
       "3245                0.045                0.045                0.057   \n",
       "3246                0.118                0.134                0.126   \n",
       "3247                0.143                0.142                0.125   \n",
       "\n",
       "      2017-12-30 15:00:00  2017-12-30 15:30:00  2017-12-30 16:00:00  \\\n",
       "0                   0.085                0.121                0.127   \n",
       "1                   0.333                0.314                0.348   \n",
       "2                   0.023                0.021                0.021   \n",
       "3                   0.031                0.876                0.764   \n",
       "4                   1.448                1.241                1.219   \n",
       "...                   ...                  ...                  ...   \n",
       "3243                0.186                0.182                0.177   \n",
       "3244                0.009                0.008                0.009   \n",
       "3245                0.098                0.241                0.145   \n",
       "3246                0.141                0.134                0.135   \n",
       "3247                0.118                0.114                0.121   \n",
       "\n",
       "      2017-12-30 16:30:00  2017-12-30 17:00:00  2017-12-30 17:30:00  \\\n",
       "0                   0.186                0.177                0.117   \n",
       "1                   0.790                0.781                0.961   \n",
       "2                   0.022                0.040                0.060   \n",
       "3                   0.343                0.157                0.135   \n",
       "4                   1.292                1.355                1.405   \n",
       "...                   ...                  ...                  ...   \n",
       "3243                0.186                0.196                0.177   \n",
       "3244                0.033                0.036                0.016   \n",
       "3245                0.196                0.195                0.474   \n",
       "3246                0.151                0.141                0.152   \n",
       "3247                0.115                0.119                0.116   \n",
       "\n",
       "      2017-12-30 18:00:00  2017-12-30 18:30:00  2017-12-30 19:00:00  \\\n",
       "0                   0.084                0.437                0.126   \n",
       "1                   0.830                0.793                0.688   \n",
       "2                   0.058                0.225                0.127   \n",
       "3                   0.165                0.130                0.169   \n",
       "4                   1.497                2.134                1.632   \n",
       "...                   ...                  ...                  ...   \n",
       "3243                0.178                0.187                0.197   \n",
       "3244                0.016                0.016                0.032   \n",
       "3245                0.203                0.259                0.172   \n",
       "3246                0.152                0.150                0.166   \n",
       "3247                0.119                0.132                0.144   \n",
       "\n",
       "      2017-12-30 19:30:00  2017-12-30 20:00:00  2017-12-30 20:30:00  \\\n",
       "0                   0.153                0.206                0.122   \n",
       "1                   0.774                0.664                0.801   \n",
       "2                   0.134                0.156                0.133   \n",
       "3                   0.247                0.155                0.052   \n",
       "4                   1.505                1.648                1.720   \n",
       "...                   ...                  ...                  ...   \n",
       "3243                0.179                0.183                0.179   \n",
       "3244                0.031                0.009                0.008   \n",
       "3245                0.192                0.126                0.120   \n",
       "3246                0.263                0.455                0.667   \n",
       "3247                0.149                0.156                0.173   \n",
       "\n",
       "      2017-12-30 21:00:00  2017-12-30 21:30:00  2017-12-30 22:00:00  \\\n",
       "0                   0.112                0.061                0.036   \n",
       "1                   0.628                0.369                0.089   \n",
       "2                   0.135                0.129                0.015   \n",
       "3                   0.069                0.037                0.032   \n",
       "4                   1.583                1.239                1.039   \n",
       "...                   ...                  ...                  ...   \n",
       "3243                0.201                0.184                0.178   \n",
       "3244                0.009                0.024                0.023   \n",
       "3245                0.143                0.169                0.219   \n",
       "3246                0.657                0.672                0.661   \n",
       "3247                0.196                0.208                0.180   \n",
       "\n",
       "      2017-12-30 22:30:00  2017-12-30 23:00:00  2017-12-30 23:30:00  \\\n",
       "0                   0.145                0.090                0.070   \n",
       "1                   0.088                0.072                0.049   \n",
       "2                   0.027                0.008                0.027   \n",
       "3                   0.052                0.014                0.034   \n",
       "4                   0.948                0.709                0.965   \n",
       "...                   ...                  ...                  ...   \n",
       "3243                0.177                0.207                0.179   \n",
       "3244                0.008                0.009                0.013   \n",
       "3245                0.138                0.173                0.118   \n",
       "3246                0.367                0.175                0.166   \n",
       "3247                0.197                0.177                0.201   \n",
       "\n",
       "      2017-12-31 00:00:00  2017-12-31 00:30:00  2017-12-31 01:00:00  \\\n",
       "0                   0.051                0.016                0.016   \n",
       "1                   0.048                0.048                0.079   \n",
       "2                   0.021                1.497                0.120   \n",
       "3                   0.036                2.940                1.997   \n",
       "4                   0.254                0.033                0.031   \n",
       "...                   ...                  ...                  ...   \n",
       "3243                0.177                1.245                0.335   \n",
       "3244                0.019                1.389                0.395   \n",
       "3245                0.116                0.092                0.081   \n",
       "3246                0.181                2.991                2.151   \n",
       "3247                0.198                2.406                1.634   \n",
       "\n",
       "      2017-12-31 01:30:00  2017-12-31 02:00:00  2017-12-31 02:30:00  \\\n",
       "0                   0.022                0.062                0.057   \n",
       "1                   0.085                0.079                0.046   \n",
       "2                   0.127                0.036                0.097   \n",
       "3                   1.527                1.450                1.523   \n",
       "4                   0.026                1.370                1.605   \n",
       "...                   ...                  ...                  ...   \n",
       "3243                0.263                0.268                0.161   \n",
       "3244                0.189                0.101                0.050   \n",
       "3245                0.056                0.044                0.086   \n",
       "3246                1.393                1.672                1.385   \n",
       "3247                1.414                1.479                1.395   \n",
       "\n",
       "      2017-12-31 03:00:00  2017-12-31 03:30:00  2017-12-31 04:00:00  \\\n",
       "0                   0.050                0.019                0.017   \n",
       "1                   0.037                0.037                0.048   \n",
       "2                   0.149                0.059                0.113   \n",
       "3                   0.676                0.103                0.110   \n",
       "4                   1.639                1.042                0.450   \n",
       "...                   ...                  ...                  ...   \n",
       "3243                0.046                0.164                0.189   \n",
       "3244                0.169                0.094                0.012   \n",
       "3245                0.072                0.063                0.060   \n",
       "3246                1.569                1.374                1.376   \n",
       "3247                0.319                0.122                0.227   \n",
       "\n",
       "      2017-12-31 04:30:00  2017-12-31 05:00:00  2017-12-31 05:30:00  \\\n",
       "0                   0.018                0.057                0.059   \n",
       "1                   0.077                0.073                0.065   \n",
       "2                   0.112                0.042                0.095   \n",
       "3                   0.097                0.049                0.101   \n",
       "4                   0.369                0.137                0.186   \n",
       "...                   ...                  ...                  ...   \n",
       "3243                0.112                0.044                0.115   \n",
       "3244                0.130                0.019                0.103   \n",
       "3245                0.057                0.050                0.068   \n",
       "3246                0.294                0.855                0.454   \n",
       "3247                0.145                0.236                0.174   \n",
       "\n",
       "      2017-12-31 06:00:00  2017-12-31 06:30:00  2017-12-31 07:00:00  \\\n",
       "0                   0.055                0.017                0.015   \n",
       "1                   0.282                0.396                0.321   \n",
       "2                   0.043                0.093                0.055   \n",
       "3                   0.097                0.060                0.095   \n",
       "4                   0.184                0.119                0.010   \n",
       "...                   ...                  ...                  ...   \n",
       "3243                0.110                0.027                0.228   \n",
       "3244                0.014                0.098                0.019   \n",
       "3245                0.041                0.040                0.038   \n",
       "3246                0.631                0.426                0.158   \n",
       "3247                0.125                0.120                0.254   \n",
       "\n",
       "      2017-12-31 07:30:00  2017-12-31 08:00:00  2017-12-31 08:30:00  \\\n",
       "0                   0.015                0.096                0.208   \n",
       "1                   0.672                0.187                0.200   \n",
       "2                   0.002                0.131                0.143   \n",
       "3                   0.020                0.046                0.013   \n",
       "4                   0.031                0.016                0.027   \n",
       "...                   ...                  ...                  ...   \n",
       "3243                0.077                0.182                0.180   \n",
       "3244                0.029                0.043                0.016   \n",
       "3245                0.046                0.047                0.050   \n",
       "3246                0.111                0.135                0.191   \n",
       "3247                0.115                0.119                0.115   \n",
       "\n",
       "      2017-12-31 09:00:00  2017-12-31 09:30:00  2017-12-31 10:00:00  \\\n",
       "0                   0.150                0.132                0.344   \n",
       "1                   0.189                0.205                0.264   \n",
       "2                   0.130                0.106                0.050   \n",
       "3                   0.042                0.118                0.019   \n",
       "4                   0.007                0.603                1.730   \n",
       "...                   ...                  ...                  ...   \n",
       "3243                0.194                0.190                0.179   \n",
       "3244                0.009                0.008                0.018   \n",
       "3245                0.077                0.041                0.112   \n",
       "3246                0.104                0.107                0.097   \n",
       "3247                0.121                0.114                0.120   \n",
       "\n",
       "      2017-12-31 10:30:00  2017-12-31 11:00:00  2017-12-31 11:30:00  \\\n",
       "0                   0.394                0.255                0.126   \n",
       "1                   0.273                0.309                0.212   \n",
       "2                   0.008                0.037                0.005   \n",
       "3                   0.062                0.078                0.104   \n",
       "4                   1.429                0.951                0.545   \n",
       "...                   ...                  ...                  ...   \n",
       "3243                0.181                0.184                0.195   \n",
       "3244                0.028                0.009                0.009   \n",
       "3245                0.225                0.180                0.181   \n",
       "3246                0.106                0.101                0.116   \n",
       "3247                0.114                0.120                0.115   \n",
       "\n",
       "      2017-12-31 12:00:00  2017-12-31 12:30:00  2017-12-31 13:00:00  \\\n",
       "0                   0.094                0.070                0.064   \n",
       "1                   0.170                0.078                0.092   \n",
       "2                   0.029                0.196                0.134   \n",
       "3                   0.039                0.120                0.063   \n",
       "4                   0.150                0.498                1.165   \n",
       "...                   ...                  ...                  ...   \n",
       "3243                0.181                0.177                0.184   \n",
       "3244                0.008                0.016                0.028   \n",
       "3245                0.195                0.462                0.631   \n",
       "3246                0.126                0.118                0.136   \n",
       "3247                0.119                0.115                0.143   \n",
       "\n",
       "      2017-12-31 13:30:00  2017-12-31 14:00:00  2017-12-31 14:30:00  \\\n",
       "0                   0.075                0.063                0.078   \n",
       "1                   0.102                0.253                0.383   \n",
       "2                   0.069                0.067                0.025   \n",
       "3                   0.078                0.111                0.074   \n",
       "4                   1.054                0.498                0.199   \n",
       "...                   ...                  ...                  ...   \n",
       "3243                0.198                0.177                0.182   \n",
       "3244                0.008                0.009                0.009   \n",
       "3245                0.203                0.189                0.242   \n",
       "3246                0.126                0.137                0.138   \n",
       "3247                0.140                0.147                0.121   \n",
       "\n",
       "      2017-12-31 15:00:00  2017-12-31 15:30:00  2017-12-31 16:00:00  \\\n",
       "0                   0.804                0.183                0.149   \n",
       "1                   0.068                0.077                0.085   \n",
       "2                   0.026                0.020                0.014   \n",
       "3                   0.103                0.635                0.421   \n",
       "4                   0.058                0.019                0.068   \n",
       "...                   ...                  ...                  ...   \n",
       "3243                0.180                0.196                0.182   \n",
       "3244                0.015                0.028                0.009   \n",
       "3245                0.264                0.187                0.479   \n",
       "3246                0.158                0.220                0.215   \n",
       "3247                0.124                0.133                0.153   \n",
       "\n",
       "      2017-12-31 16:30:00  2017-12-31 17:00:00  2017-12-31 17:30:00  \\\n",
       "0                   0.238                0.351                0.108   \n",
       "1                   0.594                0.413                0.277   \n",
       "2                   0.032                0.019                0.107   \n",
       "3                   0.466                0.087                0.052   \n",
       "4                   0.077                0.060                0.024   \n",
       "...                   ...                  ...                  ...   \n",
       "3243                0.177                0.181                0.203   \n",
       "3244                0.012                0.023                0.034   \n",
       "3245                0.316                0.275                0.503   \n",
       "3246                0.511                0.717                0.647   \n",
       "3247                0.148                0.166                0.161   \n",
       "\n",
       "      2017-12-31 18:00:00  2017-12-31 18:30:00  2017-12-31 19:00:00  \\\n",
       "0                   0.077                0.059                0.052   \n",
       "1                   0.315                0.691                0.402   \n",
       "2                   0.104                0.124                0.110   \n",
       "3                   0.115                0.150                0.118   \n",
       "4                   0.026                0.016                0.022   \n",
       "...                   ...                  ...                  ...   \n",
       "3243                0.176                0.183                0.176   \n",
       "3244                0.040                0.025                0.022   \n",
       "3245                0.422                0.343                0.144   \n",
       "3246                0.653                0.330                0.186   \n",
       "3247                0.188                0.181                0.182   \n",
       "\n",
       "      2017-12-31 19:30:00  2017-12-31 20:00:00  2017-12-31 20:30:00  \\\n",
       "0                   0.091                0.083                0.082   \n",
       "1                   0.639                0.537                0.834   \n",
       "2                   0.123                0.012                0.034   \n",
       "3                   0.096                0.135                0.041   \n",
       "4                   0.010                0.036                0.006   \n",
       "...                   ...                  ...                  ...   \n",
       "3243                0.200                0.184                0.177   \n",
       "3244                0.009                0.028                0.020   \n",
       "3245                0.169                0.145                0.200   \n",
       "3246                0.163                0.170                0.175   \n",
       "3247                0.182                0.194                0.187   \n",
       "\n",
       "      2017-12-31 21:00:00  2017-12-31 21:30:00  2017-12-31 22:00:00  \\\n",
       "0                   0.090                0.074                0.092   \n",
       "1                   0.868                0.394                0.073   \n",
       "2                   0.006                0.027                0.001   \n",
       "3                   0.018                0.057                0.018   \n",
       "4                   0.024                0.014                0.028   \n",
       "...                   ...                  ...                  ...   \n",
       "3243                0.182                0.201                0.181   \n",
       "3244                0.010                0.009                0.008   \n",
       "3245                0.170                0.127                0.135   \n",
       "3246                0.167                0.185                0.171   \n",
       "3247                0.170                0.200                0.203   \n",
       "\n",
       "      2017-12-31 22:30:00  2017-12-31 23:00:00  2017-12-31 23:30:00  \n",
       "0                   0.076                0.055                0.036  \n",
       "1                   0.077                0.049                0.048  \n",
       "2                   0.044                0.004                0.035  \n",
       "3                   0.038                0.040                0.014  \n",
       "4                   0.006                0.024                0.025  \n",
       "...                   ...                  ...                  ...  \n",
       "3243                0.181                0.177                0.198  \n",
       "3244                0.033                0.015                0.013  \n",
       "3245                0.200                0.118                0.106  \n",
       "3246                0.196                0.260                0.318  \n",
       "3247                0.203                0.190                0.186  \n",
       "\n",
       "[3248 rows x 17521 columns]"
      ]
     },
     "execution_count": 160,
     "metadata": {},
     "output_type": "execute_result"
    }
   ],
   "source": [
    "# inspecting the values of the dataframe\n",
    "df_energy"
   ]
  },
  {
   "cell_type": "code",
   "execution_count": 161,
   "metadata": {},
   "outputs": [
    {
     "data": {
      "text/plain": [
       "(3248, 17521)"
      ]
     },
     "execution_count": 161,
     "metadata": {},
     "output_type": "execute_result"
    }
   ],
   "source": [
    "# inspecting the shape of the dataframe\n",
    "df_energy.shape"
   ]
  },
  {
   "cell_type": "code",
   "execution_count": 162,
   "metadata": {},
   "outputs": [
    {
     "data": {
      "text/html": [
       "<div>\n",
       "<style scoped>\n",
       "    .dataframe tbody tr th:only-of-type {\n",
       "        vertical-align: middle;\n",
       "    }\n",
       "\n",
       "    .dataframe tbody tr th {\n",
       "        vertical-align: top;\n",
       "    }\n",
       "\n",
       "    .dataframe thead th {\n",
       "        text-align: right;\n",
       "    }\n",
       "</style>\n",
       "<table border=\"1\" class=\"dataframe\">\n",
       "  <thead>\n",
       "    <tr style=\"text-align: right;\">\n",
       "      <th></th>\n",
       "      <th>meter_id</th>\n",
       "      <th>dwelling_type</th>\n",
       "      <th>num_occupants</th>\n",
       "      <th>num_bedrooms</th>\n",
       "      <th>heating_fuel</th>\n",
       "      <th>hot_water_fuel</th>\n",
       "      <th>boiler_age</th>\n",
       "      <th>loft_insulation</th>\n",
       "      <th>wall_insulation</th>\n",
       "      <th>heating_temperature</th>\n",
       "      <th>efficient_lighting_percentage</th>\n",
       "      <th>dishwasher</th>\n",
       "      <th>freezer</th>\n",
       "      <th>fridge_freezer</th>\n",
       "      <th>refrigerator</th>\n",
       "      <th>tumble_dryer</th>\n",
       "      <th>washing_machine</th>\n",
       "      <th>game_console</th>\n",
       "      <th>laptop</th>\n",
       "      <th>pc</th>\n",
       "      <th>router</th>\n",
       "      <th>set_top_box</th>\n",
       "      <th>tablet</th>\n",
       "      <th>tv</th>\n",
       "    </tr>\n",
       "  </thead>\n",
       "  <tbody>\n",
       "    <tr>\n",
       "      <th>0</th>\n",
       "      <td>0x02b7418b821b2edeeb2baa23ba1580566b4b0e43</td>\n",
       "      <td>semi_detached_house</td>\n",
       "      <td>NaN</td>\n",
       "      <td>3.0</td>\n",
       "      <td>NaN</td>\n",
       "      <td>NaN</td>\n",
       "      <td>NaN</td>\n",
       "      <td>NaN</td>\n",
       "      <td>NaN</td>\n",
       "      <td>NaN</td>\n",
       "      <td>NaN</td>\n",
       "      <td>NaN</td>\n",
       "      <td>NaN</td>\n",
       "      <td>NaN</td>\n",
       "      <td>NaN</td>\n",
       "      <td>NaN</td>\n",
       "      <td>NaN</td>\n",
       "      <td>NaN</td>\n",
       "      <td>NaN</td>\n",
       "      <td>NaN</td>\n",
       "      <td>NaN</td>\n",
       "      <td>NaN</td>\n",
       "      <td>NaN</td>\n",
       "      <td>NaN</td>\n",
       "    </tr>\n",
       "    <tr>\n",
       "      <th>1</th>\n",
       "      <td>0xaf32b2b497e9eb9c3f3de907aedc6a7914a11f41</td>\n",
       "      <td>terraced_house</td>\n",
       "      <td>NaN</td>\n",
       "      <td>2.0</td>\n",
       "      <td>NaN</td>\n",
       "      <td>NaN</td>\n",
       "      <td>NaN</td>\n",
       "      <td>NaN</td>\n",
       "      <td>NaN</td>\n",
       "      <td>NaN</td>\n",
       "      <td>NaN</td>\n",
       "      <td>NaN</td>\n",
       "      <td>NaN</td>\n",
       "      <td>NaN</td>\n",
       "      <td>NaN</td>\n",
       "      <td>NaN</td>\n",
       "      <td>NaN</td>\n",
       "      <td>NaN</td>\n",
       "      <td>NaN</td>\n",
       "      <td>NaN</td>\n",
       "      <td>NaN</td>\n",
       "      <td>NaN</td>\n",
       "      <td>NaN</td>\n",
       "      <td>NaN</td>\n",
       "    </tr>\n",
       "    <tr>\n",
       "      <th>2</th>\n",
       "      <td>0xdd45ab28a7a40eadc04607d6da42e5ad923b1339</td>\n",
       "      <td>semi_detached_house</td>\n",
       "      <td>NaN</td>\n",
       "      <td>NaN</td>\n",
       "      <td>NaN</td>\n",
       "      <td>NaN</td>\n",
       "      <td>NaN</td>\n",
       "      <td>NaN</td>\n",
       "      <td>NaN</td>\n",
       "      <td>NaN</td>\n",
       "      <td>NaN</td>\n",
       "      <td>NaN</td>\n",
       "      <td>NaN</td>\n",
       "      <td>NaN</td>\n",
       "      <td>NaN</td>\n",
       "      <td>NaN</td>\n",
       "      <td>NaN</td>\n",
       "      <td>NaN</td>\n",
       "      <td>NaN</td>\n",
       "      <td>NaN</td>\n",
       "      <td>NaN</td>\n",
       "      <td>NaN</td>\n",
       "      <td>NaN</td>\n",
       "      <td>NaN</td>\n",
       "    </tr>\n",
       "    <tr>\n",
       "      <th>3</th>\n",
       "      <td>0x2b538a5ebfc3780aef25227267063cb6410d943b</td>\n",
       "      <td>detached_house</td>\n",
       "      <td>NaN</td>\n",
       "      <td>4.0</td>\n",
       "      <td>NaN</td>\n",
       "      <td>NaN</td>\n",
       "      <td>NaN</td>\n",
       "      <td>NaN</td>\n",
       "      <td>NaN</td>\n",
       "      <td>NaN</td>\n",
       "      <td>NaN</td>\n",
       "      <td>NaN</td>\n",
       "      <td>NaN</td>\n",
       "      <td>NaN</td>\n",
       "      <td>NaN</td>\n",
       "      <td>NaN</td>\n",
       "      <td>NaN</td>\n",
       "      <td>NaN</td>\n",
       "      <td>NaN</td>\n",
       "      <td>NaN</td>\n",
       "      <td>NaN</td>\n",
       "      <td>NaN</td>\n",
       "      <td>NaN</td>\n",
       "      <td>NaN</td>\n",
       "    </tr>\n",
       "    <tr>\n",
       "      <th>4</th>\n",
       "      <td>0xee032ed498c9e99a4c65e0f39896fb30e513c6b7</td>\n",
       "      <td>NaN</td>\n",
       "      <td>NaN</td>\n",
       "      <td>NaN</td>\n",
       "      <td>NaN</td>\n",
       "      <td>NaN</td>\n",
       "      <td>NaN</td>\n",
       "      <td>NaN</td>\n",
       "      <td>NaN</td>\n",
       "      <td>NaN</td>\n",
       "      <td>NaN</td>\n",
       "      <td>NaN</td>\n",
       "      <td>NaN</td>\n",
       "      <td>NaN</td>\n",
       "      <td>NaN</td>\n",
       "      <td>NaN</td>\n",
       "      <td>NaN</td>\n",
       "      <td>NaN</td>\n",
       "      <td>NaN</td>\n",
       "      <td>NaN</td>\n",
       "      <td>NaN</td>\n",
       "      <td>NaN</td>\n",
       "      <td>NaN</td>\n",
       "      <td>NaN</td>\n",
       "    </tr>\n",
       "    <tr>\n",
       "      <th>...</th>\n",
       "      <td>...</td>\n",
       "      <td>...</td>\n",
       "      <td>...</td>\n",
       "      <td>...</td>\n",
       "      <td>...</td>\n",
       "      <td>...</td>\n",
       "      <td>...</td>\n",
       "      <td>...</td>\n",
       "      <td>...</td>\n",
       "      <td>...</td>\n",
       "      <td>...</td>\n",
       "      <td>...</td>\n",
       "      <td>...</td>\n",
       "      <td>...</td>\n",
       "      <td>...</td>\n",
       "      <td>...</td>\n",
       "      <td>...</td>\n",
       "      <td>...</td>\n",
       "      <td>...</td>\n",
       "      <td>...</td>\n",
       "      <td>...</td>\n",
       "      <td>...</td>\n",
       "      <td>...</td>\n",
       "      <td>...</td>\n",
       "    </tr>\n",
       "    <tr>\n",
       "      <th>2138</th>\n",
       "      <td>0xb9c600842cb2d195d461d675f2758ddbf5bb45bb</td>\n",
       "      <td>terraced_house</td>\n",
       "      <td>2.0</td>\n",
       "      <td>2.0</td>\n",
       "      <td>gas</td>\n",
       "      <td>gas</td>\n",
       "      <td>old</td>\n",
       "      <td>y</td>\n",
       "      <td>n</td>\n",
       "      <td>18_to_20</td>\n",
       "      <td>75_to_100</td>\n",
       "      <td>0.0</td>\n",
       "      <td>0.0</td>\n",
       "      <td>1.0</td>\n",
       "      <td>0.0</td>\n",
       "      <td>0.0</td>\n",
       "      <td>1.0</td>\n",
       "      <td>1.0</td>\n",
       "      <td>0.0</td>\n",
       "      <td>2.0</td>\n",
       "      <td>1.0</td>\n",
       "      <td>1.0</td>\n",
       "      <td>0.0</td>\n",
       "      <td>1.0</td>\n",
       "    </tr>\n",
       "    <tr>\n",
       "      <th>2139</th>\n",
       "      <td>0x429e76a41f3141d9e62c4975e6b5df303cb45e64</td>\n",
       "      <td>bungalow</td>\n",
       "      <td>NaN</td>\n",
       "      <td>3.0</td>\n",
       "      <td>NaN</td>\n",
       "      <td>NaN</td>\n",
       "      <td>NaN</td>\n",
       "      <td>NaN</td>\n",
       "      <td>NaN</td>\n",
       "      <td>NaN</td>\n",
       "      <td>NaN</td>\n",
       "      <td>NaN</td>\n",
       "      <td>NaN</td>\n",
       "      <td>NaN</td>\n",
       "      <td>NaN</td>\n",
       "      <td>NaN</td>\n",
       "      <td>NaN</td>\n",
       "      <td>NaN</td>\n",
       "      <td>NaN</td>\n",
       "      <td>NaN</td>\n",
       "      <td>NaN</td>\n",
       "      <td>NaN</td>\n",
       "      <td>NaN</td>\n",
       "      <td>NaN</td>\n",
       "    </tr>\n",
       "    <tr>\n",
       "      <th>2140</th>\n",
       "      <td>0x65fbd9ba598e703d742a32058ea2b323fe4c1fca</td>\n",
       "      <td>NaN</td>\n",
       "      <td>NaN</td>\n",
       "      <td>NaN</td>\n",
       "      <td>NaN</td>\n",
       "      <td>NaN</td>\n",
       "      <td>NaN</td>\n",
       "      <td>NaN</td>\n",
       "      <td>NaN</td>\n",
       "      <td>NaN</td>\n",
       "      <td>NaN</td>\n",
       "      <td>NaN</td>\n",
       "      <td>NaN</td>\n",
       "      <td>NaN</td>\n",
       "      <td>NaN</td>\n",
       "      <td>NaN</td>\n",
       "      <td>NaN</td>\n",
       "      <td>NaN</td>\n",
       "      <td>NaN</td>\n",
       "      <td>NaN</td>\n",
       "      <td>NaN</td>\n",
       "      <td>NaN</td>\n",
       "      <td>NaN</td>\n",
       "      <td>NaN</td>\n",
       "    </tr>\n",
       "    <tr>\n",
       "      <th>2141</th>\n",
       "      <td>0x101f2dc409b3b95d2bb08ebe5d282f54317e3f8c</td>\n",
       "      <td>bungalow</td>\n",
       "      <td>NaN</td>\n",
       "      <td>4.0</td>\n",
       "      <td>NaN</td>\n",
       "      <td>NaN</td>\n",
       "      <td>NaN</td>\n",
       "      <td>NaN</td>\n",
       "      <td>NaN</td>\n",
       "      <td>NaN</td>\n",
       "      <td>NaN</td>\n",
       "      <td>NaN</td>\n",
       "      <td>NaN</td>\n",
       "      <td>NaN</td>\n",
       "      <td>NaN</td>\n",
       "      <td>NaN</td>\n",
       "      <td>NaN</td>\n",
       "      <td>NaN</td>\n",
       "      <td>NaN</td>\n",
       "      <td>NaN</td>\n",
       "      <td>NaN</td>\n",
       "      <td>NaN</td>\n",
       "      <td>NaN</td>\n",
       "      <td>NaN</td>\n",
       "    </tr>\n",
       "    <tr>\n",
       "      <th>2142</th>\n",
       "      <td>0x9ad41b18c2be3a845acb599af1dc4570feb88489</td>\n",
       "      <td>bungalow</td>\n",
       "      <td>NaN</td>\n",
       "      <td>3.0</td>\n",
       "      <td>NaN</td>\n",
       "      <td>NaN</td>\n",
       "      <td>NaN</td>\n",
       "      <td>NaN</td>\n",
       "      <td>NaN</td>\n",
       "      <td>NaN</td>\n",
       "      <td>NaN</td>\n",
       "      <td>NaN</td>\n",
       "      <td>NaN</td>\n",
       "      <td>NaN</td>\n",
       "      <td>NaN</td>\n",
       "      <td>NaN</td>\n",
       "      <td>NaN</td>\n",
       "      <td>NaN</td>\n",
       "      <td>NaN</td>\n",
       "      <td>NaN</td>\n",
       "      <td>NaN</td>\n",
       "      <td>NaN</td>\n",
       "      <td>NaN</td>\n",
       "      <td>NaN</td>\n",
       "    </tr>\n",
       "  </tbody>\n",
       "</table>\n",
       "<p>2143 rows × 24 columns</p>\n",
       "</div>"
      ],
      "text/plain": [
       "                                        meter_id        dwelling_type  \\\n",
       "0     0x02b7418b821b2edeeb2baa23ba1580566b4b0e43  semi_detached_house   \n",
       "1     0xaf32b2b497e9eb9c3f3de907aedc6a7914a11f41       terraced_house   \n",
       "2     0xdd45ab28a7a40eadc04607d6da42e5ad923b1339  semi_detached_house   \n",
       "3     0x2b538a5ebfc3780aef25227267063cb6410d943b       detached_house   \n",
       "4     0xee032ed498c9e99a4c65e0f39896fb30e513c6b7                  NaN   \n",
       "...                                          ...                  ...   \n",
       "2138  0xb9c600842cb2d195d461d675f2758ddbf5bb45bb       terraced_house   \n",
       "2139  0x429e76a41f3141d9e62c4975e6b5df303cb45e64             bungalow   \n",
       "2140  0x65fbd9ba598e703d742a32058ea2b323fe4c1fca                  NaN   \n",
       "2141  0x101f2dc409b3b95d2bb08ebe5d282f54317e3f8c             bungalow   \n",
       "2142  0x9ad41b18c2be3a845acb599af1dc4570feb88489             bungalow   \n",
       "\n",
       "      num_occupants  num_bedrooms heating_fuel hot_water_fuel boiler_age  \\\n",
       "0               NaN           3.0          NaN            NaN        NaN   \n",
       "1               NaN           2.0          NaN            NaN        NaN   \n",
       "2               NaN           NaN          NaN            NaN        NaN   \n",
       "3               NaN           4.0          NaN            NaN        NaN   \n",
       "4               NaN           NaN          NaN            NaN        NaN   \n",
       "...             ...           ...          ...            ...        ...   \n",
       "2138            2.0           2.0          gas            gas        old   \n",
       "2139            NaN           3.0          NaN            NaN        NaN   \n",
       "2140            NaN           NaN          NaN            NaN        NaN   \n",
       "2141            NaN           4.0          NaN            NaN        NaN   \n",
       "2142            NaN           3.0          NaN            NaN        NaN   \n",
       "\n",
       "     loft_insulation wall_insulation heating_temperature  \\\n",
       "0                NaN             NaN                 NaN   \n",
       "1                NaN             NaN                 NaN   \n",
       "2                NaN             NaN                 NaN   \n",
       "3                NaN             NaN                 NaN   \n",
       "4                NaN             NaN                 NaN   \n",
       "...              ...             ...                 ...   \n",
       "2138               y               n            18_to_20   \n",
       "2139             NaN             NaN                 NaN   \n",
       "2140             NaN             NaN                 NaN   \n",
       "2141             NaN             NaN                 NaN   \n",
       "2142             NaN             NaN                 NaN   \n",
       "\n",
       "     efficient_lighting_percentage  dishwasher  freezer  fridge_freezer  \\\n",
       "0                              NaN         NaN      NaN             NaN   \n",
       "1                              NaN         NaN      NaN             NaN   \n",
       "2                              NaN         NaN      NaN             NaN   \n",
       "3                              NaN         NaN      NaN             NaN   \n",
       "4                              NaN         NaN      NaN             NaN   \n",
       "...                            ...         ...      ...             ...   \n",
       "2138                     75_to_100         0.0      0.0             1.0   \n",
       "2139                           NaN         NaN      NaN             NaN   \n",
       "2140                           NaN         NaN      NaN             NaN   \n",
       "2141                           NaN         NaN      NaN             NaN   \n",
       "2142                           NaN         NaN      NaN             NaN   \n",
       "\n",
       "      refrigerator  tumble_dryer  washing_machine  game_console  laptop   pc  \\\n",
       "0              NaN           NaN              NaN           NaN     NaN  NaN   \n",
       "1              NaN           NaN              NaN           NaN     NaN  NaN   \n",
       "2              NaN           NaN              NaN           NaN     NaN  NaN   \n",
       "3              NaN           NaN              NaN           NaN     NaN  NaN   \n",
       "4              NaN           NaN              NaN           NaN     NaN  NaN   \n",
       "...            ...           ...              ...           ...     ...  ...   \n",
       "2138           0.0           0.0              1.0           1.0     0.0  2.0   \n",
       "2139           NaN           NaN              NaN           NaN     NaN  NaN   \n",
       "2140           NaN           NaN              NaN           NaN     NaN  NaN   \n",
       "2141           NaN           NaN              NaN           NaN     NaN  NaN   \n",
       "2142           NaN           NaN              NaN           NaN     NaN  NaN   \n",
       "\n",
       "      router  set_top_box  tablet   tv  \n",
       "0        NaN          NaN     NaN  NaN  \n",
       "1        NaN          NaN     NaN  NaN  \n",
       "2        NaN          NaN     NaN  NaN  \n",
       "3        NaN          NaN     NaN  NaN  \n",
       "4        NaN          NaN     NaN  NaN  \n",
       "...      ...          ...     ...  ...  \n",
       "2138     1.0          1.0     0.0  1.0  \n",
       "2139     NaN          NaN     NaN  NaN  \n",
       "2140     NaN          NaN     NaN  NaN  \n",
       "2141     NaN          NaN     NaN  NaN  \n",
       "2142     NaN          NaN     NaN  NaN  \n",
       "\n",
       "[2143 rows x 24 columns]"
      ]
     },
     "execution_count": 162,
     "metadata": {},
     "output_type": "execute_result"
    }
   ],
   "source": [
    "# inspecting the values of the dataframe\n",
    "df_info"
   ]
  },
  {
   "cell_type": "code",
   "execution_count": 163,
   "metadata": {},
   "outputs": [
    {
     "data": {
      "text/plain": [
       "(2143, 24)"
      ]
     },
     "execution_count": 163,
     "metadata": {},
     "output_type": "execute_result"
    }
   ],
   "source": [
    "# inspecting the shape of the dataframe\n",
    "df_info.shape"
   ]
  },
  {
   "cell_type": "markdown",
   "metadata": {},
   "source": [
    "#### Conclusions to be drawn\n",
    "\n",
    "* Can see that df_info only has entries for 2140 of the 3248 possible rows\n",
    "* Must add the missing rows filled with NaN\n",
    "    * Done in the EDA on AddInfo section where we simply join based on meter_id"
   ]
  },
  {
   "cell_type": "markdown",
   "metadata": {},
   "source": [
    "# EDA on consumption"
   ]
  },
  {
   "cell_type": "code",
   "execution_count": 164,
   "metadata": {},
   "outputs": [
    {
     "name": "stdout",
     "output_type": "stream",
     "text": [
      "29378388\n"
     ]
    }
   ],
   "source": [
    "# how many missing values?\n",
    "print(df_energy.isnull().sum().sum())"
   ]
  },
  {
   "cell_type": "markdown",
   "metadata": {},
   "source": [
    "##### Conclusions:\n",
    "* Large number of missing values hence we must find a way to deal with that\n",
    "    * Will experiment with:\n",
    "        1. Imputing the missing values linearly\n",
    "        2. Dropping the missing values entirely and only using values we do have\n",
    "        3. just treating missing values as 0\n",
    "        \n",
    "## Function for resampling into different time periods (will need this a lot)\n",
    "\n",
    "\n",
    "* df_energy = the dataframe we are wanting to reschedule up\n",
    "* file_name = name of file we will save it as\n",
    "* resample_size = \"D\" or \"M\" or \"W\" corresponding to what period we are resampling into\n",
    "* acceptNan = true if we want to include nans in our sums, false if we want to set entire column to nan if it includes a nan"
   ]
  },
  {
   "cell_type": "code",
   "execution_count": 165,
   "metadata": {},
   "outputs": [],
   "source": [
    "def resample_to_different_time(df_energy, file_name, resample_size, acceptNaN):\n",
    "    meter_id=df_energy[\"meter_id\"]\n",
    "    df_energy_new = pd.DataFrame(columns=[\"meter_id\"])\n",
    "    df_energy_new[\"meter_id\"] = meter_id\n",
    "\n",
    "    #for date of the resample size in the range of dates\n",
    "    for new_sample in tqdm(pd.date_range(datetime(2017, 1, 1), datetime(2017, 12, 31), freq = resample_size),position=0):\n",
    "        \n",
    "        #get this columns name as a string\n",
    "        if(resample_size==\"M\"):\n",
    "            columnName = str(new_sample.date())[:7]\n",
    "        elif(resample_size==\"D\" or resample_size==\"W\"):\n",
    "            columnName = str(new_sample.date())\n",
    "        else:\n",
    "            return\n",
    "\n",
    "        #if this isn't a week we can simply take those that start with the new columnName\n",
    "        if(resample_size!=\"W\"):\n",
    "            #get all columns that relate to this new sample\n",
    "            columns = [i for i in df_energy.columns.values[1:] if i.startswith(columnName)]\n",
    "            \n",
    "        #if it is a week be a bit more fancy find the days in the range of this week\n",
    "        else:\n",
    "            columns = []\n",
    "            #for each day in range of this week\n",
    "            for weeks_day in pd.date_range(new_sample, new_sample+timedelta(days=6), freq=\"D\"):\n",
    "                #get todays name as a string\n",
    "                dayName = str(weeks_day.date())\n",
    "                #get all columns that relate to this day\n",
    "                dayColumns = [i for i in df_energy.columns.values[1:] if i.startswith(dayName)]\n",
    "                #add it to the week total\n",
    "                columns = columns+dayColumns\n",
    "                \n",
    "        #if we do not want to accept nans in our new columns\n",
    "        if(acceptNaN==False):\n",
    "            #get series of boolean values saying if each row of these columns contain a null\n",
    "            series_bool_contains_nulls = df_energy[columns].apply(lambda row: row.isnull().values.any(), axis=1)\n",
    "            \n",
    "            #for each rows boolean contains nulls truth value\n",
    "            for row_id in tqdm(range(len(series_bool_contains_nulls)), position=1, leave=False):\n",
    "                #this rows corresponding truth value for whether or not it contains nulls\n",
    "                bool_contains_null=series_bool_contains_nulls[row_id]\n",
    "                \n",
    "                #if this row contains nulls set it's corresponding cell in the new column to null\n",
    "                if(bool_contains_null==True):\n",
    "                    print(columnName,str(meter_id[row_id]),\"(\",str(row_id),\") contains a null, setting this column to null\")\n",
    "                    df_energy_new.at[row_id,columnName]=np.nan\n",
    "                #else this row doesn't contain nulls set it's corresponding cell in the new column to the sum\n",
    "                else:\n",
    "                    df_energy_new.at[row_id,columnName]=df_energy[columns].iloc[row_id].sum()\n",
    "\n",
    "        #else we don't care if it contains nans or not so just sum up these columns to our new day    \n",
    "        else:\n",
    "            #sum these up into a value for the new sample size\n",
    "            df_energy_new[columnName] = df_energy[columns].sum(axis=1)\n",
    "    \n",
    "    #if we leave file name blank we don't want to save\n",
    "    if(file_name!=\"\"):\n",
    "        #saving the dataframe\n",
    "        if(os.path.exists(f\"../Data/Preprocessed_Data/{file_name}.pkl\")==False):\n",
    "            df_energy_new.to_pickle(f\"../Data/Preprocessed_Data/{file_name}.pkl\")\n",
    "    return df_energy_new"
   ]
  },
  {
   "cell_type": "markdown",
   "metadata": {},
   "source": [
    "## Resampling from 30 min intervals into days \n",
    "* Resmapling into days as it'll be better suited for our RNN based models to learn from\n",
    "    * These are what we will actually predict \n",
    "        * Eg will train on to use the prior 14 time steps (days) to predict the next 7 time steps (days)\n",
    "            * Then will iteratively use those predictions to prediction the next 7 days: until we have done all 365 and then aggregate those predictions into the monthly sums ready for submission\n",
    "            \n",
    "            \n",
    "* TODO : Experiment on if I should accept NaNs or not currently set to True\n",
    "    * Ended up setting to false with daily energy that isn't interpolated will take a hard stance that anything that has missing is considered unreliable and thus will just not consider it at all"
   ]
  },
  {
   "cell_type": "code",
   "execution_count": 166,
   "metadata": {},
   "outputs": [
    {
     "data": {
      "application/vnd.jupyter.widget-view+json": {
       "model_id": "65b7f3b4ea3749b0bfc27647f4392f0e",
       "version_major": 2,
       "version_minor": 0
      },
      "text/plain": [
       "  0%|          | 0/365 [00:00<?, ?it/s]"
      ]
     },
     "metadata": {},
     "output_type": "display_data"
    },
    {
     "data": {
      "application/vnd.jupyter.widget-view+json": {
       "model_id": "",
       "version_major": 2,
       "version_minor": 0
      },
      "text/plain": [
       "  0%|          | 0/3248 [00:00<?, ?it/s]"
      ]
     },
     "metadata": {},
     "output_type": "display_data"
    },
    {
     "data": {
      "application/vnd.jupyter.widget-view+json": {
       "model_id": "",
       "version_major": 2,
       "version_minor": 0
      },
      "text/plain": [
       "  0%|          | 0/3248 [00:00<?, ?it/s]"
      ]
     },
     "metadata": {},
     "output_type": "display_data"
    },
    {
     "data": {
      "application/vnd.jupyter.widget-view+json": {
       "model_id": "",
       "version_major": 2,
       "version_minor": 0
      },
      "text/plain": [
       "  0%|          | 0/3248 [00:00<?, ?it/s]"
      ]
     },
     "metadata": {},
     "output_type": "display_data"
    },
    {
     "data": {
      "application/vnd.jupyter.widget-view+json": {
       "model_id": "",
       "version_major": 2,
       "version_minor": 0
      },
      "text/plain": [
       "  0%|          | 0/3248 [00:00<?, ?it/s]"
      ]
     },
     "metadata": {},
     "output_type": "display_data"
    },
    {
     "data": {
      "application/vnd.jupyter.widget-view+json": {
       "model_id": "",
       "version_major": 2,
       "version_minor": 0
      },
      "text/plain": [
       "  0%|          | 0/3248 [00:00<?, ?it/s]"
      ]
     },
     "metadata": {},
     "output_type": "display_data"
    },
    {
     "data": {
      "application/vnd.jupyter.widget-view+json": {
       "model_id": "",
       "version_major": 2,
       "version_minor": 0
      },
      "text/plain": [
       "  0%|          | 0/3248 [00:00<?, ?it/s]"
      ]
     },
     "metadata": {},
     "output_type": "display_data"
    },
    {
     "data": {
      "application/vnd.jupyter.widget-view+json": {
       "model_id": "",
       "version_major": 2,
       "version_minor": 0
      },
      "text/plain": [
       "  0%|          | 0/3248 [00:00<?, ?it/s]"
      ]
     },
     "metadata": {},
     "output_type": "display_data"
    },
    {
     "data": {
      "application/vnd.jupyter.widget-view+json": {
       "model_id": "",
       "version_major": 2,
       "version_minor": 0
      },
      "text/plain": [
       "  0%|          | 0/3248 [00:00<?, ?it/s]"
      ]
     },
     "metadata": {},
     "output_type": "display_data"
    },
    {
     "data": {
      "application/vnd.jupyter.widget-view+json": {
       "model_id": "",
       "version_major": 2,
       "version_minor": 0
      },
      "text/plain": [
       "  0%|          | 0/3248 [00:00<?, ?it/s]"
      ]
     },
     "metadata": {},
     "output_type": "display_data"
    },
    {
     "data": {
      "application/vnd.jupyter.widget-view+json": {
       "model_id": "",
       "version_major": 2,
       "version_minor": 0
      },
      "text/plain": [
       "  0%|          | 0/3248 [00:00<?, ?it/s]"
      ]
     },
     "metadata": {},
     "output_type": "display_data"
    },
    {
     "data": {
      "application/vnd.jupyter.widget-view+json": {
       "model_id": "",
       "version_major": 2,
       "version_minor": 0
      },
      "text/plain": [
       "  0%|          | 0/3248 [00:00<?, ?it/s]"
      ]
     },
     "metadata": {},
     "output_type": "display_data"
    },
    {
     "data": {
      "application/vnd.jupyter.widget-view+json": {
       "model_id": "",
       "version_major": 2,
       "version_minor": 0
      },
      "text/plain": [
       "  0%|          | 0/3248 [00:00<?, ?it/s]"
      ]
     },
     "metadata": {},
     "output_type": "display_data"
    },
    {
     "data": {
      "application/vnd.jupyter.widget-view+json": {
       "model_id": "",
       "version_major": 2,
       "version_minor": 0
      },
      "text/plain": [
       "  0%|          | 0/3248 [00:00<?, ?it/s]"
      ]
     },
     "metadata": {},
     "output_type": "display_data"
    },
    {
     "data": {
      "application/vnd.jupyter.widget-view+json": {
       "model_id": "",
       "version_major": 2,
       "version_minor": 0
      },
      "text/plain": [
       "  0%|          | 0/3248 [00:00<?, ?it/s]"
      ]
     },
     "metadata": {},
     "output_type": "display_data"
    },
    {
     "data": {
      "application/vnd.jupyter.widget-view+json": {
       "model_id": "",
       "version_major": 2,
       "version_minor": 0
      },
      "text/plain": [
       "  0%|          | 0/3248 [00:00<?, ?it/s]"
      ]
     },
     "metadata": {},
     "output_type": "display_data"
    },
    {
     "data": {
      "application/vnd.jupyter.widget-view+json": {
       "model_id": "",
       "version_major": 2,
       "version_minor": 0
      },
      "text/plain": [
       "  0%|          | 0/3248 [00:00<?, ?it/s]"
      ]
     },
     "metadata": {},
     "output_type": "display_data"
    },
    {
     "data": {
      "application/vnd.jupyter.widget-view+json": {
       "model_id": "",
       "version_major": 2,
       "version_minor": 0
      },
      "text/plain": [
       "  0%|          | 0/3248 [00:00<?, ?it/s]"
      ]
     },
     "metadata": {},
     "output_type": "display_data"
    },
    {
     "data": {
      "application/vnd.jupyter.widget-view+json": {
       "model_id": "",
       "version_major": 2,
       "version_minor": 0
      },
      "text/plain": [
       "  0%|          | 0/3248 [00:00<?, ?it/s]"
      ]
     },
     "metadata": {},
     "output_type": "display_data"
    },
    {
     "data": {
      "application/vnd.jupyter.widget-view+json": {
       "model_id": "",
       "version_major": 2,
       "version_minor": 0
      },
      "text/plain": [
       "  0%|          | 0/3248 [00:00<?, ?it/s]"
      ]
     },
     "metadata": {},
     "output_type": "display_data"
    },
    {
     "data": {
      "application/vnd.jupyter.widget-view+json": {
       "model_id": "",
       "version_major": 2,
       "version_minor": 0
      },
      "text/plain": [
       "  0%|          | 0/3248 [00:00<?, ?it/s]"
      ]
     },
     "metadata": {},
     "output_type": "display_data"
    },
    {
     "data": {
      "application/vnd.jupyter.widget-view+json": {
       "model_id": "",
       "version_major": 2,
       "version_minor": 0
      },
      "text/plain": [
       "  0%|          | 0/3248 [00:00<?, ?it/s]"
      ]
     },
     "metadata": {},
     "output_type": "display_data"
    },
    {
     "data": {
      "application/vnd.jupyter.widget-view+json": {
       "model_id": "",
       "version_major": 2,
       "version_minor": 0
      },
      "text/plain": [
       "  0%|          | 0/3248 [00:00<?, ?it/s]"
      ]
     },
     "metadata": {},
     "output_type": "display_data"
    },
    {
     "data": {
      "application/vnd.jupyter.widget-view+json": {
       "model_id": "",
       "version_major": 2,
       "version_minor": 0
      },
      "text/plain": [
       "  0%|          | 0/3248 [00:00<?, ?it/s]"
      ]
     },
     "metadata": {},
     "output_type": "display_data"
    },
    {
     "data": {
      "application/vnd.jupyter.widget-view+json": {
       "model_id": "",
       "version_major": 2,
       "version_minor": 0
      },
      "text/plain": [
       "  0%|          | 0/3248 [00:00<?, ?it/s]"
      ]
     },
     "metadata": {},
     "output_type": "display_data"
    },
    {
     "data": {
      "application/vnd.jupyter.widget-view+json": {
       "model_id": "",
       "version_major": 2,
       "version_minor": 0
      },
      "text/plain": [
       "  0%|          | 0/3248 [00:00<?, ?it/s]"
      ]
     },
     "metadata": {},
     "output_type": "display_data"
    },
    {
     "data": {
      "application/vnd.jupyter.widget-view+json": {
       "model_id": "",
       "version_major": 2,
       "version_minor": 0
      },
      "text/plain": [
       "  0%|          | 0/3248 [00:00<?, ?it/s]"
      ]
     },
     "metadata": {},
     "output_type": "display_data"
    },
    {
     "data": {
      "application/vnd.jupyter.widget-view+json": {
       "model_id": "",
       "version_major": 2,
       "version_minor": 0
      },
      "text/plain": [
       "  0%|          | 0/3248 [00:00<?, ?it/s]"
      ]
     },
     "metadata": {},
     "output_type": "display_data"
    },
    {
     "data": {
      "application/vnd.jupyter.widget-view+json": {
       "model_id": "",
       "version_major": 2,
       "version_minor": 0
      },
      "text/plain": [
       "  0%|          | 0/3248 [00:00<?, ?it/s]"
      ]
     },
     "metadata": {},
     "output_type": "display_data"
    },
    {
     "data": {
      "application/vnd.jupyter.widget-view+json": {
       "model_id": "",
       "version_major": 2,
       "version_minor": 0
      },
      "text/plain": [
       "  0%|          | 0/3248 [00:00<?, ?it/s]"
      ]
     },
     "metadata": {},
     "output_type": "display_data"
    },
    {
     "data": {
      "application/vnd.jupyter.widget-view+json": {
       "model_id": "",
       "version_major": 2,
       "version_minor": 0
      },
      "text/plain": [
       "  0%|          | 0/3248 [00:00<?, ?it/s]"
      ]
     },
     "metadata": {},
     "output_type": "display_data"
    },
    {
     "data": {
      "application/vnd.jupyter.widget-view+json": {
       "model_id": "",
       "version_major": 2,
       "version_minor": 0
      },
      "text/plain": [
       "  0%|          | 0/3248 [00:00<?, ?it/s]"
      ]
     },
     "metadata": {},
     "output_type": "display_data"
    },
    {
     "data": {
      "application/vnd.jupyter.widget-view+json": {
       "model_id": "",
       "version_major": 2,
       "version_minor": 0
      },
      "text/plain": [
       "  0%|          | 0/3248 [00:00<?, ?it/s]"
      ]
     },
     "metadata": {},
     "output_type": "display_data"
    },
    {
     "data": {
      "application/vnd.jupyter.widget-view+json": {
       "model_id": "",
       "version_major": 2,
       "version_minor": 0
      },
      "text/plain": [
       "  0%|          | 0/3248 [00:00<?, ?it/s]"
      ]
     },
     "metadata": {},
     "output_type": "display_data"
    },
    {
     "data": {
      "application/vnd.jupyter.widget-view+json": {
       "model_id": "",
       "version_major": 2,
       "version_minor": 0
      },
      "text/plain": [
       "  0%|          | 0/3248 [00:00<?, ?it/s]"
      ]
     },
     "metadata": {},
     "output_type": "display_data"
    },
    {
     "data": {
      "application/vnd.jupyter.widget-view+json": {
       "model_id": "",
       "version_major": 2,
       "version_minor": 0
      },
      "text/plain": [
       "  0%|          | 0/3248 [00:00<?, ?it/s]"
      ]
     },
     "metadata": {},
     "output_type": "display_data"
    },
    {
     "data": {
      "application/vnd.jupyter.widget-view+json": {
       "model_id": "",
       "version_major": 2,
       "version_minor": 0
      },
      "text/plain": [
       "  0%|          | 0/3248 [00:00<?, ?it/s]"
      ]
     },
     "metadata": {},
     "output_type": "display_data"
    },
    {
     "data": {
      "application/vnd.jupyter.widget-view+json": {
       "model_id": "",
       "version_major": 2,
       "version_minor": 0
      },
      "text/plain": [
       "  0%|          | 0/3248 [00:00<?, ?it/s]"
      ]
     },
     "metadata": {},
     "output_type": "display_data"
    },
    {
     "data": {
      "application/vnd.jupyter.widget-view+json": {
       "model_id": "",
       "version_major": 2,
       "version_minor": 0
      },
      "text/plain": [
       "  0%|          | 0/3248 [00:00<?, ?it/s]"
      ]
     },
     "metadata": {},
     "output_type": "display_data"
    },
    {
     "data": {
      "application/vnd.jupyter.widget-view+json": {
       "model_id": "",
       "version_major": 2,
       "version_minor": 0
      },
      "text/plain": [
       "  0%|          | 0/3248 [00:00<?, ?it/s]"
      ]
     },
     "metadata": {},
     "output_type": "display_data"
    },
    {
     "data": {
      "application/vnd.jupyter.widget-view+json": {
       "model_id": "",
       "version_major": 2,
       "version_minor": 0
      },
      "text/plain": [
       "  0%|          | 0/3248 [00:00<?, ?it/s]"
      ]
     },
     "metadata": {},
     "output_type": "display_data"
    },
    {
     "data": {
      "application/vnd.jupyter.widget-view+json": {
       "model_id": "",
       "version_major": 2,
       "version_minor": 0
      },
      "text/plain": [
       "  0%|          | 0/3248 [00:00<?, ?it/s]"
      ]
     },
     "metadata": {},
     "output_type": "display_data"
    },
    {
     "data": {
      "application/vnd.jupyter.widget-view+json": {
       "model_id": "",
       "version_major": 2,
       "version_minor": 0
      },
      "text/plain": [
       "  0%|          | 0/3248 [00:00<?, ?it/s]"
      ]
     },
     "metadata": {},
     "output_type": "display_data"
    },
    {
     "data": {
      "application/vnd.jupyter.widget-view+json": {
       "model_id": "",
       "version_major": 2,
       "version_minor": 0
      },
      "text/plain": [
       "  0%|          | 0/3248 [00:00<?, ?it/s]"
      ]
     },
     "metadata": {},
     "output_type": "display_data"
    },
    {
     "data": {
      "application/vnd.jupyter.widget-view+json": {
       "model_id": "",
       "version_major": 2,
       "version_minor": 0
      },
      "text/plain": [
       "  0%|          | 0/3248 [00:00<?, ?it/s]"
      ]
     },
     "metadata": {},
     "output_type": "display_data"
    },
    {
     "data": {
      "application/vnd.jupyter.widget-view+json": {
       "model_id": "",
       "version_major": 2,
       "version_minor": 0
      },
      "text/plain": [
       "  0%|          | 0/3248 [00:00<?, ?it/s]"
      ]
     },
     "metadata": {},
     "output_type": "display_data"
    },
    {
     "data": {
      "application/vnd.jupyter.widget-view+json": {
       "model_id": "",
       "version_major": 2,
       "version_minor": 0
      },
      "text/plain": [
       "  0%|          | 0/3248 [00:00<?, ?it/s]"
      ]
     },
     "metadata": {},
     "output_type": "display_data"
    },
    {
     "data": {
      "application/vnd.jupyter.widget-view+json": {
       "model_id": "",
       "version_major": 2,
       "version_minor": 0
      },
      "text/plain": [
       "  0%|          | 0/3248 [00:00<?, ?it/s]"
      ]
     },
     "metadata": {},
     "output_type": "display_data"
    },
    {
     "data": {
      "application/vnd.jupyter.widget-view+json": {
       "model_id": "",
       "version_major": 2,
       "version_minor": 0
      },
      "text/plain": [
       "  0%|          | 0/3248 [00:00<?, ?it/s]"
      ]
     },
     "metadata": {},
     "output_type": "display_data"
    },
    {
     "data": {
      "application/vnd.jupyter.widget-view+json": {
       "model_id": "",
       "version_major": 2,
       "version_minor": 0
      },
      "text/plain": [
       "  0%|          | 0/3248 [00:00<?, ?it/s]"
      ]
     },
     "metadata": {},
     "output_type": "display_data"
    },
    {
     "data": {
      "application/vnd.jupyter.widget-view+json": {
       "model_id": "",
       "version_major": 2,
       "version_minor": 0
      },
      "text/plain": [
       "  0%|          | 0/3248 [00:00<?, ?it/s]"
      ]
     },
     "metadata": {},
     "output_type": "display_data"
    },
    {
     "data": {
      "application/vnd.jupyter.widget-view+json": {
       "model_id": "",
       "version_major": 2,
       "version_minor": 0
      },
      "text/plain": [
       "  0%|          | 0/3248 [00:00<?, ?it/s]"
      ]
     },
     "metadata": {},
     "output_type": "display_data"
    },
    {
     "data": {
      "application/vnd.jupyter.widget-view+json": {
       "model_id": "",
       "version_major": 2,
       "version_minor": 0
      },
      "text/plain": [
       "  0%|          | 0/3248 [00:00<?, ?it/s]"
      ]
     },
     "metadata": {},
     "output_type": "display_data"
    },
    {
     "data": {
      "application/vnd.jupyter.widget-view+json": {
       "model_id": "",
       "version_major": 2,
       "version_minor": 0
      },
      "text/plain": [
       "  0%|          | 0/3248 [00:00<?, ?it/s]"
      ]
     },
     "metadata": {},
     "output_type": "display_data"
    },
    {
     "data": {
      "application/vnd.jupyter.widget-view+json": {
       "model_id": "",
       "version_major": 2,
       "version_minor": 0
      },
      "text/plain": [
       "  0%|          | 0/3248 [00:00<?, ?it/s]"
      ]
     },
     "metadata": {},
     "output_type": "display_data"
    },
    {
     "data": {
      "application/vnd.jupyter.widget-view+json": {
       "model_id": "",
       "version_major": 2,
       "version_minor": 0
      },
      "text/plain": [
       "  0%|          | 0/3248 [00:00<?, ?it/s]"
      ]
     },
     "metadata": {},
     "output_type": "display_data"
    },
    {
     "data": {
      "application/vnd.jupyter.widget-view+json": {
       "model_id": "",
       "version_major": 2,
       "version_minor": 0
      },
      "text/plain": [
       "  0%|          | 0/3248 [00:00<?, ?it/s]"
      ]
     },
     "metadata": {},
     "output_type": "display_data"
    },
    {
     "data": {
      "application/vnd.jupyter.widget-view+json": {
       "model_id": "",
       "version_major": 2,
       "version_minor": 0
      },
      "text/plain": [
       "  0%|          | 0/3248 [00:00<?, ?it/s]"
      ]
     },
     "metadata": {},
     "output_type": "display_data"
    },
    {
     "data": {
      "application/vnd.jupyter.widget-view+json": {
       "model_id": "",
       "version_major": 2,
       "version_minor": 0
      },
      "text/plain": [
       "  0%|          | 0/3248 [00:00<?, ?it/s]"
      ]
     },
     "metadata": {},
     "output_type": "display_data"
    },
    {
     "data": {
      "application/vnd.jupyter.widget-view+json": {
       "model_id": "",
       "version_major": 2,
       "version_minor": 0
      },
      "text/plain": [
       "  0%|          | 0/3248 [00:00<?, ?it/s]"
      ]
     },
     "metadata": {},
     "output_type": "display_data"
    },
    {
     "data": {
      "application/vnd.jupyter.widget-view+json": {
       "model_id": "",
       "version_major": 2,
       "version_minor": 0
      },
      "text/plain": [
       "  0%|          | 0/3248 [00:00<?, ?it/s]"
      ]
     },
     "metadata": {},
     "output_type": "display_data"
    },
    {
     "data": {
      "application/vnd.jupyter.widget-view+json": {
       "model_id": "",
       "version_major": 2,
       "version_minor": 0
      },
      "text/plain": [
       "  0%|          | 0/3248 [00:00<?, ?it/s]"
      ]
     },
     "metadata": {},
     "output_type": "display_data"
    },
    {
     "data": {
      "application/vnd.jupyter.widget-view+json": {
       "model_id": "",
       "version_major": 2,
       "version_minor": 0
      },
      "text/plain": [
       "  0%|          | 0/3248 [00:00<?, ?it/s]"
      ]
     },
     "metadata": {},
     "output_type": "display_data"
    },
    {
     "data": {
      "application/vnd.jupyter.widget-view+json": {
       "model_id": "",
       "version_major": 2,
       "version_minor": 0
      },
      "text/plain": [
       "  0%|          | 0/3248 [00:00<?, ?it/s]"
      ]
     },
     "metadata": {},
     "output_type": "display_data"
    },
    {
     "data": {
      "application/vnd.jupyter.widget-view+json": {
       "model_id": "",
       "version_major": 2,
       "version_minor": 0
      },
      "text/plain": [
       "  0%|          | 0/3248 [00:00<?, ?it/s]"
      ]
     },
     "metadata": {},
     "output_type": "display_data"
    },
    {
     "data": {
      "application/vnd.jupyter.widget-view+json": {
       "model_id": "",
       "version_major": 2,
       "version_minor": 0
      },
      "text/plain": [
       "  0%|          | 0/3248 [00:00<?, ?it/s]"
      ]
     },
     "metadata": {},
     "output_type": "display_data"
    },
    {
     "data": {
      "application/vnd.jupyter.widget-view+json": {
       "model_id": "",
       "version_major": 2,
       "version_minor": 0
      },
      "text/plain": [
       "  0%|          | 0/3248 [00:00<?, ?it/s]"
      ]
     },
     "metadata": {},
     "output_type": "display_data"
    },
    {
     "data": {
      "application/vnd.jupyter.widget-view+json": {
       "model_id": "",
       "version_major": 2,
       "version_minor": 0
      },
      "text/plain": [
       "  0%|          | 0/3248 [00:00<?, ?it/s]"
      ]
     },
     "metadata": {},
     "output_type": "display_data"
    },
    {
     "data": {
      "application/vnd.jupyter.widget-view+json": {
       "model_id": "",
       "version_major": 2,
       "version_minor": 0
      },
      "text/plain": [
       "  0%|          | 0/3248 [00:00<?, ?it/s]"
      ]
     },
     "metadata": {},
     "output_type": "display_data"
    },
    {
     "data": {
      "application/vnd.jupyter.widget-view+json": {
       "model_id": "",
       "version_major": 2,
       "version_minor": 0
      },
      "text/plain": [
       "  0%|          | 0/3248 [00:00<?, ?it/s]"
      ]
     },
     "metadata": {},
     "output_type": "display_data"
    },
    {
     "data": {
      "application/vnd.jupyter.widget-view+json": {
       "model_id": "",
       "version_major": 2,
       "version_minor": 0
      },
      "text/plain": [
       "  0%|          | 0/3248 [00:00<?, ?it/s]"
      ]
     },
     "metadata": {},
     "output_type": "display_data"
    },
    {
     "data": {
      "application/vnd.jupyter.widget-view+json": {
       "model_id": "",
       "version_major": 2,
       "version_minor": 0
      },
      "text/plain": [
       "  0%|          | 0/3248 [00:00<?, ?it/s]"
      ]
     },
     "metadata": {},
     "output_type": "display_data"
    },
    {
     "data": {
      "application/vnd.jupyter.widget-view+json": {
       "model_id": "",
       "version_major": 2,
       "version_minor": 0
      },
      "text/plain": [
       "  0%|          | 0/3248 [00:00<?, ?it/s]"
      ]
     },
     "metadata": {},
     "output_type": "display_data"
    },
    {
     "data": {
      "application/vnd.jupyter.widget-view+json": {
       "model_id": "",
       "version_major": 2,
       "version_minor": 0
      },
      "text/plain": [
       "  0%|          | 0/3248 [00:00<?, ?it/s]"
      ]
     },
     "metadata": {},
     "output_type": "display_data"
    },
    {
     "data": {
      "application/vnd.jupyter.widget-view+json": {
       "model_id": "",
       "version_major": 2,
       "version_minor": 0
      },
      "text/plain": [
       "  0%|          | 0/3248 [00:00<?, ?it/s]"
      ]
     },
     "metadata": {},
     "output_type": "display_data"
    },
    {
     "data": {
      "application/vnd.jupyter.widget-view+json": {
       "model_id": "",
       "version_major": 2,
       "version_minor": 0
      },
      "text/plain": [
       "  0%|          | 0/3248 [00:00<?, ?it/s]"
      ]
     },
     "metadata": {},
     "output_type": "display_data"
    },
    {
     "data": {
      "application/vnd.jupyter.widget-view+json": {
       "model_id": "",
       "version_major": 2,
       "version_minor": 0
      },
      "text/plain": [
       "  0%|          | 0/3248 [00:00<?, ?it/s]"
      ]
     },
     "metadata": {},
     "output_type": "display_data"
    },
    {
     "data": {
      "application/vnd.jupyter.widget-view+json": {
       "model_id": "",
       "version_major": 2,
       "version_minor": 0
      },
      "text/plain": [
       "  0%|          | 0/3248 [00:00<?, ?it/s]"
      ]
     },
     "metadata": {},
     "output_type": "display_data"
    },
    {
     "data": {
      "application/vnd.jupyter.widget-view+json": {
       "model_id": "",
       "version_major": 2,
       "version_minor": 0
      },
      "text/plain": [
       "  0%|          | 0/3248 [00:00<?, ?it/s]"
      ]
     },
     "metadata": {},
     "output_type": "display_data"
    },
    {
     "data": {
      "application/vnd.jupyter.widget-view+json": {
       "model_id": "",
       "version_major": 2,
       "version_minor": 0
      },
      "text/plain": [
       "  0%|          | 0/3248 [00:00<?, ?it/s]"
      ]
     },
     "metadata": {},
     "output_type": "display_data"
    },
    {
     "data": {
      "application/vnd.jupyter.widget-view+json": {
       "model_id": "",
       "version_major": 2,
       "version_minor": 0
      },
      "text/plain": [
       "  0%|          | 0/3248 [00:00<?, ?it/s]"
      ]
     },
     "metadata": {},
     "output_type": "display_data"
    },
    {
     "data": {
      "application/vnd.jupyter.widget-view+json": {
       "model_id": "",
       "version_major": 2,
       "version_minor": 0
      },
      "text/plain": [
       "  0%|          | 0/3248 [00:00<?, ?it/s]"
      ]
     },
     "metadata": {},
     "output_type": "display_data"
    },
    {
     "data": {
      "application/vnd.jupyter.widget-view+json": {
       "model_id": "",
       "version_major": 2,
       "version_minor": 0
      },
      "text/plain": [
       "  0%|          | 0/3248 [00:00<?, ?it/s]"
      ]
     },
     "metadata": {},
     "output_type": "display_data"
    },
    {
     "data": {
      "application/vnd.jupyter.widget-view+json": {
       "model_id": "",
       "version_major": 2,
       "version_minor": 0
      },
      "text/plain": [
       "  0%|          | 0/3248 [00:00<?, ?it/s]"
      ]
     },
     "metadata": {},
     "output_type": "display_data"
    },
    {
     "data": {
      "application/vnd.jupyter.widget-view+json": {
       "model_id": "",
       "version_major": 2,
       "version_minor": 0
      },
      "text/plain": [
       "  0%|          | 0/3248 [00:00<?, ?it/s]"
      ]
     },
     "metadata": {},
     "output_type": "display_data"
    },
    {
     "data": {
      "application/vnd.jupyter.widget-view+json": {
       "model_id": "",
       "version_major": 2,
       "version_minor": 0
      },
      "text/plain": [
       "  0%|          | 0/3248 [00:00<?, ?it/s]"
      ]
     },
     "metadata": {},
     "output_type": "display_data"
    },
    {
     "data": {
      "application/vnd.jupyter.widget-view+json": {
       "model_id": "",
       "version_major": 2,
       "version_minor": 0
      },
      "text/plain": [
       "  0%|          | 0/3248 [00:00<?, ?it/s]"
      ]
     },
     "metadata": {},
     "output_type": "display_data"
    },
    {
     "data": {
      "application/vnd.jupyter.widget-view+json": {
       "model_id": "",
       "version_major": 2,
       "version_minor": 0
      },
      "text/plain": [
       "  0%|          | 0/3248 [00:00<?, ?it/s]"
      ]
     },
     "metadata": {},
     "output_type": "display_data"
    },
    {
     "data": {
      "application/vnd.jupyter.widget-view+json": {
       "model_id": "",
       "version_major": 2,
       "version_minor": 0
      },
      "text/plain": [
       "  0%|          | 0/3248 [00:00<?, ?it/s]"
      ]
     },
     "metadata": {},
     "output_type": "display_data"
    },
    {
     "data": {
      "application/vnd.jupyter.widget-view+json": {
       "model_id": "",
       "version_major": 2,
       "version_minor": 0
      },
      "text/plain": [
       "  0%|          | 0/3248 [00:00<?, ?it/s]"
      ]
     },
     "metadata": {},
     "output_type": "display_data"
    },
    {
     "data": {
      "application/vnd.jupyter.widget-view+json": {
       "model_id": "",
       "version_major": 2,
       "version_minor": 0
      },
      "text/plain": [
       "  0%|          | 0/3248 [00:00<?, ?it/s]"
      ]
     },
     "metadata": {},
     "output_type": "display_data"
    },
    {
     "data": {
      "application/vnd.jupyter.widget-view+json": {
       "model_id": "",
       "version_major": 2,
       "version_minor": 0
      },
      "text/plain": [
       "  0%|          | 0/3248 [00:00<?, ?it/s]"
      ]
     },
     "metadata": {},
     "output_type": "display_data"
    },
    {
     "data": {
      "application/vnd.jupyter.widget-view+json": {
       "model_id": "",
       "version_major": 2,
       "version_minor": 0
      },
      "text/plain": [
       "  0%|          | 0/3248 [00:00<?, ?it/s]"
      ]
     },
     "metadata": {},
     "output_type": "display_data"
    },
    {
     "data": {
      "application/vnd.jupyter.widget-view+json": {
       "model_id": "",
       "version_major": 2,
       "version_minor": 0
      },
      "text/plain": [
       "  0%|          | 0/3248 [00:00<?, ?it/s]"
      ]
     },
     "metadata": {},
     "output_type": "display_data"
    },
    {
     "data": {
      "application/vnd.jupyter.widget-view+json": {
       "model_id": "",
       "version_major": 2,
       "version_minor": 0
      },
      "text/plain": [
       "  0%|          | 0/3248 [00:00<?, ?it/s]"
      ]
     },
     "metadata": {},
     "output_type": "display_data"
    },
    {
     "data": {
      "application/vnd.jupyter.widget-view+json": {
       "model_id": "",
       "version_major": 2,
       "version_minor": 0
      },
      "text/plain": [
       "  0%|          | 0/3248 [00:00<?, ?it/s]"
      ]
     },
     "metadata": {},
     "output_type": "display_data"
    },
    {
     "data": {
      "application/vnd.jupyter.widget-view+json": {
       "model_id": "",
       "version_major": 2,
       "version_minor": 0
      },
      "text/plain": [
       "  0%|          | 0/3248 [00:00<?, ?it/s]"
      ]
     },
     "metadata": {},
     "output_type": "display_data"
    },
    {
     "data": {
      "application/vnd.jupyter.widget-view+json": {
       "model_id": "",
       "version_major": 2,
       "version_minor": 0
      },
      "text/plain": [
       "  0%|          | 0/3248 [00:00<?, ?it/s]"
      ]
     },
     "metadata": {},
     "output_type": "display_data"
    },
    {
     "data": {
      "application/vnd.jupyter.widget-view+json": {
       "model_id": "",
       "version_major": 2,
       "version_minor": 0
      },
      "text/plain": [
       "  0%|          | 0/3248 [00:00<?, ?it/s]"
      ]
     },
     "metadata": {},
     "output_type": "display_data"
    },
    {
     "data": {
      "application/vnd.jupyter.widget-view+json": {
       "model_id": "",
       "version_major": 2,
       "version_minor": 0
      },
      "text/plain": [
       "  0%|          | 0/3248 [00:00<?, ?it/s]"
      ]
     },
     "metadata": {},
     "output_type": "display_data"
    },
    {
     "data": {
      "application/vnd.jupyter.widget-view+json": {
       "model_id": "",
       "version_major": 2,
       "version_minor": 0
      },
      "text/plain": [
       "  0%|          | 0/3248 [00:00<?, ?it/s]"
      ]
     },
     "metadata": {},
     "output_type": "display_data"
    },
    {
     "data": {
      "application/vnd.jupyter.widget-view+json": {
       "model_id": "",
       "version_major": 2,
       "version_minor": 0
      },
      "text/plain": [
       "  0%|          | 0/3248 [00:00<?, ?it/s]"
      ]
     },
     "metadata": {},
     "output_type": "display_data"
    },
    {
     "data": {
      "application/vnd.jupyter.widget-view+json": {
       "model_id": "",
       "version_major": 2,
       "version_minor": 0
      },
      "text/plain": [
       "  0%|          | 0/3248 [00:00<?, ?it/s]"
      ]
     },
     "metadata": {},
     "output_type": "display_data"
    },
    {
     "data": {
      "application/vnd.jupyter.widget-view+json": {
       "model_id": "",
       "version_major": 2,
       "version_minor": 0
      },
      "text/plain": [
       "  0%|          | 0/3248 [00:00<?, ?it/s]"
      ]
     },
     "metadata": {},
     "output_type": "display_data"
    },
    {
     "data": {
      "application/vnd.jupyter.widget-view+json": {
       "model_id": "",
       "version_major": 2,
       "version_minor": 0
      },
      "text/plain": [
       "  0%|          | 0/3248 [00:00<?, ?it/s]"
      ]
     },
     "metadata": {},
     "output_type": "display_data"
    },
    {
     "data": {
      "application/vnd.jupyter.widget-view+json": {
       "model_id": "",
       "version_major": 2,
       "version_minor": 0
      },
      "text/plain": [
       "  0%|          | 0/3248 [00:00<?, ?it/s]"
      ]
     },
     "metadata": {},
     "output_type": "display_data"
    },
    {
     "data": {
      "application/vnd.jupyter.widget-view+json": {
       "model_id": "",
       "version_major": 2,
       "version_minor": 0
      },
      "text/plain": [
       "  0%|          | 0/3248 [00:00<?, ?it/s]"
      ]
     },
     "metadata": {},
     "output_type": "display_data"
    },
    {
     "data": {
      "application/vnd.jupyter.widget-view+json": {
       "model_id": "",
       "version_major": 2,
       "version_minor": 0
      },
      "text/plain": [
       "  0%|          | 0/3248 [00:00<?, ?it/s]"
      ]
     },
     "metadata": {},
     "output_type": "display_data"
    },
    {
     "data": {
      "application/vnd.jupyter.widget-view+json": {
       "model_id": "",
       "version_major": 2,
       "version_minor": 0
      },
      "text/plain": [
       "  0%|          | 0/3248 [00:00<?, ?it/s]"
      ]
     },
     "metadata": {},
     "output_type": "display_data"
    },
    {
     "data": {
      "application/vnd.jupyter.widget-view+json": {
       "model_id": "",
       "version_major": 2,
       "version_minor": 0
      },
      "text/plain": [
       "  0%|          | 0/3248 [00:00<?, ?it/s]"
      ]
     },
     "metadata": {},
     "output_type": "display_data"
    },
    {
     "data": {
      "application/vnd.jupyter.widget-view+json": {
       "model_id": "",
       "version_major": 2,
       "version_minor": 0
      },
      "text/plain": [
       "  0%|          | 0/3248 [00:00<?, ?it/s]"
      ]
     },
     "metadata": {},
     "output_type": "display_data"
    },
    {
     "data": {
      "application/vnd.jupyter.widget-view+json": {
       "model_id": "",
       "version_major": 2,
       "version_minor": 0
      },
      "text/plain": [
       "  0%|          | 0/3248 [00:00<?, ?it/s]"
      ]
     },
     "metadata": {},
     "output_type": "display_data"
    },
    {
     "data": {
      "application/vnd.jupyter.widget-view+json": {
       "model_id": "",
       "version_major": 2,
       "version_minor": 0
      },
      "text/plain": [
       "  0%|          | 0/3248 [00:00<?, ?it/s]"
      ]
     },
     "metadata": {},
     "output_type": "display_data"
    },
    {
     "data": {
      "application/vnd.jupyter.widget-view+json": {
       "model_id": "",
       "version_major": 2,
       "version_minor": 0
      },
      "text/plain": [
       "  0%|          | 0/3248 [00:00<?, ?it/s]"
      ]
     },
     "metadata": {},
     "output_type": "display_data"
    },
    {
     "data": {
      "application/vnd.jupyter.widget-view+json": {
       "model_id": "",
       "version_major": 2,
       "version_minor": 0
      },
      "text/plain": [
       "  0%|          | 0/3248 [00:00<?, ?it/s]"
      ]
     },
     "metadata": {},
     "output_type": "display_data"
    },
    {
     "data": {
      "application/vnd.jupyter.widget-view+json": {
       "model_id": "",
       "version_major": 2,
       "version_minor": 0
      },
      "text/plain": [
       "  0%|          | 0/3248 [00:00<?, ?it/s]"
      ]
     },
     "metadata": {},
     "output_type": "display_data"
    },
    {
     "data": {
      "application/vnd.jupyter.widget-view+json": {
       "model_id": "",
       "version_major": 2,
       "version_minor": 0
      },
      "text/plain": [
       "  0%|          | 0/3248 [00:00<?, ?it/s]"
      ]
     },
     "metadata": {},
     "output_type": "display_data"
    },
    {
     "data": {
      "application/vnd.jupyter.widget-view+json": {
       "model_id": "",
       "version_major": 2,
       "version_minor": 0
      },
      "text/plain": [
       "  0%|          | 0/3248 [00:00<?, ?it/s]"
      ]
     },
     "metadata": {},
     "output_type": "display_data"
    },
    {
     "data": {
      "application/vnd.jupyter.widget-view+json": {
       "model_id": "",
       "version_major": 2,
       "version_minor": 0
      },
      "text/plain": [
       "  0%|          | 0/3248 [00:00<?, ?it/s]"
      ]
     },
     "metadata": {},
     "output_type": "display_data"
    },
    {
     "data": {
      "application/vnd.jupyter.widget-view+json": {
       "model_id": "",
       "version_major": 2,
       "version_minor": 0
      },
      "text/plain": [
       "  0%|          | 0/3248 [00:00<?, ?it/s]"
      ]
     },
     "metadata": {},
     "output_type": "display_data"
    },
    {
     "data": {
      "application/vnd.jupyter.widget-view+json": {
       "model_id": "",
       "version_major": 2,
       "version_minor": 0
      },
      "text/plain": [
       "  0%|          | 0/3248 [00:00<?, ?it/s]"
      ]
     },
     "metadata": {},
     "output_type": "display_data"
    },
    {
     "data": {
      "application/vnd.jupyter.widget-view+json": {
       "model_id": "",
       "version_major": 2,
       "version_minor": 0
      },
      "text/plain": [
       "  0%|          | 0/3248 [00:00<?, ?it/s]"
      ]
     },
     "metadata": {},
     "output_type": "display_data"
    },
    {
     "data": {
      "application/vnd.jupyter.widget-view+json": {
       "model_id": "",
       "version_major": 2,
       "version_minor": 0
      },
      "text/plain": [
       "  0%|          | 0/3248 [00:00<?, ?it/s]"
      ]
     },
     "metadata": {},
     "output_type": "display_data"
    },
    {
     "data": {
      "application/vnd.jupyter.widget-view+json": {
       "model_id": "",
       "version_major": 2,
       "version_minor": 0
      },
      "text/plain": [
       "  0%|          | 0/3248 [00:00<?, ?it/s]"
      ]
     },
     "metadata": {},
     "output_type": "display_data"
    },
    {
     "data": {
      "application/vnd.jupyter.widget-view+json": {
       "model_id": "",
       "version_major": 2,
       "version_minor": 0
      },
      "text/plain": [
       "  0%|          | 0/3248 [00:00<?, ?it/s]"
      ]
     },
     "metadata": {},
     "output_type": "display_data"
    },
    {
     "data": {
      "application/vnd.jupyter.widget-view+json": {
       "model_id": "",
       "version_major": 2,
       "version_minor": 0
      },
      "text/plain": [
       "  0%|          | 0/3248 [00:00<?, ?it/s]"
      ]
     },
     "metadata": {},
     "output_type": "display_data"
    },
    {
     "data": {
      "application/vnd.jupyter.widget-view+json": {
       "model_id": "",
       "version_major": 2,
       "version_minor": 0
      },
      "text/plain": [
       "  0%|          | 0/3248 [00:00<?, ?it/s]"
      ]
     },
     "metadata": {},
     "output_type": "display_data"
    },
    {
     "data": {
      "application/vnd.jupyter.widget-view+json": {
       "model_id": "",
       "version_major": 2,
       "version_minor": 0
      },
      "text/plain": [
       "  0%|          | 0/3248 [00:00<?, ?it/s]"
      ]
     },
     "metadata": {},
     "output_type": "display_data"
    },
    {
     "data": {
      "application/vnd.jupyter.widget-view+json": {
       "model_id": "",
       "version_major": 2,
       "version_minor": 0
      },
      "text/plain": [
       "  0%|          | 0/3248 [00:00<?, ?it/s]"
      ]
     },
     "metadata": {},
     "output_type": "display_data"
    },
    {
     "data": {
      "application/vnd.jupyter.widget-view+json": {
       "model_id": "",
       "version_major": 2,
       "version_minor": 0
      },
      "text/plain": [
       "  0%|          | 0/3248 [00:00<?, ?it/s]"
      ]
     },
     "metadata": {},
     "output_type": "display_data"
    },
    {
     "data": {
      "application/vnd.jupyter.widget-view+json": {
       "model_id": "",
       "version_major": 2,
       "version_minor": 0
      },
      "text/plain": [
       "  0%|          | 0/3248 [00:00<?, ?it/s]"
      ]
     },
     "metadata": {},
     "output_type": "display_data"
    },
    {
     "data": {
      "application/vnd.jupyter.widget-view+json": {
       "model_id": "",
       "version_major": 2,
       "version_minor": 0
      },
      "text/plain": [
       "  0%|          | 0/3248 [00:00<?, ?it/s]"
      ]
     },
     "metadata": {},
     "output_type": "display_data"
    },
    {
     "data": {
      "application/vnd.jupyter.widget-view+json": {
       "model_id": "",
       "version_major": 2,
       "version_minor": 0
      },
      "text/plain": [
       "  0%|          | 0/3248 [00:00<?, ?it/s]"
      ]
     },
     "metadata": {},
     "output_type": "display_data"
    },
    {
     "data": {
      "application/vnd.jupyter.widget-view+json": {
       "model_id": "",
       "version_major": 2,
       "version_minor": 0
      },
      "text/plain": [
       "  0%|          | 0/3248 [00:00<?, ?it/s]"
      ]
     },
     "metadata": {},
     "output_type": "display_data"
    },
    {
     "data": {
      "application/vnd.jupyter.widget-view+json": {
       "model_id": "",
       "version_major": 2,
       "version_minor": 0
      },
      "text/plain": [
       "  0%|          | 0/3248 [00:00<?, ?it/s]"
      ]
     },
     "metadata": {},
     "output_type": "display_data"
    },
    {
     "data": {
      "application/vnd.jupyter.widget-view+json": {
       "model_id": "",
       "version_major": 2,
       "version_minor": 0
      },
      "text/plain": [
       "  0%|          | 0/3248 [00:00<?, ?it/s]"
      ]
     },
     "metadata": {},
     "output_type": "display_data"
    },
    {
     "data": {
      "application/vnd.jupyter.widget-view+json": {
       "model_id": "",
       "version_major": 2,
       "version_minor": 0
      },
      "text/plain": [
       "  0%|          | 0/3248 [00:00<?, ?it/s]"
      ]
     },
     "metadata": {},
     "output_type": "display_data"
    },
    {
     "data": {
      "application/vnd.jupyter.widget-view+json": {
       "model_id": "",
       "version_major": 2,
       "version_minor": 0
      },
      "text/plain": [
       "  0%|          | 0/3248 [00:00<?, ?it/s]"
      ]
     },
     "metadata": {},
     "output_type": "display_data"
    },
    {
     "data": {
      "application/vnd.jupyter.widget-view+json": {
       "model_id": "",
       "version_major": 2,
       "version_minor": 0
      },
      "text/plain": [
       "  0%|          | 0/3248 [00:00<?, ?it/s]"
      ]
     },
     "metadata": {},
     "output_type": "display_data"
    },
    {
     "data": {
      "application/vnd.jupyter.widget-view+json": {
       "model_id": "",
       "version_major": 2,
       "version_minor": 0
      },
      "text/plain": [
       "  0%|          | 0/3248 [00:00<?, ?it/s]"
      ]
     },
     "metadata": {},
     "output_type": "display_data"
    },
    {
     "data": {
      "application/vnd.jupyter.widget-view+json": {
       "model_id": "",
       "version_major": 2,
       "version_minor": 0
      },
      "text/plain": [
       "  0%|          | 0/3248 [00:00<?, ?it/s]"
      ]
     },
     "metadata": {},
     "output_type": "display_data"
    },
    {
     "data": {
      "application/vnd.jupyter.widget-view+json": {
       "model_id": "",
       "version_major": 2,
       "version_minor": 0
      },
      "text/plain": [
       "  0%|          | 0/3248 [00:00<?, ?it/s]"
      ]
     },
     "metadata": {},
     "output_type": "display_data"
    },
    {
     "data": {
      "application/vnd.jupyter.widget-view+json": {
       "model_id": "",
       "version_major": 2,
       "version_minor": 0
      },
      "text/plain": [
       "  0%|          | 0/3248 [00:00<?, ?it/s]"
      ]
     },
     "metadata": {},
     "output_type": "display_data"
    },
    {
     "data": {
      "application/vnd.jupyter.widget-view+json": {
       "model_id": "",
       "version_major": 2,
       "version_minor": 0
      },
      "text/plain": [
       "  0%|          | 0/3248 [00:00<?, ?it/s]"
      ]
     },
     "metadata": {},
     "output_type": "display_data"
    },
    {
     "data": {
      "application/vnd.jupyter.widget-view+json": {
       "model_id": "",
       "version_major": 2,
       "version_minor": 0
      },
      "text/plain": [
       "  0%|          | 0/3248 [00:00<?, ?it/s]"
      ]
     },
     "metadata": {},
     "output_type": "display_data"
    },
    {
     "data": {
      "application/vnd.jupyter.widget-view+json": {
       "model_id": "",
       "version_major": 2,
       "version_minor": 0
      },
      "text/plain": [
       "  0%|          | 0/3248 [00:00<?, ?it/s]"
      ]
     },
     "metadata": {},
     "output_type": "display_data"
    },
    {
     "data": {
      "application/vnd.jupyter.widget-view+json": {
       "model_id": "",
       "version_major": 2,
       "version_minor": 0
      },
      "text/plain": [
       "  0%|          | 0/3248 [00:00<?, ?it/s]"
      ]
     },
     "metadata": {},
     "output_type": "display_data"
    },
    {
     "data": {
      "application/vnd.jupyter.widget-view+json": {
       "model_id": "",
       "version_major": 2,
       "version_minor": 0
      },
      "text/plain": [
       "  0%|          | 0/3248 [00:00<?, ?it/s]"
      ]
     },
     "metadata": {},
     "output_type": "display_data"
    },
    {
     "data": {
      "application/vnd.jupyter.widget-view+json": {
       "model_id": "",
       "version_major": 2,
       "version_minor": 0
      },
      "text/plain": [
       "  0%|          | 0/3248 [00:00<?, ?it/s]"
      ]
     },
     "metadata": {},
     "output_type": "display_data"
    },
    {
     "data": {
      "application/vnd.jupyter.widget-view+json": {
       "model_id": "",
       "version_major": 2,
       "version_minor": 0
      },
      "text/plain": [
       "  0%|          | 0/3248 [00:00<?, ?it/s]"
      ]
     },
     "metadata": {},
     "output_type": "display_data"
    },
    {
     "data": {
      "application/vnd.jupyter.widget-view+json": {
       "model_id": "",
       "version_major": 2,
       "version_minor": 0
      },
      "text/plain": [
       "  0%|          | 0/3248 [00:00<?, ?it/s]"
      ]
     },
     "metadata": {},
     "output_type": "display_data"
    },
    {
     "data": {
      "application/vnd.jupyter.widget-view+json": {
       "model_id": "",
       "version_major": 2,
       "version_minor": 0
      },
      "text/plain": [
       "  0%|          | 0/3248 [00:00<?, ?it/s]"
      ]
     },
     "metadata": {},
     "output_type": "display_data"
    },
    {
     "data": {
      "application/vnd.jupyter.widget-view+json": {
       "model_id": "",
       "version_major": 2,
       "version_minor": 0
      },
      "text/plain": [
       "  0%|          | 0/3248 [00:00<?, ?it/s]"
      ]
     },
     "metadata": {},
     "output_type": "display_data"
    },
    {
     "data": {
      "application/vnd.jupyter.widget-view+json": {
       "model_id": "",
       "version_major": 2,
       "version_minor": 0
      },
      "text/plain": [
       "  0%|          | 0/3248 [00:00<?, ?it/s]"
      ]
     },
     "metadata": {},
     "output_type": "display_data"
    },
    {
     "data": {
      "application/vnd.jupyter.widget-view+json": {
       "model_id": "",
       "version_major": 2,
       "version_minor": 0
      },
      "text/plain": [
       "  0%|          | 0/3248 [00:00<?, ?it/s]"
      ]
     },
     "metadata": {},
     "output_type": "display_data"
    },
    {
     "data": {
      "application/vnd.jupyter.widget-view+json": {
       "model_id": "",
       "version_major": 2,
       "version_minor": 0
      },
      "text/plain": [
       "  0%|          | 0/3248 [00:00<?, ?it/s]"
      ]
     },
     "metadata": {},
     "output_type": "display_data"
    },
    {
     "data": {
      "application/vnd.jupyter.widget-view+json": {
       "model_id": "",
       "version_major": 2,
       "version_minor": 0
      },
      "text/plain": [
       "  0%|          | 0/3248 [00:00<?, ?it/s]"
      ]
     },
     "metadata": {},
     "output_type": "display_data"
    },
    {
     "data": {
      "application/vnd.jupyter.widget-view+json": {
       "model_id": "",
       "version_major": 2,
       "version_minor": 0
      },
      "text/plain": [
       "  0%|          | 0/3248 [00:00<?, ?it/s]"
      ]
     },
     "metadata": {},
     "output_type": "display_data"
    },
    {
     "data": {
      "application/vnd.jupyter.widget-view+json": {
       "model_id": "",
       "version_major": 2,
       "version_minor": 0
      },
      "text/plain": [
       "  0%|          | 0/3248 [00:00<?, ?it/s]"
      ]
     },
     "metadata": {},
     "output_type": "display_data"
    },
    {
     "data": {
      "application/vnd.jupyter.widget-view+json": {
       "model_id": "",
       "version_major": 2,
       "version_minor": 0
      },
      "text/plain": [
       "  0%|          | 0/3248 [00:00<?, ?it/s]"
      ]
     },
     "metadata": {},
     "output_type": "display_data"
    },
    {
     "data": {
      "application/vnd.jupyter.widget-view+json": {
       "model_id": "",
       "version_major": 2,
       "version_minor": 0
      },
      "text/plain": [
       "  0%|          | 0/3248 [00:00<?, ?it/s]"
      ]
     },
     "metadata": {},
     "output_type": "display_data"
    },
    {
     "data": {
      "application/vnd.jupyter.widget-view+json": {
       "model_id": "",
       "version_major": 2,
       "version_minor": 0
      },
      "text/plain": [
       "  0%|          | 0/3248 [00:00<?, ?it/s]"
      ]
     },
     "metadata": {},
     "output_type": "display_data"
    },
    {
     "data": {
      "application/vnd.jupyter.widget-view+json": {
       "model_id": "",
       "version_major": 2,
       "version_minor": 0
      },
      "text/plain": [
       "  0%|          | 0/3248 [00:00<?, ?it/s]"
      ]
     },
     "metadata": {},
     "output_type": "display_data"
    },
    {
     "data": {
      "application/vnd.jupyter.widget-view+json": {
       "model_id": "",
       "version_major": 2,
       "version_minor": 0
      },
      "text/plain": [
       "  0%|          | 0/3248 [00:00<?, ?it/s]"
      ]
     },
     "metadata": {},
     "output_type": "display_data"
    },
    {
     "data": {
      "application/vnd.jupyter.widget-view+json": {
       "model_id": "",
       "version_major": 2,
       "version_minor": 0
      },
      "text/plain": [
       "  0%|          | 0/3248 [00:00<?, ?it/s]"
      ]
     },
     "metadata": {},
     "output_type": "display_data"
    },
    {
     "data": {
      "application/vnd.jupyter.widget-view+json": {
       "model_id": "",
       "version_major": 2,
       "version_minor": 0
      },
      "text/plain": [
       "  0%|          | 0/3248 [00:00<?, ?it/s]"
      ]
     },
     "metadata": {},
     "output_type": "display_data"
    },
    {
     "data": {
      "application/vnd.jupyter.widget-view+json": {
       "model_id": "",
       "version_major": 2,
       "version_minor": 0
      },
      "text/plain": [
       "  0%|          | 0/3248 [00:00<?, ?it/s]"
      ]
     },
     "metadata": {},
     "output_type": "display_data"
    },
    {
     "data": {
      "application/vnd.jupyter.widget-view+json": {
       "model_id": "",
       "version_major": 2,
       "version_minor": 0
      },
      "text/plain": [
       "  0%|          | 0/3248 [00:00<?, ?it/s]"
      ]
     },
     "metadata": {},
     "output_type": "display_data"
    },
    {
     "data": {
      "application/vnd.jupyter.widget-view+json": {
       "model_id": "",
       "version_major": 2,
       "version_minor": 0
      },
      "text/plain": [
       "  0%|          | 0/3248 [00:00<?, ?it/s]"
      ]
     },
     "metadata": {},
     "output_type": "display_data"
    },
    {
     "data": {
      "application/vnd.jupyter.widget-view+json": {
       "model_id": "",
       "version_major": 2,
       "version_minor": 0
      },
      "text/plain": [
       "  0%|          | 0/3248 [00:00<?, ?it/s]"
      ]
     },
     "metadata": {},
     "output_type": "display_data"
    },
    {
     "data": {
      "application/vnd.jupyter.widget-view+json": {
       "model_id": "",
       "version_major": 2,
       "version_minor": 0
      },
      "text/plain": [
       "  0%|          | 0/3248 [00:00<?, ?it/s]"
      ]
     },
     "metadata": {},
     "output_type": "display_data"
    },
    {
     "data": {
      "application/vnd.jupyter.widget-view+json": {
       "model_id": "",
       "version_major": 2,
       "version_minor": 0
      },
      "text/plain": [
       "  0%|          | 0/3248 [00:00<?, ?it/s]"
      ]
     },
     "metadata": {},
     "output_type": "display_data"
    },
    {
     "data": {
      "application/vnd.jupyter.widget-view+json": {
       "model_id": "",
       "version_major": 2,
       "version_minor": 0
      },
      "text/plain": [
       "  0%|          | 0/3248 [00:00<?, ?it/s]"
      ]
     },
     "metadata": {},
     "output_type": "display_data"
    },
    {
     "data": {
      "application/vnd.jupyter.widget-view+json": {
       "model_id": "",
       "version_major": 2,
       "version_minor": 0
      },
      "text/plain": [
       "  0%|          | 0/3248 [00:00<?, ?it/s]"
      ]
     },
     "metadata": {},
     "output_type": "display_data"
    },
    {
     "data": {
      "application/vnd.jupyter.widget-view+json": {
       "model_id": "",
       "version_major": 2,
       "version_minor": 0
      },
      "text/plain": [
       "  0%|          | 0/3248 [00:00<?, ?it/s]"
      ]
     },
     "metadata": {},
     "output_type": "display_data"
    },
    {
     "data": {
      "application/vnd.jupyter.widget-view+json": {
       "model_id": "",
       "version_major": 2,
       "version_minor": 0
      },
      "text/plain": [
       "  0%|          | 0/3248 [00:00<?, ?it/s]"
      ]
     },
     "metadata": {},
     "output_type": "display_data"
    },
    {
     "data": {
      "application/vnd.jupyter.widget-view+json": {
       "model_id": "",
       "version_major": 2,
       "version_minor": 0
      },
      "text/plain": [
       "  0%|          | 0/3248 [00:00<?, ?it/s]"
      ]
     },
     "metadata": {},
     "output_type": "display_data"
    },
    {
     "data": {
      "application/vnd.jupyter.widget-view+json": {
       "model_id": "",
       "version_major": 2,
       "version_minor": 0
      },
      "text/plain": [
       "  0%|          | 0/3248 [00:00<?, ?it/s]"
      ]
     },
     "metadata": {},
     "output_type": "display_data"
    },
    {
     "data": {
      "application/vnd.jupyter.widget-view+json": {
       "model_id": "",
       "version_major": 2,
       "version_minor": 0
      },
      "text/plain": [
       "  0%|          | 0/3248 [00:00<?, ?it/s]"
      ]
     },
     "metadata": {},
     "output_type": "display_data"
    },
    {
     "data": {
      "application/vnd.jupyter.widget-view+json": {
       "model_id": "",
       "version_major": 2,
       "version_minor": 0
      },
      "text/plain": [
       "  0%|          | 0/3248 [00:00<?, ?it/s]"
      ]
     },
     "metadata": {},
     "output_type": "display_data"
    },
    {
     "data": {
      "application/vnd.jupyter.widget-view+json": {
       "model_id": "",
       "version_major": 2,
       "version_minor": 0
      },
      "text/plain": [
       "  0%|          | 0/3248 [00:00<?, ?it/s]"
      ]
     },
     "metadata": {},
     "output_type": "display_data"
    },
    {
     "data": {
      "application/vnd.jupyter.widget-view+json": {
       "model_id": "",
       "version_major": 2,
       "version_minor": 0
      },
      "text/plain": [
       "  0%|          | 0/3248 [00:00<?, ?it/s]"
      ]
     },
     "metadata": {},
     "output_type": "display_data"
    },
    {
     "data": {
      "application/vnd.jupyter.widget-view+json": {
       "model_id": "",
       "version_major": 2,
       "version_minor": 0
      },
      "text/plain": [
       "  0%|          | 0/3248 [00:00<?, ?it/s]"
      ]
     },
     "metadata": {},
     "output_type": "display_data"
    },
    {
     "data": {
      "application/vnd.jupyter.widget-view+json": {
       "model_id": "",
       "version_major": 2,
       "version_minor": 0
      },
      "text/plain": [
       "  0%|          | 0/3248 [00:00<?, ?it/s]"
      ]
     },
     "metadata": {},
     "output_type": "display_data"
    },
    {
     "data": {
      "application/vnd.jupyter.widget-view+json": {
       "model_id": "",
       "version_major": 2,
       "version_minor": 0
      },
      "text/plain": [
       "  0%|          | 0/3248 [00:00<?, ?it/s]"
      ]
     },
     "metadata": {},
     "output_type": "display_data"
    },
    {
     "data": {
      "application/vnd.jupyter.widget-view+json": {
       "model_id": "",
       "version_major": 2,
       "version_minor": 0
      },
      "text/plain": [
       "  0%|          | 0/3248 [00:00<?, ?it/s]"
      ]
     },
     "metadata": {},
     "output_type": "display_data"
    },
    {
     "data": {
      "application/vnd.jupyter.widget-view+json": {
       "model_id": "",
       "version_major": 2,
       "version_minor": 0
      },
      "text/plain": [
       "  0%|          | 0/3248 [00:00<?, ?it/s]"
      ]
     },
     "metadata": {},
     "output_type": "display_data"
    },
    {
     "data": {
      "application/vnd.jupyter.widget-view+json": {
       "model_id": "",
       "version_major": 2,
       "version_minor": 0
      },
      "text/plain": [
       "  0%|          | 0/3248 [00:00<?, ?it/s]"
      ]
     },
     "metadata": {},
     "output_type": "display_data"
    },
    {
     "data": {
      "application/vnd.jupyter.widget-view+json": {
       "model_id": "",
       "version_major": 2,
       "version_minor": 0
      },
      "text/plain": [
       "  0%|          | 0/3248 [00:00<?, ?it/s]"
      ]
     },
     "metadata": {},
     "output_type": "display_data"
    },
    {
     "data": {
      "application/vnd.jupyter.widget-view+json": {
       "model_id": "",
       "version_major": 2,
       "version_minor": 0
      },
      "text/plain": [
       "  0%|          | 0/3248 [00:00<?, ?it/s]"
      ]
     },
     "metadata": {},
     "output_type": "display_data"
    },
    {
     "data": {
      "application/vnd.jupyter.widget-view+json": {
       "model_id": "",
       "version_major": 2,
       "version_minor": 0
      },
      "text/plain": [
       "  0%|          | 0/3248 [00:00<?, ?it/s]"
      ]
     },
     "metadata": {},
     "output_type": "display_data"
    },
    {
     "data": {
      "application/vnd.jupyter.widget-view+json": {
       "model_id": "",
       "version_major": 2,
       "version_minor": 0
      },
      "text/plain": [
       "  0%|          | 0/3248 [00:00<?, ?it/s]"
      ]
     },
     "metadata": {},
     "output_type": "display_data"
    },
    {
     "data": {
      "application/vnd.jupyter.widget-view+json": {
       "model_id": "",
       "version_major": 2,
       "version_minor": 0
      },
      "text/plain": [
       "  0%|          | 0/3248 [00:00<?, ?it/s]"
      ]
     },
     "metadata": {},
     "output_type": "display_data"
    },
    {
     "data": {
      "application/vnd.jupyter.widget-view+json": {
       "model_id": "",
       "version_major": 2,
       "version_minor": 0
      },
      "text/plain": [
       "  0%|          | 0/3248 [00:00<?, ?it/s]"
      ]
     },
     "metadata": {},
     "output_type": "display_data"
    },
    {
     "data": {
      "application/vnd.jupyter.widget-view+json": {
       "model_id": "",
       "version_major": 2,
       "version_minor": 0
      },
      "text/plain": [
       "  0%|          | 0/3248 [00:00<?, ?it/s]"
      ]
     },
     "metadata": {},
     "output_type": "display_data"
    },
    {
     "data": {
      "application/vnd.jupyter.widget-view+json": {
       "model_id": "",
       "version_major": 2,
       "version_minor": 0
      },
      "text/plain": [
       "  0%|          | 0/3248 [00:00<?, ?it/s]"
      ]
     },
     "metadata": {},
     "output_type": "display_data"
    },
    {
     "data": {
      "application/vnd.jupyter.widget-view+json": {
       "model_id": "",
       "version_major": 2,
       "version_minor": 0
      },
      "text/plain": [
       "  0%|          | 0/3248 [00:00<?, ?it/s]"
      ]
     },
     "metadata": {},
     "output_type": "display_data"
    },
    {
     "data": {
      "application/vnd.jupyter.widget-view+json": {
       "model_id": "",
       "version_major": 2,
       "version_minor": 0
      },
      "text/plain": [
       "  0%|          | 0/3248 [00:00<?, ?it/s]"
      ]
     },
     "metadata": {},
     "output_type": "display_data"
    },
    {
     "data": {
      "application/vnd.jupyter.widget-view+json": {
       "model_id": "",
       "version_major": 2,
       "version_minor": 0
      },
      "text/plain": [
       "  0%|          | 0/3248 [00:00<?, ?it/s]"
      ]
     },
     "metadata": {},
     "output_type": "display_data"
    },
    {
     "data": {
      "application/vnd.jupyter.widget-view+json": {
       "model_id": "",
       "version_major": 2,
       "version_minor": 0
      },
      "text/plain": [
       "  0%|          | 0/3248 [00:00<?, ?it/s]"
      ]
     },
     "metadata": {},
     "output_type": "display_data"
    },
    {
     "data": {
      "application/vnd.jupyter.widget-view+json": {
       "model_id": "",
       "version_major": 2,
       "version_minor": 0
      },
      "text/plain": [
       "  0%|          | 0/3248 [00:00<?, ?it/s]"
      ]
     },
     "metadata": {},
     "output_type": "display_data"
    },
    {
     "data": {
      "application/vnd.jupyter.widget-view+json": {
       "model_id": "",
       "version_major": 2,
       "version_minor": 0
      },
      "text/plain": [
       "  0%|          | 0/3248 [00:00<?, ?it/s]"
      ]
     },
     "metadata": {},
     "output_type": "display_data"
    },
    {
     "data": {
      "application/vnd.jupyter.widget-view+json": {
       "model_id": "",
       "version_major": 2,
       "version_minor": 0
      },
      "text/plain": [
       "  0%|          | 0/3248 [00:00<?, ?it/s]"
      ]
     },
     "metadata": {},
     "output_type": "display_data"
    },
    {
     "data": {
      "application/vnd.jupyter.widget-view+json": {
       "model_id": "",
       "version_major": 2,
       "version_minor": 0
      },
      "text/plain": [
       "  0%|          | 0/3248 [00:00<?, ?it/s]"
      ]
     },
     "metadata": {},
     "output_type": "display_data"
    },
    {
     "data": {
      "application/vnd.jupyter.widget-view+json": {
       "model_id": "",
       "version_major": 2,
       "version_minor": 0
      },
      "text/plain": [
       "  0%|          | 0/3248 [00:00<?, ?it/s]"
      ]
     },
     "metadata": {},
     "output_type": "display_data"
    },
    {
     "data": {
      "application/vnd.jupyter.widget-view+json": {
       "model_id": "",
       "version_major": 2,
       "version_minor": 0
      },
      "text/plain": [
       "  0%|          | 0/3248 [00:00<?, ?it/s]"
      ]
     },
     "metadata": {},
     "output_type": "display_data"
    },
    {
     "data": {
      "application/vnd.jupyter.widget-view+json": {
       "model_id": "",
       "version_major": 2,
       "version_minor": 0
      },
      "text/plain": [
       "  0%|          | 0/3248 [00:00<?, ?it/s]"
      ]
     },
     "metadata": {},
     "output_type": "display_data"
    },
    {
     "data": {
      "application/vnd.jupyter.widget-view+json": {
       "model_id": "",
       "version_major": 2,
       "version_minor": 0
      },
      "text/plain": [
       "  0%|          | 0/3248 [00:00<?, ?it/s]"
      ]
     },
     "metadata": {},
     "output_type": "display_data"
    },
    {
     "data": {
      "application/vnd.jupyter.widget-view+json": {
       "model_id": "",
       "version_major": 2,
       "version_minor": 0
      },
      "text/plain": [
       "  0%|          | 0/3248 [00:00<?, ?it/s]"
      ]
     },
     "metadata": {},
     "output_type": "display_data"
    },
    {
     "data": {
      "application/vnd.jupyter.widget-view+json": {
       "model_id": "",
       "version_major": 2,
       "version_minor": 0
      },
      "text/plain": [
       "  0%|          | 0/3248 [00:00<?, ?it/s]"
      ]
     },
     "metadata": {},
     "output_type": "display_data"
    },
    {
     "data": {
      "application/vnd.jupyter.widget-view+json": {
       "model_id": "",
       "version_major": 2,
       "version_minor": 0
      },
      "text/plain": [
       "  0%|          | 0/3248 [00:00<?, ?it/s]"
      ]
     },
     "metadata": {},
     "output_type": "display_data"
    },
    {
     "data": {
      "application/vnd.jupyter.widget-view+json": {
       "model_id": "",
       "version_major": 2,
       "version_minor": 0
      },
      "text/plain": [
       "  0%|          | 0/3248 [00:00<?, ?it/s]"
      ]
     },
     "metadata": {},
     "output_type": "display_data"
    },
    {
     "data": {
      "application/vnd.jupyter.widget-view+json": {
       "model_id": "",
       "version_major": 2,
       "version_minor": 0
      },
      "text/plain": [
       "  0%|          | 0/3248 [00:00<?, ?it/s]"
      ]
     },
     "metadata": {},
     "output_type": "display_data"
    },
    {
     "data": {
      "application/vnd.jupyter.widget-view+json": {
       "model_id": "",
       "version_major": 2,
       "version_minor": 0
      },
      "text/plain": [
       "  0%|          | 0/3248 [00:00<?, ?it/s]"
      ]
     },
     "metadata": {},
     "output_type": "display_data"
    },
    {
     "data": {
      "application/vnd.jupyter.widget-view+json": {
       "model_id": "",
       "version_major": 2,
       "version_minor": 0
      },
      "text/plain": [
       "  0%|          | 0/3248 [00:00<?, ?it/s]"
      ]
     },
     "metadata": {},
     "output_type": "display_data"
    },
    {
     "data": {
      "application/vnd.jupyter.widget-view+json": {
       "model_id": "",
       "version_major": 2,
       "version_minor": 0
      },
      "text/plain": [
       "  0%|          | 0/3248 [00:00<?, ?it/s]"
      ]
     },
     "metadata": {},
     "output_type": "display_data"
    },
    {
     "data": {
      "application/vnd.jupyter.widget-view+json": {
       "model_id": "",
       "version_major": 2,
       "version_minor": 0
      },
      "text/plain": [
       "  0%|          | 0/3248 [00:00<?, ?it/s]"
      ]
     },
     "metadata": {},
     "output_type": "display_data"
    },
    {
     "data": {
      "application/vnd.jupyter.widget-view+json": {
       "model_id": "",
       "version_major": 2,
       "version_minor": 0
      },
      "text/plain": [
       "  0%|          | 0/3248 [00:00<?, ?it/s]"
      ]
     },
     "metadata": {},
     "output_type": "display_data"
    },
    {
     "data": {
      "application/vnd.jupyter.widget-view+json": {
       "model_id": "",
       "version_major": 2,
       "version_minor": 0
      },
      "text/plain": [
       "  0%|          | 0/3248 [00:00<?, ?it/s]"
      ]
     },
     "metadata": {},
     "output_type": "display_data"
    },
    {
     "data": {
      "application/vnd.jupyter.widget-view+json": {
       "model_id": "",
       "version_major": 2,
       "version_minor": 0
      },
      "text/plain": [
       "  0%|          | 0/3248 [00:00<?, ?it/s]"
      ]
     },
     "metadata": {},
     "output_type": "display_data"
    },
    {
     "data": {
      "application/vnd.jupyter.widget-view+json": {
       "model_id": "",
       "version_major": 2,
       "version_minor": 0
      },
      "text/plain": [
       "  0%|          | 0/3248 [00:00<?, ?it/s]"
      ]
     },
     "metadata": {},
     "output_type": "display_data"
    },
    {
     "data": {
      "application/vnd.jupyter.widget-view+json": {
       "model_id": "",
       "version_major": 2,
       "version_minor": 0
      },
      "text/plain": [
       "  0%|          | 0/3248 [00:00<?, ?it/s]"
      ]
     },
     "metadata": {},
     "output_type": "display_data"
    },
    {
     "data": {
      "application/vnd.jupyter.widget-view+json": {
       "model_id": "",
       "version_major": 2,
       "version_minor": 0
      },
      "text/plain": [
       "  0%|          | 0/3248 [00:00<?, ?it/s]"
      ]
     },
     "metadata": {},
     "output_type": "display_data"
    },
    {
     "data": {
      "application/vnd.jupyter.widget-view+json": {
       "model_id": "",
       "version_major": 2,
       "version_minor": 0
      },
      "text/plain": [
       "  0%|          | 0/3248 [00:00<?, ?it/s]"
      ]
     },
     "metadata": {},
     "output_type": "display_data"
    },
    {
     "data": {
      "application/vnd.jupyter.widget-view+json": {
       "model_id": "",
       "version_major": 2,
       "version_minor": 0
      },
      "text/plain": [
       "  0%|          | 0/3248 [00:00<?, ?it/s]"
      ]
     },
     "metadata": {},
     "output_type": "display_data"
    },
    {
     "data": {
      "application/vnd.jupyter.widget-view+json": {
       "model_id": "",
       "version_major": 2,
       "version_minor": 0
      },
      "text/plain": [
       "  0%|          | 0/3248 [00:00<?, ?it/s]"
      ]
     },
     "metadata": {},
     "output_type": "display_data"
    },
    {
     "data": {
      "application/vnd.jupyter.widget-view+json": {
       "model_id": "",
       "version_major": 2,
       "version_minor": 0
      },
      "text/plain": [
       "  0%|          | 0/3248 [00:00<?, ?it/s]"
      ]
     },
     "metadata": {},
     "output_type": "display_data"
    },
    {
     "data": {
      "application/vnd.jupyter.widget-view+json": {
       "model_id": "",
       "version_major": 2,
       "version_minor": 0
      },
      "text/plain": [
       "  0%|          | 0/3248 [00:00<?, ?it/s]"
      ]
     },
     "metadata": {},
     "output_type": "display_data"
    },
    {
     "data": {
      "application/vnd.jupyter.widget-view+json": {
       "model_id": "",
       "version_major": 2,
       "version_minor": 0
      },
      "text/plain": [
       "  0%|          | 0/3248 [00:00<?, ?it/s]"
      ]
     },
     "metadata": {},
     "output_type": "display_data"
    },
    {
     "data": {
      "application/vnd.jupyter.widget-view+json": {
       "model_id": "",
       "version_major": 2,
       "version_minor": 0
      },
      "text/plain": [
       "  0%|          | 0/3248 [00:00<?, ?it/s]"
      ]
     },
     "metadata": {},
     "output_type": "display_data"
    },
    {
     "data": {
      "application/vnd.jupyter.widget-view+json": {
       "model_id": "",
       "version_major": 2,
       "version_minor": 0
      },
      "text/plain": [
       "  0%|          | 0/3248 [00:00<?, ?it/s]"
      ]
     },
     "metadata": {},
     "output_type": "display_data"
    },
    {
     "data": {
      "application/vnd.jupyter.widget-view+json": {
       "model_id": "",
       "version_major": 2,
       "version_minor": 0
      },
      "text/plain": [
       "  0%|          | 0/3248 [00:00<?, ?it/s]"
      ]
     },
     "metadata": {},
     "output_type": "display_data"
    },
    {
     "data": {
      "application/vnd.jupyter.widget-view+json": {
       "model_id": "",
       "version_major": 2,
       "version_minor": 0
      },
      "text/plain": [
       "  0%|          | 0/3248 [00:00<?, ?it/s]"
      ]
     },
     "metadata": {},
     "output_type": "display_data"
    },
    {
     "data": {
      "application/vnd.jupyter.widget-view+json": {
       "model_id": "",
       "version_major": 2,
       "version_minor": 0
      },
      "text/plain": [
       "  0%|          | 0/3248 [00:00<?, ?it/s]"
      ]
     },
     "metadata": {},
     "output_type": "display_data"
    },
    {
     "data": {
      "application/vnd.jupyter.widget-view+json": {
       "model_id": "",
       "version_major": 2,
       "version_minor": 0
      },
      "text/plain": [
       "  0%|          | 0/3248 [00:00<?, ?it/s]"
      ]
     },
     "metadata": {},
     "output_type": "display_data"
    },
    {
     "data": {
      "application/vnd.jupyter.widget-view+json": {
       "model_id": "",
       "version_major": 2,
       "version_minor": 0
      },
      "text/plain": [
       "  0%|          | 0/3248 [00:00<?, ?it/s]"
      ]
     },
     "metadata": {},
     "output_type": "display_data"
    },
    {
     "data": {
      "application/vnd.jupyter.widget-view+json": {
       "model_id": "",
       "version_major": 2,
       "version_minor": 0
      },
      "text/plain": [
       "  0%|          | 0/3248 [00:00<?, ?it/s]"
      ]
     },
     "metadata": {},
     "output_type": "display_data"
    },
    {
     "data": {
      "application/vnd.jupyter.widget-view+json": {
       "model_id": "",
       "version_major": 2,
       "version_minor": 0
      },
      "text/plain": [
       "  0%|          | 0/3248 [00:00<?, ?it/s]"
      ]
     },
     "metadata": {},
     "output_type": "display_data"
    },
    {
     "data": {
      "application/vnd.jupyter.widget-view+json": {
       "model_id": "",
       "version_major": 2,
       "version_minor": 0
      },
      "text/plain": [
       "  0%|          | 0/3248 [00:00<?, ?it/s]"
      ]
     },
     "metadata": {},
     "output_type": "display_data"
    },
    {
     "data": {
      "application/vnd.jupyter.widget-view+json": {
       "model_id": "",
       "version_major": 2,
       "version_minor": 0
      },
      "text/plain": [
       "  0%|          | 0/3248 [00:00<?, ?it/s]"
      ]
     },
     "metadata": {},
     "output_type": "display_data"
    },
    {
     "data": {
      "application/vnd.jupyter.widget-view+json": {
       "model_id": "",
       "version_major": 2,
       "version_minor": 0
      },
      "text/plain": [
       "  0%|          | 0/3248 [00:00<?, ?it/s]"
      ]
     },
     "metadata": {},
     "output_type": "display_data"
    },
    {
     "data": {
      "application/vnd.jupyter.widget-view+json": {
       "model_id": "",
       "version_major": 2,
       "version_minor": 0
      },
      "text/plain": [
       "  0%|          | 0/3248 [00:00<?, ?it/s]"
      ]
     },
     "metadata": {},
     "output_type": "display_data"
    },
    {
     "data": {
      "application/vnd.jupyter.widget-view+json": {
       "model_id": "",
       "version_major": 2,
       "version_minor": 0
      },
      "text/plain": [
       "  0%|          | 0/3248 [00:00<?, ?it/s]"
      ]
     },
     "metadata": {},
     "output_type": "display_data"
    },
    {
     "data": {
      "application/vnd.jupyter.widget-view+json": {
       "model_id": "",
       "version_major": 2,
       "version_minor": 0
      },
      "text/plain": [
       "  0%|          | 0/3248 [00:00<?, ?it/s]"
      ]
     },
     "metadata": {},
     "output_type": "display_data"
    },
    {
     "data": {
      "application/vnd.jupyter.widget-view+json": {
       "model_id": "",
       "version_major": 2,
       "version_minor": 0
      },
      "text/plain": [
       "  0%|          | 0/3248 [00:00<?, ?it/s]"
      ]
     },
     "metadata": {},
     "output_type": "display_data"
    },
    {
     "data": {
      "application/vnd.jupyter.widget-view+json": {
       "model_id": "",
       "version_major": 2,
       "version_minor": 0
      },
      "text/plain": [
       "  0%|          | 0/3248 [00:00<?, ?it/s]"
      ]
     },
     "metadata": {},
     "output_type": "display_data"
    },
    {
     "data": {
      "application/vnd.jupyter.widget-view+json": {
       "model_id": "",
       "version_major": 2,
       "version_minor": 0
      },
      "text/plain": [
       "  0%|          | 0/3248 [00:00<?, ?it/s]"
      ]
     },
     "metadata": {},
     "output_type": "display_data"
    },
    {
     "data": {
      "application/vnd.jupyter.widget-view+json": {
       "model_id": "",
       "version_major": 2,
       "version_minor": 0
      },
      "text/plain": [
       "  0%|          | 0/3248 [00:00<?, ?it/s]"
      ]
     },
     "metadata": {},
     "output_type": "display_data"
    },
    {
     "data": {
      "application/vnd.jupyter.widget-view+json": {
       "model_id": "",
       "version_major": 2,
       "version_minor": 0
      },
      "text/plain": [
       "  0%|          | 0/3248 [00:00<?, ?it/s]"
      ]
     },
     "metadata": {},
     "output_type": "display_data"
    },
    {
     "data": {
      "application/vnd.jupyter.widget-view+json": {
       "model_id": "",
       "version_major": 2,
       "version_minor": 0
      },
      "text/plain": [
       "  0%|          | 0/3248 [00:00<?, ?it/s]"
      ]
     },
     "metadata": {},
     "output_type": "display_data"
    },
    {
     "data": {
      "application/vnd.jupyter.widget-view+json": {
       "model_id": "",
       "version_major": 2,
       "version_minor": 0
      },
      "text/plain": [
       "  0%|          | 0/3248 [00:00<?, ?it/s]"
      ]
     },
     "metadata": {},
     "output_type": "display_data"
    },
    {
     "data": {
      "application/vnd.jupyter.widget-view+json": {
       "model_id": "",
       "version_major": 2,
       "version_minor": 0
      },
      "text/plain": [
       "  0%|          | 0/3248 [00:00<?, ?it/s]"
      ]
     },
     "metadata": {},
     "output_type": "display_data"
    },
    {
     "data": {
      "application/vnd.jupyter.widget-view+json": {
       "model_id": "",
       "version_major": 2,
       "version_minor": 0
      },
      "text/plain": [
       "  0%|          | 0/3248 [00:00<?, ?it/s]"
      ]
     },
     "metadata": {},
     "output_type": "display_data"
    },
    {
     "data": {
      "application/vnd.jupyter.widget-view+json": {
       "model_id": "",
       "version_major": 2,
       "version_minor": 0
      },
      "text/plain": [
       "  0%|          | 0/3248 [00:00<?, ?it/s]"
      ]
     },
     "metadata": {},
     "output_type": "display_data"
    },
    {
     "data": {
      "application/vnd.jupyter.widget-view+json": {
       "model_id": "",
       "version_major": 2,
       "version_minor": 0
      },
      "text/plain": [
       "  0%|          | 0/3248 [00:00<?, ?it/s]"
      ]
     },
     "metadata": {},
     "output_type": "display_data"
    },
    {
     "data": {
      "application/vnd.jupyter.widget-view+json": {
       "model_id": "",
       "version_major": 2,
       "version_minor": 0
      },
      "text/plain": [
       "  0%|          | 0/3248 [00:00<?, ?it/s]"
      ]
     },
     "metadata": {},
     "output_type": "display_data"
    },
    {
     "data": {
      "application/vnd.jupyter.widget-view+json": {
       "model_id": "",
       "version_major": 2,
       "version_minor": 0
      },
      "text/plain": [
       "  0%|          | 0/3248 [00:00<?, ?it/s]"
      ]
     },
     "metadata": {},
     "output_type": "display_data"
    },
    {
     "data": {
      "application/vnd.jupyter.widget-view+json": {
       "model_id": "",
       "version_major": 2,
       "version_minor": 0
      },
      "text/plain": [
       "  0%|          | 0/3248 [00:00<?, ?it/s]"
      ]
     },
     "metadata": {},
     "output_type": "display_data"
    },
    {
     "data": {
      "application/vnd.jupyter.widget-view+json": {
       "model_id": "",
       "version_major": 2,
       "version_minor": 0
      },
      "text/plain": [
       "  0%|          | 0/3248 [00:00<?, ?it/s]"
      ]
     },
     "metadata": {},
     "output_type": "display_data"
    },
    {
     "data": {
      "application/vnd.jupyter.widget-view+json": {
       "model_id": "",
       "version_major": 2,
       "version_minor": 0
      },
      "text/plain": [
       "  0%|          | 0/3248 [00:00<?, ?it/s]"
      ]
     },
     "metadata": {},
     "output_type": "display_data"
    },
    {
     "data": {
      "application/vnd.jupyter.widget-view+json": {
       "model_id": "",
       "version_major": 2,
       "version_minor": 0
      },
      "text/plain": [
       "  0%|          | 0/3248 [00:00<?, ?it/s]"
      ]
     },
     "metadata": {},
     "output_type": "display_data"
    },
    {
     "data": {
      "application/vnd.jupyter.widget-view+json": {
       "model_id": "",
       "version_major": 2,
       "version_minor": 0
      },
      "text/plain": [
       "  0%|          | 0/3248 [00:00<?, ?it/s]"
      ]
     },
     "metadata": {},
     "output_type": "display_data"
    },
    {
     "data": {
      "application/vnd.jupyter.widget-view+json": {
       "model_id": "",
       "version_major": 2,
       "version_minor": 0
      },
      "text/plain": [
       "  0%|          | 0/3248 [00:00<?, ?it/s]"
      ]
     },
     "metadata": {},
     "output_type": "display_data"
    },
    {
     "data": {
      "application/vnd.jupyter.widget-view+json": {
       "model_id": "",
       "version_major": 2,
       "version_minor": 0
      },
      "text/plain": [
       "  0%|          | 0/3248 [00:00<?, ?it/s]"
      ]
     },
     "metadata": {},
     "output_type": "display_data"
    },
    {
     "data": {
      "application/vnd.jupyter.widget-view+json": {
       "model_id": "",
       "version_major": 2,
       "version_minor": 0
      },
      "text/plain": [
       "  0%|          | 0/3248 [00:00<?, ?it/s]"
      ]
     },
     "metadata": {},
     "output_type": "display_data"
    },
    {
     "data": {
      "application/vnd.jupyter.widget-view+json": {
       "model_id": "",
       "version_major": 2,
       "version_minor": 0
      },
      "text/plain": [
       "  0%|          | 0/3248 [00:00<?, ?it/s]"
      ]
     },
     "metadata": {},
     "output_type": "display_data"
    },
    {
     "data": {
      "application/vnd.jupyter.widget-view+json": {
       "model_id": "",
       "version_major": 2,
       "version_minor": 0
      },
      "text/plain": [
       "  0%|          | 0/3248 [00:00<?, ?it/s]"
      ]
     },
     "metadata": {},
     "output_type": "display_data"
    },
    {
     "data": {
      "application/vnd.jupyter.widget-view+json": {
       "model_id": "",
       "version_major": 2,
       "version_minor": 0
      },
      "text/plain": [
       "  0%|          | 0/3248 [00:00<?, ?it/s]"
      ]
     },
     "metadata": {},
     "output_type": "display_data"
    },
    {
     "data": {
      "application/vnd.jupyter.widget-view+json": {
       "model_id": "",
       "version_major": 2,
       "version_minor": 0
      },
      "text/plain": [
       "  0%|          | 0/3248 [00:00<?, ?it/s]"
      ]
     },
     "metadata": {},
     "output_type": "display_data"
    },
    {
     "data": {
      "application/vnd.jupyter.widget-view+json": {
       "model_id": "",
       "version_major": 2,
       "version_minor": 0
      },
      "text/plain": [
       "  0%|          | 0/3248 [00:00<?, ?it/s]"
      ]
     },
     "metadata": {},
     "output_type": "display_data"
    },
    {
     "data": {
      "application/vnd.jupyter.widget-view+json": {
       "model_id": "",
       "version_major": 2,
       "version_minor": 0
      },
      "text/plain": [
       "  0%|          | 0/3248 [00:00<?, ?it/s]"
      ]
     },
     "metadata": {},
     "output_type": "display_data"
    },
    {
     "data": {
      "application/vnd.jupyter.widget-view+json": {
       "model_id": "",
       "version_major": 2,
       "version_minor": 0
      },
      "text/plain": [
       "  0%|          | 0/3248 [00:00<?, ?it/s]"
      ]
     },
     "metadata": {},
     "output_type": "display_data"
    },
    {
     "data": {
      "application/vnd.jupyter.widget-view+json": {
       "model_id": "",
       "version_major": 2,
       "version_minor": 0
      },
      "text/plain": [
       "  0%|          | 0/3248 [00:00<?, ?it/s]"
      ]
     },
     "metadata": {},
     "output_type": "display_data"
    },
    {
     "data": {
      "application/vnd.jupyter.widget-view+json": {
       "model_id": "",
       "version_major": 2,
       "version_minor": 0
      },
      "text/plain": [
       "  0%|          | 0/3248 [00:00<?, ?it/s]"
      ]
     },
     "metadata": {},
     "output_type": "display_data"
    },
    {
     "data": {
      "application/vnd.jupyter.widget-view+json": {
       "model_id": "",
       "version_major": 2,
       "version_minor": 0
      },
      "text/plain": [
       "  0%|          | 0/3248 [00:00<?, ?it/s]"
      ]
     },
     "metadata": {},
     "output_type": "display_data"
    },
    {
     "data": {
      "application/vnd.jupyter.widget-view+json": {
       "model_id": "",
       "version_major": 2,
       "version_minor": 0
      },
      "text/plain": [
       "  0%|          | 0/3248 [00:00<?, ?it/s]"
      ]
     },
     "metadata": {},
     "output_type": "display_data"
    },
    {
     "data": {
      "application/vnd.jupyter.widget-view+json": {
       "model_id": "",
       "version_major": 2,
       "version_minor": 0
      },
      "text/plain": [
       "  0%|          | 0/3248 [00:00<?, ?it/s]"
      ]
     },
     "metadata": {},
     "output_type": "display_data"
    },
    {
     "data": {
      "application/vnd.jupyter.widget-view+json": {
       "model_id": "",
       "version_major": 2,
       "version_minor": 0
      },
      "text/plain": [
       "  0%|          | 0/3248 [00:00<?, ?it/s]"
      ]
     },
     "metadata": {},
     "output_type": "display_data"
    },
    {
     "data": {
      "application/vnd.jupyter.widget-view+json": {
       "model_id": "",
       "version_major": 2,
       "version_minor": 0
      },
      "text/plain": [
       "  0%|          | 0/3248 [00:00<?, ?it/s]"
      ]
     },
     "metadata": {},
     "output_type": "display_data"
    },
    {
     "data": {
      "application/vnd.jupyter.widget-view+json": {
       "model_id": "",
       "version_major": 2,
       "version_minor": 0
      },
      "text/plain": [
       "  0%|          | 0/3248 [00:00<?, ?it/s]"
      ]
     },
     "metadata": {},
     "output_type": "display_data"
    },
    {
     "data": {
      "application/vnd.jupyter.widget-view+json": {
       "model_id": "",
       "version_major": 2,
       "version_minor": 0
      },
      "text/plain": [
       "  0%|          | 0/3248 [00:00<?, ?it/s]"
      ]
     },
     "metadata": {},
     "output_type": "display_data"
    },
    {
     "data": {
      "application/vnd.jupyter.widget-view+json": {
       "model_id": "",
       "version_major": 2,
       "version_minor": 0
      },
      "text/plain": [
       "  0%|          | 0/3248 [00:00<?, ?it/s]"
      ]
     },
     "metadata": {},
     "output_type": "display_data"
    },
    {
     "data": {
      "application/vnd.jupyter.widget-view+json": {
       "model_id": "",
       "version_major": 2,
       "version_minor": 0
      },
      "text/plain": [
       "  0%|          | 0/3248 [00:00<?, ?it/s]"
      ]
     },
     "metadata": {},
     "output_type": "display_data"
    },
    {
     "data": {
      "application/vnd.jupyter.widget-view+json": {
       "model_id": "",
       "version_major": 2,
       "version_minor": 0
      },
      "text/plain": [
       "  0%|          | 0/3248 [00:00<?, ?it/s]"
      ]
     },
     "metadata": {},
     "output_type": "display_data"
    },
    {
     "data": {
      "application/vnd.jupyter.widget-view+json": {
       "model_id": "",
       "version_major": 2,
       "version_minor": 0
      },
      "text/plain": [
       "  0%|          | 0/3248 [00:00<?, ?it/s]"
      ]
     },
     "metadata": {},
     "output_type": "display_data"
    },
    {
     "data": {
      "application/vnd.jupyter.widget-view+json": {
       "model_id": "",
       "version_major": 2,
       "version_minor": 0
      },
      "text/plain": [
       "  0%|          | 0/3248 [00:00<?, ?it/s]"
      ]
     },
     "metadata": {},
     "output_type": "display_data"
    },
    {
     "data": {
      "application/vnd.jupyter.widget-view+json": {
       "model_id": "",
       "version_major": 2,
       "version_minor": 0
      },
      "text/plain": [
       "  0%|          | 0/3248 [00:00<?, ?it/s]"
      ]
     },
     "metadata": {},
     "output_type": "display_data"
    },
    {
     "data": {
      "application/vnd.jupyter.widget-view+json": {
       "model_id": "",
       "version_major": 2,
       "version_minor": 0
      },
      "text/plain": [
       "  0%|          | 0/3248 [00:00<?, ?it/s]"
      ]
     },
     "metadata": {},
     "output_type": "display_data"
    },
    {
     "data": {
      "application/vnd.jupyter.widget-view+json": {
       "model_id": "",
       "version_major": 2,
       "version_minor": 0
      },
      "text/plain": [
       "  0%|          | 0/3248 [00:00<?, ?it/s]"
      ]
     },
     "metadata": {},
     "output_type": "display_data"
    },
    {
     "data": {
      "application/vnd.jupyter.widget-view+json": {
       "model_id": "",
       "version_major": 2,
       "version_minor": 0
      },
      "text/plain": [
       "  0%|          | 0/3248 [00:00<?, ?it/s]"
      ]
     },
     "metadata": {},
     "output_type": "display_data"
    },
    {
     "data": {
      "application/vnd.jupyter.widget-view+json": {
       "model_id": "",
       "version_major": 2,
       "version_minor": 0
      },
      "text/plain": [
       "  0%|          | 0/3248 [00:00<?, ?it/s]"
      ]
     },
     "metadata": {},
     "output_type": "display_data"
    },
    {
     "data": {
      "application/vnd.jupyter.widget-view+json": {
       "model_id": "",
       "version_major": 2,
       "version_minor": 0
      },
      "text/plain": [
       "  0%|          | 0/3248 [00:00<?, ?it/s]"
      ]
     },
     "metadata": {},
     "output_type": "display_data"
    },
    {
     "data": {
      "application/vnd.jupyter.widget-view+json": {
       "model_id": "",
       "version_major": 2,
       "version_minor": 0
      },
      "text/plain": [
       "  0%|          | 0/3248 [00:00<?, ?it/s]"
      ]
     },
     "metadata": {},
     "output_type": "display_data"
    },
    {
     "data": {
      "application/vnd.jupyter.widget-view+json": {
       "model_id": "",
       "version_major": 2,
       "version_minor": 0
      },
      "text/plain": [
       "  0%|          | 0/3248 [00:00<?, ?it/s]"
      ]
     },
     "metadata": {},
     "output_type": "display_data"
    },
    {
     "data": {
      "application/vnd.jupyter.widget-view+json": {
       "model_id": "",
       "version_major": 2,
       "version_minor": 0
      },
      "text/plain": [
       "  0%|          | 0/3248 [00:00<?, ?it/s]"
      ]
     },
     "metadata": {},
     "output_type": "display_data"
    },
    {
     "data": {
      "application/vnd.jupyter.widget-view+json": {
       "model_id": "",
       "version_major": 2,
       "version_minor": 0
      },
      "text/plain": [
       "  0%|          | 0/3248 [00:00<?, ?it/s]"
      ]
     },
     "metadata": {},
     "output_type": "display_data"
    },
    {
     "data": {
      "application/vnd.jupyter.widget-view+json": {
       "model_id": "",
       "version_major": 2,
       "version_minor": 0
      },
      "text/plain": [
       "  0%|          | 0/3248 [00:00<?, ?it/s]"
      ]
     },
     "metadata": {},
     "output_type": "display_data"
    },
    {
     "data": {
      "application/vnd.jupyter.widget-view+json": {
       "model_id": "",
       "version_major": 2,
       "version_minor": 0
      },
      "text/plain": [
       "  0%|          | 0/3248 [00:00<?, ?it/s]"
      ]
     },
     "metadata": {},
     "output_type": "display_data"
    },
    {
     "data": {
      "application/vnd.jupyter.widget-view+json": {
       "model_id": "",
       "version_major": 2,
       "version_minor": 0
      },
      "text/plain": [
       "  0%|          | 0/3248 [00:00<?, ?it/s]"
      ]
     },
     "metadata": {},
     "output_type": "display_data"
    },
    {
     "data": {
      "application/vnd.jupyter.widget-view+json": {
       "model_id": "",
       "version_major": 2,
       "version_minor": 0
      },
      "text/plain": [
       "  0%|          | 0/3248 [00:00<?, ?it/s]"
      ]
     },
     "metadata": {},
     "output_type": "display_data"
    },
    {
     "data": {
      "application/vnd.jupyter.widget-view+json": {
       "model_id": "",
       "version_major": 2,
       "version_minor": 0
      },
      "text/plain": [
       "  0%|          | 0/3248 [00:00<?, ?it/s]"
      ]
     },
     "metadata": {},
     "output_type": "display_data"
    },
    {
     "data": {
      "application/vnd.jupyter.widget-view+json": {
       "model_id": "",
       "version_major": 2,
       "version_minor": 0
      },
      "text/plain": [
       "  0%|          | 0/3248 [00:00<?, ?it/s]"
      ]
     },
     "metadata": {},
     "output_type": "display_data"
    },
    {
     "data": {
      "application/vnd.jupyter.widget-view+json": {
       "model_id": "",
       "version_major": 2,
       "version_minor": 0
      },
      "text/plain": [
       "  0%|          | 0/3248 [00:00<?, ?it/s]"
      ]
     },
     "metadata": {},
     "output_type": "display_data"
    },
    {
     "data": {
      "application/vnd.jupyter.widget-view+json": {
       "model_id": "",
       "version_major": 2,
       "version_minor": 0
      },
      "text/plain": [
       "  0%|          | 0/3248 [00:00<?, ?it/s]"
      ]
     },
     "metadata": {},
     "output_type": "display_data"
    },
    {
     "data": {
      "application/vnd.jupyter.widget-view+json": {
       "model_id": "",
       "version_major": 2,
       "version_minor": 0
      },
      "text/plain": [
       "  0%|          | 0/3248 [00:00<?, ?it/s]"
      ]
     },
     "metadata": {},
     "output_type": "display_data"
    },
    {
     "data": {
      "application/vnd.jupyter.widget-view+json": {
       "model_id": "",
       "version_major": 2,
       "version_minor": 0
      },
      "text/plain": [
       "  0%|          | 0/3248 [00:00<?, ?it/s]"
      ]
     },
     "metadata": {},
     "output_type": "display_data"
    },
    {
     "data": {
      "application/vnd.jupyter.widget-view+json": {
       "model_id": "",
       "version_major": 2,
       "version_minor": 0
      },
      "text/plain": [
       "  0%|          | 0/3248 [00:00<?, ?it/s]"
      ]
     },
     "metadata": {},
     "output_type": "display_data"
    },
    {
     "data": {
      "application/vnd.jupyter.widget-view+json": {
       "model_id": "",
       "version_major": 2,
       "version_minor": 0
      },
      "text/plain": [
       "  0%|          | 0/3248 [00:00<?, ?it/s]"
      ]
     },
     "metadata": {},
     "output_type": "display_data"
    },
    {
     "data": {
      "application/vnd.jupyter.widget-view+json": {
       "model_id": "",
       "version_major": 2,
       "version_minor": 0
      },
      "text/plain": [
       "  0%|          | 0/3248 [00:00<?, ?it/s]"
      ]
     },
     "metadata": {},
     "output_type": "display_data"
    },
    {
     "data": {
      "application/vnd.jupyter.widget-view+json": {
       "model_id": "",
       "version_major": 2,
       "version_minor": 0
      },
      "text/plain": [
       "  0%|          | 0/3248 [00:00<?, ?it/s]"
      ]
     },
     "metadata": {},
     "output_type": "display_data"
    },
    {
     "data": {
      "application/vnd.jupyter.widget-view+json": {
       "model_id": "",
       "version_major": 2,
       "version_minor": 0
      },
      "text/plain": [
       "  0%|          | 0/3248 [00:00<?, ?it/s]"
      ]
     },
     "metadata": {},
     "output_type": "display_data"
    },
    {
     "data": {
      "application/vnd.jupyter.widget-view+json": {
       "model_id": "",
       "version_major": 2,
       "version_minor": 0
      },
      "text/plain": [
       "  0%|          | 0/3248 [00:00<?, ?it/s]"
      ]
     },
     "metadata": {},
     "output_type": "display_data"
    },
    {
     "data": {
      "application/vnd.jupyter.widget-view+json": {
       "model_id": "",
       "version_major": 2,
       "version_minor": 0
      },
      "text/plain": [
       "  0%|          | 0/3248 [00:00<?, ?it/s]"
      ]
     },
     "metadata": {},
     "output_type": "display_data"
    },
    {
     "data": {
      "application/vnd.jupyter.widget-view+json": {
       "model_id": "",
       "version_major": 2,
       "version_minor": 0
      },
      "text/plain": [
       "  0%|          | 0/3248 [00:00<?, ?it/s]"
      ]
     },
     "metadata": {},
     "output_type": "display_data"
    },
    {
     "data": {
      "application/vnd.jupyter.widget-view+json": {
       "model_id": "",
       "version_major": 2,
       "version_minor": 0
      },
      "text/plain": [
       "  0%|          | 0/3248 [00:00<?, ?it/s]"
      ]
     },
     "metadata": {},
     "output_type": "display_data"
    },
    {
     "data": {
      "application/vnd.jupyter.widget-view+json": {
       "model_id": "",
       "version_major": 2,
       "version_minor": 0
      },
      "text/plain": [
       "  0%|          | 0/3248 [00:00<?, ?it/s]"
      ]
     },
     "metadata": {},
     "output_type": "display_data"
    },
    {
     "data": {
      "application/vnd.jupyter.widget-view+json": {
       "model_id": "",
       "version_major": 2,
       "version_minor": 0
      },
      "text/plain": [
       "  0%|          | 0/3248 [00:00<?, ?it/s]"
      ]
     },
     "metadata": {},
     "output_type": "display_data"
    },
    {
     "data": {
      "application/vnd.jupyter.widget-view+json": {
       "model_id": "",
       "version_major": 2,
       "version_minor": 0
      },
      "text/plain": [
       "  0%|          | 0/3248 [00:00<?, ?it/s]"
      ]
     },
     "metadata": {},
     "output_type": "display_data"
    },
    {
     "data": {
      "application/vnd.jupyter.widget-view+json": {
       "model_id": "8f95a1b0bc324f16b0e075d51aa6cf45",
       "version_major": 2,
       "version_minor": 0
      },
      "text/plain": [
       "  0%|          | 0/3248 [00:00<?, ?it/s]"
      ]
     },
     "metadata": {},
     "output_type": "display_data"
    },
    {
     "ename": "KeyboardInterrupt",
     "evalue": "",
     "output_type": "error",
     "traceback": [
      "\u001b[1;31m---------------------------------------------------------------------------\u001b[0m",
      "\u001b[1;31mKeyboardInterrupt\u001b[0m                         Traceback (most recent call last)",
      "\u001b[1;32m<ipython-input-166-e6b6c4d48182>\u001b[0m in \u001b[0;36m<module>\u001b[1;34m\u001b[0m\n\u001b[0;32m      1\u001b[0m \u001b[1;31m# resampling the original data into a daily value\u001b[0m\u001b[1;33m\u001b[0m\u001b[1;33m\u001b[0m\u001b[1;33m\u001b[0m\u001b[0m\n\u001b[1;32m----> 2\u001b[1;33m \u001b[0mdf_energy_daily\u001b[0m \u001b[1;33m=\u001b[0m \u001b[0mresample_to_different_time\u001b[0m\u001b[1;33m(\u001b[0m\u001b[0mdf_energy\u001b[0m\u001b[1;33m,\u001b[0m \u001b[1;34m\"consumption_daily\"\u001b[0m\u001b[1;33m,\u001b[0m\u001b[1;34m\"D\"\u001b[0m\u001b[1;33m,\u001b[0m\u001b[1;32mFalse\u001b[0m\u001b[1;33m)\u001b[0m\u001b[1;33m\u001b[0m\u001b[1;33m\u001b[0m\u001b[0m\n\u001b[0m",
      "\u001b[1;32m<ipython-input-165-43ed56b5566f>\u001b[0m in \u001b[0;36mresample_to_different_time\u001b[1;34m(df_energy, file_name, resample_size, acceptNaN)\u001b[0m\n\u001b[0;32m     38\u001b[0m \u001b[1;33m\u001b[0m\u001b[0m\n\u001b[0;32m     39\u001b[0m             \u001b[1;31m#for each rows boolean contains nulls truth value\u001b[0m\u001b[1;33m\u001b[0m\u001b[1;33m\u001b[0m\u001b[1;33m\u001b[0m\u001b[0m\n\u001b[1;32m---> 40\u001b[1;33m             \u001b[1;32mfor\u001b[0m \u001b[0mrow_id\u001b[0m \u001b[1;32min\u001b[0m \u001b[0mtqdm\u001b[0m\u001b[1;33m(\u001b[0m\u001b[0mrange\u001b[0m\u001b[1;33m(\u001b[0m\u001b[0mlen\u001b[0m\u001b[1;33m(\u001b[0m\u001b[0mseries_bool_contains_nulls\u001b[0m\u001b[1;33m)\u001b[0m\u001b[1;33m)\u001b[0m\u001b[1;33m,\u001b[0m \u001b[0mposition\u001b[0m\u001b[1;33m=\u001b[0m\u001b[1;36m1\u001b[0m\u001b[1;33m,\u001b[0m \u001b[0mleave\u001b[0m\u001b[1;33m=\u001b[0m\u001b[1;32mFalse\u001b[0m\u001b[1;33m)\u001b[0m\u001b[1;33m:\u001b[0m\u001b[1;33m\u001b[0m\u001b[1;33m\u001b[0m\u001b[0m\n\u001b[0m\u001b[0;32m     41\u001b[0m                 \u001b[1;31m#this rows corresponding truth value for whether or not it contains nulls\u001b[0m\u001b[1;33m\u001b[0m\u001b[1;33m\u001b[0m\u001b[1;33m\u001b[0m\u001b[0m\n\u001b[0;32m     42\u001b[0m                 \u001b[0mbool_contains_null\u001b[0m\u001b[1;33m=\u001b[0m\u001b[0mseries_bool_contains_nulls\u001b[0m\u001b[1;33m[\u001b[0m\u001b[0mrow_id\u001b[0m\u001b[1;33m]\u001b[0m\u001b[1;33m\u001b[0m\u001b[1;33m\u001b[0m\u001b[0m\n",
      "\u001b[1;32m~\\Anaconda3\\envs\\mle_tf\\lib\\site-packages\\tqdm\\notebook.py\u001b[0m in \u001b[0;36m__iter__\u001b[1;34m(self, *args, **kwargs)\u001b[0m\n\u001b[0;32m    251\u001b[0m     \u001b[1;32mdef\u001b[0m \u001b[0m__iter__\u001b[0m\u001b[1;33m(\u001b[0m\u001b[0mself\u001b[0m\u001b[1;33m,\u001b[0m \u001b[1;33m*\u001b[0m\u001b[0margs\u001b[0m\u001b[1;33m,\u001b[0m \u001b[1;33m**\u001b[0m\u001b[0mkwargs\u001b[0m\u001b[1;33m)\u001b[0m\u001b[1;33m:\u001b[0m\u001b[1;33m\u001b[0m\u001b[1;33m\u001b[0m\u001b[0m\n\u001b[0;32m    252\u001b[0m         \u001b[1;32mtry\u001b[0m\u001b[1;33m:\u001b[0m\u001b[1;33m\u001b[0m\u001b[1;33m\u001b[0m\u001b[0m\n\u001b[1;32m--> 253\u001b[1;33m             \u001b[1;32mfor\u001b[0m \u001b[0mobj\u001b[0m \u001b[1;32min\u001b[0m \u001b[0msuper\u001b[0m\u001b[1;33m(\u001b[0m\u001b[0mtqdm_notebook\u001b[0m\u001b[1;33m,\u001b[0m \u001b[0mself\u001b[0m\u001b[1;33m)\u001b[0m\u001b[1;33m.\u001b[0m\u001b[0m__iter__\u001b[0m\u001b[1;33m(\u001b[0m\u001b[1;33m*\u001b[0m\u001b[0margs\u001b[0m\u001b[1;33m,\u001b[0m \u001b[1;33m**\u001b[0m\u001b[0mkwargs\u001b[0m\u001b[1;33m)\u001b[0m\u001b[1;33m:\u001b[0m\u001b[1;33m\u001b[0m\u001b[1;33m\u001b[0m\u001b[0m\n\u001b[0m\u001b[0;32m    254\u001b[0m                 \u001b[1;31m# return super(tqdm...) will not catch exception\u001b[0m\u001b[1;33m\u001b[0m\u001b[1;33m\u001b[0m\u001b[1;33m\u001b[0m\u001b[0m\n\u001b[0;32m    255\u001b[0m                 \u001b[1;32myield\u001b[0m \u001b[0mobj\u001b[0m\u001b[1;33m\u001b[0m\u001b[1;33m\u001b[0m\u001b[0m\n",
      "\u001b[1;32m~\\Anaconda3\\envs\\mle_tf\\lib\\site-packages\\tqdm\\std.py\u001b[0m in \u001b[0;36m__iter__\u001b[1;34m(self)\u001b[0m\n\u001b[0;32m   1173\u001b[0m                     \u001b[0mdt\u001b[0m \u001b[1;33m=\u001b[0m \u001b[0mtime\u001b[0m\u001b[1;33m(\u001b[0m\u001b[1;33m)\u001b[0m \u001b[1;33m-\u001b[0m \u001b[0mlast_print_t\u001b[0m\u001b[1;33m\u001b[0m\u001b[1;33m\u001b[0m\u001b[0m\n\u001b[0;32m   1174\u001b[0m                     \u001b[1;32mif\u001b[0m \u001b[0mdt\u001b[0m \u001b[1;33m>=\u001b[0m \u001b[0mmininterval\u001b[0m\u001b[1;33m:\u001b[0m\u001b[1;33m\u001b[0m\u001b[1;33m\u001b[0m\u001b[0m\n\u001b[1;32m-> 1175\u001b[1;33m                         \u001b[0mself\u001b[0m\u001b[1;33m.\u001b[0m\u001b[0mupdate\u001b[0m\u001b[1;33m(\u001b[0m\u001b[0mn\u001b[0m \u001b[1;33m-\u001b[0m \u001b[0mlast_print_n\u001b[0m\u001b[1;33m)\u001b[0m\u001b[1;33m\u001b[0m\u001b[1;33m\u001b[0m\u001b[0m\n\u001b[0m\u001b[0;32m   1176\u001b[0m                         \u001b[0mlast_print_n\u001b[0m \u001b[1;33m=\u001b[0m \u001b[0mself\u001b[0m\u001b[1;33m.\u001b[0m\u001b[0mlast_print_n\u001b[0m\u001b[1;33m\u001b[0m\u001b[1;33m\u001b[0m\u001b[0m\n\u001b[0;32m   1177\u001b[0m                         \u001b[0mlast_print_t\u001b[0m \u001b[1;33m=\u001b[0m \u001b[0mself\u001b[0m\u001b[1;33m.\u001b[0m\u001b[0mlast_print_t\u001b[0m\u001b[1;33m\u001b[0m\u001b[1;33m\u001b[0m\u001b[0m\n",
      "\u001b[1;32m~\\Anaconda3\\envs\\mle_tf\\lib\\site-packages\\tqdm\\notebook.py\u001b[0m in \u001b[0;36mupdate\u001b[1;34m(self, *args, **kwargs)\u001b[0m\n\u001b[0;32m    263\u001b[0m     \u001b[1;32mdef\u001b[0m \u001b[0mupdate\u001b[0m\u001b[1;33m(\u001b[0m\u001b[0mself\u001b[0m\u001b[1;33m,\u001b[0m \u001b[1;33m*\u001b[0m\u001b[0margs\u001b[0m\u001b[1;33m,\u001b[0m \u001b[1;33m**\u001b[0m\u001b[0mkwargs\u001b[0m\u001b[1;33m)\u001b[0m\u001b[1;33m:\u001b[0m\u001b[1;33m\u001b[0m\u001b[1;33m\u001b[0m\u001b[0m\n\u001b[0;32m    264\u001b[0m         \u001b[1;32mtry\u001b[0m\u001b[1;33m:\u001b[0m\u001b[1;33m\u001b[0m\u001b[1;33m\u001b[0m\u001b[0m\n\u001b[1;32m--> 265\u001b[1;33m             \u001b[1;32mreturn\u001b[0m \u001b[0msuper\u001b[0m\u001b[1;33m(\u001b[0m\u001b[0mtqdm_notebook\u001b[0m\u001b[1;33m,\u001b[0m \u001b[0mself\u001b[0m\u001b[1;33m)\u001b[0m\u001b[1;33m.\u001b[0m\u001b[0mupdate\u001b[0m\u001b[1;33m(\u001b[0m\u001b[1;33m*\u001b[0m\u001b[0margs\u001b[0m\u001b[1;33m,\u001b[0m \u001b[1;33m**\u001b[0m\u001b[0mkwargs\u001b[0m\u001b[1;33m)\u001b[0m\u001b[1;33m\u001b[0m\u001b[1;33m\u001b[0m\u001b[0m\n\u001b[0m\u001b[0;32m    266\u001b[0m         \u001b[1;31m# NB: except ... [ as ...] breaks IPython async KeyboardInterrupt\u001b[0m\u001b[1;33m\u001b[0m\u001b[1;33m\u001b[0m\u001b[1;33m\u001b[0m\u001b[0m\n\u001b[0;32m    267\u001b[0m         \u001b[1;32mexcept\u001b[0m\u001b[1;33m:\u001b[0m  \u001b[1;31m# NOQA\u001b[0m\u001b[1;33m\u001b[0m\u001b[1;33m\u001b[0m\u001b[0m\n",
      "\u001b[1;32m~\\Anaconda3\\envs\\mle_tf\\lib\\site-packages\\tqdm\\std.py\u001b[0m in \u001b[0;36mupdate\u001b[1;34m(self, n)\u001b[0m\n\u001b[0;32m   1223\u001b[0m                     \u001b[0mself\u001b[0m\u001b[1;33m.\u001b[0m\u001b[0m_ema_dn\u001b[0m\u001b[1;33m(\u001b[0m\u001b[0mdn\u001b[0m\u001b[1;33m)\u001b[0m\u001b[1;33m\u001b[0m\u001b[1;33m\u001b[0m\u001b[0m\n\u001b[0;32m   1224\u001b[0m                     \u001b[0mself\u001b[0m\u001b[1;33m.\u001b[0m\u001b[0m_ema_dt\u001b[0m\u001b[1;33m(\u001b[0m\u001b[0mdt\u001b[0m\u001b[1;33m)\u001b[0m\u001b[1;33m\u001b[0m\u001b[1;33m\u001b[0m\u001b[0m\n\u001b[1;32m-> 1225\u001b[1;33m                 \u001b[0mself\u001b[0m\u001b[1;33m.\u001b[0m\u001b[0mrefresh\u001b[0m\u001b[1;33m(\u001b[0m\u001b[0mlock_args\u001b[0m\u001b[1;33m=\u001b[0m\u001b[0mself\u001b[0m\u001b[1;33m.\u001b[0m\u001b[0mlock_args\u001b[0m\u001b[1;33m)\u001b[0m\u001b[1;33m\u001b[0m\u001b[1;33m\u001b[0m\u001b[0m\n\u001b[0m\u001b[0;32m   1226\u001b[0m                 \u001b[1;32mif\u001b[0m \u001b[0mself\u001b[0m\u001b[1;33m.\u001b[0m\u001b[0mdynamic_miniters\u001b[0m\u001b[1;33m:\u001b[0m\u001b[1;33m\u001b[0m\u001b[1;33m\u001b[0m\u001b[0m\n\u001b[0;32m   1227\u001b[0m                     \u001b[1;31m# If no `miniters` was specified, adjust automatically to the\u001b[0m\u001b[1;33m\u001b[0m\u001b[1;33m\u001b[0m\u001b[1;33m\u001b[0m\u001b[0m\n",
      "\u001b[1;32m~\\Anaconda3\\envs\\mle_tf\\lib\\site-packages\\tqdm\\std.py\u001b[0m in \u001b[0;36mrefresh\u001b[1;34m(self, nolock, lock_args)\u001b[0m\n\u001b[0;32m   1324\u001b[0m             \u001b[1;32melse\u001b[0m\u001b[1;33m:\u001b[0m\u001b[1;33m\u001b[0m\u001b[1;33m\u001b[0m\u001b[0m\n\u001b[0;32m   1325\u001b[0m                 \u001b[0mself\u001b[0m\u001b[1;33m.\u001b[0m\u001b[0m_lock\u001b[0m\u001b[1;33m.\u001b[0m\u001b[0macquire\u001b[0m\u001b[1;33m(\u001b[0m\u001b[1;33m)\u001b[0m\u001b[1;33m\u001b[0m\u001b[1;33m\u001b[0m\u001b[0m\n\u001b[1;32m-> 1326\u001b[1;33m         \u001b[0mself\u001b[0m\u001b[1;33m.\u001b[0m\u001b[0mdisplay\u001b[0m\u001b[1;33m(\u001b[0m\u001b[1;33m)\u001b[0m\u001b[1;33m\u001b[0m\u001b[1;33m\u001b[0m\u001b[0m\n\u001b[0m\u001b[0;32m   1327\u001b[0m         \u001b[1;32mif\u001b[0m \u001b[1;32mnot\u001b[0m \u001b[0mnolock\u001b[0m\u001b[1;33m:\u001b[0m\u001b[1;33m\u001b[0m\u001b[1;33m\u001b[0m\u001b[0m\n\u001b[0;32m   1328\u001b[0m             \u001b[0mself\u001b[0m\u001b[1;33m.\u001b[0m\u001b[0m_lock\u001b[0m\u001b[1;33m.\u001b[0m\u001b[0mrelease\u001b[0m\u001b[1;33m(\u001b[0m\u001b[1;33m)\u001b[0m\u001b[1;33m\u001b[0m\u001b[1;33m\u001b[0m\u001b[0m\n",
      "\u001b[1;32m~\\Anaconda3\\envs\\mle_tf\\lib\\site-packages\\tqdm\\notebook.py\u001b[0m in \u001b[0;36mdisplay\u001b[1;34m(self, msg, pos, close, bar_style)\u001b[0m\n\u001b[0;32m    167\u001b[0m \u001b[1;33m\u001b[0m\u001b[0m\n\u001b[0;32m    168\u001b[0m         \u001b[0mltext\u001b[0m\u001b[1;33m,\u001b[0m \u001b[0mpbar\u001b[0m\u001b[1;33m,\u001b[0m \u001b[0mrtext\u001b[0m \u001b[1;33m=\u001b[0m \u001b[0mself\u001b[0m\u001b[1;33m.\u001b[0m\u001b[0mcontainer\u001b[0m\u001b[1;33m.\u001b[0m\u001b[0mchildren\u001b[0m\u001b[1;33m\u001b[0m\u001b[1;33m\u001b[0m\u001b[0m\n\u001b[1;32m--> 169\u001b[1;33m         \u001b[0mpbar\u001b[0m\u001b[1;33m.\u001b[0m\u001b[0mvalue\u001b[0m \u001b[1;33m=\u001b[0m \u001b[0mself\u001b[0m\u001b[1;33m.\u001b[0m\u001b[0mn\u001b[0m\u001b[1;33m\u001b[0m\u001b[1;33m\u001b[0m\u001b[0m\n\u001b[0m\u001b[0;32m    170\u001b[0m \u001b[1;33m\u001b[0m\u001b[0m\n\u001b[0;32m    171\u001b[0m         \u001b[1;32mif\u001b[0m \u001b[0mmsg\u001b[0m\u001b[1;33m:\u001b[0m\u001b[1;33m\u001b[0m\u001b[1;33m\u001b[0m\u001b[0m\n",
      "\u001b[1;32m~\\Anaconda3\\envs\\mle_tf\\lib\\site-packages\\traitlets\\traitlets.py\u001b[0m in \u001b[0;36m__set__\u001b[1;34m(self, obj, value)\u001b[0m\n\u001b[0;32m    602\u001b[0m             \u001b[1;32mraise\u001b[0m \u001b[0mTraitError\u001b[0m\u001b[1;33m(\u001b[0m\u001b[1;34m'The \"%s\" trait is read-only.'\u001b[0m \u001b[1;33m%\u001b[0m \u001b[0mself\u001b[0m\u001b[1;33m.\u001b[0m\u001b[0mname\u001b[0m\u001b[1;33m)\u001b[0m\u001b[1;33m\u001b[0m\u001b[1;33m\u001b[0m\u001b[0m\n\u001b[0;32m    603\u001b[0m         \u001b[1;32melse\u001b[0m\u001b[1;33m:\u001b[0m\u001b[1;33m\u001b[0m\u001b[1;33m\u001b[0m\u001b[0m\n\u001b[1;32m--> 604\u001b[1;33m             \u001b[0mself\u001b[0m\u001b[1;33m.\u001b[0m\u001b[0mset\u001b[0m\u001b[1;33m(\u001b[0m\u001b[0mobj\u001b[0m\u001b[1;33m,\u001b[0m \u001b[0mvalue\u001b[0m\u001b[1;33m)\u001b[0m\u001b[1;33m\u001b[0m\u001b[1;33m\u001b[0m\u001b[0m\n\u001b[0m\u001b[0;32m    605\u001b[0m \u001b[1;33m\u001b[0m\u001b[0m\n\u001b[0;32m    606\u001b[0m     \u001b[1;32mdef\u001b[0m \u001b[0m_validate\u001b[0m\u001b[1;33m(\u001b[0m\u001b[0mself\u001b[0m\u001b[1;33m,\u001b[0m \u001b[0mobj\u001b[0m\u001b[1;33m,\u001b[0m \u001b[0mvalue\u001b[0m\u001b[1;33m)\u001b[0m\u001b[1;33m:\u001b[0m\u001b[1;33m\u001b[0m\u001b[1;33m\u001b[0m\u001b[0m\n",
      "\u001b[1;32m~\\Anaconda3\\envs\\mle_tf\\lib\\site-packages\\traitlets\\traitlets.py\u001b[0m in \u001b[0;36mset\u001b[1;34m(self, obj, value)\u001b[0m\n\u001b[0;32m    591\u001b[0m             \u001b[1;31m# we explicitly compare silent to True just in case the equality\u001b[0m\u001b[1;33m\u001b[0m\u001b[1;33m\u001b[0m\u001b[1;33m\u001b[0m\u001b[0m\n\u001b[0;32m    592\u001b[0m             \u001b[1;31m# comparison above returns something other than True/False\u001b[0m\u001b[1;33m\u001b[0m\u001b[1;33m\u001b[0m\u001b[1;33m\u001b[0m\u001b[0m\n\u001b[1;32m--> 593\u001b[1;33m             \u001b[0mobj\u001b[0m\u001b[1;33m.\u001b[0m\u001b[0m_notify_trait\u001b[0m\u001b[1;33m(\u001b[0m\u001b[0mself\u001b[0m\u001b[1;33m.\u001b[0m\u001b[0mname\u001b[0m\u001b[1;33m,\u001b[0m \u001b[0mold_value\u001b[0m\u001b[1;33m,\u001b[0m \u001b[0mnew_value\u001b[0m\u001b[1;33m)\u001b[0m\u001b[1;33m\u001b[0m\u001b[1;33m\u001b[0m\u001b[0m\n\u001b[0m\u001b[0;32m    594\u001b[0m \u001b[1;33m\u001b[0m\u001b[0m\n\u001b[0;32m    595\u001b[0m     \u001b[1;32mdef\u001b[0m \u001b[0m__set__\u001b[0m\u001b[1;33m(\u001b[0m\u001b[0mself\u001b[0m\u001b[1;33m,\u001b[0m \u001b[0mobj\u001b[0m\u001b[1;33m,\u001b[0m \u001b[0mvalue\u001b[0m\u001b[1;33m)\u001b[0m\u001b[1;33m:\u001b[0m\u001b[1;33m\u001b[0m\u001b[1;33m\u001b[0m\u001b[0m\n",
      "\u001b[1;32m~\\Anaconda3\\envs\\mle_tf\\lib\\site-packages\\traitlets\\traitlets.py\u001b[0m in \u001b[0;36m_notify_trait\u001b[1;34m(self, name, old_value, new_value)\u001b[0m\n\u001b[0;32m   1220\u001b[0m             \u001b[0mnew\u001b[0m\u001b[1;33m=\u001b[0m\u001b[0mnew_value\u001b[0m\u001b[1;33m,\u001b[0m\u001b[1;33m\u001b[0m\u001b[1;33m\u001b[0m\u001b[0m\n\u001b[0;32m   1221\u001b[0m             \u001b[0mowner\u001b[0m\u001b[1;33m=\u001b[0m\u001b[0mself\u001b[0m\u001b[1;33m,\u001b[0m\u001b[1;33m\u001b[0m\u001b[1;33m\u001b[0m\u001b[0m\n\u001b[1;32m-> 1222\u001b[1;33m             \u001b[0mtype\u001b[0m\u001b[1;33m=\u001b[0m\u001b[1;34m'change'\u001b[0m\u001b[1;33m,\u001b[0m\u001b[1;33m\u001b[0m\u001b[1;33m\u001b[0m\u001b[0m\n\u001b[0m\u001b[0;32m   1223\u001b[0m         ))\n\u001b[0;32m   1224\u001b[0m \u001b[1;33m\u001b[0m\u001b[0m\n",
      "\u001b[1;32m~\\Anaconda3\\envs\\mle_tf\\lib\\site-packages\\ipywidgets\\widgets\\widget.py\u001b[0m in \u001b[0;36mnotify_change\u001b[1;34m(self, change)\u001b[0m\n\u001b[0;32m    603\u001b[0m             \u001b[1;32mif\u001b[0m \u001b[0mname\u001b[0m \u001b[1;32min\u001b[0m \u001b[0mself\u001b[0m\u001b[1;33m.\u001b[0m\u001b[0mkeys\u001b[0m \u001b[1;32mand\u001b[0m \u001b[0mself\u001b[0m\u001b[1;33m.\u001b[0m\u001b[0m_should_send_property\u001b[0m\u001b[1;33m(\u001b[0m\u001b[0mname\u001b[0m\u001b[1;33m,\u001b[0m \u001b[0mgetattr\u001b[0m\u001b[1;33m(\u001b[0m\u001b[0mself\u001b[0m\u001b[1;33m,\u001b[0m \u001b[0mname\u001b[0m\u001b[1;33m)\u001b[0m\u001b[1;33m)\u001b[0m\u001b[1;33m:\u001b[0m\u001b[1;33m\u001b[0m\u001b[1;33m\u001b[0m\u001b[0m\n\u001b[0;32m    604\u001b[0m                 \u001b[1;31m# Send new state to front-end\u001b[0m\u001b[1;33m\u001b[0m\u001b[1;33m\u001b[0m\u001b[1;33m\u001b[0m\u001b[0m\n\u001b[1;32m--> 605\u001b[1;33m                 \u001b[0mself\u001b[0m\u001b[1;33m.\u001b[0m\u001b[0msend_state\u001b[0m\u001b[1;33m(\u001b[0m\u001b[0mkey\u001b[0m\u001b[1;33m=\u001b[0m\u001b[0mname\u001b[0m\u001b[1;33m)\u001b[0m\u001b[1;33m\u001b[0m\u001b[1;33m\u001b[0m\u001b[0m\n\u001b[0m\u001b[0;32m    606\u001b[0m         \u001b[0msuper\u001b[0m\u001b[1;33m(\u001b[0m\u001b[0mWidget\u001b[0m\u001b[1;33m,\u001b[0m \u001b[0mself\u001b[0m\u001b[1;33m)\u001b[0m\u001b[1;33m.\u001b[0m\u001b[0mnotify_change\u001b[0m\u001b[1;33m(\u001b[0m\u001b[0mchange\u001b[0m\u001b[1;33m)\u001b[0m\u001b[1;33m\u001b[0m\u001b[1;33m\u001b[0m\u001b[0m\n\u001b[0;32m    607\u001b[0m \u001b[1;33m\u001b[0m\u001b[0m\n",
      "\u001b[1;32m~\\Anaconda3\\envs\\mle_tf\\lib\\site-packages\\ipywidgets\\widgets\\widget.py\u001b[0m in \u001b[0;36msend_state\u001b[1;34m(self, key)\u001b[0m\n\u001b[0;32m    487\u001b[0m             \u001b[0mstate\u001b[0m\u001b[1;33m,\u001b[0m \u001b[0mbuffer_paths\u001b[0m\u001b[1;33m,\u001b[0m \u001b[0mbuffers\u001b[0m \u001b[1;33m=\u001b[0m \u001b[0m_remove_buffers\u001b[0m\u001b[1;33m(\u001b[0m\u001b[0mstate\u001b[0m\u001b[1;33m)\u001b[0m\u001b[1;33m\u001b[0m\u001b[1;33m\u001b[0m\u001b[0m\n\u001b[0;32m    488\u001b[0m             \u001b[0mmsg\u001b[0m \u001b[1;33m=\u001b[0m \u001b[1;33m{\u001b[0m\u001b[1;34m'method'\u001b[0m\u001b[1;33m:\u001b[0m \u001b[1;34m'update'\u001b[0m\u001b[1;33m,\u001b[0m \u001b[1;34m'state'\u001b[0m\u001b[1;33m:\u001b[0m \u001b[0mstate\u001b[0m\u001b[1;33m,\u001b[0m \u001b[1;34m'buffer_paths'\u001b[0m\u001b[1;33m:\u001b[0m \u001b[0mbuffer_paths\u001b[0m\u001b[1;33m}\u001b[0m\u001b[1;33m\u001b[0m\u001b[1;33m\u001b[0m\u001b[0m\n\u001b[1;32m--> 489\u001b[1;33m             \u001b[0mself\u001b[0m\u001b[1;33m.\u001b[0m\u001b[0m_send\u001b[0m\u001b[1;33m(\u001b[0m\u001b[0mmsg\u001b[0m\u001b[1;33m,\u001b[0m \u001b[0mbuffers\u001b[0m\u001b[1;33m=\u001b[0m\u001b[0mbuffers\u001b[0m\u001b[1;33m)\u001b[0m\u001b[1;33m\u001b[0m\u001b[1;33m\u001b[0m\u001b[0m\n\u001b[0m\u001b[0;32m    490\u001b[0m \u001b[1;33m\u001b[0m\u001b[0m\n\u001b[0;32m    491\u001b[0m \u001b[1;33m\u001b[0m\u001b[0m\n",
      "\u001b[1;32m~\\Anaconda3\\envs\\mle_tf\\lib\\site-packages\\ipywidgets\\widgets\\widget.py\u001b[0m in \u001b[0;36m_send\u001b[1;34m(self, msg, buffers)\u001b[0m\n\u001b[0;32m    735\u001b[0m         \u001b[1;34m\"\"\"Sends a message to the model in the front-end.\"\"\"\u001b[0m\u001b[1;33m\u001b[0m\u001b[1;33m\u001b[0m\u001b[0m\n\u001b[0;32m    736\u001b[0m         \u001b[1;32mif\u001b[0m \u001b[0mself\u001b[0m\u001b[1;33m.\u001b[0m\u001b[0mcomm\u001b[0m \u001b[1;32mis\u001b[0m \u001b[1;32mnot\u001b[0m \u001b[1;32mNone\u001b[0m \u001b[1;32mand\u001b[0m \u001b[0mself\u001b[0m\u001b[1;33m.\u001b[0m\u001b[0mcomm\u001b[0m\u001b[1;33m.\u001b[0m\u001b[0mkernel\u001b[0m \u001b[1;32mis\u001b[0m \u001b[1;32mnot\u001b[0m \u001b[1;32mNone\u001b[0m\u001b[1;33m:\u001b[0m\u001b[1;33m\u001b[0m\u001b[1;33m\u001b[0m\u001b[0m\n\u001b[1;32m--> 737\u001b[1;33m             \u001b[0mself\u001b[0m\u001b[1;33m.\u001b[0m\u001b[0mcomm\u001b[0m\u001b[1;33m.\u001b[0m\u001b[0msend\u001b[0m\u001b[1;33m(\u001b[0m\u001b[0mdata\u001b[0m\u001b[1;33m=\u001b[0m\u001b[0mmsg\u001b[0m\u001b[1;33m,\u001b[0m \u001b[0mbuffers\u001b[0m\u001b[1;33m=\u001b[0m\u001b[0mbuffers\u001b[0m\u001b[1;33m)\u001b[0m\u001b[1;33m\u001b[0m\u001b[1;33m\u001b[0m\u001b[0m\n\u001b[0m\u001b[0;32m    738\u001b[0m \u001b[1;33m\u001b[0m\u001b[0m\n\u001b[0;32m    739\u001b[0m     \u001b[1;32mdef\u001b[0m \u001b[0m_repr_keys\u001b[0m\u001b[1;33m(\u001b[0m\u001b[0mself\u001b[0m\u001b[1;33m)\u001b[0m\u001b[1;33m:\u001b[0m\u001b[1;33m\u001b[0m\u001b[1;33m\u001b[0m\u001b[0m\n",
      "\u001b[1;32m~\\Anaconda3\\envs\\mle_tf\\lib\\site-packages\\ipykernel\\comm\\comm.py\u001b[0m in \u001b[0;36msend\u001b[1;34m(self, data, metadata, buffers)\u001b[0m\n\u001b[0;32m    121\u001b[0m         \u001b[1;34m\"\"\"Send a message to the frontend-side version of this comm\"\"\"\u001b[0m\u001b[1;33m\u001b[0m\u001b[1;33m\u001b[0m\u001b[0m\n\u001b[0;32m    122\u001b[0m         self._publish_msg('comm_msg',\n\u001b[1;32m--> 123\u001b[1;33m             \u001b[0mdata\u001b[0m\u001b[1;33m=\u001b[0m\u001b[0mdata\u001b[0m\u001b[1;33m,\u001b[0m \u001b[0mmetadata\u001b[0m\u001b[1;33m=\u001b[0m\u001b[0mmetadata\u001b[0m\u001b[1;33m,\u001b[0m \u001b[0mbuffers\u001b[0m\u001b[1;33m=\u001b[0m\u001b[0mbuffers\u001b[0m\u001b[1;33m,\u001b[0m\u001b[1;33m\u001b[0m\u001b[1;33m\u001b[0m\u001b[0m\n\u001b[0m\u001b[0;32m    124\u001b[0m         )\n\u001b[0;32m    125\u001b[0m \u001b[1;33m\u001b[0m\u001b[0m\n",
      "\u001b[1;32m~\\Anaconda3\\envs\\mle_tf\\lib\\site-packages\\ipykernel\\comm\\comm.py\u001b[0m in \u001b[0;36m_publish_msg\u001b[1;34m(self, msg_type, data, metadata, buffers, **keys)\u001b[0m\n\u001b[0;32m     69\u001b[0m             \u001b[0mparent\u001b[0m\u001b[1;33m=\u001b[0m\u001b[0mself\u001b[0m\u001b[1;33m.\u001b[0m\u001b[0mkernel\u001b[0m\u001b[1;33m.\u001b[0m\u001b[0m_parent_header\u001b[0m\u001b[1;33m,\u001b[0m\u001b[1;33m\u001b[0m\u001b[1;33m\u001b[0m\u001b[0m\n\u001b[0;32m     70\u001b[0m             \u001b[0mident\u001b[0m\u001b[1;33m=\u001b[0m\u001b[0mself\u001b[0m\u001b[1;33m.\u001b[0m\u001b[0mtopic\u001b[0m\u001b[1;33m,\u001b[0m\u001b[1;33m\u001b[0m\u001b[1;33m\u001b[0m\u001b[0m\n\u001b[1;32m---> 71\u001b[1;33m             \u001b[0mbuffers\u001b[0m\u001b[1;33m=\u001b[0m\u001b[0mbuffers\u001b[0m\u001b[1;33m,\u001b[0m\u001b[1;33m\u001b[0m\u001b[1;33m\u001b[0m\u001b[0m\n\u001b[0m\u001b[0;32m     72\u001b[0m         )\n\u001b[0;32m     73\u001b[0m \u001b[1;33m\u001b[0m\u001b[0m\n",
      "\u001b[1;32m~\\Anaconda3\\envs\\mle_tf\\lib\\site-packages\\jupyter_client\\session.py\u001b[0m in \u001b[0;36msend\u001b[1;34m(self, stream, msg_or_type, content, parent, ident, buffers, track, header, metadata)\u001b[0m\n\u001b[0;32m    749\u001b[0m             \u001b[1;31m# use dummy tracker, which will be done immediately\u001b[0m\u001b[1;33m\u001b[0m\u001b[1;33m\u001b[0m\u001b[1;33m\u001b[0m\u001b[0m\n\u001b[0;32m    750\u001b[0m             \u001b[0mtracker\u001b[0m \u001b[1;33m=\u001b[0m \u001b[0mDONE\u001b[0m\u001b[1;33m\u001b[0m\u001b[1;33m\u001b[0m\u001b[0m\n\u001b[1;32m--> 751\u001b[1;33m             \u001b[0mstream\u001b[0m\u001b[1;33m.\u001b[0m\u001b[0msend_multipart\u001b[0m\u001b[1;33m(\u001b[0m\u001b[0mto_send\u001b[0m\u001b[1;33m,\u001b[0m \u001b[0mcopy\u001b[0m\u001b[1;33m=\u001b[0m\u001b[0mcopy\u001b[0m\u001b[1;33m)\u001b[0m\u001b[1;33m\u001b[0m\u001b[1;33m\u001b[0m\u001b[0m\n\u001b[0m\u001b[0;32m    752\u001b[0m \u001b[1;33m\u001b[0m\u001b[0m\n\u001b[0;32m    753\u001b[0m         \u001b[1;32mif\u001b[0m \u001b[0mself\u001b[0m\u001b[1;33m.\u001b[0m\u001b[0mdebug\u001b[0m\u001b[1;33m:\u001b[0m\u001b[1;33m\u001b[0m\u001b[1;33m\u001b[0m\u001b[0m\n",
      "\u001b[1;32m~\\Anaconda3\\envs\\mle_tf\\lib\\site-packages\\ipykernel\\iostream.py\u001b[0m in \u001b[0;36msend_multipart\u001b[1;34m(self, *args, **kwargs)\u001b[0m\n\u001b[0;32m    262\u001b[0m     \u001b[1;32mdef\u001b[0m \u001b[0msend_multipart\u001b[0m\u001b[1;33m(\u001b[0m\u001b[0mself\u001b[0m\u001b[1;33m,\u001b[0m \u001b[1;33m*\u001b[0m\u001b[0margs\u001b[0m\u001b[1;33m,\u001b[0m \u001b[1;33m**\u001b[0m\u001b[0mkwargs\u001b[0m\u001b[1;33m)\u001b[0m\u001b[1;33m:\u001b[0m\u001b[1;33m\u001b[0m\u001b[1;33m\u001b[0m\u001b[0m\n\u001b[0;32m    263\u001b[0m         \u001b[1;34m\"\"\"Schedule send in IO thread\"\"\"\u001b[0m\u001b[1;33m\u001b[0m\u001b[1;33m\u001b[0m\u001b[0m\n\u001b[1;32m--> 264\u001b[1;33m         \u001b[1;32mreturn\u001b[0m \u001b[0mself\u001b[0m\u001b[1;33m.\u001b[0m\u001b[0mio_thread\u001b[0m\u001b[1;33m.\u001b[0m\u001b[0msend_multipart\u001b[0m\u001b[1;33m(\u001b[0m\u001b[1;33m*\u001b[0m\u001b[0margs\u001b[0m\u001b[1;33m,\u001b[0m \u001b[1;33m**\u001b[0m\u001b[0mkwargs\u001b[0m\u001b[1;33m)\u001b[0m\u001b[1;33m\u001b[0m\u001b[1;33m\u001b[0m\u001b[0m\n\u001b[0m\u001b[0;32m    265\u001b[0m \u001b[1;33m\u001b[0m\u001b[0m\n\u001b[0;32m    266\u001b[0m \u001b[1;33m\u001b[0m\u001b[0m\n",
      "\u001b[1;32m~\\Anaconda3\\envs\\mle_tf\\lib\\site-packages\\ipykernel\\iostream.py\u001b[0m in \u001b[0;36msend_multipart\u001b[1;34m(self, *args, **kwargs)\u001b[0m\n\u001b[0;32m    212\u001b[0m         \u001b[0mIf\u001b[0m \u001b[0mmy\u001b[0m \u001b[0mthread\u001b[0m \u001b[0misn\u001b[0m\u001b[0;31m'\u001b[0m\u001b[0mt\u001b[0m \u001b[0mrunning\u001b[0m \u001b[1;33m(\u001b[0m\u001b[0me\u001b[0m\u001b[1;33m.\u001b[0m\u001b[0mg\u001b[0m\u001b[1;33m.\u001b[0m \u001b[0mforked\u001b[0m \u001b[0mprocess\u001b[0m\u001b[1;33m)\u001b[0m\u001b[1;33m,\u001b[0m \u001b[0msend\u001b[0m \u001b[0mimmediately\u001b[0m\u001b[1;33m.\u001b[0m\u001b[1;33m\u001b[0m\u001b[1;33m\u001b[0m\u001b[0m\n\u001b[0;32m    213\u001b[0m         \"\"\"\n\u001b[1;32m--> 214\u001b[1;33m         \u001b[0mself\u001b[0m\u001b[1;33m.\u001b[0m\u001b[0mschedule\u001b[0m\u001b[1;33m(\u001b[0m\u001b[1;32mlambda\u001b[0m \u001b[1;33m:\u001b[0m \u001b[0mself\u001b[0m\u001b[1;33m.\u001b[0m\u001b[0m_really_send\u001b[0m\u001b[1;33m(\u001b[0m\u001b[1;33m*\u001b[0m\u001b[0margs\u001b[0m\u001b[1;33m,\u001b[0m \u001b[1;33m**\u001b[0m\u001b[0mkwargs\u001b[0m\u001b[1;33m)\u001b[0m\u001b[1;33m)\u001b[0m\u001b[1;33m\u001b[0m\u001b[1;33m\u001b[0m\u001b[0m\n\u001b[0m\u001b[0;32m    215\u001b[0m \u001b[1;33m\u001b[0m\u001b[0m\n\u001b[0;32m    216\u001b[0m     \u001b[1;32mdef\u001b[0m \u001b[0m_really_send\u001b[0m\u001b[1;33m(\u001b[0m\u001b[0mself\u001b[0m\u001b[1;33m,\u001b[0m \u001b[0mmsg\u001b[0m\u001b[1;33m,\u001b[0m \u001b[1;33m*\u001b[0m\u001b[0margs\u001b[0m\u001b[1;33m,\u001b[0m \u001b[1;33m**\u001b[0m\u001b[0mkwargs\u001b[0m\u001b[1;33m)\u001b[0m\u001b[1;33m:\u001b[0m\u001b[1;33m\u001b[0m\u001b[1;33m\u001b[0m\u001b[0m\n",
      "\u001b[1;32m~\\Anaconda3\\envs\\mle_tf\\lib\\site-packages\\ipykernel\\iostream.py\u001b[0m in \u001b[0;36mschedule\u001b[1;34m(self, f)\u001b[0m\n\u001b[0;32m    203\u001b[0m             \u001b[0mself\u001b[0m\u001b[1;33m.\u001b[0m\u001b[0m_events\u001b[0m\u001b[1;33m.\u001b[0m\u001b[0mappend\u001b[0m\u001b[1;33m(\u001b[0m\u001b[0mf\u001b[0m\u001b[1;33m)\u001b[0m\u001b[1;33m\u001b[0m\u001b[1;33m\u001b[0m\u001b[0m\n\u001b[0;32m    204\u001b[0m             \u001b[1;31m# wake event thread (message content is ignored)\u001b[0m\u001b[1;33m\u001b[0m\u001b[1;33m\u001b[0m\u001b[1;33m\u001b[0m\u001b[0m\n\u001b[1;32m--> 205\u001b[1;33m             \u001b[0mself\u001b[0m\u001b[1;33m.\u001b[0m\u001b[0m_event_pipe\u001b[0m\u001b[1;33m.\u001b[0m\u001b[0msend\u001b[0m\u001b[1;33m(\u001b[0m\u001b[1;34mb''\u001b[0m\u001b[1;33m)\u001b[0m\u001b[1;33m\u001b[0m\u001b[1;33m\u001b[0m\u001b[0m\n\u001b[0m\u001b[0;32m    206\u001b[0m         \u001b[1;32melse\u001b[0m\u001b[1;33m:\u001b[0m\u001b[1;33m\u001b[0m\u001b[1;33m\u001b[0m\u001b[0m\n\u001b[0;32m    207\u001b[0m             \u001b[0mf\u001b[0m\u001b[1;33m(\u001b[0m\u001b[1;33m)\u001b[0m\u001b[1;33m\u001b[0m\u001b[1;33m\u001b[0m\u001b[0m\n",
      "\u001b[1;32m~\\Anaconda3\\envs\\mle_tf\\lib\\site-packages\\zmq\\sugar\\socket.py\u001b[0m in \u001b[0;36msend\u001b[1;34m(self, data, flags, copy, track, routing_id, group)\u001b[0m\n\u001b[0;32m    414\u001b[0m                                  copy_threshold=self.copy_threshold)\n\u001b[0;32m    415\u001b[0m             \u001b[0mdata\u001b[0m\u001b[1;33m.\u001b[0m\u001b[0mgroup\u001b[0m \u001b[1;33m=\u001b[0m \u001b[0mgroup\u001b[0m\u001b[1;33m\u001b[0m\u001b[1;33m\u001b[0m\u001b[0m\n\u001b[1;32m--> 416\u001b[1;33m         \u001b[1;32mreturn\u001b[0m \u001b[0msuper\u001b[0m\u001b[1;33m(\u001b[0m\u001b[0mSocket\u001b[0m\u001b[1;33m,\u001b[0m \u001b[0mself\u001b[0m\u001b[1;33m)\u001b[0m\u001b[1;33m.\u001b[0m\u001b[0msend\u001b[0m\u001b[1;33m(\u001b[0m\u001b[0mdata\u001b[0m\u001b[1;33m,\u001b[0m \u001b[0mflags\u001b[0m\u001b[1;33m=\u001b[0m\u001b[0mflags\u001b[0m\u001b[1;33m,\u001b[0m \u001b[0mcopy\u001b[0m\u001b[1;33m=\u001b[0m\u001b[0mcopy\u001b[0m\u001b[1;33m,\u001b[0m \u001b[0mtrack\u001b[0m\u001b[1;33m=\u001b[0m\u001b[0mtrack\u001b[0m\u001b[1;33m)\u001b[0m\u001b[1;33m\u001b[0m\u001b[1;33m\u001b[0m\u001b[0m\n\u001b[0m\u001b[0;32m    417\u001b[0m \u001b[1;33m\u001b[0m\u001b[0m\n\u001b[0;32m    418\u001b[0m     \u001b[1;32mdef\u001b[0m \u001b[0msend_multipart\u001b[0m\u001b[1;33m(\u001b[0m\u001b[0mself\u001b[0m\u001b[1;33m,\u001b[0m \u001b[0mmsg_parts\u001b[0m\u001b[1;33m,\u001b[0m \u001b[0mflags\u001b[0m\u001b[1;33m=\u001b[0m\u001b[1;36m0\u001b[0m\u001b[1;33m,\u001b[0m \u001b[0mcopy\u001b[0m\u001b[1;33m=\u001b[0m\u001b[1;32mTrue\u001b[0m\u001b[1;33m,\u001b[0m \u001b[0mtrack\u001b[0m\u001b[1;33m=\u001b[0m\u001b[1;32mFalse\u001b[0m\u001b[1;33m,\u001b[0m \u001b[1;33m**\u001b[0m\u001b[0mkwargs\u001b[0m\u001b[1;33m)\u001b[0m\u001b[1;33m:\u001b[0m\u001b[1;33m\u001b[0m\u001b[1;33m\u001b[0m\u001b[0m\n",
      "\u001b[1;32mzmq/backend/cython/socket.pyx\u001b[0m in \u001b[0;36mzmq.backend.cython.socket.Socket.send\u001b[1;34m()\u001b[0m\n",
      "\u001b[1;32mzmq/backend/cython/socket.pyx\u001b[0m in \u001b[0;36mzmq.backend.cython.socket.Socket.send\u001b[1;34m()\u001b[0m\n",
      "\u001b[1;32mzmq/backend/cython/socket.pyx\u001b[0m in \u001b[0;36mzmq.backend.cython.socket._send_copy\u001b[1;34m()\u001b[0m\n",
      "\u001b[1;32m~\\Anaconda3\\envs\\mle_tf\\lib\\site-packages\\zmq\\backend\\cython\\checkrc.pxd\u001b[0m in \u001b[0;36mzmq.backend.cython.checkrc._check_rc\u001b[1;34m()\u001b[0m\n",
      "\u001b[1;31mKeyboardInterrupt\u001b[0m: "
     ]
    }
   ],
   "source": [
    "# resampling the original data into a daily value\n",
    "df_energy_daily = resample_to_different_time(df_energy, \"consumption_daily\",\"D\",False)"
   ]
  },
  {
   "cell_type": "code",
   "execution_count": null,
   "metadata": {
    "scrolled": true
   },
   "outputs": [],
   "source": [
    "df_energy_daily"
   ]
  },
  {
   "cell_type": "markdown",
   "metadata": {},
   "source": [
    "## Linearly interpolating the missing values from 30 min then resampling into days\n",
    "\n",
    "* Linearly interpolate the half hours with a limit of 4 hours worth of consecutive missing values\n",
    "* Then aggregate into days setting days containing a missing to the entire day as missing\n",
    "* Then interpolating those missing days\n",
    "\n",
    "- Experiment with different limits for how many consecutive nans are okay to fit \n",
    "    - current set to 8 (4 hours worth)\n",
    "    \n",
    "* Experiment with using acceptNaNs and not\n",
    "    \n",
    "* TODO : Experiment on if I should accept NaNs or not. Currently set to false then interpolating the days"
   ]
  },
  {
   "cell_type": "code",
   "execution_count": null,
   "metadata": {},
   "outputs": [],
   "source": [
    "# how many consecutive NaNs to fill\n",
    "seq_nan_limit = 8"
   ]
  },
  {
   "cell_type": "code",
   "execution_count": null,
   "metadata": {
    "scrolled": true
   },
   "outputs": [],
   "source": [
    "#dropping the meter id column for now so we can interpolate\n",
    "meter_id = df_energy[\"meter_id\"]\n",
    "df_energy_interpolate = df_energy.drop([\"meter_id\"], axis=1)"
   ]
  },
  {
   "cell_type": "code",
   "execution_count": null,
   "metadata": {},
   "outputs": [],
   "source": [
    "#replacing 0 back to NaN\n",
    "df_energy_interpolate=df_energy_interpolate.replace(0,np.nan)"
   ]
  },
  {
   "cell_type": "code",
   "execution_count": null,
   "metadata": {},
   "outputs": [],
   "source": [
    "# interpolating the missing values\n",
    "df_energy_interpolate = df_energy_interpolate.interpolate(method=\"linear\", axis=1, limit = 2) \n",
    "# adding the meter id back on\n",
    "df_energy_interpolate = pd.concat([meter_id,df_energy_interpolate],axis=1)"
   ]
  },
  {
   "cell_type": "code",
   "execution_count": null,
   "metadata": {},
   "outputs": [],
   "source": [
    "df_energy_interpolate"
   ]
  },
  {
   "cell_type": "code",
   "execution_count": null,
   "metadata": {},
   "outputs": [],
   "source": [
    "df_energy_interpolate.apply(lambda row: row.isnull().values.any(), axis=1)"
   ]
  },
  {
   "cell_type": "code",
   "execution_count": null,
   "metadata": {
    "scrolled": true
   },
   "outputs": [],
   "source": [
    "#resampling to days\n",
    "df_energy_interpolate_days = resample_to_different_time(df_energy_interpolate, \"\",\"D\",False)"
   ]
  },
  {
   "cell_type": "code",
   "execution_count": null,
   "metadata": {},
   "outputs": [],
   "source": [
    "df_energy_interpolate_days"
   ]
  },
  {
   "cell_type": "code",
   "execution_count": null,
   "metadata": {},
   "outputs": [],
   "source": [
    "#replacing 0 with nan\n",
    "df_energy_interpolate_days_interpolate = df_energy_interpolate_days.replace(0, np.nan)"
   ]
  },
  {
   "cell_type": "code",
   "execution_count": null,
   "metadata": {},
   "outputs": [],
   "source": [
    "#dropping meter_id\n",
    "meter_id = df_energy_interpolate_days_interpolate[\"meter_id\"] \n",
    "df_energy_interpolate_days_interpolate=df_energy_interpolate_days_interpolate.drop(\"meter_id\", axis=1)\n",
    "#interpolating the days we set to nan due to containing a missing value as acceptNaNs is false\n",
    "df_energy_interpolate_days_interpolate = df_energy_interpolate_days_interpolate.interpolate(method=\"linear\", axis=1) \n",
    "#adding meter_id back on\n",
    "df_energy_interpolate_days_interpolate = pd.concat([pd.DataFrame(meter_id), df_energy_interpolate_days_interpolate],axis=1)"
   ]
  },
  {
   "cell_type": "code",
   "execution_count": null,
   "metadata": {
    "scrolled": false
   },
   "outputs": [],
   "source": [
    "df_energy_interpolate_days_interpolate"
   ]
  },
  {
   "cell_type": "code",
   "execution_count": null,
   "metadata": {},
   "outputs": [],
   "source": [
    "# saving the dataframe\n",
    "if(os.path.exists(f\"../Data/Preprocessed_Data/consumption_daily_interpolated_{seq_nan_limit}.pkl\")==False):\n",
    "        df_energy_interpolate_days_interpolate.to_pickle(f\"../Data/Preprocessed_Data/consumption_daily_interpolated_{seq_nan_limit}.pkl\")"
   ]
  },
  {
   "cell_type": "markdown",
   "metadata": {},
   "source": [
    "## Plotting graph of the time patterns for each meter"
   ]
  },
  {
   "cell_type": "code",
   "execution_count": null,
   "metadata": {},
   "outputs": [],
   "source": [
    "df_energy[\"\"]"
   ]
  },
  {
   "cell_type": "code",
   "execution_count": 180,
   "metadata": {},
   "outputs": [],
   "source": [
    "#function for plotting the day, week, and month readings of each meter on top of each other\n",
    "def plot_time_patterns(df_energy_day, directory, show_pid, bool_already_in_days):\n",
    "      \n",
    "    df_energy_day_plot = df_energy_day.drop([\"meter_id\"], axis=1)\n",
    "   \n",
    "    for pid in tqdm(range(0,3248)):\n",
    "        \n",
    "        #getting this row\n",
    "        meter_id = df_energy_day.iloc[pid,0]\n",
    "        df_days_pid = df_energy_day_plot[pid:pid+1].T\n",
    "\n",
    "        #converting index to datetime for ease of plots key\n",
    "        df_days_pid.index=pd.to_datetime(df_days_pid.index)\n",
    "        \n",
    "        #creating figure\n",
    "        fig = plt.figure(figsize=(20,10))\n",
    "        \n",
    "        # if this is already in days just plot the days with the weekly and monthly moving averages\n",
    "        if(bool_already_in_days == True):\n",
    "            #calculating the week and month using moving averages\n",
    "            week_average=df_days_pid.rolling(7).mean()\n",
    "            month_average=df_days_pid.rolling(30).mean()\n",
    "            #plot the weekly and monthly moving averages\n",
    "            plt.plot(week_average, label=\"weekly moving average\", lw=1.5, color=\"coral\")\n",
    "            plt.plot(month_average, label=\"monthly moving average\", lw=2, color=\"royalblue\")\n",
    "            plt.plot(df_days_pid, label=\"total daily energy\", lw=1,color=\"olivedrab\")\n",
    "        \n",
    "        #else this is the original half an hour readings also add a separate moving average for the day\n",
    "        else:\n",
    "            #plotting half hourly energy\n",
    "            plt.plot(df_days_pid, label=\"total half hourly energy\", lw=0.3,color=\"pink\")\n",
    "        \n",
    "        #annotations\n",
    "        plt.legend(fontsize=20)\n",
    "        plt.title(\"Meter '\"+str(meter_id)+\"' energy readings\", fontsize=15)\n",
    "        plt.xlabel(\"Date\")\n",
    "        plt.ylabel(\"Energy Usage kWh\")\n",
    "        \n",
    "        #showing a subset of the plots\n",
    "        if(pid in show_pid):\n",
    "            print(\"showing row: \",pid)\n",
    "            plt.show()\n",
    "        \n",
    "        #saving plot if it doesn't already exist\n",
    "        if(os.path.exists(f\"../EDA/plots/consumption/{directory}/energy_usage_{pid}_{meter_id}.png\")==False):\n",
    "            fig.savefig(f\"../EDA/plots/consumption/{directory}/energy_usage_{pid}_{meter_id}.png\")\n",
    "        \n",
    "        plt.close()"
   ]
  },
  {
   "cell_type": "code",
   "execution_count": 181,
   "metadata": {},
   "outputs": [
    {
     "data": {
      "text/plain": [
       "[849, 2410, 2676, 2680, 2965, 3158]"
      ]
     },
     "execution_count": 181,
     "metadata": {},
     "output_type": "execute_result"
    }
   ],
   "source": [
    "#getting plot id's we want to show (random amount as no point in showing 9000 plots in compiler it'll make it unnecessarily slow)\n",
    "#display_pid = random.sample(range(0,3248),showPlots) # new randomly selected sample\n",
    "#display_pid = [651, 3034, 1346, 1618, 2105] # previously randomly selected sample which we can repeat\n",
    "\n",
    "display_pid=[849,2410,2676,2680,2965,3158]#meters which contained values from within the max sequential nan limit\n",
    "display_pid"
   ]
  },
  {
   "cell_type": "code",
   "execution_count": 182,
   "metadata": {},
   "outputs": [
    {
     "data": {
      "application/vnd.jupyter.widget-view+json": {
       "model_id": "22eefdddef3141bb80be7fdc42b97765",
       "version_major": 2,
       "version_minor": 0
      },
      "text/plain": [
       "  0%|          | 0/3248 [00:00<?, ?it/s]"
      ]
     },
     "metadata": {},
     "output_type": "display_data"
    },
    {
     "ename": "KeyboardInterrupt",
     "evalue": "",
     "output_type": "error",
     "traceback": [
      "\u001b[1;31m---------------------------------------------------------------------------\u001b[0m",
      "\u001b[1;31mKeyboardInterrupt\u001b[0m                         Traceback (most recent call last)",
      "\u001b[1;32m<ipython-input-182-1fff9dae62e9>\u001b[0m in \u001b[0;36m<module>\u001b[1;34m\u001b[0m\n\u001b[0;32m      1\u001b[0m \u001b[1;31m#plotting the original data\u001b[0m\u001b[1;33m\u001b[0m\u001b[1;33m\u001b[0m\u001b[1;33m\u001b[0m\u001b[0m\n\u001b[1;32m----> 2\u001b[1;33m \u001b[0mplot_time_patterns\u001b[0m\u001b[1;33m(\u001b[0m\u001b[0mdf_energy\u001b[0m\u001b[1;33m.\u001b[0m\u001b[0mreplace\u001b[0m\u001b[1;33m(\u001b[0m\u001b[0mnp\u001b[0m\u001b[1;33m.\u001b[0m\u001b[0mnan\u001b[0m\u001b[1;33m,\u001b[0m\u001b[1;36m0\u001b[0m\u001b[1;33m)\u001b[0m\u001b[1;33m,\u001b[0m \u001b[1;34m\"Original\"\u001b[0m\u001b[1;33m,\u001b[0m \u001b[0mdisplay_pid\u001b[0m\u001b[1;33m,\u001b[0m \u001b[1;32mFalse\u001b[0m\u001b[1;33m)\u001b[0m\u001b[1;33m\u001b[0m\u001b[1;33m\u001b[0m\u001b[0m\n\u001b[0m",
      "\u001b[1;32m<ipython-input-180-35b68dbb0c18>\u001b[0m in \u001b[0;36mplot_time_patterns\u001b[1;34m(df_energy_day, directory, show_pid, bool_already_in_days)\u001b[0m\n\u001b[0;32m     29\u001b[0m         \u001b[1;32melse\u001b[0m\u001b[1;33m:\u001b[0m\u001b[1;33m\u001b[0m\u001b[1;33m\u001b[0m\u001b[0m\n\u001b[0;32m     30\u001b[0m             \u001b[1;31m#plotting half hourly energy\u001b[0m\u001b[1;33m\u001b[0m\u001b[1;33m\u001b[0m\u001b[1;33m\u001b[0m\u001b[0m\n\u001b[1;32m---> 31\u001b[1;33m             \u001b[0mplt\u001b[0m\u001b[1;33m.\u001b[0m\u001b[0mplot\u001b[0m\u001b[1;33m(\u001b[0m\u001b[0mdf_days_pid\u001b[0m\u001b[1;33m,\u001b[0m \u001b[0mlabel\u001b[0m\u001b[1;33m=\u001b[0m\u001b[1;34m\"total half hourly energy\"\u001b[0m\u001b[1;33m,\u001b[0m \u001b[0mlw\u001b[0m\u001b[1;33m=\u001b[0m\u001b[1;36m0.3\u001b[0m\u001b[1;33m,\u001b[0m\u001b[0mcolor\u001b[0m\u001b[1;33m=\u001b[0m\u001b[1;34m\"pink\"\u001b[0m\u001b[1;33m)\u001b[0m\u001b[1;33m\u001b[0m\u001b[1;33m\u001b[0m\u001b[0m\n\u001b[0m\u001b[0;32m     32\u001b[0m \u001b[1;33m\u001b[0m\u001b[0m\n\u001b[0;32m     33\u001b[0m         \u001b[1;31m#annotations\u001b[0m\u001b[1;33m\u001b[0m\u001b[1;33m\u001b[0m\u001b[1;33m\u001b[0m\u001b[0m\n",
      "\u001b[1;32m~\\Anaconda3\\envs\\mle_tf\\lib\\site-packages\\matplotlib\\pyplot.py\u001b[0m in \u001b[0;36mplot\u001b[1;34m(scalex, scaley, data, *args, **kwargs)\u001b[0m\n\u001b[0;32m   2840\u001b[0m     return gca().plot(\n\u001b[0;32m   2841\u001b[0m         \u001b[1;33m*\u001b[0m\u001b[0margs\u001b[0m\u001b[1;33m,\u001b[0m \u001b[0mscalex\u001b[0m\u001b[1;33m=\u001b[0m\u001b[0mscalex\u001b[0m\u001b[1;33m,\u001b[0m \u001b[0mscaley\u001b[0m\u001b[1;33m=\u001b[0m\u001b[0mscaley\u001b[0m\u001b[1;33m,\u001b[0m\u001b[1;33m\u001b[0m\u001b[1;33m\u001b[0m\u001b[0m\n\u001b[1;32m-> 2842\u001b[1;33m         **({\"data\": data} if data is not None else {}), **kwargs)\n\u001b[0m\u001b[0;32m   2843\u001b[0m \u001b[1;33m\u001b[0m\u001b[0m\n\u001b[0;32m   2844\u001b[0m \u001b[1;33m\u001b[0m\u001b[0m\n",
      "\u001b[1;32m~\\Anaconda3\\envs\\mle_tf\\lib\\site-packages\\matplotlib\\axes\\_axes.py\u001b[0m in \u001b[0;36mplot\u001b[1;34m(self, scalex, scaley, data, *args, **kwargs)\u001b[0m\n\u001b[0;32m   1743\u001b[0m         \u001b[0mlines\u001b[0m \u001b[1;33m=\u001b[0m \u001b[1;33m[\u001b[0m\u001b[1;33m*\u001b[0m\u001b[0mself\u001b[0m\u001b[1;33m.\u001b[0m\u001b[0m_get_lines\u001b[0m\u001b[1;33m(\u001b[0m\u001b[1;33m*\u001b[0m\u001b[0margs\u001b[0m\u001b[1;33m,\u001b[0m \u001b[0mdata\u001b[0m\u001b[1;33m=\u001b[0m\u001b[0mdata\u001b[0m\u001b[1;33m,\u001b[0m \u001b[1;33m**\u001b[0m\u001b[0mkwargs\u001b[0m\u001b[1;33m)\u001b[0m\u001b[1;33m]\u001b[0m\u001b[1;33m\u001b[0m\u001b[1;33m\u001b[0m\u001b[0m\n\u001b[0;32m   1744\u001b[0m         \u001b[1;32mfor\u001b[0m \u001b[0mline\u001b[0m \u001b[1;32min\u001b[0m \u001b[0mlines\u001b[0m\u001b[1;33m:\u001b[0m\u001b[1;33m\u001b[0m\u001b[1;33m\u001b[0m\u001b[0m\n\u001b[1;32m-> 1745\u001b[1;33m             \u001b[0mself\u001b[0m\u001b[1;33m.\u001b[0m\u001b[0madd_line\u001b[0m\u001b[1;33m(\u001b[0m\u001b[0mline\u001b[0m\u001b[1;33m)\u001b[0m\u001b[1;33m\u001b[0m\u001b[1;33m\u001b[0m\u001b[0m\n\u001b[0m\u001b[0;32m   1746\u001b[0m         \u001b[0mself\u001b[0m\u001b[1;33m.\u001b[0m\u001b[0m_request_autoscale_view\u001b[0m\u001b[1;33m(\u001b[0m\u001b[0mscalex\u001b[0m\u001b[1;33m=\u001b[0m\u001b[0mscalex\u001b[0m\u001b[1;33m,\u001b[0m \u001b[0mscaley\u001b[0m\u001b[1;33m=\u001b[0m\u001b[0mscaley\u001b[0m\u001b[1;33m)\u001b[0m\u001b[1;33m\u001b[0m\u001b[1;33m\u001b[0m\u001b[0m\n\u001b[0;32m   1747\u001b[0m         \u001b[1;32mreturn\u001b[0m \u001b[0mlines\u001b[0m\u001b[1;33m\u001b[0m\u001b[1;33m\u001b[0m\u001b[0m\n",
      "\u001b[1;32m~\\Anaconda3\\envs\\mle_tf\\lib\\site-packages\\matplotlib\\axes\\_base.py\u001b[0m in \u001b[0;36madd_line\u001b[1;34m(self, line)\u001b[0m\n\u001b[0;32m   1962\u001b[0m             \u001b[0mline\u001b[0m\u001b[1;33m.\u001b[0m\u001b[0mset_clip_path\u001b[0m\u001b[1;33m(\u001b[0m\u001b[0mself\u001b[0m\u001b[1;33m.\u001b[0m\u001b[0mpatch\u001b[0m\u001b[1;33m)\u001b[0m\u001b[1;33m\u001b[0m\u001b[1;33m\u001b[0m\u001b[0m\n\u001b[0;32m   1963\u001b[0m \u001b[1;33m\u001b[0m\u001b[0m\n\u001b[1;32m-> 1964\u001b[1;33m         \u001b[0mself\u001b[0m\u001b[1;33m.\u001b[0m\u001b[0m_update_line_limits\u001b[0m\u001b[1;33m(\u001b[0m\u001b[0mline\u001b[0m\u001b[1;33m)\u001b[0m\u001b[1;33m\u001b[0m\u001b[1;33m\u001b[0m\u001b[0m\n\u001b[0m\u001b[0;32m   1965\u001b[0m         \u001b[1;32mif\u001b[0m \u001b[1;32mnot\u001b[0m \u001b[0mline\u001b[0m\u001b[1;33m.\u001b[0m\u001b[0mget_label\u001b[0m\u001b[1;33m(\u001b[0m\u001b[1;33m)\u001b[0m\u001b[1;33m:\u001b[0m\u001b[1;33m\u001b[0m\u001b[1;33m\u001b[0m\u001b[0m\n\u001b[0;32m   1966\u001b[0m             \u001b[0mline\u001b[0m\u001b[1;33m.\u001b[0m\u001b[0mset_label\u001b[0m\u001b[1;33m(\u001b[0m\u001b[1;34m'_line%d'\u001b[0m \u001b[1;33m%\u001b[0m \u001b[0mlen\u001b[0m\u001b[1;33m(\u001b[0m\u001b[0mself\u001b[0m\u001b[1;33m.\u001b[0m\u001b[0mlines\u001b[0m\u001b[1;33m)\u001b[0m\u001b[1;33m)\u001b[0m\u001b[1;33m\u001b[0m\u001b[1;33m\u001b[0m\u001b[0m\n",
      "\u001b[1;32m~\\Anaconda3\\envs\\mle_tf\\lib\\site-packages\\matplotlib\\axes\\_base.py\u001b[0m in \u001b[0;36m_update_line_limits\u001b[1;34m(self, line)\u001b[0m\n\u001b[0;32m   1984\u001b[0m         \u001b[0mFigures\u001b[0m \u001b[0mout\u001b[0m \u001b[0mthe\u001b[0m \u001b[0mdata\u001b[0m \u001b[0mlimit\u001b[0m \u001b[0mof\u001b[0m \u001b[0mthe\u001b[0m \u001b[0mgiven\u001b[0m \u001b[0mline\u001b[0m\u001b[1;33m,\u001b[0m \u001b[0mupdating\u001b[0m \u001b[0mself\u001b[0m\u001b[1;33m.\u001b[0m\u001b[0mdataLim\u001b[0m\u001b[1;33m.\u001b[0m\u001b[1;33m\u001b[0m\u001b[1;33m\u001b[0m\u001b[0m\n\u001b[0;32m   1985\u001b[0m         \"\"\"\n\u001b[1;32m-> 1986\u001b[1;33m         \u001b[0mpath\u001b[0m \u001b[1;33m=\u001b[0m \u001b[0mline\u001b[0m\u001b[1;33m.\u001b[0m\u001b[0mget_path\u001b[0m\u001b[1;33m(\u001b[0m\u001b[1;33m)\u001b[0m\u001b[1;33m\u001b[0m\u001b[1;33m\u001b[0m\u001b[0m\n\u001b[0m\u001b[0;32m   1987\u001b[0m         \u001b[1;32mif\u001b[0m \u001b[0mpath\u001b[0m\u001b[1;33m.\u001b[0m\u001b[0mvertices\u001b[0m\u001b[1;33m.\u001b[0m\u001b[0msize\u001b[0m \u001b[1;33m==\u001b[0m \u001b[1;36m0\u001b[0m\u001b[1;33m:\u001b[0m\u001b[1;33m\u001b[0m\u001b[1;33m\u001b[0m\u001b[0m\n\u001b[0;32m   1988\u001b[0m             \u001b[1;32mreturn\u001b[0m\u001b[1;33m\u001b[0m\u001b[1;33m\u001b[0m\u001b[0m\n",
      "\u001b[1;32m~\\Anaconda3\\envs\\mle_tf\\lib\\site-packages\\matplotlib\\lines.py\u001b[0m in \u001b[0;36mget_path\u001b[1;34m(self)\u001b[0m\n\u001b[0;32m   1009\u001b[0m         \"\"\"\n\u001b[0;32m   1010\u001b[0m         \u001b[1;32mif\u001b[0m \u001b[0mself\u001b[0m\u001b[1;33m.\u001b[0m\u001b[0m_invalidy\u001b[0m \u001b[1;32mor\u001b[0m \u001b[0mself\u001b[0m\u001b[1;33m.\u001b[0m\u001b[0m_invalidx\u001b[0m\u001b[1;33m:\u001b[0m\u001b[1;33m\u001b[0m\u001b[1;33m\u001b[0m\u001b[0m\n\u001b[1;32m-> 1011\u001b[1;33m             \u001b[0mself\u001b[0m\u001b[1;33m.\u001b[0m\u001b[0mrecache\u001b[0m\u001b[1;33m(\u001b[0m\u001b[1;33m)\u001b[0m\u001b[1;33m\u001b[0m\u001b[1;33m\u001b[0m\u001b[0m\n\u001b[0m\u001b[0;32m   1012\u001b[0m         \u001b[1;32mreturn\u001b[0m \u001b[0mself\u001b[0m\u001b[1;33m.\u001b[0m\u001b[0m_path\u001b[0m\u001b[1;33m\u001b[0m\u001b[1;33m\u001b[0m\u001b[0m\n\u001b[0;32m   1013\u001b[0m \u001b[1;33m\u001b[0m\u001b[0m\n",
      "\u001b[1;32m~\\Anaconda3\\envs\\mle_tf\\lib\\site-packages\\matplotlib\\lines.py\u001b[0m in \u001b[0;36mrecache\u001b[1;34m(self, always)\u001b[0m\n\u001b[0;32m    684\u001b[0m             \u001b[0minterpolation_steps\u001b[0m \u001b[1;33m=\u001b[0m \u001b[1;36m1\u001b[0m\u001b[1;33m\u001b[0m\u001b[1;33m\u001b[0m\u001b[0m\n\u001b[0;32m    685\u001b[0m         \u001b[0mxy\u001b[0m \u001b[1;33m=\u001b[0m \u001b[0mSTEP_LOOKUP_MAP\u001b[0m\u001b[1;33m[\u001b[0m\u001b[0mself\u001b[0m\u001b[1;33m.\u001b[0m\u001b[0m_drawstyle\u001b[0m\u001b[1;33m]\u001b[0m\u001b[1;33m(\u001b[0m\u001b[1;33m*\u001b[0m\u001b[0mself\u001b[0m\u001b[1;33m.\u001b[0m\u001b[0m_xy\u001b[0m\u001b[1;33m.\u001b[0m\u001b[0mT\u001b[0m\u001b[1;33m)\u001b[0m\u001b[1;33m\u001b[0m\u001b[1;33m\u001b[0m\u001b[0m\n\u001b[1;32m--> 686\u001b[1;33m         self._path = Path(np.asarray(xy).T,\n\u001b[0m\u001b[0;32m    687\u001b[0m                           _interpolation_steps=interpolation_steps)\n\u001b[0;32m    688\u001b[0m         \u001b[0mself\u001b[0m\u001b[1;33m.\u001b[0m\u001b[0m_transformed_path\u001b[0m \u001b[1;33m=\u001b[0m \u001b[1;32mNone\u001b[0m\u001b[1;33m\u001b[0m\u001b[1;33m\u001b[0m\u001b[0m\n",
      "\u001b[1;32m~\\Anaconda3\\envs\\mle_tf\\lib\\site-packages\\numpy\\core\\_asarray.py\u001b[0m in \u001b[0;36masarray\u001b[1;34m(a, dtype, order)\u001b[0m\n\u001b[0;32m     81\u001b[0m \u001b[1;33m\u001b[0m\u001b[0m\n\u001b[0;32m     82\u001b[0m     \"\"\"\n\u001b[1;32m---> 83\u001b[1;33m     \u001b[1;32mreturn\u001b[0m \u001b[0marray\u001b[0m\u001b[1;33m(\u001b[0m\u001b[0ma\u001b[0m\u001b[1;33m,\u001b[0m \u001b[0mdtype\u001b[0m\u001b[1;33m,\u001b[0m \u001b[0mcopy\u001b[0m\u001b[1;33m=\u001b[0m\u001b[1;32mFalse\u001b[0m\u001b[1;33m,\u001b[0m \u001b[0morder\u001b[0m\u001b[1;33m=\u001b[0m\u001b[0morder\u001b[0m\u001b[1;33m)\u001b[0m\u001b[1;33m\u001b[0m\u001b[1;33m\u001b[0m\u001b[0m\n\u001b[0m\u001b[0;32m     84\u001b[0m \u001b[1;33m\u001b[0m\u001b[0m\n\u001b[0;32m     85\u001b[0m \u001b[1;33m\u001b[0m\u001b[0m\n",
      "\u001b[1;31mKeyboardInterrupt\u001b[0m: "
     ]
    },
    {
     "data": {
      "image/png": "[encoded data removed]",
      "text/plain": [
       "<Figure size 1440x720 with 1 Axes>"
      ]
     },
     "metadata": {
      "needs_background": "light"
     },
     "output_type": "display_data"
    }
   ],
   "source": [
    "#plotting the original data\n",
    "plot_time_patterns(df_energy.replace(np.nan,0), \"Original\", display_pid, False)"
   ]
  },
  {
   "cell_type": "code",
   "execution_count": null,
   "metadata": {
    "scrolled": true
   },
   "outputs": [],
   "source": [
    "#plotting the uninterpolated data\n",
    "plot_time_patterns(df_energy_daily, \"Daily\", display_pid, True)"
   ]
  },
  {
   "cell_type": "code",
   "execution_count": null,
   "metadata": {
    "scrolled": true
   },
   "outputs": [],
   "source": [
    "#plotting the interpolated data\n",
    "plot_time_patterns(df_energy_interpolate_days_interpolate.replace(np.nan,0), \"Interpolated_Daily\", display_pid, True)"
   ]
  },
  {
   "cell_type": "markdown",
   "metadata": {},
   "source": [
    "## Resampling into different sizes for different prediction scales we will experiment with\n",
    "* Going to experiment with framing this data into different time series problems and assessing which problems our model performs best at\n",
    "    * E.g. predicting the next day (already processed data into days)\n",
    "    * E.g. predicting the next week\n",
    "    * E.g. predicting the next month\n",
    "    * E.g. predicting the next year\n",
    "    \n",
    "* Way I am thinking of using the models is training in the days as timesteps then experimenting on testing it's ability for predicting the different time scales\n",
    "    * For predicting next day and next week can probably get by on just using the data we have and splitting it into a test and train\n",
    "    * For predicting next month and next year will have to submit to competition as we only have 12 months worth of data and the test set is on the comp server and inaccessible\n",
    "    \n",
    "* Hence for predicting smaller periods we will be able to train our RNN to make multistep predictions as we have sufficient data for that\n",
    "* However, we don't have enough to predict next 12 months so will have to train it to predict a smaller amount and then iteratively use that prediction as another input to predict the next step\n",
    "\n",
    "### Resampling the daily values into weekly values \n",
    "* Leaving commented out for now as don't want to do too much data: will just keep monthly for now"
   ]
  },
  {
   "cell_type": "code",
   "execution_count": null,
   "metadata": {},
   "outputs": [],
   "source": [
    "#resampling non-interpolated daily data into weeks\n",
    "df_energy_weekly = resample_to_different_time(df_energy_daily, \"consumption_weekly\",\"W\").iloc[:, :-1] # dropping last 'week' as it's only 1 day\n",
    "df_energy_weekly"
   ]
  },
  {
   "cell_type": "code",
   "execution_count": null,
   "metadata": {},
   "outputs": [],
   "source": [
    "#resampling interpolated daily data into weeks\n",
    "df_energy_weekly_interpolate = resample_to_different_time(df_energy_interpolate, \"consumption_weekly_interpolated\",\"W\").iloc[:, :-1] # dropping last 'week' as it's only 1 day\n",
    "df_energy_weekly_interpolate"
   ]
  },
  {
   "cell_type": "markdown",
   "metadata": {},
   "source": [
    "### Resampling the daily values into monthly values"
   ]
  },
  {
   "cell_type": "code",
   "execution_count": null,
   "metadata": {
    "scrolled": true
   },
   "outputs": [],
   "source": [
    "#resampling non-interpolated daily data into months\n",
    "df_energy_monthly= resample_to_different_time(df_energy_daily, \"consumption_monthly\",\"M\")\n",
    "df_energy_monthly"
   ]
  },
  {
   "cell_type": "code",
   "execution_count": null,
   "metadata": {},
   "outputs": [],
   "source": [
    "#resampling interpolated daily data into months\n",
    "df_energy_monthly_interpolate = resample_to_different_time(df_energy_interpolate, \"consumption_monthly_interpolated\",\"M\")\n",
    "df_energy_monthly_interpolate"
   ]
  },
  {
   "cell_type": "markdown",
   "metadata": {},
   "source": [
    "## Calculating monthly averages (not sure if needed or not so commented out; may be worth using as another column after preparing data for time series?)"
   ]
  },
  {
   "cell_type": "code",
   "execution_count": null,
   "metadata": {},
   "outputs": [],
   "source": [
    "\"\"\"#resampling into months\n",
    "df_energy_month = pd.DataFrame(columns=[\"meter_id\"])\n",
    "df_energy_month[\"meter_id\"] = meter_id\n",
    "\n",
    "#for each month in the range of dates\n",
    "for month_i in tqdm(pd.date_range(datetime(2017, 1, 1), datetime(2017, 12, 31), freq = \"M\")):\n",
    "    #going to give column name middle of month temporarily for ease of plotting, then will remove\n",
    "    middle_of_month = str(month_i.replace(day=1)+(month_i-month_i.replace(day=1))/2)\n",
    "    \n",
    "    #get this months name as a string\n",
    "    monthName = str(month_i.date())[:7]\n",
    "    #get all columns that relate to this months\n",
    "    col_month_i = [i for i in df_energy_daily.columns.values[1:] if i.startswith(monthName)]\n",
    "    #sum these up into a monthly value\n",
    "    df_energy_month[middle_of_month] = df_energy_daily[col_month_i].mean(axis=1) # midway through month so easier to plot\"\"\""
   ]
  },
  {
   "cell_type": "markdown",
   "metadata": {},
   "source": [
    "#### Conclusions:\n",
    "* Have removed the missing values that could be removed via linear interpolation:\n",
    "    * when there are values before and after the sequence of ?\n",
    "* Still have lots of missing values at start and end of dataset"
   ]
  },
  {
   "cell_type": "markdown",
   "metadata": {},
   "source": [
    "____________________________\n",
    "____________________________\n",
    "__________________\n",
    "__________________________________\n",
    "____________________________\n",
    "__________________\n",
    "__________________________________\n",
    "____________________________\n",
    "______________________________________________\n",
    "__________________\n",
    "__________________________________\n",
    "____________________________\n",
    "__________________\n",
    "__________________________________\n",
    "____________________________\n",
    "______________________________________________\n",
    "__________________\n",
    "__________________________________\n",
    "____________________________\n",
    "__________________\n",
    "__________________________________\n",
    "____________________________\n",
    "____________________________________________________\n",
    "____________________________\n",
    "__________________\n",
    "__________________________________\n",
    "____________________________\n",
    "__________________\n",
    "__________________________________\n",
    "____________________________\n",
    "____________________________________\n",
    "__________________________________\n",
    "____________________________\n",
    "__________________\n",
    "__________________________________\n",
    "____________________________\n",
    "______________________________________________\n",
    "__________________\n",
    "__________________________________\n",
    "____________________________\n",
    "__________________\n",
    "__________________________________\n",
    "____________________________\n",
    "______________________________________________\n",
    "__________________\n",
    "__________________________________\n",
    "____________________________\n",
    "__________________\n",
    "__________________________________\n",
    "____________________________\n",
    "____________________________________________________\n",
    "____________________________\n",
    "__________________\n",
    "__________________________________\n",
    "____________________________\n",
    "__________________\n",
    "__________________________________\n",
    "____________________________\n",
    "__________________\n",
    "\n",
    "# EDA on AddInfo\n",
    "## Adding missing rows to AddInfo based on missing meter_id's"
   ]
  },
  {
   "cell_type": "code",
   "execution_count": null,
   "metadata": {},
   "outputs": [],
   "source": [
    "# first making both dataframes alphabetical in order of meter_id for ease of comparison\n",
    "df_info.sort_values('meter_id')"
   ]
  },
  {
   "cell_type": "code",
   "execution_count": null,
   "metadata": {},
   "outputs": [],
   "source": [
    "df_energy.sort_values('meter_id')"
   ]
  },
  {
   "cell_type": "code",
   "execution_count": null,
   "metadata": {},
   "outputs": [],
   "source": [
    "#adding the missing meter rows to df_info\n",
    "df_info_all_meters = pd.merge(df_info, df_energy[\"meter_id\"], on=\"meter_id\",how=\"outer\")"
   ]
  },
  {
   "cell_type": "code",
   "execution_count": null,
   "metadata": {},
   "outputs": [],
   "source": [
    "#checking the values are correct now\n",
    "df_info_all_meters.sort_values('meter_id')"
   ]
  },
  {
   "cell_type": "code",
   "execution_count": null,
   "metadata": {},
   "outputs": [],
   "source": [
    "#checking the shape is correct now\n",
    "df_info_all_meters.shape"
   ]
  },
  {
   "cell_type": "markdown",
   "metadata": {},
   "source": [
    "## Exploring datatypes and unique values"
   ]
  },
  {
   "cell_type": "code",
   "execution_count": null,
   "metadata": {
    "scrolled": true
   },
   "outputs": [],
   "source": [
    "# inspecting the types of each column\n",
    "df_info_all_meters.dtypes"
   ]
  },
  {
   "cell_type": "code",
   "execution_count": null,
   "metadata": {
    "scrolled": true
   },
   "outputs": [],
   "source": [
    "#looking at the unique values for each column\n",
    "for column in df_info_all_meters.drop([\"meter_id\"],axis=1).columns:\n",
    "    print(column+\" unique value count: \"+str(df_info_all_meters[column].nunique()))\n",
    "    print(df_info_all_meters[column].unique())\n",
    "    print()"
   ]
  },
  {
   "cell_type": "markdown",
   "metadata": {},
   "source": [
    "* We now know:\n",
    "    1. The columns that contain categorical values vs the columns that contain real numbers\n",
    "    2. The unique values for each column\n",
    "    \n",
    "## Exploring missing values\n",
    "### Visualising as histogram"
   ]
  },
  {
   "cell_type": "code",
   "execution_count": null,
   "metadata": {
    "scrolled": true
   },
   "outputs": [],
   "source": [
    "# plotting a histogram for each of the columns in the dataset\n",
    "for column in df_info_all_meters.drop([\"meter_id\"],axis=1).columns:\n",
    "    df_temp = df_info_all_meters[column].replace(np.nan,\"NaN\").apply(str)\n",
    "    ax = df_temp.hist(figsize=(10,10))\n",
    "    ax.set_xlabel(\"unique values\")\n",
    "    ax.set_ylabel(\"count\")\n",
    "    fig = ax.get_figure()\n",
    "    plt.title(column+\" values\")\n",
    "    plt.show(block=False)\n",
    "    \n",
    "    if(os.path.exists(f\"../EDA/plots/addInfo/{column}_hist.png\")==False):\n",
    "        fig.savefig(f\"../EDA/plots/addInfo/{column}_hist.png\")\n",
    "        \n",
    "    plt.close(fig)"
   ]
  },
  {
   "cell_type": "markdown",
   "metadata": {},
   "source": [
    "### Calculating percentage of missing values for each column"
   ]
  },
  {
   "cell_type": "code",
   "execution_count": null,
   "metadata": {
    "scrolled": true
   },
   "outputs": [],
   "source": [
    "# Calculating percentage of missing values\n",
    "#stores index of columns to keep: defaults all to true and will check which to make false\n",
    "columns = np.full((df_info_all_meters.shape[1],), True, dtype=bool)\n",
    "\n",
    "# getting the count of each object type in each column\n",
    "for i in range(0,len(df_info_all_meters.columns)):\n",
    "    column =df_info_all_meters.columns[i]\n",
    "    #calculating the percentage of missing values\n",
    "    percent_missing = df_info_all_meters[column].isnull().sum() * 100 / len(df_info_all_meters)\n",
    "    print(column+\" contains missing values: \"+str(df_info_all_meters[column].isna().values.any()))\n",
    "    print(column+\" is missing: \"+str(round(percent_missing,2))+\"%\")\n",
    "    \n",
    "    #if the percentage of missing values is greater than 50% mark them to be removed\n",
    "    if(percent_missing>=50):\n",
    "        print(\"Marked \",column,\"for removal due to it having more than 50% missing values\")\n",
    "        columns[i] = False\n",
    "    else:\n",
    "        print(\"Not marked \",column,\"for removal due to it not having more than 50% missing values\")\n",
    "    print()"
   ]
  },
  {
   "cell_type": "markdown",
   "metadata": {},
   "source": [
    "#### Meaning of findings;\n",
    "* As the histograms and calculations show: there is a massive amount of missing values\n",
    "* Marked all columns with > 50% missing values for removal\n",
    "    * as if more than half of the values are missing it is likely what we do impute won't be accurate\n",
    "* Need to decide what to do with the the remaining 2 as they have 40% missing values: is this good enough?\n",
    "    * Will likely require experimentation:\n",
    "        * So will run one model which only uses energy\n",
    "        * And one that uses addInfo after the missing values have been imputed\n",
    "\n",
    "## Removing the columns with greater than 50% missing values"
   ]
  },
  {
   "cell_type": "code",
   "execution_count": null,
   "metadata": {},
   "outputs": [],
   "source": [
    "# Removing the columns marked for removal\n",
    "selected_columns = df_info_all_meters.columns[columns]\n",
    "df_info_all_meters = df_info_all_meters[selected_columns]"
   ]
  },
  {
   "cell_type": "code",
   "execution_count": null,
   "metadata": {},
   "outputs": [],
   "source": [
    "# inspecting the current state of df_info_all_meters\n",
    "df_info_all_meters"
   ]
  },
  {
   "cell_type": "markdown",
   "metadata": {},
   "source": [
    "## Imputing the missing values\n",
    "* May be worth experimenting with different imputation methods\n",
    "* But for now just going with KNN\n",
    "\n",
    "### Preparing dataframe for use by KNNImputer\n",
    "### Adding information on the energy time series data that may be useful for imputing the missing addInfo values\n",
    "Experimenting with different combinations 9think it may have been too many when I originally used 4 different energy ones and it got weighted too highly skewing it due to the multi collinearity problems"
   ]
  },
  {
   "cell_type": "code",
   "execution_count": null,
   "metadata": {},
   "outputs": [],
   "source": [
    "# Calculating the total, mean, max, and min energy usage only using KNOWN values (not including the interpolated ones)\n",
    "df_energy_info = pd.DataFrame(columns=[\"meter_id\",\n",
    "                                       \"mean_energy_usage\",\n",
    "                                       #\"max_energy_usage\",\n",
    "                                       #\"min_energy_usage\",\n",
    "                                       \"total_energy_usage\"\n",
    "                                      ])\n",
    "df_energy_info[\"meter_id\"]=df_energy_daily[\"meter_id\"].values\n",
    "df_energy_info[\"mean_energy_usage\"] = df_energy_daily.replace(0,np.nan).iloc[:, 1:].mean(axis=1).round(3)\n",
    "#df_energy_info[\"max_energy_usage\"] = df_energy_daily.replace(0,np.nan).iloc[:, 1:].max(axis=1).round(3)\n",
    "#df_energy_info[\"min_energy_usage\"] = df_energy_daily.replace(0,np.nan).iloc[:, 1:].min(axis=1).round(3)\n",
    "df_energy_info[\"total_energy_usage\"] = df_energy_daily.replace(0,np.nan).iloc[:, 1:].sum(axis=1).round(3)"
   ]
  },
  {
   "cell_type": "code",
   "execution_count": null,
   "metadata": {},
   "outputs": [],
   "source": [
    "df_energy_info#.loc[df_energy_means[\"meter_id\"]==\"0xa62b9f23553ff183f61e2bf943aab3d5983d02d7\"]"
   ]
  },
  {
   "cell_type": "code",
   "execution_count": null,
   "metadata": {},
   "outputs": [],
   "source": [
    "#add the total, mean, max, and min to the df for use with knn imputation\n",
    "df_info_knn = df_info_all_meters\n",
    "df_info_knn = df_info_knn.merge(df_energy_info[[\"meter_id\",\n",
    "                                                \"mean_energy_usage\",\n",
    "                                                #\"max_energy_usage\",\n",
    "                                                #\"min_energy_usage\", \n",
    "                                                \"total_energy_usage\"\n",
    "                                               ]], on=\"meter_id\",how=\"left\")\n",
    "df_info_knn#.loc[df_info_knn2[\"meter_id\"]==\"0xa62b9f23553ff183f61e2bf943aab3d5983d02d7\"]"
   ]
  },
  {
   "cell_type": "markdown",
   "metadata": {},
   "source": [
    "### Dropping meter_id, encoding and normalizing data so it is suitable for KNN Imputation\n",
    "#### Dropping meter_id"
   ]
  },
  {
   "cell_type": "code",
   "execution_count": null,
   "metadata": {},
   "outputs": [],
   "source": [
    "#dropping the id column so it doesn't negatively influence the knn algorithm\n",
    "meter_id = df_info_knn[\"meter_id\"]\n",
    "df_info_knn = df_info_knn.drop([\"meter_id\"], axis=1)"
   ]
  },
  {
   "cell_type": "code",
   "execution_count": null,
   "metadata": {},
   "outputs": [],
   "source": [
    "#inspecting the df without the id column\n",
    "df_info_knn"
   ]
  },
  {
   "cell_type": "markdown",
   "metadata": {},
   "source": [
    "#### Encoding the categorical values ready for knn"
   ]
  },
  {
   "cell_type": "code",
   "execution_count": null,
   "metadata": {},
   "outputs": [],
   "source": [
    "df_info_knn_encoded = df_info_knn\n",
    "df_info_knn_encoded[\"dwelling_type\"]=df_info_knn_encoded[\"dwelling_type\"].replace(\"flat\",0).replace(\"terraced_house\",1).replace(\"semi_detached_house\",2).replace(\"detached_house\",3).replace(\"bungalow\",4)\n",
    "\n",
    "\"\"\"df_dwelling_types_encoded = df_info_knn[\"dwelling_type\"]\n",
    "df_dwelling_types_encoded=df_dwelling_types_encoded.replace(\"flat\",0)\n",
    "df_dwelling_types_encoded=df_dwelling_types_encoded.replace(\"terraced_house\",1)\n",
    "df_dwelling_types_encoded=df_dwelling_types_encoded.replace(\"semi_detached_house\",2)\n",
    "df_dwelling_types_encoded=df_dwelling_types_encoded.replace(\"detached_house\",3)\n",
    "df_dwelling_types_encoded=df_dwelling_types_encoded.replace(\"bungalow\",4)\"\"\""
   ]
  },
  {
   "cell_type": "code",
   "execution_count": null,
   "metadata": {},
   "outputs": [],
   "source": [
    "df_info_knn_encoded"
   ]
  },
  {
   "cell_type": "markdown",
   "metadata": {},
   "source": [
    "#### Normalizing the data"
   ]
  },
  {
   "cell_type": "code",
   "execution_count": null,
   "metadata": {},
   "outputs": [],
   "source": [
    "# Normalizing the data as KNN is done via a distance measure and we don't want to skew it\n",
    "scaler = MinMaxScaler()\n",
    "df_info_knn_normalized = pd.DataFrame(scaler.fit_transform(df_info_knn_encoded), columns = df_info_knn_encoded.columns)\n",
    "\n",
    "# inspecting new state of the dataframe after normalisation\n",
    "df_info_knn_normalized"
   ]
  },
  {
   "cell_type": "markdown",
   "metadata": {},
   "source": [
    "### Now data is prepared, using KNN to impute the missing values\n",
    "* Experiment with different numbers for nearest neighbours"
   ]
  },
  {
   "cell_type": "code",
   "execution_count": null,
   "metadata": {},
   "outputs": [],
   "source": [
    "# now using KNN to impute the missing values\n",
    "imputer = KNNImputer(n_neighbors=5)\n",
    "df_info_knn_imputed = pd.DataFrame(imputer.fit_transform(df_info_knn_normalized),columns = df_info_knn_normalized.columns)\n",
    "\n",
    "# inspecting new state of the dataset now it no longer has missing values\n",
    "df_info_knn_imputed"
   ]
  },
  {
   "cell_type": "code",
   "execution_count": null,
   "metadata": {},
   "outputs": [],
   "source": [
    "# checking it no longer has missing values\n",
    "df_info_knn_imputed.isna().any()"
   ]
  },
  {
   "cell_type": "code",
   "execution_count": null,
   "metadata": {},
   "outputs": [],
   "source": [
    "# looking at sum of missing values\n",
    "df_info_knn_imputed.isna().sum()"
   ]
  },
  {
   "cell_type": "markdown",
   "metadata": {},
   "source": [
    "#### Turning these imputed values to usable values"
   ]
  },
  {
   "cell_type": "code",
   "execution_count": null,
   "metadata": {},
   "outputs": [],
   "source": [
    "#Unnormalsing the data\n",
    "df_info_knn_imputed.columns[1:] #ignoring meter id as that wasn't normalized\n",
    "df_info_knn_finished = pd.DataFrame(scaler.inverse_transform(df_info_knn_imputed), columns = df_info_knn_imputed.columns) # reversing the normalization"
   ]
  },
  {
   "cell_type": "code",
   "execution_count": null,
   "metadata": {},
   "outputs": [],
   "source": [
    "# viewing the unormalised data\n",
    "df_info_knn_finished"
   ]
  },
  {
   "cell_type": "code",
   "execution_count": null,
   "metadata": {},
   "outputs": [],
   "source": [
    "#rounding bedrooms to their final value\n",
    "num_bedrooms=df_info_knn_finished[\"num_bedrooms\"].round() "
   ]
  },
  {
   "cell_type": "code",
   "execution_count": null,
   "metadata": {},
   "outputs": [],
   "source": [
    "#rounding dwelling type to a real value\n",
    "df_dwellings=df_info_knn_finished[\"dwelling_type\"].round() \n",
    "#reverting the encoding\n",
    "df_dwellings=df_dwellings.replace(0, \"flat\").replace(1, \"terraced_house\").replace(2, \"semi_detached_house\").replace(3, \"detached_house\").replace(4, \"bungalow\")\n"
   ]
  },
  {
   "cell_type": "code",
   "execution_count": null,
   "metadata": {},
   "outputs": [],
   "source": [
    "#concatenating the meter_id, number of bedrooms, and dwellings columns\n",
    "df_info_knn_finished = pd.concat([meter_id, num_bedrooms, df_dwellings], axis=1)"
   ]
  },
  {
   "cell_type": "code",
   "execution_count": null,
   "metadata": {},
   "outputs": [],
   "source": [
    "#inspecting the final configuration of the knn imputed values\n",
    "df_info_knn_finished"
   ]
  },
  {
   "cell_type": "markdown",
   "metadata": {},
   "source": [
    "## Checking the unique values are the same as the original set"
   ]
  },
  {
   "cell_type": "code",
   "execution_count": null,
   "metadata": {},
   "outputs": [],
   "source": [
    "#looking at the unique values for each column before imputation\n",
    "print(\"Unique values before imputation\")\n",
    "\n",
    "print(\"num_bedrooms unique value count: \"+str(df_info_all_meters[\"num_bedrooms\"].nunique()))\n",
    "print(df_info_all_meters[\"num_bedrooms\"].unique())\n",
    "print()\n",
    "print(\"dwelling_type unique value count: \"+str(df_info_all_meters[\"dwelling_type\"].nunique()))\n",
    "print(df_info_all_meters[\"dwelling_type\"].unique())\n",
    "print()"
   ]
  },
  {
   "cell_type": "code",
   "execution_count": null,
   "metadata": {},
   "outputs": [],
   "source": [
    "#looking at the unique values for each column before imputation\n",
    "print(\"Unique values after imputation\\n\")\n",
    "\n",
    "print(\"num_bedrooms unique value count: \"+str(df_info_knn_finished[\"num_bedrooms\"].nunique()))\n",
    "print(df_info_knn_finished[\"num_bedrooms\"].unique())\n",
    "print()\n",
    "print(\"dwelling_type unique value count: \"+str(df_info_knn_finished[\"dwelling_type\"].nunique()))\n",
    "print(df_info_knn_finished[\"dwelling_type\"].unique())\n",
    "print()"
   ]
  },
  {
   "cell_type": "markdown",
   "metadata": {},
   "source": [
    "## Comparing the distribution of unique values that were distributed to the original"
   ]
  },
  {
   "cell_type": "code",
   "execution_count": null,
   "metadata": {},
   "outputs": [],
   "source": [
    "#looking at percentage distribution of values before imputation\n",
    "print(\"Distribution of unique values before imputation\")\n",
    "print()\n",
    "\n",
    "num_bedrooms_percentages = df_info_all_meters['num_bedrooms'].value_counts(normalize=True) * 100\n",
    "print(\"num_bedrooms percentages\")\n",
    "print(num_bedrooms_percentages)\n",
    "print()\n",
    "print(\"num_bedrooms totals\")\n",
    "print(df_info_all_meters['num_bedrooms'].value_counts())\n",
    "print()\n",
    "print()\n",
    "\n",
    "dwelling_type_percentages = df_info_all_meters['dwelling_type'].value_counts(normalize=True) * 100\n",
    "print(\"dwelling_type percentages\")\n",
    "print(dwelling_type_percentages)\n",
    "print()\n",
    "print(\"dwelling_type totals\")\n",
    "print(df_info_all_meters['dwelling_type'].value_counts())"
   ]
  },
  {
   "cell_type": "code",
   "execution_count": null,
   "metadata": {},
   "outputs": [],
   "source": [
    "#looking at percentage distribution of values after imputation\n",
    "print(\"Distribution of unique values before imputation\")\n",
    "print()\n",
    "\n",
    "num_bedrooms_percentages = df_info_knn_finished['num_bedrooms'].value_counts(normalize=True) * 100\n",
    "print(\"num_bedrooms percentages\")\n",
    "print(num_bedrooms_percentages)\n",
    "print()\n",
    "print(\"num_bedrooms totals\")\n",
    "print(df_info_knn_finished['num_bedrooms'].value_counts())\n",
    "print()\n",
    "print()\n",
    "\n",
    "dwelling_type_percentages = df_info_knn_finished['dwelling_type'].value_counts(normalize=True) * 100\n",
    "print(\"dwelling_type percentages\")\n",
    "print(dwelling_type_percentages)\n",
    "print()\n",
    "print(\"dwelling_type totals\")\n",
    "print(df_info_knn_finished['dwelling_type'].value_counts())\n",
    "print()"
   ]
  },
  {
   "cell_type": "markdown",
   "metadata": {},
   "source": [
    "##### Conclusions:\n",
    "* Hasn't imputed any meters to be a flat\n",
    "* Hasn't imputed any meters to have 1 or 5 bedrooms\n",
    "* Has essentially increased the % divide\n",
    "    * Higher % represented classes were more likely to be picked\n",
    "    * Whilst lower % represented classes were less likely to be picked \n",
    "* Expected behaviour but is this useful and has it imputed correctly?\n",
    "* As mentioned already will experiment and see if using these meters or not improves performance more\n",
    "    * From this we can infer if this was effective or not\n",
    "\n",
    "## Plotting hists of the imputed addInfo\n",
    "plotting hists of the imputed addInfo columns before and after imputation to compare their patterns"
   ]
  },
  {
   "cell_type": "code",
   "execution_count": null,
   "metadata": {},
   "outputs": [],
   "source": [
    "# plotting a histogram for each of the imputed columns in the dataset before imputation\n",
    "for column in df_info_knn_finished.drop([\"meter_id\"],axis=1).columns:\n",
    "    df_temp = df_info_all_meters[column]\n",
    "    ax = df_temp.hist(figsize=(10,10))\n",
    "    ax.set_xlabel(\"unique values\")\n",
    "    ax.set_ylabel(\"count\")\n",
    "    fig = ax.get_figure()\n",
    "    plt.title(column+\" values\")\n",
    "    plt.show(block=False)\n",
    "    \n",
    "    if(os.path.exists(f\"../EDA/plots/addInfo/Pre-Imputation/{column}_preimp_hist.png\")==False):\n",
    "        fig.savefig(f\"../EDA/plots/addInfo/Pre-Imputation/{column}_preimp_hist.png\")\n",
    "        \n",
    "    plt.close(fig)"
   ]
  },
  {
   "cell_type": "code",
   "execution_count": null,
   "metadata": {
    "scrolled": true
   },
   "outputs": [],
   "source": [
    "# plotting a histogram for each of the columns in the dataset after imputation\n",
    "for column in df_info_knn_finished.drop([\"meter_id\"],axis=1).columns:\n",
    "    df_temp = df_info_knn_finished[column]\n",
    "    ax = df_temp.hist(figsize=(10,10))\n",
    "    ax.set_xlabel(\"unique values\")\n",
    "    ax.set_ylabel(\"count\")\n",
    "    fig = ax.get_figure()\n",
    "    plt.title(column+\" values\")\n",
    "    plt.show(block=False)\n",
    "    \n",
    "    if(os.path.exists(f\"../EDA/plots/addInfo/Imputed/{column}_imp_hist.png\")==False):\n",
    "        fig.savefig(f\"../EDA/plots/addInfo/Imputed/{column}_imp_hist.png\")\n",
    "        \n",
    "    plt.close(fig)"
   ]
  },
  {
   "cell_type": "markdown",
   "metadata": {},
   "source": [
    "## OneHot Encoding Ready for the RNN to make use of"
   ]
  },
  {
   "cell_type": "code",
   "execution_count": null,
   "metadata": {},
   "outputs": [],
   "source": [
    "#encoding the categorical values via one hot encoding\n",
    "cat_variables = df_info_knn_finished[df_info_knn_finished.loc[:,df_info_knn_finished.columns!=\"meter_id\"].select_dtypes(include=['object']).columns] # getting the categorical columns (just 'dwelling_type')\n",
    "cat_dummies = pd.get_dummies(cat_variables, drop_first=True, dummy_na=True) # getting dummies, including a separate one for na\n",
    "\n",
    "#setting nan rows and droppoing nan column\n",
    "cat_dummies.loc[cat_dummies.dwelling_type_nan==1, [\"dwelling_type_detached_house\",\"dwelling_type_flat\",\"dwelling_type_semi_detached_house\",\"dwelling_type_terraced_house\"]]=np.nan\n",
    "cat_dummies=cat_dummies.drop(\"dwelling_type_nan\",axis=1)\n",
    "cat_dummies"
   ]
  },
  {
   "cell_type": "code",
   "execution_count": null,
   "metadata": {
    "scrolled": false
   },
   "outputs": [],
   "source": [
    "# dropping those original columns then adding the dummy values\n",
    "df_info_knn_finished = df_info_knn_finished.drop(df_info_knn_finished.loc[:,df_info_knn_finished.columns!=\"meter_id\"].select_dtypes(include=['object']).columns, axis=1)\n",
    "df_info_knn_finished = pd.concat([df_info_knn_finished, cat_dummies], axis=1)\n",
    "# inspecting new state of the dataframe with the dummy variables\n",
    "df_info_knn_finished"
   ]
  },
  {
   "cell_type": "markdown",
   "metadata": {},
   "source": [
    "## Generating correlation plot of the features to make sure there is minimal redundancy"
   ]
  },
  {
   "cell_type": "code",
   "execution_count": null,
   "metadata": {},
   "outputs": [],
   "source": [
    "#generating the correlation matrix\n",
    "corr_info = df_info_knn_finished.corr()"
   ]
  },
  {
   "cell_type": "code",
   "execution_count": null,
   "metadata": {},
   "outputs": [],
   "source": [
    "#generating the correlation heat map\n",
    "plt.figure(figsize=(10, 10))\n",
    "sns.heatmap(corr_info, cmap=\"coolwarm\", annot=True, square=True)"
   ]
  },
  {
   "cell_type": "code",
   "execution_count": null,
   "metadata": {},
   "outputs": [],
   "source": [
    "# for each feature on the x axis\n",
    "for i in range(corr_info.shape[0]):\n",
    "    # for each feature after i\n",
    "    for j in range(i+1, corr_info.shape[0]):\n",
    "        #check if their correlation is above a threshold % (50%)\n",
    "        if abs(corr_info.iloc[i,j]) >= 0.5:\n",
    "            print(\"\\nConsider \",corr_info.columns[j],\" for removal as it has a high correlation with \",corr_info.columns[i],\" of\",round(corr_info.iloc[i,j],2),\"\\n\")\n",
    "            #set column j to be removed \n",
    "            if columns[j]:\n",
    "                columns[j+1] = False #+1 for meter id\n",
    "        else: \n",
    "            print(\"Keeping \",corr_info.columns[i],\" and \",corr_info.columns[j],\" have a correlation of \", round(corr_info.iloc[i,j],2))"
   ]
  },
  {
   "cell_type": "markdown",
   "metadata": {},
   "source": [
    "##### Features don't have a particularly high correlation; no need to remove them based upon this\n",
    "\n",
    "## Saving the finished AddInfo"
   ]
  },
  {
   "cell_type": "code",
   "execution_count": null,
   "metadata": {},
   "outputs": [],
   "source": [
    "if(os.path.exists(f\"../Data/Preprocessed_Data/addInfo_knn.pkl\")==False):\n",
    "        df_info_knn_finished.to_pickle(f\"../Data/Preprocessed_Data/addInfo_knn.pkl\")"
   ]
  },
  {
   "cell_type": "code",
   "execution_count": null,
   "metadata": {},
   "outputs": [],
   "source": []
  }
 ],
 "metadata": {
  "kernelspec": {
   "display_name": "mle_tf",
   "language": "python",
   "name": "mle_tf"
  },
  "language_info": {
   "codemirror_mode": {
    "name": "ipython",
    "version": 3
   },
   "file_extension": ".py",
   "mimetype": "text/x-python",
   "name": "python",
   "nbconvert_exporter": "python",
   "pygments_lexer": "ipython3",
   "version": "3.7.9"
  }
 },
 "nbformat": 4,
 "nbformat_minor": 4
}
