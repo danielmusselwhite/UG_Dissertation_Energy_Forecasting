{
 "cells": [
  {
   "cell_type": "markdown",
   "metadata": {},
   "source": [
    "# 2. Time Series Clustering\n",
    "\n",
    "* Initially thought I would use 1 RNN based model for making predictions\n",
    "    * But in order to do this I would have to onehot encode the meter_id's (as ordinal would apply a linear relation between id's which doesn't exist)\n",
    "        * This would add an extra 3500 features and hence make the solution space sufficiently sparse that it is likely our model would give any sort of reasonable performance\n",
    "        \n",
    "* My next thought was that instead I could create a separate RNN based model for each of the meters\n",
    "    * Issue is the time complexity of doing so: even if each model only takes 1 minute to run (of which it is likely they will take longer) that would be 2.4 days of continuous computation\n",
    "        * And this would have to be repeated for hyperparameter tuning and changes to the model and methodology\n",
    "            * Very impractical especially considering time constraint of the competition\n",
    "            \n",
    "* My plan is to compromise between the 2 by clustering similar time series patterns and having a separate model for making predictions for each of the similar patterns\n",
    "    * May still have problems with the size of the onehot encoded variables\n",
    "    * Will also have problem with missing variables as will soon see\n",
    "    \n",
    "    * If this proves impractical will instead consider models which can better handle categorical values such as decision tree based methods"
   ]
  },
  {
   "cell_type": "code",
   "execution_count": null,
   "metadata": {},
   "outputs": [],
   "source": []
  }
 ],
 "metadata": {
  "kernelspec": {
   "display_name": "mle_tf",
   "language": "python",
   "name": "mle_tf"
  },
  "language_info": {
   "codemirror_mode": {
    "name": "ipython",
    "version": 3
   },
   "file_extension": ".py",
   "mimetype": "text/x-python",
   "name": "python",
   "nbconvert_exporter": "python",
   "pygments_lexer": "ipython3",
   "version": "3.7.9"
  }
 },
 "nbformat": 4,
 "nbformat_minor": 4
}
