{
 "cells": [
  {
   "cell_type": "markdown",
   "metadata": {},
   "source": [
    "# 2. Time Series Clustering\n",
    "\n",
    "* Initially thought I would use 1 RNN based model for making predictions\n",
    "    * But in order to do this I would have to onehot encode the meter_id's (as ordinal would apply a linear relation between id's which doesn't exist)\n",
    "        * This would add an extra 3500 features and hence make the solution space sufficiently sparse that it is likely our model would give any sort of reasonable performance\n",
    "        \n",
    "* My next thought was that instead I could create a separate RNN based model for each of the meters\n",
    "    * Issue is the time complexity of doing so: even if each model only takes 1 minute to run (of which it is likely they will take longer) that would be 2.4 days of continuous computation\n",
    "        * And this would have to be repeated for hyperparameter tuning and changes to the model and methodology\n",
    "            * Very impractical especially considering time constraint of the competition\n",
    "            \n",
    "* My plan is to compromise between the 2 by clustering similar time series patterns and having a separate model for making predictions for each of the similar patterns\n",
    "    * May still have problems with the size of the onehot encoded variables\n",
    "    * Will also have problem with missing variables as will soon see\n",
    "    \n",
    "* If this proves impractical will instead consider models which can better handle categorical values such as decision tree based methods\n",
    "    * LGB\n",
    "    * XGBoost\n",
    "    * Etc.\n",
    "    \n",
    "# Imports"
   ]
  },
  {
   "cell_type": "code",
   "execution_count": 1,
   "metadata": {},
   "outputs": [
    {
     "name": "stderr",
     "output_type": "stream",
     "text": [
      "In C:\\Users\\psydm7\\Anaconda3\\envs\\mle_tf\\lib\\site-packages\\matplotlib\\mpl-data\\stylelib\\_classic_test.mplstyle: \n",
      "The text.latex.preview rcparam was deprecated in Matplotlib 3.3 and will be removed two minor releases later.\n",
      "In C:\\Users\\psydm7\\Anaconda3\\envs\\mle_tf\\lib\\site-packages\\matplotlib\\mpl-data\\stylelib\\_classic_test.mplstyle: \n",
      "The mathtext.fallback_to_cm rcparam was deprecated in Matplotlib 3.3 and will be removed two minor releases later.\n",
      "In C:\\Users\\psydm7\\Anaconda3\\envs\\mle_tf\\lib\\site-packages\\matplotlib\\mpl-data\\stylelib\\_classic_test.mplstyle: Support for setting the 'mathtext.fallback_to_cm' rcParam is deprecated since 3.3 and will be removed two minor releases later; use 'mathtext.fallback : 'cm' instead.\n",
      "In C:\\Users\\psydm7\\Anaconda3\\envs\\mle_tf\\lib\\site-packages\\matplotlib\\mpl-data\\stylelib\\_classic_test.mplstyle: \n",
      "The validate_bool_maybe_none function was deprecated in Matplotlib 3.3 and will be removed two minor releases later.\n",
      "In C:\\Users\\psydm7\\Anaconda3\\envs\\mle_tf\\lib\\site-packages\\matplotlib\\mpl-data\\stylelib\\_classic_test.mplstyle: \n",
      "The savefig.jpeg_quality rcparam was deprecated in Matplotlib 3.3 and will be removed two minor releases later.\n",
      "In C:\\Users\\psydm7\\Anaconda3\\envs\\mle_tf\\lib\\site-packages\\matplotlib\\mpl-data\\stylelib\\_classic_test.mplstyle: \n",
      "The keymap.all_axes rcparam was deprecated in Matplotlib 3.3 and will be removed two minor releases later.\n",
      "In C:\\Users\\psydm7\\Anaconda3\\envs\\mle_tf\\lib\\site-packages\\matplotlib\\mpl-data\\stylelib\\_classic_test.mplstyle: \n",
      "The animation.avconv_path rcparam was deprecated in Matplotlib 3.3 and will be removed two minor releases later.\n",
      "In C:\\Users\\psydm7\\Anaconda3\\envs\\mle_tf\\lib\\site-packages\\matplotlib\\mpl-data\\stylelib\\_classic_test.mplstyle: \n",
      "The animation.avconv_args rcparam was deprecated in Matplotlib 3.3 and will be removed two minor releases later.\n",
      "C:\\Users\\psydm7\\Anaconda3\\envs\\mle_tf\\lib\\site-packages\\tslearn\\bases\\bases.py:15: UserWarning: h5py not installed, hdf5 features will not be supported.\n",
      "Install h5py to use hdf5 features: http://docs.h5py.org/\n",
      "  warn(h5py_msg)\n"
     ]
    }
   ],
   "source": [
    "import numpy as np\n",
    "import pandas as pd\n",
    "import matplotlib.pyplot as plt\n",
    "import os\n",
    "from tqdm.notebook import tqdm\n",
    "from tslearn.clustering import TimeSeriesKMeans\n",
    "from yellowbrick.cluster import KElbowVisualizer"
   ]
  },
  {
   "cell_type": "markdown",
   "metadata": {},
   "source": [
    "# pd display options"
   ]
  },
  {
   "cell_type": "code",
   "execution_count": null,
   "metadata": {},
   "outputs": [],
   "source": [
    "pd.set_option('display.max_rows', 20)\n",
    "pd.set_option('display.max_columns', 20)"
   ]
  },
  {
   "cell_type": "markdown",
   "metadata": {},
   "source": [
    "#  Loading the data"
   ]
  },
  {
   "cell_type": "code",
   "execution_count": 2,
   "metadata": {},
   "outputs": [],
   "source": [
    "df_energy = pd.read_pickle(\"../Data/Preprocessed_Data/consumption_daily_nan_interpolated.pkl\")"
   ]
  },
  {
   "cell_type": "code",
   "execution_count": 6,
   "metadata": {},
   "outputs": [
    {
     "data": {
      "text/html": [
       "<div>\n",
       "<style scoped>\n",
       "    .dataframe tbody tr th:only-of-type {\n",
       "        vertical-align: middle;\n",
       "    }\n",
       "\n",
       "    .dataframe tbody tr th {\n",
       "        vertical-align: top;\n",
       "    }\n",
       "\n",
       "    .dataframe thead th {\n",
       "        text-align: right;\n",
       "    }\n",
       "</style>\n",
       "<table border=\"1\" class=\"dataframe\">\n",
       "  <thead>\n",
       "    <tr style=\"text-align: right;\">\n",
       "      <th></th>\n",
       "      <th>meter_id</th>\n",
       "      <th>2017-01-01</th>\n",
       "      <th>2017-01-02</th>\n",
       "      <th>2017-01-03</th>\n",
       "      <th>2017-01-04</th>\n",
       "      <th>2017-01-05</th>\n",
       "      <th>2017-01-06</th>\n",
       "      <th>2017-01-07</th>\n",
       "      <th>2017-01-08</th>\n",
       "      <th>2017-01-09</th>\n",
       "      <th>...</th>\n",
       "      <th>2017-12-22</th>\n",
       "      <th>2017-12-23</th>\n",
       "      <th>2017-12-24</th>\n",
       "      <th>2017-12-25</th>\n",
       "      <th>2017-12-26</th>\n",
       "      <th>2017-12-27</th>\n",
       "      <th>2017-12-28</th>\n",
       "      <th>2017-12-29</th>\n",
       "      <th>2017-12-30</th>\n",
       "      <th>2017-12-31</th>\n",
       "    </tr>\n",
       "  </thead>\n",
       "  <tbody>\n",
       "    <tr>\n",
       "      <th>0</th>\n",
       "      <td>0xa62b9f23553ff183f61e2bf943aab3d5983d02d7</td>\n",
       "      <td>NaN</td>\n",
       "      <td>NaN</td>\n",
       "      <td>NaN</td>\n",
       "      <td>NaN</td>\n",
       "      <td>NaN</td>\n",
       "      <td>NaN</td>\n",
       "      <td>NaN</td>\n",
       "      <td>NaN</td>\n",
       "      <td>NaN</td>\n",
       "      <td>...</td>\n",
       "      <td>4.030</td>\n",
       "      <td>5.397</td>\n",
       "      <td>5.1075</td>\n",
       "      <td>4.818</td>\n",
       "      <td>3.931</td>\n",
       "      <td>4.2170</td>\n",
       "      <td>4.503</td>\n",
       "      <td>4.8160</td>\n",
       "      <td>5.129</td>\n",
       "      <td>5.395</td>\n",
       "    </tr>\n",
       "    <tr>\n",
       "      <th>1</th>\n",
       "      <td>0x459c834d1f6cfb5b734b82aa9f5410fa97fb70da</td>\n",
       "      <td>NaN</td>\n",
       "      <td>NaN</td>\n",
       "      <td>NaN</td>\n",
       "      <td>NaN</td>\n",
       "      <td>NaN</td>\n",
       "      <td>NaN</td>\n",
       "      <td>NaN</td>\n",
       "      <td>NaN</td>\n",
       "      <td>NaN</td>\n",
       "      <td>...</td>\n",
       "      <td>13.101</td>\n",
       "      <td>14.327</td>\n",
       "      <td>14.6315</td>\n",
       "      <td>14.936</td>\n",
       "      <td>16.174</td>\n",
       "      <td>20.3960</td>\n",
       "      <td>24.618</td>\n",
       "      <td>19.8925</td>\n",
       "      <td>15.167</td>\n",
       "      <td>11.751</td>\n",
       "    </tr>\n",
       "    <tr>\n",
       "      <th>2</th>\n",
       "      <td>0x4a1ed36825360a058cec2bdd409fc2459e1ce54f</td>\n",
       "      <td>NaN</td>\n",
       "      <td>NaN</td>\n",
       "      <td>NaN</td>\n",
       "      <td>NaN</td>\n",
       "      <td>NaN</td>\n",
       "      <td>NaN</td>\n",
       "      <td>NaN</td>\n",
       "      <td>NaN</td>\n",
       "      <td>NaN</td>\n",
       "      <td>...</td>\n",
       "      <td>10.201</td>\n",
       "      <td>7.320</td>\n",
       "      <td>7.3520</td>\n",
       "      <td>7.384</td>\n",
       "      <td>14.425</td>\n",
       "      <td>16.0650</td>\n",
       "      <td>17.705</td>\n",
       "      <td>13.3355</td>\n",
       "      <td>8.966</td>\n",
       "      <td>4.633</td>\n",
       "    </tr>\n",
       "    <tr>\n",
       "      <th>3</th>\n",
       "      <td>0x5b76d3c0e0aefc6e0a8d1d031f96388a23263407</td>\n",
       "      <td>NaN</td>\n",
       "      <td>NaN</td>\n",
       "      <td>NaN</td>\n",
       "      <td>NaN</td>\n",
       "      <td>NaN</td>\n",
       "      <td>NaN</td>\n",
       "      <td>NaN</td>\n",
       "      <td>NaN</td>\n",
       "      <td>NaN</td>\n",
       "      <td>...</td>\n",
       "      <td>14.833</td>\n",
       "      <td>12.477</td>\n",
       "      <td>11.7255</td>\n",
       "      <td>10.974</td>\n",
       "      <td>19.646</td>\n",
       "      <td>21.8195</td>\n",
       "      <td>23.993</td>\n",
       "      <td>19.9170</td>\n",
       "      <td>15.841</td>\n",
       "      <td>14.452</td>\n",
       "    </tr>\n",
       "    <tr>\n",
       "      <th>4</th>\n",
       "      <td>0x943ebe39ef2be6ef807c42c5a647e27112ca5b0f</td>\n",
       "      <td>NaN</td>\n",
       "      <td>NaN</td>\n",
       "      <td>NaN</td>\n",
       "      <td>NaN</td>\n",
       "      <td>NaN</td>\n",
       "      <td>NaN</td>\n",
       "      <td>NaN</td>\n",
       "      <td>NaN</td>\n",
       "      <td>NaN</td>\n",
       "      <td>...</td>\n",
       "      <td>39.440</td>\n",
       "      <td>35.538</td>\n",
       "      <td>21.9445</td>\n",
       "      <td>8.351</td>\n",
       "      <td>9.957</td>\n",
       "      <td>17.9140</td>\n",
       "      <td>25.871</td>\n",
       "      <td>36.0725</td>\n",
       "      <td>46.274</td>\n",
       "      <td>16.901</td>\n",
       "    </tr>\n",
       "    <tr>\n",
       "      <th>...</th>\n",
       "      <td>...</td>\n",
       "      <td>...</td>\n",
       "      <td>...</td>\n",
       "      <td>...</td>\n",
       "      <td>...</td>\n",
       "      <td>...</td>\n",
       "      <td>...</td>\n",
       "      <td>...</td>\n",
       "      <td>...</td>\n",
       "      <td>...</td>\n",
       "      <td>...</td>\n",
       "      <td>...</td>\n",
       "      <td>...</td>\n",
       "      <td>...</td>\n",
       "      <td>...</td>\n",
       "      <td>...</td>\n",
       "      <td>...</td>\n",
       "      <td>...</td>\n",
       "      <td>...</td>\n",
       "      <td>...</td>\n",
       "      <td>...</td>\n",
       "    </tr>\n",
       "    <tr>\n",
       "      <th>3243</th>\n",
       "      <td>0x7dd7a7b8ee1bec7c44b24f738c752482f6161065</td>\n",
       "      <td>2.317</td>\n",
       "      <td>2.301</td>\n",
       "      <td>2.352</td>\n",
       "      <td>2.516</td>\n",
       "      <td>2.229</td>\n",
       "      <td>2.354</td>\n",
       "      <td>2.397</td>\n",
       "      <td>2.397</td>\n",
       "      <td>2.269</td>\n",
       "      <td>...</td>\n",
       "      <td>9.390</td>\n",
       "      <td>9.231</td>\n",
       "      <td>9.2235</td>\n",
       "      <td>9.216</td>\n",
       "      <td>9.336</td>\n",
       "      <td>9.6840</td>\n",
       "      <td>10.032</td>\n",
       "      <td>9.8945</td>\n",
       "      <td>9.757</td>\n",
       "      <td>9.480</td>\n",
       "    </tr>\n",
       "    <tr>\n",
       "      <th>3244</th>\n",
       "      <td>0xfdaf9f857621ec06f2cf801f42a020a322835090</td>\n",
       "      <td>14.437</td>\n",
       "      <td>16.274</td>\n",
       "      <td>7.031</td>\n",
       "      <td>17.018</td>\n",
       "      <td>17.603</td>\n",
       "      <td>15.005</td>\n",
       "      <td>8.987</td>\n",
       "      <td>8.490</td>\n",
       "      <td>10.136</td>\n",
       "      <td>...</td>\n",
       "      <td>4.141</td>\n",
       "      <td>2.828</td>\n",
       "      <td>3.8230</td>\n",
       "      <td>4.818</td>\n",
       "      <td>3.357</td>\n",
       "      <td>8.1315</td>\n",
       "      <td>12.906</td>\n",
       "      <td>8.0140</td>\n",
       "      <td>3.122</td>\n",
       "      <td>3.401</td>\n",
       "    </tr>\n",
       "    <tr>\n",
       "      <th>3245</th>\n",
       "      <td>0xd28f2f001e0cd4d6c121a3cb2e1427207e170e18</td>\n",
       "      <td>7.824</td>\n",
       "      <td>7.517</td>\n",
       "      <td>5.398</td>\n",
       "      <td>6.788</td>\n",
       "      <td>7.360</td>\n",
       "      <td>6.898</td>\n",
       "      <td>7.321</td>\n",
       "      <td>8.042</td>\n",
       "      <td>8.207</td>\n",
       "      <td>...</td>\n",
       "      <td>6.767</td>\n",
       "      <td>5.919</td>\n",
       "      <td>5.9980</td>\n",
       "      <td>6.077</td>\n",
       "      <td>7.761</td>\n",
       "      <td>6.6080</td>\n",
       "      <td>5.455</td>\n",
       "      <td>5.5670</td>\n",
       "      <td>5.679</td>\n",
       "      <td>8.148</td>\n",
       "    </tr>\n",
       "    <tr>\n",
       "      <th>3246</th>\n",
       "      <td>0x47218b46abb2fcaade487a211911406dc6e13730</td>\n",
       "      <td>23.965</td>\n",
       "      <td>28.689</td>\n",
       "      <td>27.664</td>\n",
       "      <td>29.229</td>\n",
       "      <td>29.548</td>\n",
       "      <td>27.909</td>\n",
       "      <td>26.923</td>\n",
       "      <td>21.277</td>\n",
       "      <td>23.452</td>\n",
       "      <td>...</td>\n",
       "      <td>20.747</td>\n",
       "      <td>19.979</td>\n",
       "      <td>20.1925</td>\n",
       "      <td>20.406</td>\n",
       "      <td>23.668</td>\n",
       "      <td>27.7900</td>\n",
       "      <td>31.912</td>\n",
       "      <td>29.1125</td>\n",
       "      <td>26.313</td>\n",
       "      <td>24.201</td>\n",
       "    </tr>\n",
       "    <tr>\n",
       "      <th>3247</th>\n",
       "      <td>0xcd19e6fe3d887bc5dcac7ca18d46199695463fdd</td>\n",
       "      <td>11.302</td>\n",
       "      <td>14.178</td>\n",
       "      <td>15.499</td>\n",
       "      <td>11.853</td>\n",
       "      <td>17.431</td>\n",
       "      <td>14.506</td>\n",
       "      <td>12.812</td>\n",
       "      <td>10.472</td>\n",
       "      <td>10.879</td>\n",
       "      <td>...</td>\n",
       "      <td>14.036</td>\n",
       "      <td>15.990</td>\n",
       "      <td>15.5505</td>\n",
       "      <td>15.111</td>\n",
       "      <td>16.506</td>\n",
       "      <td>18.7585</td>\n",
       "      <td>21.011</td>\n",
       "      <td>19.2040</td>\n",
       "      <td>17.397</td>\n",
       "      <td>15.237</td>\n",
       "    </tr>\n",
       "  </tbody>\n",
       "</table>\n",
       "<p>3248 rows × 366 columns</p>\n",
       "</div>"
      ],
      "text/plain": [
       "                                        meter_id  2017-01-01  2017-01-02  \\\n",
       "0     0xa62b9f23553ff183f61e2bf943aab3d5983d02d7         NaN         NaN   \n",
       "1     0x459c834d1f6cfb5b734b82aa9f5410fa97fb70da         NaN         NaN   \n",
       "2     0x4a1ed36825360a058cec2bdd409fc2459e1ce54f         NaN         NaN   \n",
       "3     0x5b76d3c0e0aefc6e0a8d1d031f96388a23263407         NaN         NaN   \n",
       "4     0x943ebe39ef2be6ef807c42c5a647e27112ca5b0f         NaN         NaN   \n",
       "...                                          ...         ...         ...   \n",
       "3243  0x7dd7a7b8ee1bec7c44b24f738c752482f6161065       2.317       2.301   \n",
       "3244  0xfdaf9f857621ec06f2cf801f42a020a322835090      14.437      16.274   \n",
       "3245  0xd28f2f001e0cd4d6c121a3cb2e1427207e170e18       7.824       7.517   \n",
       "3246  0x47218b46abb2fcaade487a211911406dc6e13730      23.965      28.689   \n",
       "3247  0xcd19e6fe3d887bc5dcac7ca18d46199695463fdd      11.302      14.178   \n",
       "\n",
       "      2017-01-03  2017-01-04  2017-01-05  2017-01-06  2017-01-07  2017-01-08  \\\n",
       "0            NaN         NaN         NaN         NaN         NaN         NaN   \n",
       "1            NaN         NaN         NaN         NaN         NaN         NaN   \n",
       "2            NaN         NaN         NaN         NaN         NaN         NaN   \n",
       "3            NaN         NaN         NaN         NaN         NaN         NaN   \n",
       "4            NaN         NaN         NaN         NaN         NaN         NaN   \n",
       "...          ...         ...         ...         ...         ...         ...   \n",
       "3243       2.352       2.516       2.229       2.354       2.397       2.397   \n",
       "3244       7.031      17.018      17.603      15.005       8.987       8.490   \n",
       "3245       5.398       6.788       7.360       6.898       7.321       8.042   \n",
       "3246      27.664      29.229      29.548      27.909      26.923      21.277   \n",
       "3247      15.499      11.853      17.431      14.506      12.812      10.472   \n",
       "\n",
       "      2017-01-09  ...  2017-12-22  2017-12-23  2017-12-24  2017-12-25  \\\n",
       "0            NaN  ...       4.030       5.397      5.1075       4.818   \n",
       "1            NaN  ...      13.101      14.327     14.6315      14.936   \n",
       "2            NaN  ...      10.201       7.320      7.3520       7.384   \n",
       "3            NaN  ...      14.833      12.477     11.7255      10.974   \n",
       "4            NaN  ...      39.440      35.538     21.9445       8.351   \n",
       "...          ...  ...         ...         ...         ...         ...   \n",
       "3243       2.269  ...       9.390       9.231      9.2235       9.216   \n",
       "3244      10.136  ...       4.141       2.828      3.8230       4.818   \n",
       "3245       8.207  ...       6.767       5.919      5.9980       6.077   \n",
       "3246      23.452  ...      20.747      19.979     20.1925      20.406   \n",
       "3247      10.879  ...      14.036      15.990     15.5505      15.111   \n",
       "\n",
       "      2017-12-26  2017-12-27  2017-12-28  2017-12-29  2017-12-30  2017-12-31  \n",
       "0          3.931      4.2170       4.503      4.8160       5.129       5.395  \n",
       "1         16.174     20.3960      24.618     19.8925      15.167      11.751  \n",
       "2         14.425     16.0650      17.705     13.3355       8.966       4.633  \n",
       "3         19.646     21.8195      23.993     19.9170      15.841      14.452  \n",
       "4          9.957     17.9140      25.871     36.0725      46.274      16.901  \n",
       "...          ...         ...         ...         ...         ...         ...  \n",
       "3243       9.336      9.6840      10.032      9.8945       9.757       9.480  \n",
       "3244       3.357      8.1315      12.906      8.0140       3.122       3.401  \n",
       "3245       7.761      6.6080       5.455      5.5670       5.679       8.148  \n",
       "3246      23.668     27.7900      31.912     29.1125      26.313      24.201  \n",
       "3247      16.506     18.7585      21.011     19.2040      17.397      15.237  \n",
       "\n",
       "[3248 rows x 366 columns]"
      ]
     },
     "execution_count": 6,
     "metadata": {},
     "output_type": "execute_result"
    }
   ],
   "source": [
    "df_energy"
   ]
  },
  {
   "cell_type": "markdown",
   "metadata": {},
   "source": [
    "# Looking at how many missing values we have"
   ]
  },
  {
   "cell_type": "code",
   "execution_count": 4,
   "metadata": {},
   "outputs": [
    {
     "data": {
      "text/plain": [
       "2017-01-01    2983\n",
       "2017-01-02    2980\n",
       "2017-01-03    2980\n",
       "2017-01-04    2980\n",
       "2017-01-05    2980\n",
       "              ... \n",
       "2017-12-27      10\n",
       "2017-12-28      10\n",
       "2017-12-29      10\n",
       "2017-12-30      10\n",
       "2017-12-31      10\n",
       "Length: 365, dtype: int64"
      ]
     },
     "execution_count": 4,
     "metadata": {},
     "output_type": "execute_result"
    }
   ],
   "source": [
    "# how many nans do we have\n",
    "nan_count = df_energy.drop(\"meter_id\", axis=1).isnull().sum(axis = 0)\n",
    "nan_count"
   ]
  },
  {
   "cell_type": "code",
   "execution_count": 5,
   "metadata": {},
   "outputs": [
    {
     "data": {
      "text/plain": [
       "<AxesSubplot:title={'center':'Missing values per day'}, xlabel='date', ylabel='number of missing values'>"
      ]
     },
     "execution_count": 5,
     "metadata": {},
     "output_type": "execute_result"
    },
    {
     "data": {
      "image/png": "[encoded data removed]",
      "text/plain": [
       "<Figure size 648x648 with 1 Axes>"
      ]
     },
     "metadata": {},
     "output_type": "display_data"
    }
   ],
   "source": [
    "# plotting number of missing values\n",
    "nan_count.plot(figsize=(9,9), title=\"Missing values per day\", xlabel=\"date\", ylabel=\"number of missing values\")"
   ]
  },
  {
   "cell_type": "markdown",
   "metadata": {},
   "source": [
    "#### Conclusions:\n",
    "* We now know that the exists no single day where all meters have a reading\n",
    "* The best we can get is a minimum of 11 missing values per day for the last 6 days of the year\n",
    "    * This is likely as the battery in the meter has died.\n",
    "* For the last 28 days we only have 21 different meters we are missing values for\n",
    "* Before that it goes up exponentially making it impractical to use any more days than the last 28\n",
    "    \n",
    "* Plan is to:\n",
    "    1. Create new dataframe of just the last 28 days\n",
    "    2. Fill the missing values for the 15 that contain missing to 0\n",
    "    3. Cluster the dataframe\n",
    "    \n",
    "* Questions are:\n",
    "    * 1. just because they have similar patterns in december, are they likely to have similar patterns year round?\n",
    "        * eg is this enough data to make a real conclusion on\n",
    "    * 2. is it a good idea as the predicted values may not be accurate\n",
    "    * 3. May also still have an issue with the onehot encoding if one cluster has too many assigned meters\n",
    "        * so may be forced to use a different model\n",
    "        * could maybe get around this with a keras embedding layer\n",
    "        \n",
    "# 1. Creating new dataframe of just the last 29 days "
   ]
  },
  {
   "cell_type": "code",
   "execution_count": null,
   "metadata": {},
   "outputs": [],
   "source": [
    "# last 29 days have most reasonable amount of missing values\n",
    "df_energy_last_29 = pd.concat([pd.DataFrame(df_energy[\"meter_id\"]),df_energy.iloc[:,-29:]], axis=1)\n",
    "df_energy_last_29"
   ]
  },
  {
   "cell_type": "code",
   "execution_count": null,
   "metadata": {},
   "outputs": [],
   "source": [
    "# checking the number of missing values\n",
    "df_energy_last_29.isnull().sum(axis = 0)"
   ]
  },
  {
   "cell_type": "code",
   "execution_count": null,
   "metadata": {},
   "outputs": [],
   "source": [
    "df_energy_last_29=df_energy_last_29.fillna(0) # now filling the missing values with 0"
   ]
  },
  {
   "cell_type": "markdown",
   "metadata": {},
   "source": [
    "# 2. Clustering the dataframe\n",
    "## Getting optimal euclidean K value via elbow\n",
    "\n",
    "* Euclidean distance : not particularly adapted for time series"
   ]
  },
  {
   "cell_type": "code",
   "execution_count": null,
   "metadata": {},
   "outputs": [],
   "source": [
    "# elbow method for getting best value for k\n",
    "# https://www.scikit-yb.org/en/latest/api/cluster/elbow.html\n",
    "if not os.path.exists(f\"../EDA/plots/consumption/clustering/euclidean/\"):\n",
    "    os.makedirs(f\"../EDA/plots/consumption/clustering/euclidean/\")\n",
    "\n",
    "\n",
    "clusterer = TimeSeriesKMeans()\n",
    "visualizer = KElbowVisualizer(clusterer, k=(1,25))\n",
    "\n",
    "visualizer.fit(df_energy_last_29.drop(\"meter_id\", axis=1))\n",
    "plt.title(\"TimeSeries kMeans Elbow\")\n",
    "plt.savefig(\"../EDA/plots/consumption/Clustering/euclidean/_elbow.png\")\n",
    "visualizer.show()"
   ]
  },
  {
   "cell_type": "code",
   "execution_count": null,
   "metadata": {},
   "outputs": [],
   "source": [
    "# k value (how many clusters)\n",
    "k = 5"
   ]
  },
  {
   "cell_type": "markdown",
   "metadata": {},
   "source": [
    "## Clustering via euclidean kmeans"
   ]
  },
  {
   "cell_type": "code",
   "execution_count": null,
   "metadata": {},
   "outputs": [],
   "source": [
    "#fitting the euclidean kmeans\n",
    "clusterer = TimeSeriesKMeans(n_clusters=k)\n",
    "clusterer.fit(df_energy_last_29.drop(\"meter_id\", axis=1))"
   ]
  },
  {
   "cell_type": "code",
   "execution_count": null,
   "metadata": {},
   "outputs": [],
   "source": [
    "# getting the centroids\n",
    "centroids = clusterer.cluster_centers_"
   ]
  },
  {
   "cell_type": "code",
   "execution_count": null,
   "metadata": {},
   "outputs": [],
   "source": [
    "#predicting which meters belong to which cluster\n",
    "labels_euc = clusterer.predict(df_energy_last_29.drop(\"meter_id\",axis=1))\n",
    "labels_euc\n"
   ]
  },
  {
   "cell_type": "code",
   "execution_count": null,
   "metadata": {},
   "outputs": [],
   "source": [
    "#adding the labels to the dataframe for ease of plotting\n",
    "df_energy_29_labels = df_energy_last_29\n",
    "df_energy_29_labels[\"labels\"]=labels_euc\n",
    "df_energy_29_labels"
   ]
  },
  {
   "cell_type": "code",
   "execution_count": null,
   "metadata": {
    "scrolled": true
   },
   "outputs": [],
   "source": [
    "if not os.path.exists(f\"../EDA/plots/consumption/clustering/euclidean/{k}/\"):\n",
    "    os.makedirs(f\"../EDA/plots/consumption/clustering/euclidean/{k}/\")\n",
    "\n",
    "# plotting the assigned points ontop of the centroids\n",
    "for i in tqdm(np.unique(labels_euc)):\n",
    "    plt.figure(figsize=(10,5))\n",
    "    plt.title(\"Euclidean centroid \"+str(i+1)+\" of \"+str(k)+\" assignments\")\n",
    "    plt.xlabel(\"Date\")\n",
    "    plt.ylabel(\"Energy usage\")\n",
    "    plt.locator_params(axis='x', nbins=10)\n",
    "    for j in tqdm(range(len(df_energy_29_labels.drop(\"meter_id\",axis=1))), leave=False):\n",
    "        if(df_energy_last_29.drop(\"meter_id\",axis=1).iloc[j].labels==i):\n",
    "            plt.plot(df_energy_last_29.drop(\"meter_id\",axis=1).iloc[j].T, color=\"blue\",lw=0.5, label=\"assigned\")\n",
    "    plt.plot(centroids[i], color=\"red\",lw=3, label=\"centroid\",ls=\"dashed\")\n",
    "    plt.savefig(f\"../EDA/plots/consumption/clustering/euclidean/{k}/cluster_{i}\")\n",
    "    plt.show()\n",
    "    plt.close()"
   ]
  },
  {
   "cell_type": "code",
   "execution_count": null,
   "metadata": {},
   "outputs": [],
   "source": [
    "# joining based on meter_id to assign labels to the original dataset (with all meter readings)\n",
    "df_energy_labels = pd.merge(df_energy, df_energy_29_labels[{\"meter_id\",\"labels\"}], on=\"meter_id\",how=\"inner\")\n",
    "df_energy_labels"
   ]
  },
  {
   "cell_type": "code",
   "execution_count": null,
   "metadata": {},
   "outputs": [],
   "source": [
    "# plotting all the assigned data on top of each other\n",
    "# last 29 days\n",
    "\n",
    "colours = [\"red\",\"blue\",\"green\",\"magenta\",\"cyan\",\"orange\",\"brown\",\"grey\",\"pink\",\"purple\",\"black\",\"olive\"]\n",
    "\n",
    "plt.figure(figsize=(15,15))\n",
    "plt.title(\"last 29 days clusters\")\n",
    "plt.xlabel(\"Date\")\n",
    "plt.ylabel(\"Energy usage\")\n",
    "plt.locator_params(axis='x', nbins=10)\n",
    "\n",
    "for i in tqdm(np.unique(labels_euc)):\n",
    "\n",
    "    \n",
    "    #plotting the one with no missing nans in december\n",
    "    for j in tqdm(range(len(df_energy_29_labels.drop(\"meter_id\",axis=1).drop(\"labels\",axis=1))), leave=False):\n",
    "        if(df_energy_29_labels.drop(\"meter_id\",axis=1).iloc[j].labels==i):\n",
    "            plt.plot(df_energy_29_labels.drop(\"meter_id\",axis=1).drop(\"labels\",axis=1).fillna(0).iloc[j].T, color=colours[i],lw=0.5)\n",
    "\n",
    "plt.savefig(f\"../EDA/plots/consumption/clustering/euclidean/{k}/clusters_last_29_ts.png\")\n",
    "plt.show()\n",
    "plt.close()"
   ]
  },
  {
   "cell_type": "code",
   "execution_count": null,
   "metadata": {},
   "outputs": [],
   "source": [
    "# plotting all the assigned data on top of each other\n",
    "# all data\n",
    "\n",
    "colours = [\"red\",\"blue\",\"green\",\"magenta\",\"cyan\",\"orange\",\"brown\",\"grey\",\"pink\",\"purple\",\"black\",\"olive\"]\n",
    "\n",
    "plt.figure(figsize=(15,15))\n",
    "plt.title(\"year long clusters\")\n",
    "plt.xlabel(\"Date\")\n",
    "plt.ylabel(\"Energy usage\")\n",
    "plt.locator_params(axis='x', nbins=10)\n",
    "\n",
    "for i in tqdm(np.unique(labels_euc)):\n",
    "\n",
    "    \n",
    "    #plotting the one with no missing nans in december\n",
    "    for j in tqdm(range(len(df_energy_labels.drop(\"meter_id\",axis=1).drop(\"labels\",axis=1))), leave=False):\n",
    "        if(df_energy_labels.drop(\"meter_id\",axis=1).iloc[j].labels==i):\n",
    "            plt.plot(df_energy_labels.drop(\"meter_id\",axis=1).drop(\"labels\",axis=1).fillna(0).iloc[j].T, color=colours[i],lw=0.5)\n",
    "\n",
    "plt.savefig(f\"../EDA/plots/consumption/clustering/euclidean/{k}/clusters_all_ts.png\")\n",
    "plt.show()\n",
    "plt.close()"
   ]
  },
  {
   "cell_type": "markdown",
   "metadata": {},
   "source": [
    "## Clustering the data via dba kmeans\n",
    "\n",
    "* adaption of dtw using averages to be faster and more accurate\n",
    "\n",
    "### Using the elbow method to find the best value for k for dba"
   ]
  },
  {
   "cell_type": "code",
   "execution_count": null,
   "metadata": {},
   "outputs": [],
   "source": [
    "# elbow method for getting best value for k\n",
    "# https://www.scikit-yb.org/en/latest/api/cluster/elbow.html\n",
    "if not os.path.exists(f\"../EDA/plots/consumption/clustering/dba/\"):\n",
    "    os.makedirs(f\"../EDA/plots/consumption/clustering/dba/\")\n",
    "\n",
    "\n",
    "clusterer = TimeSeriesKMeans(n_init=2, metric=\"dtw\", max_iter_barycenter=10)\n",
    "visualizer = KElbowVisualizer(clusterer, k=(1,25))\n",
    "\n",
    "visualizer.fit(df_energy_last_29.drop(\"meter_id\", axis=1))\n",
    "plt.title(\"DBA kMeans Elbow\")\n",
    "plt.savefig(\"../EDA/plots/consumption/Clustering/dba/_elbow.png\")\n",
    "visualizer.show()"
   ]
  },
  {
   "cell_type": "code",
   "execution_count": null,
   "metadata": {},
   "outputs": [],
   "source": [
    "# k value (how many clusters)\n",
    "k = 6"
   ]
  },
  {
   "cell_type": "markdown",
   "metadata": {},
   "source": [
    "### Running DBA kMeans to cluster the data using the optimal k elbow"
   ]
  },
  {
   "cell_type": "code",
   "execution_count": null,
   "metadata": {},
   "outputs": [],
   "source": [
    "#fitting the dba kmeans\n",
    "clusterer = TimeSeriesKMeans(n_clusters=k, n_init=2, metric=\"dtw\", max_iter_barycenter=10)\n",
    "clusterer.fit(df_energy_last_29.drop(\"meter_id\", axis=1))"
   ]
  },
  {
   "cell_type": "code",
   "execution_count": null,
   "metadata": {},
   "outputs": [],
   "source": [
    "# getting the centroids\n",
    "centroids = clusterer.cluster_centers_"
   ]
  },
  {
   "cell_type": "code",
   "execution_count": null,
   "metadata": {
    "scrolled": true
   },
   "outputs": [],
   "source": [
    "#predicting which meters belong to which cluster\n",
    "labels_dba = clusterer.predict(df_energy_last_29.drop(\"meter_id\",axis=1))\n",
    "labels_dba\n"
   ]
  },
  {
   "cell_type": "code",
   "execution_count": null,
   "metadata": {},
   "outputs": [],
   "source": [
    "#adding the labels to the dataframe for ease of plotting\n",
    "df_energy_29_labels = df_energy_last_29\n",
    "df_energy_29_labels[\"labels\"]=labels_dba\n",
    "df_energy_29_labels"
   ]
  },
  {
   "cell_type": "code",
   "execution_count": null,
   "metadata": {
    "scrolled": true
   },
   "outputs": [],
   "source": [
    "if not os.path.exists(f\"../EDA/plots/consumption/clustering/dba/{k}/\"):\n",
    "    os.makedirs(f\"../EDA/plots/consumption/clustering/dba/{k}/\")\n",
    "\n",
    "\n",
    "# plotting the assigned points ontop of the centroids\n",
    "for i in tqdm(np.unique(labels_dba)):\n",
    "    plt.figure(figsize=(10,5))\n",
    "    plt.title(\"DBA centroid \"+str(i+1)+\" of \"+str(k)+\" assignments\")\n",
    "    plt.xlabel(\"Date\")\n",
    "    plt.ylabel(\"Energy usage\")\n",
    "    plt.locator_params(axis='x', nbins=10)\n",
    "    for j in tqdm(range(len(df_energy_29_labels.drop(\"meter_id\",axis=1))), leave=False):\n",
    "        if(df_energy_last_29.drop(\"meter_id\",axis=1).iloc[j].labels==i):\n",
    "            plt.plot(df_energy_last_29.drop(\"meter_id\",axis=1).iloc[j].T, color=\"blue\",lw=0.5, label=\"assigned\")\n",
    "    plt.plot(centroids[i], color=\"red\",lw=3, label=\"centroid\", ls=\"dashed\")\n",
    "    plt.savefig(f\"../EDA/plots/consumption/clustering/dba/{k}/cluster_{i}\")\n",
    "    plt.show()\n",
    "    plt.close()"
   ]
  },
  {
   "cell_type": "code",
   "execution_count": null,
   "metadata": {},
   "outputs": [],
   "source": [
    "# joining based on meter_id to assign labels to the original dataset (with all meter readings)\n",
    "df_energy_labels = pd.merge(df_energy, df_energy_29_labels[{\"meter_id\",\"labels\"}], on=\"meter_id\",how=\"inner\")\n",
    "df_energy_labels"
   ]
  },
  {
   "cell_type": "code",
   "execution_count": null,
   "metadata": {},
   "outputs": [],
   "source": [
    "# plotting all the assigned data on top of each other\n",
    "# last 29 days\n",
    "\n",
    "colours = [\"red\",\"blue\",\"green\",\"magenta\",\"cyan\",\"orange\",\"brown\",\"grey\",\"pink\",\"purple\",\"black\",\"olive\"]\n",
    "\n",
    "plt.figure(figsize=(15,15))\n",
    "plt.title(\"last 29 days clusters\")\n",
    "plt.xlabel(\"Date\")\n",
    "plt.ylabel(\"Energy usage\")\n",
    "plt.locator_params(axis='x', nbins=10)\n",
    "\n",
    "for i in tqdm(np.unique(labels_dba)):\n",
    "\n",
    "    \n",
    "    #plotting the one with no missing nans in december\n",
    "    for j in tqdm(range(len(df_energy_29_labels.drop(\"meter_id\",axis=1).drop(\"labels\",axis=1))), leave=False):\n",
    "        if(df_energy_29_labels.drop(\"meter_id\",axis=1).iloc[j].labels==i):\n",
    "            plt.plot(df_energy_29_labels.drop(\"meter_id\",axis=1).drop(\"labels\",axis=1).fillna(0).iloc[j].T, color=colours[i],lw=0.5)\n",
    "\n",
    "plt.savefig(f\"../EDA/plots/consumption/clustering/dba/{k}/clusters_last_29_ts.png\")\n",
    "plt.show()\n",
    "plt.close()"
   ]
  },
  {
   "cell_type": "code",
   "execution_count": null,
   "metadata": {},
   "outputs": [],
   "source": [
    "# plotting all the assigned data on top of each other\n",
    "# all data\n",
    "\n",
    "colours = [\"red\",\"blue\",\"green\",\"magenta\",\"cyan\",\"orange\",\"brown\",\"grey\",\"pink\",\"purple\",\"black\",\"olive\"]\n",
    "\n",
    "plt.figure(figsize=(15,15))\n",
    "plt.title(\"year long clusters\")\n",
    "plt.xlabel(\"Date\")\n",
    "plt.ylabel(\"Energy usage\")\n",
    "plt.locator_params(axis='x', nbins=10)\n",
    "\n",
    "for i in tqdm(np.unique(labels_dba)):\n",
    "\n",
    "    \n",
    "    #plotting the one with no missing nans in december\n",
    "    for j in tqdm(range(len(df_energy_labels.drop(\"meter_id\",axis=1).drop(\"labels\",axis=1))), leave=False):\n",
    "        if(df_energy_labels.drop(\"meter_id\",axis=1).iloc[j].labels==i):\n",
    "            plt.plot(df_energy_labels.drop(\"meter_id\",axis=1).drop(\"labels\",axis=1).fillna(0).iloc[j].T, color=colours[i],lw=0.5)\n",
    "\n",
    "plt.savefig(f\"../EDA/plots/consumption/clustering/dba/{k}/clusters_all_ts.png\")\n",
    "plt.show()\n",
    "plt.close()"
   ]
  },
  {
   "cell_type": "markdown",
   "metadata": {},
   "source": [
    "## Clustering the data via soft dtw kmeans\n",
    "\n",
    "* soft-dtw; slow and less accurate than dba\n",
    "\n",
    "### Finding elbow of soft-dtw"
   ]
  },
  {
   "cell_type": "code",
   "execution_count": null,
   "metadata": {},
   "outputs": [],
   "source": [
    "# elbow method for getting best value for k\n",
    "# https://www.scikit-yb.org/en/latest/api/cluster/elbow.html\n",
    "if not os.path.exists(f\"../EDA/plots/consumption/clustering/soft-dtw/\"):\n",
    "    os.makedirs(f\"../EDA/plots/consumption/clustering/soft-dtw/\")\n",
    "\n",
    "clusterer = TimeSeriesKMeans(metric=\"softdtw\", metric_params={\"gamma\":0.01})\n",
    "visualizer = KElbowVisualizer(clusterer, k=(1,25))\n",
    "\n",
    "visualizer.fit(df_energy_last_29.drop(\"meter_id\", axis=1))\n",
    "plt.title(\"soft-dtw kMeans Elbow\")\n",
    "plt.savefig(\"../EDA/plots/consumption/Clustering/soft-dtw/_elbow.png\")\n",
    "visualizer.show()"
   ]
  },
  {
   "cell_type": "code",
   "execution_count": null,
   "metadata": {},
   "outputs": [],
   "source": [
    "# k value (how many clusters)\n",
    "k = 5"
   ]
  },
  {
   "cell_type": "markdown",
   "metadata": {},
   "source": [
    "### Running soft-dtw kmeans on the optimal k value"
   ]
  },
  {
   "cell_type": "code",
   "execution_count": null,
   "metadata": {},
   "outputs": [],
   "source": [
    "#fitting the soft-dtw kmeans\n",
    "clusterer = TimeSeriesKMeans(n_clusters=k, metric=\"softdtw\", metric_params={\"gamma\":0.01})\n",
    "clusterer.fit(df_energy_last_29.drop(\"meter_id\", axis=1))"
   ]
  },
  {
   "cell_type": "code",
   "execution_count": null,
   "metadata": {},
   "outputs": [],
   "source": [
    "# getting the centroids\n",
    "centroids = clusterer.cluster_centers_"
   ]
  },
  {
   "cell_type": "code",
   "execution_count": null,
   "metadata": {},
   "outputs": [],
   "source": [
    "#predicting which meters belong to which cluster\n",
    "labels_dtw = clusterer.predict(df_energy_last_29.drop(\"meter_id\",axis=1))\n",
    "labels_dtw\n"
   ]
  },
  {
   "cell_type": "code",
   "execution_count": null,
   "metadata": {},
   "outputs": [],
   "source": [
    "#adding the labels to the dataframe for ease of plotting\n",
    "df_energy_29_labels = df_energy_last_29\n",
    "df_energy_29_labels[\"labels\"]=labels_dtw\n",
    "df_energy_29_labels"
   ]
  },
  {
   "cell_type": "code",
   "execution_count": null,
   "metadata": {
    "scrolled": true
   },
   "outputs": [],
   "source": [
    "if not os.path.exists(f\"../EDA/plots/consumption/clustering/soft-dtw/{k}/\"):\n",
    "    os.makedirs(f\"../EDA/plots/consumption/clustering/soft-dtw/{k}/\")\n",
    "\n",
    "# plotting the assigned points ontop of the centroids\n",
    "for i in tqdm(np.unique(labels_dtw)):\n",
    "    plt.figure(figsize=(10,5))\n",
    "    plt.title(\"soft-dtw centroid \"+str(i+1)+\" of \"+str(k)+\" assignments\")\n",
    "    plt.xlabel(\"Date\")\n",
    "    plt.ylabel(\"Energy usage\")\n",
    "    plt.locator_params(axis='x', nbins=10)\n",
    "    for j in tqdm(range(len(df_energy_29_labels.drop(\"meter_id\",axis=1))), leave=False):\n",
    "        if(df_energy_last_29.drop(\"meter_id\",axis=1).iloc[j].labels==i):\n",
    "            plt.plot(df_energy_last_29.drop(\"meter_id\",axis=1).iloc[j].T, color=\"blue\",lw=0.5, label=\"assigned\")\n",
    "    plt.plot(centroids[i], color=\"red\",lw=3, label=\"centroid\",ls=\"dashed\")\n",
    "    plt.savefig(f\"../EDA/plots/consumption/clustering/soft-dtw/{k}/cluster_{i}\")\n",
    "    plt.show()\n",
    "    plt.close()"
   ]
  },
  {
   "cell_type": "code",
   "execution_count": null,
   "metadata": {},
   "outputs": [],
   "source": [
    "# joining based on meter_id to assign labels to the original dataset (with all meter readings)\n",
    "df_energy_labels = pd.merge(df_energy, df_energy_29_labels[{\"meter_id\",\"labels\"}], on=\"meter_id\",how=\"inner\")\n",
    "df_energy_labels"
   ]
  },
  {
   "cell_type": "code",
   "execution_count": null,
   "metadata": {},
   "outputs": [],
   "source": [
    "# plotting all the assigned data on top of each other\n",
    "# last 29 days\n",
    "\n",
    "colours = [\"red\",\"blue\",\"green\",\"magenta\",\"cyan\",\"orange\",\"brown\",\"grey\",\"pink\",\"purple\",\"black\",\"olive\"]\n",
    "\n",
    "plt.figure(figsize=(15,15))\n",
    "plt.title(\"last 29 days clusters\")\n",
    "plt.xlabel(\"Date\")\n",
    "plt.ylabel(\"Energy usage\")\n",
    "plt.locator_params(axis='x', nbins=10)\n",
    "\n",
    "for i in tqdm(np.unique(labels_dtw)):\n",
    "\n",
    "    \n",
    "    #plotting the one with no missing nans in december\n",
    "    for j in tqdm(range(len(df_energy_29_labels.drop(\"meter_id\",axis=1).drop(\"labels\",axis=1))), leave=False):\n",
    "        if(df_energy_29_labels.drop(\"meter_id\",axis=1).iloc[j].labels==i):\n",
    "            plt.plot(df_energy_29_labels.drop(\"meter_id\",axis=1).drop(\"labels\",axis=1).fillna(0).iloc[j].T, color=colours[i],lw=0.5)\n",
    "\n",
    "plt.savefig(f\"../EDA/plots/consumption/clustering/soft-dtw/{k}/clusters_last_29_ts.png\")\n",
    "plt.show()\n",
    "plt.close()"
   ]
  },
  {
   "cell_type": "code",
   "execution_count": null,
   "metadata": {},
   "outputs": [],
   "source": [
    "# plotting all the assigned data on top of each other\n",
    "# all data\n",
    "\n",
    "colours = [\"red\",\"blue\",\"green\",\"magenta\",\"cyan\",\"orange\",\"brown\",\"grey\",\"pink\",\"purple\",\"black\",\"olive\"]\n",
    "\n",
    "plt.figure(figsize=(15,15))\n",
    "plt.title(\"year long clusters\")\n",
    "plt.xlabel(\"Date\")\n",
    "plt.ylabel(\"Energy usage\")\n",
    "plt.locator_params(axis='x', nbins=10)\n",
    "\n",
    "for i in tqdm(np.unique(labels_dtw)):\n",
    "\n",
    "    \n",
    "    #plotting the one with no missing nans in december\n",
    "    for j in tqdm(range(len(df_energy_labels.drop(\"meter_id\",axis=1).drop(\"labels\",axis=1))), leave=False):\n",
    "        if(df_energy_labels.drop(\"meter_id\",axis=1).iloc[j].labels==i):\n",
    "            plt.plot(df_energy_labels.drop(\"meter_id\",axis=1).drop(\"labels\",axis=1).fillna(0).iloc[j].T, color=colours[i],lw=0.5)\n",
    "\n",
    "plt.savefig(f\"../EDA/plots/consumption/clustering/soft-dtw/{k}/clusters_all_ts.png\")\n",
    "plt.show()\n",
    "plt.close()"
   ]
  },
  {
   "cell_type": "markdown",
   "metadata": {},
   "source": [
    "\n",
    "\n",
    "# Conclusions:\n",
    "\n",
    "* DBA gave the best performance out of the 3 tested time series suited kmeans methods\n",
    "    * Backs up findings from here https://blog.acolyer.org/2016/05/13/dynamic-time-warping-averaging-of-time-series-allows-faster-and-more-accurate-classification/\n",
    "    \n",
    "* Hence will use the DBA found classifications\n",
    "* Will likely use the cluster either to make separate models for each cluster or just as an extra feature for the model to allow it to learn from the clusters\n",
    "\n",
    "# Saving this data"
   ]
  },
  {
   "cell_type": "markdown",
   "metadata": {},
   "source": [
    "# TODO : \n",
    "\n",
    "* Once elbows are finished\n",
    "    * rerun code for the differenet kmeans with the optimal k value for each\n",
    "    \n",
    "* add labels to the entire dataset\n",
    "* simply plot each of the clusters of the one with the best distribution error with all the missing nan ones on top then assign them to the one they best fit"
   ]
  },
  {
   "cell_type": "code",
   "execution_count": null,
   "metadata": {},
   "outputs": [],
   "source": [
    "#adding the labels to the dataframe for ease of plotting\n",
    "df_energy_29_labels = df_energy_last_29\n",
    "df_energy_29_labels[\"labels\"]=labels_dba\n",
    "# joining based on meter_id to assign labels to the original dataset (with all meter readings)\n",
    "df_energy_labels = pd.merge(df_energy, df_energy_29_labels[{\"meter_id\",\"labels\"}], on=\"meter_id\",how=\"inner\")\n",
    "df_energy_labels"
   ]
  },
  {
   "cell_type": "code",
   "execution_count": null,
   "metadata": {},
   "outputs": [],
   "source": [
    "if(os.path.exists(f\"../Data/Preprocessed_Data/consumption_clustered.pkl\")==False):\n",
    "        df_energy_labels.to_pickle(f\"../Data/Preprocessed_Data/consumption_clustered.pkl\")"
   ]
  },
  {
   "cell_type": "code",
   "execution_count": null,
   "metadata": {},
   "outputs": [],
   "source": []
  }
 ],
 "metadata": {
  "kernelspec": {
   "display_name": "mle_tf",
   "language": "python",
   "name": "mle_tf"
  },
  "language_info": {
   "codemirror_mode": {
    "name": "ipython",
    "version": 3
   },
   "file_extension": ".py",
   "mimetype": "text/x-python",
   "name": "python",
   "nbconvert_exporter": "python",
   "pygments_lexer": "ipython3",
   "version": "3.7.9"
  }
 },
 "nbformat": 4,
 "nbformat_minor": 4
}
