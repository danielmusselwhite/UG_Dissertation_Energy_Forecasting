{
 "cells": [
  {
   "cell_type": "markdown",
   "metadata": {},
   "source": [
    "# EDA of the data\n",
    "* Performing an EDA of the data to discover preliminary patterns and problems which we will use in our preprocessing of the data\n",
    "\n",
    "# Importing required libraries"
   ]
  },
  {
   "cell_type": "code",
   "execution_count": 1,
   "metadata": {},
   "outputs": [
    {
     "name": "stderr",
     "output_type": "stream",
     "text": [
      "In C:\\Users\\psydm7\\Anaconda3\\envs\\mle_tf\\lib\\site-packages\\matplotlib\\mpl-data\\stylelib\\_classic_test.mplstyle: \n",
      "The text.latex.preview rcparam was deprecated in Matplotlib 3.3 and will be removed two minor releases later.\n",
      "In C:\\Users\\psydm7\\Anaconda3\\envs\\mle_tf\\lib\\site-packages\\matplotlib\\mpl-data\\stylelib\\_classic_test.mplstyle: \n",
      "The mathtext.fallback_to_cm rcparam was deprecated in Matplotlib 3.3 and will be removed two minor releases later.\n",
      "In C:\\Users\\psydm7\\Anaconda3\\envs\\mle_tf\\lib\\site-packages\\matplotlib\\mpl-data\\stylelib\\_classic_test.mplstyle: Support for setting the 'mathtext.fallback_to_cm' rcParam is deprecated since 3.3 and will be removed two minor releases later; use 'mathtext.fallback : 'cm' instead.\n",
      "In C:\\Users\\psydm7\\Anaconda3\\envs\\mle_tf\\lib\\site-packages\\matplotlib\\mpl-data\\stylelib\\_classic_test.mplstyle: \n",
      "The validate_bool_maybe_none function was deprecated in Matplotlib 3.3 and will be removed two minor releases later.\n",
      "In C:\\Users\\psydm7\\Anaconda3\\envs\\mle_tf\\lib\\site-packages\\matplotlib\\mpl-data\\stylelib\\_classic_test.mplstyle: \n",
      "The savefig.jpeg_quality rcparam was deprecated in Matplotlib 3.3 and will be removed two minor releases later.\n",
      "In C:\\Users\\psydm7\\Anaconda3\\envs\\mle_tf\\lib\\site-packages\\matplotlib\\mpl-data\\stylelib\\_classic_test.mplstyle: \n",
      "The keymap.all_axes rcparam was deprecated in Matplotlib 3.3 and will be removed two minor releases later.\n",
      "In C:\\Users\\psydm7\\Anaconda3\\envs\\mle_tf\\lib\\site-packages\\matplotlib\\mpl-data\\stylelib\\_classic_test.mplstyle: \n",
      "The animation.avconv_path rcparam was deprecated in Matplotlib 3.3 and will be removed two minor releases later.\n",
      "In C:\\Users\\psydm7\\Anaconda3\\envs\\mle_tf\\lib\\site-packages\\matplotlib\\mpl-data\\stylelib\\_classic_test.mplstyle: \n",
      "The animation.avconv_args rcparam was deprecated in Matplotlib 3.3 and will be removed two minor releases later.\n"
     ]
    }
   ],
   "source": [
    "import numpy as np\n",
    "import pandas as pd\n",
    "import matplotlib.pyplot as plt\n",
    "import os\n",
    "from sklearn.impute import KNNImputer\n",
    "from sklearn.preprocessing import OrdinalEncoder, LabelEncoder, OneHotEncoder, MinMaxScaler\n",
    "from datetime import datetime\n",
    "from tqdm.notebook import tqdm #lets us display pretty progress bars for loops\n",
    "import seaborn as sns\n",
    "from datetime import timedelta\n",
    "from datetime import date\n",
    "from dateutil.relativedelta import relativedelta\n",
    "import random #used for randomly selecting which plots to display (as there are a lot)"
   ]
  },
  {
   "cell_type": "markdown",
   "metadata": {},
   "source": [
    "# Setting up display options for pandas"
   ]
  },
  {
   "cell_type": "code",
   "execution_count": 2,
   "metadata": {},
   "outputs": [],
   "source": [
    "pd.set_option('display.max_columns', 50)\n",
    "pd.set_option('display.max_rows', 50)"
   ]
  },
  {
   "cell_type": "markdown",
   "metadata": {},
   "source": [
    "# Loading the data\n",
    "* Try to load from pickle file as it is quicker to access\n",
    "* If this fails, load the original CSV and save it to a pickle file\n",
    "* <b>No point in doing anything with weather data as we only have 1 years worth of values so it is impossible to leverage with our chosen models to predict the next years worth of energy readings without imputing the 99% of missing values</b>\n",
    "\n",
    "* Hence we are only looking into addInfo and consumption"
   ]
  },
  {
   "cell_type": "code",
   "execution_count": 3,
   "metadata": {
    "scrolled": true
   },
   "outputs": [
    {
     "name": "stdout",
     "output_type": "stream",
     "text": [
      "Loading consumption via pickle\n",
      "Loading addInfo via pickle\n"
     ]
    }
   ],
   "source": [
    "#try to load pickle file as it is quicker\n",
    "try:\n",
    "    print(\"Loading consumption via pickle\")\n",
    "    df_energy = pd.read_pickle(\"../Data/Original_Data/consumption.pkl\")\n",
    "# if the file was not found then load the csv then save it to pickle for future loads\n",
    "except:\n",
    "    print(\"Loading consumption via csv\")\n",
    "    df_energy = pd.read_csv(\"../Data/Original_Data/consumption.csv\")\n",
    "    df_energy.to_pickle(\"../Data/Original_Data/consumption.pkl\")\n",
    "\n",
    "    #try to load pickle file as it is quicker\n",
    "try:\n",
    "    print(\"Loading addInfo via pickle\")\n",
    "    df_info = pd.read_pickle(\"../Data/Original_Data/addInfo.pkl\")\n",
    "# if the file was not found then load the csv then save it to pickle for future loads\n",
    "except:\n",
    "    print(\"Loading addInfo via csv\")\n",
    "    df_info = pd.read_csv(\"../Data/Original_Data/addInfo.csv\")\n",
    "    df_info.to_pickle(\"../Data/Original_Data/addInfo.pkl\")"
   ]
  },
  {
   "cell_type": "markdown",
   "metadata": {},
   "source": [
    "# Inspecting df_energy and df_info"
   ]
  },
  {
   "cell_type": "code",
   "execution_count": 4,
   "metadata": {},
   "outputs": [
    {
     "data": {
      "text/html": [
       "<div>\n",
       "<style scoped>\n",
       "    .dataframe tbody tr th:only-of-type {\n",
       "        vertical-align: middle;\n",
       "    }\n",
       "\n",
       "    .dataframe tbody tr th {\n",
       "        vertical-align: top;\n",
       "    }\n",
       "\n",
       "    .dataframe thead th {\n",
       "        text-align: right;\n",
       "    }\n",
       "</style>\n",
       "<table border=\"1\" class=\"dataframe\">\n",
       "  <thead>\n",
       "    <tr style=\"text-align: right;\">\n",
       "      <th></th>\n",
       "      <th>meter_id</th>\n",
       "      <th>2017-01-01 00:00:00</th>\n",
       "      <th>2017-01-01 00:30:00</th>\n",
       "      <th>2017-01-01 01:00:00</th>\n",
       "      <th>2017-01-01 01:30:00</th>\n",
       "      <th>2017-01-01 02:00:00</th>\n",
       "      <th>2017-01-01 02:30:00</th>\n",
       "      <th>2017-01-01 03:00:00</th>\n",
       "      <th>2017-01-01 03:30:00</th>\n",
       "      <th>2017-01-01 04:00:00</th>\n",
       "      <th>2017-01-01 04:30:00</th>\n",
       "      <th>2017-01-01 05:00:00</th>\n",
       "      <th>2017-01-01 05:30:00</th>\n",
       "      <th>2017-01-01 06:00:00</th>\n",
       "      <th>2017-01-01 06:30:00</th>\n",
       "      <th>2017-01-01 07:00:00</th>\n",
       "      <th>2017-01-01 07:30:00</th>\n",
       "      <th>2017-01-01 08:00:00</th>\n",
       "      <th>2017-01-01 08:30:00</th>\n",
       "      <th>2017-01-01 09:00:00</th>\n",
       "      <th>2017-01-01 09:30:00</th>\n",
       "      <th>2017-01-01 10:00:00</th>\n",
       "      <th>2017-01-01 10:30:00</th>\n",
       "      <th>2017-01-01 11:00:00</th>\n",
       "      <th>2017-01-01 11:30:00</th>\n",
       "      <th>...</th>\n",
       "      <th>2017-12-31 11:30:00</th>\n",
       "      <th>2017-12-31 12:00:00</th>\n",
       "      <th>2017-12-31 12:30:00</th>\n",
       "      <th>2017-12-31 13:00:00</th>\n",
       "      <th>2017-12-31 13:30:00</th>\n",
       "      <th>2017-12-31 14:00:00</th>\n",
       "      <th>2017-12-31 14:30:00</th>\n",
       "      <th>2017-12-31 15:00:00</th>\n",
       "      <th>2017-12-31 15:30:00</th>\n",
       "      <th>2017-12-31 16:00:00</th>\n",
       "      <th>2017-12-31 16:30:00</th>\n",
       "      <th>2017-12-31 17:00:00</th>\n",
       "      <th>2017-12-31 17:30:00</th>\n",
       "      <th>2017-12-31 18:00:00</th>\n",
       "      <th>2017-12-31 18:30:00</th>\n",
       "      <th>2017-12-31 19:00:00</th>\n",
       "      <th>2017-12-31 19:30:00</th>\n",
       "      <th>2017-12-31 20:00:00</th>\n",
       "      <th>2017-12-31 20:30:00</th>\n",
       "      <th>2017-12-31 21:00:00</th>\n",
       "      <th>2017-12-31 21:30:00</th>\n",
       "      <th>2017-12-31 22:00:00</th>\n",
       "      <th>2017-12-31 22:30:00</th>\n",
       "      <th>2017-12-31 23:00:00</th>\n",
       "      <th>2017-12-31 23:30:00</th>\n",
       "    </tr>\n",
       "  </thead>\n",
       "  <tbody>\n",
       "    <tr>\n",
       "      <th>0</th>\n",
       "      <td>0xa62b9f23553ff183f61e2bf943aab3d5983d02d7</td>\n",
       "      <td>NaN</td>\n",
       "      <td>NaN</td>\n",
       "      <td>NaN</td>\n",
       "      <td>NaN</td>\n",
       "      <td>NaN</td>\n",
       "      <td>NaN</td>\n",
       "      <td>NaN</td>\n",
       "      <td>NaN</td>\n",
       "      <td>NaN</td>\n",
       "      <td>NaN</td>\n",
       "      <td>NaN</td>\n",
       "      <td>NaN</td>\n",
       "      <td>NaN</td>\n",
       "      <td>NaN</td>\n",
       "      <td>NaN</td>\n",
       "      <td>NaN</td>\n",
       "      <td>NaN</td>\n",
       "      <td>NaN</td>\n",
       "      <td>NaN</td>\n",
       "      <td>NaN</td>\n",
       "      <td>NaN</td>\n",
       "      <td>NaN</td>\n",
       "      <td>NaN</td>\n",
       "      <td>NaN</td>\n",
       "      <td>...</td>\n",
       "      <td>0.126</td>\n",
       "      <td>0.094</td>\n",
       "      <td>0.070</td>\n",
       "      <td>0.064</td>\n",
       "      <td>0.075</td>\n",
       "      <td>0.063</td>\n",
       "      <td>0.078</td>\n",
       "      <td>0.804</td>\n",
       "      <td>0.183</td>\n",
       "      <td>0.149</td>\n",
       "      <td>0.238</td>\n",
       "      <td>0.351</td>\n",
       "      <td>0.108</td>\n",
       "      <td>0.077</td>\n",
       "      <td>0.059</td>\n",
       "      <td>0.052</td>\n",
       "      <td>0.091</td>\n",
       "      <td>0.083</td>\n",
       "      <td>0.082</td>\n",
       "      <td>0.090</td>\n",
       "      <td>0.074</td>\n",
       "      <td>0.092</td>\n",
       "      <td>0.076</td>\n",
       "      <td>0.055</td>\n",
       "      <td>0.036</td>\n",
       "    </tr>\n",
       "    <tr>\n",
       "      <th>1</th>\n",
       "      <td>0x459c834d1f6cfb5b734b82aa9f5410fa97fb70da</td>\n",
       "      <td>NaN</td>\n",
       "      <td>NaN</td>\n",
       "      <td>NaN</td>\n",
       "      <td>NaN</td>\n",
       "      <td>NaN</td>\n",
       "      <td>NaN</td>\n",
       "      <td>NaN</td>\n",
       "      <td>NaN</td>\n",
       "      <td>NaN</td>\n",
       "      <td>NaN</td>\n",
       "      <td>NaN</td>\n",
       "      <td>NaN</td>\n",
       "      <td>NaN</td>\n",
       "      <td>NaN</td>\n",
       "      <td>NaN</td>\n",
       "      <td>NaN</td>\n",
       "      <td>NaN</td>\n",
       "      <td>NaN</td>\n",
       "      <td>NaN</td>\n",
       "      <td>NaN</td>\n",
       "      <td>NaN</td>\n",
       "      <td>NaN</td>\n",
       "      <td>NaN</td>\n",
       "      <td>NaN</td>\n",
       "      <td>...</td>\n",
       "      <td>0.212</td>\n",
       "      <td>0.170</td>\n",
       "      <td>0.078</td>\n",
       "      <td>0.092</td>\n",
       "      <td>0.102</td>\n",
       "      <td>0.253</td>\n",
       "      <td>0.383</td>\n",
       "      <td>0.068</td>\n",
       "      <td>0.077</td>\n",
       "      <td>0.085</td>\n",
       "      <td>0.594</td>\n",
       "      <td>0.413</td>\n",
       "      <td>0.277</td>\n",
       "      <td>0.315</td>\n",
       "      <td>0.691</td>\n",
       "      <td>0.402</td>\n",
       "      <td>0.639</td>\n",
       "      <td>0.537</td>\n",
       "      <td>0.834</td>\n",
       "      <td>0.868</td>\n",
       "      <td>0.394</td>\n",
       "      <td>0.073</td>\n",
       "      <td>0.077</td>\n",
       "      <td>0.049</td>\n",
       "      <td>0.048</td>\n",
       "    </tr>\n",
       "    <tr>\n",
       "      <th>2</th>\n",
       "      <td>0x4a1ed36825360a058cec2bdd409fc2459e1ce54f</td>\n",
       "      <td>NaN</td>\n",
       "      <td>NaN</td>\n",
       "      <td>NaN</td>\n",
       "      <td>NaN</td>\n",
       "      <td>NaN</td>\n",
       "      <td>NaN</td>\n",
       "      <td>NaN</td>\n",
       "      <td>NaN</td>\n",
       "      <td>NaN</td>\n",
       "      <td>NaN</td>\n",
       "      <td>NaN</td>\n",
       "      <td>NaN</td>\n",
       "      <td>NaN</td>\n",
       "      <td>NaN</td>\n",
       "      <td>NaN</td>\n",
       "      <td>NaN</td>\n",
       "      <td>NaN</td>\n",
       "      <td>NaN</td>\n",
       "      <td>NaN</td>\n",
       "      <td>NaN</td>\n",
       "      <td>NaN</td>\n",
       "      <td>NaN</td>\n",
       "      <td>NaN</td>\n",
       "      <td>NaN</td>\n",
       "      <td>...</td>\n",
       "      <td>0.005</td>\n",
       "      <td>0.029</td>\n",
       "      <td>0.196</td>\n",
       "      <td>0.134</td>\n",
       "      <td>0.069</td>\n",
       "      <td>0.067</td>\n",
       "      <td>0.025</td>\n",
       "      <td>0.026</td>\n",
       "      <td>0.020</td>\n",
       "      <td>0.014</td>\n",
       "      <td>0.032</td>\n",
       "      <td>0.019</td>\n",
       "      <td>0.107</td>\n",
       "      <td>0.104</td>\n",
       "      <td>0.124</td>\n",
       "      <td>0.110</td>\n",
       "      <td>0.123</td>\n",
       "      <td>0.012</td>\n",
       "      <td>0.034</td>\n",
       "      <td>0.006</td>\n",
       "      <td>0.027</td>\n",
       "      <td>0.001</td>\n",
       "      <td>0.044</td>\n",
       "      <td>0.004</td>\n",
       "      <td>0.035</td>\n",
       "    </tr>\n",
       "    <tr>\n",
       "      <th>3</th>\n",
       "      <td>0x5b76d3c0e0aefc6e0a8d1d031f96388a23263407</td>\n",
       "      <td>NaN</td>\n",
       "      <td>NaN</td>\n",
       "      <td>NaN</td>\n",
       "      <td>NaN</td>\n",
       "      <td>NaN</td>\n",
       "      <td>NaN</td>\n",
       "      <td>NaN</td>\n",
       "      <td>NaN</td>\n",
       "      <td>NaN</td>\n",
       "      <td>NaN</td>\n",
       "      <td>NaN</td>\n",
       "      <td>NaN</td>\n",
       "      <td>NaN</td>\n",
       "      <td>NaN</td>\n",
       "      <td>NaN</td>\n",
       "      <td>NaN</td>\n",
       "      <td>NaN</td>\n",
       "      <td>NaN</td>\n",
       "      <td>NaN</td>\n",
       "      <td>NaN</td>\n",
       "      <td>NaN</td>\n",
       "      <td>NaN</td>\n",
       "      <td>NaN</td>\n",
       "      <td>NaN</td>\n",
       "      <td>...</td>\n",
       "      <td>0.104</td>\n",
       "      <td>0.039</td>\n",
       "      <td>0.120</td>\n",
       "      <td>0.063</td>\n",
       "      <td>0.078</td>\n",
       "      <td>0.111</td>\n",
       "      <td>0.074</td>\n",
       "      <td>0.103</td>\n",
       "      <td>0.635</td>\n",
       "      <td>0.421</td>\n",
       "      <td>0.466</td>\n",
       "      <td>0.087</td>\n",
       "      <td>0.052</td>\n",
       "      <td>0.115</td>\n",
       "      <td>0.150</td>\n",
       "      <td>0.118</td>\n",
       "      <td>0.096</td>\n",
       "      <td>0.135</td>\n",
       "      <td>0.041</td>\n",
       "      <td>0.018</td>\n",
       "      <td>0.057</td>\n",
       "      <td>0.018</td>\n",
       "      <td>0.038</td>\n",
       "      <td>0.040</td>\n",
       "      <td>0.014</td>\n",
       "    </tr>\n",
       "    <tr>\n",
       "      <th>4</th>\n",
       "      <td>0x943ebe39ef2be6ef807c42c5a647e27112ca5b0f</td>\n",
       "      <td>NaN</td>\n",
       "      <td>NaN</td>\n",
       "      <td>NaN</td>\n",
       "      <td>NaN</td>\n",
       "      <td>NaN</td>\n",
       "      <td>NaN</td>\n",
       "      <td>NaN</td>\n",
       "      <td>NaN</td>\n",
       "      <td>NaN</td>\n",
       "      <td>NaN</td>\n",
       "      <td>NaN</td>\n",
       "      <td>NaN</td>\n",
       "      <td>NaN</td>\n",
       "      <td>NaN</td>\n",
       "      <td>NaN</td>\n",
       "      <td>NaN</td>\n",
       "      <td>NaN</td>\n",
       "      <td>NaN</td>\n",
       "      <td>NaN</td>\n",
       "      <td>NaN</td>\n",
       "      <td>NaN</td>\n",
       "      <td>NaN</td>\n",
       "      <td>NaN</td>\n",
       "      <td>NaN</td>\n",
       "      <td>...</td>\n",
       "      <td>0.545</td>\n",
       "      <td>0.150</td>\n",
       "      <td>0.498</td>\n",
       "      <td>1.165</td>\n",
       "      <td>1.054</td>\n",
       "      <td>0.498</td>\n",
       "      <td>0.199</td>\n",
       "      <td>0.058</td>\n",
       "      <td>0.019</td>\n",
       "      <td>0.068</td>\n",
       "      <td>0.077</td>\n",
       "      <td>0.060</td>\n",
       "      <td>0.024</td>\n",
       "      <td>0.026</td>\n",
       "      <td>0.016</td>\n",
       "      <td>0.022</td>\n",
       "      <td>0.010</td>\n",
       "      <td>0.036</td>\n",
       "      <td>0.006</td>\n",
       "      <td>0.024</td>\n",
       "      <td>0.014</td>\n",
       "      <td>0.028</td>\n",
       "      <td>0.006</td>\n",
       "      <td>0.024</td>\n",
       "      <td>0.025</td>\n",
       "    </tr>\n",
       "    <tr>\n",
       "      <th>...</th>\n",
       "      <td>...</td>\n",
       "      <td>...</td>\n",
       "      <td>...</td>\n",
       "      <td>...</td>\n",
       "      <td>...</td>\n",
       "      <td>...</td>\n",
       "      <td>...</td>\n",
       "      <td>...</td>\n",
       "      <td>...</td>\n",
       "      <td>...</td>\n",
       "      <td>...</td>\n",
       "      <td>...</td>\n",
       "      <td>...</td>\n",
       "      <td>...</td>\n",
       "      <td>...</td>\n",
       "      <td>...</td>\n",
       "      <td>...</td>\n",
       "      <td>...</td>\n",
       "      <td>...</td>\n",
       "      <td>...</td>\n",
       "      <td>...</td>\n",
       "      <td>...</td>\n",
       "      <td>...</td>\n",
       "      <td>...</td>\n",
       "      <td>...</td>\n",
       "      <td>...</td>\n",
       "      <td>...</td>\n",
       "      <td>...</td>\n",
       "      <td>...</td>\n",
       "      <td>...</td>\n",
       "      <td>...</td>\n",
       "      <td>...</td>\n",
       "      <td>...</td>\n",
       "      <td>...</td>\n",
       "      <td>...</td>\n",
       "      <td>...</td>\n",
       "      <td>...</td>\n",
       "      <td>...</td>\n",
       "      <td>...</td>\n",
       "      <td>...</td>\n",
       "      <td>...</td>\n",
       "      <td>...</td>\n",
       "      <td>...</td>\n",
       "      <td>...</td>\n",
       "      <td>...</td>\n",
       "      <td>...</td>\n",
       "      <td>...</td>\n",
       "      <td>...</td>\n",
       "      <td>...</td>\n",
       "      <td>...</td>\n",
       "      <td>...</td>\n",
       "    </tr>\n",
       "    <tr>\n",
       "      <th>3243</th>\n",
       "      <td>0x7dd7a7b8ee1bec7c44b24f738c752482f6161065</td>\n",
       "      <td>0.011</td>\n",
       "      <td>1.089</td>\n",
       "      <td>0.014</td>\n",
       "      <td>0.204</td>\n",
       "      <td>0.015</td>\n",
       "      <td>0.159</td>\n",
       "      <td>0.014</td>\n",
       "      <td>0.013</td>\n",
       "      <td>0.174</td>\n",
       "      <td>0.013</td>\n",
       "      <td>0.014</td>\n",
       "      <td>0.014</td>\n",
       "      <td>0.014</td>\n",
       "      <td>0.189</td>\n",
       "      <td>0.015</td>\n",
       "      <td>0.011</td>\n",
       "      <td>0.011</td>\n",
       "      <td>0.011</td>\n",
       "      <td>0.011</td>\n",
       "      <td>0.011</td>\n",
       "      <td>0.011</td>\n",
       "      <td>0.011</td>\n",
       "      <td>0.011</td>\n",
       "      <td>0.011</td>\n",
       "      <td>...</td>\n",
       "      <td>0.195</td>\n",
       "      <td>0.181</td>\n",
       "      <td>0.177</td>\n",
       "      <td>0.184</td>\n",
       "      <td>0.198</td>\n",
       "      <td>0.177</td>\n",
       "      <td>0.182</td>\n",
       "      <td>0.180</td>\n",
       "      <td>0.196</td>\n",
       "      <td>0.182</td>\n",
       "      <td>0.177</td>\n",
       "      <td>0.181</td>\n",
       "      <td>0.203</td>\n",
       "      <td>0.176</td>\n",
       "      <td>0.183</td>\n",
       "      <td>0.176</td>\n",
       "      <td>0.200</td>\n",
       "      <td>0.184</td>\n",
       "      <td>0.177</td>\n",
       "      <td>0.182</td>\n",
       "      <td>0.201</td>\n",
       "      <td>0.181</td>\n",
       "      <td>0.181</td>\n",
       "      <td>0.177</td>\n",
       "      <td>0.198</td>\n",
       "    </tr>\n",
       "    <tr>\n",
       "      <th>3244</th>\n",
       "      <td>0xfdaf9f857621ec06f2cf801f42a020a322835090</td>\n",
       "      <td>0.015</td>\n",
       "      <td>1.523</td>\n",
       "      <td>0.105</td>\n",
       "      <td>0.296</td>\n",
       "      <td>0.067</td>\n",
       "      <td>0.171</td>\n",
       "      <td>0.025</td>\n",
       "      <td>0.260</td>\n",
       "      <td>0.013</td>\n",
       "      <td>0.024</td>\n",
       "      <td>0.012</td>\n",
       "      <td>0.178</td>\n",
       "      <td>0.018</td>\n",
       "      <td>0.454</td>\n",
       "      <td>0.290</td>\n",
       "      <td>1.228</td>\n",
       "      <td>1.228</td>\n",
       "      <td>1.229</td>\n",
       "      <td>1.199</td>\n",
       "      <td>1.075</td>\n",
       "      <td>0.021</td>\n",
       "      <td>0.009</td>\n",
       "      <td>0.019</td>\n",
       "      <td>0.011</td>\n",
       "      <td>...</td>\n",
       "      <td>0.009</td>\n",
       "      <td>0.008</td>\n",
       "      <td>0.016</td>\n",
       "      <td>0.028</td>\n",
       "      <td>0.008</td>\n",
       "      <td>0.009</td>\n",
       "      <td>0.009</td>\n",
       "      <td>0.015</td>\n",
       "      <td>0.028</td>\n",
       "      <td>0.009</td>\n",
       "      <td>0.012</td>\n",
       "      <td>0.023</td>\n",
       "      <td>0.034</td>\n",
       "      <td>0.040</td>\n",
       "      <td>0.025</td>\n",
       "      <td>0.022</td>\n",
       "      <td>0.009</td>\n",
       "      <td>0.028</td>\n",
       "      <td>0.020</td>\n",
       "      <td>0.010</td>\n",
       "      <td>0.009</td>\n",
       "      <td>0.008</td>\n",
       "      <td>0.033</td>\n",
       "      <td>0.015</td>\n",
       "      <td>0.013</td>\n",
       "    </tr>\n",
       "    <tr>\n",
       "      <th>3245</th>\n",
       "      <td>0xd28f2f001e0cd4d6c121a3cb2e1427207e170e18</td>\n",
       "      <td>0.222</td>\n",
       "      <td>0.276</td>\n",
       "      <td>0.097</td>\n",
       "      <td>0.058</td>\n",
       "      <td>0.045</td>\n",
       "      <td>0.045</td>\n",
       "      <td>0.038</td>\n",
       "      <td>0.034</td>\n",
       "      <td>0.043</td>\n",
       "      <td>0.044</td>\n",
       "      <td>0.046</td>\n",
       "      <td>0.033</td>\n",
       "      <td>0.038</td>\n",
       "      <td>0.043</td>\n",
       "      <td>0.056</td>\n",
       "      <td>0.250</td>\n",
       "      <td>0.187</td>\n",
       "      <td>0.207</td>\n",
       "      <td>0.182</td>\n",
       "      <td>0.164</td>\n",
       "      <td>0.144</td>\n",
       "      <td>0.055</td>\n",
       "      <td>0.052</td>\n",
       "      <td>0.051</td>\n",
       "      <td>...</td>\n",
       "      <td>0.181</td>\n",
       "      <td>0.195</td>\n",
       "      <td>0.462</td>\n",
       "      <td>0.631</td>\n",
       "      <td>0.203</td>\n",
       "      <td>0.189</td>\n",
       "      <td>0.242</td>\n",
       "      <td>0.264</td>\n",
       "      <td>0.187</td>\n",
       "      <td>0.479</td>\n",
       "      <td>0.316</td>\n",
       "      <td>0.275</td>\n",
       "      <td>0.503</td>\n",
       "      <td>0.422</td>\n",
       "      <td>0.343</td>\n",
       "      <td>0.144</td>\n",
       "      <td>0.169</td>\n",
       "      <td>0.145</td>\n",
       "      <td>0.200</td>\n",
       "      <td>0.170</td>\n",
       "      <td>0.127</td>\n",
       "      <td>0.135</td>\n",
       "      <td>0.200</td>\n",
       "      <td>0.118</td>\n",
       "      <td>0.106</td>\n",
       "    </tr>\n",
       "    <tr>\n",
       "      <th>3246</th>\n",
       "      <td>0x47218b46abb2fcaade487a211911406dc6e13730</td>\n",
       "      <td>0.195</td>\n",
       "      <td>2.881</td>\n",
       "      <td>1.765</td>\n",
       "      <td>1.391</td>\n",
       "      <td>1.609</td>\n",
       "      <td>1.362</td>\n",
       "      <td>1.352</td>\n",
       "      <td>1.321</td>\n",
       "      <td>0.701</td>\n",
       "      <td>0.784</td>\n",
       "      <td>0.587</td>\n",
       "      <td>0.788</td>\n",
       "      <td>0.636</td>\n",
       "      <td>0.728</td>\n",
       "      <td>0.097</td>\n",
       "      <td>0.061</td>\n",
       "      <td>0.177</td>\n",
       "      <td>0.097</td>\n",
       "      <td>0.136</td>\n",
       "      <td>0.128</td>\n",
       "      <td>0.114</td>\n",
       "      <td>0.109</td>\n",
       "      <td>0.152</td>\n",
       "      <td>0.147</td>\n",
       "      <td>...</td>\n",
       "      <td>0.116</td>\n",
       "      <td>0.126</td>\n",
       "      <td>0.118</td>\n",
       "      <td>0.136</td>\n",
       "      <td>0.126</td>\n",
       "      <td>0.137</td>\n",
       "      <td>0.138</td>\n",
       "      <td>0.158</td>\n",
       "      <td>0.220</td>\n",
       "      <td>0.215</td>\n",
       "      <td>0.511</td>\n",
       "      <td>0.717</td>\n",
       "      <td>0.647</td>\n",
       "      <td>0.653</td>\n",
       "      <td>0.330</td>\n",
       "      <td>0.186</td>\n",
       "      <td>0.163</td>\n",
       "      <td>0.170</td>\n",
       "      <td>0.175</td>\n",
       "      <td>0.167</td>\n",
       "      <td>0.185</td>\n",
       "      <td>0.171</td>\n",
       "      <td>0.196</td>\n",
       "      <td>0.260</td>\n",
       "      <td>0.318</td>\n",
       "    </tr>\n",
       "    <tr>\n",
       "      <th>3247</th>\n",
       "      <td>0xcd19e6fe3d887bc5dcac7ca18d46199695463fdd</td>\n",
       "      <td>0.023</td>\n",
       "      <td>2.307</td>\n",
       "      <td>1.403</td>\n",
       "      <td>1.471</td>\n",
       "      <td>1.421</td>\n",
       "      <td>1.305</td>\n",
       "      <td>1.299</td>\n",
       "      <td>0.657</td>\n",
       "      <td>0.054</td>\n",
       "      <td>0.122</td>\n",
       "      <td>0.033</td>\n",
       "      <td>0.031</td>\n",
       "      <td>0.129</td>\n",
       "      <td>0.032</td>\n",
       "      <td>0.043</td>\n",
       "      <td>0.040</td>\n",
       "      <td>0.026</td>\n",
       "      <td>0.023</td>\n",
       "      <td>0.026</td>\n",
       "      <td>0.027</td>\n",
       "      <td>0.022</td>\n",
       "      <td>0.042</td>\n",
       "      <td>0.040</td>\n",
       "      <td>0.022</td>\n",
       "      <td>...</td>\n",
       "      <td>0.115</td>\n",
       "      <td>0.119</td>\n",
       "      <td>0.115</td>\n",
       "      <td>0.143</td>\n",
       "      <td>0.140</td>\n",
       "      <td>0.147</td>\n",
       "      <td>0.121</td>\n",
       "      <td>0.124</td>\n",
       "      <td>0.133</td>\n",
       "      <td>0.153</td>\n",
       "      <td>0.148</td>\n",
       "      <td>0.166</td>\n",
       "      <td>0.161</td>\n",
       "      <td>0.188</td>\n",
       "      <td>0.181</td>\n",
       "      <td>0.182</td>\n",
       "      <td>0.182</td>\n",
       "      <td>0.194</td>\n",
       "      <td>0.187</td>\n",
       "      <td>0.170</td>\n",
       "      <td>0.200</td>\n",
       "      <td>0.203</td>\n",
       "      <td>0.203</td>\n",
       "      <td>0.190</td>\n",
       "      <td>0.186</td>\n",
       "    </tr>\n",
       "  </tbody>\n",
       "</table>\n",
       "<p>3248 rows × 17521 columns</p>\n",
       "</div>"
      ],
      "text/plain": [
       "                                        meter_id  2017-01-01 00:00:00  \\\n",
       "0     0xa62b9f23553ff183f61e2bf943aab3d5983d02d7                  NaN   \n",
       "1     0x459c834d1f6cfb5b734b82aa9f5410fa97fb70da                  NaN   \n",
       "2     0x4a1ed36825360a058cec2bdd409fc2459e1ce54f                  NaN   \n",
       "3     0x5b76d3c0e0aefc6e0a8d1d031f96388a23263407                  NaN   \n",
       "4     0x943ebe39ef2be6ef807c42c5a647e27112ca5b0f                  NaN   \n",
       "...                                          ...                  ...   \n",
       "3243  0x7dd7a7b8ee1bec7c44b24f738c752482f6161065                0.011   \n",
       "3244  0xfdaf9f857621ec06f2cf801f42a020a322835090                0.015   \n",
       "3245  0xd28f2f001e0cd4d6c121a3cb2e1427207e170e18                0.222   \n",
       "3246  0x47218b46abb2fcaade487a211911406dc6e13730                0.195   \n",
       "3247  0xcd19e6fe3d887bc5dcac7ca18d46199695463fdd                0.023   \n",
       "\n",
       "      2017-01-01 00:30:00  2017-01-01 01:00:00  2017-01-01 01:30:00  \\\n",
       "0                     NaN                  NaN                  NaN   \n",
       "1                     NaN                  NaN                  NaN   \n",
       "2                     NaN                  NaN                  NaN   \n",
       "3                     NaN                  NaN                  NaN   \n",
       "4                     NaN                  NaN                  NaN   \n",
       "...                   ...                  ...                  ...   \n",
       "3243                1.089                0.014                0.204   \n",
       "3244                1.523                0.105                0.296   \n",
       "3245                0.276                0.097                0.058   \n",
       "3246                2.881                1.765                1.391   \n",
       "3247                2.307                1.403                1.471   \n",
       "\n",
       "      2017-01-01 02:00:00  2017-01-01 02:30:00  2017-01-01 03:00:00  \\\n",
       "0                     NaN                  NaN                  NaN   \n",
       "1                     NaN                  NaN                  NaN   \n",
       "2                     NaN                  NaN                  NaN   \n",
       "3                     NaN                  NaN                  NaN   \n",
       "4                     NaN                  NaN                  NaN   \n",
       "...                   ...                  ...                  ...   \n",
       "3243                0.015                0.159                0.014   \n",
       "3244                0.067                0.171                0.025   \n",
       "3245                0.045                0.045                0.038   \n",
       "3246                1.609                1.362                1.352   \n",
       "3247                1.421                1.305                1.299   \n",
       "\n",
       "      2017-01-01 03:30:00  2017-01-01 04:00:00  2017-01-01 04:30:00  \\\n",
       "0                     NaN                  NaN                  NaN   \n",
       "1                     NaN                  NaN                  NaN   \n",
       "2                     NaN                  NaN                  NaN   \n",
       "3                     NaN                  NaN                  NaN   \n",
       "4                     NaN                  NaN                  NaN   \n",
       "...                   ...                  ...                  ...   \n",
       "3243                0.013                0.174                0.013   \n",
       "3244                0.260                0.013                0.024   \n",
       "3245                0.034                0.043                0.044   \n",
       "3246                1.321                0.701                0.784   \n",
       "3247                0.657                0.054                0.122   \n",
       "\n",
       "      2017-01-01 05:00:00  2017-01-01 05:30:00  2017-01-01 06:00:00  \\\n",
       "0                     NaN                  NaN                  NaN   \n",
       "1                     NaN                  NaN                  NaN   \n",
       "2                     NaN                  NaN                  NaN   \n",
       "3                     NaN                  NaN                  NaN   \n",
       "4                     NaN                  NaN                  NaN   \n",
       "...                   ...                  ...                  ...   \n",
       "3243                0.014                0.014                0.014   \n",
       "3244                0.012                0.178                0.018   \n",
       "3245                0.046                0.033                0.038   \n",
       "3246                0.587                0.788                0.636   \n",
       "3247                0.033                0.031                0.129   \n",
       "\n",
       "      2017-01-01 06:30:00  2017-01-01 07:00:00  2017-01-01 07:30:00  \\\n",
       "0                     NaN                  NaN                  NaN   \n",
       "1                     NaN                  NaN                  NaN   \n",
       "2                     NaN                  NaN                  NaN   \n",
       "3                     NaN                  NaN                  NaN   \n",
       "4                     NaN                  NaN                  NaN   \n",
       "...                   ...                  ...                  ...   \n",
       "3243                0.189                0.015                0.011   \n",
       "3244                0.454                0.290                1.228   \n",
       "3245                0.043                0.056                0.250   \n",
       "3246                0.728                0.097                0.061   \n",
       "3247                0.032                0.043                0.040   \n",
       "\n",
       "      2017-01-01 08:00:00  2017-01-01 08:30:00  2017-01-01 09:00:00  \\\n",
       "0                     NaN                  NaN                  NaN   \n",
       "1                     NaN                  NaN                  NaN   \n",
       "2                     NaN                  NaN                  NaN   \n",
       "3                     NaN                  NaN                  NaN   \n",
       "4                     NaN                  NaN                  NaN   \n",
       "...                   ...                  ...                  ...   \n",
       "3243                0.011                0.011                0.011   \n",
       "3244                1.228                1.229                1.199   \n",
       "3245                0.187                0.207                0.182   \n",
       "3246                0.177                0.097                0.136   \n",
       "3247                0.026                0.023                0.026   \n",
       "\n",
       "      2017-01-01 09:30:00  2017-01-01 10:00:00  2017-01-01 10:30:00  \\\n",
       "0                     NaN                  NaN                  NaN   \n",
       "1                     NaN                  NaN                  NaN   \n",
       "2                     NaN                  NaN                  NaN   \n",
       "3                     NaN                  NaN                  NaN   \n",
       "4                     NaN                  NaN                  NaN   \n",
       "...                   ...                  ...                  ...   \n",
       "3243                0.011                0.011                0.011   \n",
       "3244                1.075                0.021                0.009   \n",
       "3245                0.164                0.144                0.055   \n",
       "3246                0.128                0.114                0.109   \n",
       "3247                0.027                0.022                0.042   \n",
       "\n",
       "      2017-01-01 11:00:00  2017-01-01 11:30:00  ...  2017-12-31 11:30:00  \\\n",
       "0                     NaN                  NaN  ...                0.126   \n",
       "1                     NaN                  NaN  ...                0.212   \n",
       "2                     NaN                  NaN  ...                0.005   \n",
       "3                     NaN                  NaN  ...                0.104   \n",
       "4                     NaN                  NaN  ...                0.545   \n",
       "...                   ...                  ...  ...                  ...   \n",
       "3243                0.011                0.011  ...                0.195   \n",
       "3244                0.019                0.011  ...                0.009   \n",
       "3245                0.052                0.051  ...                0.181   \n",
       "3246                0.152                0.147  ...                0.116   \n",
       "3247                0.040                0.022  ...                0.115   \n",
       "\n",
       "      2017-12-31 12:00:00  2017-12-31 12:30:00  2017-12-31 13:00:00  \\\n",
       "0                   0.094                0.070                0.064   \n",
       "1                   0.170                0.078                0.092   \n",
       "2                   0.029                0.196                0.134   \n",
       "3                   0.039                0.120                0.063   \n",
       "4                   0.150                0.498                1.165   \n",
       "...                   ...                  ...                  ...   \n",
       "3243                0.181                0.177                0.184   \n",
       "3244                0.008                0.016                0.028   \n",
       "3245                0.195                0.462                0.631   \n",
       "3246                0.126                0.118                0.136   \n",
       "3247                0.119                0.115                0.143   \n",
       "\n",
       "      2017-12-31 13:30:00  2017-12-31 14:00:00  2017-12-31 14:30:00  \\\n",
       "0                   0.075                0.063                0.078   \n",
       "1                   0.102                0.253                0.383   \n",
       "2                   0.069                0.067                0.025   \n",
       "3                   0.078                0.111                0.074   \n",
       "4                   1.054                0.498                0.199   \n",
       "...                   ...                  ...                  ...   \n",
       "3243                0.198                0.177                0.182   \n",
       "3244                0.008                0.009                0.009   \n",
       "3245                0.203                0.189                0.242   \n",
       "3246                0.126                0.137                0.138   \n",
       "3247                0.140                0.147                0.121   \n",
       "\n",
       "      2017-12-31 15:00:00  2017-12-31 15:30:00  2017-12-31 16:00:00  \\\n",
       "0                   0.804                0.183                0.149   \n",
       "1                   0.068                0.077                0.085   \n",
       "2                   0.026                0.020                0.014   \n",
       "3                   0.103                0.635                0.421   \n",
       "4                   0.058                0.019                0.068   \n",
       "...                   ...                  ...                  ...   \n",
       "3243                0.180                0.196                0.182   \n",
       "3244                0.015                0.028                0.009   \n",
       "3245                0.264                0.187                0.479   \n",
       "3246                0.158                0.220                0.215   \n",
       "3247                0.124                0.133                0.153   \n",
       "\n",
       "      2017-12-31 16:30:00  2017-12-31 17:00:00  2017-12-31 17:30:00  \\\n",
       "0                   0.238                0.351                0.108   \n",
       "1                   0.594                0.413                0.277   \n",
       "2                   0.032                0.019                0.107   \n",
       "3                   0.466                0.087                0.052   \n",
       "4                   0.077                0.060                0.024   \n",
       "...                   ...                  ...                  ...   \n",
       "3243                0.177                0.181                0.203   \n",
       "3244                0.012                0.023                0.034   \n",
       "3245                0.316                0.275                0.503   \n",
       "3246                0.511                0.717                0.647   \n",
       "3247                0.148                0.166                0.161   \n",
       "\n",
       "      2017-12-31 18:00:00  2017-12-31 18:30:00  2017-12-31 19:00:00  \\\n",
       "0                   0.077                0.059                0.052   \n",
       "1                   0.315                0.691                0.402   \n",
       "2                   0.104                0.124                0.110   \n",
       "3                   0.115                0.150                0.118   \n",
       "4                   0.026                0.016                0.022   \n",
       "...                   ...                  ...                  ...   \n",
       "3243                0.176                0.183                0.176   \n",
       "3244                0.040                0.025                0.022   \n",
       "3245                0.422                0.343                0.144   \n",
       "3246                0.653                0.330                0.186   \n",
       "3247                0.188                0.181                0.182   \n",
       "\n",
       "      2017-12-31 19:30:00  2017-12-31 20:00:00  2017-12-31 20:30:00  \\\n",
       "0                   0.091                0.083                0.082   \n",
       "1                   0.639                0.537                0.834   \n",
       "2                   0.123                0.012                0.034   \n",
       "3                   0.096                0.135                0.041   \n",
       "4                   0.010                0.036                0.006   \n",
       "...                   ...                  ...                  ...   \n",
       "3243                0.200                0.184                0.177   \n",
       "3244                0.009                0.028                0.020   \n",
       "3245                0.169                0.145                0.200   \n",
       "3246                0.163                0.170                0.175   \n",
       "3247                0.182                0.194                0.187   \n",
       "\n",
       "      2017-12-31 21:00:00  2017-12-31 21:30:00  2017-12-31 22:00:00  \\\n",
       "0                   0.090                0.074                0.092   \n",
       "1                   0.868                0.394                0.073   \n",
       "2                   0.006                0.027                0.001   \n",
       "3                   0.018                0.057                0.018   \n",
       "4                   0.024                0.014                0.028   \n",
       "...                   ...                  ...                  ...   \n",
       "3243                0.182                0.201                0.181   \n",
       "3244                0.010                0.009                0.008   \n",
       "3245                0.170                0.127                0.135   \n",
       "3246                0.167                0.185                0.171   \n",
       "3247                0.170                0.200                0.203   \n",
       "\n",
       "      2017-12-31 22:30:00  2017-12-31 23:00:00  2017-12-31 23:30:00  \n",
       "0                   0.076                0.055                0.036  \n",
       "1                   0.077                0.049                0.048  \n",
       "2                   0.044                0.004                0.035  \n",
       "3                   0.038                0.040                0.014  \n",
       "4                   0.006                0.024                0.025  \n",
       "...                   ...                  ...                  ...  \n",
       "3243                0.181                0.177                0.198  \n",
       "3244                0.033                0.015                0.013  \n",
       "3245                0.200                0.118                0.106  \n",
       "3246                0.196                0.260                0.318  \n",
       "3247                0.203                0.190                0.186  \n",
       "\n",
       "[3248 rows x 17521 columns]"
      ]
     },
     "execution_count": 4,
     "metadata": {},
     "output_type": "execute_result"
    }
   ],
   "source": [
    "# inspecting the values of the dataframe\n",
    "df_energy"
   ]
  },
  {
   "cell_type": "code",
   "execution_count": 5,
   "metadata": {},
   "outputs": [
    {
     "data": {
      "text/plain": [
       "(3248, 17521)"
      ]
     },
     "execution_count": 5,
     "metadata": {},
     "output_type": "execute_result"
    }
   ],
   "source": [
    "# inspecting the shape of the dataframe\n",
    "df_energy.shape"
   ]
  },
  {
   "cell_type": "code",
   "execution_count": 6,
   "metadata": {},
   "outputs": [
    {
     "data": {
      "text/html": [
       "<div>\n",
       "<style scoped>\n",
       "    .dataframe tbody tr th:only-of-type {\n",
       "        vertical-align: middle;\n",
       "    }\n",
       "\n",
       "    .dataframe tbody tr th {\n",
       "        vertical-align: top;\n",
       "    }\n",
       "\n",
       "    .dataframe thead th {\n",
       "        text-align: right;\n",
       "    }\n",
       "</style>\n",
       "<table border=\"1\" class=\"dataframe\">\n",
       "  <thead>\n",
       "    <tr style=\"text-align: right;\">\n",
       "      <th></th>\n",
       "      <th>meter_id</th>\n",
       "      <th>dwelling_type</th>\n",
       "      <th>num_occupants</th>\n",
       "      <th>num_bedrooms</th>\n",
       "      <th>heating_fuel</th>\n",
       "      <th>hot_water_fuel</th>\n",
       "      <th>boiler_age</th>\n",
       "      <th>loft_insulation</th>\n",
       "      <th>wall_insulation</th>\n",
       "      <th>heating_temperature</th>\n",
       "      <th>efficient_lighting_percentage</th>\n",
       "      <th>dishwasher</th>\n",
       "      <th>freezer</th>\n",
       "      <th>fridge_freezer</th>\n",
       "      <th>refrigerator</th>\n",
       "      <th>tumble_dryer</th>\n",
       "      <th>washing_machine</th>\n",
       "      <th>game_console</th>\n",
       "      <th>laptop</th>\n",
       "      <th>pc</th>\n",
       "      <th>router</th>\n",
       "      <th>set_top_box</th>\n",
       "      <th>tablet</th>\n",
       "      <th>tv</th>\n",
       "    </tr>\n",
       "  </thead>\n",
       "  <tbody>\n",
       "    <tr>\n",
       "      <th>0</th>\n",
       "      <td>0x02b7418b821b2edeeb2baa23ba1580566b4b0e43</td>\n",
       "      <td>semi_detached_house</td>\n",
       "      <td>NaN</td>\n",
       "      <td>3.0</td>\n",
       "      <td>NaN</td>\n",
       "      <td>NaN</td>\n",
       "      <td>NaN</td>\n",
       "      <td>NaN</td>\n",
       "      <td>NaN</td>\n",
       "      <td>NaN</td>\n",
       "      <td>NaN</td>\n",
       "      <td>NaN</td>\n",
       "      <td>NaN</td>\n",
       "      <td>NaN</td>\n",
       "      <td>NaN</td>\n",
       "      <td>NaN</td>\n",
       "      <td>NaN</td>\n",
       "      <td>NaN</td>\n",
       "      <td>NaN</td>\n",
       "      <td>NaN</td>\n",
       "      <td>NaN</td>\n",
       "      <td>NaN</td>\n",
       "      <td>NaN</td>\n",
       "      <td>NaN</td>\n",
       "    </tr>\n",
       "    <tr>\n",
       "      <th>1</th>\n",
       "      <td>0xaf32b2b497e9eb9c3f3de907aedc6a7914a11f41</td>\n",
       "      <td>terraced_house</td>\n",
       "      <td>NaN</td>\n",
       "      <td>2.0</td>\n",
       "      <td>NaN</td>\n",
       "      <td>NaN</td>\n",
       "      <td>NaN</td>\n",
       "      <td>NaN</td>\n",
       "      <td>NaN</td>\n",
       "      <td>NaN</td>\n",
       "      <td>NaN</td>\n",
       "      <td>NaN</td>\n",
       "      <td>NaN</td>\n",
       "      <td>NaN</td>\n",
       "      <td>NaN</td>\n",
       "      <td>NaN</td>\n",
       "      <td>NaN</td>\n",
       "      <td>NaN</td>\n",
       "      <td>NaN</td>\n",
       "      <td>NaN</td>\n",
       "      <td>NaN</td>\n",
       "      <td>NaN</td>\n",
       "      <td>NaN</td>\n",
       "      <td>NaN</td>\n",
       "    </tr>\n",
       "    <tr>\n",
       "      <th>2</th>\n",
       "      <td>0xdd45ab28a7a40eadc04607d6da42e5ad923b1339</td>\n",
       "      <td>semi_detached_house</td>\n",
       "      <td>NaN</td>\n",
       "      <td>NaN</td>\n",
       "      <td>NaN</td>\n",
       "      <td>NaN</td>\n",
       "      <td>NaN</td>\n",
       "      <td>NaN</td>\n",
       "      <td>NaN</td>\n",
       "      <td>NaN</td>\n",
       "      <td>NaN</td>\n",
       "      <td>NaN</td>\n",
       "      <td>NaN</td>\n",
       "      <td>NaN</td>\n",
       "      <td>NaN</td>\n",
       "      <td>NaN</td>\n",
       "      <td>NaN</td>\n",
       "      <td>NaN</td>\n",
       "      <td>NaN</td>\n",
       "      <td>NaN</td>\n",
       "      <td>NaN</td>\n",
       "      <td>NaN</td>\n",
       "      <td>NaN</td>\n",
       "      <td>NaN</td>\n",
       "    </tr>\n",
       "    <tr>\n",
       "      <th>3</th>\n",
       "      <td>0x2b538a5ebfc3780aef25227267063cb6410d943b</td>\n",
       "      <td>detached_house</td>\n",
       "      <td>NaN</td>\n",
       "      <td>4.0</td>\n",
       "      <td>NaN</td>\n",
       "      <td>NaN</td>\n",
       "      <td>NaN</td>\n",
       "      <td>NaN</td>\n",
       "      <td>NaN</td>\n",
       "      <td>NaN</td>\n",
       "      <td>NaN</td>\n",
       "      <td>NaN</td>\n",
       "      <td>NaN</td>\n",
       "      <td>NaN</td>\n",
       "      <td>NaN</td>\n",
       "      <td>NaN</td>\n",
       "      <td>NaN</td>\n",
       "      <td>NaN</td>\n",
       "      <td>NaN</td>\n",
       "      <td>NaN</td>\n",
       "      <td>NaN</td>\n",
       "      <td>NaN</td>\n",
       "      <td>NaN</td>\n",
       "      <td>NaN</td>\n",
       "    </tr>\n",
       "    <tr>\n",
       "      <th>4</th>\n",
       "      <td>0xee032ed498c9e99a4c65e0f39896fb30e513c6b7</td>\n",
       "      <td>NaN</td>\n",
       "      <td>NaN</td>\n",
       "      <td>NaN</td>\n",
       "      <td>NaN</td>\n",
       "      <td>NaN</td>\n",
       "      <td>NaN</td>\n",
       "      <td>NaN</td>\n",
       "      <td>NaN</td>\n",
       "      <td>NaN</td>\n",
       "      <td>NaN</td>\n",
       "      <td>NaN</td>\n",
       "      <td>NaN</td>\n",
       "      <td>NaN</td>\n",
       "      <td>NaN</td>\n",
       "      <td>NaN</td>\n",
       "      <td>NaN</td>\n",
       "      <td>NaN</td>\n",
       "      <td>NaN</td>\n",
       "      <td>NaN</td>\n",
       "      <td>NaN</td>\n",
       "      <td>NaN</td>\n",
       "      <td>NaN</td>\n",
       "      <td>NaN</td>\n",
       "    </tr>\n",
       "    <tr>\n",
       "      <th>...</th>\n",
       "      <td>...</td>\n",
       "      <td>...</td>\n",
       "      <td>...</td>\n",
       "      <td>...</td>\n",
       "      <td>...</td>\n",
       "      <td>...</td>\n",
       "      <td>...</td>\n",
       "      <td>...</td>\n",
       "      <td>...</td>\n",
       "      <td>...</td>\n",
       "      <td>...</td>\n",
       "      <td>...</td>\n",
       "      <td>...</td>\n",
       "      <td>...</td>\n",
       "      <td>...</td>\n",
       "      <td>...</td>\n",
       "      <td>...</td>\n",
       "      <td>...</td>\n",
       "      <td>...</td>\n",
       "      <td>...</td>\n",
       "      <td>...</td>\n",
       "      <td>...</td>\n",
       "      <td>...</td>\n",
       "      <td>...</td>\n",
       "    </tr>\n",
       "    <tr>\n",
       "      <th>2138</th>\n",
       "      <td>0xb9c600842cb2d195d461d675f2758ddbf5bb45bb</td>\n",
       "      <td>terraced_house</td>\n",
       "      <td>2.0</td>\n",
       "      <td>2.0</td>\n",
       "      <td>gas</td>\n",
       "      <td>gas</td>\n",
       "      <td>old</td>\n",
       "      <td>y</td>\n",
       "      <td>n</td>\n",
       "      <td>18_to_20</td>\n",
       "      <td>75_to_100</td>\n",
       "      <td>0.0</td>\n",
       "      <td>0.0</td>\n",
       "      <td>1.0</td>\n",
       "      <td>0.0</td>\n",
       "      <td>0.0</td>\n",
       "      <td>1.0</td>\n",
       "      <td>1.0</td>\n",
       "      <td>0.0</td>\n",
       "      <td>2.0</td>\n",
       "      <td>1.0</td>\n",
       "      <td>1.0</td>\n",
       "      <td>0.0</td>\n",
       "      <td>1.0</td>\n",
       "    </tr>\n",
       "    <tr>\n",
       "      <th>2139</th>\n",
       "      <td>0x429e76a41f3141d9e62c4975e6b5df303cb45e64</td>\n",
       "      <td>bungalow</td>\n",
       "      <td>NaN</td>\n",
       "      <td>3.0</td>\n",
       "      <td>NaN</td>\n",
       "      <td>NaN</td>\n",
       "      <td>NaN</td>\n",
       "      <td>NaN</td>\n",
       "      <td>NaN</td>\n",
       "      <td>NaN</td>\n",
       "      <td>NaN</td>\n",
       "      <td>NaN</td>\n",
       "      <td>NaN</td>\n",
       "      <td>NaN</td>\n",
       "      <td>NaN</td>\n",
       "      <td>NaN</td>\n",
       "      <td>NaN</td>\n",
       "      <td>NaN</td>\n",
       "      <td>NaN</td>\n",
       "      <td>NaN</td>\n",
       "      <td>NaN</td>\n",
       "      <td>NaN</td>\n",
       "      <td>NaN</td>\n",
       "      <td>NaN</td>\n",
       "    </tr>\n",
       "    <tr>\n",
       "      <th>2140</th>\n",
       "      <td>0x65fbd9ba598e703d742a32058ea2b323fe4c1fca</td>\n",
       "      <td>NaN</td>\n",
       "      <td>NaN</td>\n",
       "      <td>NaN</td>\n",
       "      <td>NaN</td>\n",
       "      <td>NaN</td>\n",
       "      <td>NaN</td>\n",
       "      <td>NaN</td>\n",
       "      <td>NaN</td>\n",
       "      <td>NaN</td>\n",
       "      <td>NaN</td>\n",
       "      <td>NaN</td>\n",
       "      <td>NaN</td>\n",
       "      <td>NaN</td>\n",
       "      <td>NaN</td>\n",
       "      <td>NaN</td>\n",
       "      <td>NaN</td>\n",
       "      <td>NaN</td>\n",
       "      <td>NaN</td>\n",
       "      <td>NaN</td>\n",
       "      <td>NaN</td>\n",
       "      <td>NaN</td>\n",
       "      <td>NaN</td>\n",
       "      <td>NaN</td>\n",
       "    </tr>\n",
       "    <tr>\n",
       "      <th>2141</th>\n",
       "      <td>0x101f2dc409b3b95d2bb08ebe5d282f54317e3f8c</td>\n",
       "      <td>bungalow</td>\n",
       "      <td>NaN</td>\n",
       "      <td>4.0</td>\n",
       "      <td>NaN</td>\n",
       "      <td>NaN</td>\n",
       "      <td>NaN</td>\n",
       "      <td>NaN</td>\n",
       "      <td>NaN</td>\n",
       "      <td>NaN</td>\n",
       "      <td>NaN</td>\n",
       "      <td>NaN</td>\n",
       "      <td>NaN</td>\n",
       "      <td>NaN</td>\n",
       "      <td>NaN</td>\n",
       "      <td>NaN</td>\n",
       "      <td>NaN</td>\n",
       "      <td>NaN</td>\n",
       "      <td>NaN</td>\n",
       "      <td>NaN</td>\n",
       "      <td>NaN</td>\n",
       "      <td>NaN</td>\n",
       "      <td>NaN</td>\n",
       "      <td>NaN</td>\n",
       "    </tr>\n",
       "    <tr>\n",
       "      <th>2142</th>\n",
       "      <td>0x9ad41b18c2be3a845acb599af1dc4570feb88489</td>\n",
       "      <td>bungalow</td>\n",
       "      <td>NaN</td>\n",
       "      <td>3.0</td>\n",
       "      <td>NaN</td>\n",
       "      <td>NaN</td>\n",
       "      <td>NaN</td>\n",
       "      <td>NaN</td>\n",
       "      <td>NaN</td>\n",
       "      <td>NaN</td>\n",
       "      <td>NaN</td>\n",
       "      <td>NaN</td>\n",
       "      <td>NaN</td>\n",
       "      <td>NaN</td>\n",
       "      <td>NaN</td>\n",
       "      <td>NaN</td>\n",
       "      <td>NaN</td>\n",
       "      <td>NaN</td>\n",
       "      <td>NaN</td>\n",
       "      <td>NaN</td>\n",
       "      <td>NaN</td>\n",
       "      <td>NaN</td>\n",
       "      <td>NaN</td>\n",
       "      <td>NaN</td>\n",
       "    </tr>\n",
       "  </tbody>\n",
       "</table>\n",
       "<p>2143 rows × 24 columns</p>\n",
       "</div>"
      ],
      "text/plain": [
       "                                        meter_id        dwelling_type  \\\n",
       "0     0x02b7418b821b2edeeb2baa23ba1580566b4b0e43  semi_detached_house   \n",
       "1     0xaf32b2b497e9eb9c3f3de907aedc6a7914a11f41       terraced_house   \n",
       "2     0xdd45ab28a7a40eadc04607d6da42e5ad923b1339  semi_detached_house   \n",
       "3     0x2b538a5ebfc3780aef25227267063cb6410d943b       detached_house   \n",
       "4     0xee032ed498c9e99a4c65e0f39896fb30e513c6b7                  NaN   \n",
       "...                                          ...                  ...   \n",
       "2138  0xb9c600842cb2d195d461d675f2758ddbf5bb45bb       terraced_house   \n",
       "2139  0x429e76a41f3141d9e62c4975e6b5df303cb45e64             bungalow   \n",
       "2140  0x65fbd9ba598e703d742a32058ea2b323fe4c1fca                  NaN   \n",
       "2141  0x101f2dc409b3b95d2bb08ebe5d282f54317e3f8c             bungalow   \n",
       "2142  0x9ad41b18c2be3a845acb599af1dc4570feb88489             bungalow   \n",
       "\n",
       "      num_occupants  num_bedrooms heating_fuel hot_water_fuel boiler_age  \\\n",
       "0               NaN           3.0          NaN            NaN        NaN   \n",
       "1               NaN           2.0          NaN            NaN        NaN   \n",
       "2               NaN           NaN          NaN            NaN        NaN   \n",
       "3               NaN           4.0          NaN            NaN        NaN   \n",
       "4               NaN           NaN          NaN            NaN        NaN   \n",
       "...             ...           ...          ...            ...        ...   \n",
       "2138            2.0           2.0          gas            gas        old   \n",
       "2139            NaN           3.0          NaN            NaN        NaN   \n",
       "2140            NaN           NaN          NaN            NaN        NaN   \n",
       "2141            NaN           4.0          NaN            NaN        NaN   \n",
       "2142            NaN           3.0          NaN            NaN        NaN   \n",
       "\n",
       "     loft_insulation wall_insulation heating_temperature  \\\n",
       "0                NaN             NaN                 NaN   \n",
       "1                NaN             NaN                 NaN   \n",
       "2                NaN             NaN                 NaN   \n",
       "3                NaN             NaN                 NaN   \n",
       "4                NaN             NaN                 NaN   \n",
       "...              ...             ...                 ...   \n",
       "2138               y               n            18_to_20   \n",
       "2139             NaN             NaN                 NaN   \n",
       "2140             NaN             NaN                 NaN   \n",
       "2141             NaN             NaN                 NaN   \n",
       "2142             NaN             NaN                 NaN   \n",
       "\n",
       "     efficient_lighting_percentage  dishwasher  freezer  fridge_freezer  \\\n",
       "0                              NaN         NaN      NaN             NaN   \n",
       "1                              NaN         NaN      NaN             NaN   \n",
       "2                              NaN         NaN      NaN             NaN   \n",
       "3                              NaN         NaN      NaN             NaN   \n",
       "4                              NaN         NaN      NaN             NaN   \n",
       "...                            ...         ...      ...             ...   \n",
       "2138                     75_to_100         0.0      0.0             1.0   \n",
       "2139                           NaN         NaN      NaN             NaN   \n",
       "2140                           NaN         NaN      NaN             NaN   \n",
       "2141                           NaN         NaN      NaN             NaN   \n",
       "2142                           NaN         NaN      NaN             NaN   \n",
       "\n",
       "      refrigerator  tumble_dryer  washing_machine  game_console  laptop   pc  \\\n",
       "0              NaN           NaN              NaN           NaN     NaN  NaN   \n",
       "1              NaN           NaN              NaN           NaN     NaN  NaN   \n",
       "2              NaN           NaN              NaN           NaN     NaN  NaN   \n",
       "3              NaN           NaN              NaN           NaN     NaN  NaN   \n",
       "4              NaN           NaN              NaN           NaN     NaN  NaN   \n",
       "...            ...           ...              ...           ...     ...  ...   \n",
       "2138           0.0           0.0              1.0           1.0     0.0  2.0   \n",
       "2139           NaN           NaN              NaN           NaN     NaN  NaN   \n",
       "2140           NaN           NaN              NaN           NaN     NaN  NaN   \n",
       "2141           NaN           NaN              NaN           NaN     NaN  NaN   \n",
       "2142           NaN           NaN              NaN           NaN     NaN  NaN   \n",
       "\n",
       "      router  set_top_box  tablet   tv  \n",
       "0        NaN          NaN     NaN  NaN  \n",
       "1        NaN          NaN     NaN  NaN  \n",
       "2        NaN          NaN     NaN  NaN  \n",
       "3        NaN          NaN     NaN  NaN  \n",
       "4        NaN          NaN     NaN  NaN  \n",
       "...      ...          ...     ...  ...  \n",
       "2138     1.0          1.0     0.0  1.0  \n",
       "2139     NaN          NaN     NaN  NaN  \n",
       "2140     NaN          NaN     NaN  NaN  \n",
       "2141     NaN          NaN     NaN  NaN  \n",
       "2142     NaN          NaN     NaN  NaN  \n",
       "\n",
       "[2143 rows x 24 columns]"
      ]
     },
     "execution_count": 6,
     "metadata": {},
     "output_type": "execute_result"
    }
   ],
   "source": [
    "# inspecting the values of the dataframe\n",
    "df_info"
   ]
  },
  {
   "cell_type": "code",
   "execution_count": 7,
   "metadata": {},
   "outputs": [
    {
     "data": {
      "text/plain": [
       "(2143, 24)"
      ]
     },
     "execution_count": 7,
     "metadata": {},
     "output_type": "execute_result"
    }
   ],
   "source": [
    "# inspecting the shape of the dataframe\n",
    "df_info.shape"
   ]
  },
  {
   "cell_type": "markdown",
   "metadata": {},
   "source": [
    "#### Conclusions to be drawn\n",
    "\n",
    "* Can see that df_info only has entries for 2140 of the 3248 possible rows\n",
    "* Must add the missing rows filled with NaN\n",
    "    * Done in the EDA on AddInfo section where we simply join based on meter_id"
   ]
  },
  {
   "cell_type": "markdown",
   "metadata": {},
   "source": [
    "# EDA on consumption"
   ]
  },
  {
   "cell_type": "code",
   "execution_count": 8,
   "metadata": {},
   "outputs": [
    {
     "name": "stdout",
     "output_type": "stream",
     "text": [
      "29378388\n"
     ]
    }
   ],
   "source": [
    "# how many missing values?\n",
    "print(df_energy.isnull().sum().sum())"
   ]
  },
  {
   "cell_type": "markdown",
   "metadata": {},
   "source": [
    "##### Conclusions:\n",
    "* Large number of missing values hence we must find a way to deal with that\n",
    "    * Will experiment with:\n",
    "        1. Imputing the missing values linearly\n",
    "        2. Dropping the missing values entirely and only using values we do have\n",
    "        3. just treating missing values as 0\n",
    "        \n",
    "## Function for resampling into different time periods (will need this a lot)\n",
    "\n",
    "\n",
    "* df_energy = the dataframe we are wanting to reschedule up\n",
    "* file_name = name of file we will save it as\n",
    "* resample_size = \"D\" or \"M\" or \"W\" corresponding to what period we are resampling into\n",
    "* NaN_staregy\n",
    "    * ignore : ignore nans and sum up rows regardless\n",
    "    * removeColumn : if a nan is present in the column corresponding to the new column entry for this row, and set it to nan\n",
    "    * imputeMean : if a nan is present in the columns corresponding to the new column entry for this row, treat them as the mean of the known values and sum up anyway for a reasonable estimate of what the total would have been"
   ]
  },
  {
   "cell_type": "code",
   "execution_count": 9,
   "metadata": {},
   "outputs": [],
   "source": [
    "# only currently using this for days but may experiment with the months and weeks if have enough time\n",
    "def resample_to_different_time(df_energy, file_name, resample_size, NaN_strategy):\n",
    "    meter_id=df_energy[\"meter_id\"]\n",
    "    df_energy_new = pd.DataFrame(columns=[\"meter_id\"])\n",
    "    df_energy_new[\"meter_id\"] = meter_id\n",
    "\n",
    "    #for date of the resample size in the range of dates\n",
    "    for new_sample in tqdm(pd.date_range(datetime(2017, 1, 1), datetime(2017, 12, 31), freq = resample_size),position=0):\n",
    "        \n",
    "        #get this columns name as a string\n",
    "        if(resample_size==\"M\"):\n",
    "            columnName = str(new_sample.date())[:7]\n",
    "        elif(resample_size==\"D\" or resample_size==\"W\"):\n",
    "            columnName = str(new_sample.date())\n",
    "        else:\n",
    "            return\n",
    "\n",
    "        #if this isn't a week we can simply take those that start with the new columnName\n",
    "        if(resample_size!=\"W\"):\n",
    "            #get all columns that relate to this new sample\n",
    "            columns = [i for i in df_energy.columns.values[1:] if i.startswith(columnName)]\n",
    "            \n",
    "        #if it is a week be a bit more fancy find the days in the range of this week\n",
    "        else:\n",
    "            columns = []\n",
    "            #for each day in range of this week\n",
    "            for weeks_day in pd.date_range(new_sample, new_sample+timedelta(days=6), freq=\"D\"):\n",
    "                #get todays name as a string\n",
    "                dayName = str(weeks_day.date())\n",
    "                #get all columns that relate to this day\n",
    "                dayColumns = [i for i in df_energy.columns.values[1:] if i.startswith(dayName)]\n",
    "                #add it to the week total\n",
    "                columns = columns+dayColumns\n",
    "                \n",
    "        #if we do not want to accept nans in our new columns\n",
    "        if(NaN_strategy!=\"ignore\"):\n",
    "            #get series saying sum of nans in each row for the columns corresponding to this new column\n",
    "            series_bool_contains_nulls = df_energy[columns].apply(lambda row: row.isnull().sum().sum(), axis=1)\n",
    "            \n",
    "            #for each rows boolean contains nulls truth value\n",
    "            for row_id in tqdm(range(len(series_bool_contains_nulls)), position=1, leave=False):\n",
    "                #this rows corresponding count of nulls\n",
    "                num_contains_null=series_bool_contains_nulls[row_id]\n",
    "                \n",
    "                #if this row contains nulls....\n",
    "                if(num_contains_null>1):\n",
    "                    # if our nan strategy is setting the entire column to nan then do that\n",
    "                    if(NaN_strategy==\"removeColumn\"):\n",
    "                        #print(columnName,str(meter_id[row_id]),\"(\",str(row_id),\") contains a null, setting this column to null\")\n",
    "                        df_energy_new.at[row_id,columnName]=np.nan\n",
    "                        \n",
    "                    # if our nan strategy is treating each nan as the groups mean then calculate the sum + add the mean * count of nums\n",
    "                    # effectively imputing the nan entries as the mean to get a reasonable guess of what the total is\n",
    "                    elif(NaN_strategy==\"imputeMean\"):\n",
    "                        rowMean = df_energy[columns].iloc[row_id].mean(skipna=True)\n",
    "                        #print(columnName,str(meter_id[row_id]),\"(\",str(row_id),\") contains\",num_contains_null,\"null\\n\",num_contains_null,\"*\",rowMean,\"=\",rowMean*num_contains_null)\n",
    "                        df_energy_new.at[row_id,columnName]=(df_energy[columns].iloc[row_id].sum()+(rowMean * num_contains_null))\n",
    "                    \n",
    "                    # else we aren't using a valid nan strategy so return\n",
    "                    else:\n",
    "                        return\n",
    "                        \n",
    "                #else this row doesn't contain nulls set it's corresponding cell in the new column to the sum\n",
    "                else:\n",
    "                    df_energy_new.at[row_id,columnName]=df_energy[columns].iloc[row_id].sum()\n",
    "\n",
    "        #else we don't care if it contains nans or not so just sum up these columns to our new day    \n",
    "        else:\n",
    "            #sum these up into a value for the new sample size\n",
    "            df_energy_new[columnName] = df_energy[columns].sum(axis=1)\n",
    "    \n",
    "    #if we leave file name blank we don't want to save\n",
    "    if(file_name!=\"\"):\n",
    "        #saving the dataframe\n",
    "        #if(os.path.exists(f\"../Data/Preprocessed_Data/{file_name}.pkl\")==False):\n",
    "        #    df_energy_new.to_pickle(f\"../Data/Preprocessed_Data/{file_name}.pkl\")\n",
    "        df_energy_new.to_pickle(f\"../Data/Preprocessed_Data/{file_name}.pkl\")\n",
    "    return df_energy_new"
   ]
  },
  {
   "cell_type": "markdown",
   "metadata": {},
   "source": [
    "## Resampling from 30 min intervals into days \n",
    "* Resmapling into days as it'll be better suited for our RNN based models to learn from\n",
    "    * These are what we will actually predict \n",
    "        * Eg will train on to use the prior 14 time steps (days) to predict the next 7 time steps (days)\n",
    "            * Then will iteratively use those predictions to prediction the next 7 days: until we have done all 365 and then aggregate those predictions into the monthly sums ready for submission\n",
    "            \n",
    "            \n",
    "* TODO : Experiment on if I should accept NaNs or not currently set to True\n",
    "    * Ended up setting to false with daily energy that isn't interpolated will take a hard stance that anything that has missing is considered unreliable and thus will just not consider it at all"
   ]
  },
  {
   "cell_type": "code",
   "execution_count": 10,
   "metadata": {},
   "outputs": [
    {
     "data": {
      "application/vnd.jupyter.widget-view+json": {
       "model_id": "fc32b386f16d4ddda389772a7cdacf97",
       "version_major": 2,
       "version_minor": 0
      },
      "text/plain": [
       "  0%|          | 0/365 [00:00<?, ?it/s]"
      ]
     },
     "metadata": {},
     "output_type": "display_data"
    },
    {
     "data": {
      "application/vnd.jupyter.widget-view+json": {
       "model_id": "",
       "version_major": 2,
       "version_minor": 0
      },
      "text/plain": [
       "  0%|          | 0/3248 [00:00<?, ?it/s]"
      ]
     },
     "metadata": {},
     "output_type": "display_data"
    },
    {
     "data": {
      "application/vnd.jupyter.widget-view+json": {
       "model_id": "",
       "version_major": 2,
       "version_minor": 0
      },
      "text/plain": [
       "  0%|          | 0/3248 [00:00<?, ?it/s]"
      ]
     },
     "metadata": {},
     "output_type": "display_data"
    },
    {
     "data": {
      "application/vnd.jupyter.widget-view+json": {
       "model_id": "",
       "version_major": 2,
       "version_minor": 0
      },
      "text/plain": [
       "  0%|          | 0/3248 [00:00<?, ?it/s]"
      ]
     },
     "metadata": {},
     "output_type": "display_data"
    },
    {
     "data": {
      "application/vnd.jupyter.widget-view+json": {
       "model_id": "",
       "version_major": 2,
       "version_minor": 0
      },
      "text/plain": [
       "  0%|          | 0/3248 [00:00<?, ?it/s]"
      ]
     },
     "metadata": {},
     "output_type": "display_data"
    },
    {
     "data": {
      "application/vnd.jupyter.widget-view+json": {
       "model_id": "",
       "version_major": 2,
       "version_minor": 0
      },
      "text/plain": [
       "  0%|          | 0/3248 [00:00<?, ?it/s]"
      ]
     },
     "metadata": {},
     "output_type": "display_data"
    },
    {
     "data": {
      "application/vnd.jupyter.widget-view+json": {
       "model_id": "",
       "version_major": 2,
       "version_minor": 0
      },
      "text/plain": [
       "  0%|          | 0/3248 [00:00<?, ?it/s]"
      ]
     },
     "metadata": {},
     "output_type": "display_data"
    },
    {
     "data": {
      "application/vnd.jupyter.widget-view+json": {
       "model_id": "",
       "version_major": 2,
       "version_minor": 0
      },
      "text/plain": [
       "  0%|          | 0/3248 [00:00<?, ?it/s]"
      ]
     },
     "metadata": {},
     "output_type": "display_data"
    },
    {
     "data": {
      "application/vnd.jupyter.widget-view+json": {
       "model_id": "",
       "version_major": 2,
       "version_minor": 0
      },
      "text/plain": [
       "  0%|          | 0/3248 [00:00<?, ?it/s]"
      ]
     },
     "metadata": {},
     "output_type": "display_data"
    },
    {
     "data": {
      "application/vnd.jupyter.widget-view+json": {
       "model_id": "",
       "version_major": 2,
       "version_minor": 0
      },
      "text/plain": [
       "  0%|          | 0/3248 [00:00<?, ?it/s]"
      ]
     },
     "metadata": {},
     "output_type": "display_data"
    },
    {
     "data": {
      "application/vnd.jupyter.widget-view+json": {
       "model_id": "",
       "version_major": 2,
       "version_minor": 0
      },
      "text/plain": [
       "  0%|          | 0/3248 [00:00<?, ?it/s]"
      ]
     },
     "metadata": {},
     "output_type": "display_data"
    },
    {
     "data": {
      "application/vnd.jupyter.widget-view+json": {
       "model_id": "",
       "version_major": 2,
       "version_minor": 0
      },
      "text/plain": [
       "  0%|          | 0/3248 [00:00<?, ?it/s]"
      ]
     },
     "metadata": {},
     "output_type": "display_data"
    },
    {
     "data": {
      "application/vnd.jupyter.widget-view+json": {
       "model_id": "",
       "version_major": 2,
       "version_minor": 0
      },
      "text/plain": [
       "  0%|          | 0/3248 [00:00<?, ?it/s]"
      ]
     },
     "metadata": {},
     "output_type": "display_data"
    },
    {
     "data": {
      "application/vnd.jupyter.widget-view+json": {
       "model_id": "",
       "version_major": 2,
       "version_minor": 0
      },
      "text/plain": [
       "  0%|          | 0/3248 [00:00<?, ?it/s]"
      ]
     },
     "metadata": {},
     "output_type": "display_data"
    },
    {
     "data": {
      "application/vnd.jupyter.widget-view+json": {
       "model_id": "",
       "version_major": 2,
       "version_minor": 0
      },
      "text/plain": [
       "  0%|          | 0/3248 [00:00<?, ?it/s]"
      ]
     },
     "metadata": {},
     "output_type": "display_data"
    },
    {
     "data": {
      "application/vnd.jupyter.widget-view+json": {
       "model_id": "",
       "version_major": 2,
       "version_minor": 0
      },
      "text/plain": [
       "  0%|          | 0/3248 [00:00<?, ?it/s]"
      ]
     },
     "metadata": {},
     "output_type": "display_data"
    },
    {
     "data": {
      "application/vnd.jupyter.widget-view+json": {
       "model_id": "",
       "version_major": 2,
       "version_minor": 0
      },
      "text/plain": [
       "  0%|          | 0/3248 [00:00<?, ?it/s]"
      ]
     },
     "metadata": {},
     "output_type": "display_data"
    },
    {
     "data": {
      "application/vnd.jupyter.widget-view+json": {
       "model_id": "",
       "version_major": 2,
       "version_minor": 0
      },
      "text/plain": [
       "  0%|          | 0/3248 [00:00<?, ?it/s]"
      ]
     },
     "metadata": {},
     "output_type": "display_data"
    },
    {
     "data": {
      "application/vnd.jupyter.widget-view+json": {
       "model_id": "",
       "version_major": 2,
       "version_minor": 0
      },
      "text/plain": [
       "  0%|          | 0/3248 [00:00<?, ?it/s]"
      ]
     },
     "metadata": {},
     "output_type": "display_data"
    },
    {
     "data": {
      "application/vnd.jupyter.widget-view+json": {
       "model_id": "",
       "version_major": 2,
       "version_minor": 0
      },
      "text/plain": [
       "  0%|          | 0/3248 [00:00<?, ?it/s]"
      ]
     },
     "metadata": {},
     "output_type": "display_data"
    },
    {
     "data": {
      "application/vnd.jupyter.widget-view+json": {
       "model_id": "",
       "version_major": 2,
       "version_minor": 0
      },
      "text/plain": [
       "  0%|          | 0/3248 [00:00<?, ?it/s]"
      ]
     },
     "metadata": {},
     "output_type": "display_data"
    },
    {
     "data": {
      "application/vnd.jupyter.widget-view+json": {
       "model_id": "",
       "version_major": 2,
       "version_minor": 0
      },
      "text/plain": [
       "  0%|          | 0/3248 [00:00<?, ?it/s]"
      ]
     },
     "metadata": {},
     "output_type": "display_data"
    },
    {
     "data": {
      "application/vnd.jupyter.widget-view+json": {
       "model_id": "",
       "version_major": 2,
       "version_minor": 0
      },
      "text/plain": [
       "  0%|          | 0/3248 [00:00<?, ?it/s]"
      ]
     },
     "metadata": {},
     "output_type": "display_data"
    },
    {
     "data": {
      "application/vnd.jupyter.widget-view+json": {
       "model_id": "",
       "version_major": 2,
       "version_minor": 0
      },
      "text/plain": [
       "  0%|          | 0/3248 [00:00<?, ?it/s]"
      ]
     },
     "metadata": {},
     "output_type": "display_data"
    },
    {
     "data": {
      "application/vnd.jupyter.widget-view+json": {
       "model_id": "",
       "version_major": 2,
       "version_minor": 0
      },
      "text/plain": [
       "  0%|          | 0/3248 [00:00<?, ?it/s]"
      ]
     },
     "metadata": {},
     "output_type": "display_data"
    },
    {
     "data": {
      "application/vnd.jupyter.widget-view+json": {
       "model_id": "",
       "version_major": 2,
       "version_minor": 0
      },
      "text/plain": [
       "  0%|          | 0/3248 [00:00<?, ?it/s]"
      ]
     },
     "metadata": {},
     "output_type": "display_data"
    },
    {
     "data": {
      "application/vnd.jupyter.widget-view+json": {
       "model_id": "",
       "version_major": 2,
       "version_minor": 0
      },
      "text/plain": [
       "  0%|          | 0/3248 [00:00<?, ?it/s]"
      ]
     },
     "metadata": {},
     "output_type": "display_data"
    },
    {
     "data": {
      "application/vnd.jupyter.widget-view+json": {
       "model_id": "",
       "version_major": 2,
       "version_minor": 0
      },
      "text/plain": [
       "  0%|          | 0/3248 [00:00<?, ?it/s]"
      ]
     },
     "metadata": {},
     "output_type": "display_data"
    },
    {
     "data": {
      "application/vnd.jupyter.widget-view+json": {
       "model_id": "",
       "version_major": 2,
       "version_minor": 0
      },
      "text/plain": [
       "  0%|          | 0/3248 [00:00<?, ?it/s]"
      ]
     },
     "metadata": {},
     "output_type": "display_data"
    },
    {
     "data": {
      "application/vnd.jupyter.widget-view+json": {
       "model_id": "",
       "version_major": 2,
       "version_minor": 0
      },
      "text/plain": [
       "  0%|          | 0/3248 [00:00<?, ?it/s]"
      ]
     },
     "metadata": {},
     "output_type": "display_data"
    },
    {
     "data": {
      "application/vnd.jupyter.widget-view+json": {
       "model_id": "",
       "version_major": 2,
       "version_minor": 0
      },
      "text/plain": [
       "  0%|          | 0/3248 [00:00<?, ?it/s]"
      ]
     },
     "metadata": {},
     "output_type": "display_data"
    },
    {
     "data": {
      "application/vnd.jupyter.widget-view+json": {
       "model_id": "",
       "version_major": 2,
       "version_minor": 0
      },
      "text/plain": [
       "  0%|          | 0/3248 [00:00<?, ?it/s]"
      ]
     },
     "metadata": {},
     "output_type": "display_data"
    },
    {
     "data": {
      "application/vnd.jupyter.widget-view+json": {
       "model_id": "",
       "version_major": 2,
       "version_minor": 0
      },
      "text/plain": [
       "  0%|          | 0/3248 [00:00<?, ?it/s]"
      ]
     },
     "metadata": {},
     "output_type": "display_data"
    },
    {
     "data": {
      "application/vnd.jupyter.widget-view+json": {
       "model_id": "",
       "version_major": 2,
       "version_minor": 0
      },
      "text/plain": [
       "  0%|          | 0/3248 [00:00<?, ?it/s]"
      ]
     },
     "metadata": {},
     "output_type": "display_data"
    },
    {
     "data": {
      "application/vnd.jupyter.widget-view+json": {
       "model_id": "",
       "version_major": 2,
       "version_minor": 0
      },
      "text/plain": [
       "  0%|          | 0/3248 [00:00<?, ?it/s]"
      ]
     },
     "metadata": {},
     "output_type": "display_data"
    },
    {
     "data": {
      "application/vnd.jupyter.widget-view+json": {
       "model_id": "",
       "version_major": 2,
       "version_minor": 0
      },
      "text/plain": [
       "  0%|          | 0/3248 [00:00<?, ?it/s]"
      ]
     },
     "metadata": {},
     "output_type": "display_data"
    },
    {
     "data": {
      "application/vnd.jupyter.widget-view+json": {
       "model_id": "",
       "version_major": 2,
       "version_minor": 0
      },
      "text/plain": [
       "  0%|          | 0/3248 [00:00<?, ?it/s]"
      ]
     },
     "metadata": {},
     "output_type": "display_data"
    },
    {
     "data": {
      "application/vnd.jupyter.widget-view+json": {
       "model_id": "",
       "version_major": 2,
       "version_minor": 0
      },
      "text/plain": [
       "  0%|          | 0/3248 [00:00<?, ?it/s]"
      ]
     },
     "metadata": {},
     "output_type": "display_data"
    },
    {
     "data": {
      "application/vnd.jupyter.widget-view+json": {
       "model_id": "",
       "version_major": 2,
       "version_minor": 0
      },
      "text/plain": [
       "  0%|          | 0/3248 [00:00<?, ?it/s]"
      ]
     },
     "metadata": {},
     "output_type": "display_data"
    },
    {
     "data": {
      "application/vnd.jupyter.widget-view+json": {
       "model_id": "",
       "version_major": 2,
       "version_minor": 0
      },
      "text/plain": [
       "  0%|          | 0/3248 [00:00<?, ?it/s]"
      ]
     },
     "metadata": {},
     "output_type": "display_data"
    },
    {
     "data": {
      "application/vnd.jupyter.widget-view+json": {
       "model_id": "",
       "version_major": 2,
       "version_minor": 0
      },
      "text/plain": [
       "  0%|          | 0/3248 [00:00<?, ?it/s]"
      ]
     },
     "metadata": {},
     "output_type": "display_data"
    },
    {
     "data": {
      "application/vnd.jupyter.widget-view+json": {
       "model_id": "",
       "version_major": 2,
       "version_minor": 0
      },
      "text/plain": [
       "  0%|          | 0/3248 [00:00<?, ?it/s]"
      ]
     },
     "metadata": {},
     "output_type": "display_data"
    },
    {
     "data": {
      "application/vnd.jupyter.widget-view+json": {
       "model_id": "",
       "version_major": 2,
       "version_minor": 0
      },
      "text/plain": [
       "  0%|          | 0/3248 [00:00<?, ?it/s]"
      ]
     },
     "metadata": {},
     "output_type": "display_data"
    },
    {
     "data": {
      "application/vnd.jupyter.widget-view+json": {
       "model_id": "",
       "version_major": 2,
       "version_minor": 0
      },
      "text/plain": [
       "  0%|          | 0/3248 [00:00<?, ?it/s]"
      ]
     },
     "metadata": {},
     "output_type": "display_data"
    },
    {
     "data": {
      "application/vnd.jupyter.widget-view+json": {
       "model_id": "",
       "version_major": 2,
       "version_minor": 0
      },
      "text/plain": [
       "  0%|          | 0/3248 [00:00<?, ?it/s]"
      ]
     },
     "metadata": {},
     "output_type": "display_data"
    },
    {
     "data": {
      "application/vnd.jupyter.widget-view+json": {
       "model_id": "",
       "version_major": 2,
       "version_minor": 0
      },
      "text/plain": [
       "  0%|          | 0/3248 [00:00<?, ?it/s]"
      ]
     },
     "metadata": {},
     "output_type": "display_data"
    },
    {
     "data": {
      "application/vnd.jupyter.widget-view+json": {
       "model_id": "",
       "version_major": 2,
       "version_minor": 0
      },
      "text/plain": [
       "  0%|          | 0/3248 [00:00<?, ?it/s]"
      ]
     },
     "metadata": {},
     "output_type": "display_data"
    },
    {
     "data": {
      "application/vnd.jupyter.widget-view+json": {
       "model_id": "",
       "version_major": 2,
       "version_minor": 0
      },
      "text/plain": [
       "  0%|          | 0/3248 [00:00<?, ?it/s]"
      ]
     },
     "metadata": {},
     "output_type": "display_data"
    },
    {
     "data": {
      "application/vnd.jupyter.widget-view+json": {
       "model_id": "",
       "version_major": 2,
       "version_minor": 0
      },
      "text/plain": [
       "  0%|          | 0/3248 [00:00<?, ?it/s]"
      ]
     },
     "metadata": {},
     "output_type": "display_data"
    },
    {
     "data": {
      "application/vnd.jupyter.widget-view+json": {
       "model_id": "",
       "version_major": 2,
       "version_minor": 0
      },
      "text/plain": [
       "  0%|          | 0/3248 [00:00<?, ?it/s]"
      ]
     },
     "metadata": {},
     "output_type": "display_data"
    },
    {
     "data": {
      "application/vnd.jupyter.widget-view+json": {
       "model_id": "",
       "version_major": 2,
       "version_minor": 0
      },
      "text/plain": [
       "  0%|          | 0/3248 [00:00<?, ?it/s]"
      ]
     },
     "metadata": {},
     "output_type": "display_data"
    },
    {
     "data": {
      "application/vnd.jupyter.widget-view+json": {
       "model_id": "",
       "version_major": 2,
       "version_minor": 0
      },
      "text/plain": [
       "  0%|          | 0/3248 [00:00<?, ?it/s]"
      ]
     },
     "metadata": {},
     "output_type": "display_data"
    },
    {
     "data": {
      "application/vnd.jupyter.widget-view+json": {
       "model_id": "",
       "version_major": 2,
       "version_minor": 0
      },
      "text/plain": [
       "  0%|          | 0/3248 [00:00<?, ?it/s]"
      ]
     },
     "metadata": {},
     "output_type": "display_data"
    },
    {
     "data": {
      "application/vnd.jupyter.widget-view+json": {
       "model_id": "",
       "version_major": 2,
       "version_minor": 0
      },
      "text/plain": [
       "  0%|          | 0/3248 [00:00<?, ?it/s]"
      ]
     },
     "metadata": {},
     "output_type": "display_data"
    },
    {
     "data": {
      "application/vnd.jupyter.widget-view+json": {
       "model_id": "",
       "version_major": 2,
       "version_minor": 0
      },
      "text/plain": [
       "  0%|          | 0/3248 [00:00<?, ?it/s]"
      ]
     },
     "metadata": {},
     "output_type": "display_data"
    },
    {
     "data": {
      "application/vnd.jupyter.widget-view+json": {
       "model_id": "",
       "version_major": 2,
       "version_minor": 0
      },
      "text/plain": [
       "  0%|          | 0/3248 [00:00<?, ?it/s]"
      ]
     },
     "metadata": {},
     "output_type": "display_data"
    },
    {
     "data": {
      "application/vnd.jupyter.widget-view+json": {
       "model_id": "",
       "version_major": 2,
       "version_minor": 0
      },
      "text/plain": [
       "  0%|          | 0/3248 [00:00<?, ?it/s]"
      ]
     },
     "metadata": {},
     "output_type": "display_data"
    },
    {
     "data": {
      "application/vnd.jupyter.widget-view+json": {
       "model_id": "",
       "version_major": 2,
       "version_minor": 0
      },
      "text/plain": [
       "  0%|          | 0/3248 [00:00<?, ?it/s]"
      ]
     },
     "metadata": {},
     "output_type": "display_data"
    },
    {
     "data": {
      "application/vnd.jupyter.widget-view+json": {
       "model_id": "",
       "version_major": 2,
       "version_minor": 0
      },
      "text/plain": [
       "  0%|          | 0/3248 [00:00<?, ?it/s]"
      ]
     },
     "metadata": {},
     "output_type": "display_data"
    },
    {
     "data": {
      "application/vnd.jupyter.widget-view+json": {
       "model_id": "",
       "version_major": 2,
       "version_minor": 0
      },
      "text/plain": [
       "  0%|          | 0/3248 [00:00<?, ?it/s]"
      ]
     },
     "metadata": {},
     "output_type": "display_data"
    },
    {
     "data": {
      "application/vnd.jupyter.widget-view+json": {
       "model_id": "",
       "version_major": 2,
       "version_minor": 0
      },
      "text/plain": [
       "  0%|          | 0/3248 [00:00<?, ?it/s]"
      ]
     },
     "metadata": {},
     "output_type": "display_data"
    },
    {
     "data": {
      "application/vnd.jupyter.widget-view+json": {
       "model_id": "",
       "version_major": 2,
       "version_minor": 0
      },
      "text/plain": [
       "  0%|          | 0/3248 [00:00<?, ?it/s]"
      ]
     },
     "metadata": {},
     "output_type": "display_data"
    },
    {
     "data": {
      "application/vnd.jupyter.widget-view+json": {
       "model_id": "",
       "version_major": 2,
       "version_minor": 0
      },
      "text/plain": [
       "  0%|          | 0/3248 [00:00<?, ?it/s]"
      ]
     },
     "metadata": {},
     "output_type": "display_data"
    },
    {
     "data": {
      "application/vnd.jupyter.widget-view+json": {
       "model_id": "",
       "version_major": 2,
       "version_minor": 0
      },
      "text/plain": [
       "  0%|          | 0/3248 [00:00<?, ?it/s]"
      ]
     },
     "metadata": {},
     "output_type": "display_data"
    },
    {
     "data": {
      "application/vnd.jupyter.widget-view+json": {
       "model_id": "",
       "version_major": 2,
       "version_minor": 0
      },
      "text/plain": [
       "  0%|          | 0/3248 [00:00<?, ?it/s]"
      ]
     },
     "metadata": {},
     "output_type": "display_data"
    },
    {
     "data": {
      "application/vnd.jupyter.widget-view+json": {
       "model_id": "",
       "version_major": 2,
       "version_minor": 0
      },
      "text/plain": [
       "  0%|          | 0/3248 [00:00<?, ?it/s]"
      ]
     },
     "metadata": {},
     "output_type": "display_data"
    },
    {
     "data": {
      "application/vnd.jupyter.widget-view+json": {
       "model_id": "",
       "version_major": 2,
       "version_minor": 0
      },
      "text/plain": [
       "  0%|          | 0/3248 [00:00<?, ?it/s]"
      ]
     },
     "metadata": {},
     "output_type": "display_data"
    },
    {
     "data": {
      "application/vnd.jupyter.widget-view+json": {
       "model_id": "",
       "version_major": 2,
       "version_minor": 0
      },
      "text/plain": [
       "  0%|          | 0/3248 [00:00<?, ?it/s]"
      ]
     },
     "metadata": {},
     "output_type": "display_data"
    },
    {
     "data": {
      "application/vnd.jupyter.widget-view+json": {
       "model_id": "",
       "version_major": 2,
       "version_minor": 0
      },
      "text/plain": [
       "  0%|          | 0/3248 [00:00<?, ?it/s]"
      ]
     },
     "metadata": {},
     "output_type": "display_data"
    },
    {
     "data": {
      "application/vnd.jupyter.widget-view+json": {
       "model_id": "",
       "version_major": 2,
       "version_minor": 0
      },
      "text/plain": [
       "  0%|          | 0/3248 [00:00<?, ?it/s]"
      ]
     },
     "metadata": {},
     "output_type": "display_data"
    },
    {
     "data": {
      "application/vnd.jupyter.widget-view+json": {
       "model_id": "",
       "version_major": 2,
       "version_minor": 0
      },
      "text/plain": [
       "  0%|          | 0/3248 [00:00<?, ?it/s]"
      ]
     },
     "metadata": {},
     "output_type": "display_data"
    },
    {
     "data": {
      "application/vnd.jupyter.widget-view+json": {
       "model_id": "",
       "version_major": 2,
       "version_minor": 0
      },
      "text/plain": [
       "  0%|          | 0/3248 [00:00<?, ?it/s]"
      ]
     },
     "metadata": {},
     "output_type": "display_data"
    },
    {
     "data": {
      "application/vnd.jupyter.widget-view+json": {
       "model_id": "",
       "version_major": 2,
       "version_minor": 0
      },
      "text/plain": [
       "  0%|          | 0/3248 [00:00<?, ?it/s]"
      ]
     },
     "metadata": {},
     "output_type": "display_data"
    },
    {
     "data": {
      "application/vnd.jupyter.widget-view+json": {
       "model_id": "",
       "version_major": 2,
       "version_minor": 0
      },
      "text/plain": [
       "  0%|          | 0/3248 [00:00<?, ?it/s]"
      ]
     },
     "metadata": {},
     "output_type": "display_data"
    },
    {
     "data": {
      "application/vnd.jupyter.widget-view+json": {
       "model_id": "",
       "version_major": 2,
       "version_minor": 0
      },
      "text/plain": [
       "  0%|          | 0/3248 [00:00<?, ?it/s]"
      ]
     },
     "metadata": {},
     "output_type": "display_data"
    },
    {
     "data": {
      "application/vnd.jupyter.widget-view+json": {
       "model_id": "",
       "version_major": 2,
       "version_minor": 0
      },
      "text/plain": [
       "  0%|          | 0/3248 [00:00<?, ?it/s]"
      ]
     },
     "metadata": {},
     "output_type": "display_data"
    },
    {
     "data": {
      "application/vnd.jupyter.widget-view+json": {
       "model_id": "",
       "version_major": 2,
       "version_minor": 0
      },
      "text/plain": [
       "  0%|          | 0/3248 [00:00<?, ?it/s]"
      ]
     },
     "metadata": {},
     "output_type": "display_data"
    },
    {
     "data": {
      "application/vnd.jupyter.widget-view+json": {
       "model_id": "",
       "version_major": 2,
       "version_minor": 0
      },
      "text/plain": [
       "  0%|          | 0/3248 [00:00<?, ?it/s]"
      ]
     },
     "metadata": {},
     "output_type": "display_data"
    },
    {
     "data": {
      "application/vnd.jupyter.widget-view+json": {
       "model_id": "",
       "version_major": 2,
       "version_minor": 0
      },
      "text/plain": [
       "  0%|          | 0/3248 [00:00<?, ?it/s]"
      ]
     },
     "metadata": {},
     "output_type": "display_data"
    },
    {
     "data": {
      "application/vnd.jupyter.widget-view+json": {
       "model_id": "",
       "version_major": 2,
       "version_minor": 0
      },
      "text/plain": [
       "  0%|          | 0/3248 [00:00<?, ?it/s]"
      ]
     },
     "metadata": {},
     "output_type": "display_data"
    },
    {
     "data": {
      "application/vnd.jupyter.widget-view+json": {
       "model_id": "",
       "version_major": 2,
       "version_minor": 0
      },
      "text/plain": [
       "  0%|          | 0/3248 [00:00<?, ?it/s]"
      ]
     },
     "metadata": {},
     "output_type": "display_data"
    },
    {
     "data": {
      "application/vnd.jupyter.widget-view+json": {
       "model_id": "",
       "version_major": 2,
       "version_minor": 0
      },
      "text/plain": [
       "  0%|          | 0/3248 [00:00<?, ?it/s]"
      ]
     },
     "metadata": {},
     "output_type": "display_data"
    },
    {
     "data": {
      "application/vnd.jupyter.widget-view+json": {
       "model_id": "",
       "version_major": 2,
       "version_minor": 0
      },
      "text/plain": [
       "  0%|          | 0/3248 [00:00<?, ?it/s]"
      ]
     },
     "metadata": {},
     "output_type": "display_data"
    },
    {
     "data": {
      "application/vnd.jupyter.widget-view+json": {
       "model_id": "",
       "version_major": 2,
       "version_minor": 0
      },
      "text/plain": [
       "  0%|          | 0/3248 [00:00<?, ?it/s]"
      ]
     },
     "metadata": {},
     "output_type": "display_data"
    },
    {
     "data": {
      "application/vnd.jupyter.widget-view+json": {
       "model_id": "",
       "version_major": 2,
       "version_minor": 0
      },
      "text/plain": [
       "  0%|          | 0/3248 [00:00<?, ?it/s]"
      ]
     },
     "metadata": {},
     "output_type": "display_data"
    },
    {
     "data": {
      "application/vnd.jupyter.widget-view+json": {
       "model_id": "",
       "version_major": 2,
       "version_minor": 0
      },
      "text/plain": [
       "  0%|          | 0/3248 [00:00<?, ?it/s]"
      ]
     },
     "metadata": {},
     "output_type": "display_data"
    },
    {
     "data": {
      "application/vnd.jupyter.widget-view+json": {
       "model_id": "",
       "version_major": 2,
       "version_minor": 0
      },
      "text/plain": [
       "  0%|          | 0/3248 [00:00<?, ?it/s]"
      ]
     },
     "metadata": {},
     "output_type": "display_data"
    },
    {
     "data": {
      "application/vnd.jupyter.widget-view+json": {
       "model_id": "",
       "version_major": 2,
       "version_minor": 0
      },
      "text/plain": [
       "  0%|          | 0/3248 [00:00<?, ?it/s]"
      ]
     },
     "metadata": {},
     "output_type": "display_data"
    },
    {
     "data": {
      "application/vnd.jupyter.widget-view+json": {
       "model_id": "",
       "version_major": 2,
       "version_minor": 0
      },
      "text/plain": [
       "  0%|          | 0/3248 [00:00<?, ?it/s]"
      ]
     },
     "metadata": {},
     "output_type": "display_data"
    },
    {
     "data": {
      "application/vnd.jupyter.widget-view+json": {
       "model_id": "",
       "version_major": 2,
       "version_minor": 0
      },
      "text/plain": [
       "  0%|          | 0/3248 [00:00<?, ?it/s]"
      ]
     },
     "metadata": {},
     "output_type": "display_data"
    },
    {
     "data": {
      "application/vnd.jupyter.widget-view+json": {
       "model_id": "",
       "version_major": 2,
       "version_minor": 0
      },
      "text/plain": [
       "  0%|          | 0/3248 [00:00<?, ?it/s]"
      ]
     },
     "metadata": {},
     "output_type": "display_data"
    },
    {
     "data": {
      "application/vnd.jupyter.widget-view+json": {
       "model_id": "",
       "version_major": 2,
       "version_minor": 0
      },
      "text/plain": [
       "  0%|          | 0/3248 [00:00<?, ?it/s]"
      ]
     },
     "metadata": {},
     "output_type": "display_data"
    },
    {
     "data": {
      "application/vnd.jupyter.widget-view+json": {
       "model_id": "",
       "version_major": 2,
       "version_minor": 0
      },
      "text/plain": [
       "  0%|          | 0/3248 [00:00<?, ?it/s]"
      ]
     },
     "metadata": {},
     "output_type": "display_data"
    },
    {
     "data": {
      "application/vnd.jupyter.widget-view+json": {
       "model_id": "",
       "version_major": 2,
       "version_minor": 0
      },
      "text/plain": [
       "  0%|          | 0/3248 [00:00<?, ?it/s]"
      ]
     },
     "metadata": {},
     "output_type": "display_data"
    },
    {
     "data": {
      "application/vnd.jupyter.widget-view+json": {
       "model_id": "",
       "version_major": 2,
       "version_minor": 0
      },
      "text/plain": [
       "  0%|          | 0/3248 [00:00<?, ?it/s]"
      ]
     },
     "metadata": {},
     "output_type": "display_data"
    },
    {
     "data": {
      "application/vnd.jupyter.widget-view+json": {
       "model_id": "",
       "version_major": 2,
       "version_minor": 0
      },
      "text/plain": [
       "  0%|          | 0/3248 [00:00<?, ?it/s]"
      ]
     },
     "metadata": {},
     "output_type": "display_data"
    },
    {
     "data": {
      "application/vnd.jupyter.widget-view+json": {
       "model_id": "",
       "version_major": 2,
       "version_minor": 0
      },
      "text/plain": [
       "  0%|          | 0/3248 [00:00<?, ?it/s]"
      ]
     },
     "metadata": {},
     "output_type": "display_data"
    },
    {
     "data": {
      "application/vnd.jupyter.widget-view+json": {
       "model_id": "",
       "version_major": 2,
       "version_minor": 0
      },
      "text/plain": [
       "  0%|          | 0/3248 [00:00<?, ?it/s]"
      ]
     },
     "metadata": {},
     "output_type": "display_data"
    },
    {
     "data": {
      "application/vnd.jupyter.widget-view+json": {
       "model_id": "",
       "version_major": 2,
       "version_minor": 0
      },
      "text/plain": [
       "  0%|          | 0/3248 [00:00<?, ?it/s]"
      ]
     },
     "metadata": {},
     "output_type": "display_data"
    },
    {
     "data": {
      "application/vnd.jupyter.widget-view+json": {
       "model_id": "",
       "version_major": 2,
       "version_minor": 0
      },
      "text/plain": [
       "  0%|          | 0/3248 [00:00<?, ?it/s]"
      ]
     },
     "metadata": {},
     "output_type": "display_data"
    },
    {
     "data": {
      "application/vnd.jupyter.widget-view+json": {
       "model_id": "",
       "version_major": 2,
       "version_minor": 0
      },
      "text/plain": [
       "  0%|          | 0/3248 [00:00<?, ?it/s]"
      ]
     },
     "metadata": {},
     "output_type": "display_data"
    },
    {
     "data": {
      "application/vnd.jupyter.widget-view+json": {
       "model_id": "",
       "version_major": 2,
       "version_minor": 0
      },
      "text/plain": [
       "  0%|          | 0/3248 [00:00<?, ?it/s]"
      ]
     },
     "metadata": {},
     "output_type": "display_data"
    },
    {
     "data": {
      "application/vnd.jupyter.widget-view+json": {
       "model_id": "",
       "version_major": 2,
       "version_minor": 0
      },
      "text/plain": [
       "  0%|          | 0/3248 [00:00<?, ?it/s]"
      ]
     },
     "metadata": {},
     "output_type": "display_data"
    },
    {
     "data": {
      "application/vnd.jupyter.widget-view+json": {
       "model_id": "",
       "version_major": 2,
       "version_minor": 0
      },
      "text/plain": [
       "  0%|          | 0/3248 [00:00<?, ?it/s]"
      ]
     },
     "metadata": {},
     "output_type": "display_data"
    },
    {
     "data": {
      "application/vnd.jupyter.widget-view+json": {
       "model_id": "",
       "version_major": 2,
       "version_minor": 0
      },
      "text/plain": [
       "  0%|          | 0/3248 [00:00<?, ?it/s]"
      ]
     },
     "metadata": {},
     "output_type": "display_data"
    },
    {
     "data": {
      "application/vnd.jupyter.widget-view+json": {
       "model_id": "",
       "version_major": 2,
       "version_minor": 0
      },
      "text/plain": [
       "  0%|          | 0/3248 [00:00<?, ?it/s]"
      ]
     },
     "metadata": {},
     "output_type": "display_data"
    },
    {
     "data": {
      "application/vnd.jupyter.widget-view+json": {
       "model_id": "",
       "version_major": 2,
       "version_minor": 0
      },
      "text/plain": [
       "  0%|          | 0/3248 [00:00<?, ?it/s]"
      ]
     },
     "metadata": {},
     "output_type": "display_data"
    },
    {
     "data": {
      "application/vnd.jupyter.widget-view+json": {
       "model_id": "",
       "version_major": 2,
       "version_minor": 0
      },
      "text/plain": [
       "  0%|          | 0/3248 [00:00<?, ?it/s]"
      ]
     },
     "metadata": {},
     "output_type": "display_data"
    },
    {
     "data": {
      "application/vnd.jupyter.widget-view+json": {
       "model_id": "",
       "version_major": 2,
       "version_minor": 0
      },
      "text/plain": [
       "  0%|          | 0/3248 [00:00<?, ?it/s]"
      ]
     },
     "metadata": {},
     "output_type": "display_data"
    },
    {
     "data": {
      "application/vnd.jupyter.widget-view+json": {
       "model_id": "",
       "version_major": 2,
       "version_minor": 0
      },
      "text/plain": [
       "  0%|          | 0/3248 [00:00<?, ?it/s]"
      ]
     },
     "metadata": {},
     "output_type": "display_data"
    },
    {
     "data": {
      "application/vnd.jupyter.widget-view+json": {
       "model_id": "",
       "version_major": 2,
       "version_minor": 0
      },
      "text/plain": [
       "  0%|          | 0/3248 [00:00<?, ?it/s]"
      ]
     },
     "metadata": {},
     "output_type": "display_data"
    },
    {
     "data": {
      "application/vnd.jupyter.widget-view+json": {
       "model_id": "",
       "version_major": 2,
       "version_minor": 0
      },
      "text/plain": [
       "  0%|          | 0/3248 [00:00<?, ?it/s]"
      ]
     },
     "metadata": {},
     "output_type": "display_data"
    },
    {
     "data": {
      "application/vnd.jupyter.widget-view+json": {
       "model_id": "",
       "version_major": 2,
       "version_minor": 0
      },
      "text/plain": [
       "  0%|          | 0/3248 [00:00<?, ?it/s]"
      ]
     },
     "metadata": {},
     "output_type": "display_data"
    },
    {
     "data": {
      "application/vnd.jupyter.widget-view+json": {
       "model_id": "",
       "version_major": 2,
       "version_minor": 0
      },
      "text/plain": [
       "  0%|          | 0/3248 [00:00<?, ?it/s]"
      ]
     },
     "metadata": {},
     "output_type": "display_data"
    },
    {
     "data": {
      "application/vnd.jupyter.widget-view+json": {
       "model_id": "",
       "version_major": 2,
       "version_minor": 0
      },
      "text/plain": [
       "  0%|          | 0/3248 [00:00<?, ?it/s]"
      ]
     },
     "metadata": {},
     "output_type": "display_data"
    },
    {
     "data": {
      "application/vnd.jupyter.widget-view+json": {
       "model_id": "",
       "version_major": 2,
       "version_minor": 0
      },
      "text/plain": [
       "  0%|          | 0/3248 [00:00<?, ?it/s]"
      ]
     },
     "metadata": {},
     "output_type": "display_data"
    },
    {
     "data": {
      "application/vnd.jupyter.widget-view+json": {
       "model_id": "",
       "version_major": 2,
       "version_minor": 0
      },
      "text/plain": [
       "  0%|          | 0/3248 [00:00<?, ?it/s]"
      ]
     },
     "metadata": {},
     "output_type": "display_data"
    },
    {
     "data": {
      "application/vnd.jupyter.widget-view+json": {
       "model_id": "",
       "version_major": 2,
       "version_minor": 0
      },
      "text/plain": [
       "  0%|          | 0/3248 [00:00<?, ?it/s]"
      ]
     },
     "metadata": {},
     "output_type": "display_data"
    },
    {
     "data": {
      "application/vnd.jupyter.widget-view+json": {
       "model_id": "",
       "version_major": 2,
       "version_minor": 0
      },
      "text/plain": [
       "  0%|          | 0/3248 [00:00<?, ?it/s]"
      ]
     },
     "metadata": {},
     "output_type": "display_data"
    },
    {
     "data": {
      "application/vnd.jupyter.widget-view+json": {
       "model_id": "",
       "version_major": 2,
       "version_minor": 0
      },
      "text/plain": [
       "  0%|          | 0/3248 [00:00<?, ?it/s]"
      ]
     },
     "metadata": {},
     "output_type": "display_data"
    },
    {
     "data": {
      "application/vnd.jupyter.widget-view+json": {
       "model_id": "",
       "version_major": 2,
       "version_minor": 0
      },
      "text/plain": [
       "  0%|          | 0/3248 [00:00<?, ?it/s]"
      ]
     },
     "metadata": {},
     "output_type": "display_data"
    },
    {
     "data": {
      "application/vnd.jupyter.widget-view+json": {
       "model_id": "",
       "version_major": 2,
       "version_minor": 0
      },
      "text/plain": [
       "  0%|          | 0/3248 [00:00<?, ?it/s]"
      ]
     },
     "metadata": {},
     "output_type": "display_data"
    },
    {
     "data": {
      "application/vnd.jupyter.widget-view+json": {
       "model_id": "",
       "version_major": 2,
       "version_minor": 0
      },
      "text/plain": [
       "  0%|          | 0/3248 [00:00<?, ?it/s]"
      ]
     },
     "metadata": {},
     "output_type": "display_data"
    },
    {
     "data": {
      "application/vnd.jupyter.widget-view+json": {
       "model_id": "",
       "version_major": 2,
       "version_minor": 0
      },
      "text/plain": [
       "  0%|          | 0/3248 [00:00<?, ?it/s]"
      ]
     },
     "metadata": {},
     "output_type": "display_data"
    },
    {
     "data": {
      "application/vnd.jupyter.widget-view+json": {
       "model_id": "",
       "version_major": 2,
       "version_minor": 0
      },
      "text/plain": [
       "  0%|          | 0/3248 [00:00<?, ?it/s]"
      ]
     },
     "metadata": {},
     "output_type": "display_data"
    },
    {
     "data": {
      "application/vnd.jupyter.widget-view+json": {
       "model_id": "",
       "version_major": 2,
       "version_minor": 0
      },
      "text/plain": [
       "  0%|          | 0/3248 [00:00<?, ?it/s]"
      ]
     },
     "metadata": {},
     "output_type": "display_data"
    },
    {
     "data": {
      "application/vnd.jupyter.widget-view+json": {
       "model_id": "",
       "version_major": 2,
       "version_minor": 0
      },
      "text/plain": [
       "  0%|          | 0/3248 [00:00<?, ?it/s]"
      ]
     },
     "metadata": {},
     "output_type": "display_data"
    },
    {
     "data": {
      "application/vnd.jupyter.widget-view+json": {
       "model_id": "",
       "version_major": 2,
       "version_minor": 0
      },
      "text/plain": [
       "  0%|          | 0/3248 [00:00<?, ?it/s]"
      ]
     },
     "metadata": {},
     "output_type": "display_data"
    },
    {
     "data": {
      "application/vnd.jupyter.widget-view+json": {
       "model_id": "",
       "version_major": 2,
       "version_minor": 0
      },
      "text/plain": [
       "  0%|          | 0/3248 [00:00<?, ?it/s]"
      ]
     },
     "metadata": {},
     "output_type": "display_data"
    },
    {
     "data": {
      "application/vnd.jupyter.widget-view+json": {
       "model_id": "",
       "version_major": 2,
       "version_minor": 0
      },
      "text/plain": [
       "  0%|          | 0/3248 [00:00<?, ?it/s]"
      ]
     },
     "metadata": {},
     "output_type": "display_data"
    },
    {
     "data": {
      "application/vnd.jupyter.widget-view+json": {
       "model_id": "",
       "version_major": 2,
       "version_minor": 0
      },
      "text/plain": [
       "  0%|          | 0/3248 [00:00<?, ?it/s]"
      ]
     },
     "metadata": {},
     "output_type": "display_data"
    },
    {
     "data": {
      "application/vnd.jupyter.widget-view+json": {
       "model_id": "",
       "version_major": 2,
       "version_minor": 0
      },
      "text/plain": [
       "  0%|          | 0/3248 [00:00<?, ?it/s]"
      ]
     },
     "metadata": {},
     "output_type": "display_data"
    },
    {
     "data": {
      "application/vnd.jupyter.widget-view+json": {
       "model_id": "",
       "version_major": 2,
       "version_minor": 0
      },
      "text/plain": [
       "  0%|          | 0/3248 [00:00<?, ?it/s]"
      ]
     },
     "metadata": {},
     "output_type": "display_data"
    },
    {
     "data": {
      "application/vnd.jupyter.widget-view+json": {
       "model_id": "",
       "version_major": 2,
       "version_minor": 0
      },
      "text/plain": [
       "  0%|          | 0/3248 [00:00<?, ?it/s]"
      ]
     },
     "metadata": {},
     "output_type": "display_data"
    },
    {
     "data": {
      "application/vnd.jupyter.widget-view+json": {
       "model_id": "",
       "version_major": 2,
       "version_minor": 0
      },
      "text/plain": [
       "  0%|          | 0/3248 [00:00<?, ?it/s]"
      ]
     },
     "metadata": {},
     "output_type": "display_data"
    },
    {
     "data": {
      "application/vnd.jupyter.widget-view+json": {
       "model_id": "",
       "version_major": 2,
       "version_minor": 0
      },
      "text/plain": [
       "  0%|          | 0/3248 [00:00<?, ?it/s]"
      ]
     },
     "metadata": {},
     "output_type": "display_data"
    },
    {
     "data": {
      "application/vnd.jupyter.widget-view+json": {
       "model_id": "",
       "version_major": 2,
       "version_minor": 0
      },
      "text/plain": [
       "  0%|          | 0/3248 [00:00<?, ?it/s]"
      ]
     },
     "metadata": {},
     "output_type": "display_data"
    },
    {
     "data": {
      "application/vnd.jupyter.widget-view+json": {
       "model_id": "",
       "version_major": 2,
       "version_minor": 0
      },
      "text/plain": [
       "  0%|          | 0/3248 [00:00<?, ?it/s]"
      ]
     },
     "metadata": {},
     "output_type": "display_data"
    },
    {
     "data": {
      "application/vnd.jupyter.widget-view+json": {
       "model_id": "",
       "version_major": 2,
       "version_minor": 0
      },
      "text/plain": [
       "  0%|          | 0/3248 [00:00<?, ?it/s]"
      ]
     },
     "metadata": {},
     "output_type": "display_data"
    },
    {
     "data": {
      "application/vnd.jupyter.widget-view+json": {
       "model_id": "",
       "version_major": 2,
       "version_minor": 0
      },
      "text/plain": [
       "  0%|          | 0/3248 [00:00<?, ?it/s]"
      ]
     },
     "metadata": {},
     "output_type": "display_data"
    },
    {
     "data": {
      "application/vnd.jupyter.widget-view+json": {
       "model_id": "",
       "version_major": 2,
       "version_minor": 0
      },
      "text/plain": [
       "  0%|          | 0/3248 [00:00<?, ?it/s]"
      ]
     },
     "metadata": {},
     "output_type": "display_data"
    },
    {
     "data": {
      "application/vnd.jupyter.widget-view+json": {
       "model_id": "",
       "version_major": 2,
       "version_minor": 0
      },
      "text/plain": [
       "  0%|          | 0/3248 [00:00<?, ?it/s]"
      ]
     },
     "metadata": {},
     "output_type": "display_data"
    },
    {
     "data": {
      "application/vnd.jupyter.widget-view+json": {
       "model_id": "",
       "version_major": 2,
       "version_minor": 0
      },
      "text/plain": [
       "  0%|          | 0/3248 [00:00<?, ?it/s]"
      ]
     },
     "metadata": {},
     "output_type": "display_data"
    },
    {
     "data": {
      "application/vnd.jupyter.widget-view+json": {
       "model_id": "",
       "version_major": 2,
       "version_minor": 0
      },
      "text/plain": [
       "  0%|          | 0/3248 [00:00<?, ?it/s]"
      ]
     },
     "metadata": {},
     "output_type": "display_data"
    },
    {
     "data": {
      "application/vnd.jupyter.widget-view+json": {
       "model_id": "",
       "version_major": 2,
       "version_minor": 0
      },
      "text/plain": [
       "  0%|          | 0/3248 [00:00<?, ?it/s]"
      ]
     },
     "metadata": {},
     "output_type": "display_data"
    },
    {
     "data": {
      "application/vnd.jupyter.widget-view+json": {
       "model_id": "",
       "version_major": 2,
       "version_minor": 0
      },
      "text/plain": [
       "  0%|          | 0/3248 [00:00<?, ?it/s]"
      ]
     },
     "metadata": {},
     "output_type": "display_data"
    },
    {
     "data": {
      "application/vnd.jupyter.widget-view+json": {
       "model_id": "",
       "version_major": 2,
       "version_minor": 0
      },
      "text/plain": [
       "  0%|          | 0/3248 [00:00<?, ?it/s]"
      ]
     },
     "metadata": {},
     "output_type": "display_data"
    },
    {
     "data": {
      "application/vnd.jupyter.widget-view+json": {
       "model_id": "",
       "version_major": 2,
       "version_minor": 0
      },
      "text/plain": [
       "  0%|          | 0/3248 [00:00<?, ?it/s]"
      ]
     },
     "metadata": {},
     "output_type": "display_data"
    },
    {
     "data": {
      "application/vnd.jupyter.widget-view+json": {
       "model_id": "",
       "version_major": 2,
       "version_minor": 0
      },
      "text/plain": [
       "  0%|          | 0/3248 [00:00<?, ?it/s]"
      ]
     },
     "metadata": {},
     "output_type": "display_data"
    },
    {
     "data": {
      "application/vnd.jupyter.widget-view+json": {
       "model_id": "",
       "version_major": 2,
       "version_minor": 0
      },
      "text/plain": [
       "  0%|          | 0/3248 [00:00<?, ?it/s]"
      ]
     },
     "metadata": {},
     "output_type": "display_data"
    },
    {
     "data": {
      "application/vnd.jupyter.widget-view+json": {
       "model_id": "",
       "version_major": 2,
       "version_minor": 0
      },
      "text/plain": [
       "  0%|          | 0/3248 [00:00<?, ?it/s]"
      ]
     },
     "metadata": {},
     "output_type": "display_data"
    },
    {
     "data": {
      "application/vnd.jupyter.widget-view+json": {
       "model_id": "",
       "version_major": 2,
       "version_minor": 0
      },
      "text/plain": [
       "  0%|          | 0/3248 [00:00<?, ?it/s]"
      ]
     },
     "metadata": {},
     "output_type": "display_data"
    },
    {
     "data": {
      "application/vnd.jupyter.widget-view+json": {
       "model_id": "",
       "version_major": 2,
       "version_minor": 0
      },
      "text/plain": [
       "  0%|          | 0/3248 [00:00<?, ?it/s]"
      ]
     },
     "metadata": {},
     "output_type": "display_data"
    },
    {
     "data": {
      "application/vnd.jupyter.widget-view+json": {
       "model_id": "",
       "version_major": 2,
       "version_minor": 0
      },
      "text/plain": [
       "  0%|          | 0/3248 [00:00<?, ?it/s]"
      ]
     },
     "metadata": {},
     "output_type": "display_data"
    },
    {
     "data": {
      "application/vnd.jupyter.widget-view+json": {
       "model_id": "",
       "version_major": 2,
       "version_minor": 0
      },
      "text/plain": [
       "  0%|          | 0/3248 [00:00<?, ?it/s]"
      ]
     },
     "metadata": {},
     "output_type": "display_data"
    },
    {
     "data": {
      "application/vnd.jupyter.widget-view+json": {
       "model_id": "",
       "version_major": 2,
       "version_minor": 0
      },
      "text/plain": [
       "  0%|          | 0/3248 [00:00<?, ?it/s]"
      ]
     },
     "metadata": {},
     "output_type": "display_data"
    },
    {
     "data": {
      "application/vnd.jupyter.widget-view+json": {
       "model_id": "",
       "version_major": 2,
       "version_minor": 0
      },
      "text/plain": [
       "  0%|          | 0/3248 [00:00<?, ?it/s]"
      ]
     },
     "metadata": {},
     "output_type": "display_data"
    },
    {
     "data": {
      "application/vnd.jupyter.widget-view+json": {
       "model_id": "",
       "version_major": 2,
       "version_minor": 0
      },
      "text/plain": [
       "  0%|          | 0/3248 [00:00<?, ?it/s]"
      ]
     },
     "metadata": {},
     "output_type": "display_data"
    },
    {
     "data": {
      "application/vnd.jupyter.widget-view+json": {
       "model_id": "",
       "version_major": 2,
       "version_minor": 0
      },
      "text/plain": [
       "  0%|          | 0/3248 [00:00<?, ?it/s]"
      ]
     },
     "metadata": {},
     "output_type": "display_data"
    },
    {
     "data": {
      "application/vnd.jupyter.widget-view+json": {
       "model_id": "",
       "version_major": 2,
       "version_minor": 0
      },
      "text/plain": [
       "  0%|          | 0/3248 [00:00<?, ?it/s]"
      ]
     },
     "metadata": {},
     "output_type": "display_data"
    },
    {
     "data": {
      "application/vnd.jupyter.widget-view+json": {
       "model_id": "",
       "version_major": 2,
       "version_minor": 0
      },
      "text/plain": [
       "  0%|          | 0/3248 [00:00<?, ?it/s]"
      ]
     },
     "metadata": {},
     "output_type": "display_data"
    },
    {
     "data": {
      "application/vnd.jupyter.widget-view+json": {
       "model_id": "",
       "version_major": 2,
       "version_minor": 0
      },
      "text/plain": [
       "  0%|          | 0/3248 [00:00<?, ?it/s]"
      ]
     },
     "metadata": {},
     "output_type": "display_data"
    },
    {
     "data": {
      "application/vnd.jupyter.widget-view+json": {
       "model_id": "",
       "version_major": 2,
       "version_minor": 0
      },
      "text/plain": [
       "  0%|          | 0/3248 [00:00<?, ?it/s]"
      ]
     },
     "metadata": {},
     "output_type": "display_data"
    },
    {
     "data": {
      "application/vnd.jupyter.widget-view+json": {
       "model_id": "",
       "version_major": 2,
       "version_minor": 0
      },
      "text/plain": [
       "  0%|          | 0/3248 [00:00<?, ?it/s]"
      ]
     },
     "metadata": {},
     "output_type": "display_data"
    },
    {
     "data": {
      "application/vnd.jupyter.widget-view+json": {
       "model_id": "",
       "version_major": 2,
       "version_minor": 0
      },
      "text/plain": [
       "  0%|          | 0/3248 [00:00<?, ?it/s]"
      ]
     },
     "metadata": {},
     "output_type": "display_data"
    },
    {
     "data": {
      "application/vnd.jupyter.widget-view+json": {
       "model_id": "",
       "version_major": 2,
       "version_minor": 0
      },
      "text/plain": [
       "  0%|          | 0/3248 [00:00<?, ?it/s]"
      ]
     },
     "metadata": {},
     "output_type": "display_data"
    },
    {
     "data": {
      "application/vnd.jupyter.widget-view+json": {
       "model_id": "",
       "version_major": 2,
       "version_minor": 0
      },
      "text/plain": [
       "  0%|          | 0/3248 [00:00<?, ?it/s]"
      ]
     },
     "metadata": {},
     "output_type": "display_data"
    },
    {
     "data": {
      "application/vnd.jupyter.widget-view+json": {
       "model_id": "",
       "version_major": 2,
       "version_minor": 0
      },
      "text/plain": [
       "  0%|          | 0/3248 [00:00<?, ?it/s]"
      ]
     },
     "metadata": {},
     "output_type": "display_data"
    },
    {
     "data": {
      "application/vnd.jupyter.widget-view+json": {
       "model_id": "",
       "version_major": 2,
       "version_minor": 0
      },
      "text/plain": [
       "  0%|          | 0/3248 [00:00<?, ?it/s]"
      ]
     },
     "metadata": {},
     "output_type": "display_data"
    },
    {
     "data": {
      "application/vnd.jupyter.widget-view+json": {
       "model_id": "",
       "version_major": 2,
       "version_minor": 0
      },
      "text/plain": [
       "  0%|          | 0/3248 [00:00<?, ?it/s]"
      ]
     },
     "metadata": {},
     "output_type": "display_data"
    },
    {
     "data": {
      "application/vnd.jupyter.widget-view+json": {
       "model_id": "",
       "version_major": 2,
       "version_minor": 0
      },
      "text/plain": [
       "  0%|          | 0/3248 [00:00<?, ?it/s]"
      ]
     },
     "metadata": {},
     "output_type": "display_data"
    },
    {
     "data": {
      "application/vnd.jupyter.widget-view+json": {
       "model_id": "",
       "version_major": 2,
       "version_minor": 0
      },
      "text/plain": [
       "  0%|          | 0/3248 [00:00<?, ?it/s]"
      ]
     },
     "metadata": {},
     "output_type": "display_data"
    },
    {
     "data": {
      "application/vnd.jupyter.widget-view+json": {
       "model_id": "",
       "version_major": 2,
       "version_minor": 0
      },
      "text/plain": [
       "  0%|          | 0/3248 [00:00<?, ?it/s]"
      ]
     },
     "metadata": {},
     "output_type": "display_data"
    },
    {
     "data": {
      "application/vnd.jupyter.widget-view+json": {
       "model_id": "",
       "version_major": 2,
       "version_minor": 0
      },
      "text/plain": [
       "  0%|          | 0/3248 [00:00<?, ?it/s]"
      ]
     },
     "metadata": {},
     "output_type": "display_data"
    },
    {
     "data": {
      "application/vnd.jupyter.widget-view+json": {
       "model_id": "",
       "version_major": 2,
       "version_minor": 0
      },
      "text/plain": [
       "  0%|          | 0/3248 [00:00<?, ?it/s]"
      ]
     },
     "metadata": {},
     "output_type": "display_data"
    },
    {
     "data": {
      "application/vnd.jupyter.widget-view+json": {
       "model_id": "",
       "version_major": 2,
       "version_minor": 0
      },
      "text/plain": [
       "  0%|          | 0/3248 [00:00<?, ?it/s]"
      ]
     },
     "metadata": {},
     "output_type": "display_data"
    },
    {
     "data": {
      "application/vnd.jupyter.widget-view+json": {
       "model_id": "",
       "version_major": 2,
       "version_minor": 0
      },
      "text/plain": [
       "  0%|          | 0/3248 [00:00<?, ?it/s]"
      ]
     },
     "metadata": {},
     "output_type": "display_data"
    },
    {
     "data": {
      "application/vnd.jupyter.widget-view+json": {
       "model_id": "",
       "version_major": 2,
       "version_minor": 0
      },
      "text/plain": [
       "  0%|          | 0/3248 [00:00<?, ?it/s]"
      ]
     },
     "metadata": {},
     "output_type": "display_data"
    },
    {
     "data": {
      "application/vnd.jupyter.widget-view+json": {
       "model_id": "",
       "version_major": 2,
       "version_minor": 0
      },
      "text/plain": [
       "  0%|          | 0/3248 [00:00<?, ?it/s]"
      ]
     },
     "metadata": {},
     "output_type": "display_data"
    },
    {
     "data": {
      "application/vnd.jupyter.widget-view+json": {
       "model_id": "",
       "version_major": 2,
       "version_minor": 0
      },
      "text/plain": [
       "  0%|          | 0/3248 [00:00<?, ?it/s]"
      ]
     },
     "metadata": {},
     "output_type": "display_data"
    },
    {
     "data": {
      "application/vnd.jupyter.widget-view+json": {
       "model_id": "",
       "version_major": 2,
       "version_minor": 0
      },
      "text/plain": [
       "  0%|          | 0/3248 [00:00<?, ?it/s]"
      ]
     },
     "metadata": {},
     "output_type": "display_data"
    },
    {
     "data": {
      "application/vnd.jupyter.widget-view+json": {
       "model_id": "",
       "version_major": 2,
       "version_minor": 0
      },
      "text/plain": [
       "  0%|          | 0/3248 [00:00<?, ?it/s]"
      ]
     },
     "metadata": {},
     "output_type": "display_data"
    },
    {
     "data": {
      "application/vnd.jupyter.widget-view+json": {
       "model_id": "",
       "version_major": 2,
       "version_minor": 0
      },
      "text/plain": [
       "  0%|          | 0/3248 [00:00<?, ?it/s]"
      ]
     },
     "metadata": {},
     "output_type": "display_data"
    },
    {
     "data": {
      "application/vnd.jupyter.widget-view+json": {
       "model_id": "",
       "version_major": 2,
       "version_minor": 0
      },
      "text/plain": [
       "  0%|          | 0/3248 [00:00<?, ?it/s]"
      ]
     },
     "metadata": {},
     "output_type": "display_data"
    },
    {
     "data": {
      "application/vnd.jupyter.widget-view+json": {
       "model_id": "",
       "version_major": 2,
       "version_minor": 0
      },
      "text/plain": [
       "  0%|          | 0/3248 [00:00<?, ?it/s]"
      ]
     },
     "metadata": {},
     "output_type": "display_data"
    },
    {
     "data": {
      "application/vnd.jupyter.widget-view+json": {
       "model_id": "",
       "version_major": 2,
       "version_minor": 0
      },
      "text/plain": [
       "  0%|          | 0/3248 [00:00<?, ?it/s]"
      ]
     },
     "metadata": {},
     "output_type": "display_data"
    },
    {
     "data": {
      "application/vnd.jupyter.widget-view+json": {
       "model_id": "",
       "version_major": 2,
       "version_minor": 0
      },
      "text/plain": [
       "  0%|          | 0/3248 [00:00<?, ?it/s]"
      ]
     },
     "metadata": {},
     "output_type": "display_data"
    },
    {
     "data": {
      "application/vnd.jupyter.widget-view+json": {
       "model_id": "",
       "version_major": 2,
       "version_minor": 0
      },
      "text/plain": [
       "  0%|          | 0/3248 [00:00<?, ?it/s]"
      ]
     },
     "metadata": {},
     "output_type": "display_data"
    },
    {
     "data": {
      "application/vnd.jupyter.widget-view+json": {
       "model_id": "",
       "version_major": 2,
       "version_minor": 0
      },
      "text/plain": [
       "  0%|          | 0/3248 [00:00<?, ?it/s]"
      ]
     },
     "metadata": {},
     "output_type": "display_data"
    },
    {
     "data": {
      "application/vnd.jupyter.widget-view+json": {
       "model_id": "",
       "version_major": 2,
       "version_minor": 0
      },
      "text/plain": [
       "  0%|          | 0/3248 [00:00<?, ?it/s]"
      ]
     },
     "metadata": {},
     "output_type": "display_data"
    },
    {
     "data": {
      "application/vnd.jupyter.widget-view+json": {
       "model_id": "",
       "version_major": 2,
       "version_minor": 0
      },
      "text/plain": [
       "  0%|          | 0/3248 [00:00<?, ?it/s]"
      ]
     },
     "metadata": {},
     "output_type": "display_data"
    },
    {
     "data": {
      "application/vnd.jupyter.widget-view+json": {
       "model_id": "",
       "version_major": 2,
       "version_minor": 0
      },
      "text/plain": [
       "  0%|          | 0/3248 [00:00<?, ?it/s]"
      ]
     },
     "metadata": {},
     "output_type": "display_data"
    },
    {
     "data": {
      "application/vnd.jupyter.widget-view+json": {
       "model_id": "",
       "version_major": 2,
       "version_minor": 0
      },
      "text/plain": [
       "  0%|          | 0/3248 [00:00<?, ?it/s]"
      ]
     },
     "metadata": {},
     "output_type": "display_data"
    },
    {
     "data": {
      "application/vnd.jupyter.widget-view+json": {
       "model_id": "",
       "version_major": 2,
       "version_minor": 0
      },
      "text/plain": [
       "  0%|          | 0/3248 [00:00<?, ?it/s]"
      ]
     },
     "metadata": {},
     "output_type": "display_data"
    },
    {
     "data": {
      "application/vnd.jupyter.widget-view+json": {
       "model_id": "",
       "version_major": 2,
       "version_minor": 0
      },
      "text/plain": [
       "  0%|          | 0/3248 [00:00<?, ?it/s]"
      ]
     },
     "metadata": {},
     "output_type": "display_data"
    },
    {
     "data": {
      "application/vnd.jupyter.widget-view+json": {
       "model_id": "",
       "version_major": 2,
       "version_minor": 0
      },
      "text/plain": [
       "  0%|          | 0/3248 [00:00<?, ?it/s]"
      ]
     },
     "metadata": {},
     "output_type": "display_data"
    },
    {
     "data": {
      "application/vnd.jupyter.widget-view+json": {
       "model_id": "",
       "version_major": 2,
       "version_minor": 0
      },
      "text/plain": [
       "  0%|          | 0/3248 [00:00<?, ?it/s]"
      ]
     },
     "metadata": {},
     "output_type": "display_data"
    },
    {
     "data": {
      "application/vnd.jupyter.widget-view+json": {
       "model_id": "",
       "version_major": 2,
       "version_minor": 0
      },
      "text/plain": [
       "  0%|          | 0/3248 [00:00<?, ?it/s]"
      ]
     },
     "metadata": {},
     "output_type": "display_data"
    },
    {
     "data": {
      "application/vnd.jupyter.widget-view+json": {
       "model_id": "",
       "version_major": 2,
       "version_minor": 0
      },
      "text/plain": [
       "  0%|          | 0/3248 [00:00<?, ?it/s]"
      ]
     },
     "metadata": {},
     "output_type": "display_data"
    },
    {
     "data": {
      "application/vnd.jupyter.widget-view+json": {
       "model_id": "",
       "version_major": 2,
       "version_minor": 0
      },
      "text/plain": [
       "  0%|          | 0/3248 [00:00<?, ?it/s]"
      ]
     },
     "metadata": {},
     "output_type": "display_data"
    },
    {
     "data": {
      "application/vnd.jupyter.widget-view+json": {
       "model_id": "",
       "version_major": 2,
       "version_minor": 0
      },
      "text/plain": [
       "  0%|          | 0/3248 [00:00<?, ?it/s]"
      ]
     },
     "metadata": {},
     "output_type": "display_data"
    },
    {
     "data": {
      "application/vnd.jupyter.widget-view+json": {
       "model_id": "",
       "version_major": 2,
       "version_minor": 0
      },
      "text/plain": [
       "  0%|          | 0/3248 [00:00<?, ?it/s]"
      ]
     },
     "metadata": {},
     "output_type": "display_data"
    },
    {
     "data": {
      "application/vnd.jupyter.widget-view+json": {
       "model_id": "",
       "version_major": 2,
       "version_minor": 0
      },
      "text/plain": [
       "  0%|          | 0/3248 [00:00<?, ?it/s]"
      ]
     },
     "metadata": {},
     "output_type": "display_data"
    },
    {
     "data": {
      "application/vnd.jupyter.widget-view+json": {
       "model_id": "",
       "version_major": 2,
       "version_minor": 0
      },
      "text/plain": [
       "  0%|          | 0/3248 [00:00<?, ?it/s]"
      ]
     },
     "metadata": {},
     "output_type": "display_data"
    },
    {
     "data": {
      "application/vnd.jupyter.widget-view+json": {
       "model_id": "",
       "version_major": 2,
       "version_minor": 0
      },
      "text/plain": [
       "  0%|          | 0/3248 [00:00<?, ?it/s]"
      ]
     },
     "metadata": {},
     "output_type": "display_data"
    },
    {
     "data": {
      "application/vnd.jupyter.widget-view+json": {
       "model_id": "",
       "version_major": 2,
       "version_minor": 0
      },
      "text/plain": [
       "  0%|          | 0/3248 [00:00<?, ?it/s]"
      ]
     },
     "metadata": {},
     "output_type": "display_data"
    },
    {
     "data": {
      "application/vnd.jupyter.widget-view+json": {
       "model_id": "",
       "version_major": 2,
       "version_minor": 0
      },
      "text/plain": [
       "  0%|          | 0/3248 [00:00<?, ?it/s]"
      ]
     },
     "metadata": {},
     "output_type": "display_data"
    },
    {
     "data": {
      "application/vnd.jupyter.widget-view+json": {
       "model_id": "",
       "version_major": 2,
       "version_minor": 0
      },
      "text/plain": [
       "  0%|          | 0/3248 [00:00<?, ?it/s]"
      ]
     },
     "metadata": {},
     "output_type": "display_data"
    },
    {
     "data": {
      "application/vnd.jupyter.widget-view+json": {
       "model_id": "",
       "version_major": 2,
       "version_minor": 0
      },
      "text/plain": [
       "  0%|          | 0/3248 [00:00<?, ?it/s]"
      ]
     },
     "metadata": {},
     "output_type": "display_data"
    },
    {
     "data": {
      "application/vnd.jupyter.widget-view+json": {
       "model_id": "",
       "version_major": 2,
       "version_minor": 0
      },
      "text/plain": [
       "  0%|          | 0/3248 [00:00<?, ?it/s]"
      ]
     },
     "metadata": {},
     "output_type": "display_data"
    },
    {
     "data": {
      "application/vnd.jupyter.widget-view+json": {
       "model_id": "",
       "version_major": 2,
       "version_minor": 0
      },
      "text/plain": [
       "  0%|          | 0/3248 [00:00<?, ?it/s]"
      ]
     },
     "metadata": {},
     "output_type": "display_data"
    },
    {
     "data": {
      "application/vnd.jupyter.widget-view+json": {
       "model_id": "",
       "version_major": 2,
       "version_minor": 0
      },
      "text/plain": [
       "  0%|          | 0/3248 [00:00<?, ?it/s]"
      ]
     },
     "metadata": {},
     "output_type": "display_data"
    },
    {
     "data": {
      "application/vnd.jupyter.widget-view+json": {
       "model_id": "",
       "version_major": 2,
       "version_minor": 0
      },
      "text/plain": [
       "  0%|          | 0/3248 [00:00<?, ?it/s]"
      ]
     },
     "metadata": {},
     "output_type": "display_data"
    },
    {
     "data": {
      "application/vnd.jupyter.widget-view+json": {
       "model_id": "",
       "version_major": 2,
       "version_minor": 0
      },
      "text/plain": [
       "  0%|          | 0/3248 [00:00<?, ?it/s]"
      ]
     },
     "metadata": {},
     "output_type": "display_data"
    },
    {
     "data": {
      "application/vnd.jupyter.widget-view+json": {
       "model_id": "",
       "version_major": 2,
       "version_minor": 0
      },
      "text/plain": [
       "  0%|          | 0/3248 [00:00<?, ?it/s]"
      ]
     },
     "metadata": {},
     "output_type": "display_data"
    },
    {
     "data": {
      "application/vnd.jupyter.widget-view+json": {
       "model_id": "",
       "version_major": 2,
       "version_minor": 0
      },
      "text/plain": [
       "  0%|          | 0/3248 [00:00<?, ?it/s]"
      ]
     },
     "metadata": {},
     "output_type": "display_data"
    },
    {
     "data": {
      "application/vnd.jupyter.widget-view+json": {
       "model_id": "",
       "version_major": 2,
       "version_minor": 0
      },
      "text/plain": [
       "  0%|          | 0/3248 [00:00<?, ?it/s]"
      ]
     },
     "metadata": {},
     "output_type": "display_data"
    },
    {
     "data": {
      "application/vnd.jupyter.widget-view+json": {
       "model_id": "",
       "version_major": 2,
       "version_minor": 0
      },
      "text/plain": [
       "  0%|          | 0/3248 [00:00<?, ?it/s]"
      ]
     },
     "metadata": {},
     "output_type": "display_data"
    },
    {
     "data": {
      "application/vnd.jupyter.widget-view+json": {
       "model_id": "",
       "version_major": 2,
       "version_minor": 0
      },
      "text/plain": [
       "  0%|          | 0/3248 [00:00<?, ?it/s]"
      ]
     },
     "metadata": {},
     "output_type": "display_data"
    },
    {
     "data": {
      "application/vnd.jupyter.widget-view+json": {
       "model_id": "",
       "version_major": 2,
       "version_minor": 0
      },
      "text/plain": [
       "  0%|          | 0/3248 [00:00<?, ?it/s]"
      ]
     },
     "metadata": {},
     "output_type": "display_data"
    },
    {
     "data": {
      "application/vnd.jupyter.widget-view+json": {
       "model_id": "",
       "version_major": 2,
       "version_minor": 0
      },
      "text/plain": [
       "  0%|          | 0/3248 [00:00<?, ?it/s]"
      ]
     },
     "metadata": {},
     "output_type": "display_data"
    },
    {
     "data": {
      "application/vnd.jupyter.widget-view+json": {
       "model_id": "",
       "version_major": 2,
       "version_minor": 0
      },
      "text/plain": [
       "  0%|          | 0/3248 [00:00<?, ?it/s]"
      ]
     },
     "metadata": {},
     "output_type": "display_data"
    },
    {
     "data": {
      "application/vnd.jupyter.widget-view+json": {
       "model_id": "",
       "version_major": 2,
       "version_minor": 0
      },
      "text/plain": [
       "  0%|          | 0/3248 [00:00<?, ?it/s]"
      ]
     },
     "metadata": {},
     "output_type": "display_data"
    },
    {
     "data": {
      "application/vnd.jupyter.widget-view+json": {
       "model_id": "",
       "version_major": 2,
       "version_minor": 0
      },
      "text/plain": [
       "  0%|          | 0/3248 [00:00<?, ?it/s]"
      ]
     },
     "metadata": {},
     "output_type": "display_data"
    },
    {
     "data": {
      "application/vnd.jupyter.widget-view+json": {
       "model_id": "",
       "version_major": 2,
       "version_minor": 0
      },
      "text/plain": [
       "  0%|          | 0/3248 [00:00<?, ?it/s]"
      ]
     },
     "metadata": {},
     "output_type": "display_data"
    },
    {
     "data": {
      "application/vnd.jupyter.widget-view+json": {
       "model_id": "",
       "version_major": 2,
       "version_minor": 0
      },
      "text/plain": [
       "  0%|          | 0/3248 [00:00<?, ?it/s]"
      ]
     },
     "metadata": {},
     "output_type": "display_data"
    },
    {
     "data": {
      "application/vnd.jupyter.widget-view+json": {
       "model_id": "",
       "version_major": 2,
       "version_minor": 0
      },
      "text/plain": [
       "  0%|          | 0/3248 [00:00<?, ?it/s]"
      ]
     },
     "metadata": {},
     "output_type": "display_data"
    },
    {
     "data": {
      "application/vnd.jupyter.widget-view+json": {
       "model_id": "",
       "version_major": 2,
       "version_minor": 0
      },
      "text/plain": [
       "  0%|          | 0/3248 [00:00<?, ?it/s]"
      ]
     },
     "metadata": {},
     "output_type": "display_data"
    },
    {
     "data": {
      "application/vnd.jupyter.widget-view+json": {
       "model_id": "",
       "version_major": 2,
       "version_minor": 0
      },
      "text/plain": [
       "  0%|          | 0/3248 [00:00<?, ?it/s]"
      ]
     },
     "metadata": {},
     "output_type": "display_data"
    },
    {
     "data": {
      "application/vnd.jupyter.widget-view+json": {
       "model_id": "",
       "version_major": 2,
       "version_minor": 0
      },
      "text/plain": [
       "  0%|          | 0/3248 [00:00<?, ?it/s]"
      ]
     },
     "metadata": {},
     "output_type": "display_data"
    },
    {
     "data": {
      "application/vnd.jupyter.widget-view+json": {
       "model_id": "",
       "version_major": 2,
       "version_minor": 0
      },
      "text/plain": [
       "  0%|          | 0/3248 [00:00<?, ?it/s]"
      ]
     },
     "metadata": {},
     "output_type": "display_data"
    },
    {
     "data": {
      "application/vnd.jupyter.widget-view+json": {
       "model_id": "",
       "version_major": 2,
       "version_minor": 0
      },
      "text/plain": [
       "  0%|          | 0/3248 [00:00<?, ?it/s]"
      ]
     },
     "metadata": {},
     "output_type": "display_data"
    },
    {
     "data": {
      "application/vnd.jupyter.widget-view+json": {
       "model_id": "",
       "version_major": 2,
       "version_minor": 0
      },
      "text/plain": [
       "  0%|          | 0/3248 [00:00<?, ?it/s]"
      ]
     },
     "metadata": {},
     "output_type": "display_data"
    },
    {
     "data": {
      "application/vnd.jupyter.widget-view+json": {
       "model_id": "",
       "version_major": 2,
       "version_minor": 0
      },
      "text/plain": [
       "  0%|          | 0/3248 [00:00<?, ?it/s]"
      ]
     },
     "metadata": {},
     "output_type": "display_data"
    },
    {
     "data": {
      "application/vnd.jupyter.widget-view+json": {
       "model_id": "",
       "version_major": 2,
       "version_minor": 0
      },
      "text/plain": [
       "  0%|          | 0/3248 [00:00<?, ?it/s]"
      ]
     },
     "metadata": {},
     "output_type": "display_data"
    },
    {
     "data": {
      "application/vnd.jupyter.widget-view+json": {
       "model_id": "",
       "version_major": 2,
       "version_minor": 0
      },
      "text/plain": [
       "  0%|          | 0/3248 [00:00<?, ?it/s]"
      ]
     },
     "metadata": {},
     "output_type": "display_data"
    },
    {
     "data": {
      "application/vnd.jupyter.widget-view+json": {
       "model_id": "",
       "version_major": 2,
       "version_minor": 0
      },
      "text/plain": [
       "  0%|          | 0/3248 [00:00<?, ?it/s]"
      ]
     },
     "metadata": {},
     "output_type": "display_data"
    },
    {
     "data": {
      "application/vnd.jupyter.widget-view+json": {
       "model_id": "",
       "version_major": 2,
       "version_minor": 0
      },
      "text/plain": [
       "  0%|          | 0/3248 [00:00<?, ?it/s]"
      ]
     },
     "metadata": {},
     "output_type": "display_data"
    },
    {
     "data": {
      "application/vnd.jupyter.widget-view+json": {
       "model_id": "",
       "version_major": 2,
       "version_minor": 0
      },
      "text/plain": [
       "  0%|          | 0/3248 [00:00<?, ?it/s]"
      ]
     },
     "metadata": {},
     "output_type": "display_data"
    },
    {
     "data": {
      "application/vnd.jupyter.widget-view+json": {
       "model_id": "",
       "version_major": 2,
       "version_minor": 0
      },
      "text/plain": [
       "  0%|          | 0/3248 [00:00<?, ?it/s]"
      ]
     },
     "metadata": {},
     "output_type": "display_data"
    },
    {
     "data": {
      "application/vnd.jupyter.widget-view+json": {
       "model_id": "",
       "version_major": 2,
       "version_minor": 0
      },
      "text/plain": [
       "  0%|          | 0/3248 [00:00<?, ?it/s]"
      ]
     },
     "metadata": {},
     "output_type": "display_data"
    },
    {
     "data": {
      "application/vnd.jupyter.widget-view+json": {
       "model_id": "",
       "version_major": 2,
       "version_minor": 0
      },
      "text/plain": [
       "  0%|          | 0/3248 [00:00<?, ?it/s]"
      ]
     },
     "metadata": {},
     "output_type": "display_data"
    },
    {
     "data": {
      "application/vnd.jupyter.widget-view+json": {
       "model_id": "",
       "version_major": 2,
       "version_minor": 0
      },
      "text/plain": [
       "  0%|          | 0/3248 [00:00<?, ?it/s]"
      ]
     },
     "metadata": {},
     "output_type": "display_data"
    },
    {
     "data": {
      "application/vnd.jupyter.widget-view+json": {
       "model_id": "",
       "version_major": 2,
       "version_minor": 0
      },
      "text/plain": [
       "  0%|          | 0/3248 [00:00<?, ?it/s]"
      ]
     },
     "metadata": {},
     "output_type": "display_data"
    },
    {
     "data": {
      "application/vnd.jupyter.widget-view+json": {
       "model_id": "",
       "version_major": 2,
       "version_minor": 0
      },
      "text/plain": [
       "  0%|          | 0/3248 [00:00<?, ?it/s]"
      ]
     },
     "metadata": {},
     "output_type": "display_data"
    },
    {
     "data": {
      "application/vnd.jupyter.widget-view+json": {
       "model_id": "",
       "version_major": 2,
       "version_minor": 0
      },
      "text/plain": [
       "  0%|          | 0/3248 [00:00<?, ?it/s]"
      ]
     },
     "metadata": {},
     "output_type": "display_data"
    },
    {
     "data": {
      "application/vnd.jupyter.widget-view+json": {
       "model_id": "",
       "version_major": 2,
       "version_minor": 0
      },
      "text/plain": [
       "  0%|          | 0/3248 [00:00<?, ?it/s]"
      ]
     },
     "metadata": {},
     "output_type": "display_data"
    },
    {
     "data": {
      "application/vnd.jupyter.widget-view+json": {
       "model_id": "",
       "version_major": 2,
       "version_minor": 0
      },
      "text/plain": [
       "  0%|          | 0/3248 [00:00<?, ?it/s]"
      ]
     },
     "metadata": {},
     "output_type": "display_data"
    },
    {
     "data": {
      "application/vnd.jupyter.widget-view+json": {
       "model_id": "",
       "version_major": 2,
       "version_minor": 0
      },
      "text/plain": [
       "  0%|          | 0/3248 [00:00<?, ?it/s]"
      ]
     },
     "metadata": {},
     "output_type": "display_data"
    },
    {
     "data": {
      "application/vnd.jupyter.widget-view+json": {
       "model_id": "",
       "version_major": 2,
       "version_minor": 0
      },
      "text/plain": [
       "  0%|          | 0/3248 [00:00<?, ?it/s]"
      ]
     },
     "metadata": {},
     "output_type": "display_data"
    },
    {
     "data": {
      "application/vnd.jupyter.widget-view+json": {
       "model_id": "",
       "version_major": 2,
       "version_minor": 0
      },
      "text/plain": [
       "  0%|          | 0/3248 [00:00<?, ?it/s]"
      ]
     },
     "metadata": {},
     "output_type": "display_data"
    },
    {
     "data": {
      "application/vnd.jupyter.widget-view+json": {
       "model_id": "",
       "version_major": 2,
       "version_minor": 0
      },
      "text/plain": [
       "  0%|          | 0/3248 [00:00<?, ?it/s]"
      ]
     },
     "metadata": {},
     "output_type": "display_data"
    },
    {
     "data": {
      "application/vnd.jupyter.widget-view+json": {
       "model_id": "",
       "version_major": 2,
       "version_minor": 0
      },
      "text/plain": [
       "  0%|          | 0/3248 [00:00<?, ?it/s]"
      ]
     },
     "metadata": {},
     "output_type": "display_data"
    },
    {
     "data": {
      "application/vnd.jupyter.widget-view+json": {
       "model_id": "",
       "version_major": 2,
       "version_minor": 0
      },
      "text/plain": [
       "  0%|          | 0/3248 [00:00<?, ?it/s]"
      ]
     },
     "metadata": {},
     "output_type": "display_data"
    },
    {
     "data": {
      "application/vnd.jupyter.widget-view+json": {
       "model_id": "",
       "version_major": 2,
       "version_minor": 0
      },
      "text/plain": [
       "  0%|          | 0/3248 [00:00<?, ?it/s]"
      ]
     },
     "metadata": {},
     "output_type": "display_data"
    },
    {
     "data": {
      "application/vnd.jupyter.widget-view+json": {
       "model_id": "",
       "version_major": 2,
       "version_minor": 0
      },
      "text/plain": [
       "  0%|          | 0/3248 [00:00<?, ?it/s]"
      ]
     },
     "metadata": {},
     "output_type": "display_data"
    },
    {
     "data": {
      "application/vnd.jupyter.widget-view+json": {
       "model_id": "",
       "version_major": 2,
       "version_minor": 0
      },
      "text/plain": [
       "  0%|          | 0/3248 [00:00<?, ?it/s]"
      ]
     },
     "metadata": {},
     "output_type": "display_data"
    },
    {
     "data": {
      "application/vnd.jupyter.widget-view+json": {
       "model_id": "",
       "version_major": 2,
       "version_minor": 0
      },
      "text/plain": [
       "  0%|          | 0/3248 [00:00<?, ?it/s]"
      ]
     },
     "metadata": {},
     "output_type": "display_data"
    },
    {
     "data": {
      "application/vnd.jupyter.widget-view+json": {
       "model_id": "",
       "version_major": 2,
       "version_minor": 0
      },
      "text/plain": [
       "  0%|          | 0/3248 [00:00<?, ?it/s]"
      ]
     },
     "metadata": {},
     "output_type": "display_data"
    },
    {
     "data": {
      "application/vnd.jupyter.widget-view+json": {
       "model_id": "",
       "version_major": 2,
       "version_minor": 0
      },
      "text/plain": [
       "  0%|          | 0/3248 [00:00<?, ?it/s]"
      ]
     },
     "metadata": {},
     "output_type": "display_data"
    },
    {
     "data": {
      "application/vnd.jupyter.widget-view+json": {
       "model_id": "",
       "version_major": 2,
       "version_minor": 0
      },
      "text/plain": [
       "  0%|          | 0/3248 [00:00<?, ?it/s]"
      ]
     },
     "metadata": {},
     "output_type": "display_data"
    },
    {
     "data": {
      "application/vnd.jupyter.widget-view+json": {
       "model_id": "",
       "version_major": 2,
       "version_minor": 0
      },
      "text/plain": [
       "  0%|          | 0/3248 [00:00<?, ?it/s]"
      ]
     },
     "metadata": {},
     "output_type": "display_data"
    },
    {
     "data": {
      "application/vnd.jupyter.widget-view+json": {
       "model_id": "",
       "version_major": 2,
       "version_minor": 0
      },
      "text/plain": [
       "  0%|          | 0/3248 [00:00<?, ?it/s]"
      ]
     },
     "metadata": {},
     "output_type": "display_data"
    },
    {
     "data": {
      "application/vnd.jupyter.widget-view+json": {
       "model_id": "",
       "version_major": 2,
       "version_minor": 0
      },
      "text/plain": [
       "  0%|          | 0/3248 [00:00<?, ?it/s]"
      ]
     },
     "metadata": {},
     "output_type": "display_data"
    },
    {
     "data": {
      "application/vnd.jupyter.widget-view+json": {
       "model_id": "",
       "version_major": 2,
       "version_minor": 0
      },
      "text/plain": [
       "  0%|          | 0/3248 [00:00<?, ?it/s]"
      ]
     },
     "metadata": {},
     "output_type": "display_data"
    },
    {
     "data": {
      "application/vnd.jupyter.widget-view+json": {
       "model_id": "",
       "version_major": 2,
       "version_minor": 0
      },
      "text/plain": [
       "  0%|          | 0/3248 [00:00<?, ?it/s]"
      ]
     },
     "metadata": {},
     "output_type": "display_data"
    },
    {
     "data": {
      "application/vnd.jupyter.widget-view+json": {
       "model_id": "",
       "version_major": 2,
       "version_minor": 0
      },
      "text/plain": [
       "  0%|          | 0/3248 [00:00<?, ?it/s]"
      ]
     },
     "metadata": {},
     "output_type": "display_data"
    },
    {
     "data": {
      "application/vnd.jupyter.widget-view+json": {
       "model_id": "",
       "version_major": 2,
       "version_minor": 0
      },
      "text/plain": [
       "  0%|          | 0/3248 [00:00<?, ?it/s]"
      ]
     },
     "metadata": {},
     "output_type": "display_data"
    },
    {
     "data": {
      "application/vnd.jupyter.widget-view+json": {
       "model_id": "",
       "version_major": 2,
       "version_minor": 0
      },
      "text/plain": [
       "  0%|          | 0/3248 [00:00<?, ?it/s]"
      ]
     },
     "metadata": {},
     "output_type": "display_data"
    },
    {
     "data": {
      "application/vnd.jupyter.widget-view+json": {
       "model_id": "",
       "version_major": 2,
       "version_minor": 0
      },
      "text/plain": [
       "  0%|          | 0/3248 [00:00<?, ?it/s]"
      ]
     },
     "metadata": {},
     "output_type": "display_data"
    },
    {
     "data": {
      "application/vnd.jupyter.widget-view+json": {
       "model_id": "",
       "version_major": 2,
       "version_minor": 0
      },
      "text/plain": [
       "  0%|          | 0/3248 [00:00<?, ?it/s]"
      ]
     },
     "metadata": {},
     "output_type": "display_data"
    },
    {
     "data": {
      "application/vnd.jupyter.widget-view+json": {
       "model_id": "",
       "version_major": 2,
       "version_minor": 0
      },
      "text/plain": [
       "  0%|          | 0/3248 [00:00<?, ?it/s]"
      ]
     },
     "metadata": {},
     "output_type": "display_data"
    },
    {
     "data": {
      "application/vnd.jupyter.widget-view+json": {
       "model_id": "",
       "version_major": 2,
       "version_minor": 0
      },
      "text/plain": [
       "  0%|          | 0/3248 [00:00<?, ?it/s]"
      ]
     },
     "metadata": {},
     "output_type": "display_data"
    },
    {
     "data": {
      "application/vnd.jupyter.widget-view+json": {
       "model_id": "",
       "version_major": 2,
       "version_minor": 0
      },
      "text/plain": [
       "  0%|          | 0/3248 [00:00<?, ?it/s]"
      ]
     },
     "metadata": {},
     "output_type": "display_data"
    },
    {
     "data": {
      "application/vnd.jupyter.widget-view+json": {
       "model_id": "",
       "version_major": 2,
       "version_minor": 0
      },
      "text/plain": [
       "  0%|          | 0/3248 [00:00<?, ?it/s]"
      ]
     },
     "metadata": {},
     "output_type": "display_data"
    },
    {
     "data": {
      "application/vnd.jupyter.widget-view+json": {
       "model_id": "",
       "version_major": 2,
       "version_minor": 0
      },
      "text/plain": [
       "  0%|          | 0/3248 [00:00<?, ?it/s]"
      ]
     },
     "metadata": {},
     "output_type": "display_data"
    },
    {
     "data": {
      "application/vnd.jupyter.widget-view+json": {
       "model_id": "",
       "version_major": 2,
       "version_minor": 0
      },
      "text/plain": [
       "  0%|          | 0/3248 [00:00<?, ?it/s]"
      ]
     },
     "metadata": {},
     "output_type": "display_data"
    },
    {
     "data": {
      "application/vnd.jupyter.widget-view+json": {
       "model_id": "",
       "version_major": 2,
       "version_minor": 0
      },
      "text/plain": [
       "  0%|          | 0/3248 [00:00<?, ?it/s]"
      ]
     },
     "metadata": {},
     "output_type": "display_data"
    },
    {
     "data": {
      "application/vnd.jupyter.widget-view+json": {
       "model_id": "",
       "version_major": 2,
       "version_minor": 0
      },
      "text/plain": [
       "  0%|          | 0/3248 [00:00<?, ?it/s]"
      ]
     },
     "metadata": {},
     "output_type": "display_data"
    },
    {
     "data": {
      "application/vnd.jupyter.widget-view+json": {
       "model_id": "",
       "version_major": 2,
       "version_minor": 0
      },
      "text/plain": [
       "  0%|          | 0/3248 [00:00<?, ?it/s]"
      ]
     },
     "metadata": {},
     "output_type": "display_data"
    },
    {
     "data": {
      "application/vnd.jupyter.widget-view+json": {
       "model_id": "",
       "version_major": 2,
       "version_minor": 0
      },
      "text/plain": [
       "  0%|          | 0/3248 [00:00<?, ?it/s]"
      ]
     },
     "metadata": {},
     "output_type": "display_data"
    },
    {
     "data": {
      "application/vnd.jupyter.widget-view+json": {
       "model_id": "",
       "version_major": 2,
       "version_minor": 0
      },
      "text/plain": [
       "  0%|          | 0/3248 [00:00<?, ?it/s]"
      ]
     },
     "metadata": {},
     "output_type": "display_data"
    },
    {
     "data": {
      "application/vnd.jupyter.widget-view+json": {
       "model_id": "",
       "version_major": 2,
       "version_minor": 0
      },
      "text/plain": [
       "  0%|          | 0/3248 [00:00<?, ?it/s]"
      ]
     },
     "metadata": {},
     "output_type": "display_data"
    },
    {
     "data": {
      "application/vnd.jupyter.widget-view+json": {
       "model_id": "",
       "version_major": 2,
       "version_minor": 0
      },
      "text/plain": [
       "  0%|          | 0/3248 [00:00<?, ?it/s]"
      ]
     },
     "metadata": {},
     "output_type": "display_data"
    },
    {
     "data": {
      "application/vnd.jupyter.widget-view+json": {
       "model_id": "",
       "version_major": 2,
       "version_minor": 0
      },
      "text/plain": [
       "  0%|          | 0/3248 [00:00<?, ?it/s]"
      ]
     },
     "metadata": {},
     "output_type": "display_data"
    },
    {
     "data": {
      "application/vnd.jupyter.widget-view+json": {
       "model_id": "",
       "version_major": 2,
       "version_minor": 0
      },
      "text/plain": [
       "  0%|          | 0/3248 [00:00<?, ?it/s]"
      ]
     },
     "metadata": {},
     "output_type": "display_data"
    },
    {
     "data": {
      "application/vnd.jupyter.widget-view+json": {
       "model_id": "",
       "version_major": 2,
       "version_minor": 0
      },
      "text/plain": [
       "  0%|          | 0/3248 [00:00<?, ?it/s]"
      ]
     },
     "metadata": {},
     "output_type": "display_data"
    },
    {
     "data": {
      "application/vnd.jupyter.widget-view+json": {
       "model_id": "",
       "version_major": 2,
       "version_minor": 0
      },
      "text/plain": [
       "  0%|          | 0/3248 [00:00<?, ?it/s]"
      ]
     },
     "metadata": {},
     "output_type": "display_data"
    },
    {
     "data": {
      "application/vnd.jupyter.widget-view+json": {
       "model_id": "",
       "version_major": 2,
       "version_minor": 0
      },
      "text/plain": [
       "  0%|          | 0/3248 [00:00<?, ?it/s]"
      ]
     },
     "metadata": {},
     "output_type": "display_data"
    },
    {
     "data": {
      "application/vnd.jupyter.widget-view+json": {
       "model_id": "",
       "version_major": 2,
       "version_minor": 0
      },
      "text/plain": [
       "  0%|          | 0/3248 [00:00<?, ?it/s]"
      ]
     },
     "metadata": {},
     "output_type": "display_data"
    },
    {
     "data": {
      "application/vnd.jupyter.widget-view+json": {
       "model_id": "",
       "version_major": 2,
       "version_minor": 0
      },
      "text/plain": [
       "  0%|          | 0/3248 [00:00<?, ?it/s]"
      ]
     },
     "metadata": {},
     "output_type": "display_data"
    },
    {
     "data": {
      "application/vnd.jupyter.widget-view+json": {
       "model_id": "",
       "version_major": 2,
       "version_minor": 0
      },
      "text/plain": [
       "  0%|          | 0/3248 [00:00<?, ?it/s]"
      ]
     },
     "metadata": {},
     "output_type": "display_data"
    },
    {
     "data": {
      "application/vnd.jupyter.widget-view+json": {
       "model_id": "",
       "version_major": 2,
       "version_minor": 0
      },
      "text/plain": [
       "  0%|          | 0/3248 [00:00<?, ?it/s]"
      ]
     },
     "metadata": {},
     "output_type": "display_data"
    },
    {
     "data": {
      "application/vnd.jupyter.widget-view+json": {
       "model_id": "",
       "version_major": 2,
       "version_minor": 0
      },
      "text/plain": [
       "  0%|          | 0/3248 [00:00<?, ?it/s]"
      ]
     },
     "metadata": {},
     "output_type": "display_data"
    },
    {
     "data": {
      "application/vnd.jupyter.widget-view+json": {
       "model_id": "",
       "version_major": 2,
       "version_minor": 0
      },
      "text/plain": [
       "  0%|          | 0/3248 [00:00<?, ?it/s]"
      ]
     },
     "metadata": {},
     "output_type": "display_data"
    },
    {
     "data": {
      "application/vnd.jupyter.widget-view+json": {
       "model_id": "",
       "version_major": 2,
       "version_minor": 0
      },
      "text/plain": [
       "  0%|          | 0/3248 [00:00<?, ?it/s]"
      ]
     },
     "metadata": {},
     "output_type": "display_data"
    },
    {
     "data": {
      "application/vnd.jupyter.widget-view+json": {
       "model_id": "",
       "version_major": 2,
       "version_minor": 0
      },
      "text/plain": [
       "  0%|          | 0/3248 [00:00<?, ?it/s]"
      ]
     },
     "metadata": {},
     "output_type": "display_data"
    },
    {
     "data": {
      "application/vnd.jupyter.widget-view+json": {
       "model_id": "",
       "version_major": 2,
       "version_minor": 0
      },
      "text/plain": [
       "  0%|          | 0/3248 [00:00<?, ?it/s]"
      ]
     },
     "metadata": {},
     "output_type": "display_data"
    },
    {
     "data": {
      "application/vnd.jupyter.widget-view+json": {
       "model_id": "",
       "version_major": 2,
       "version_minor": 0
      },
      "text/plain": [
       "  0%|          | 0/3248 [00:00<?, ?it/s]"
      ]
     },
     "metadata": {},
     "output_type": "display_data"
    },
    {
     "data": {
      "application/vnd.jupyter.widget-view+json": {
       "model_id": "",
       "version_major": 2,
       "version_minor": 0
      },
      "text/plain": [
       "  0%|          | 0/3248 [00:00<?, ?it/s]"
      ]
     },
     "metadata": {},
     "output_type": "display_data"
    },
    {
     "data": {
      "application/vnd.jupyter.widget-view+json": {
       "model_id": "",
       "version_major": 2,
       "version_minor": 0
      },
      "text/plain": [
       "  0%|          | 0/3248 [00:00<?, ?it/s]"
      ]
     },
     "metadata": {},
     "output_type": "display_data"
    },
    {
     "data": {
      "application/vnd.jupyter.widget-view+json": {
       "model_id": "",
       "version_major": 2,
       "version_minor": 0
      },
      "text/plain": [
       "  0%|          | 0/3248 [00:00<?, ?it/s]"
      ]
     },
     "metadata": {},
     "output_type": "display_data"
    },
    {
     "data": {
      "application/vnd.jupyter.widget-view+json": {
       "model_id": "",
       "version_major": 2,
       "version_minor": 0
      },
      "text/plain": [
       "  0%|          | 0/3248 [00:00<?, ?it/s]"
      ]
     },
     "metadata": {},
     "output_type": "display_data"
    },
    {
     "data": {
      "application/vnd.jupyter.widget-view+json": {
       "model_id": "",
       "version_major": 2,
       "version_minor": 0
      },
      "text/plain": [
       "  0%|          | 0/3248 [00:00<?, ?it/s]"
      ]
     },
     "metadata": {},
     "output_type": "display_data"
    },
    {
     "data": {
      "application/vnd.jupyter.widget-view+json": {
       "model_id": "",
       "version_major": 2,
       "version_minor": 0
      },
      "text/plain": [
       "  0%|          | 0/3248 [00:00<?, ?it/s]"
      ]
     },
     "metadata": {},
     "output_type": "display_data"
    },
    {
     "data": {
      "application/vnd.jupyter.widget-view+json": {
       "model_id": "",
       "version_major": 2,
       "version_minor": 0
      },
      "text/plain": [
       "  0%|          | 0/3248 [00:00<?, ?it/s]"
      ]
     },
     "metadata": {},
     "output_type": "display_data"
    },
    {
     "data": {
      "application/vnd.jupyter.widget-view+json": {
       "model_id": "",
       "version_major": 2,
       "version_minor": 0
      },
      "text/plain": [
       "  0%|          | 0/3248 [00:00<?, ?it/s]"
      ]
     },
     "metadata": {},
     "output_type": "display_data"
    },
    {
     "data": {
      "application/vnd.jupyter.widget-view+json": {
       "model_id": "",
       "version_major": 2,
       "version_minor": 0
      },
      "text/plain": [
       "  0%|          | 0/3248 [00:00<?, ?it/s]"
      ]
     },
     "metadata": {},
     "output_type": "display_data"
    },
    {
     "data": {
      "application/vnd.jupyter.widget-view+json": {
       "model_id": "",
       "version_major": 2,
       "version_minor": 0
      },
      "text/plain": [
       "  0%|          | 0/3248 [00:00<?, ?it/s]"
      ]
     },
     "metadata": {},
     "output_type": "display_data"
    },
    {
     "data": {
      "application/vnd.jupyter.widget-view+json": {
       "model_id": "",
       "version_major": 2,
       "version_minor": 0
      },
      "text/plain": [
       "  0%|          | 0/3248 [00:00<?, ?it/s]"
      ]
     },
     "metadata": {},
     "output_type": "display_data"
    },
    {
     "data": {
      "application/vnd.jupyter.widget-view+json": {
       "model_id": "",
       "version_major": 2,
       "version_minor": 0
      },
      "text/plain": [
       "  0%|          | 0/3248 [00:00<?, ?it/s]"
      ]
     },
     "metadata": {},
     "output_type": "display_data"
    },
    {
     "data": {
      "application/vnd.jupyter.widget-view+json": {
       "model_id": "",
       "version_major": 2,
       "version_minor": 0
      },
      "text/plain": [
       "  0%|          | 0/3248 [00:00<?, ?it/s]"
      ]
     },
     "metadata": {},
     "output_type": "display_data"
    },
    {
     "data": {
      "application/vnd.jupyter.widget-view+json": {
       "model_id": "",
       "version_major": 2,
       "version_minor": 0
      },
      "text/plain": [
       "  0%|          | 0/3248 [00:00<?, ?it/s]"
      ]
     },
     "metadata": {},
     "output_type": "display_data"
    },
    {
     "data": {
      "application/vnd.jupyter.widget-view+json": {
       "model_id": "",
       "version_major": 2,
       "version_minor": 0
      },
      "text/plain": [
       "  0%|          | 0/3248 [00:00<?, ?it/s]"
      ]
     },
     "metadata": {},
     "output_type": "display_data"
    },
    {
     "data": {
      "application/vnd.jupyter.widget-view+json": {
       "model_id": "",
       "version_major": 2,
       "version_minor": 0
      },
      "text/plain": [
       "  0%|          | 0/3248 [00:00<?, ?it/s]"
      ]
     },
     "metadata": {},
     "output_type": "display_data"
    },
    {
     "data": {
      "application/vnd.jupyter.widget-view+json": {
       "model_id": "",
       "version_major": 2,
       "version_minor": 0
      },
      "text/plain": [
       "  0%|          | 0/3248 [00:00<?, ?it/s]"
      ]
     },
     "metadata": {},
     "output_type": "display_data"
    },
    {
     "data": {
      "application/vnd.jupyter.widget-view+json": {
       "model_id": "",
       "version_major": 2,
       "version_minor": 0
      },
      "text/plain": [
       "  0%|          | 0/3248 [00:00<?, ?it/s]"
      ]
     },
     "metadata": {},
     "output_type": "display_data"
    },
    {
     "data": {
      "application/vnd.jupyter.widget-view+json": {
       "model_id": "",
       "version_major": 2,
       "version_minor": 0
      },
      "text/plain": [
       "  0%|          | 0/3248 [00:00<?, ?it/s]"
      ]
     },
     "metadata": {},
     "output_type": "display_data"
    },
    {
     "data": {
      "application/vnd.jupyter.widget-view+json": {
       "model_id": "",
       "version_major": 2,
       "version_minor": 0
      },
      "text/plain": [
       "  0%|          | 0/3248 [00:00<?, ?it/s]"
      ]
     },
     "metadata": {},
     "output_type": "display_data"
    },
    {
     "data": {
      "application/vnd.jupyter.widget-view+json": {
       "model_id": "",
       "version_major": 2,
       "version_minor": 0
      },
      "text/plain": [
       "  0%|          | 0/3248 [00:00<?, ?it/s]"
      ]
     },
     "metadata": {},
     "output_type": "display_data"
    },
    {
     "data": {
      "application/vnd.jupyter.widget-view+json": {
       "model_id": "",
       "version_major": 2,
       "version_minor": 0
      },
      "text/plain": [
       "  0%|          | 0/3248 [00:00<?, ?it/s]"
      ]
     },
     "metadata": {},
     "output_type": "display_data"
    },
    {
     "data": {
      "application/vnd.jupyter.widget-view+json": {
       "model_id": "",
       "version_major": 2,
       "version_minor": 0
      },
      "text/plain": [
       "  0%|          | 0/3248 [00:00<?, ?it/s]"
      ]
     },
     "metadata": {},
     "output_type": "display_data"
    },
    {
     "data": {
      "application/vnd.jupyter.widget-view+json": {
       "model_id": "",
       "version_major": 2,
       "version_minor": 0
      },
      "text/plain": [
       "  0%|          | 0/3248 [00:00<?, ?it/s]"
      ]
     },
     "metadata": {},
     "output_type": "display_data"
    },
    {
     "data": {
      "application/vnd.jupyter.widget-view+json": {
       "model_id": "",
       "version_major": 2,
       "version_minor": 0
      },
      "text/plain": [
       "  0%|          | 0/3248 [00:00<?, ?it/s]"
      ]
     },
     "metadata": {},
     "output_type": "display_data"
    },
    {
     "data": {
      "application/vnd.jupyter.widget-view+json": {
       "model_id": "",
       "version_major": 2,
       "version_minor": 0
      },
      "text/plain": [
       "  0%|          | 0/3248 [00:00<?, ?it/s]"
      ]
     },
     "metadata": {},
     "output_type": "display_data"
    },
    {
     "data": {
      "application/vnd.jupyter.widget-view+json": {
       "model_id": "",
       "version_major": 2,
       "version_minor": 0
      },
      "text/plain": [
       "  0%|          | 0/3248 [00:00<?, ?it/s]"
      ]
     },
     "metadata": {},
     "output_type": "display_data"
    },
    {
     "data": {
      "application/vnd.jupyter.widget-view+json": {
       "model_id": "",
       "version_major": 2,
       "version_minor": 0
      },
      "text/plain": [
       "  0%|          | 0/3248 [00:00<?, ?it/s]"
      ]
     },
     "metadata": {},
     "output_type": "display_data"
    },
    {
     "data": {
      "application/vnd.jupyter.widget-view+json": {
       "model_id": "",
       "version_major": 2,
       "version_minor": 0
      },
      "text/plain": [
       "  0%|          | 0/3248 [00:00<?, ?it/s]"
      ]
     },
     "metadata": {},
     "output_type": "display_data"
    },
    {
     "data": {
      "application/vnd.jupyter.widget-view+json": {
       "model_id": "",
       "version_major": 2,
       "version_minor": 0
      },
      "text/plain": [
       "  0%|          | 0/3248 [00:00<?, ?it/s]"
      ]
     },
     "metadata": {},
     "output_type": "display_data"
    },
    {
     "data": {
      "application/vnd.jupyter.widget-view+json": {
       "model_id": "",
       "version_major": 2,
       "version_minor": 0
      },
      "text/plain": [
       "  0%|          | 0/3248 [00:00<?, ?it/s]"
      ]
     },
     "metadata": {},
     "output_type": "display_data"
    },
    {
     "data": {
      "application/vnd.jupyter.widget-view+json": {
       "model_id": "",
       "version_major": 2,
       "version_minor": 0
      },
      "text/plain": [
       "  0%|          | 0/3248 [00:00<?, ?it/s]"
      ]
     },
     "metadata": {},
     "output_type": "display_data"
    },
    {
     "data": {
      "application/vnd.jupyter.widget-view+json": {
       "model_id": "",
       "version_major": 2,
       "version_minor": 0
      },
      "text/plain": [
       "  0%|          | 0/3248 [00:00<?, ?it/s]"
      ]
     },
     "metadata": {},
     "output_type": "display_data"
    },
    {
     "data": {
      "application/vnd.jupyter.widget-view+json": {
       "model_id": "",
       "version_major": 2,
       "version_minor": 0
      },
      "text/plain": [
       "  0%|          | 0/3248 [00:00<?, ?it/s]"
      ]
     },
     "metadata": {},
     "output_type": "display_data"
    },
    {
     "data": {
      "application/vnd.jupyter.widget-view+json": {
       "model_id": "",
       "version_major": 2,
       "version_minor": 0
      },
      "text/plain": [
       "  0%|          | 0/3248 [00:00<?, ?it/s]"
      ]
     },
     "metadata": {},
     "output_type": "display_data"
    },
    {
     "data": {
      "application/vnd.jupyter.widget-view+json": {
       "model_id": "",
       "version_major": 2,
       "version_minor": 0
      },
      "text/plain": [
       "  0%|          | 0/3248 [00:00<?, ?it/s]"
      ]
     },
     "metadata": {},
     "output_type": "display_data"
    },
    {
     "data": {
      "application/vnd.jupyter.widget-view+json": {
       "model_id": "",
       "version_major": 2,
       "version_minor": 0
      },
      "text/plain": [
       "  0%|          | 0/3248 [00:00<?, ?it/s]"
      ]
     },
     "metadata": {},
     "output_type": "display_data"
    },
    {
     "data": {
      "application/vnd.jupyter.widget-view+json": {
       "model_id": "",
       "version_major": 2,
       "version_minor": 0
      },
      "text/plain": [
       "  0%|          | 0/3248 [00:00<?, ?it/s]"
      ]
     },
     "metadata": {},
     "output_type": "display_data"
    },
    {
     "data": {
      "application/vnd.jupyter.widget-view+json": {
       "model_id": "",
       "version_major": 2,
       "version_minor": 0
      },
      "text/plain": [
       "  0%|          | 0/3248 [00:00<?, ?it/s]"
      ]
     },
     "metadata": {},
     "output_type": "display_data"
    },
    {
     "data": {
      "application/vnd.jupyter.widget-view+json": {
       "model_id": "",
       "version_major": 2,
       "version_minor": 0
      },
      "text/plain": [
       "  0%|          | 0/3248 [00:00<?, ?it/s]"
      ]
     },
     "metadata": {},
     "output_type": "display_data"
    },
    {
     "data": {
      "application/vnd.jupyter.widget-view+json": {
       "model_id": "",
       "version_major": 2,
       "version_minor": 0
      },
      "text/plain": [
       "  0%|          | 0/3248 [00:00<?, ?it/s]"
      ]
     },
     "metadata": {},
     "output_type": "display_data"
    },
    {
     "data": {
      "application/vnd.jupyter.widget-view+json": {
       "model_id": "",
       "version_major": 2,
       "version_minor": 0
      },
      "text/plain": [
       "  0%|          | 0/3248 [00:00<?, ?it/s]"
      ]
     },
     "metadata": {},
     "output_type": "display_data"
    },
    {
     "data": {
      "application/vnd.jupyter.widget-view+json": {
       "model_id": "",
       "version_major": 2,
       "version_minor": 0
      },
      "text/plain": [
       "  0%|          | 0/3248 [00:00<?, ?it/s]"
      ]
     },
     "metadata": {},
     "output_type": "display_data"
    },
    {
     "data": {
      "application/vnd.jupyter.widget-view+json": {
       "model_id": "",
       "version_major": 2,
       "version_minor": 0
      },
      "text/plain": [
       "  0%|          | 0/3248 [00:00<?, ?it/s]"
      ]
     },
     "metadata": {},
     "output_type": "display_data"
    },
    {
     "data": {
      "application/vnd.jupyter.widget-view+json": {
       "model_id": "",
       "version_major": 2,
       "version_minor": 0
      },
      "text/plain": [
       "  0%|          | 0/3248 [00:00<?, ?it/s]"
      ]
     },
     "metadata": {},
     "output_type": "display_data"
    },
    {
     "data": {
      "application/vnd.jupyter.widget-view+json": {
       "model_id": "",
       "version_major": 2,
       "version_minor": 0
      },
      "text/plain": [
       "  0%|          | 0/3248 [00:00<?, ?it/s]"
      ]
     },
     "metadata": {},
     "output_type": "display_data"
    },
    {
     "data": {
      "application/vnd.jupyter.widget-view+json": {
       "model_id": "",
       "version_major": 2,
       "version_minor": 0
      },
      "text/plain": [
       "  0%|          | 0/3248 [00:00<?, ?it/s]"
      ]
     },
     "metadata": {},
     "output_type": "display_data"
    },
    {
     "data": {
      "application/vnd.jupyter.widget-view+json": {
       "model_id": "",
       "version_major": 2,
       "version_minor": 0
      },
      "text/plain": [
       "  0%|          | 0/3248 [00:00<?, ?it/s]"
      ]
     },
     "metadata": {},
     "output_type": "display_data"
    },
    {
     "data": {
      "application/vnd.jupyter.widget-view+json": {
       "model_id": "",
       "version_major": 2,
       "version_minor": 0
      },
      "text/plain": [
       "  0%|          | 0/3248 [00:00<?, ?it/s]"
      ]
     },
     "metadata": {},
     "output_type": "display_data"
    },
    {
     "data": {
      "application/vnd.jupyter.widget-view+json": {
       "model_id": "",
       "version_major": 2,
       "version_minor": 0
      },
      "text/plain": [
       "  0%|          | 0/3248 [00:00<?, ?it/s]"
      ]
     },
     "metadata": {},
     "output_type": "display_data"
    },
    {
     "data": {
      "application/vnd.jupyter.widget-view+json": {
       "model_id": "",
       "version_major": 2,
       "version_minor": 0
      },
      "text/plain": [
       "  0%|          | 0/3248 [00:00<?, ?it/s]"
      ]
     },
     "metadata": {},
     "output_type": "display_data"
    },
    {
     "data": {
      "application/vnd.jupyter.widget-view+json": {
       "model_id": "",
       "version_major": 2,
       "version_minor": 0
      },
      "text/plain": [
       "  0%|          | 0/3248 [00:00<?, ?it/s]"
      ]
     },
     "metadata": {},
     "output_type": "display_data"
    },
    {
     "data": {
      "application/vnd.jupyter.widget-view+json": {
       "model_id": "",
       "version_major": 2,
       "version_minor": 0
      },
      "text/plain": [
       "  0%|          | 0/3248 [00:00<?, ?it/s]"
      ]
     },
     "metadata": {},
     "output_type": "display_data"
    },
    {
     "data": {
      "application/vnd.jupyter.widget-view+json": {
       "model_id": "",
       "version_major": 2,
       "version_minor": 0
      },
      "text/plain": [
       "  0%|          | 0/3248 [00:00<?, ?it/s]"
      ]
     },
     "metadata": {},
     "output_type": "display_data"
    },
    {
     "data": {
      "application/vnd.jupyter.widget-view+json": {
       "model_id": "",
       "version_major": 2,
       "version_minor": 0
      },
      "text/plain": [
       "  0%|          | 0/3248 [00:00<?, ?it/s]"
      ]
     },
     "metadata": {},
     "output_type": "display_data"
    },
    {
     "data": {
      "application/vnd.jupyter.widget-view+json": {
       "model_id": "",
       "version_major": 2,
       "version_minor": 0
      },
      "text/plain": [
       "  0%|          | 0/3248 [00:00<?, ?it/s]"
      ]
     },
     "metadata": {},
     "output_type": "display_data"
    },
    {
     "data": {
      "application/vnd.jupyter.widget-view+json": {
       "model_id": "",
       "version_major": 2,
       "version_minor": 0
      },
      "text/plain": [
       "  0%|          | 0/3248 [00:00<?, ?it/s]"
      ]
     },
     "metadata": {},
     "output_type": "display_data"
    },
    {
     "data": {
      "application/vnd.jupyter.widget-view+json": {
       "model_id": "",
       "version_major": 2,
       "version_minor": 0
      },
      "text/plain": [
       "  0%|          | 0/3248 [00:00<?, ?it/s]"
      ]
     },
     "metadata": {},
     "output_type": "display_data"
    },
    {
     "data": {
      "application/vnd.jupyter.widget-view+json": {
       "model_id": "",
       "version_major": 2,
       "version_minor": 0
      },
      "text/plain": [
       "  0%|          | 0/3248 [00:00<?, ?it/s]"
      ]
     },
     "metadata": {},
     "output_type": "display_data"
    },
    {
     "data": {
      "application/vnd.jupyter.widget-view+json": {
       "model_id": "",
       "version_major": 2,
       "version_minor": 0
      },
      "text/plain": [
       "  0%|          | 0/3248 [00:00<?, ?it/s]"
      ]
     },
     "metadata": {},
     "output_type": "display_data"
    },
    {
     "data": {
      "application/vnd.jupyter.widget-view+json": {
       "model_id": "",
       "version_major": 2,
       "version_minor": 0
      },
      "text/plain": [
       "  0%|          | 0/3248 [00:00<?, ?it/s]"
      ]
     },
     "metadata": {},
     "output_type": "display_data"
    },
    {
     "data": {
      "application/vnd.jupyter.widget-view+json": {
       "model_id": "",
       "version_major": 2,
       "version_minor": 0
      },
      "text/plain": [
       "  0%|          | 0/3248 [00:00<?, ?it/s]"
      ]
     },
     "metadata": {},
     "output_type": "display_data"
    },
    {
     "data": {
      "application/vnd.jupyter.widget-view+json": {
       "model_id": "",
       "version_major": 2,
       "version_minor": 0
      },
      "text/plain": [
       "  0%|          | 0/3248 [00:00<?, ?it/s]"
      ]
     },
     "metadata": {},
     "output_type": "display_data"
    },
    {
     "data": {
      "application/vnd.jupyter.widget-view+json": {
       "model_id": "",
       "version_major": 2,
       "version_minor": 0
      },
      "text/plain": [
       "  0%|          | 0/3248 [00:00<?, ?it/s]"
      ]
     },
     "metadata": {},
     "output_type": "display_data"
    },
    {
     "data": {
      "application/vnd.jupyter.widget-view+json": {
       "model_id": "",
       "version_major": 2,
       "version_minor": 0
      },
      "text/plain": [
       "  0%|          | 0/3248 [00:00<?, ?it/s]"
      ]
     },
     "metadata": {},
     "output_type": "display_data"
    },
    {
     "data": {
      "application/vnd.jupyter.widget-view+json": {
       "model_id": "",
       "version_major": 2,
       "version_minor": 0
      },
      "text/plain": [
       "  0%|          | 0/3248 [00:00<?, ?it/s]"
      ]
     },
     "metadata": {},
     "output_type": "display_data"
    },
    {
     "data": {
      "application/vnd.jupyter.widget-view+json": {
       "model_id": "",
       "version_major": 2,
       "version_minor": 0
      },
      "text/plain": [
       "  0%|          | 0/3248 [00:00<?, ?it/s]"
      ]
     },
     "metadata": {},
     "output_type": "display_data"
    }
   ],
   "source": [
    "# resampling the original data into a daily value setting days that contain a missing to be missing\n",
    "df_energy_daily = resample_to_different_time(df_energy, \"consumption_daily_nan_removeColumn\",\"D\",\"removeColumn\")"
   ]
  },
  {
   "cell_type": "code",
   "execution_count": 11,
   "metadata": {
    "scrolled": false
   },
   "outputs": [
    {
     "data": {
      "text/html": [
       "<div>\n",
       "<style scoped>\n",
       "    .dataframe tbody tr th:only-of-type {\n",
       "        vertical-align: middle;\n",
       "    }\n",
       "\n",
       "    .dataframe tbody tr th {\n",
       "        vertical-align: top;\n",
       "    }\n",
       "\n",
       "    .dataframe thead th {\n",
       "        text-align: right;\n",
       "    }\n",
       "</style>\n",
       "<table border=\"1\" class=\"dataframe\">\n",
       "  <thead>\n",
       "    <tr style=\"text-align: right;\">\n",
       "      <th></th>\n",
       "      <th>meter_id</th>\n",
       "      <th>2017-01-01</th>\n",
       "      <th>2017-01-02</th>\n",
       "      <th>2017-01-03</th>\n",
       "      <th>2017-01-04</th>\n",
       "      <th>2017-01-05</th>\n",
       "      <th>2017-01-06</th>\n",
       "      <th>2017-01-07</th>\n",
       "      <th>2017-01-08</th>\n",
       "      <th>2017-01-09</th>\n",
       "      <th>2017-01-10</th>\n",
       "      <th>2017-01-11</th>\n",
       "      <th>2017-01-12</th>\n",
       "      <th>2017-01-13</th>\n",
       "      <th>2017-01-14</th>\n",
       "      <th>2017-01-15</th>\n",
       "      <th>2017-01-16</th>\n",
       "      <th>2017-01-17</th>\n",
       "      <th>2017-01-18</th>\n",
       "      <th>2017-01-19</th>\n",
       "      <th>2017-01-20</th>\n",
       "      <th>2017-01-21</th>\n",
       "      <th>2017-01-22</th>\n",
       "      <th>2017-01-23</th>\n",
       "      <th>2017-01-24</th>\n",
       "      <th>...</th>\n",
       "      <th>2017-12-07</th>\n",
       "      <th>2017-12-08</th>\n",
       "      <th>2017-12-09</th>\n",
       "      <th>2017-12-10</th>\n",
       "      <th>2017-12-11</th>\n",
       "      <th>2017-12-12</th>\n",
       "      <th>2017-12-13</th>\n",
       "      <th>2017-12-14</th>\n",
       "      <th>2017-12-15</th>\n",
       "      <th>2017-12-16</th>\n",
       "      <th>2017-12-17</th>\n",
       "      <th>2017-12-18</th>\n",
       "      <th>2017-12-19</th>\n",
       "      <th>2017-12-20</th>\n",
       "      <th>2017-12-21</th>\n",
       "      <th>2017-12-22</th>\n",
       "      <th>2017-12-23</th>\n",
       "      <th>2017-12-24</th>\n",
       "      <th>2017-12-25</th>\n",
       "      <th>2017-12-26</th>\n",
       "      <th>2017-12-27</th>\n",
       "      <th>2017-12-28</th>\n",
       "      <th>2017-12-29</th>\n",
       "      <th>2017-12-30</th>\n",
       "      <th>2017-12-31</th>\n",
       "    </tr>\n",
       "  </thead>\n",
       "  <tbody>\n",
       "    <tr>\n",
       "      <th>0</th>\n",
       "      <td>0xa62b9f23553ff183f61e2bf943aab3d5983d02d7</td>\n",
       "      <td>NaN</td>\n",
       "      <td>NaN</td>\n",
       "      <td>NaN</td>\n",
       "      <td>NaN</td>\n",
       "      <td>NaN</td>\n",
       "      <td>NaN</td>\n",
       "      <td>NaN</td>\n",
       "      <td>NaN</td>\n",
       "      <td>NaN</td>\n",
       "      <td>NaN</td>\n",
       "      <td>NaN</td>\n",
       "      <td>NaN</td>\n",
       "      <td>NaN</td>\n",
       "      <td>NaN</td>\n",
       "      <td>NaN</td>\n",
       "      <td>NaN</td>\n",
       "      <td>NaN</td>\n",
       "      <td>NaN</td>\n",
       "      <td>NaN</td>\n",
       "      <td>NaN</td>\n",
       "      <td>NaN</td>\n",
       "      <td>NaN</td>\n",
       "      <td>NaN</td>\n",
       "      <td>NaN</td>\n",
       "      <td>...</td>\n",
       "      <td>4.471</td>\n",
       "      <td>3.741</td>\n",
       "      <td>NaN</td>\n",
       "      <td>7.224</td>\n",
       "      <td>4.951</td>\n",
       "      <td>NaN</td>\n",
       "      <td>3.442</td>\n",
       "      <td>3.509</td>\n",
       "      <td>4.675</td>\n",
       "      <td>6.131</td>\n",
       "      <td>4.962</td>\n",
       "      <td>3.336</td>\n",
       "      <td>4.318</td>\n",
       "      <td>3.561</td>\n",
       "      <td>4.279</td>\n",
       "      <td>4.030</td>\n",
       "      <td>5.397</td>\n",
       "      <td>NaN</td>\n",
       "      <td>4.818</td>\n",
       "      <td>3.931</td>\n",
       "      <td>NaN</td>\n",
       "      <td>4.503</td>\n",
       "      <td>NaN</td>\n",
       "      <td>5.129</td>\n",
       "      <td>5.395</td>\n",
       "    </tr>\n",
       "    <tr>\n",
       "      <th>1</th>\n",
       "      <td>0x459c834d1f6cfb5b734b82aa9f5410fa97fb70da</td>\n",
       "      <td>NaN</td>\n",
       "      <td>NaN</td>\n",
       "      <td>NaN</td>\n",
       "      <td>NaN</td>\n",
       "      <td>NaN</td>\n",
       "      <td>NaN</td>\n",
       "      <td>NaN</td>\n",
       "      <td>NaN</td>\n",
       "      <td>NaN</td>\n",
       "      <td>NaN</td>\n",
       "      <td>NaN</td>\n",
       "      <td>NaN</td>\n",
       "      <td>NaN</td>\n",
       "      <td>NaN</td>\n",
       "      <td>NaN</td>\n",
       "      <td>NaN</td>\n",
       "      <td>NaN</td>\n",
       "      <td>NaN</td>\n",
       "      <td>NaN</td>\n",
       "      <td>NaN</td>\n",
       "      <td>NaN</td>\n",
       "      <td>NaN</td>\n",
       "      <td>NaN</td>\n",
       "      <td>NaN</td>\n",
       "      <td>...</td>\n",
       "      <td>17.251</td>\n",
       "      <td>23.469</td>\n",
       "      <td>NaN</td>\n",
       "      <td>24.730</td>\n",
       "      <td>24.597</td>\n",
       "      <td>NaN</td>\n",
       "      <td>20.056</td>\n",
       "      <td>22.546</td>\n",
       "      <td>22.333</td>\n",
       "      <td>23.353</td>\n",
       "      <td>22.774</td>\n",
       "      <td>20.229</td>\n",
       "      <td>21.218</td>\n",
       "      <td>15.419</td>\n",
       "      <td>13.475</td>\n",
       "      <td>13.101</td>\n",
       "      <td>14.327</td>\n",
       "      <td>NaN</td>\n",
       "      <td>14.936</td>\n",
       "      <td>16.174</td>\n",
       "      <td>NaN</td>\n",
       "      <td>24.618</td>\n",
       "      <td>NaN</td>\n",
       "      <td>15.167</td>\n",
       "      <td>11.751</td>\n",
       "    </tr>\n",
       "    <tr>\n",
       "      <th>2</th>\n",
       "      <td>0x4a1ed36825360a058cec2bdd409fc2459e1ce54f</td>\n",
       "      <td>NaN</td>\n",
       "      <td>NaN</td>\n",
       "      <td>NaN</td>\n",
       "      <td>NaN</td>\n",
       "      <td>NaN</td>\n",
       "      <td>NaN</td>\n",
       "      <td>NaN</td>\n",
       "      <td>NaN</td>\n",
       "      <td>NaN</td>\n",
       "      <td>NaN</td>\n",
       "      <td>NaN</td>\n",
       "      <td>NaN</td>\n",
       "      <td>NaN</td>\n",
       "      <td>NaN</td>\n",
       "      <td>NaN</td>\n",
       "      <td>NaN</td>\n",
       "      <td>NaN</td>\n",
       "      <td>NaN</td>\n",
       "      <td>NaN</td>\n",
       "      <td>NaN</td>\n",
       "      <td>NaN</td>\n",
       "      <td>NaN</td>\n",
       "      <td>NaN</td>\n",
       "      <td>NaN</td>\n",
       "      <td>...</td>\n",
       "      <td>6.360</td>\n",
       "      <td>18.557</td>\n",
       "      <td>NaN</td>\n",
       "      <td>12.423</td>\n",
       "      <td>18.379</td>\n",
       "      <td>NaN</td>\n",
       "      <td>13.281</td>\n",
       "      <td>13.821</td>\n",
       "      <td>12.755</td>\n",
       "      <td>16.712</td>\n",
       "      <td>12.364</td>\n",
       "      <td>16.055</td>\n",
       "      <td>18.562</td>\n",
       "      <td>10.385</td>\n",
       "      <td>10.917</td>\n",
       "      <td>10.201</td>\n",
       "      <td>7.320</td>\n",
       "      <td>NaN</td>\n",
       "      <td>7.384</td>\n",
       "      <td>14.425</td>\n",
       "      <td>NaN</td>\n",
       "      <td>17.705</td>\n",
       "      <td>NaN</td>\n",
       "      <td>8.966</td>\n",
       "      <td>4.633</td>\n",
       "    </tr>\n",
       "    <tr>\n",
       "      <th>3</th>\n",
       "      <td>0x5b76d3c0e0aefc6e0a8d1d031f96388a23263407</td>\n",
       "      <td>NaN</td>\n",
       "      <td>NaN</td>\n",
       "      <td>NaN</td>\n",
       "      <td>NaN</td>\n",
       "      <td>NaN</td>\n",
       "      <td>NaN</td>\n",
       "      <td>NaN</td>\n",
       "      <td>NaN</td>\n",
       "      <td>NaN</td>\n",
       "      <td>NaN</td>\n",
       "      <td>NaN</td>\n",
       "      <td>NaN</td>\n",
       "      <td>NaN</td>\n",
       "      <td>NaN</td>\n",
       "      <td>NaN</td>\n",
       "      <td>NaN</td>\n",
       "      <td>NaN</td>\n",
       "      <td>NaN</td>\n",
       "      <td>NaN</td>\n",
       "      <td>NaN</td>\n",
       "      <td>NaN</td>\n",
       "      <td>NaN</td>\n",
       "      <td>NaN</td>\n",
       "      <td>NaN</td>\n",
       "      <td>...</td>\n",
       "      <td>14.110</td>\n",
       "      <td>23.315</td>\n",
       "      <td>NaN</td>\n",
       "      <td>19.672</td>\n",
       "      <td>21.023</td>\n",
       "      <td>NaN</td>\n",
       "      <td>19.686</td>\n",
       "      <td>23.435</td>\n",
       "      <td>18.733</td>\n",
       "      <td>22.249</td>\n",
       "      <td>20.755</td>\n",
       "      <td>19.730</td>\n",
       "      <td>21.135</td>\n",
       "      <td>16.526</td>\n",
       "      <td>12.677</td>\n",
       "      <td>14.833</td>\n",
       "      <td>12.477</td>\n",
       "      <td>NaN</td>\n",
       "      <td>10.974</td>\n",
       "      <td>19.646</td>\n",
       "      <td>NaN</td>\n",
       "      <td>23.993</td>\n",
       "      <td>NaN</td>\n",
       "      <td>15.841</td>\n",
       "      <td>14.452</td>\n",
       "    </tr>\n",
       "    <tr>\n",
       "      <th>4</th>\n",
       "      <td>0x943ebe39ef2be6ef807c42c5a647e27112ca5b0f</td>\n",
       "      <td>NaN</td>\n",
       "      <td>NaN</td>\n",
       "      <td>NaN</td>\n",
       "      <td>NaN</td>\n",
       "      <td>NaN</td>\n",
       "      <td>NaN</td>\n",
       "      <td>NaN</td>\n",
       "      <td>NaN</td>\n",
       "      <td>NaN</td>\n",
       "      <td>NaN</td>\n",
       "      <td>NaN</td>\n",
       "      <td>NaN</td>\n",
       "      <td>NaN</td>\n",
       "      <td>NaN</td>\n",
       "      <td>NaN</td>\n",
       "      <td>NaN</td>\n",
       "      <td>NaN</td>\n",
       "      <td>NaN</td>\n",
       "      <td>NaN</td>\n",
       "      <td>NaN</td>\n",
       "      <td>NaN</td>\n",
       "      <td>NaN</td>\n",
       "      <td>NaN</td>\n",
       "      <td>NaN</td>\n",
       "      <td>...</td>\n",
       "      <td>30.507</td>\n",
       "      <td>35.388</td>\n",
       "      <td>NaN</td>\n",
       "      <td>48.607</td>\n",
       "      <td>54.760</td>\n",
       "      <td>NaN</td>\n",
       "      <td>42.703</td>\n",
       "      <td>35.045</td>\n",
       "      <td>38.664</td>\n",
       "      <td>36.790</td>\n",
       "      <td>29.009</td>\n",
       "      <td>42.716</td>\n",
       "      <td>29.052</td>\n",
       "      <td>25.444</td>\n",
       "      <td>28.234</td>\n",
       "      <td>39.440</td>\n",
       "      <td>35.538</td>\n",
       "      <td>NaN</td>\n",
       "      <td>8.351</td>\n",
       "      <td>9.957</td>\n",
       "      <td>NaN</td>\n",
       "      <td>25.871</td>\n",
       "      <td>NaN</td>\n",
       "      <td>46.274</td>\n",
       "      <td>16.901</td>\n",
       "    </tr>\n",
       "    <tr>\n",
       "      <th>...</th>\n",
       "      <td>...</td>\n",
       "      <td>...</td>\n",
       "      <td>...</td>\n",
       "      <td>...</td>\n",
       "      <td>...</td>\n",
       "      <td>...</td>\n",
       "      <td>...</td>\n",
       "      <td>...</td>\n",
       "      <td>...</td>\n",
       "      <td>...</td>\n",
       "      <td>...</td>\n",
       "      <td>...</td>\n",
       "      <td>...</td>\n",
       "      <td>...</td>\n",
       "      <td>...</td>\n",
       "      <td>...</td>\n",
       "      <td>...</td>\n",
       "      <td>...</td>\n",
       "      <td>...</td>\n",
       "      <td>...</td>\n",
       "      <td>...</td>\n",
       "      <td>...</td>\n",
       "      <td>...</td>\n",
       "      <td>...</td>\n",
       "      <td>...</td>\n",
       "      <td>...</td>\n",
       "      <td>...</td>\n",
       "      <td>...</td>\n",
       "      <td>...</td>\n",
       "      <td>...</td>\n",
       "      <td>...</td>\n",
       "      <td>...</td>\n",
       "      <td>...</td>\n",
       "      <td>...</td>\n",
       "      <td>...</td>\n",
       "      <td>...</td>\n",
       "      <td>...</td>\n",
       "      <td>...</td>\n",
       "      <td>...</td>\n",
       "      <td>...</td>\n",
       "      <td>...</td>\n",
       "      <td>...</td>\n",
       "      <td>...</td>\n",
       "      <td>...</td>\n",
       "      <td>...</td>\n",
       "      <td>...</td>\n",
       "      <td>...</td>\n",
       "      <td>...</td>\n",
       "      <td>...</td>\n",
       "      <td>...</td>\n",
       "      <td>...</td>\n",
       "    </tr>\n",
       "    <tr>\n",
       "      <th>3243</th>\n",
       "      <td>0x7dd7a7b8ee1bec7c44b24f738c752482f6161065</td>\n",
       "      <td>2.317</td>\n",
       "      <td>2.301</td>\n",
       "      <td>2.352</td>\n",
       "      <td>2.516</td>\n",
       "      <td>2.229</td>\n",
       "      <td>2.354</td>\n",
       "      <td>2.397</td>\n",
       "      <td>2.397</td>\n",
       "      <td>2.269</td>\n",
       "      <td>NaN</td>\n",
       "      <td>2.339</td>\n",
       "      <td>2.212</td>\n",
       "      <td>2.456</td>\n",
       "      <td>2.229</td>\n",
       "      <td>2.503</td>\n",
       "      <td>2.207</td>\n",
       "      <td>2.469</td>\n",
       "      <td>2.266</td>\n",
       "      <td>2.321</td>\n",
       "      <td>2.262</td>\n",
       "      <td>2.286</td>\n",
       "      <td>2.384</td>\n",
       "      <td>2.319</td>\n",
       "      <td>2.289</td>\n",
       "      <td>...</td>\n",
       "      <td>9.675</td>\n",
       "      <td>9.976</td>\n",
       "      <td>NaN</td>\n",
       "      <td>10.635</td>\n",
       "      <td>10.650</td>\n",
       "      <td>NaN</td>\n",
       "      <td>10.149</td>\n",
       "      <td>10.112</td>\n",
       "      <td>10.632</td>\n",
       "      <td>10.566</td>\n",
       "      <td>10.732</td>\n",
       "      <td>10.615</td>\n",
       "      <td>10.386</td>\n",
       "      <td>9.936</td>\n",
       "      <td>9.625</td>\n",
       "      <td>9.390</td>\n",
       "      <td>9.231</td>\n",
       "      <td>NaN</td>\n",
       "      <td>9.216</td>\n",
       "      <td>9.336</td>\n",
       "      <td>NaN</td>\n",
       "      <td>10.032</td>\n",
       "      <td>NaN</td>\n",
       "      <td>9.757</td>\n",
       "      <td>9.480</td>\n",
       "    </tr>\n",
       "    <tr>\n",
       "      <th>3244</th>\n",
       "      <td>0xfdaf9f857621ec06f2cf801f42a020a322835090</td>\n",
       "      <td>14.437</td>\n",
       "      <td>16.274</td>\n",
       "      <td>7.031</td>\n",
       "      <td>17.018</td>\n",
       "      <td>17.603</td>\n",
       "      <td>15.005</td>\n",
       "      <td>8.987</td>\n",
       "      <td>8.490</td>\n",
       "      <td>10.136</td>\n",
       "      <td>NaN</td>\n",
       "      <td>10.466</td>\n",
       "      <td>8.177</td>\n",
       "      <td>11.929</td>\n",
       "      <td>8.261</td>\n",
       "      <td>12.369</td>\n",
       "      <td>14.352</td>\n",
       "      <td>14.058</td>\n",
       "      <td>10.472</td>\n",
       "      <td>17.396</td>\n",
       "      <td>9.879</td>\n",
       "      <td>21.971</td>\n",
       "      <td>12.708</td>\n",
       "      <td>15.327</td>\n",
       "      <td>8.309</td>\n",
       "      <td>...</td>\n",
       "      <td>3.598</td>\n",
       "      <td>5.862</td>\n",
       "      <td>NaN</td>\n",
       "      <td>7.770</td>\n",
       "      <td>5.091</td>\n",
       "      <td>NaN</td>\n",
       "      <td>6.109</td>\n",
       "      <td>5.056</td>\n",
       "      <td>3.972</td>\n",
       "      <td>3.458</td>\n",
       "      <td>7.793</td>\n",
       "      <td>9.837</td>\n",
       "      <td>8.697</td>\n",
       "      <td>5.079</td>\n",
       "      <td>6.031</td>\n",
       "      <td>4.141</td>\n",
       "      <td>2.828</td>\n",
       "      <td>NaN</td>\n",
       "      <td>4.818</td>\n",
       "      <td>3.357</td>\n",
       "      <td>NaN</td>\n",
       "      <td>12.906</td>\n",
       "      <td>NaN</td>\n",
       "      <td>3.122</td>\n",
       "      <td>3.401</td>\n",
       "    </tr>\n",
       "    <tr>\n",
       "      <th>3245</th>\n",
       "      <td>0xd28f2f001e0cd4d6c121a3cb2e1427207e170e18</td>\n",
       "      <td>7.824</td>\n",
       "      <td>7.517</td>\n",
       "      <td>5.398</td>\n",
       "      <td>6.788</td>\n",
       "      <td>7.360</td>\n",
       "      <td>6.898</td>\n",
       "      <td>7.321</td>\n",
       "      <td>8.042</td>\n",
       "      <td>8.207</td>\n",
       "      <td>NaN</td>\n",
       "      <td>5.464</td>\n",
       "      <td>7.545</td>\n",
       "      <td>6.432</td>\n",
       "      <td>6.001</td>\n",
       "      <td>5.558</td>\n",
       "      <td>6.391</td>\n",
       "      <td>6.066</td>\n",
       "      <td>6.443</td>\n",
       "      <td>6.675</td>\n",
       "      <td>7.363</td>\n",
       "      <td>7.269</td>\n",
       "      <td>7.183</td>\n",
       "      <td>7.102</td>\n",
       "      <td>NaN</td>\n",
       "      <td>...</td>\n",
       "      <td>5.735</td>\n",
       "      <td>7.241</td>\n",
       "      <td>NaN</td>\n",
       "      <td>5.695</td>\n",
       "      <td>8.143</td>\n",
       "      <td>NaN</td>\n",
       "      <td>6.993</td>\n",
       "      <td>6.451</td>\n",
       "      <td>7.629</td>\n",
       "      <td>6.880</td>\n",
       "      <td>5.960</td>\n",
       "      <td>6.231</td>\n",
       "      <td>5.748</td>\n",
       "      <td>5.259</td>\n",
       "      <td>5.258</td>\n",
       "      <td>6.767</td>\n",
       "      <td>5.919</td>\n",
       "      <td>NaN</td>\n",
       "      <td>6.077</td>\n",
       "      <td>7.761</td>\n",
       "      <td>NaN</td>\n",
       "      <td>5.455</td>\n",
       "      <td>NaN</td>\n",
       "      <td>5.679</td>\n",
       "      <td>8.148</td>\n",
       "    </tr>\n",
       "    <tr>\n",
       "      <th>3246</th>\n",
       "      <td>0x47218b46abb2fcaade487a211911406dc6e13730</td>\n",
       "      <td>23.965</td>\n",
       "      <td>28.689</td>\n",
       "      <td>27.664</td>\n",
       "      <td>29.229</td>\n",
       "      <td>29.548</td>\n",
       "      <td>27.909</td>\n",
       "      <td>26.923</td>\n",
       "      <td>21.277</td>\n",
       "      <td>23.452</td>\n",
       "      <td>NaN</td>\n",
       "      <td>25.924</td>\n",
       "      <td>26.834</td>\n",
       "      <td>30.346</td>\n",
       "      <td>30.367</td>\n",
       "      <td>26.135</td>\n",
       "      <td>26.842</td>\n",
       "      <td>25.588</td>\n",
       "      <td>30.267</td>\n",
       "      <td>28.921</td>\n",
       "      <td>27.530</td>\n",
       "      <td>28.424</td>\n",
       "      <td>28.961</td>\n",
       "      <td>29.346</td>\n",
       "      <td>28.640</td>\n",
       "      <td>...</td>\n",
       "      <td>23.870</td>\n",
       "      <td>28.726</td>\n",
       "      <td>NaN</td>\n",
       "      <td>29.844</td>\n",
       "      <td>31.899</td>\n",
       "      <td>NaN</td>\n",
       "      <td>30.039</td>\n",
       "      <td>30.470</td>\n",
       "      <td>30.044</td>\n",
       "      <td>28.617</td>\n",
       "      <td>31.578</td>\n",
       "      <td>31.481</td>\n",
       "      <td>32.123</td>\n",
       "      <td>29.524</td>\n",
       "      <td>22.586</td>\n",
       "      <td>20.747</td>\n",
       "      <td>19.979</td>\n",
       "      <td>NaN</td>\n",
       "      <td>20.406</td>\n",
       "      <td>23.668</td>\n",
       "      <td>NaN</td>\n",
       "      <td>31.912</td>\n",
       "      <td>NaN</td>\n",
       "      <td>26.313</td>\n",
       "      <td>24.201</td>\n",
       "    </tr>\n",
       "    <tr>\n",
       "      <th>3247</th>\n",
       "      <td>0xcd19e6fe3d887bc5dcac7ca18d46199695463fdd</td>\n",
       "      <td>11.302</td>\n",
       "      <td>14.178</td>\n",
       "      <td>15.499</td>\n",
       "      <td>11.853</td>\n",
       "      <td>17.431</td>\n",
       "      <td>14.506</td>\n",
       "      <td>12.812</td>\n",
       "      <td>10.472</td>\n",
       "      <td>10.879</td>\n",
       "      <td>NaN</td>\n",
       "      <td>9.826</td>\n",
       "      <td>11.969</td>\n",
       "      <td>14.236</td>\n",
       "      <td>15.300</td>\n",
       "      <td>14.199</td>\n",
       "      <td>9.955</td>\n",
       "      <td>16.184</td>\n",
       "      <td>15.341</td>\n",
       "      <td>14.343</td>\n",
       "      <td>17.231</td>\n",
       "      <td>10.636</td>\n",
       "      <td>17.707</td>\n",
       "      <td>15.851</td>\n",
       "      <td>13.311</td>\n",
       "      <td>...</td>\n",
       "      <td>18.506</td>\n",
       "      <td>24.904</td>\n",
       "      <td>NaN</td>\n",
       "      <td>34.299</td>\n",
       "      <td>28.132</td>\n",
       "      <td>NaN</td>\n",
       "      <td>35.054</td>\n",
       "      <td>35.282</td>\n",
       "      <td>28.412</td>\n",
       "      <td>40.251</td>\n",
       "      <td>30.084</td>\n",
       "      <td>26.058</td>\n",
       "      <td>27.873</td>\n",
       "      <td>21.999</td>\n",
       "      <td>26.232</td>\n",
       "      <td>14.036</td>\n",
       "      <td>15.990</td>\n",
       "      <td>NaN</td>\n",
       "      <td>15.111</td>\n",
       "      <td>16.506</td>\n",
       "      <td>NaN</td>\n",
       "      <td>21.011</td>\n",
       "      <td>NaN</td>\n",
       "      <td>17.397</td>\n",
       "      <td>15.237</td>\n",
       "    </tr>\n",
       "  </tbody>\n",
       "</table>\n",
       "<p>3248 rows × 366 columns</p>\n",
       "</div>"
      ],
      "text/plain": [
       "                                        meter_id  2017-01-01  2017-01-02  \\\n",
       "0     0xa62b9f23553ff183f61e2bf943aab3d5983d02d7         NaN         NaN   \n",
       "1     0x459c834d1f6cfb5b734b82aa9f5410fa97fb70da         NaN         NaN   \n",
       "2     0x4a1ed36825360a058cec2bdd409fc2459e1ce54f         NaN         NaN   \n",
       "3     0x5b76d3c0e0aefc6e0a8d1d031f96388a23263407         NaN         NaN   \n",
       "4     0x943ebe39ef2be6ef807c42c5a647e27112ca5b0f         NaN         NaN   \n",
       "...                                          ...         ...         ...   \n",
       "3243  0x7dd7a7b8ee1bec7c44b24f738c752482f6161065       2.317       2.301   \n",
       "3244  0xfdaf9f857621ec06f2cf801f42a020a322835090      14.437      16.274   \n",
       "3245  0xd28f2f001e0cd4d6c121a3cb2e1427207e170e18       7.824       7.517   \n",
       "3246  0x47218b46abb2fcaade487a211911406dc6e13730      23.965      28.689   \n",
       "3247  0xcd19e6fe3d887bc5dcac7ca18d46199695463fdd      11.302      14.178   \n",
       "\n",
       "      2017-01-03  2017-01-04  2017-01-05  2017-01-06  2017-01-07  2017-01-08  \\\n",
       "0            NaN         NaN         NaN         NaN         NaN         NaN   \n",
       "1            NaN         NaN         NaN         NaN         NaN         NaN   \n",
       "2            NaN         NaN         NaN         NaN         NaN         NaN   \n",
       "3            NaN         NaN         NaN         NaN         NaN         NaN   \n",
       "4            NaN         NaN         NaN         NaN         NaN         NaN   \n",
       "...          ...         ...         ...         ...         ...         ...   \n",
       "3243       2.352       2.516       2.229       2.354       2.397       2.397   \n",
       "3244       7.031      17.018      17.603      15.005       8.987       8.490   \n",
       "3245       5.398       6.788       7.360       6.898       7.321       8.042   \n",
       "3246      27.664      29.229      29.548      27.909      26.923      21.277   \n",
       "3247      15.499      11.853      17.431      14.506      12.812      10.472   \n",
       "\n",
       "      2017-01-09  2017-01-10  2017-01-11  2017-01-12  2017-01-13  2017-01-14  \\\n",
       "0            NaN         NaN         NaN         NaN         NaN         NaN   \n",
       "1            NaN         NaN         NaN         NaN         NaN         NaN   \n",
       "2            NaN         NaN         NaN         NaN         NaN         NaN   \n",
       "3            NaN         NaN         NaN         NaN         NaN         NaN   \n",
       "4            NaN         NaN         NaN         NaN         NaN         NaN   \n",
       "...          ...         ...         ...         ...         ...         ...   \n",
       "3243       2.269         NaN       2.339       2.212       2.456       2.229   \n",
       "3244      10.136         NaN      10.466       8.177      11.929       8.261   \n",
       "3245       8.207         NaN       5.464       7.545       6.432       6.001   \n",
       "3246      23.452         NaN      25.924      26.834      30.346      30.367   \n",
       "3247      10.879         NaN       9.826      11.969      14.236      15.300   \n",
       "\n",
       "      2017-01-15  2017-01-16  2017-01-17  2017-01-18  2017-01-19  2017-01-20  \\\n",
       "0            NaN         NaN         NaN         NaN         NaN         NaN   \n",
       "1            NaN         NaN         NaN         NaN         NaN         NaN   \n",
       "2            NaN         NaN         NaN         NaN         NaN         NaN   \n",
       "3            NaN         NaN         NaN         NaN         NaN         NaN   \n",
       "4            NaN         NaN         NaN         NaN         NaN         NaN   \n",
       "...          ...         ...         ...         ...         ...         ...   \n",
       "3243       2.503       2.207       2.469       2.266       2.321       2.262   \n",
       "3244      12.369      14.352      14.058      10.472      17.396       9.879   \n",
       "3245       5.558       6.391       6.066       6.443       6.675       7.363   \n",
       "3246      26.135      26.842      25.588      30.267      28.921      27.530   \n",
       "3247      14.199       9.955      16.184      15.341      14.343      17.231   \n",
       "\n",
       "      2017-01-21  2017-01-22  2017-01-23  2017-01-24  ...  2017-12-07  \\\n",
       "0            NaN         NaN         NaN         NaN  ...       4.471   \n",
       "1            NaN         NaN         NaN         NaN  ...      17.251   \n",
       "2            NaN         NaN         NaN         NaN  ...       6.360   \n",
       "3            NaN         NaN         NaN         NaN  ...      14.110   \n",
       "4            NaN         NaN         NaN         NaN  ...      30.507   \n",
       "...          ...         ...         ...         ...  ...         ...   \n",
       "3243       2.286       2.384       2.319       2.289  ...       9.675   \n",
       "3244      21.971      12.708      15.327       8.309  ...       3.598   \n",
       "3245       7.269       7.183       7.102         NaN  ...       5.735   \n",
       "3246      28.424      28.961      29.346      28.640  ...      23.870   \n",
       "3247      10.636      17.707      15.851      13.311  ...      18.506   \n",
       "\n",
       "      2017-12-08  2017-12-09  2017-12-10  2017-12-11  2017-12-12  2017-12-13  \\\n",
       "0          3.741         NaN       7.224       4.951         NaN       3.442   \n",
       "1         23.469         NaN      24.730      24.597         NaN      20.056   \n",
       "2         18.557         NaN      12.423      18.379         NaN      13.281   \n",
       "3         23.315         NaN      19.672      21.023         NaN      19.686   \n",
       "4         35.388         NaN      48.607      54.760         NaN      42.703   \n",
       "...          ...         ...         ...         ...         ...         ...   \n",
       "3243       9.976         NaN      10.635      10.650         NaN      10.149   \n",
       "3244       5.862         NaN       7.770       5.091         NaN       6.109   \n",
       "3245       7.241         NaN       5.695       8.143         NaN       6.993   \n",
       "3246      28.726         NaN      29.844      31.899         NaN      30.039   \n",
       "3247      24.904         NaN      34.299      28.132         NaN      35.054   \n",
       "\n",
       "      2017-12-14  2017-12-15  2017-12-16  2017-12-17  2017-12-18  2017-12-19  \\\n",
       "0          3.509       4.675       6.131       4.962       3.336       4.318   \n",
       "1         22.546      22.333      23.353      22.774      20.229      21.218   \n",
       "2         13.821      12.755      16.712      12.364      16.055      18.562   \n",
       "3         23.435      18.733      22.249      20.755      19.730      21.135   \n",
       "4         35.045      38.664      36.790      29.009      42.716      29.052   \n",
       "...          ...         ...         ...         ...         ...         ...   \n",
       "3243      10.112      10.632      10.566      10.732      10.615      10.386   \n",
       "3244       5.056       3.972       3.458       7.793       9.837       8.697   \n",
       "3245       6.451       7.629       6.880       5.960       6.231       5.748   \n",
       "3246      30.470      30.044      28.617      31.578      31.481      32.123   \n",
       "3247      35.282      28.412      40.251      30.084      26.058      27.873   \n",
       "\n",
       "      2017-12-20  2017-12-21  2017-12-22  2017-12-23  2017-12-24  2017-12-25  \\\n",
       "0          3.561       4.279       4.030       5.397         NaN       4.818   \n",
       "1         15.419      13.475      13.101      14.327         NaN      14.936   \n",
       "2         10.385      10.917      10.201       7.320         NaN       7.384   \n",
       "3         16.526      12.677      14.833      12.477         NaN      10.974   \n",
       "4         25.444      28.234      39.440      35.538         NaN       8.351   \n",
       "...          ...         ...         ...         ...         ...         ...   \n",
       "3243       9.936       9.625       9.390       9.231         NaN       9.216   \n",
       "3244       5.079       6.031       4.141       2.828         NaN       4.818   \n",
       "3245       5.259       5.258       6.767       5.919         NaN       6.077   \n",
       "3246      29.524      22.586      20.747      19.979         NaN      20.406   \n",
       "3247      21.999      26.232      14.036      15.990         NaN      15.111   \n",
       "\n",
       "      2017-12-26  2017-12-27  2017-12-28  2017-12-29  2017-12-30  2017-12-31  \n",
       "0          3.931         NaN       4.503         NaN       5.129       5.395  \n",
       "1         16.174         NaN      24.618         NaN      15.167      11.751  \n",
       "2         14.425         NaN      17.705         NaN       8.966       4.633  \n",
       "3         19.646         NaN      23.993         NaN      15.841      14.452  \n",
       "4          9.957         NaN      25.871         NaN      46.274      16.901  \n",
       "...          ...         ...         ...         ...         ...         ...  \n",
       "3243       9.336         NaN      10.032         NaN       9.757       9.480  \n",
       "3244       3.357         NaN      12.906         NaN       3.122       3.401  \n",
       "3245       7.761         NaN       5.455         NaN       5.679       8.148  \n",
       "3246      23.668         NaN      31.912         NaN      26.313      24.201  \n",
       "3247      16.506         NaN      21.011         NaN      17.397      15.237  \n",
       "\n",
       "[3248 rows x 366 columns]"
      ]
     },
     "execution_count": 11,
     "metadata": {},
     "output_type": "execute_result"
    }
   ],
   "source": [
    "df_energy_daily"
   ]
  },
  {
   "cell_type": "code",
   "execution_count": 12,
   "metadata": {},
   "outputs": [
    {
     "data": {
      "application/vnd.jupyter.widget-view+json": {
       "model_id": "4a3a1d76c3e64e04a6c16d9f591be640",
       "version_major": 2,
       "version_minor": 0
      },
      "text/plain": [
       "  0%|          | 0/365 [00:00<?, ?it/s]"
      ]
     },
     "metadata": {},
     "output_type": "display_data"
    }
   ],
   "source": [
    "# resampling the original data into a daily value setting days that ignores missing and still sums the day \n",
    "df_energy_daily_with_missing = resample_to_different_time(df_energy, \"consumption_daily_nan_ignored\",\"D\",\"ignore\")"
   ]
  },
  {
   "cell_type": "code",
   "execution_count": 13,
   "metadata": {},
   "outputs": [
    {
     "data": {
      "text/html": [
       "<div>\n",
       "<style scoped>\n",
       "    .dataframe tbody tr th:only-of-type {\n",
       "        vertical-align: middle;\n",
       "    }\n",
       "\n",
       "    .dataframe tbody tr th {\n",
       "        vertical-align: top;\n",
       "    }\n",
       "\n",
       "    .dataframe thead th {\n",
       "        text-align: right;\n",
       "    }\n",
       "</style>\n",
       "<table border=\"1\" class=\"dataframe\">\n",
       "  <thead>\n",
       "    <tr style=\"text-align: right;\">\n",
       "      <th></th>\n",
       "      <th>meter_id</th>\n",
       "      <th>2017-01-01</th>\n",
       "      <th>2017-01-02</th>\n",
       "      <th>2017-01-03</th>\n",
       "      <th>2017-01-04</th>\n",
       "      <th>2017-01-05</th>\n",
       "      <th>2017-01-06</th>\n",
       "      <th>2017-01-07</th>\n",
       "      <th>2017-01-08</th>\n",
       "      <th>2017-01-09</th>\n",
       "      <th>2017-01-10</th>\n",
       "      <th>2017-01-11</th>\n",
       "      <th>2017-01-12</th>\n",
       "      <th>2017-01-13</th>\n",
       "      <th>2017-01-14</th>\n",
       "      <th>2017-01-15</th>\n",
       "      <th>2017-01-16</th>\n",
       "      <th>2017-01-17</th>\n",
       "      <th>2017-01-18</th>\n",
       "      <th>2017-01-19</th>\n",
       "      <th>2017-01-20</th>\n",
       "      <th>2017-01-21</th>\n",
       "      <th>2017-01-22</th>\n",
       "      <th>2017-01-23</th>\n",
       "      <th>2017-01-24</th>\n",
       "      <th>...</th>\n",
       "      <th>2017-12-07</th>\n",
       "      <th>2017-12-08</th>\n",
       "      <th>2017-12-09</th>\n",
       "      <th>2017-12-10</th>\n",
       "      <th>2017-12-11</th>\n",
       "      <th>2017-12-12</th>\n",
       "      <th>2017-12-13</th>\n",
       "      <th>2017-12-14</th>\n",
       "      <th>2017-12-15</th>\n",
       "      <th>2017-12-16</th>\n",
       "      <th>2017-12-17</th>\n",
       "      <th>2017-12-18</th>\n",
       "      <th>2017-12-19</th>\n",
       "      <th>2017-12-20</th>\n",
       "      <th>2017-12-21</th>\n",
       "      <th>2017-12-22</th>\n",
       "      <th>2017-12-23</th>\n",
       "      <th>2017-12-24</th>\n",
       "      <th>2017-12-25</th>\n",
       "      <th>2017-12-26</th>\n",
       "      <th>2017-12-27</th>\n",
       "      <th>2017-12-28</th>\n",
       "      <th>2017-12-29</th>\n",
       "      <th>2017-12-30</th>\n",
       "      <th>2017-12-31</th>\n",
       "    </tr>\n",
       "  </thead>\n",
       "  <tbody>\n",
       "    <tr>\n",
       "      <th>0</th>\n",
       "      <td>0xa62b9f23553ff183f61e2bf943aab3d5983d02d7</td>\n",
       "      <td>0.000</td>\n",
       "      <td>0.000</td>\n",
       "      <td>0.000</td>\n",
       "      <td>0.000</td>\n",
       "      <td>0.000</td>\n",
       "      <td>0.000</td>\n",
       "      <td>0.000</td>\n",
       "      <td>0.000</td>\n",
       "      <td>0.000</td>\n",
       "      <td>0.0</td>\n",
       "      <td>0.000</td>\n",
       "      <td>0.000</td>\n",
       "      <td>0.000</td>\n",
       "      <td>0.000</td>\n",
       "      <td>0.000</td>\n",
       "      <td>0.000</td>\n",
       "      <td>0.000</td>\n",
       "      <td>0.000</td>\n",
       "      <td>0.000</td>\n",
       "      <td>0.000</td>\n",
       "      <td>0.000</td>\n",
       "      <td>0.000</td>\n",
       "      <td>0.000</td>\n",
       "      <td>0.000</td>\n",
       "      <td>...</td>\n",
       "      <td>4.471</td>\n",
       "      <td>3.741</td>\n",
       "      <td>0.0</td>\n",
       "      <td>7.224</td>\n",
       "      <td>4.951</td>\n",
       "      <td>0.0</td>\n",
       "      <td>3.442</td>\n",
       "      <td>3.509</td>\n",
       "      <td>4.675</td>\n",
       "      <td>6.131</td>\n",
       "      <td>4.962</td>\n",
       "      <td>3.336</td>\n",
       "      <td>4.318</td>\n",
       "      <td>3.561</td>\n",
       "      <td>4.279</td>\n",
       "      <td>4.030</td>\n",
       "      <td>5.397</td>\n",
       "      <td>0.0</td>\n",
       "      <td>4.818</td>\n",
       "      <td>3.931</td>\n",
       "      <td>0.0</td>\n",
       "      <td>4.503</td>\n",
       "      <td>0.0</td>\n",
       "      <td>5.129</td>\n",
       "      <td>5.395</td>\n",
       "    </tr>\n",
       "    <tr>\n",
       "      <th>1</th>\n",
       "      <td>0x459c834d1f6cfb5b734b82aa9f5410fa97fb70da</td>\n",
       "      <td>0.000</td>\n",
       "      <td>0.000</td>\n",
       "      <td>0.000</td>\n",
       "      <td>0.000</td>\n",
       "      <td>0.000</td>\n",
       "      <td>0.000</td>\n",
       "      <td>0.000</td>\n",
       "      <td>0.000</td>\n",
       "      <td>0.000</td>\n",
       "      <td>0.0</td>\n",
       "      <td>0.000</td>\n",
       "      <td>0.000</td>\n",
       "      <td>0.000</td>\n",
       "      <td>0.000</td>\n",
       "      <td>0.000</td>\n",
       "      <td>0.000</td>\n",
       "      <td>0.000</td>\n",
       "      <td>0.000</td>\n",
       "      <td>0.000</td>\n",
       "      <td>0.000</td>\n",
       "      <td>0.000</td>\n",
       "      <td>0.000</td>\n",
       "      <td>0.000</td>\n",
       "      <td>0.000</td>\n",
       "      <td>...</td>\n",
       "      <td>17.251</td>\n",
       "      <td>23.469</td>\n",
       "      <td>0.0</td>\n",
       "      <td>24.730</td>\n",
       "      <td>24.597</td>\n",
       "      <td>0.0</td>\n",
       "      <td>20.056</td>\n",
       "      <td>22.546</td>\n",
       "      <td>22.333</td>\n",
       "      <td>23.353</td>\n",
       "      <td>22.774</td>\n",
       "      <td>20.229</td>\n",
       "      <td>21.218</td>\n",
       "      <td>15.419</td>\n",
       "      <td>13.475</td>\n",
       "      <td>13.101</td>\n",
       "      <td>14.327</td>\n",
       "      <td>0.0</td>\n",
       "      <td>14.936</td>\n",
       "      <td>16.174</td>\n",
       "      <td>0.0</td>\n",
       "      <td>24.618</td>\n",
       "      <td>0.0</td>\n",
       "      <td>15.167</td>\n",
       "      <td>11.751</td>\n",
       "    </tr>\n",
       "    <tr>\n",
       "      <th>2</th>\n",
       "      <td>0x4a1ed36825360a058cec2bdd409fc2459e1ce54f</td>\n",
       "      <td>0.000</td>\n",
       "      <td>0.000</td>\n",
       "      <td>0.000</td>\n",
       "      <td>0.000</td>\n",
       "      <td>0.000</td>\n",
       "      <td>0.000</td>\n",
       "      <td>0.000</td>\n",
       "      <td>0.000</td>\n",
       "      <td>0.000</td>\n",
       "      <td>0.0</td>\n",
       "      <td>0.000</td>\n",
       "      <td>0.000</td>\n",
       "      <td>0.000</td>\n",
       "      <td>0.000</td>\n",
       "      <td>0.000</td>\n",
       "      <td>0.000</td>\n",
       "      <td>0.000</td>\n",
       "      <td>0.000</td>\n",
       "      <td>0.000</td>\n",
       "      <td>0.000</td>\n",
       "      <td>0.000</td>\n",
       "      <td>0.000</td>\n",
       "      <td>0.000</td>\n",
       "      <td>0.000</td>\n",
       "      <td>...</td>\n",
       "      <td>6.360</td>\n",
       "      <td>18.557</td>\n",
       "      <td>0.0</td>\n",
       "      <td>12.423</td>\n",
       "      <td>18.379</td>\n",
       "      <td>0.0</td>\n",
       "      <td>13.281</td>\n",
       "      <td>13.821</td>\n",
       "      <td>12.755</td>\n",
       "      <td>16.712</td>\n",
       "      <td>12.364</td>\n",
       "      <td>16.055</td>\n",
       "      <td>18.562</td>\n",
       "      <td>10.385</td>\n",
       "      <td>10.917</td>\n",
       "      <td>10.201</td>\n",
       "      <td>7.320</td>\n",
       "      <td>0.0</td>\n",
       "      <td>7.384</td>\n",
       "      <td>14.425</td>\n",
       "      <td>0.0</td>\n",
       "      <td>17.705</td>\n",
       "      <td>0.0</td>\n",
       "      <td>8.966</td>\n",
       "      <td>4.633</td>\n",
       "    </tr>\n",
       "    <tr>\n",
       "      <th>3</th>\n",
       "      <td>0x5b76d3c0e0aefc6e0a8d1d031f96388a23263407</td>\n",
       "      <td>0.000</td>\n",
       "      <td>0.000</td>\n",
       "      <td>0.000</td>\n",
       "      <td>0.000</td>\n",
       "      <td>0.000</td>\n",
       "      <td>0.000</td>\n",
       "      <td>0.000</td>\n",
       "      <td>0.000</td>\n",
       "      <td>0.000</td>\n",
       "      <td>0.0</td>\n",
       "      <td>0.000</td>\n",
       "      <td>0.000</td>\n",
       "      <td>0.000</td>\n",
       "      <td>0.000</td>\n",
       "      <td>0.000</td>\n",
       "      <td>0.000</td>\n",
       "      <td>0.000</td>\n",
       "      <td>0.000</td>\n",
       "      <td>0.000</td>\n",
       "      <td>0.000</td>\n",
       "      <td>0.000</td>\n",
       "      <td>0.000</td>\n",
       "      <td>0.000</td>\n",
       "      <td>0.000</td>\n",
       "      <td>...</td>\n",
       "      <td>14.110</td>\n",
       "      <td>23.315</td>\n",
       "      <td>0.0</td>\n",
       "      <td>19.672</td>\n",
       "      <td>21.023</td>\n",
       "      <td>0.0</td>\n",
       "      <td>19.686</td>\n",
       "      <td>23.435</td>\n",
       "      <td>18.733</td>\n",
       "      <td>22.249</td>\n",
       "      <td>20.755</td>\n",
       "      <td>19.730</td>\n",
       "      <td>21.135</td>\n",
       "      <td>16.526</td>\n",
       "      <td>12.677</td>\n",
       "      <td>14.833</td>\n",
       "      <td>12.477</td>\n",
       "      <td>0.0</td>\n",
       "      <td>10.974</td>\n",
       "      <td>19.646</td>\n",
       "      <td>0.0</td>\n",
       "      <td>23.993</td>\n",
       "      <td>0.0</td>\n",
       "      <td>15.841</td>\n",
       "      <td>14.452</td>\n",
       "    </tr>\n",
       "    <tr>\n",
       "      <th>4</th>\n",
       "      <td>0x943ebe39ef2be6ef807c42c5a647e27112ca5b0f</td>\n",
       "      <td>0.000</td>\n",
       "      <td>0.000</td>\n",
       "      <td>0.000</td>\n",
       "      <td>0.000</td>\n",
       "      <td>0.000</td>\n",
       "      <td>0.000</td>\n",
       "      <td>0.000</td>\n",
       "      <td>0.000</td>\n",
       "      <td>0.000</td>\n",
       "      <td>0.0</td>\n",
       "      <td>0.000</td>\n",
       "      <td>0.000</td>\n",
       "      <td>0.000</td>\n",
       "      <td>0.000</td>\n",
       "      <td>0.000</td>\n",
       "      <td>0.000</td>\n",
       "      <td>0.000</td>\n",
       "      <td>0.000</td>\n",
       "      <td>0.000</td>\n",
       "      <td>0.000</td>\n",
       "      <td>0.000</td>\n",
       "      <td>0.000</td>\n",
       "      <td>0.000</td>\n",
       "      <td>0.000</td>\n",
       "      <td>...</td>\n",
       "      <td>30.507</td>\n",
       "      <td>35.388</td>\n",
       "      <td>0.0</td>\n",
       "      <td>48.607</td>\n",
       "      <td>54.760</td>\n",
       "      <td>0.0</td>\n",
       "      <td>42.703</td>\n",
       "      <td>35.045</td>\n",
       "      <td>38.664</td>\n",
       "      <td>36.790</td>\n",
       "      <td>29.009</td>\n",
       "      <td>42.716</td>\n",
       "      <td>29.052</td>\n",
       "      <td>25.444</td>\n",
       "      <td>28.234</td>\n",
       "      <td>39.440</td>\n",
       "      <td>35.538</td>\n",
       "      <td>0.0</td>\n",
       "      <td>8.351</td>\n",
       "      <td>9.957</td>\n",
       "      <td>0.0</td>\n",
       "      <td>25.871</td>\n",
       "      <td>0.0</td>\n",
       "      <td>46.274</td>\n",
       "      <td>16.901</td>\n",
       "    </tr>\n",
       "    <tr>\n",
       "      <th>...</th>\n",
       "      <td>...</td>\n",
       "      <td>...</td>\n",
       "      <td>...</td>\n",
       "      <td>...</td>\n",
       "      <td>...</td>\n",
       "      <td>...</td>\n",
       "      <td>...</td>\n",
       "      <td>...</td>\n",
       "      <td>...</td>\n",
       "      <td>...</td>\n",
       "      <td>...</td>\n",
       "      <td>...</td>\n",
       "      <td>...</td>\n",
       "      <td>...</td>\n",
       "      <td>...</td>\n",
       "      <td>...</td>\n",
       "      <td>...</td>\n",
       "      <td>...</td>\n",
       "      <td>...</td>\n",
       "      <td>...</td>\n",
       "      <td>...</td>\n",
       "      <td>...</td>\n",
       "      <td>...</td>\n",
       "      <td>...</td>\n",
       "      <td>...</td>\n",
       "      <td>...</td>\n",
       "      <td>...</td>\n",
       "      <td>...</td>\n",
       "      <td>...</td>\n",
       "      <td>...</td>\n",
       "      <td>...</td>\n",
       "      <td>...</td>\n",
       "      <td>...</td>\n",
       "      <td>...</td>\n",
       "      <td>...</td>\n",
       "      <td>...</td>\n",
       "      <td>...</td>\n",
       "      <td>...</td>\n",
       "      <td>...</td>\n",
       "      <td>...</td>\n",
       "      <td>...</td>\n",
       "      <td>...</td>\n",
       "      <td>...</td>\n",
       "      <td>...</td>\n",
       "      <td>...</td>\n",
       "      <td>...</td>\n",
       "      <td>...</td>\n",
       "      <td>...</td>\n",
       "      <td>...</td>\n",
       "      <td>...</td>\n",
       "      <td>...</td>\n",
       "    </tr>\n",
       "    <tr>\n",
       "      <th>3243</th>\n",
       "      <td>0x7dd7a7b8ee1bec7c44b24f738c752482f6161065</td>\n",
       "      <td>2.317</td>\n",
       "      <td>2.301</td>\n",
       "      <td>2.352</td>\n",
       "      <td>2.516</td>\n",
       "      <td>2.229</td>\n",
       "      <td>2.354</td>\n",
       "      <td>2.397</td>\n",
       "      <td>2.397</td>\n",
       "      <td>2.269</td>\n",
       "      <td>0.0</td>\n",
       "      <td>2.339</td>\n",
       "      <td>2.212</td>\n",
       "      <td>2.456</td>\n",
       "      <td>2.229</td>\n",
       "      <td>2.503</td>\n",
       "      <td>2.207</td>\n",
       "      <td>2.469</td>\n",
       "      <td>2.266</td>\n",
       "      <td>2.321</td>\n",
       "      <td>2.262</td>\n",
       "      <td>2.286</td>\n",
       "      <td>2.384</td>\n",
       "      <td>2.319</td>\n",
       "      <td>2.289</td>\n",
       "      <td>...</td>\n",
       "      <td>9.675</td>\n",
       "      <td>9.976</td>\n",
       "      <td>0.0</td>\n",
       "      <td>10.635</td>\n",
       "      <td>10.650</td>\n",
       "      <td>0.0</td>\n",
       "      <td>10.149</td>\n",
       "      <td>10.112</td>\n",
       "      <td>10.632</td>\n",
       "      <td>10.566</td>\n",
       "      <td>10.732</td>\n",
       "      <td>10.615</td>\n",
       "      <td>10.386</td>\n",
       "      <td>9.936</td>\n",
       "      <td>9.625</td>\n",
       "      <td>9.390</td>\n",
       "      <td>9.231</td>\n",
       "      <td>0.0</td>\n",
       "      <td>9.216</td>\n",
       "      <td>9.336</td>\n",
       "      <td>0.0</td>\n",
       "      <td>10.032</td>\n",
       "      <td>0.0</td>\n",
       "      <td>9.757</td>\n",
       "      <td>9.480</td>\n",
       "    </tr>\n",
       "    <tr>\n",
       "      <th>3244</th>\n",
       "      <td>0xfdaf9f857621ec06f2cf801f42a020a322835090</td>\n",
       "      <td>14.437</td>\n",
       "      <td>16.274</td>\n",
       "      <td>7.031</td>\n",
       "      <td>17.018</td>\n",
       "      <td>17.603</td>\n",
       "      <td>15.005</td>\n",
       "      <td>8.987</td>\n",
       "      <td>8.490</td>\n",
       "      <td>10.136</td>\n",
       "      <td>0.0</td>\n",
       "      <td>10.466</td>\n",
       "      <td>8.177</td>\n",
       "      <td>11.929</td>\n",
       "      <td>8.261</td>\n",
       "      <td>12.369</td>\n",
       "      <td>14.352</td>\n",
       "      <td>14.058</td>\n",
       "      <td>10.472</td>\n",
       "      <td>17.396</td>\n",
       "      <td>9.879</td>\n",
       "      <td>21.971</td>\n",
       "      <td>12.708</td>\n",
       "      <td>15.327</td>\n",
       "      <td>8.309</td>\n",
       "      <td>...</td>\n",
       "      <td>3.598</td>\n",
       "      <td>5.862</td>\n",
       "      <td>0.0</td>\n",
       "      <td>7.770</td>\n",
       "      <td>5.091</td>\n",
       "      <td>0.0</td>\n",
       "      <td>6.109</td>\n",
       "      <td>5.056</td>\n",
       "      <td>3.972</td>\n",
       "      <td>3.458</td>\n",
       "      <td>7.793</td>\n",
       "      <td>9.837</td>\n",
       "      <td>8.697</td>\n",
       "      <td>5.079</td>\n",
       "      <td>6.031</td>\n",
       "      <td>4.141</td>\n",
       "      <td>2.828</td>\n",
       "      <td>0.0</td>\n",
       "      <td>4.818</td>\n",
       "      <td>3.357</td>\n",
       "      <td>0.0</td>\n",
       "      <td>12.906</td>\n",
       "      <td>0.0</td>\n",
       "      <td>3.122</td>\n",
       "      <td>3.401</td>\n",
       "    </tr>\n",
       "    <tr>\n",
       "      <th>3245</th>\n",
       "      <td>0xd28f2f001e0cd4d6c121a3cb2e1427207e170e18</td>\n",
       "      <td>7.824</td>\n",
       "      <td>7.517</td>\n",
       "      <td>5.398</td>\n",
       "      <td>6.788</td>\n",
       "      <td>7.360</td>\n",
       "      <td>6.898</td>\n",
       "      <td>7.321</td>\n",
       "      <td>8.042</td>\n",
       "      <td>8.207</td>\n",
       "      <td>0.0</td>\n",
       "      <td>5.464</td>\n",
       "      <td>7.545</td>\n",
       "      <td>6.432</td>\n",
       "      <td>6.001</td>\n",
       "      <td>5.558</td>\n",
       "      <td>6.391</td>\n",
       "      <td>6.066</td>\n",
       "      <td>6.443</td>\n",
       "      <td>6.675</td>\n",
       "      <td>7.363</td>\n",
       "      <td>7.269</td>\n",
       "      <td>7.183</td>\n",
       "      <td>7.102</td>\n",
       "      <td>0.000</td>\n",
       "      <td>...</td>\n",
       "      <td>5.735</td>\n",
       "      <td>7.241</td>\n",
       "      <td>0.0</td>\n",
       "      <td>5.695</td>\n",
       "      <td>8.143</td>\n",
       "      <td>0.0</td>\n",
       "      <td>6.993</td>\n",
       "      <td>6.451</td>\n",
       "      <td>7.629</td>\n",
       "      <td>6.880</td>\n",
       "      <td>5.960</td>\n",
       "      <td>6.231</td>\n",
       "      <td>5.748</td>\n",
       "      <td>5.259</td>\n",
       "      <td>5.258</td>\n",
       "      <td>6.767</td>\n",
       "      <td>5.919</td>\n",
       "      <td>0.0</td>\n",
       "      <td>6.077</td>\n",
       "      <td>7.761</td>\n",
       "      <td>0.0</td>\n",
       "      <td>5.455</td>\n",
       "      <td>0.0</td>\n",
       "      <td>5.679</td>\n",
       "      <td>8.148</td>\n",
       "    </tr>\n",
       "    <tr>\n",
       "      <th>3246</th>\n",
       "      <td>0x47218b46abb2fcaade487a211911406dc6e13730</td>\n",
       "      <td>23.965</td>\n",
       "      <td>28.689</td>\n",
       "      <td>27.664</td>\n",
       "      <td>29.229</td>\n",
       "      <td>29.548</td>\n",
       "      <td>27.909</td>\n",
       "      <td>26.923</td>\n",
       "      <td>21.277</td>\n",
       "      <td>23.452</td>\n",
       "      <td>0.0</td>\n",
       "      <td>25.924</td>\n",
       "      <td>26.834</td>\n",
       "      <td>30.346</td>\n",
       "      <td>30.367</td>\n",
       "      <td>26.135</td>\n",
       "      <td>26.842</td>\n",
       "      <td>25.588</td>\n",
       "      <td>30.267</td>\n",
       "      <td>28.921</td>\n",
       "      <td>27.530</td>\n",
       "      <td>28.424</td>\n",
       "      <td>28.961</td>\n",
       "      <td>29.346</td>\n",
       "      <td>28.640</td>\n",
       "      <td>...</td>\n",
       "      <td>23.870</td>\n",
       "      <td>28.726</td>\n",
       "      <td>0.0</td>\n",
       "      <td>29.844</td>\n",
       "      <td>31.899</td>\n",
       "      <td>0.0</td>\n",
       "      <td>30.039</td>\n",
       "      <td>30.470</td>\n",
       "      <td>30.044</td>\n",
       "      <td>28.617</td>\n",
       "      <td>31.578</td>\n",
       "      <td>31.481</td>\n",
       "      <td>32.123</td>\n",
       "      <td>29.524</td>\n",
       "      <td>22.586</td>\n",
       "      <td>20.747</td>\n",
       "      <td>19.979</td>\n",
       "      <td>0.0</td>\n",
       "      <td>20.406</td>\n",
       "      <td>23.668</td>\n",
       "      <td>0.0</td>\n",
       "      <td>31.912</td>\n",
       "      <td>0.0</td>\n",
       "      <td>26.313</td>\n",
       "      <td>24.201</td>\n",
       "    </tr>\n",
       "    <tr>\n",
       "      <th>3247</th>\n",
       "      <td>0xcd19e6fe3d887bc5dcac7ca18d46199695463fdd</td>\n",
       "      <td>11.302</td>\n",
       "      <td>14.178</td>\n",
       "      <td>15.499</td>\n",
       "      <td>11.853</td>\n",
       "      <td>17.431</td>\n",
       "      <td>14.506</td>\n",
       "      <td>12.812</td>\n",
       "      <td>10.472</td>\n",
       "      <td>10.879</td>\n",
       "      <td>0.0</td>\n",
       "      <td>9.826</td>\n",
       "      <td>11.969</td>\n",
       "      <td>14.236</td>\n",
       "      <td>15.300</td>\n",
       "      <td>14.199</td>\n",
       "      <td>9.955</td>\n",
       "      <td>16.184</td>\n",
       "      <td>15.341</td>\n",
       "      <td>14.343</td>\n",
       "      <td>17.231</td>\n",
       "      <td>10.636</td>\n",
       "      <td>17.707</td>\n",
       "      <td>15.851</td>\n",
       "      <td>13.311</td>\n",
       "      <td>...</td>\n",
       "      <td>18.506</td>\n",
       "      <td>24.904</td>\n",
       "      <td>0.0</td>\n",
       "      <td>34.299</td>\n",
       "      <td>28.132</td>\n",
       "      <td>0.0</td>\n",
       "      <td>35.054</td>\n",
       "      <td>35.282</td>\n",
       "      <td>28.412</td>\n",
       "      <td>40.251</td>\n",
       "      <td>30.084</td>\n",
       "      <td>26.058</td>\n",
       "      <td>27.873</td>\n",
       "      <td>21.999</td>\n",
       "      <td>26.232</td>\n",
       "      <td>14.036</td>\n",
       "      <td>15.990</td>\n",
       "      <td>0.0</td>\n",
       "      <td>15.111</td>\n",
       "      <td>16.506</td>\n",
       "      <td>0.0</td>\n",
       "      <td>21.011</td>\n",
       "      <td>0.0</td>\n",
       "      <td>17.397</td>\n",
       "      <td>15.237</td>\n",
       "    </tr>\n",
       "  </tbody>\n",
       "</table>\n",
       "<p>3248 rows × 366 columns</p>\n",
       "</div>"
      ],
      "text/plain": [
       "                                        meter_id  2017-01-01  2017-01-02  \\\n",
       "0     0xa62b9f23553ff183f61e2bf943aab3d5983d02d7       0.000       0.000   \n",
       "1     0x459c834d1f6cfb5b734b82aa9f5410fa97fb70da       0.000       0.000   \n",
       "2     0x4a1ed36825360a058cec2bdd409fc2459e1ce54f       0.000       0.000   \n",
       "3     0x5b76d3c0e0aefc6e0a8d1d031f96388a23263407       0.000       0.000   \n",
       "4     0x943ebe39ef2be6ef807c42c5a647e27112ca5b0f       0.000       0.000   \n",
       "...                                          ...         ...         ...   \n",
       "3243  0x7dd7a7b8ee1bec7c44b24f738c752482f6161065       2.317       2.301   \n",
       "3244  0xfdaf9f857621ec06f2cf801f42a020a322835090      14.437      16.274   \n",
       "3245  0xd28f2f001e0cd4d6c121a3cb2e1427207e170e18       7.824       7.517   \n",
       "3246  0x47218b46abb2fcaade487a211911406dc6e13730      23.965      28.689   \n",
       "3247  0xcd19e6fe3d887bc5dcac7ca18d46199695463fdd      11.302      14.178   \n",
       "\n",
       "      2017-01-03  2017-01-04  2017-01-05  2017-01-06  2017-01-07  2017-01-08  \\\n",
       "0          0.000       0.000       0.000       0.000       0.000       0.000   \n",
       "1          0.000       0.000       0.000       0.000       0.000       0.000   \n",
       "2          0.000       0.000       0.000       0.000       0.000       0.000   \n",
       "3          0.000       0.000       0.000       0.000       0.000       0.000   \n",
       "4          0.000       0.000       0.000       0.000       0.000       0.000   \n",
       "...          ...         ...         ...         ...         ...         ...   \n",
       "3243       2.352       2.516       2.229       2.354       2.397       2.397   \n",
       "3244       7.031      17.018      17.603      15.005       8.987       8.490   \n",
       "3245       5.398       6.788       7.360       6.898       7.321       8.042   \n",
       "3246      27.664      29.229      29.548      27.909      26.923      21.277   \n",
       "3247      15.499      11.853      17.431      14.506      12.812      10.472   \n",
       "\n",
       "      2017-01-09  2017-01-10  2017-01-11  2017-01-12  2017-01-13  2017-01-14  \\\n",
       "0          0.000         0.0       0.000       0.000       0.000       0.000   \n",
       "1          0.000         0.0       0.000       0.000       0.000       0.000   \n",
       "2          0.000         0.0       0.000       0.000       0.000       0.000   \n",
       "3          0.000         0.0       0.000       0.000       0.000       0.000   \n",
       "4          0.000         0.0       0.000       0.000       0.000       0.000   \n",
       "...          ...         ...         ...         ...         ...         ...   \n",
       "3243       2.269         0.0       2.339       2.212       2.456       2.229   \n",
       "3244      10.136         0.0      10.466       8.177      11.929       8.261   \n",
       "3245       8.207         0.0       5.464       7.545       6.432       6.001   \n",
       "3246      23.452         0.0      25.924      26.834      30.346      30.367   \n",
       "3247      10.879         0.0       9.826      11.969      14.236      15.300   \n",
       "\n",
       "      2017-01-15  2017-01-16  2017-01-17  2017-01-18  2017-01-19  2017-01-20  \\\n",
       "0          0.000       0.000       0.000       0.000       0.000       0.000   \n",
       "1          0.000       0.000       0.000       0.000       0.000       0.000   \n",
       "2          0.000       0.000       0.000       0.000       0.000       0.000   \n",
       "3          0.000       0.000       0.000       0.000       0.000       0.000   \n",
       "4          0.000       0.000       0.000       0.000       0.000       0.000   \n",
       "...          ...         ...         ...         ...         ...         ...   \n",
       "3243       2.503       2.207       2.469       2.266       2.321       2.262   \n",
       "3244      12.369      14.352      14.058      10.472      17.396       9.879   \n",
       "3245       5.558       6.391       6.066       6.443       6.675       7.363   \n",
       "3246      26.135      26.842      25.588      30.267      28.921      27.530   \n",
       "3247      14.199       9.955      16.184      15.341      14.343      17.231   \n",
       "\n",
       "      2017-01-21  2017-01-22  2017-01-23  2017-01-24  ...  2017-12-07  \\\n",
       "0          0.000       0.000       0.000       0.000  ...       4.471   \n",
       "1          0.000       0.000       0.000       0.000  ...      17.251   \n",
       "2          0.000       0.000       0.000       0.000  ...       6.360   \n",
       "3          0.000       0.000       0.000       0.000  ...      14.110   \n",
       "4          0.000       0.000       0.000       0.000  ...      30.507   \n",
       "...          ...         ...         ...         ...  ...         ...   \n",
       "3243       2.286       2.384       2.319       2.289  ...       9.675   \n",
       "3244      21.971      12.708      15.327       8.309  ...       3.598   \n",
       "3245       7.269       7.183       7.102       0.000  ...       5.735   \n",
       "3246      28.424      28.961      29.346      28.640  ...      23.870   \n",
       "3247      10.636      17.707      15.851      13.311  ...      18.506   \n",
       "\n",
       "      2017-12-08  2017-12-09  2017-12-10  2017-12-11  2017-12-12  2017-12-13  \\\n",
       "0          3.741         0.0       7.224       4.951         0.0       3.442   \n",
       "1         23.469         0.0      24.730      24.597         0.0      20.056   \n",
       "2         18.557         0.0      12.423      18.379         0.0      13.281   \n",
       "3         23.315         0.0      19.672      21.023         0.0      19.686   \n",
       "4         35.388         0.0      48.607      54.760         0.0      42.703   \n",
       "...          ...         ...         ...         ...         ...         ...   \n",
       "3243       9.976         0.0      10.635      10.650         0.0      10.149   \n",
       "3244       5.862         0.0       7.770       5.091         0.0       6.109   \n",
       "3245       7.241         0.0       5.695       8.143         0.0       6.993   \n",
       "3246      28.726         0.0      29.844      31.899         0.0      30.039   \n",
       "3247      24.904         0.0      34.299      28.132         0.0      35.054   \n",
       "\n",
       "      2017-12-14  2017-12-15  2017-12-16  2017-12-17  2017-12-18  2017-12-19  \\\n",
       "0          3.509       4.675       6.131       4.962       3.336       4.318   \n",
       "1         22.546      22.333      23.353      22.774      20.229      21.218   \n",
       "2         13.821      12.755      16.712      12.364      16.055      18.562   \n",
       "3         23.435      18.733      22.249      20.755      19.730      21.135   \n",
       "4         35.045      38.664      36.790      29.009      42.716      29.052   \n",
       "...          ...         ...         ...         ...         ...         ...   \n",
       "3243      10.112      10.632      10.566      10.732      10.615      10.386   \n",
       "3244       5.056       3.972       3.458       7.793       9.837       8.697   \n",
       "3245       6.451       7.629       6.880       5.960       6.231       5.748   \n",
       "3246      30.470      30.044      28.617      31.578      31.481      32.123   \n",
       "3247      35.282      28.412      40.251      30.084      26.058      27.873   \n",
       "\n",
       "      2017-12-20  2017-12-21  2017-12-22  2017-12-23  2017-12-24  2017-12-25  \\\n",
       "0          3.561       4.279       4.030       5.397         0.0       4.818   \n",
       "1         15.419      13.475      13.101      14.327         0.0      14.936   \n",
       "2         10.385      10.917      10.201       7.320         0.0       7.384   \n",
       "3         16.526      12.677      14.833      12.477         0.0      10.974   \n",
       "4         25.444      28.234      39.440      35.538         0.0       8.351   \n",
       "...          ...         ...         ...         ...         ...         ...   \n",
       "3243       9.936       9.625       9.390       9.231         0.0       9.216   \n",
       "3244       5.079       6.031       4.141       2.828         0.0       4.818   \n",
       "3245       5.259       5.258       6.767       5.919         0.0       6.077   \n",
       "3246      29.524      22.586      20.747      19.979         0.0      20.406   \n",
       "3247      21.999      26.232      14.036      15.990         0.0      15.111   \n",
       "\n",
       "      2017-12-26  2017-12-27  2017-12-28  2017-12-29  2017-12-30  2017-12-31  \n",
       "0          3.931         0.0       4.503         0.0       5.129       5.395  \n",
       "1         16.174         0.0      24.618         0.0      15.167      11.751  \n",
       "2         14.425         0.0      17.705         0.0       8.966       4.633  \n",
       "3         19.646         0.0      23.993         0.0      15.841      14.452  \n",
       "4          9.957         0.0      25.871         0.0      46.274      16.901  \n",
       "...          ...         ...         ...         ...         ...         ...  \n",
       "3243       9.336         0.0      10.032         0.0       9.757       9.480  \n",
       "3244       3.357         0.0      12.906         0.0       3.122       3.401  \n",
       "3245       7.761         0.0       5.455         0.0       5.679       8.148  \n",
       "3246      23.668         0.0      31.912         0.0      26.313      24.201  \n",
       "3247      16.506         0.0      21.011         0.0      17.397      15.237  \n",
       "\n",
       "[3248 rows x 366 columns]"
      ]
     },
     "execution_count": 13,
     "metadata": {},
     "output_type": "execute_result"
    }
   ],
   "source": [
    "df_energy_daily_with_missing"
   ]
  },
  {
   "cell_type": "markdown",
   "metadata": {},
   "source": [
    "## Linearly interpolating the missing values from 30 min then resampling into days\n",
    "\n",
    "* Linearly interpolate the half hours with a limit of 4 hours worth of consecutive missing values\n",
    "* Then aggregate into days setting days containing a missing to the entire day as missing\n",
    "* Then interpolating those missing days\n",
    "\n",
    "- Experiment with different limits for how many consecutive nans are okay to fit \n",
    "    - current set to 8 (4 hours worth)"
   ]
  },
  {
   "cell_type": "code",
   "execution_count": 14,
   "metadata": {},
   "outputs": [],
   "source": [
    "# how many consecutive NaNs to fill\n",
    "seq_nan_limit = 8"
   ]
  },
  {
   "cell_type": "code",
   "execution_count": 15,
   "metadata": {
    "scrolled": true
   },
   "outputs": [],
   "source": [
    "#dropping the meter id column for now so we can interpolate\n",
    "meter_id = df_energy[\"meter_id\"]\n",
    "df_energy_interpolate = df_energy.drop([\"meter_id\"], axis=1)"
   ]
  },
  {
   "cell_type": "code",
   "execution_count": 16,
   "metadata": {},
   "outputs": [],
   "source": [
    "#replacing 0 back to NaN\n",
    "df_energy_interpolate=df_energy_interpolate.replace(0,np.nan)"
   ]
  },
  {
   "cell_type": "code",
   "execution_count": 17,
   "metadata": {},
   "outputs": [],
   "source": [
    "# interpolating the missing values\n",
    "df_energy_interpolate = df_energy_interpolate.interpolate(method=\"linear\", axis=1, limit = seq_nan_limit) \n",
    "# adding the meter id back on\n",
    "df_energy_interpolate = pd.concat([meter_id,df_energy_interpolate],axis=1)"
   ]
  },
  {
   "cell_type": "code",
   "execution_count": 18,
   "metadata": {},
   "outputs": [
    {
     "data": {
      "text/html": [
       "<div>\n",
       "<style scoped>\n",
       "    .dataframe tbody tr th:only-of-type {\n",
       "        vertical-align: middle;\n",
       "    }\n",
       "\n",
       "    .dataframe tbody tr th {\n",
       "        vertical-align: top;\n",
       "    }\n",
       "\n",
       "    .dataframe thead th {\n",
       "        text-align: right;\n",
       "    }\n",
       "</style>\n",
       "<table border=\"1\" class=\"dataframe\">\n",
       "  <thead>\n",
       "    <tr style=\"text-align: right;\">\n",
       "      <th></th>\n",
       "      <th>meter_id</th>\n",
       "      <th>2017-01-01 00:00:00</th>\n",
       "      <th>2017-01-01 00:30:00</th>\n",
       "      <th>2017-01-01 01:00:00</th>\n",
       "      <th>2017-01-01 01:30:00</th>\n",
       "      <th>2017-01-01 02:00:00</th>\n",
       "      <th>2017-01-01 02:30:00</th>\n",
       "      <th>2017-01-01 03:00:00</th>\n",
       "      <th>2017-01-01 03:30:00</th>\n",
       "      <th>2017-01-01 04:00:00</th>\n",
       "      <th>2017-01-01 04:30:00</th>\n",
       "      <th>2017-01-01 05:00:00</th>\n",
       "      <th>2017-01-01 05:30:00</th>\n",
       "      <th>2017-01-01 06:00:00</th>\n",
       "      <th>2017-01-01 06:30:00</th>\n",
       "      <th>2017-01-01 07:00:00</th>\n",
       "      <th>2017-01-01 07:30:00</th>\n",
       "      <th>2017-01-01 08:00:00</th>\n",
       "      <th>2017-01-01 08:30:00</th>\n",
       "      <th>2017-01-01 09:00:00</th>\n",
       "      <th>2017-01-01 09:30:00</th>\n",
       "      <th>2017-01-01 10:00:00</th>\n",
       "      <th>2017-01-01 10:30:00</th>\n",
       "      <th>2017-01-01 11:00:00</th>\n",
       "      <th>2017-01-01 11:30:00</th>\n",
       "      <th>...</th>\n",
       "      <th>2017-12-31 11:30:00</th>\n",
       "      <th>2017-12-31 12:00:00</th>\n",
       "      <th>2017-12-31 12:30:00</th>\n",
       "      <th>2017-12-31 13:00:00</th>\n",
       "      <th>2017-12-31 13:30:00</th>\n",
       "      <th>2017-12-31 14:00:00</th>\n",
       "      <th>2017-12-31 14:30:00</th>\n",
       "      <th>2017-12-31 15:00:00</th>\n",
       "      <th>2017-12-31 15:30:00</th>\n",
       "      <th>2017-12-31 16:00:00</th>\n",
       "      <th>2017-12-31 16:30:00</th>\n",
       "      <th>2017-12-31 17:00:00</th>\n",
       "      <th>2017-12-31 17:30:00</th>\n",
       "      <th>2017-12-31 18:00:00</th>\n",
       "      <th>2017-12-31 18:30:00</th>\n",
       "      <th>2017-12-31 19:00:00</th>\n",
       "      <th>2017-12-31 19:30:00</th>\n",
       "      <th>2017-12-31 20:00:00</th>\n",
       "      <th>2017-12-31 20:30:00</th>\n",
       "      <th>2017-12-31 21:00:00</th>\n",
       "      <th>2017-12-31 21:30:00</th>\n",
       "      <th>2017-12-31 22:00:00</th>\n",
       "      <th>2017-12-31 22:30:00</th>\n",
       "      <th>2017-12-31 23:00:00</th>\n",
       "      <th>2017-12-31 23:30:00</th>\n",
       "    </tr>\n",
       "  </thead>\n",
       "  <tbody>\n",
       "    <tr>\n",
       "      <th>0</th>\n",
       "      <td>0xa62b9f23553ff183f61e2bf943aab3d5983d02d7</td>\n",
       "      <td>NaN</td>\n",
       "      <td>NaN</td>\n",
       "      <td>NaN</td>\n",
       "      <td>NaN</td>\n",
       "      <td>NaN</td>\n",
       "      <td>NaN</td>\n",
       "      <td>NaN</td>\n",
       "      <td>NaN</td>\n",
       "      <td>NaN</td>\n",
       "      <td>NaN</td>\n",
       "      <td>NaN</td>\n",
       "      <td>NaN</td>\n",
       "      <td>NaN</td>\n",
       "      <td>NaN</td>\n",
       "      <td>NaN</td>\n",
       "      <td>NaN</td>\n",
       "      <td>NaN</td>\n",
       "      <td>NaN</td>\n",
       "      <td>NaN</td>\n",
       "      <td>NaN</td>\n",
       "      <td>NaN</td>\n",
       "      <td>NaN</td>\n",
       "      <td>NaN</td>\n",
       "      <td>NaN</td>\n",
       "      <td>...</td>\n",
       "      <td>0.126</td>\n",
       "      <td>0.094</td>\n",
       "      <td>0.070</td>\n",
       "      <td>0.064</td>\n",
       "      <td>0.075</td>\n",
       "      <td>0.063</td>\n",
       "      <td>0.078</td>\n",
       "      <td>0.804</td>\n",
       "      <td>0.183</td>\n",
       "      <td>0.149</td>\n",
       "      <td>0.238</td>\n",
       "      <td>0.351</td>\n",
       "      <td>0.108</td>\n",
       "      <td>0.077</td>\n",
       "      <td>0.059</td>\n",
       "      <td>0.052</td>\n",
       "      <td>0.091</td>\n",
       "      <td>0.083</td>\n",
       "      <td>0.082</td>\n",
       "      <td>0.090</td>\n",
       "      <td>0.074</td>\n",
       "      <td>0.092</td>\n",
       "      <td>0.076</td>\n",
       "      <td>0.055</td>\n",
       "      <td>0.036</td>\n",
       "    </tr>\n",
       "    <tr>\n",
       "      <th>1</th>\n",
       "      <td>0x459c834d1f6cfb5b734b82aa9f5410fa97fb70da</td>\n",
       "      <td>NaN</td>\n",
       "      <td>NaN</td>\n",
       "      <td>NaN</td>\n",
       "      <td>NaN</td>\n",
       "      <td>NaN</td>\n",
       "      <td>NaN</td>\n",
       "      <td>NaN</td>\n",
       "      <td>NaN</td>\n",
       "      <td>NaN</td>\n",
       "      <td>NaN</td>\n",
       "      <td>NaN</td>\n",
       "      <td>NaN</td>\n",
       "      <td>NaN</td>\n",
       "      <td>NaN</td>\n",
       "      <td>NaN</td>\n",
       "      <td>NaN</td>\n",
       "      <td>NaN</td>\n",
       "      <td>NaN</td>\n",
       "      <td>NaN</td>\n",
       "      <td>NaN</td>\n",
       "      <td>NaN</td>\n",
       "      <td>NaN</td>\n",
       "      <td>NaN</td>\n",
       "      <td>NaN</td>\n",
       "      <td>...</td>\n",
       "      <td>0.212</td>\n",
       "      <td>0.170</td>\n",
       "      <td>0.078</td>\n",
       "      <td>0.092</td>\n",
       "      <td>0.102</td>\n",
       "      <td>0.253</td>\n",
       "      <td>0.383</td>\n",
       "      <td>0.068</td>\n",
       "      <td>0.077</td>\n",
       "      <td>0.085</td>\n",
       "      <td>0.594</td>\n",
       "      <td>0.413</td>\n",
       "      <td>0.277</td>\n",
       "      <td>0.315</td>\n",
       "      <td>0.691</td>\n",
       "      <td>0.402</td>\n",
       "      <td>0.639</td>\n",
       "      <td>0.537</td>\n",
       "      <td>0.834</td>\n",
       "      <td>0.868</td>\n",
       "      <td>0.394</td>\n",
       "      <td>0.073</td>\n",
       "      <td>0.077</td>\n",
       "      <td>0.049</td>\n",
       "      <td>0.048</td>\n",
       "    </tr>\n",
       "    <tr>\n",
       "      <th>2</th>\n",
       "      <td>0x4a1ed36825360a058cec2bdd409fc2459e1ce54f</td>\n",
       "      <td>NaN</td>\n",
       "      <td>NaN</td>\n",
       "      <td>NaN</td>\n",
       "      <td>NaN</td>\n",
       "      <td>NaN</td>\n",
       "      <td>NaN</td>\n",
       "      <td>NaN</td>\n",
       "      <td>NaN</td>\n",
       "      <td>NaN</td>\n",
       "      <td>NaN</td>\n",
       "      <td>NaN</td>\n",
       "      <td>NaN</td>\n",
       "      <td>NaN</td>\n",
       "      <td>NaN</td>\n",
       "      <td>NaN</td>\n",
       "      <td>NaN</td>\n",
       "      <td>NaN</td>\n",
       "      <td>NaN</td>\n",
       "      <td>NaN</td>\n",
       "      <td>NaN</td>\n",
       "      <td>NaN</td>\n",
       "      <td>NaN</td>\n",
       "      <td>NaN</td>\n",
       "      <td>NaN</td>\n",
       "      <td>...</td>\n",
       "      <td>0.005</td>\n",
       "      <td>0.029</td>\n",
       "      <td>0.196</td>\n",
       "      <td>0.134</td>\n",
       "      <td>0.069</td>\n",
       "      <td>0.067</td>\n",
       "      <td>0.025</td>\n",
       "      <td>0.026</td>\n",
       "      <td>0.020</td>\n",
       "      <td>0.014</td>\n",
       "      <td>0.032</td>\n",
       "      <td>0.019</td>\n",
       "      <td>0.107</td>\n",
       "      <td>0.104</td>\n",
       "      <td>0.124</td>\n",
       "      <td>0.110</td>\n",
       "      <td>0.123</td>\n",
       "      <td>0.012</td>\n",
       "      <td>0.034</td>\n",
       "      <td>0.006</td>\n",
       "      <td>0.027</td>\n",
       "      <td>0.001</td>\n",
       "      <td>0.044</td>\n",
       "      <td>0.004</td>\n",
       "      <td>0.035</td>\n",
       "    </tr>\n",
       "    <tr>\n",
       "      <th>3</th>\n",
       "      <td>0x5b76d3c0e0aefc6e0a8d1d031f96388a23263407</td>\n",
       "      <td>NaN</td>\n",
       "      <td>NaN</td>\n",
       "      <td>NaN</td>\n",
       "      <td>NaN</td>\n",
       "      <td>NaN</td>\n",
       "      <td>NaN</td>\n",
       "      <td>NaN</td>\n",
       "      <td>NaN</td>\n",
       "      <td>NaN</td>\n",
       "      <td>NaN</td>\n",
       "      <td>NaN</td>\n",
       "      <td>NaN</td>\n",
       "      <td>NaN</td>\n",
       "      <td>NaN</td>\n",
       "      <td>NaN</td>\n",
       "      <td>NaN</td>\n",
       "      <td>NaN</td>\n",
       "      <td>NaN</td>\n",
       "      <td>NaN</td>\n",
       "      <td>NaN</td>\n",
       "      <td>NaN</td>\n",
       "      <td>NaN</td>\n",
       "      <td>NaN</td>\n",
       "      <td>NaN</td>\n",
       "      <td>...</td>\n",
       "      <td>0.104</td>\n",
       "      <td>0.039</td>\n",
       "      <td>0.120</td>\n",
       "      <td>0.063</td>\n",
       "      <td>0.078</td>\n",
       "      <td>0.111</td>\n",
       "      <td>0.074</td>\n",
       "      <td>0.103</td>\n",
       "      <td>0.635</td>\n",
       "      <td>0.421</td>\n",
       "      <td>0.466</td>\n",
       "      <td>0.087</td>\n",
       "      <td>0.052</td>\n",
       "      <td>0.115</td>\n",
       "      <td>0.150</td>\n",
       "      <td>0.118</td>\n",
       "      <td>0.096</td>\n",
       "      <td>0.135</td>\n",
       "      <td>0.041</td>\n",
       "      <td>0.018</td>\n",
       "      <td>0.057</td>\n",
       "      <td>0.018</td>\n",
       "      <td>0.038</td>\n",
       "      <td>0.040</td>\n",
       "      <td>0.014</td>\n",
       "    </tr>\n",
       "    <tr>\n",
       "      <th>4</th>\n",
       "      <td>0x943ebe39ef2be6ef807c42c5a647e27112ca5b0f</td>\n",
       "      <td>NaN</td>\n",
       "      <td>NaN</td>\n",
       "      <td>NaN</td>\n",
       "      <td>NaN</td>\n",
       "      <td>NaN</td>\n",
       "      <td>NaN</td>\n",
       "      <td>NaN</td>\n",
       "      <td>NaN</td>\n",
       "      <td>NaN</td>\n",
       "      <td>NaN</td>\n",
       "      <td>NaN</td>\n",
       "      <td>NaN</td>\n",
       "      <td>NaN</td>\n",
       "      <td>NaN</td>\n",
       "      <td>NaN</td>\n",
       "      <td>NaN</td>\n",
       "      <td>NaN</td>\n",
       "      <td>NaN</td>\n",
       "      <td>NaN</td>\n",
       "      <td>NaN</td>\n",
       "      <td>NaN</td>\n",
       "      <td>NaN</td>\n",
       "      <td>NaN</td>\n",
       "      <td>NaN</td>\n",
       "      <td>...</td>\n",
       "      <td>0.545</td>\n",
       "      <td>0.150</td>\n",
       "      <td>0.498</td>\n",
       "      <td>1.165</td>\n",
       "      <td>1.054</td>\n",
       "      <td>0.498</td>\n",
       "      <td>0.199</td>\n",
       "      <td>0.058</td>\n",
       "      <td>0.019</td>\n",
       "      <td>0.068</td>\n",
       "      <td>0.077</td>\n",
       "      <td>0.060</td>\n",
       "      <td>0.024</td>\n",
       "      <td>0.026</td>\n",
       "      <td>0.016</td>\n",
       "      <td>0.022</td>\n",
       "      <td>0.010</td>\n",
       "      <td>0.036</td>\n",
       "      <td>0.006</td>\n",
       "      <td>0.024</td>\n",
       "      <td>0.014</td>\n",
       "      <td>0.028</td>\n",
       "      <td>0.006</td>\n",
       "      <td>0.024</td>\n",
       "      <td>0.025</td>\n",
       "    </tr>\n",
       "    <tr>\n",
       "      <th>...</th>\n",
       "      <td>...</td>\n",
       "      <td>...</td>\n",
       "      <td>...</td>\n",
       "      <td>...</td>\n",
       "      <td>...</td>\n",
       "      <td>...</td>\n",
       "      <td>...</td>\n",
       "      <td>...</td>\n",
       "      <td>...</td>\n",
       "      <td>...</td>\n",
       "      <td>...</td>\n",
       "      <td>...</td>\n",
       "      <td>...</td>\n",
       "      <td>...</td>\n",
       "      <td>...</td>\n",
       "      <td>...</td>\n",
       "      <td>...</td>\n",
       "      <td>...</td>\n",
       "      <td>...</td>\n",
       "      <td>...</td>\n",
       "      <td>...</td>\n",
       "      <td>...</td>\n",
       "      <td>...</td>\n",
       "      <td>...</td>\n",
       "      <td>...</td>\n",
       "      <td>...</td>\n",
       "      <td>...</td>\n",
       "      <td>...</td>\n",
       "      <td>...</td>\n",
       "      <td>...</td>\n",
       "      <td>...</td>\n",
       "      <td>...</td>\n",
       "      <td>...</td>\n",
       "      <td>...</td>\n",
       "      <td>...</td>\n",
       "      <td>...</td>\n",
       "      <td>...</td>\n",
       "      <td>...</td>\n",
       "      <td>...</td>\n",
       "      <td>...</td>\n",
       "      <td>...</td>\n",
       "      <td>...</td>\n",
       "      <td>...</td>\n",
       "      <td>...</td>\n",
       "      <td>...</td>\n",
       "      <td>...</td>\n",
       "      <td>...</td>\n",
       "      <td>...</td>\n",
       "      <td>...</td>\n",
       "      <td>...</td>\n",
       "      <td>...</td>\n",
       "    </tr>\n",
       "    <tr>\n",
       "      <th>3243</th>\n",
       "      <td>0x7dd7a7b8ee1bec7c44b24f738c752482f6161065</td>\n",
       "      <td>0.011</td>\n",
       "      <td>1.089</td>\n",
       "      <td>0.014</td>\n",
       "      <td>0.204</td>\n",
       "      <td>0.015</td>\n",
       "      <td>0.159</td>\n",
       "      <td>0.014</td>\n",
       "      <td>0.013</td>\n",
       "      <td>0.174</td>\n",
       "      <td>0.013</td>\n",
       "      <td>0.014</td>\n",
       "      <td>0.014</td>\n",
       "      <td>0.014</td>\n",
       "      <td>0.189</td>\n",
       "      <td>0.015</td>\n",
       "      <td>0.011</td>\n",
       "      <td>0.011</td>\n",
       "      <td>0.011</td>\n",
       "      <td>0.011</td>\n",
       "      <td>0.011</td>\n",
       "      <td>0.011</td>\n",
       "      <td>0.011</td>\n",
       "      <td>0.011</td>\n",
       "      <td>0.011</td>\n",
       "      <td>...</td>\n",
       "      <td>0.195</td>\n",
       "      <td>0.181</td>\n",
       "      <td>0.177</td>\n",
       "      <td>0.184</td>\n",
       "      <td>0.198</td>\n",
       "      <td>0.177</td>\n",
       "      <td>0.182</td>\n",
       "      <td>0.180</td>\n",
       "      <td>0.196</td>\n",
       "      <td>0.182</td>\n",
       "      <td>0.177</td>\n",
       "      <td>0.181</td>\n",
       "      <td>0.203</td>\n",
       "      <td>0.176</td>\n",
       "      <td>0.183</td>\n",
       "      <td>0.176</td>\n",
       "      <td>0.200</td>\n",
       "      <td>0.184</td>\n",
       "      <td>0.177</td>\n",
       "      <td>0.182</td>\n",
       "      <td>0.201</td>\n",
       "      <td>0.181</td>\n",
       "      <td>0.181</td>\n",
       "      <td>0.177</td>\n",
       "      <td>0.198</td>\n",
       "    </tr>\n",
       "    <tr>\n",
       "      <th>3244</th>\n",
       "      <td>0xfdaf9f857621ec06f2cf801f42a020a322835090</td>\n",
       "      <td>0.015</td>\n",
       "      <td>1.523</td>\n",
       "      <td>0.105</td>\n",
       "      <td>0.296</td>\n",
       "      <td>0.067</td>\n",
       "      <td>0.171</td>\n",
       "      <td>0.025</td>\n",
       "      <td>0.260</td>\n",
       "      <td>0.013</td>\n",
       "      <td>0.024</td>\n",
       "      <td>0.012</td>\n",
       "      <td>0.178</td>\n",
       "      <td>0.018</td>\n",
       "      <td>0.454</td>\n",
       "      <td>0.290</td>\n",
       "      <td>1.228</td>\n",
       "      <td>1.228</td>\n",
       "      <td>1.229</td>\n",
       "      <td>1.199</td>\n",
       "      <td>1.075</td>\n",
       "      <td>0.021</td>\n",
       "      <td>0.009</td>\n",
       "      <td>0.019</td>\n",
       "      <td>0.011</td>\n",
       "      <td>...</td>\n",
       "      <td>0.009</td>\n",
       "      <td>0.008</td>\n",
       "      <td>0.016</td>\n",
       "      <td>0.028</td>\n",
       "      <td>0.008</td>\n",
       "      <td>0.009</td>\n",
       "      <td>0.009</td>\n",
       "      <td>0.015</td>\n",
       "      <td>0.028</td>\n",
       "      <td>0.009</td>\n",
       "      <td>0.012</td>\n",
       "      <td>0.023</td>\n",
       "      <td>0.034</td>\n",
       "      <td>0.040</td>\n",
       "      <td>0.025</td>\n",
       "      <td>0.022</td>\n",
       "      <td>0.009</td>\n",
       "      <td>0.028</td>\n",
       "      <td>0.020</td>\n",
       "      <td>0.010</td>\n",
       "      <td>0.009</td>\n",
       "      <td>0.008</td>\n",
       "      <td>0.033</td>\n",
       "      <td>0.015</td>\n",
       "      <td>0.013</td>\n",
       "    </tr>\n",
       "    <tr>\n",
       "      <th>3245</th>\n",
       "      <td>0xd28f2f001e0cd4d6c121a3cb2e1427207e170e18</td>\n",
       "      <td>0.222</td>\n",
       "      <td>0.276</td>\n",
       "      <td>0.097</td>\n",
       "      <td>0.058</td>\n",
       "      <td>0.045</td>\n",
       "      <td>0.045</td>\n",
       "      <td>0.038</td>\n",
       "      <td>0.034</td>\n",
       "      <td>0.043</td>\n",
       "      <td>0.044</td>\n",
       "      <td>0.046</td>\n",
       "      <td>0.033</td>\n",
       "      <td>0.038</td>\n",
       "      <td>0.043</td>\n",
       "      <td>0.056</td>\n",
       "      <td>0.250</td>\n",
       "      <td>0.187</td>\n",
       "      <td>0.207</td>\n",
       "      <td>0.182</td>\n",
       "      <td>0.164</td>\n",
       "      <td>0.144</td>\n",
       "      <td>0.055</td>\n",
       "      <td>0.052</td>\n",
       "      <td>0.051</td>\n",
       "      <td>...</td>\n",
       "      <td>0.181</td>\n",
       "      <td>0.195</td>\n",
       "      <td>0.462</td>\n",
       "      <td>0.631</td>\n",
       "      <td>0.203</td>\n",
       "      <td>0.189</td>\n",
       "      <td>0.242</td>\n",
       "      <td>0.264</td>\n",
       "      <td>0.187</td>\n",
       "      <td>0.479</td>\n",
       "      <td>0.316</td>\n",
       "      <td>0.275</td>\n",
       "      <td>0.503</td>\n",
       "      <td>0.422</td>\n",
       "      <td>0.343</td>\n",
       "      <td>0.144</td>\n",
       "      <td>0.169</td>\n",
       "      <td>0.145</td>\n",
       "      <td>0.200</td>\n",
       "      <td>0.170</td>\n",
       "      <td>0.127</td>\n",
       "      <td>0.135</td>\n",
       "      <td>0.200</td>\n",
       "      <td>0.118</td>\n",
       "      <td>0.106</td>\n",
       "    </tr>\n",
       "    <tr>\n",
       "      <th>3246</th>\n",
       "      <td>0x47218b46abb2fcaade487a211911406dc6e13730</td>\n",
       "      <td>0.195</td>\n",
       "      <td>2.881</td>\n",
       "      <td>1.765</td>\n",
       "      <td>1.391</td>\n",
       "      <td>1.609</td>\n",
       "      <td>1.362</td>\n",
       "      <td>1.352</td>\n",
       "      <td>1.321</td>\n",
       "      <td>0.701</td>\n",
       "      <td>0.784</td>\n",
       "      <td>0.587</td>\n",
       "      <td>0.788</td>\n",
       "      <td>0.636</td>\n",
       "      <td>0.728</td>\n",
       "      <td>0.097</td>\n",
       "      <td>0.061</td>\n",
       "      <td>0.177</td>\n",
       "      <td>0.097</td>\n",
       "      <td>0.136</td>\n",
       "      <td>0.128</td>\n",
       "      <td>0.114</td>\n",
       "      <td>0.109</td>\n",
       "      <td>0.152</td>\n",
       "      <td>0.147</td>\n",
       "      <td>...</td>\n",
       "      <td>0.116</td>\n",
       "      <td>0.126</td>\n",
       "      <td>0.118</td>\n",
       "      <td>0.136</td>\n",
       "      <td>0.126</td>\n",
       "      <td>0.137</td>\n",
       "      <td>0.138</td>\n",
       "      <td>0.158</td>\n",
       "      <td>0.220</td>\n",
       "      <td>0.215</td>\n",
       "      <td>0.511</td>\n",
       "      <td>0.717</td>\n",
       "      <td>0.647</td>\n",
       "      <td>0.653</td>\n",
       "      <td>0.330</td>\n",
       "      <td>0.186</td>\n",
       "      <td>0.163</td>\n",
       "      <td>0.170</td>\n",
       "      <td>0.175</td>\n",
       "      <td>0.167</td>\n",
       "      <td>0.185</td>\n",
       "      <td>0.171</td>\n",
       "      <td>0.196</td>\n",
       "      <td>0.260</td>\n",
       "      <td>0.318</td>\n",
       "    </tr>\n",
       "    <tr>\n",
       "      <th>3247</th>\n",
       "      <td>0xcd19e6fe3d887bc5dcac7ca18d46199695463fdd</td>\n",
       "      <td>0.023</td>\n",
       "      <td>2.307</td>\n",
       "      <td>1.403</td>\n",
       "      <td>1.471</td>\n",
       "      <td>1.421</td>\n",
       "      <td>1.305</td>\n",
       "      <td>1.299</td>\n",
       "      <td>0.657</td>\n",
       "      <td>0.054</td>\n",
       "      <td>0.122</td>\n",
       "      <td>0.033</td>\n",
       "      <td>0.031</td>\n",
       "      <td>0.129</td>\n",
       "      <td>0.032</td>\n",
       "      <td>0.043</td>\n",
       "      <td>0.040</td>\n",
       "      <td>0.026</td>\n",
       "      <td>0.023</td>\n",
       "      <td>0.026</td>\n",
       "      <td>0.027</td>\n",
       "      <td>0.022</td>\n",
       "      <td>0.042</td>\n",
       "      <td>0.040</td>\n",
       "      <td>0.022</td>\n",
       "      <td>...</td>\n",
       "      <td>0.115</td>\n",
       "      <td>0.119</td>\n",
       "      <td>0.115</td>\n",
       "      <td>0.143</td>\n",
       "      <td>0.140</td>\n",
       "      <td>0.147</td>\n",
       "      <td>0.121</td>\n",
       "      <td>0.124</td>\n",
       "      <td>0.133</td>\n",
       "      <td>0.153</td>\n",
       "      <td>0.148</td>\n",
       "      <td>0.166</td>\n",
       "      <td>0.161</td>\n",
       "      <td>0.188</td>\n",
       "      <td>0.181</td>\n",
       "      <td>0.182</td>\n",
       "      <td>0.182</td>\n",
       "      <td>0.194</td>\n",
       "      <td>0.187</td>\n",
       "      <td>0.170</td>\n",
       "      <td>0.200</td>\n",
       "      <td>0.203</td>\n",
       "      <td>0.203</td>\n",
       "      <td>0.190</td>\n",
       "      <td>0.186</td>\n",
       "    </tr>\n",
       "  </tbody>\n",
       "</table>\n",
       "<p>3248 rows × 17521 columns</p>\n",
       "</div>"
      ],
      "text/plain": [
       "                                        meter_id  2017-01-01 00:00:00  \\\n",
       "0     0xa62b9f23553ff183f61e2bf943aab3d5983d02d7                  NaN   \n",
       "1     0x459c834d1f6cfb5b734b82aa9f5410fa97fb70da                  NaN   \n",
       "2     0x4a1ed36825360a058cec2bdd409fc2459e1ce54f                  NaN   \n",
       "3     0x5b76d3c0e0aefc6e0a8d1d031f96388a23263407                  NaN   \n",
       "4     0x943ebe39ef2be6ef807c42c5a647e27112ca5b0f                  NaN   \n",
       "...                                          ...                  ...   \n",
       "3243  0x7dd7a7b8ee1bec7c44b24f738c752482f6161065                0.011   \n",
       "3244  0xfdaf9f857621ec06f2cf801f42a020a322835090                0.015   \n",
       "3245  0xd28f2f001e0cd4d6c121a3cb2e1427207e170e18                0.222   \n",
       "3246  0x47218b46abb2fcaade487a211911406dc6e13730                0.195   \n",
       "3247  0xcd19e6fe3d887bc5dcac7ca18d46199695463fdd                0.023   \n",
       "\n",
       "      2017-01-01 00:30:00  2017-01-01 01:00:00  2017-01-01 01:30:00  \\\n",
       "0                     NaN                  NaN                  NaN   \n",
       "1                     NaN                  NaN                  NaN   \n",
       "2                     NaN                  NaN                  NaN   \n",
       "3                     NaN                  NaN                  NaN   \n",
       "4                     NaN                  NaN                  NaN   \n",
       "...                   ...                  ...                  ...   \n",
       "3243                1.089                0.014                0.204   \n",
       "3244                1.523                0.105                0.296   \n",
       "3245                0.276                0.097                0.058   \n",
       "3246                2.881                1.765                1.391   \n",
       "3247                2.307                1.403                1.471   \n",
       "\n",
       "      2017-01-01 02:00:00  2017-01-01 02:30:00  2017-01-01 03:00:00  \\\n",
       "0                     NaN                  NaN                  NaN   \n",
       "1                     NaN                  NaN                  NaN   \n",
       "2                     NaN                  NaN                  NaN   \n",
       "3                     NaN                  NaN                  NaN   \n",
       "4                     NaN                  NaN                  NaN   \n",
       "...                   ...                  ...                  ...   \n",
       "3243                0.015                0.159                0.014   \n",
       "3244                0.067                0.171                0.025   \n",
       "3245                0.045                0.045                0.038   \n",
       "3246                1.609                1.362                1.352   \n",
       "3247                1.421                1.305                1.299   \n",
       "\n",
       "      2017-01-01 03:30:00  2017-01-01 04:00:00  2017-01-01 04:30:00  \\\n",
       "0                     NaN                  NaN                  NaN   \n",
       "1                     NaN                  NaN                  NaN   \n",
       "2                     NaN                  NaN                  NaN   \n",
       "3                     NaN                  NaN                  NaN   \n",
       "4                     NaN                  NaN                  NaN   \n",
       "...                   ...                  ...                  ...   \n",
       "3243                0.013                0.174                0.013   \n",
       "3244                0.260                0.013                0.024   \n",
       "3245                0.034                0.043                0.044   \n",
       "3246                1.321                0.701                0.784   \n",
       "3247                0.657                0.054                0.122   \n",
       "\n",
       "      2017-01-01 05:00:00  2017-01-01 05:30:00  2017-01-01 06:00:00  \\\n",
       "0                     NaN                  NaN                  NaN   \n",
       "1                     NaN                  NaN                  NaN   \n",
       "2                     NaN                  NaN                  NaN   \n",
       "3                     NaN                  NaN                  NaN   \n",
       "4                     NaN                  NaN                  NaN   \n",
       "...                   ...                  ...                  ...   \n",
       "3243                0.014                0.014                0.014   \n",
       "3244                0.012                0.178                0.018   \n",
       "3245                0.046                0.033                0.038   \n",
       "3246                0.587                0.788                0.636   \n",
       "3247                0.033                0.031                0.129   \n",
       "\n",
       "      2017-01-01 06:30:00  2017-01-01 07:00:00  2017-01-01 07:30:00  \\\n",
       "0                     NaN                  NaN                  NaN   \n",
       "1                     NaN                  NaN                  NaN   \n",
       "2                     NaN                  NaN                  NaN   \n",
       "3                     NaN                  NaN                  NaN   \n",
       "4                     NaN                  NaN                  NaN   \n",
       "...                   ...                  ...                  ...   \n",
       "3243                0.189                0.015                0.011   \n",
       "3244                0.454                0.290                1.228   \n",
       "3245                0.043                0.056                0.250   \n",
       "3246                0.728                0.097                0.061   \n",
       "3247                0.032                0.043                0.040   \n",
       "\n",
       "      2017-01-01 08:00:00  2017-01-01 08:30:00  2017-01-01 09:00:00  \\\n",
       "0                     NaN                  NaN                  NaN   \n",
       "1                     NaN                  NaN                  NaN   \n",
       "2                     NaN                  NaN                  NaN   \n",
       "3                     NaN                  NaN                  NaN   \n",
       "4                     NaN                  NaN                  NaN   \n",
       "...                   ...                  ...                  ...   \n",
       "3243                0.011                0.011                0.011   \n",
       "3244                1.228                1.229                1.199   \n",
       "3245                0.187                0.207                0.182   \n",
       "3246                0.177                0.097                0.136   \n",
       "3247                0.026                0.023                0.026   \n",
       "\n",
       "      2017-01-01 09:30:00  2017-01-01 10:00:00  2017-01-01 10:30:00  \\\n",
       "0                     NaN                  NaN                  NaN   \n",
       "1                     NaN                  NaN                  NaN   \n",
       "2                     NaN                  NaN                  NaN   \n",
       "3                     NaN                  NaN                  NaN   \n",
       "4                     NaN                  NaN                  NaN   \n",
       "...                   ...                  ...                  ...   \n",
       "3243                0.011                0.011                0.011   \n",
       "3244                1.075                0.021                0.009   \n",
       "3245                0.164                0.144                0.055   \n",
       "3246                0.128                0.114                0.109   \n",
       "3247                0.027                0.022                0.042   \n",
       "\n",
       "      2017-01-01 11:00:00  2017-01-01 11:30:00  ...  2017-12-31 11:30:00  \\\n",
       "0                     NaN                  NaN  ...                0.126   \n",
       "1                     NaN                  NaN  ...                0.212   \n",
       "2                     NaN                  NaN  ...                0.005   \n",
       "3                     NaN                  NaN  ...                0.104   \n",
       "4                     NaN                  NaN  ...                0.545   \n",
       "...                   ...                  ...  ...                  ...   \n",
       "3243                0.011                0.011  ...                0.195   \n",
       "3244                0.019                0.011  ...                0.009   \n",
       "3245                0.052                0.051  ...                0.181   \n",
       "3246                0.152                0.147  ...                0.116   \n",
       "3247                0.040                0.022  ...                0.115   \n",
       "\n",
       "      2017-12-31 12:00:00  2017-12-31 12:30:00  2017-12-31 13:00:00  \\\n",
       "0                   0.094                0.070                0.064   \n",
       "1                   0.170                0.078                0.092   \n",
       "2                   0.029                0.196                0.134   \n",
       "3                   0.039                0.120                0.063   \n",
       "4                   0.150                0.498                1.165   \n",
       "...                   ...                  ...                  ...   \n",
       "3243                0.181                0.177                0.184   \n",
       "3244                0.008                0.016                0.028   \n",
       "3245                0.195                0.462                0.631   \n",
       "3246                0.126                0.118                0.136   \n",
       "3247                0.119                0.115                0.143   \n",
       "\n",
       "      2017-12-31 13:30:00  2017-12-31 14:00:00  2017-12-31 14:30:00  \\\n",
       "0                   0.075                0.063                0.078   \n",
       "1                   0.102                0.253                0.383   \n",
       "2                   0.069                0.067                0.025   \n",
       "3                   0.078                0.111                0.074   \n",
       "4                   1.054                0.498                0.199   \n",
       "...                   ...                  ...                  ...   \n",
       "3243                0.198                0.177                0.182   \n",
       "3244                0.008                0.009                0.009   \n",
       "3245                0.203                0.189                0.242   \n",
       "3246                0.126                0.137                0.138   \n",
       "3247                0.140                0.147                0.121   \n",
       "\n",
       "      2017-12-31 15:00:00  2017-12-31 15:30:00  2017-12-31 16:00:00  \\\n",
       "0                   0.804                0.183                0.149   \n",
       "1                   0.068                0.077                0.085   \n",
       "2                   0.026                0.020                0.014   \n",
       "3                   0.103                0.635                0.421   \n",
       "4                   0.058                0.019                0.068   \n",
       "...                   ...                  ...                  ...   \n",
       "3243                0.180                0.196                0.182   \n",
       "3244                0.015                0.028                0.009   \n",
       "3245                0.264                0.187                0.479   \n",
       "3246                0.158                0.220                0.215   \n",
       "3247                0.124                0.133                0.153   \n",
       "\n",
       "      2017-12-31 16:30:00  2017-12-31 17:00:00  2017-12-31 17:30:00  \\\n",
       "0                   0.238                0.351                0.108   \n",
       "1                   0.594                0.413                0.277   \n",
       "2                   0.032                0.019                0.107   \n",
       "3                   0.466                0.087                0.052   \n",
       "4                   0.077                0.060                0.024   \n",
       "...                   ...                  ...                  ...   \n",
       "3243                0.177                0.181                0.203   \n",
       "3244                0.012                0.023                0.034   \n",
       "3245                0.316                0.275                0.503   \n",
       "3246                0.511                0.717                0.647   \n",
       "3247                0.148                0.166                0.161   \n",
       "\n",
       "      2017-12-31 18:00:00  2017-12-31 18:30:00  2017-12-31 19:00:00  \\\n",
       "0                   0.077                0.059                0.052   \n",
       "1                   0.315                0.691                0.402   \n",
       "2                   0.104                0.124                0.110   \n",
       "3                   0.115                0.150                0.118   \n",
       "4                   0.026                0.016                0.022   \n",
       "...                   ...                  ...                  ...   \n",
       "3243                0.176                0.183                0.176   \n",
       "3244                0.040                0.025                0.022   \n",
       "3245                0.422                0.343                0.144   \n",
       "3246                0.653                0.330                0.186   \n",
       "3247                0.188                0.181                0.182   \n",
       "\n",
       "      2017-12-31 19:30:00  2017-12-31 20:00:00  2017-12-31 20:30:00  \\\n",
       "0                   0.091                0.083                0.082   \n",
       "1                   0.639                0.537                0.834   \n",
       "2                   0.123                0.012                0.034   \n",
       "3                   0.096                0.135                0.041   \n",
       "4                   0.010                0.036                0.006   \n",
       "...                   ...                  ...                  ...   \n",
       "3243                0.200                0.184                0.177   \n",
       "3244                0.009                0.028                0.020   \n",
       "3245                0.169                0.145                0.200   \n",
       "3246                0.163                0.170                0.175   \n",
       "3247                0.182                0.194                0.187   \n",
       "\n",
       "      2017-12-31 21:00:00  2017-12-31 21:30:00  2017-12-31 22:00:00  \\\n",
       "0                   0.090                0.074                0.092   \n",
       "1                   0.868                0.394                0.073   \n",
       "2                   0.006                0.027                0.001   \n",
       "3                   0.018                0.057                0.018   \n",
       "4                   0.024                0.014                0.028   \n",
       "...                   ...                  ...                  ...   \n",
       "3243                0.182                0.201                0.181   \n",
       "3244                0.010                0.009                0.008   \n",
       "3245                0.170                0.127                0.135   \n",
       "3246                0.167                0.185                0.171   \n",
       "3247                0.170                0.200                0.203   \n",
       "\n",
       "      2017-12-31 22:30:00  2017-12-31 23:00:00  2017-12-31 23:30:00  \n",
       "0                   0.076                0.055                0.036  \n",
       "1                   0.077                0.049                0.048  \n",
       "2                   0.044                0.004                0.035  \n",
       "3                   0.038                0.040                0.014  \n",
       "4                   0.006                0.024                0.025  \n",
       "...                   ...                  ...                  ...  \n",
       "3243                0.181                0.177                0.198  \n",
       "3244                0.033                0.015                0.013  \n",
       "3245                0.200                0.118                0.106  \n",
       "3246                0.196                0.260                0.318  \n",
       "3247                0.203                0.190                0.186  \n",
       "\n",
       "[3248 rows x 17521 columns]"
      ]
     },
     "execution_count": 18,
     "metadata": {},
     "output_type": "execute_result"
    }
   ],
   "source": [
    "df_energy_interpolate"
   ]
  },
  {
   "cell_type": "code",
   "execution_count": 19,
   "metadata": {
    "scrolled": true
   },
   "outputs": [
    {
     "data": {
      "application/vnd.jupyter.widget-view+json": {
       "model_id": "b6b02dc08c8e4a68ab9a120181565122",
       "version_major": 2,
       "version_minor": 0
      },
      "text/plain": [
       "  0%|          | 0/365 [00:00<?, ?it/s]"
      ]
     },
     "metadata": {},
     "output_type": "display_data"
    },
    {
     "data": {
      "application/vnd.jupyter.widget-view+json": {
       "model_id": "",
       "version_major": 2,
       "version_minor": 0
      },
      "text/plain": [
       "  0%|          | 0/3248 [00:00<?, ?it/s]"
      ]
     },
     "metadata": {},
     "output_type": "display_data"
    },
    {
     "data": {
      "application/vnd.jupyter.widget-view+json": {
       "model_id": "",
       "version_major": 2,
       "version_minor": 0
      },
      "text/plain": [
       "  0%|          | 0/3248 [00:00<?, ?it/s]"
      ]
     },
     "metadata": {},
     "output_type": "display_data"
    },
    {
     "data": {
      "application/vnd.jupyter.widget-view+json": {
       "model_id": "",
       "version_major": 2,
       "version_minor": 0
      },
      "text/plain": [
       "  0%|          | 0/3248 [00:00<?, ?it/s]"
      ]
     },
     "metadata": {},
     "output_type": "display_data"
    },
    {
     "data": {
      "application/vnd.jupyter.widget-view+json": {
       "model_id": "",
       "version_major": 2,
       "version_minor": 0
      },
      "text/plain": [
       "  0%|          | 0/3248 [00:00<?, ?it/s]"
      ]
     },
     "metadata": {},
     "output_type": "display_data"
    },
    {
     "data": {
      "application/vnd.jupyter.widget-view+json": {
       "model_id": "",
       "version_major": 2,
       "version_minor": 0
      },
      "text/plain": [
       "  0%|          | 0/3248 [00:00<?, ?it/s]"
      ]
     },
     "metadata": {},
     "output_type": "display_data"
    },
    {
     "data": {
      "application/vnd.jupyter.widget-view+json": {
       "model_id": "",
       "version_major": 2,
       "version_minor": 0
      },
      "text/plain": [
       "  0%|          | 0/3248 [00:00<?, ?it/s]"
      ]
     },
     "metadata": {},
     "output_type": "display_data"
    },
    {
     "data": {
      "application/vnd.jupyter.widget-view+json": {
       "model_id": "",
       "version_major": 2,
       "version_minor": 0
      },
      "text/plain": [
       "  0%|          | 0/3248 [00:00<?, ?it/s]"
      ]
     },
     "metadata": {},
     "output_type": "display_data"
    },
    {
     "data": {
      "application/vnd.jupyter.widget-view+json": {
       "model_id": "",
       "version_major": 2,
       "version_minor": 0
      },
      "text/plain": [
       "  0%|          | 0/3248 [00:00<?, ?it/s]"
      ]
     },
     "metadata": {},
     "output_type": "display_data"
    },
    {
     "data": {
      "application/vnd.jupyter.widget-view+json": {
       "model_id": "",
       "version_major": 2,
       "version_minor": 0
      },
      "text/plain": [
       "  0%|          | 0/3248 [00:00<?, ?it/s]"
      ]
     },
     "metadata": {},
     "output_type": "display_data"
    },
    {
     "data": {
      "application/vnd.jupyter.widget-view+json": {
       "model_id": "",
       "version_major": 2,
       "version_minor": 0
      },
      "text/plain": [
       "  0%|          | 0/3248 [00:00<?, ?it/s]"
      ]
     },
     "metadata": {},
     "output_type": "display_data"
    },
    {
     "data": {
      "application/vnd.jupyter.widget-view+json": {
       "model_id": "",
       "version_major": 2,
       "version_minor": 0
      },
      "text/plain": [
       "  0%|          | 0/3248 [00:00<?, ?it/s]"
      ]
     },
     "metadata": {},
     "output_type": "display_data"
    },
    {
     "data": {
      "application/vnd.jupyter.widget-view+json": {
       "model_id": "",
       "version_major": 2,
       "version_minor": 0
      },
      "text/plain": [
       "  0%|          | 0/3248 [00:00<?, ?it/s]"
      ]
     },
     "metadata": {},
     "output_type": "display_data"
    },
    {
     "data": {
      "application/vnd.jupyter.widget-view+json": {
       "model_id": "",
       "version_major": 2,
       "version_minor": 0
      },
      "text/plain": [
       "  0%|          | 0/3248 [00:00<?, ?it/s]"
      ]
     },
     "metadata": {},
     "output_type": "display_data"
    },
    {
     "data": {
      "application/vnd.jupyter.widget-view+json": {
       "model_id": "",
       "version_major": 2,
       "version_minor": 0
      },
      "text/plain": [
       "  0%|          | 0/3248 [00:00<?, ?it/s]"
      ]
     },
     "metadata": {},
     "output_type": "display_data"
    },
    {
     "data": {
      "application/vnd.jupyter.widget-view+json": {
       "model_id": "",
       "version_major": 2,
       "version_minor": 0
      },
      "text/plain": [
       "  0%|          | 0/3248 [00:00<?, ?it/s]"
      ]
     },
     "metadata": {},
     "output_type": "display_data"
    },
    {
     "data": {
      "application/vnd.jupyter.widget-view+json": {
       "model_id": "",
       "version_major": 2,
       "version_minor": 0
      },
      "text/plain": [
       "  0%|          | 0/3248 [00:00<?, ?it/s]"
      ]
     },
     "metadata": {},
     "output_type": "display_data"
    },
    {
     "data": {
      "application/vnd.jupyter.widget-view+json": {
       "model_id": "",
       "version_major": 2,
       "version_minor": 0
      },
      "text/plain": [
       "  0%|          | 0/3248 [00:00<?, ?it/s]"
      ]
     },
     "metadata": {},
     "output_type": "display_data"
    },
    {
     "data": {
      "application/vnd.jupyter.widget-view+json": {
       "model_id": "",
       "version_major": 2,
       "version_minor": 0
      },
      "text/plain": [
       "  0%|          | 0/3248 [00:00<?, ?it/s]"
      ]
     },
     "metadata": {},
     "output_type": "display_data"
    },
    {
     "data": {
      "application/vnd.jupyter.widget-view+json": {
       "model_id": "",
       "version_major": 2,
       "version_minor": 0
      },
      "text/plain": [
       "  0%|          | 0/3248 [00:00<?, ?it/s]"
      ]
     },
     "metadata": {},
     "output_type": "display_data"
    },
    {
     "data": {
      "application/vnd.jupyter.widget-view+json": {
       "model_id": "",
       "version_major": 2,
       "version_minor": 0
      },
      "text/plain": [
       "  0%|          | 0/3248 [00:00<?, ?it/s]"
      ]
     },
     "metadata": {},
     "output_type": "display_data"
    },
    {
     "data": {
      "application/vnd.jupyter.widget-view+json": {
       "model_id": "",
       "version_major": 2,
       "version_minor": 0
      },
      "text/plain": [
       "  0%|          | 0/3248 [00:00<?, ?it/s]"
      ]
     },
     "metadata": {},
     "output_type": "display_data"
    },
    {
     "data": {
      "application/vnd.jupyter.widget-view+json": {
       "model_id": "",
       "version_major": 2,
       "version_minor": 0
      },
      "text/plain": [
       "  0%|          | 0/3248 [00:00<?, ?it/s]"
      ]
     },
     "metadata": {},
     "output_type": "display_data"
    },
    {
     "data": {
      "application/vnd.jupyter.widget-view+json": {
       "model_id": "",
       "version_major": 2,
       "version_minor": 0
      },
      "text/plain": [
       "  0%|          | 0/3248 [00:00<?, ?it/s]"
      ]
     },
     "metadata": {},
     "output_type": "display_data"
    },
    {
     "data": {
      "application/vnd.jupyter.widget-view+json": {
       "model_id": "",
       "version_major": 2,
       "version_minor": 0
      },
      "text/plain": [
       "  0%|          | 0/3248 [00:00<?, ?it/s]"
      ]
     },
     "metadata": {},
     "output_type": "display_data"
    },
    {
     "data": {
      "application/vnd.jupyter.widget-view+json": {
       "model_id": "",
       "version_major": 2,
       "version_minor": 0
      },
      "text/plain": [
       "  0%|          | 0/3248 [00:00<?, ?it/s]"
      ]
     },
     "metadata": {},
     "output_type": "display_data"
    },
    {
     "data": {
      "application/vnd.jupyter.widget-view+json": {
       "model_id": "",
       "version_major": 2,
       "version_minor": 0
      },
      "text/plain": [
       "  0%|          | 0/3248 [00:00<?, ?it/s]"
      ]
     },
     "metadata": {},
     "output_type": "display_data"
    },
    {
     "data": {
      "application/vnd.jupyter.widget-view+json": {
       "model_id": "",
       "version_major": 2,
       "version_minor": 0
      },
      "text/plain": [
       "  0%|          | 0/3248 [00:00<?, ?it/s]"
      ]
     },
     "metadata": {},
     "output_type": "display_data"
    },
    {
     "data": {
      "application/vnd.jupyter.widget-view+json": {
       "model_id": "",
       "version_major": 2,
       "version_minor": 0
      },
      "text/plain": [
       "  0%|          | 0/3248 [00:00<?, ?it/s]"
      ]
     },
     "metadata": {},
     "output_type": "display_data"
    },
    {
     "data": {
      "application/vnd.jupyter.widget-view+json": {
       "model_id": "",
       "version_major": 2,
       "version_minor": 0
      },
      "text/plain": [
       "  0%|          | 0/3248 [00:00<?, ?it/s]"
      ]
     },
     "metadata": {},
     "output_type": "display_data"
    },
    {
     "data": {
      "application/vnd.jupyter.widget-view+json": {
       "model_id": "",
       "version_major": 2,
       "version_minor": 0
      },
      "text/plain": [
       "  0%|          | 0/3248 [00:00<?, ?it/s]"
      ]
     },
     "metadata": {},
     "output_type": "display_data"
    },
    {
     "data": {
      "application/vnd.jupyter.widget-view+json": {
       "model_id": "",
       "version_major": 2,
       "version_minor": 0
      },
      "text/plain": [
       "  0%|          | 0/3248 [00:00<?, ?it/s]"
      ]
     },
     "metadata": {},
     "output_type": "display_data"
    },
    {
     "data": {
      "application/vnd.jupyter.widget-view+json": {
       "model_id": "",
       "version_major": 2,
       "version_minor": 0
      },
      "text/plain": [
       "  0%|          | 0/3248 [00:00<?, ?it/s]"
      ]
     },
     "metadata": {},
     "output_type": "display_data"
    },
    {
     "data": {
      "application/vnd.jupyter.widget-view+json": {
       "model_id": "",
       "version_major": 2,
       "version_minor": 0
      },
      "text/plain": [
       "  0%|          | 0/3248 [00:00<?, ?it/s]"
      ]
     },
     "metadata": {},
     "output_type": "display_data"
    },
    {
     "data": {
      "application/vnd.jupyter.widget-view+json": {
       "model_id": "",
       "version_major": 2,
       "version_minor": 0
      },
      "text/plain": [
       "  0%|          | 0/3248 [00:00<?, ?it/s]"
      ]
     },
     "metadata": {},
     "output_type": "display_data"
    },
    {
     "data": {
      "application/vnd.jupyter.widget-view+json": {
       "model_id": "",
       "version_major": 2,
       "version_minor": 0
      },
      "text/plain": [
       "  0%|          | 0/3248 [00:00<?, ?it/s]"
      ]
     },
     "metadata": {},
     "output_type": "display_data"
    },
    {
     "data": {
      "application/vnd.jupyter.widget-view+json": {
       "model_id": "",
       "version_major": 2,
       "version_minor": 0
      },
      "text/plain": [
       "  0%|          | 0/3248 [00:00<?, ?it/s]"
      ]
     },
     "metadata": {},
     "output_type": "display_data"
    },
    {
     "data": {
      "application/vnd.jupyter.widget-view+json": {
       "model_id": "",
       "version_major": 2,
       "version_minor": 0
      },
      "text/plain": [
       "  0%|          | 0/3248 [00:00<?, ?it/s]"
      ]
     },
     "metadata": {},
     "output_type": "display_data"
    },
    {
     "data": {
      "application/vnd.jupyter.widget-view+json": {
       "model_id": "",
       "version_major": 2,
       "version_minor": 0
      },
      "text/plain": [
       "  0%|          | 0/3248 [00:00<?, ?it/s]"
      ]
     },
     "metadata": {},
     "output_type": "display_data"
    },
    {
     "data": {
      "application/vnd.jupyter.widget-view+json": {
       "model_id": "",
       "version_major": 2,
       "version_minor": 0
      },
      "text/plain": [
       "  0%|          | 0/3248 [00:00<?, ?it/s]"
      ]
     },
     "metadata": {},
     "output_type": "display_data"
    },
    {
     "data": {
      "application/vnd.jupyter.widget-view+json": {
       "model_id": "",
       "version_major": 2,
       "version_minor": 0
      },
      "text/plain": [
       "  0%|          | 0/3248 [00:00<?, ?it/s]"
      ]
     },
     "metadata": {},
     "output_type": "display_data"
    },
    {
     "data": {
      "application/vnd.jupyter.widget-view+json": {
       "model_id": "",
       "version_major": 2,
       "version_minor": 0
      },
      "text/plain": [
       "  0%|          | 0/3248 [00:00<?, ?it/s]"
      ]
     },
     "metadata": {},
     "output_type": "display_data"
    },
    {
     "data": {
      "application/vnd.jupyter.widget-view+json": {
       "model_id": "",
       "version_major": 2,
       "version_minor": 0
      },
      "text/plain": [
       "  0%|          | 0/3248 [00:00<?, ?it/s]"
      ]
     },
     "metadata": {},
     "output_type": "display_data"
    },
    {
     "data": {
      "application/vnd.jupyter.widget-view+json": {
       "model_id": "",
       "version_major": 2,
       "version_minor": 0
      },
      "text/plain": [
       "  0%|          | 0/3248 [00:00<?, ?it/s]"
      ]
     },
     "metadata": {},
     "output_type": "display_data"
    },
    {
     "data": {
      "application/vnd.jupyter.widget-view+json": {
       "model_id": "",
       "version_major": 2,
       "version_minor": 0
      },
      "text/plain": [
       "  0%|          | 0/3248 [00:00<?, ?it/s]"
      ]
     },
     "metadata": {},
     "output_type": "display_data"
    },
    {
     "data": {
      "application/vnd.jupyter.widget-view+json": {
       "model_id": "",
       "version_major": 2,
       "version_minor": 0
      },
      "text/plain": [
       "  0%|          | 0/3248 [00:00<?, ?it/s]"
      ]
     },
     "metadata": {},
     "output_type": "display_data"
    },
    {
     "data": {
      "application/vnd.jupyter.widget-view+json": {
       "model_id": "",
       "version_major": 2,
       "version_minor": 0
      },
      "text/plain": [
       "  0%|          | 0/3248 [00:00<?, ?it/s]"
      ]
     },
     "metadata": {},
     "output_type": "display_data"
    },
    {
     "data": {
      "application/vnd.jupyter.widget-view+json": {
       "model_id": "",
       "version_major": 2,
       "version_minor": 0
      },
      "text/plain": [
       "  0%|          | 0/3248 [00:00<?, ?it/s]"
      ]
     },
     "metadata": {},
     "output_type": "display_data"
    },
    {
     "data": {
      "application/vnd.jupyter.widget-view+json": {
       "model_id": "",
       "version_major": 2,
       "version_minor": 0
      },
      "text/plain": [
       "  0%|          | 0/3248 [00:00<?, ?it/s]"
      ]
     },
     "metadata": {},
     "output_type": "display_data"
    },
    {
     "data": {
      "application/vnd.jupyter.widget-view+json": {
       "model_id": "",
       "version_major": 2,
       "version_minor": 0
      },
      "text/plain": [
       "  0%|          | 0/3248 [00:00<?, ?it/s]"
      ]
     },
     "metadata": {},
     "output_type": "display_data"
    },
    {
     "data": {
      "application/vnd.jupyter.widget-view+json": {
       "model_id": "",
       "version_major": 2,
       "version_minor": 0
      },
      "text/plain": [
       "  0%|          | 0/3248 [00:00<?, ?it/s]"
      ]
     },
     "metadata": {},
     "output_type": "display_data"
    },
    {
     "data": {
      "application/vnd.jupyter.widget-view+json": {
       "model_id": "",
       "version_major": 2,
       "version_minor": 0
      },
      "text/plain": [
       "  0%|          | 0/3248 [00:00<?, ?it/s]"
      ]
     },
     "metadata": {},
     "output_type": "display_data"
    },
    {
     "data": {
      "application/vnd.jupyter.widget-view+json": {
       "model_id": "",
       "version_major": 2,
       "version_minor": 0
      },
      "text/plain": [
       "  0%|          | 0/3248 [00:00<?, ?it/s]"
      ]
     },
     "metadata": {},
     "output_type": "display_data"
    },
    {
     "data": {
      "application/vnd.jupyter.widget-view+json": {
       "model_id": "",
       "version_major": 2,
       "version_minor": 0
      },
      "text/plain": [
       "  0%|          | 0/3248 [00:00<?, ?it/s]"
      ]
     },
     "metadata": {},
     "output_type": "display_data"
    },
    {
     "data": {
      "application/vnd.jupyter.widget-view+json": {
       "model_id": "",
       "version_major": 2,
       "version_minor": 0
      },
      "text/plain": [
       "  0%|          | 0/3248 [00:00<?, ?it/s]"
      ]
     },
     "metadata": {},
     "output_type": "display_data"
    },
    {
     "data": {
      "application/vnd.jupyter.widget-view+json": {
       "model_id": "",
       "version_major": 2,
       "version_minor": 0
      },
      "text/plain": [
       "  0%|          | 0/3248 [00:00<?, ?it/s]"
      ]
     },
     "metadata": {},
     "output_type": "display_data"
    },
    {
     "data": {
      "application/vnd.jupyter.widget-view+json": {
       "model_id": "",
       "version_major": 2,
       "version_minor": 0
      },
      "text/plain": [
       "  0%|          | 0/3248 [00:00<?, ?it/s]"
      ]
     },
     "metadata": {},
     "output_type": "display_data"
    },
    {
     "data": {
      "application/vnd.jupyter.widget-view+json": {
       "model_id": "",
       "version_major": 2,
       "version_minor": 0
      },
      "text/plain": [
       "  0%|          | 0/3248 [00:00<?, ?it/s]"
      ]
     },
     "metadata": {},
     "output_type": "display_data"
    },
    {
     "data": {
      "application/vnd.jupyter.widget-view+json": {
       "model_id": "",
       "version_major": 2,
       "version_minor": 0
      },
      "text/plain": [
       "  0%|          | 0/3248 [00:00<?, ?it/s]"
      ]
     },
     "metadata": {},
     "output_type": "display_data"
    },
    {
     "data": {
      "application/vnd.jupyter.widget-view+json": {
       "model_id": "",
       "version_major": 2,
       "version_minor": 0
      },
      "text/plain": [
       "  0%|          | 0/3248 [00:00<?, ?it/s]"
      ]
     },
     "metadata": {},
     "output_type": "display_data"
    },
    {
     "data": {
      "application/vnd.jupyter.widget-view+json": {
       "model_id": "",
       "version_major": 2,
       "version_minor": 0
      },
      "text/plain": [
       "  0%|          | 0/3248 [00:00<?, ?it/s]"
      ]
     },
     "metadata": {},
     "output_type": "display_data"
    },
    {
     "data": {
      "application/vnd.jupyter.widget-view+json": {
       "model_id": "",
       "version_major": 2,
       "version_minor": 0
      },
      "text/plain": [
       "  0%|          | 0/3248 [00:00<?, ?it/s]"
      ]
     },
     "metadata": {},
     "output_type": "display_data"
    },
    {
     "data": {
      "application/vnd.jupyter.widget-view+json": {
       "model_id": "",
       "version_major": 2,
       "version_minor": 0
      },
      "text/plain": [
       "  0%|          | 0/3248 [00:00<?, ?it/s]"
      ]
     },
     "metadata": {},
     "output_type": "display_data"
    },
    {
     "data": {
      "application/vnd.jupyter.widget-view+json": {
       "model_id": "",
       "version_major": 2,
       "version_minor": 0
      },
      "text/plain": [
       "  0%|          | 0/3248 [00:00<?, ?it/s]"
      ]
     },
     "metadata": {},
     "output_type": "display_data"
    },
    {
     "data": {
      "application/vnd.jupyter.widget-view+json": {
       "model_id": "",
       "version_major": 2,
       "version_minor": 0
      },
      "text/plain": [
       "  0%|          | 0/3248 [00:00<?, ?it/s]"
      ]
     },
     "metadata": {},
     "output_type": "display_data"
    },
    {
     "data": {
      "application/vnd.jupyter.widget-view+json": {
       "model_id": "",
       "version_major": 2,
       "version_minor": 0
      },
      "text/plain": [
       "  0%|          | 0/3248 [00:00<?, ?it/s]"
      ]
     },
     "metadata": {},
     "output_type": "display_data"
    },
    {
     "data": {
      "application/vnd.jupyter.widget-view+json": {
       "model_id": "",
       "version_major": 2,
       "version_minor": 0
      },
      "text/plain": [
       "  0%|          | 0/3248 [00:00<?, ?it/s]"
      ]
     },
     "metadata": {},
     "output_type": "display_data"
    },
    {
     "data": {
      "application/vnd.jupyter.widget-view+json": {
       "model_id": "",
       "version_major": 2,
       "version_minor": 0
      },
      "text/plain": [
       "  0%|          | 0/3248 [00:00<?, ?it/s]"
      ]
     },
     "metadata": {},
     "output_type": "display_data"
    },
    {
     "data": {
      "application/vnd.jupyter.widget-view+json": {
       "model_id": "",
       "version_major": 2,
       "version_minor": 0
      },
      "text/plain": [
       "  0%|          | 0/3248 [00:00<?, ?it/s]"
      ]
     },
     "metadata": {},
     "output_type": "display_data"
    },
    {
     "data": {
      "application/vnd.jupyter.widget-view+json": {
       "model_id": "",
       "version_major": 2,
       "version_minor": 0
      },
      "text/plain": [
       "  0%|          | 0/3248 [00:00<?, ?it/s]"
      ]
     },
     "metadata": {},
     "output_type": "display_data"
    },
    {
     "data": {
      "application/vnd.jupyter.widget-view+json": {
       "model_id": "",
       "version_major": 2,
       "version_minor": 0
      },
      "text/plain": [
       "  0%|          | 0/3248 [00:00<?, ?it/s]"
      ]
     },
     "metadata": {},
     "output_type": "display_data"
    },
    {
     "data": {
      "application/vnd.jupyter.widget-view+json": {
       "model_id": "",
       "version_major": 2,
       "version_minor": 0
      },
      "text/plain": [
       "  0%|          | 0/3248 [00:00<?, ?it/s]"
      ]
     },
     "metadata": {},
     "output_type": "display_data"
    },
    {
     "data": {
      "application/vnd.jupyter.widget-view+json": {
       "model_id": "",
       "version_major": 2,
       "version_minor": 0
      },
      "text/plain": [
       "  0%|          | 0/3248 [00:00<?, ?it/s]"
      ]
     },
     "metadata": {},
     "output_type": "display_data"
    },
    {
     "data": {
      "application/vnd.jupyter.widget-view+json": {
       "model_id": "",
       "version_major": 2,
       "version_minor": 0
      },
      "text/plain": [
       "  0%|          | 0/3248 [00:00<?, ?it/s]"
      ]
     },
     "metadata": {},
     "output_type": "display_data"
    },
    {
     "data": {
      "application/vnd.jupyter.widget-view+json": {
       "model_id": "",
       "version_major": 2,
       "version_minor": 0
      },
      "text/plain": [
       "  0%|          | 0/3248 [00:00<?, ?it/s]"
      ]
     },
     "metadata": {},
     "output_type": "display_data"
    },
    {
     "data": {
      "application/vnd.jupyter.widget-view+json": {
       "model_id": "",
       "version_major": 2,
       "version_minor": 0
      },
      "text/plain": [
       "  0%|          | 0/3248 [00:00<?, ?it/s]"
      ]
     },
     "metadata": {},
     "output_type": "display_data"
    },
    {
     "data": {
      "application/vnd.jupyter.widget-view+json": {
       "model_id": "",
       "version_major": 2,
       "version_minor": 0
      },
      "text/plain": [
       "  0%|          | 0/3248 [00:00<?, ?it/s]"
      ]
     },
     "metadata": {},
     "output_type": "display_data"
    },
    {
     "data": {
      "application/vnd.jupyter.widget-view+json": {
       "model_id": "",
       "version_major": 2,
       "version_minor": 0
      },
      "text/plain": [
       "  0%|          | 0/3248 [00:00<?, ?it/s]"
      ]
     },
     "metadata": {},
     "output_type": "display_data"
    },
    {
     "data": {
      "application/vnd.jupyter.widget-view+json": {
       "model_id": "",
       "version_major": 2,
       "version_minor": 0
      },
      "text/plain": [
       "  0%|          | 0/3248 [00:00<?, ?it/s]"
      ]
     },
     "metadata": {},
     "output_type": "display_data"
    },
    {
     "data": {
      "application/vnd.jupyter.widget-view+json": {
       "model_id": "",
       "version_major": 2,
       "version_minor": 0
      },
      "text/plain": [
       "  0%|          | 0/3248 [00:00<?, ?it/s]"
      ]
     },
     "metadata": {},
     "output_type": "display_data"
    },
    {
     "data": {
      "application/vnd.jupyter.widget-view+json": {
       "model_id": "",
       "version_major": 2,
       "version_minor": 0
      },
      "text/plain": [
       "  0%|          | 0/3248 [00:00<?, ?it/s]"
      ]
     },
     "metadata": {},
     "output_type": "display_data"
    },
    {
     "data": {
      "application/vnd.jupyter.widget-view+json": {
       "model_id": "",
       "version_major": 2,
       "version_minor": 0
      },
      "text/plain": [
       "  0%|          | 0/3248 [00:00<?, ?it/s]"
      ]
     },
     "metadata": {},
     "output_type": "display_data"
    },
    {
     "data": {
      "application/vnd.jupyter.widget-view+json": {
       "model_id": "",
       "version_major": 2,
       "version_minor": 0
      },
      "text/plain": [
       "  0%|          | 0/3248 [00:00<?, ?it/s]"
      ]
     },
     "metadata": {},
     "output_type": "display_data"
    },
    {
     "data": {
      "application/vnd.jupyter.widget-view+json": {
       "model_id": "",
       "version_major": 2,
       "version_minor": 0
      },
      "text/plain": [
       "  0%|          | 0/3248 [00:00<?, ?it/s]"
      ]
     },
     "metadata": {},
     "output_type": "display_data"
    },
    {
     "data": {
      "application/vnd.jupyter.widget-view+json": {
       "model_id": "",
       "version_major": 2,
       "version_minor": 0
      },
      "text/plain": [
       "  0%|          | 0/3248 [00:00<?, ?it/s]"
      ]
     },
     "metadata": {},
     "output_type": "display_data"
    },
    {
     "data": {
      "application/vnd.jupyter.widget-view+json": {
       "model_id": "",
       "version_major": 2,
       "version_minor": 0
      },
      "text/plain": [
       "  0%|          | 0/3248 [00:00<?, ?it/s]"
      ]
     },
     "metadata": {},
     "output_type": "display_data"
    },
    {
     "data": {
      "application/vnd.jupyter.widget-view+json": {
       "model_id": "",
       "version_major": 2,
       "version_minor": 0
      },
      "text/plain": [
       "  0%|          | 0/3248 [00:00<?, ?it/s]"
      ]
     },
     "metadata": {},
     "output_type": "display_data"
    },
    {
     "data": {
      "application/vnd.jupyter.widget-view+json": {
       "model_id": "",
       "version_major": 2,
       "version_minor": 0
      },
      "text/plain": [
       "  0%|          | 0/3248 [00:00<?, ?it/s]"
      ]
     },
     "metadata": {},
     "output_type": "display_data"
    },
    {
     "data": {
      "application/vnd.jupyter.widget-view+json": {
       "model_id": "",
       "version_major": 2,
       "version_minor": 0
      },
      "text/plain": [
       "  0%|          | 0/3248 [00:00<?, ?it/s]"
      ]
     },
     "metadata": {},
     "output_type": "display_data"
    },
    {
     "data": {
      "application/vnd.jupyter.widget-view+json": {
       "model_id": "",
       "version_major": 2,
       "version_minor": 0
      },
      "text/plain": [
       "  0%|          | 0/3248 [00:00<?, ?it/s]"
      ]
     },
     "metadata": {},
     "output_type": "display_data"
    },
    {
     "data": {
      "application/vnd.jupyter.widget-view+json": {
       "model_id": "",
       "version_major": 2,
       "version_minor": 0
      },
      "text/plain": [
       "  0%|          | 0/3248 [00:00<?, ?it/s]"
      ]
     },
     "metadata": {},
     "output_type": "display_data"
    },
    {
     "data": {
      "application/vnd.jupyter.widget-view+json": {
       "model_id": "",
       "version_major": 2,
       "version_minor": 0
      },
      "text/plain": [
       "  0%|          | 0/3248 [00:00<?, ?it/s]"
      ]
     },
     "metadata": {},
     "output_type": "display_data"
    },
    {
     "data": {
      "application/vnd.jupyter.widget-view+json": {
       "model_id": "",
       "version_major": 2,
       "version_minor": 0
      },
      "text/plain": [
       "  0%|          | 0/3248 [00:00<?, ?it/s]"
      ]
     },
     "metadata": {},
     "output_type": "display_data"
    },
    {
     "data": {
      "application/vnd.jupyter.widget-view+json": {
       "model_id": "",
       "version_major": 2,
       "version_minor": 0
      },
      "text/plain": [
       "  0%|          | 0/3248 [00:00<?, ?it/s]"
      ]
     },
     "metadata": {},
     "output_type": "display_data"
    },
    {
     "data": {
      "application/vnd.jupyter.widget-view+json": {
       "model_id": "",
       "version_major": 2,
       "version_minor": 0
      },
      "text/plain": [
       "  0%|          | 0/3248 [00:00<?, ?it/s]"
      ]
     },
     "metadata": {},
     "output_type": "display_data"
    },
    {
     "data": {
      "application/vnd.jupyter.widget-view+json": {
       "model_id": "",
       "version_major": 2,
       "version_minor": 0
      },
      "text/plain": [
       "  0%|          | 0/3248 [00:00<?, ?it/s]"
      ]
     },
     "metadata": {},
     "output_type": "display_data"
    },
    {
     "data": {
      "application/vnd.jupyter.widget-view+json": {
       "model_id": "",
       "version_major": 2,
       "version_minor": 0
      },
      "text/plain": [
       "  0%|          | 0/3248 [00:00<?, ?it/s]"
      ]
     },
     "metadata": {},
     "output_type": "display_data"
    },
    {
     "data": {
      "application/vnd.jupyter.widget-view+json": {
       "model_id": "",
       "version_major": 2,
       "version_minor": 0
      },
      "text/plain": [
       "  0%|          | 0/3248 [00:00<?, ?it/s]"
      ]
     },
     "metadata": {},
     "output_type": "display_data"
    },
    {
     "data": {
      "application/vnd.jupyter.widget-view+json": {
       "model_id": "",
       "version_major": 2,
       "version_minor": 0
      },
      "text/plain": [
       "  0%|          | 0/3248 [00:00<?, ?it/s]"
      ]
     },
     "metadata": {},
     "output_type": "display_data"
    },
    {
     "data": {
      "application/vnd.jupyter.widget-view+json": {
       "model_id": "",
       "version_major": 2,
       "version_minor": 0
      },
      "text/plain": [
       "  0%|          | 0/3248 [00:00<?, ?it/s]"
      ]
     },
     "metadata": {},
     "output_type": "display_data"
    },
    {
     "data": {
      "application/vnd.jupyter.widget-view+json": {
       "model_id": "",
       "version_major": 2,
       "version_minor": 0
      },
      "text/plain": [
       "  0%|          | 0/3248 [00:00<?, ?it/s]"
      ]
     },
     "metadata": {},
     "output_type": "display_data"
    },
    {
     "data": {
      "application/vnd.jupyter.widget-view+json": {
       "model_id": "",
       "version_major": 2,
       "version_minor": 0
      },
      "text/plain": [
       "  0%|          | 0/3248 [00:00<?, ?it/s]"
      ]
     },
     "metadata": {},
     "output_type": "display_data"
    },
    {
     "data": {
      "application/vnd.jupyter.widget-view+json": {
       "model_id": "",
       "version_major": 2,
       "version_minor": 0
      },
      "text/plain": [
       "  0%|          | 0/3248 [00:00<?, ?it/s]"
      ]
     },
     "metadata": {},
     "output_type": "display_data"
    },
    {
     "data": {
      "application/vnd.jupyter.widget-view+json": {
       "model_id": "",
       "version_major": 2,
       "version_minor": 0
      },
      "text/plain": [
       "  0%|          | 0/3248 [00:00<?, ?it/s]"
      ]
     },
     "metadata": {},
     "output_type": "display_data"
    },
    {
     "data": {
      "application/vnd.jupyter.widget-view+json": {
       "model_id": "",
       "version_major": 2,
       "version_minor": 0
      },
      "text/plain": [
       "  0%|          | 0/3248 [00:00<?, ?it/s]"
      ]
     },
     "metadata": {},
     "output_type": "display_data"
    },
    {
     "data": {
      "application/vnd.jupyter.widget-view+json": {
       "model_id": "",
       "version_major": 2,
       "version_minor": 0
      },
      "text/plain": [
       "  0%|          | 0/3248 [00:00<?, ?it/s]"
      ]
     },
     "metadata": {},
     "output_type": "display_data"
    },
    {
     "data": {
      "application/vnd.jupyter.widget-view+json": {
       "model_id": "",
       "version_major": 2,
       "version_minor": 0
      },
      "text/plain": [
       "  0%|          | 0/3248 [00:00<?, ?it/s]"
      ]
     },
     "metadata": {},
     "output_type": "display_data"
    },
    {
     "data": {
      "application/vnd.jupyter.widget-view+json": {
       "model_id": "",
       "version_major": 2,
       "version_minor": 0
      },
      "text/plain": [
       "  0%|          | 0/3248 [00:00<?, ?it/s]"
      ]
     },
     "metadata": {},
     "output_type": "display_data"
    },
    {
     "data": {
      "application/vnd.jupyter.widget-view+json": {
       "model_id": "",
       "version_major": 2,
       "version_minor": 0
      },
      "text/plain": [
       "  0%|          | 0/3248 [00:00<?, ?it/s]"
      ]
     },
     "metadata": {},
     "output_type": "display_data"
    },
    {
     "data": {
      "application/vnd.jupyter.widget-view+json": {
       "model_id": "",
       "version_major": 2,
       "version_minor": 0
      },
      "text/plain": [
       "  0%|          | 0/3248 [00:00<?, ?it/s]"
      ]
     },
     "metadata": {},
     "output_type": "display_data"
    },
    {
     "data": {
      "application/vnd.jupyter.widget-view+json": {
       "model_id": "",
       "version_major": 2,
       "version_minor": 0
      },
      "text/plain": [
       "  0%|          | 0/3248 [00:00<?, ?it/s]"
      ]
     },
     "metadata": {},
     "output_type": "display_data"
    },
    {
     "data": {
      "application/vnd.jupyter.widget-view+json": {
       "model_id": "",
       "version_major": 2,
       "version_minor": 0
      },
      "text/plain": [
       "  0%|          | 0/3248 [00:00<?, ?it/s]"
      ]
     },
     "metadata": {},
     "output_type": "display_data"
    },
    {
     "data": {
      "application/vnd.jupyter.widget-view+json": {
       "model_id": "",
       "version_major": 2,
       "version_minor": 0
      },
      "text/plain": [
       "  0%|          | 0/3248 [00:00<?, ?it/s]"
      ]
     },
     "metadata": {},
     "output_type": "display_data"
    },
    {
     "data": {
      "application/vnd.jupyter.widget-view+json": {
       "model_id": "",
       "version_major": 2,
       "version_minor": 0
      },
      "text/plain": [
       "  0%|          | 0/3248 [00:00<?, ?it/s]"
      ]
     },
     "metadata": {},
     "output_type": "display_data"
    },
    {
     "data": {
      "application/vnd.jupyter.widget-view+json": {
       "model_id": "",
       "version_major": 2,
       "version_minor": 0
      },
      "text/plain": [
       "  0%|          | 0/3248 [00:00<?, ?it/s]"
      ]
     },
     "metadata": {},
     "output_type": "display_data"
    },
    {
     "data": {
      "application/vnd.jupyter.widget-view+json": {
       "model_id": "",
       "version_major": 2,
       "version_minor": 0
      },
      "text/plain": [
       "  0%|          | 0/3248 [00:00<?, ?it/s]"
      ]
     },
     "metadata": {},
     "output_type": "display_data"
    },
    {
     "data": {
      "application/vnd.jupyter.widget-view+json": {
       "model_id": "",
       "version_major": 2,
       "version_minor": 0
      },
      "text/plain": [
       "  0%|          | 0/3248 [00:00<?, ?it/s]"
      ]
     },
     "metadata": {},
     "output_type": "display_data"
    },
    {
     "data": {
      "application/vnd.jupyter.widget-view+json": {
       "model_id": "",
       "version_major": 2,
       "version_minor": 0
      },
      "text/plain": [
       "  0%|          | 0/3248 [00:00<?, ?it/s]"
      ]
     },
     "metadata": {},
     "output_type": "display_data"
    },
    {
     "data": {
      "application/vnd.jupyter.widget-view+json": {
       "model_id": "",
       "version_major": 2,
       "version_minor": 0
      },
      "text/plain": [
       "  0%|          | 0/3248 [00:00<?, ?it/s]"
      ]
     },
     "metadata": {},
     "output_type": "display_data"
    },
    {
     "data": {
      "application/vnd.jupyter.widget-view+json": {
       "model_id": "",
       "version_major": 2,
       "version_minor": 0
      },
      "text/plain": [
       "  0%|          | 0/3248 [00:00<?, ?it/s]"
      ]
     },
     "metadata": {},
     "output_type": "display_data"
    },
    {
     "data": {
      "application/vnd.jupyter.widget-view+json": {
       "model_id": "",
       "version_major": 2,
       "version_minor": 0
      },
      "text/plain": [
       "  0%|          | 0/3248 [00:00<?, ?it/s]"
      ]
     },
     "metadata": {},
     "output_type": "display_data"
    },
    {
     "data": {
      "application/vnd.jupyter.widget-view+json": {
       "model_id": "",
       "version_major": 2,
       "version_minor": 0
      },
      "text/plain": [
       "  0%|          | 0/3248 [00:00<?, ?it/s]"
      ]
     },
     "metadata": {},
     "output_type": "display_data"
    },
    {
     "data": {
      "application/vnd.jupyter.widget-view+json": {
       "model_id": "",
       "version_major": 2,
       "version_minor": 0
      },
      "text/plain": [
       "  0%|          | 0/3248 [00:00<?, ?it/s]"
      ]
     },
     "metadata": {},
     "output_type": "display_data"
    },
    {
     "data": {
      "application/vnd.jupyter.widget-view+json": {
       "model_id": "",
       "version_major": 2,
       "version_minor": 0
      },
      "text/plain": [
       "  0%|          | 0/3248 [00:00<?, ?it/s]"
      ]
     },
     "metadata": {},
     "output_type": "display_data"
    },
    {
     "data": {
      "application/vnd.jupyter.widget-view+json": {
       "model_id": "",
       "version_major": 2,
       "version_minor": 0
      },
      "text/plain": [
       "  0%|          | 0/3248 [00:00<?, ?it/s]"
      ]
     },
     "metadata": {},
     "output_type": "display_data"
    },
    {
     "data": {
      "application/vnd.jupyter.widget-view+json": {
       "model_id": "",
       "version_major": 2,
       "version_minor": 0
      },
      "text/plain": [
       "  0%|          | 0/3248 [00:00<?, ?it/s]"
      ]
     },
     "metadata": {},
     "output_type": "display_data"
    },
    {
     "data": {
      "application/vnd.jupyter.widget-view+json": {
       "model_id": "",
       "version_major": 2,
       "version_minor": 0
      },
      "text/plain": [
       "  0%|          | 0/3248 [00:00<?, ?it/s]"
      ]
     },
     "metadata": {},
     "output_type": "display_data"
    },
    {
     "data": {
      "application/vnd.jupyter.widget-view+json": {
       "model_id": "",
       "version_major": 2,
       "version_minor": 0
      },
      "text/plain": [
       "  0%|          | 0/3248 [00:00<?, ?it/s]"
      ]
     },
     "metadata": {},
     "output_type": "display_data"
    },
    {
     "data": {
      "application/vnd.jupyter.widget-view+json": {
       "model_id": "",
       "version_major": 2,
       "version_minor": 0
      },
      "text/plain": [
       "  0%|          | 0/3248 [00:00<?, ?it/s]"
      ]
     },
     "metadata": {},
     "output_type": "display_data"
    },
    {
     "data": {
      "application/vnd.jupyter.widget-view+json": {
       "model_id": "",
       "version_major": 2,
       "version_minor": 0
      },
      "text/plain": [
       "  0%|          | 0/3248 [00:00<?, ?it/s]"
      ]
     },
     "metadata": {},
     "output_type": "display_data"
    },
    {
     "data": {
      "application/vnd.jupyter.widget-view+json": {
       "model_id": "",
       "version_major": 2,
       "version_minor": 0
      },
      "text/plain": [
       "  0%|          | 0/3248 [00:00<?, ?it/s]"
      ]
     },
     "metadata": {},
     "output_type": "display_data"
    },
    {
     "data": {
      "application/vnd.jupyter.widget-view+json": {
       "model_id": "",
       "version_major": 2,
       "version_minor": 0
      },
      "text/plain": [
       "  0%|          | 0/3248 [00:00<?, ?it/s]"
      ]
     },
     "metadata": {},
     "output_type": "display_data"
    },
    {
     "data": {
      "application/vnd.jupyter.widget-view+json": {
       "model_id": "",
       "version_major": 2,
       "version_minor": 0
      },
      "text/plain": [
       "  0%|          | 0/3248 [00:00<?, ?it/s]"
      ]
     },
     "metadata": {},
     "output_type": "display_data"
    },
    {
     "data": {
      "application/vnd.jupyter.widget-view+json": {
       "model_id": "",
       "version_major": 2,
       "version_minor": 0
      },
      "text/plain": [
       "  0%|          | 0/3248 [00:00<?, ?it/s]"
      ]
     },
     "metadata": {},
     "output_type": "display_data"
    },
    {
     "data": {
      "application/vnd.jupyter.widget-view+json": {
       "model_id": "",
       "version_major": 2,
       "version_minor": 0
      },
      "text/plain": [
       "  0%|          | 0/3248 [00:00<?, ?it/s]"
      ]
     },
     "metadata": {},
     "output_type": "display_data"
    },
    {
     "data": {
      "application/vnd.jupyter.widget-view+json": {
       "model_id": "",
       "version_major": 2,
       "version_minor": 0
      },
      "text/plain": [
       "  0%|          | 0/3248 [00:00<?, ?it/s]"
      ]
     },
     "metadata": {},
     "output_type": "display_data"
    },
    {
     "data": {
      "application/vnd.jupyter.widget-view+json": {
       "model_id": "",
       "version_major": 2,
       "version_minor": 0
      },
      "text/plain": [
       "  0%|          | 0/3248 [00:00<?, ?it/s]"
      ]
     },
     "metadata": {},
     "output_type": "display_data"
    },
    {
     "data": {
      "application/vnd.jupyter.widget-view+json": {
       "model_id": "",
       "version_major": 2,
       "version_minor": 0
      },
      "text/plain": [
       "  0%|          | 0/3248 [00:00<?, ?it/s]"
      ]
     },
     "metadata": {},
     "output_type": "display_data"
    },
    {
     "data": {
      "application/vnd.jupyter.widget-view+json": {
       "model_id": "",
       "version_major": 2,
       "version_minor": 0
      },
      "text/plain": [
       "  0%|          | 0/3248 [00:00<?, ?it/s]"
      ]
     },
     "metadata": {},
     "output_type": "display_data"
    },
    {
     "data": {
      "application/vnd.jupyter.widget-view+json": {
       "model_id": "",
       "version_major": 2,
       "version_minor": 0
      },
      "text/plain": [
       "  0%|          | 0/3248 [00:00<?, ?it/s]"
      ]
     },
     "metadata": {},
     "output_type": "display_data"
    },
    {
     "data": {
      "application/vnd.jupyter.widget-view+json": {
       "model_id": "",
       "version_major": 2,
       "version_minor": 0
      },
      "text/plain": [
       "  0%|          | 0/3248 [00:00<?, ?it/s]"
      ]
     },
     "metadata": {},
     "output_type": "display_data"
    },
    {
     "data": {
      "application/vnd.jupyter.widget-view+json": {
       "model_id": "",
       "version_major": 2,
       "version_minor": 0
      },
      "text/plain": [
       "  0%|          | 0/3248 [00:00<?, ?it/s]"
      ]
     },
     "metadata": {},
     "output_type": "display_data"
    },
    {
     "data": {
      "application/vnd.jupyter.widget-view+json": {
       "model_id": "",
       "version_major": 2,
       "version_minor": 0
      },
      "text/plain": [
       "  0%|          | 0/3248 [00:00<?, ?it/s]"
      ]
     },
     "metadata": {},
     "output_type": "display_data"
    },
    {
     "data": {
      "application/vnd.jupyter.widget-view+json": {
       "model_id": "",
       "version_major": 2,
       "version_minor": 0
      },
      "text/plain": [
       "  0%|          | 0/3248 [00:00<?, ?it/s]"
      ]
     },
     "metadata": {},
     "output_type": "display_data"
    },
    {
     "data": {
      "application/vnd.jupyter.widget-view+json": {
       "model_id": "",
       "version_major": 2,
       "version_minor": 0
      },
      "text/plain": [
       "  0%|          | 0/3248 [00:00<?, ?it/s]"
      ]
     },
     "metadata": {},
     "output_type": "display_data"
    },
    {
     "data": {
      "application/vnd.jupyter.widget-view+json": {
       "model_id": "",
       "version_major": 2,
       "version_minor": 0
      },
      "text/plain": [
       "  0%|          | 0/3248 [00:00<?, ?it/s]"
      ]
     },
     "metadata": {},
     "output_type": "display_data"
    },
    {
     "data": {
      "application/vnd.jupyter.widget-view+json": {
       "model_id": "",
       "version_major": 2,
       "version_minor": 0
      },
      "text/plain": [
       "  0%|          | 0/3248 [00:00<?, ?it/s]"
      ]
     },
     "metadata": {},
     "output_type": "display_data"
    },
    {
     "data": {
      "application/vnd.jupyter.widget-view+json": {
       "model_id": "",
       "version_major": 2,
       "version_minor": 0
      },
      "text/plain": [
       "  0%|          | 0/3248 [00:00<?, ?it/s]"
      ]
     },
     "metadata": {},
     "output_type": "display_data"
    },
    {
     "data": {
      "application/vnd.jupyter.widget-view+json": {
       "model_id": "",
       "version_major": 2,
       "version_minor": 0
      },
      "text/plain": [
       "  0%|          | 0/3248 [00:00<?, ?it/s]"
      ]
     },
     "metadata": {},
     "output_type": "display_data"
    },
    {
     "data": {
      "application/vnd.jupyter.widget-view+json": {
       "model_id": "",
       "version_major": 2,
       "version_minor": 0
      },
      "text/plain": [
       "  0%|          | 0/3248 [00:00<?, ?it/s]"
      ]
     },
     "metadata": {},
     "output_type": "display_data"
    },
    {
     "data": {
      "application/vnd.jupyter.widget-view+json": {
       "model_id": "",
       "version_major": 2,
       "version_minor": 0
      },
      "text/plain": [
       "  0%|          | 0/3248 [00:00<?, ?it/s]"
      ]
     },
     "metadata": {},
     "output_type": "display_data"
    },
    {
     "data": {
      "application/vnd.jupyter.widget-view+json": {
       "model_id": "",
       "version_major": 2,
       "version_minor": 0
      },
      "text/plain": [
       "  0%|          | 0/3248 [00:00<?, ?it/s]"
      ]
     },
     "metadata": {},
     "output_type": "display_data"
    },
    {
     "data": {
      "application/vnd.jupyter.widget-view+json": {
       "model_id": "",
       "version_major": 2,
       "version_minor": 0
      },
      "text/plain": [
       "  0%|          | 0/3248 [00:00<?, ?it/s]"
      ]
     },
     "metadata": {},
     "output_type": "display_data"
    },
    {
     "data": {
      "application/vnd.jupyter.widget-view+json": {
       "model_id": "",
       "version_major": 2,
       "version_minor": 0
      },
      "text/plain": [
       "  0%|          | 0/3248 [00:00<?, ?it/s]"
      ]
     },
     "metadata": {},
     "output_type": "display_data"
    },
    {
     "data": {
      "application/vnd.jupyter.widget-view+json": {
       "model_id": "",
       "version_major": 2,
       "version_minor": 0
      },
      "text/plain": [
       "  0%|          | 0/3248 [00:00<?, ?it/s]"
      ]
     },
     "metadata": {},
     "output_type": "display_data"
    },
    {
     "data": {
      "application/vnd.jupyter.widget-view+json": {
       "model_id": "",
       "version_major": 2,
       "version_minor": 0
      },
      "text/plain": [
       "  0%|          | 0/3248 [00:00<?, ?it/s]"
      ]
     },
     "metadata": {},
     "output_type": "display_data"
    },
    {
     "data": {
      "application/vnd.jupyter.widget-view+json": {
       "model_id": "",
       "version_major": 2,
       "version_minor": 0
      },
      "text/plain": [
       "  0%|          | 0/3248 [00:00<?, ?it/s]"
      ]
     },
     "metadata": {},
     "output_type": "display_data"
    },
    {
     "data": {
      "application/vnd.jupyter.widget-view+json": {
       "model_id": "",
       "version_major": 2,
       "version_minor": 0
      },
      "text/plain": [
       "  0%|          | 0/3248 [00:00<?, ?it/s]"
      ]
     },
     "metadata": {},
     "output_type": "display_data"
    },
    {
     "data": {
      "application/vnd.jupyter.widget-view+json": {
       "model_id": "",
       "version_major": 2,
       "version_minor": 0
      },
      "text/plain": [
       "  0%|          | 0/3248 [00:00<?, ?it/s]"
      ]
     },
     "metadata": {},
     "output_type": "display_data"
    },
    {
     "data": {
      "application/vnd.jupyter.widget-view+json": {
       "model_id": "",
       "version_major": 2,
       "version_minor": 0
      },
      "text/plain": [
       "  0%|          | 0/3248 [00:00<?, ?it/s]"
      ]
     },
     "metadata": {},
     "output_type": "display_data"
    },
    {
     "data": {
      "application/vnd.jupyter.widget-view+json": {
       "model_id": "",
       "version_major": 2,
       "version_minor": 0
      },
      "text/plain": [
       "  0%|          | 0/3248 [00:00<?, ?it/s]"
      ]
     },
     "metadata": {},
     "output_type": "display_data"
    },
    {
     "data": {
      "application/vnd.jupyter.widget-view+json": {
       "model_id": "",
       "version_major": 2,
       "version_minor": 0
      },
      "text/plain": [
       "  0%|          | 0/3248 [00:00<?, ?it/s]"
      ]
     },
     "metadata": {},
     "output_type": "display_data"
    },
    {
     "data": {
      "application/vnd.jupyter.widget-view+json": {
       "model_id": "",
       "version_major": 2,
       "version_minor": 0
      },
      "text/plain": [
       "  0%|          | 0/3248 [00:00<?, ?it/s]"
      ]
     },
     "metadata": {},
     "output_type": "display_data"
    },
    {
     "data": {
      "application/vnd.jupyter.widget-view+json": {
       "model_id": "",
       "version_major": 2,
       "version_minor": 0
      },
      "text/plain": [
       "  0%|          | 0/3248 [00:00<?, ?it/s]"
      ]
     },
     "metadata": {},
     "output_type": "display_data"
    },
    {
     "data": {
      "application/vnd.jupyter.widget-view+json": {
       "model_id": "",
       "version_major": 2,
       "version_minor": 0
      },
      "text/plain": [
       "  0%|          | 0/3248 [00:00<?, ?it/s]"
      ]
     },
     "metadata": {},
     "output_type": "display_data"
    },
    {
     "data": {
      "application/vnd.jupyter.widget-view+json": {
       "model_id": "",
       "version_major": 2,
       "version_minor": 0
      },
      "text/plain": [
       "  0%|          | 0/3248 [00:00<?, ?it/s]"
      ]
     },
     "metadata": {},
     "output_type": "display_data"
    },
    {
     "data": {
      "application/vnd.jupyter.widget-view+json": {
       "model_id": "",
       "version_major": 2,
       "version_minor": 0
      },
      "text/plain": [
       "  0%|          | 0/3248 [00:00<?, ?it/s]"
      ]
     },
     "metadata": {},
     "output_type": "display_data"
    },
    {
     "data": {
      "application/vnd.jupyter.widget-view+json": {
       "model_id": "",
       "version_major": 2,
       "version_minor": 0
      },
      "text/plain": [
       "  0%|          | 0/3248 [00:00<?, ?it/s]"
      ]
     },
     "metadata": {},
     "output_type": "display_data"
    },
    {
     "data": {
      "application/vnd.jupyter.widget-view+json": {
       "model_id": "",
       "version_major": 2,
       "version_minor": 0
      },
      "text/plain": [
       "  0%|          | 0/3248 [00:00<?, ?it/s]"
      ]
     },
     "metadata": {},
     "output_type": "display_data"
    },
    {
     "data": {
      "application/vnd.jupyter.widget-view+json": {
       "model_id": "",
       "version_major": 2,
       "version_minor": 0
      },
      "text/plain": [
       "  0%|          | 0/3248 [00:00<?, ?it/s]"
      ]
     },
     "metadata": {},
     "output_type": "display_data"
    },
    {
     "data": {
      "application/vnd.jupyter.widget-view+json": {
       "model_id": "",
       "version_major": 2,
       "version_minor": 0
      },
      "text/plain": [
       "  0%|          | 0/3248 [00:00<?, ?it/s]"
      ]
     },
     "metadata": {},
     "output_type": "display_data"
    },
    {
     "data": {
      "application/vnd.jupyter.widget-view+json": {
       "model_id": "",
       "version_major": 2,
       "version_minor": 0
      },
      "text/plain": [
       "  0%|          | 0/3248 [00:00<?, ?it/s]"
      ]
     },
     "metadata": {},
     "output_type": "display_data"
    },
    {
     "data": {
      "application/vnd.jupyter.widget-view+json": {
       "model_id": "",
       "version_major": 2,
       "version_minor": 0
      },
      "text/plain": [
       "  0%|          | 0/3248 [00:00<?, ?it/s]"
      ]
     },
     "metadata": {},
     "output_type": "display_data"
    },
    {
     "data": {
      "application/vnd.jupyter.widget-view+json": {
       "model_id": "",
       "version_major": 2,
       "version_minor": 0
      },
      "text/plain": [
       "  0%|          | 0/3248 [00:00<?, ?it/s]"
      ]
     },
     "metadata": {},
     "output_type": "display_data"
    },
    {
     "data": {
      "application/vnd.jupyter.widget-view+json": {
       "model_id": "",
       "version_major": 2,
       "version_minor": 0
      },
      "text/plain": [
       "  0%|          | 0/3248 [00:00<?, ?it/s]"
      ]
     },
     "metadata": {},
     "output_type": "display_data"
    },
    {
     "data": {
      "application/vnd.jupyter.widget-view+json": {
       "model_id": "",
       "version_major": 2,
       "version_minor": 0
      },
      "text/plain": [
       "  0%|          | 0/3248 [00:00<?, ?it/s]"
      ]
     },
     "metadata": {},
     "output_type": "display_data"
    },
    {
     "data": {
      "application/vnd.jupyter.widget-view+json": {
       "model_id": "",
       "version_major": 2,
       "version_minor": 0
      },
      "text/plain": [
       "  0%|          | 0/3248 [00:00<?, ?it/s]"
      ]
     },
     "metadata": {},
     "output_type": "display_data"
    },
    {
     "data": {
      "application/vnd.jupyter.widget-view+json": {
       "model_id": "",
       "version_major": 2,
       "version_minor": 0
      },
      "text/plain": [
       "  0%|          | 0/3248 [00:00<?, ?it/s]"
      ]
     },
     "metadata": {},
     "output_type": "display_data"
    },
    {
     "data": {
      "application/vnd.jupyter.widget-view+json": {
       "model_id": "",
       "version_major": 2,
       "version_minor": 0
      },
      "text/plain": [
       "  0%|          | 0/3248 [00:00<?, ?it/s]"
      ]
     },
     "metadata": {},
     "output_type": "display_data"
    },
    {
     "data": {
      "application/vnd.jupyter.widget-view+json": {
       "model_id": "",
       "version_major": 2,
       "version_minor": 0
      },
      "text/plain": [
       "  0%|          | 0/3248 [00:00<?, ?it/s]"
      ]
     },
     "metadata": {},
     "output_type": "display_data"
    },
    {
     "data": {
      "application/vnd.jupyter.widget-view+json": {
       "model_id": "",
       "version_major": 2,
       "version_minor": 0
      },
      "text/plain": [
       "  0%|          | 0/3248 [00:00<?, ?it/s]"
      ]
     },
     "metadata": {},
     "output_type": "display_data"
    },
    {
     "data": {
      "application/vnd.jupyter.widget-view+json": {
       "model_id": "",
       "version_major": 2,
       "version_minor": 0
      },
      "text/plain": [
       "  0%|          | 0/3248 [00:00<?, ?it/s]"
      ]
     },
     "metadata": {},
     "output_type": "display_data"
    },
    {
     "data": {
      "application/vnd.jupyter.widget-view+json": {
       "model_id": "",
       "version_major": 2,
       "version_minor": 0
      },
      "text/plain": [
       "  0%|          | 0/3248 [00:00<?, ?it/s]"
      ]
     },
     "metadata": {},
     "output_type": "display_data"
    },
    {
     "data": {
      "application/vnd.jupyter.widget-view+json": {
       "model_id": "",
       "version_major": 2,
       "version_minor": 0
      },
      "text/plain": [
       "  0%|          | 0/3248 [00:00<?, ?it/s]"
      ]
     },
     "metadata": {},
     "output_type": "display_data"
    },
    {
     "data": {
      "application/vnd.jupyter.widget-view+json": {
       "model_id": "",
       "version_major": 2,
       "version_minor": 0
      },
      "text/plain": [
       "  0%|          | 0/3248 [00:00<?, ?it/s]"
      ]
     },
     "metadata": {},
     "output_type": "display_data"
    },
    {
     "data": {
      "application/vnd.jupyter.widget-view+json": {
       "model_id": "",
       "version_major": 2,
       "version_minor": 0
      },
      "text/plain": [
       "  0%|          | 0/3248 [00:00<?, ?it/s]"
      ]
     },
     "metadata": {},
     "output_type": "display_data"
    },
    {
     "data": {
      "application/vnd.jupyter.widget-view+json": {
       "model_id": "",
       "version_major": 2,
       "version_minor": 0
      },
      "text/plain": [
       "  0%|          | 0/3248 [00:00<?, ?it/s]"
      ]
     },
     "metadata": {},
     "output_type": "display_data"
    },
    {
     "data": {
      "application/vnd.jupyter.widget-view+json": {
       "model_id": "",
       "version_major": 2,
       "version_minor": 0
      },
      "text/plain": [
       "  0%|          | 0/3248 [00:00<?, ?it/s]"
      ]
     },
     "metadata": {},
     "output_type": "display_data"
    },
    {
     "data": {
      "application/vnd.jupyter.widget-view+json": {
       "model_id": "",
       "version_major": 2,
       "version_minor": 0
      },
      "text/plain": [
       "  0%|          | 0/3248 [00:00<?, ?it/s]"
      ]
     },
     "metadata": {},
     "output_type": "display_data"
    },
    {
     "data": {
      "application/vnd.jupyter.widget-view+json": {
       "model_id": "",
       "version_major": 2,
       "version_minor": 0
      },
      "text/plain": [
       "  0%|          | 0/3248 [00:00<?, ?it/s]"
      ]
     },
     "metadata": {},
     "output_type": "display_data"
    },
    {
     "data": {
      "application/vnd.jupyter.widget-view+json": {
       "model_id": "",
       "version_major": 2,
       "version_minor": 0
      },
      "text/plain": [
       "  0%|          | 0/3248 [00:00<?, ?it/s]"
      ]
     },
     "metadata": {},
     "output_type": "display_data"
    },
    {
     "data": {
      "application/vnd.jupyter.widget-view+json": {
       "model_id": "",
       "version_major": 2,
       "version_minor": 0
      },
      "text/plain": [
       "  0%|          | 0/3248 [00:00<?, ?it/s]"
      ]
     },
     "metadata": {},
     "output_type": "display_data"
    },
    {
     "data": {
      "application/vnd.jupyter.widget-view+json": {
       "model_id": "",
       "version_major": 2,
       "version_minor": 0
      },
      "text/plain": [
       "  0%|          | 0/3248 [00:00<?, ?it/s]"
      ]
     },
     "metadata": {},
     "output_type": "display_data"
    },
    {
     "data": {
      "application/vnd.jupyter.widget-view+json": {
       "model_id": "",
       "version_major": 2,
       "version_minor": 0
      },
      "text/plain": [
       "  0%|          | 0/3248 [00:00<?, ?it/s]"
      ]
     },
     "metadata": {},
     "output_type": "display_data"
    },
    {
     "data": {
      "application/vnd.jupyter.widget-view+json": {
       "model_id": "",
       "version_major": 2,
       "version_minor": 0
      },
      "text/plain": [
       "  0%|          | 0/3248 [00:00<?, ?it/s]"
      ]
     },
     "metadata": {},
     "output_type": "display_data"
    },
    {
     "data": {
      "application/vnd.jupyter.widget-view+json": {
       "model_id": "",
       "version_major": 2,
       "version_minor": 0
      },
      "text/plain": [
       "  0%|          | 0/3248 [00:00<?, ?it/s]"
      ]
     },
     "metadata": {},
     "output_type": "display_data"
    },
    {
     "data": {
      "application/vnd.jupyter.widget-view+json": {
       "model_id": "",
       "version_major": 2,
       "version_minor": 0
      },
      "text/plain": [
       "  0%|          | 0/3248 [00:00<?, ?it/s]"
      ]
     },
     "metadata": {},
     "output_type": "display_data"
    },
    {
     "data": {
      "application/vnd.jupyter.widget-view+json": {
       "model_id": "",
       "version_major": 2,
       "version_minor": 0
      },
      "text/plain": [
       "  0%|          | 0/3248 [00:00<?, ?it/s]"
      ]
     },
     "metadata": {},
     "output_type": "display_data"
    },
    {
     "data": {
      "application/vnd.jupyter.widget-view+json": {
       "model_id": "",
       "version_major": 2,
       "version_minor": 0
      },
      "text/plain": [
       "  0%|          | 0/3248 [00:00<?, ?it/s]"
      ]
     },
     "metadata": {},
     "output_type": "display_data"
    },
    {
     "data": {
      "application/vnd.jupyter.widget-view+json": {
       "model_id": "",
       "version_major": 2,
       "version_minor": 0
      },
      "text/plain": [
       "  0%|          | 0/3248 [00:00<?, ?it/s]"
      ]
     },
     "metadata": {},
     "output_type": "display_data"
    },
    {
     "data": {
      "application/vnd.jupyter.widget-view+json": {
       "model_id": "",
       "version_major": 2,
       "version_minor": 0
      },
      "text/plain": [
       "  0%|          | 0/3248 [00:00<?, ?it/s]"
      ]
     },
     "metadata": {},
     "output_type": "display_data"
    },
    {
     "data": {
      "application/vnd.jupyter.widget-view+json": {
       "model_id": "",
       "version_major": 2,
       "version_minor": 0
      },
      "text/plain": [
       "  0%|          | 0/3248 [00:00<?, ?it/s]"
      ]
     },
     "metadata": {},
     "output_type": "display_data"
    },
    {
     "data": {
      "application/vnd.jupyter.widget-view+json": {
       "model_id": "",
       "version_major": 2,
       "version_minor": 0
      },
      "text/plain": [
       "  0%|          | 0/3248 [00:00<?, ?it/s]"
      ]
     },
     "metadata": {},
     "output_type": "display_data"
    },
    {
     "data": {
      "application/vnd.jupyter.widget-view+json": {
       "model_id": "",
       "version_major": 2,
       "version_minor": 0
      },
      "text/plain": [
       "  0%|          | 0/3248 [00:00<?, ?it/s]"
      ]
     },
     "metadata": {},
     "output_type": "display_data"
    },
    {
     "data": {
      "application/vnd.jupyter.widget-view+json": {
       "model_id": "",
       "version_major": 2,
       "version_minor": 0
      },
      "text/plain": [
       "  0%|          | 0/3248 [00:00<?, ?it/s]"
      ]
     },
     "metadata": {},
     "output_type": "display_data"
    },
    {
     "data": {
      "application/vnd.jupyter.widget-view+json": {
       "model_id": "",
       "version_major": 2,
       "version_minor": 0
      },
      "text/plain": [
       "  0%|          | 0/3248 [00:00<?, ?it/s]"
      ]
     },
     "metadata": {},
     "output_type": "display_data"
    },
    {
     "data": {
      "application/vnd.jupyter.widget-view+json": {
       "model_id": "",
       "version_major": 2,
       "version_minor": 0
      },
      "text/plain": [
       "  0%|          | 0/3248 [00:00<?, ?it/s]"
      ]
     },
     "metadata": {},
     "output_type": "display_data"
    },
    {
     "data": {
      "application/vnd.jupyter.widget-view+json": {
       "model_id": "",
       "version_major": 2,
       "version_minor": 0
      },
      "text/plain": [
       "  0%|          | 0/3248 [00:00<?, ?it/s]"
      ]
     },
     "metadata": {},
     "output_type": "display_data"
    },
    {
     "data": {
      "application/vnd.jupyter.widget-view+json": {
       "model_id": "",
       "version_major": 2,
       "version_minor": 0
      },
      "text/plain": [
       "  0%|          | 0/3248 [00:00<?, ?it/s]"
      ]
     },
     "metadata": {},
     "output_type": "display_data"
    },
    {
     "data": {
      "application/vnd.jupyter.widget-view+json": {
       "model_id": "",
       "version_major": 2,
       "version_minor": 0
      },
      "text/plain": [
       "  0%|          | 0/3248 [00:00<?, ?it/s]"
      ]
     },
     "metadata": {},
     "output_type": "display_data"
    },
    {
     "data": {
      "application/vnd.jupyter.widget-view+json": {
       "model_id": "",
       "version_major": 2,
       "version_minor": 0
      },
      "text/plain": [
       "  0%|          | 0/3248 [00:00<?, ?it/s]"
      ]
     },
     "metadata": {},
     "output_type": "display_data"
    },
    {
     "data": {
      "application/vnd.jupyter.widget-view+json": {
       "model_id": "",
       "version_major": 2,
       "version_minor": 0
      },
      "text/plain": [
       "  0%|          | 0/3248 [00:00<?, ?it/s]"
      ]
     },
     "metadata": {},
     "output_type": "display_data"
    },
    {
     "data": {
      "application/vnd.jupyter.widget-view+json": {
       "model_id": "",
       "version_major": 2,
       "version_minor": 0
      },
      "text/plain": [
       "  0%|          | 0/3248 [00:00<?, ?it/s]"
      ]
     },
     "metadata": {},
     "output_type": "display_data"
    },
    {
     "data": {
      "application/vnd.jupyter.widget-view+json": {
       "model_id": "",
       "version_major": 2,
       "version_minor": 0
      },
      "text/plain": [
       "  0%|          | 0/3248 [00:00<?, ?it/s]"
      ]
     },
     "metadata": {},
     "output_type": "display_data"
    },
    {
     "data": {
      "application/vnd.jupyter.widget-view+json": {
       "model_id": "",
       "version_major": 2,
       "version_minor": 0
      },
      "text/plain": [
       "  0%|          | 0/3248 [00:00<?, ?it/s]"
      ]
     },
     "metadata": {},
     "output_type": "display_data"
    },
    {
     "data": {
      "application/vnd.jupyter.widget-view+json": {
       "model_id": "",
       "version_major": 2,
       "version_minor": 0
      },
      "text/plain": [
       "  0%|          | 0/3248 [00:00<?, ?it/s]"
      ]
     },
     "metadata": {},
     "output_type": "display_data"
    },
    {
     "data": {
      "application/vnd.jupyter.widget-view+json": {
       "model_id": "",
       "version_major": 2,
       "version_minor": 0
      },
      "text/plain": [
       "  0%|          | 0/3248 [00:00<?, ?it/s]"
      ]
     },
     "metadata": {},
     "output_type": "display_data"
    },
    {
     "data": {
      "application/vnd.jupyter.widget-view+json": {
       "model_id": "",
       "version_major": 2,
       "version_minor": 0
      },
      "text/plain": [
       "  0%|          | 0/3248 [00:00<?, ?it/s]"
      ]
     },
     "metadata": {},
     "output_type": "display_data"
    },
    {
     "data": {
      "application/vnd.jupyter.widget-view+json": {
       "model_id": "",
       "version_major": 2,
       "version_minor": 0
      },
      "text/plain": [
       "  0%|          | 0/3248 [00:00<?, ?it/s]"
      ]
     },
     "metadata": {},
     "output_type": "display_data"
    },
    {
     "data": {
      "application/vnd.jupyter.widget-view+json": {
       "model_id": "",
       "version_major": 2,
       "version_minor": 0
      },
      "text/plain": [
       "  0%|          | 0/3248 [00:00<?, ?it/s]"
      ]
     },
     "metadata": {},
     "output_type": "display_data"
    },
    {
     "data": {
      "application/vnd.jupyter.widget-view+json": {
       "model_id": "",
       "version_major": 2,
       "version_minor": 0
      },
      "text/plain": [
       "  0%|          | 0/3248 [00:00<?, ?it/s]"
      ]
     },
     "metadata": {},
     "output_type": "display_data"
    },
    {
     "data": {
      "application/vnd.jupyter.widget-view+json": {
       "model_id": "",
       "version_major": 2,
       "version_minor": 0
      },
      "text/plain": [
       "  0%|          | 0/3248 [00:00<?, ?it/s]"
      ]
     },
     "metadata": {},
     "output_type": "display_data"
    },
    {
     "data": {
      "application/vnd.jupyter.widget-view+json": {
       "model_id": "",
       "version_major": 2,
       "version_minor": 0
      },
      "text/plain": [
       "  0%|          | 0/3248 [00:00<?, ?it/s]"
      ]
     },
     "metadata": {},
     "output_type": "display_data"
    },
    {
     "data": {
      "application/vnd.jupyter.widget-view+json": {
       "model_id": "",
       "version_major": 2,
       "version_minor": 0
      },
      "text/plain": [
       "  0%|          | 0/3248 [00:00<?, ?it/s]"
      ]
     },
     "metadata": {},
     "output_type": "display_data"
    },
    {
     "data": {
      "application/vnd.jupyter.widget-view+json": {
       "model_id": "",
       "version_major": 2,
       "version_minor": 0
      },
      "text/plain": [
       "  0%|          | 0/3248 [00:00<?, ?it/s]"
      ]
     },
     "metadata": {},
     "output_type": "display_data"
    },
    {
     "data": {
      "application/vnd.jupyter.widget-view+json": {
       "model_id": "",
       "version_major": 2,
       "version_minor": 0
      },
      "text/plain": [
       "  0%|          | 0/3248 [00:00<?, ?it/s]"
      ]
     },
     "metadata": {},
     "output_type": "display_data"
    },
    {
     "data": {
      "application/vnd.jupyter.widget-view+json": {
       "model_id": "",
       "version_major": 2,
       "version_minor": 0
      },
      "text/plain": [
       "  0%|          | 0/3248 [00:00<?, ?it/s]"
      ]
     },
     "metadata": {},
     "output_type": "display_data"
    },
    {
     "data": {
      "application/vnd.jupyter.widget-view+json": {
       "model_id": "",
       "version_major": 2,
       "version_minor": 0
      },
      "text/plain": [
       "  0%|          | 0/3248 [00:00<?, ?it/s]"
      ]
     },
     "metadata": {},
     "output_type": "display_data"
    },
    {
     "data": {
      "application/vnd.jupyter.widget-view+json": {
       "model_id": "",
       "version_major": 2,
       "version_minor": 0
      },
      "text/plain": [
       "  0%|          | 0/3248 [00:00<?, ?it/s]"
      ]
     },
     "metadata": {},
     "output_type": "display_data"
    },
    {
     "data": {
      "application/vnd.jupyter.widget-view+json": {
       "model_id": "",
       "version_major": 2,
       "version_minor": 0
      },
      "text/plain": [
       "  0%|          | 0/3248 [00:00<?, ?it/s]"
      ]
     },
     "metadata": {},
     "output_type": "display_data"
    },
    {
     "data": {
      "application/vnd.jupyter.widget-view+json": {
       "model_id": "",
       "version_major": 2,
       "version_minor": 0
      },
      "text/plain": [
       "  0%|          | 0/3248 [00:00<?, ?it/s]"
      ]
     },
     "metadata": {},
     "output_type": "display_data"
    },
    {
     "data": {
      "application/vnd.jupyter.widget-view+json": {
       "model_id": "",
       "version_major": 2,
       "version_minor": 0
      },
      "text/plain": [
       "  0%|          | 0/3248 [00:00<?, ?it/s]"
      ]
     },
     "metadata": {},
     "output_type": "display_data"
    },
    {
     "data": {
      "application/vnd.jupyter.widget-view+json": {
       "model_id": "",
       "version_major": 2,
       "version_minor": 0
      },
      "text/plain": [
       "  0%|          | 0/3248 [00:00<?, ?it/s]"
      ]
     },
     "metadata": {},
     "output_type": "display_data"
    },
    {
     "data": {
      "application/vnd.jupyter.widget-view+json": {
       "model_id": "",
       "version_major": 2,
       "version_minor": 0
      },
      "text/plain": [
       "  0%|          | 0/3248 [00:00<?, ?it/s]"
      ]
     },
     "metadata": {},
     "output_type": "display_data"
    },
    {
     "data": {
      "application/vnd.jupyter.widget-view+json": {
       "model_id": "",
       "version_major": 2,
       "version_minor": 0
      },
      "text/plain": [
       "  0%|          | 0/3248 [00:00<?, ?it/s]"
      ]
     },
     "metadata": {},
     "output_type": "display_data"
    },
    {
     "data": {
      "application/vnd.jupyter.widget-view+json": {
       "model_id": "",
       "version_major": 2,
       "version_minor": 0
      },
      "text/plain": [
       "  0%|          | 0/3248 [00:00<?, ?it/s]"
      ]
     },
     "metadata": {},
     "output_type": "display_data"
    },
    {
     "data": {
      "application/vnd.jupyter.widget-view+json": {
       "model_id": "",
       "version_major": 2,
       "version_minor": 0
      },
      "text/plain": [
       "  0%|          | 0/3248 [00:00<?, ?it/s]"
      ]
     },
     "metadata": {},
     "output_type": "display_data"
    },
    {
     "data": {
      "application/vnd.jupyter.widget-view+json": {
       "model_id": "",
       "version_major": 2,
       "version_minor": 0
      },
      "text/plain": [
       "  0%|          | 0/3248 [00:00<?, ?it/s]"
      ]
     },
     "metadata": {},
     "output_type": "display_data"
    },
    {
     "data": {
      "application/vnd.jupyter.widget-view+json": {
       "model_id": "",
       "version_major": 2,
       "version_minor": 0
      },
      "text/plain": [
       "  0%|          | 0/3248 [00:00<?, ?it/s]"
      ]
     },
     "metadata": {},
     "output_type": "display_data"
    },
    {
     "data": {
      "application/vnd.jupyter.widget-view+json": {
       "model_id": "",
       "version_major": 2,
       "version_minor": 0
      },
      "text/plain": [
       "  0%|          | 0/3248 [00:00<?, ?it/s]"
      ]
     },
     "metadata": {},
     "output_type": "display_data"
    },
    {
     "data": {
      "application/vnd.jupyter.widget-view+json": {
       "model_id": "",
       "version_major": 2,
       "version_minor": 0
      },
      "text/plain": [
       "  0%|          | 0/3248 [00:00<?, ?it/s]"
      ]
     },
     "metadata": {},
     "output_type": "display_data"
    },
    {
     "data": {
      "application/vnd.jupyter.widget-view+json": {
       "model_id": "",
       "version_major": 2,
       "version_minor": 0
      },
      "text/plain": [
       "  0%|          | 0/3248 [00:00<?, ?it/s]"
      ]
     },
     "metadata": {},
     "output_type": "display_data"
    },
    {
     "data": {
      "application/vnd.jupyter.widget-view+json": {
       "model_id": "",
       "version_major": 2,
       "version_minor": 0
      },
      "text/plain": [
       "  0%|          | 0/3248 [00:00<?, ?it/s]"
      ]
     },
     "metadata": {},
     "output_type": "display_data"
    },
    {
     "data": {
      "application/vnd.jupyter.widget-view+json": {
       "model_id": "",
       "version_major": 2,
       "version_minor": 0
      },
      "text/plain": [
       "  0%|          | 0/3248 [00:00<?, ?it/s]"
      ]
     },
     "metadata": {},
     "output_type": "display_data"
    },
    {
     "data": {
      "application/vnd.jupyter.widget-view+json": {
       "model_id": "",
       "version_major": 2,
       "version_minor": 0
      },
      "text/plain": [
       "  0%|          | 0/3248 [00:00<?, ?it/s]"
      ]
     },
     "metadata": {},
     "output_type": "display_data"
    },
    {
     "data": {
      "application/vnd.jupyter.widget-view+json": {
       "model_id": "",
       "version_major": 2,
       "version_minor": 0
      },
      "text/plain": [
       "  0%|          | 0/3248 [00:00<?, ?it/s]"
      ]
     },
     "metadata": {},
     "output_type": "display_data"
    },
    {
     "data": {
      "application/vnd.jupyter.widget-view+json": {
       "model_id": "",
       "version_major": 2,
       "version_minor": 0
      },
      "text/plain": [
       "  0%|          | 0/3248 [00:00<?, ?it/s]"
      ]
     },
     "metadata": {},
     "output_type": "display_data"
    },
    {
     "data": {
      "application/vnd.jupyter.widget-view+json": {
       "model_id": "",
       "version_major": 2,
       "version_minor": 0
      },
      "text/plain": [
       "  0%|          | 0/3248 [00:00<?, ?it/s]"
      ]
     },
     "metadata": {},
     "output_type": "display_data"
    },
    {
     "data": {
      "application/vnd.jupyter.widget-view+json": {
       "model_id": "",
       "version_major": 2,
       "version_minor": 0
      },
      "text/plain": [
       "  0%|          | 0/3248 [00:00<?, ?it/s]"
      ]
     },
     "metadata": {},
     "output_type": "display_data"
    },
    {
     "data": {
      "application/vnd.jupyter.widget-view+json": {
       "model_id": "",
       "version_major": 2,
       "version_minor": 0
      },
      "text/plain": [
       "  0%|          | 0/3248 [00:00<?, ?it/s]"
      ]
     },
     "metadata": {},
     "output_type": "display_data"
    },
    {
     "data": {
      "application/vnd.jupyter.widget-view+json": {
       "model_id": "",
       "version_major": 2,
       "version_minor": 0
      },
      "text/plain": [
       "  0%|          | 0/3248 [00:00<?, ?it/s]"
      ]
     },
     "metadata": {},
     "output_type": "display_data"
    },
    {
     "data": {
      "application/vnd.jupyter.widget-view+json": {
       "model_id": "",
       "version_major": 2,
       "version_minor": 0
      },
      "text/plain": [
       "  0%|          | 0/3248 [00:00<?, ?it/s]"
      ]
     },
     "metadata": {},
     "output_type": "display_data"
    },
    {
     "data": {
      "application/vnd.jupyter.widget-view+json": {
       "model_id": "",
       "version_major": 2,
       "version_minor": 0
      },
      "text/plain": [
       "  0%|          | 0/3248 [00:00<?, ?it/s]"
      ]
     },
     "metadata": {},
     "output_type": "display_data"
    },
    {
     "data": {
      "application/vnd.jupyter.widget-view+json": {
       "model_id": "",
       "version_major": 2,
       "version_minor": 0
      },
      "text/plain": [
       "  0%|          | 0/3248 [00:00<?, ?it/s]"
      ]
     },
     "metadata": {},
     "output_type": "display_data"
    },
    {
     "data": {
      "application/vnd.jupyter.widget-view+json": {
       "model_id": "",
       "version_major": 2,
       "version_minor": 0
      },
      "text/plain": [
       "  0%|          | 0/3248 [00:00<?, ?it/s]"
      ]
     },
     "metadata": {},
     "output_type": "display_data"
    },
    {
     "data": {
      "application/vnd.jupyter.widget-view+json": {
       "model_id": "",
       "version_major": 2,
       "version_minor": 0
      },
      "text/plain": [
       "  0%|          | 0/3248 [00:00<?, ?it/s]"
      ]
     },
     "metadata": {},
     "output_type": "display_data"
    },
    {
     "data": {
      "application/vnd.jupyter.widget-view+json": {
       "model_id": "",
       "version_major": 2,
       "version_minor": 0
      },
      "text/plain": [
       "  0%|          | 0/3248 [00:00<?, ?it/s]"
      ]
     },
     "metadata": {},
     "output_type": "display_data"
    },
    {
     "data": {
      "application/vnd.jupyter.widget-view+json": {
       "model_id": "",
       "version_major": 2,
       "version_minor": 0
      },
      "text/plain": [
       "  0%|          | 0/3248 [00:00<?, ?it/s]"
      ]
     },
     "metadata": {},
     "output_type": "display_data"
    },
    {
     "data": {
      "application/vnd.jupyter.widget-view+json": {
       "model_id": "",
       "version_major": 2,
       "version_minor": 0
      },
      "text/plain": [
       "  0%|          | 0/3248 [00:00<?, ?it/s]"
      ]
     },
     "metadata": {},
     "output_type": "display_data"
    },
    {
     "data": {
      "application/vnd.jupyter.widget-view+json": {
       "model_id": "",
       "version_major": 2,
       "version_minor": 0
      },
      "text/plain": [
       "  0%|          | 0/3248 [00:00<?, ?it/s]"
      ]
     },
     "metadata": {},
     "output_type": "display_data"
    },
    {
     "data": {
      "application/vnd.jupyter.widget-view+json": {
       "model_id": "",
       "version_major": 2,
       "version_minor": 0
      },
      "text/plain": [
       "  0%|          | 0/3248 [00:00<?, ?it/s]"
      ]
     },
     "metadata": {},
     "output_type": "display_data"
    },
    {
     "data": {
      "application/vnd.jupyter.widget-view+json": {
       "model_id": "",
       "version_major": 2,
       "version_minor": 0
      },
      "text/plain": [
       "  0%|          | 0/3248 [00:00<?, ?it/s]"
      ]
     },
     "metadata": {},
     "output_type": "display_data"
    },
    {
     "data": {
      "application/vnd.jupyter.widget-view+json": {
       "model_id": "",
       "version_major": 2,
       "version_minor": 0
      },
      "text/plain": [
       "  0%|          | 0/3248 [00:00<?, ?it/s]"
      ]
     },
     "metadata": {},
     "output_type": "display_data"
    },
    {
     "data": {
      "application/vnd.jupyter.widget-view+json": {
       "model_id": "",
       "version_major": 2,
       "version_minor": 0
      },
      "text/plain": [
       "  0%|          | 0/3248 [00:00<?, ?it/s]"
      ]
     },
     "metadata": {},
     "output_type": "display_data"
    },
    {
     "data": {
      "application/vnd.jupyter.widget-view+json": {
       "model_id": "",
       "version_major": 2,
       "version_minor": 0
      },
      "text/plain": [
       "  0%|          | 0/3248 [00:00<?, ?it/s]"
      ]
     },
     "metadata": {},
     "output_type": "display_data"
    },
    {
     "data": {
      "application/vnd.jupyter.widget-view+json": {
       "model_id": "",
       "version_major": 2,
       "version_minor": 0
      },
      "text/plain": [
       "  0%|          | 0/3248 [00:00<?, ?it/s]"
      ]
     },
     "metadata": {},
     "output_type": "display_data"
    },
    {
     "data": {
      "application/vnd.jupyter.widget-view+json": {
       "model_id": "",
       "version_major": 2,
       "version_minor": 0
      },
      "text/plain": [
       "  0%|          | 0/3248 [00:00<?, ?it/s]"
      ]
     },
     "metadata": {},
     "output_type": "display_data"
    },
    {
     "data": {
      "application/vnd.jupyter.widget-view+json": {
       "model_id": "",
       "version_major": 2,
       "version_minor": 0
      },
      "text/plain": [
       "  0%|          | 0/3248 [00:00<?, ?it/s]"
      ]
     },
     "metadata": {},
     "output_type": "display_data"
    },
    {
     "data": {
      "application/vnd.jupyter.widget-view+json": {
       "model_id": "",
       "version_major": 2,
       "version_minor": 0
      },
      "text/plain": [
       "  0%|          | 0/3248 [00:00<?, ?it/s]"
      ]
     },
     "metadata": {},
     "output_type": "display_data"
    },
    {
     "data": {
      "application/vnd.jupyter.widget-view+json": {
       "model_id": "",
       "version_major": 2,
       "version_minor": 0
      },
      "text/plain": [
       "  0%|          | 0/3248 [00:00<?, ?it/s]"
      ]
     },
     "metadata": {},
     "output_type": "display_data"
    },
    {
     "data": {
      "application/vnd.jupyter.widget-view+json": {
       "model_id": "",
       "version_major": 2,
       "version_minor": 0
      },
      "text/plain": [
       "  0%|          | 0/3248 [00:00<?, ?it/s]"
      ]
     },
     "metadata": {},
     "output_type": "display_data"
    },
    {
     "data": {
      "application/vnd.jupyter.widget-view+json": {
       "model_id": "",
       "version_major": 2,
       "version_minor": 0
      },
      "text/plain": [
       "  0%|          | 0/3248 [00:00<?, ?it/s]"
      ]
     },
     "metadata": {},
     "output_type": "display_data"
    },
    {
     "data": {
      "application/vnd.jupyter.widget-view+json": {
       "model_id": "",
       "version_major": 2,
       "version_minor": 0
      },
      "text/plain": [
       "  0%|          | 0/3248 [00:00<?, ?it/s]"
      ]
     },
     "metadata": {},
     "output_type": "display_data"
    },
    {
     "data": {
      "application/vnd.jupyter.widget-view+json": {
       "model_id": "",
       "version_major": 2,
       "version_minor": 0
      },
      "text/plain": [
       "  0%|          | 0/3248 [00:00<?, ?it/s]"
      ]
     },
     "metadata": {},
     "output_type": "display_data"
    },
    {
     "data": {
      "application/vnd.jupyter.widget-view+json": {
       "model_id": "",
       "version_major": 2,
       "version_minor": 0
      },
      "text/plain": [
       "  0%|          | 0/3248 [00:00<?, ?it/s]"
      ]
     },
     "metadata": {},
     "output_type": "display_data"
    },
    {
     "data": {
      "application/vnd.jupyter.widget-view+json": {
       "model_id": "",
       "version_major": 2,
       "version_minor": 0
      },
      "text/plain": [
       "  0%|          | 0/3248 [00:00<?, ?it/s]"
      ]
     },
     "metadata": {},
     "output_type": "display_data"
    },
    {
     "data": {
      "application/vnd.jupyter.widget-view+json": {
       "model_id": "",
       "version_major": 2,
       "version_minor": 0
      },
      "text/plain": [
       "  0%|          | 0/3248 [00:00<?, ?it/s]"
      ]
     },
     "metadata": {},
     "output_type": "display_data"
    },
    {
     "data": {
      "application/vnd.jupyter.widget-view+json": {
       "model_id": "",
       "version_major": 2,
       "version_minor": 0
      },
      "text/plain": [
       "  0%|          | 0/3248 [00:00<?, ?it/s]"
      ]
     },
     "metadata": {},
     "output_type": "display_data"
    },
    {
     "data": {
      "application/vnd.jupyter.widget-view+json": {
       "model_id": "",
       "version_major": 2,
       "version_minor": 0
      },
      "text/plain": [
       "  0%|          | 0/3248 [00:00<?, ?it/s]"
      ]
     },
     "metadata": {},
     "output_type": "display_data"
    },
    {
     "data": {
      "application/vnd.jupyter.widget-view+json": {
       "model_id": "",
       "version_major": 2,
       "version_minor": 0
      },
      "text/plain": [
       "  0%|          | 0/3248 [00:00<?, ?it/s]"
      ]
     },
     "metadata": {},
     "output_type": "display_data"
    },
    {
     "data": {
      "application/vnd.jupyter.widget-view+json": {
       "model_id": "",
       "version_major": 2,
       "version_minor": 0
      },
      "text/plain": [
       "  0%|          | 0/3248 [00:00<?, ?it/s]"
      ]
     },
     "metadata": {},
     "output_type": "display_data"
    },
    {
     "data": {
      "application/vnd.jupyter.widget-view+json": {
       "model_id": "",
       "version_major": 2,
       "version_minor": 0
      },
      "text/plain": [
       "  0%|          | 0/3248 [00:00<?, ?it/s]"
      ]
     },
     "metadata": {},
     "output_type": "display_data"
    },
    {
     "data": {
      "application/vnd.jupyter.widget-view+json": {
       "model_id": "",
       "version_major": 2,
       "version_minor": 0
      },
      "text/plain": [
       "  0%|          | 0/3248 [00:00<?, ?it/s]"
      ]
     },
     "metadata": {},
     "output_type": "display_data"
    },
    {
     "data": {
      "application/vnd.jupyter.widget-view+json": {
       "model_id": "",
       "version_major": 2,
       "version_minor": 0
      },
      "text/plain": [
       "  0%|          | 0/3248 [00:00<?, ?it/s]"
      ]
     },
     "metadata": {},
     "output_type": "display_data"
    },
    {
     "data": {
      "application/vnd.jupyter.widget-view+json": {
       "model_id": "",
       "version_major": 2,
       "version_minor": 0
      },
      "text/plain": [
       "  0%|          | 0/3248 [00:00<?, ?it/s]"
      ]
     },
     "metadata": {},
     "output_type": "display_data"
    },
    {
     "data": {
      "application/vnd.jupyter.widget-view+json": {
       "model_id": "",
       "version_major": 2,
       "version_minor": 0
      },
      "text/plain": [
       "  0%|          | 0/3248 [00:00<?, ?it/s]"
      ]
     },
     "metadata": {},
     "output_type": "display_data"
    },
    {
     "data": {
      "application/vnd.jupyter.widget-view+json": {
       "model_id": "",
       "version_major": 2,
       "version_minor": 0
      },
      "text/plain": [
       "  0%|          | 0/3248 [00:00<?, ?it/s]"
      ]
     },
     "metadata": {},
     "output_type": "display_data"
    },
    {
     "data": {
      "application/vnd.jupyter.widget-view+json": {
       "model_id": "",
       "version_major": 2,
       "version_minor": 0
      },
      "text/plain": [
       "  0%|          | 0/3248 [00:00<?, ?it/s]"
      ]
     },
     "metadata": {},
     "output_type": "display_data"
    },
    {
     "data": {
      "application/vnd.jupyter.widget-view+json": {
       "model_id": "",
       "version_major": 2,
       "version_minor": 0
      },
      "text/plain": [
       "  0%|          | 0/3248 [00:00<?, ?it/s]"
      ]
     },
     "metadata": {},
     "output_type": "display_data"
    },
    {
     "data": {
      "application/vnd.jupyter.widget-view+json": {
       "model_id": "",
       "version_major": 2,
       "version_minor": 0
      },
      "text/plain": [
       "  0%|          | 0/3248 [00:00<?, ?it/s]"
      ]
     },
     "metadata": {},
     "output_type": "display_data"
    },
    {
     "data": {
      "application/vnd.jupyter.widget-view+json": {
       "model_id": "",
       "version_major": 2,
       "version_minor": 0
      },
      "text/plain": [
       "  0%|          | 0/3248 [00:00<?, ?it/s]"
      ]
     },
     "metadata": {},
     "output_type": "display_data"
    },
    {
     "data": {
      "application/vnd.jupyter.widget-view+json": {
       "model_id": "",
       "version_major": 2,
       "version_minor": 0
      },
      "text/plain": [
       "  0%|          | 0/3248 [00:00<?, ?it/s]"
      ]
     },
     "metadata": {},
     "output_type": "display_data"
    },
    {
     "data": {
      "application/vnd.jupyter.widget-view+json": {
       "model_id": "",
       "version_major": 2,
       "version_minor": 0
      },
      "text/plain": [
       "  0%|          | 0/3248 [00:00<?, ?it/s]"
      ]
     },
     "metadata": {},
     "output_type": "display_data"
    },
    {
     "data": {
      "application/vnd.jupyter.widget-view+json": {
       "model_id": "",
       "version_major": 2,
       "version_minor": 0
      },
      "text/plain": [
       "  0%|          | 0/3248 [00:00<?, ?it/s]"
      ]
     },
     "metadata": {},
     "output_type": "display_data"
    },
    {
     "data": {
      "application/vnd.jupyter.widget-view+json": {
       "model_id": "",
       "version_major": 2,
       "version_minor": 0
      },
      "text/plain": [
       "  0%|          | 0/3248 [00:00<?, ?it/s]"
      ]
     },
     "metadata": {},
     "output_type": "display_data"
    },
    {
     "data": {
      "application/vnd.jupyter.widget-view+json": {
       "model_id": "",
       "version_major": 2,
       "version_minor": 0
      },
      "text/plain": [
       "  0%|          | 0/3248 [00:00<?, ?it/s]"
      ]
     },
     "metadata": {},
     "output_type": "display_data"
    },
    {
     "data": {
      "application/vnd.jupyter.widget-view+json": {
       "model_id": "",
       "version_major": 2,
       "version_minor": 0
      },
      "text/plain": [
       "  0%|          | 0/3248 [00:00<?, ?it/s]"
      ]
     },
     "metadata": {},
     "output_type": "display_data"
    },
    {
     "data": {
      "application/vnd.jupyter.widget-view+json": {
       "model_id": "",
       "version_major": 2,
       "version_minor": 0
      },
      "text/plain": [
       "  0%|          | 0/3248 [00:00<?, ?it/s]"
      ]
     },
     "metadata": {},
     "output_type": "display_data"
    },
    {
     "data": {
      "application/vnd.jupyter.widget-view+json": {
       "model_id": "",
       "version_major": 2,
       "version_minor": 0
      },
      "text/plain": [
       "  0%|          | 0/3248 [00:00<?, ?it/s]"
      ]
     },
     "metadata": {},
     "output_type": "display_data"
    },
    {
     "data": {
      "application/vnd.jupyter.widget-view+json": {
       "model_id": "",
       "version_major": 2,
       "version_minor": 0
      },
      "text/plain": [
       "  0%|          | 0/3248 [00:00<?, ?it/s]"
      ]
     },
     "metadata": {},
     "output_type": "display_data"
    },
    {
     "data": {
      "application/vnd.jupyter.widget-view+json": {
       "model_id": "",
       "version_major": 2,
       "version_minor": 0
      },
      "text/plain": [
       "  0%|          | 0/3248 [00:00<?, ?it/s]"
      ]
     },
     "metadata": {},
     "output_type": "display_data"
    },
    {
     "data": {
      "application/vnd.jupyter.widget-view+json": {
       "model_id": "",
       "version_major": 2,
       "version_minor": 0
      },
      "text/plain": [
       "  0%|          | 0/3248 [00:00<?, ?it/s]"
      ]
     },
     "metadata": {},
     "output_type": "display_data"
    },
    {
     "data": {
      "application/vnd.jupyter.widget-view+json": {
       "model_id": "",
       "version_major": 2,
       "version_minor": 0
      },
      "text/plain": [
       "  0%|          | 0/3248 [00:00<?, ?it/s]"
      ]
     },
     "metadata": {},
     "output_type": "display_data"
    },
    {
     "data": {
      "application/vnd.jupyter.widget-view+json": {
       "model_id": "",
       "version_major": 2,
       "version_minor": 0
      },
      "text/plain": [
       "  0%|          | 0/3248 [00:00<?, ?it/s]"
      ]
     },
     "metadata": {},
     "output_type": "display_data"
    },
    {
     "data": {
      "application/vnd.jupyter.widget-view+json": {
       "model_id": "",
       "version_major": 2,
       "version_minor": 0
      },
      "text/plain": [
       "  0%|          | 0/3248 [00:00<?, ?it/s]"
      ]
     },
     "metadata": {},
     "output_type": "display_data"
    },
    {
     "data": {
      "application/vnd.jupyter.widget-view+json": {
       "model_id": "",
       "version_major": 2,
       "version_minor": 0
      },
      "text/plain": [
       "  0%|          | 0/3248 [00:00<?, ?it/s]"
      ]
     },
     "metadata": {},
     "output_type": "display_data"
    },
    {
     "data": {
      "application/vnd.jupyter.widget-view+json": {
       "model_id": "",
       "version_major": 2,
       "version_minor": 0
      },
      "text/plain": [
       "  0%|          | 0/3248 [00:00<?, ?it/s]"
      ]
     },
     "metadata": {},
     "output_type": "display_data"
    },
    {
     "data": {
      "application/vnd.jupyter.widget-view+json": {
       "model_id": "",
       "version_major": 2,
       "version_minor": 0
      },
      "text/plain": [
       "  0%|          | 0/3248 [00:00<?, ?it/s]"
      ]
     },
     "metadata": {},
     "output_type": "display_data"
    },
    {
     "data": {
      "application/vnd.jupyter.widget-view+json": {
       "model_id": "",
       "version_major": 2,
       "version_minor": 0
      },
      "text/plain": [
       "  0%|          | 0/3248 [00:00<?, ?it/s]"
      ]
     },
     "metadata": {},
     "output_type": "display_data"
    },
    {
     "data": {
      "application/vnd.jupyter.widget-view+json": {
       "model_id": "",
       "version_major": 2,
       "version_minor": 0
      },
      "text/plain": [
       "  0%|          | 0/3248 [00:00<?, ?it/s]"
      ]
     },
     "metadata": {},
     "output_type": "display_data"
    },
    {
     "data": {
      "application/vnd.jupyter.widget-view+json": {
       "model_id": "",
       "version_major": 2,
       "version_minor": 0
      },
      "text/plain": [
       "  0%|          | 0/3248 [00:00<?, ?it/s]"
      ]
     },
     "metadata": {},
     "output_type": "display_data"
    },
    {
     "data": {
      "application/vnd.jupyter.widget-view+json": {
       "model_id": "",
       "version_major": 2,
       "version_minor": 0
      },
      "text/plain": [
       "  0%|          | 0/3248 [00:00<?, ?it/s]"
      ]
     },
     "metadata": {},
     "output_type": "display_data"
    },
    {
     "data": {
      "application/vnd.jupyter.widget-view+json": {
       "model_id": "",
       "version_major": 2,
       "version_minor": 0
      },
      "text/plain": [
       "  0%|          | 0/3248 [00:00<?, ?it/s]"
      ]
     },
     "metadata": {},
     "output_type": "display_data"
    },
    {
     "data": {
      "application/vnd.jupyter.widget-view+json": {
       "model_id": "",
       "version_major": 2,
       "version_minor": 0
      },
      "text/plain": [
       "  0%|          | 0/3248 [00:00<?, ?it/s]"
      ]
     },
     "metadata": {},
     "output_type": "display_data"
    },
    {
     "data": {
      "application/vnd.jupyter.widget-view+json": {
       "model_id": "",
       "version_major": 2,
       "version_minor": 0
      },
      "text/plain": [
       "  0%|          | 0/3248 [00:00<?, ?it/s]"
      ]
     },
     "metadata": {},
     "output_type": "display_data"
    },
    {
     "data": {
      "application/vnd.jupyter.widget-view+json": {
       "model_id": "",
       "version_major": 2,
       "version_minor": 0
      },
      "text/plain": [
       "  0%|          | 0/3248 [00:00<?, ?it/s]"
      ]
     },
     "metadata": {},
     "output_type": "display_data"
    },
    {
     "data": {
      "application/vnd.jupyter.widget-view+json": {
       "model_id": "",
       "version_major": 2,
       "version_minor": 0
      },
      "text/plain": [
       "  0%|          | 0/3248 [00:00<?, ?it/s]"
      ]
     },
     "metadata": {},
     "output_type": "display_data"
    },
    {
     "data": {
      "application/vnd.jupyter.widget-view+json": {
       "model_id": "",
       "version_major": 2,
       "version_minor": 0
      },
      "text/plain": [
       "  0%|          | 0/3248 [00:00<?, ?it/s]"
      ]
     },
     "metadata": {},
     "output_type": "display_data"
    },
    {
     "data": {
      "application/vnd.jupyter.widget-view+json": {
       "model_id": "",
       "version_major": 2,
       "version_minor": 0
      },
      "text/plain": [
       "  0%|          | 0/3248 [00:00<?, ?it/s]"
      ]
     },
     "metadata": {},
     "output_type": "display_data"
    },
    {
     "data": {
      "application/vnd.jupyter.widget-view+json": {
       "model_id": "",
       "version_major": 2,
       "version_minor": 0
      },
      "text/plain": [
       "  0%|          | 0/3248 [00:00<?, ?it/s]"
      ]
     },
     "metadata": {},
     "output_type": "display_data"
    },
    {
     "data": {
      "application/vnd.jupyter.widget-view+json": {
       "model_id": "",
       "version_major": 2,
       "version_minor": 0
      },
      "text/plain": [
       "  0%|          | 0/3248 [00:00<?, ?it/s]"
      ]
     },
     "metadata": {},
     "output_type": "display_data"
    },
    {
     "data": {
      "application/vnd.jupyter.widget-view+json": {
       "model_id": "",
       "version_major": 2,
       "version_minor": 0
      },
      "text/plain": [
       "  0%|          | 0/3248 [00:00<?, ?it/s]"
      ]
     },
     "metadata": {},
     "output_type": "display_data"
    },
    {
     "data": {
      "application/vnd.jupyter.widget-view+json": {
       "model_id": "",
       "version_major": 2,
       "version_minor": 0
      },
      "text/plain": [
       "  0%|          | 0/3248 [00:00<?, ?it/s]"
      ]
     },
     "metadata": {},
     "output_type": "display_data"
    },
    {
     "data": {
      "application/vnd.jupyter.widget-view+json": {
       "model_id": "",
       "version_major": 2,
       "version_minor": 0
      },
      "text/plain": [
       "  0%|          | 0/3248 [00:00<?, ?it/s]"
      ]
     },
     "metadata": {},
     "output_type": "display_data"
    },
    {
     "data": {
      "application/vnd.jupyter.widget-view+json": {
       "model_id": "",
       "version_major": 2,
       "version_minor": 0
      },
      "text/plain": [
       "  0%|          | 0/3248 [00:00<?, ?it/s]"
      ]
     },
     "metadata": {},
     "output_type": "display_data"
    },
    {
     "data": {
      "application/vnd.jupyter.widget-view+json": {
       "model_id": "",
       "version_major": 2,
       "version_minor": 0
      },
      "text/plain": [
       "  0%|          | 0/3248 [00:00<?, ?it/s]"
      ]
     },
     "metadata": {},
     "output_type": "display_data"
    },
    {
     "data": {
      "application/vnd.jupyter.widget-view+json": {
       "model_id": "",
       "version_major": 2,
       "version_minor": 0
      },
      "text/plain": [
       "  0%|          | 0/3248 [00:00<?, ?it/s]"
      ]
     },
     "metadata": {},
     "output_type": "display_data"
    },
    {
     "data": {
      "application/vnd.jupyter.widget-view+json": {
       "model_id": "",
       "version_major": 2,
       "version_minor": 0
      },
      "text/plain": [
       "  0%|          | 0/3248 [00:00<?, ?it/s]"
      ]
     },
     "metadata": {},
     "output_type": "display_data"
    },
    {
     "data": {
      "application/vnd.jupyter.widget-view+json": {
       "model_id": "",
       "version_major": 2,
       "version_minor": 0
      },
      "text/plain": [
       "  0%|          | 0/3248 [00:00<?, ?it/s]"
      ]
     },
     "metadata": {},
     "output_type": "display_data"
    },
    {
     "data": {
      "application/vnd.jupyter.widget-view+json": {
       "model_id": "",
       "version_major": 2,
       "version_minor": 0
      },
      "text/plain": [
       "  0%|          | 0/3248 [00:00<?, ?it/s]"
      ]
     },
     "metadata": {},
     "output_type": "display_data"
    },
    {
     "data": {
      "application/vnd.jupyter.widget-view+json": {
       "model_id": "",
       "version_major": 2,
       "version_minor": 0
      },
      "text/plain": [
       "  0%|          | 0/3248 [00:00<?, ?it/s]"
      ]
     },
     "metadata": {},
     "output_type": "display_data"
    },
    {
     "data": {
      "application/vnd.jupyter.widget-view+json": {
       "model_id": "",
       "version_major": 2,
       "version_minor": 0
      },
      "text/plain": [
       "  0%|          | 0/3248 [00:00<?, ?it/s]"
      ]
     },
     "metadata": {},
     "output_type": "display_data"
    },
    {
     "data": {
      "application/vnd.jupyter.widget-view+json": {
       "model_id": "",
       "version_major": 2,
       "version_minor": 0
      },
      "text/plain": [
       "  0%|          | 0/3248 [00:00<?, ?it/s]"
      ]
     },
     "metadata": {},
     "output_type": "display_data"
    },
    {
     "data": {
      "application/vnd.jupyter.widget-view+json": {
       "model_id": "",
       "version_major": 2,
       "version_minor": 0
      },
      "text/plain": [
       "  0%|          | 0/3248 [00:00<?, ?it/s]"
      ]
     },
     "metadata": {},
     "output_type": "display_data"
    },
    {
     "data": {
      "application/vnd.jupyter.widget-view+json": {
       "model_id": "",
       "version_major": 2,
       "version_minor": 0
      },
      "text/plain": [
       "  0%|          | 0/3248 [00:00<?, ?it/s]"
      ]
     },
     "metadata": {},
     "output_type": "display_data"
    },
    {
     "data": {
      "application/vnd.jupyter.widget-view+json": {
       "model_id": "",
       "version_major": 2,
       "version_minor": 0
      },
      "text/plain": [
       "  0%|          | 0/3248 [00:00<?, ?it/s]"
      ]
     },
     "metadata": {},
     "output_type": "display_data"
    },
    {
     "data": {
      "application/vnd.jupyter.widget-view+json": {
       "model_id": "",
       "version_major": 2,
       "version_minor": 0
      },
      "text/plain": [
       "  0%|          | 0/3248 [00:00<?, ?it/s]"
      ]
     },
     "metadata": {},
     "output_type": "display_data"
    },
    {
     "data": {
      "application/vnd.jupyter.widget-view+json": {
       "model_id": "",
       "version_major": 2,
       "version_minor": 0
      },
      "text/plain": [
       "  0%|          | 0/3248 [00:00<?, ?it/s]"
      ]
     },
     "metadata": {},
     "output_type": "display_data"
    },
    {
     "data": {
      "application/vnd.jupyter.widget-view+json": {
       "model_id": "",
       "version_major": 2,
       "version_minor": 0
      },
      "text/plain": [
       "  0%|          | 0/3248 [00:00<?, ?it/s]"
      ]
     },
     "metadata": {},
     "output_type": "display_data"
    },
    {
     "data": {
      "application/vnd.jupyter.widget-view+json": {
       "model_id": "",
       "version_major": 2,
       "version_minor": 0
      },
      "text/plain": [
       "  0%|          | 0/3248 [00:00<?, ?it/s]"
      ]
     },
     "metadata": {},
     "output_type": "display_data"
    },
    {
     "data": {
      "application/vnd.jupyter.widget-view+json": {
       "model_id": "",
       "version_major": 2,
       "version_minor": 0
      },
      "text/plain": [
       "  0%|          | 0/3248 [00:00<?, ?it/s]"
      ]
     },
     "metadata": {},
     "output_type": "display_data"
    },
    {
     "data": {
      "application/vnd.jupyter.widget-view+json": {
       "model_id": "",
       "version_major": 2,
       "version_minor": 0
      },
      "text/plain": [
       "  0%|          | 0/3248 [00:00<?, ?it/s]"
      ]
     },
     "metadata": {},
     "output_type": "display_data"
    },
    {
     "data": {
      "application/vnd.jupyter.widget-view+json": {
       "model_id": "",
       "version_major": 2,
       "version_minor": 0
      },
      "text/plain": [
       "  0%|          | 0/3248 [00:00<?, ?it/s]"
      ]
     },
     "metadata": {},
     "output_type": "display_data"
    },
    {
     "data": {
      "application/vnd.jupyter.widget-view+json": {
       "model_id": "",
       "version_major": 2,
       "version_minor": 0
      },
      "text/plain": [
       "  0%|          | 0/3248 [00:00<?, ?it/s]"
      ]
     },
     "metadata": {},
     "output_type": "display_data"
    },
    {
     "data": {
      "application/vnd.jupyter.widget-view+json": {
       "model_id": "",
       "version_major": 2,
       "version_minor": 0
      },
      "text/plain": [
       "  0%|          | 0/3248 [00:00<?, ?it/s]"
      ]
     },
     "metadata": {},
     "output_type": "display_data"
    },
    {
     "data": {
      "application/vnd.jupyter.widget-view+json": {
       "model_id": "",
       "version_major": 2,
       "version_minor": 0
      },
      "text/plain": [
       "  0%|          | 0/3248 [00:00<?, ?it/s]"
      ]
     },
     "metadata": {},
     "output_type": "display_data"
    },
    {
     "data": {
      "application/vnd.jupyter.widget-view+json": {
       "model_id": "",
       "version_major": 2,
       "version_minor": 0
      },
      "text/plain": [
       "  0%|          | 0/3248 [00:00<?, ?it/s]"
      ]
     },
     "metadata": {},
     "output_type": "display_data"
    },
    {
     "data": {
      "application/vnd.jupyter.widget-view+json": {
       "model_id": "",
       "version_major": 2,
       "version_minor": 0
      },
      "text/plain": [
       "  0%|          | 0/3248 [00:00<?, ?it/s]"
      ]
     },
     "metadata": {},
     "output_type": "display_data"
    },
    {
     "data": {
      "application/vnd.jupyter.widget-view+json": {
       "model_id": "",
       "version_major": 2,
       "version_minor": 0
      },
      "text/plain": [
       "  0%|          | 0/3248 [00:00<?, ?it/s]"
      ]
     },
     "metadata": {},
     "output_type": "display_data"
    },
    {
     "data": {
      "application/vnd.jupyter.widget-view+json": {
       "model_id": "",
       "version_major": 2,
       "version_minor": 0
      },
      "text/plain": [
       "  0%|          | 0/3248 [00:00<?, ?it/s]"
      ]
     },
     "metadata": {},
     "output_type": "display_data"
    },
    {
     "data": {
      "application/vnd.jupyter.widget-view+json": {
       "model_id": "",
       "version_major": 2,
       "version_minor": 0
      },
      "text/plain": [
       "  0%|          | 0/3248 [00:00<?, ?it/s]"
      ]
     },
     "metadata": {},
     "output_type": "display_data"
    },
    {
     "data": {
      "application/vnd.jupyter.widget-view+json": {
       "model_id": "",
       "version_major": 2,
       "version_minor": 0
      },
      "text/plain": [
       "  0%|          | 0/3248 [00:00<?, ?it/s]"
      ]
     },
     "metadata": {},
     "output_type": "display_data"
    },
    {
     "data": {
      "application/vnd.jupyter.widget-view+json": {
       "model_id": "",
       "version_major": 2,
       "version_minor": 0
      },
      "text/plain": [
       "  0%|          | 0/3248 [00:00<?, ?it/s]"
      ]
     },
     "metadata": {},
     "output_type": "display_data"
    },
    {
     "data": {
      "application/vnd.jupyter.widget-view+json": {
       "model_id": "",
       "version_major": 2,
       "version_minor": 0
      },
      "text/plain": [
       "  0%|          | 0/3248 [00:00<?, ?it/s]"
      ]
     },
     "metadata": {},
     "output_type": "display_data"
    },
    {
     "data": {
      "application/vnd.jupyter.widget-view+json": {
       "model_id": "",
       "version_major": 2,
       "version_minor": 0
      },
      "text/plain": [
       "  0%|          | 0/3248 [00:00<?, ?it/s]"
      ]
     },
     "metadata": {},
     "output_type": "display_data"
    },
    {
     "data": {
      "application/vnd.jupyter.widget-view+json": {
       "model_id": "",
       "version_major": 2,
       "version_minor": 0
      },
      "text/plain": [
       "  0%|          | 0/3248 [00:00<?, ?it/s]"
      ]
     },
     "metadata": {},
     "output_type": "display_data"
    },
    {
     "data": {
      "application/vnd.jupyter.widget-view+json": {
       "model_id": "",
       "version_major": 2,
       "version_minor": 0
      },
      "text/plain": [
       "  0%|          | 0/3248 [00:00<?, ?it/s]"
      ]
     },
     "metadata": {},
     "output_type": "display_data"
    },
    {
     "data": {
      "application/vnd.jupyter.widget-view+json": {
       "model_id": "",
       "version_major": 2,
       "version_minor": 0
      },
      "text/plain": [
       "  0%|          | 0/3248 [00:00<?, ?it/s]"
      ]
     },
     "metadata": {},
     "output_type": "display_data"
    },
    {
     "data": {
      "application/vnd.jupyter.widget-view+json": {
       "model_id": "",
       "version_major": 2,
       "version_minor": 0
      },
      "text/plain": [
       "  0%|          | 0/3248 [00:00<?, ?it/s]"
      ]
     },
     "metadata": {},
     "output_type": "display_data"
    },
    {
     "data": {
      "application/vnd.jupyter.widget-view+json": {
       "model_id": "",
       "version_major": 2,
       "version_minor": 0
      },
      "text/plain": [
       "  0%|          | 0/3248 [00:00<?, ?it/s]"
      ]
     },
     "metadata": {},
     "output_type": "display_data"
    },
    {
     "data": {
      "application/vnd.jupyter.widget-view+json": {
       "model_id": "",
       "version_major": 2,
       "version_minor": 0
      },
      "text/plain": [
       "  0%|          | 0/3248 [00:00<?, ?it/s]"
      ]
     },
     "metadata": {},
     "output_type": "display_data"
    },
    {
     "data": {
      "application/vnd.jupyter.widget-view+json": {
       "model_id": "",
       "version_major": 2,
       "version_minor": 0
      },
      "text/plain": [
       "  0%|          | 0/3248 [00:00<?, ?it/s]"
      ]
     },
     "metadata": {},
     "output_type": "display_data"
    },
    {
     "data": {
      "application/vnd.jupyter.widget-view+json": {
       "model_id": "",
       "version_major": 2,
       "version_minor": 0
      },
      "text/plain": [
       "  0%|          | 0/3248 [00:00<?, ?it/s]"
      ]
     },
     "metadata": {},
     "output_type": "display_data"
    },
    {
     "data": {
      "application/vnd.jupyter.widget-view+json": {
       "model_id": "",
       "version_major": 2,
       "version_minor": 0
      },
      "text/plain": [
       "  0%|          | 0/3248 [00:00<?, ?it/s]"
      ]
     },
     "metadata": {},
     "output_type": "display_data"
    },
    {
     "data": {
      "application/vnd.jupyter.widget-view+json": {
       "model_id": "",
       "version_major": 2,
       "version_minor": 0
      },
      "text/plain": [
       "  0%|          | 0/3248 [00:00<?, ?it/s]"
      ]
     },
     "metadata": {},
     "output_type": "display_data"
    },
    {
     "data": {
      "application/vnd.jupyter.widget-view+json": {
       "model_id": "",
       "version_major": 2,
       "version_minor": 0
      },
      "text/plain": [
       "  0%|          | 0/3248 [00:00<?, ?it/s]"
      ]
     },
     "metadata": {},
     "output_type": "display_data"
    }
   ],
   "source": [
    "#resampling to days\n",
    "df_energy_interpolate_days = resample_to_different_time(df_energy_interpolate, \"\",\"D\",\"removeColumn\")"
   ]
  },
  {
   "cell_type": "code",
   "execution_count": 20,
   "metadata": {},
   "outputs": [
    {
     "data": {
      "text/html": [
       "<div>\n",
       "<style scoped>\n",
       "    .dataframe tbody tr th:only-of-type {\n",
       "        vertical-align: middle;\n",
       "    }\n",
       "\n",
       "    .dataframe tbody tr th {\n",
       "        vertical-align: top;\n",
       "    }\n",
       "\n",
       "    .dataframe thead th {\n",
       "        text-align: right;\n",
       "    }\n",
       "</style>\n",
       "<table border=\"1\" class=\"dataframe\">\n",
       "  <thead>\n",
       "    <tr style=\"text-align: right;\">\n",
       "      <th></th>\n",
       "      <th>meter_id</th>\n",
       "      <th>2017-01-01</th>\n",
       "      <th>2017-01-02</th>\n",
       "      <th>2017-01-03</th>\n",
       "      <th>2017-01-04</th>\n",
       "      <th>2017-01-05</th>\n",
       "      <th>2017-01-06</th>\n",
       "      <th>2017-01-07</th>\n",
       "      <th>2017-01-08</th>\n",
       "      <th>2017-01-09</th>\n",
       "      <th>2017-01-10</th>\n",
       "      <th>2017-01-11</th>\n",
       "      <th>2017-01-12</th>\n",
       "      <th>2017-01-13</th>\n",
       "      <th>2017-01-14</th>\n",
       "      <th>2017-01-15</th>\n",
       "      <th>2017-01-16</th>\n",
       "      <th>2017-01-17</th>\n",
       "      <th>2017-01-18</th>\n",
       "      <th>2017-01-19</th>\n",
       "      <th>2017-01-20</th>\n",
       "      <th>2017-01-21</th>\n",
       "      <th>2017-01-22</th>\n",
       "      <th>2017-01-23</th>\n",
       "      <th>2017-01-24</th>\n",
       "      <th>...</th>\n",
       "      <th>2017-12-07</th>\n",
       "      <th>2017-12-08</th>\n",
       "      <th>2017-12-09</th>\n",
       "      <th>2017-12-10</th>\n",
       "      <th>2017-12-11</th>\n",
       "      <th>2017-12-12</th>\n",
       "      <th>2017-12-13</th>\n",
       "      <th>2017-12-14</th>\n",
       "      <th>2017-12-15</th>\n",
       "      <th>2017-12-16</th>\n",
       "      <th>2017-12-17</th>\n",
       "      <th>2017-12-18</th>\n",
       "      <th>2017-12-19</th>\n",
       "      <th>2017-12-20</th>\n",
       "      <th>2017-12-21</th>\n",
       "      <th>2017-12-22</th>\n",
       "      <th>2017-12-23</th>\n",
       "      <th>2017-12-24</th>\n",
       "      <th>2017-12-25</th>\n",
       "      <th>2017-12-26</th>\n",
       "      <th>2017-12-27</th>\n",
       "      <th>2017-12-28</th>\n",
       "      <th>2017-12-29</th>\n",
       "      <th>2017-12-30</th>\n",
       "      <th>2017-12-31</th>\n",
       "    </tr>\n",
       "  </thead>\n",
       "  <tbody>\n",
       "    <tr>\n",
       "      <th>0</th>\n",
       "      <td>0xa62b9f23553ff183f61e2bf943aab3d5983d02d7</td>\n",
       "      <td>NaN</td>\n",
       "      <td>NaN</td>\n",
       "      <td>NaN</td>\n",
       "      <td>NaN</td>\n",
       "      <td>NaN</td>\n",
       "      <td>NaN</td>\n",
       "      <td>NaN</td>\n",
       "      <td>NaN</td>\n",
       "      <td>NaN</td>\n",
       "      <td>NaN</td>\n",
       "      <td>NaN</td>\n",
       "      <td>NaN</td>\n",
       "      <td>NaN</td>\n",
       "      <td>NaN</td>\n",
       "      <td>NaN</td>\n",
       "      <td>NaN</td>\n",
       "      <td>NaN</td>\n",
       "      <td>NaN</td>\n",
       "      <td>NaN</td>\n",
       "      <td>NaN</td>\n",
       "      <td>NaN</td>\n",
       "      <td>NaN</td>\n",
       "      <td>NaN</td>\n",
       "      <td>NaN</td>\n",
       "      <td>...</td>\n",
       "      <td>4.4710</td>\n",
       "      <td>3.7410</td>\n",
       "      <td>NaN</td>\n",
       "      <td>7.224</td>\n",
       "      <td>4.951</td>\n",
       "      <td>NaN</td>\n",
       "      <td>3.4420</td>\n",
       "      <td>3.509</td>\n",
       "      <td>4.6750</td>\n",
       "      <td>6.131</td>\n",
       "      <td>4.962</td>\n",
       "      <td>3.336</td>\n",
       "      <td>4.318</td>\n",
       "      <td>3.561</td>\n",
       "      <td>4.279</td>\n",
       "      <td>4.030</td>\n",
       "      <td>5.397</td>\n",
       "      <td>NaN</td>\n",
       "      <td>4.818</td>\n",
       "      <td>3.931</td>\n",
       "      <td>NaN</td>\n",
       "      <td>4.503</td>\n",
       "      <td>NaN</td>\n",
       "      <td>5.129</td>\n",
       "      <td>5.395</td>\n",
       "    </tr>\n",
       "    <tr>\n",
       "      <th>1</th>\n",
       "      <td>0x459c834d1f6cfb5b734b82aa9f5410fa97fb70da</td>\n",
       "      <td>NaN</td>\n",
       "      <td>NaN</td>\n",
       "      <td>NaN</td>\n",
       "      <td>NaN</td>\n",
       "      <td>NaN</td>\n",
       "      <td>NaN</td>\n",
       "      <td>NaN</td>\n",
       "      <td>NaN</td>\n",
       "      <td>NaN</td>\n",
       "      <td>NaN</td>\n",
       "      <td>NaN</td>\n",
       "      <td>NaN</td>\n",
       "      <td>NaN</td>\n",
       "      <td>NaN</td>\n",
       "      <td>NaN</td>\n",
       "      <td>NaN</td>\n",
       "      <td>NaN</td>\n",
       "      <td>NaN</td>\n",
       "      <td>NaN</td>\n",
       "      <td>NaN</td>\n",
       "      <td>NaN</td>\n",
       "      <td>NaN</td>\n",
       "      <td>NaN</td>\n",
       "      <td>NaN</td>\n",
       "      <td>...</td>\n",
       "      <td>17.2510</td>\n",
       "      <td>23.4690</td>\n",
       "      <td>NaN</td>\n",
       "      <td>24.730</td>\n",
       "      <td>24.597</td>\n",
       "      <td>NaN</td>\n",
       "      <td>20.0560</td>\n",
       "      <td>22.546</td>\n",
       "      <td>22.3330</td>\n",
       "      <td>23.353</td>\n",
       "      <td>22.774</td>\n",
       "      <td>20.229</td>\n",
       "      <td>21.218</td>\n",
       "      <td>15.419</td>\n",
       "      <td>13.475</td>\n",
       "      <td>13.101</td>\n",
       "      <td>14.327</td>\n",
       "      <td>NaN</td>\n",
       "      <td>14.936</td>\n",
       "      <td>16.174</td>\n",
       "      <td>NaN</td>\n",
       "      <td>24.618</td>\n",
       "      <td>NaN</td>\n",
       "      <td>15.167</td>\n",
       "      <td>11.751</td>\n",
       "    </tr>\n",
       "    <tr>\n",
       "      <th>2</th>\n",
       "      <td>0x4a1ed36825360a058cec2bdd409fc2459e1ce54f</td>\n",
       "      <td>NaN</td>\n",
       "      <td>NaN</td>\n",
       "      <td>NaN</td>\n",
       "      <td>NaN</td>\n",
       "      <td>NaN</td>\n",
       "      <td>NaN</td>\n",
       "      <td>NaN</td>\n",
       "      <td>NaN</td>\n",
       "      <td>NaN</td>\n",
       "      <td>NaN</td>\n",
       "      <td>NaN</td>\n",
       "      <td>NaN</td>\n",
       "      <td>NaN</td>\n",
       "      <td>NaN</td>\n",
       "      <td>NaN</td>\n",
       "      <td>NaN</td>\n",
       "      <td>NaN</td>\n",
       "      <td>NaN</td>\n",
       "      <td>NaN</td>\n",
       "      <td>NaN</td>\n",
       "      <td>NaN</td>\n",
       "      <td>NaN</td>\n",
       "      <td>NaN</td>\n",
       "      <td>NaN</td>\n",
       "      <td>...</td>\n",
       "      <td>6.3985</td>\n",
       "      <td>20.0265</td>\n",
       "      <td>NaN</td>\n",
       "      <td>12.423</td>\n",
       "      <td>18.379</td>\n",
       "      <td>NaN</td>\n",
       "      <td>13.3215</td>\n",
       "      <td>13.821</td>\n",
       "      <td>14.2175</td>\n",
       "      <td>16.712</td>\n",
       "      <td>12.364</td>\n",
       "      <td>16.102</td>\n",
       "      <td>18.601</td>\n",
       "      <td>10.385</td>\n",
       "      <td>10.917</td>\n",
       "      <td>10.201</td>\n",
       "      <td>7.320</td>\n",
       "      <td>NaN</td>\n",
       "      <td>7.384</td>\n",
       "      <td>14.425</td>\n",
       "      <td>NaN</td>\n",
       "      <td>17.705</td>\n",
       "      <td>NaN</td>\n",
       "      <td>8.966</td>\n",
       "      <td>4.633</td>\n",
       "    </tr>\n",
       "    <tr>\n",
       "      <th>3</th>\n",
       "      <td>0x5b76d3c0e0aefc6e0a8d1d031f96388a23263407</td>\n",
       "      <td>NaN</td>\n",
       "      <td>NaN</td>\n",
       "      <td>NaN</td>\n",
       "      <td>NaN</td>\n",
       "      <td>NaN</td>\n",
       "      <td>NaN</td>\n",
       "      <td>NaN</td>\n",
       "      <td>NaN</td>\n",
       "      <td>NaN</td>\n",
       "      <td>NaN</td>\n",
       "      <td>NaN</td>\n",
       "      <td>NaN</td>\n",
       "      <td>NaN</td>\n",
       "      <td>NaN</td>\n",
       "      <td>NaN</td>\n",
       "      <td>NaN</td>\n",
       "      <td>NaN</td>\n",
       "      <td>NaN</td>\n",
       "      <td>NaN</td>\n",
       "      <td>NaN</td>\n",
       "      <td>NaN</td>\n",
       "      <td>NaN</td>\n",
       "      <td>NaN</td>\n",
       "      <td>NaN</td>\n",
       "      <td>...</td>\n",
       "      <td>14.1100</td>\n",
       "      <td>23.3150</td>\n",
       "      <td>NaN</td>\n",
       "      <td>19.672</td>\n",
       "      <td>21.023</td>\n",
       "      <td>NaN</td>\n",
       "      <td>19.6860</td>\n",
       "      <td>23.435</td>\n",
       "      <td>18.7330</td>\n",
       "      <td>22.249</td>\n",
       "      <td>20.755</td>\n",
       "      <td>19.730</td>\n",
       "      <td>21.135</td>\n",
       "      <td>16.526</td>\n",
       "      <td>12.677</td>\n",
       "      <td>14.833</td>\n",
       "      <td>12.477</td>\n",
       "      <td>NaN</td>\n",
       "      <td>10.974</td>\n",
       "      <td>19.646</td>\n",
       "      <td>NaN</td>\n",
       "      <td>23.993</td>\n",
       "      <td>NaN</td>\n",
       "      <td>15.841</td>\n",
       "      <td>14.452</td>\n",
       "    </tr>\n",
       "    <tr>\n",
       "      <th>4</th>\n",
       "      <td>0x943ebe39ef2be6ef807c42c5a647e27112ca5b0f</td>\n",
       "      <td>NaN</td>\n",
       "      <td>NaN</td>\n",
       "      <td>NaN</td>\n",
       "      <td>NaN</td>\n",
       "      <td>NaN</td>\n",
       "      <td>NaN</td>\n",
       "      <td>NaN</td>\n",
       "      <td>NaN</td>\n",
       "      <td>NaN</td>\n",
       "      <td>NaN</td>\n",
       "      <td>NaN</td>\n",
       "      <td>NaN</td>\n",
       "      <td>NaN</td>\n",
       "      <td>NaN</td>\n",
       "      <td>NaN</td>\n",
       "      <td>NaN</td>\n",
       "      <td>NaN</td>\n",
       "      <td>NaN</td>\n",
       "      <td>NaN</td>\n",
       "      <td>NaN</td>\n",
       "      <td>NaN</td>\n",
       "      <td>NaN</td>\n",
       "      <td>NaN</td>\n",
       "      <td>NaN</td>\n",
       "      <td>...</td>\n",
       "      <td>30.5070</td>\n",
       "      <td>35.3880</td>\n",
       "      <td>NaN</td>\n",
       "      <td>48.607</td>\n",
       "      <td>54.760</td>\n",
       "      <td>NaN</td>\n",
       "      <td>42.7030</td>\n",
       "      <td>35.045</td>\n",
       "      <td>38.6640</td>\n",
       "      <td>36.790</td>\n",
       "      <td>29.009</td>\n",
       "      <td>42.716</td>\n",
       "      <td>29.052</td>\n",
       "      <td>25.444</td>\n",
       "      <td>28.234</td>\n",
       "      <td>39.440</td>\n",
       "      <td>35.538</td>\n",
       "      <td>NaN</td>\n",
       "      <td>8.351</td>\n",
       "      <td>9.957</td>\n",
       "      <td>NaN</td>\n",
       "      <td>25.871</td>\n",
       "      <td>NaN</td>\n",
       "      <td>46.274</td>\n",
       "      <td>16.901</td>\n",
       "    </tr>\n",
       "    <tr>\n",
       "      <th>...</th>\n",
       "      <td>...</td>\n",
       "      <td>...</td>\n",
       "      <td>...</td>\n",
       "      <td>...</td>\n",
       "      <td>...</td>\n",
       "      <td>...</td>\n",
       "      <td>...</td>\n",
       "      <td>...</td>\n",
       "      <td>...</td>\n",
       "      <td>...</td>\n",
       "      <td>...</td>\n",
       "      <td>...</td>\n",
       "      <td>...</td>\n",
       "      <td>...</td>\n",
       "      <td>...</td>\n",
       "      <td>...</td>\n",
       "      <td>...</td>\n",
       "      <td>...</td>\n",
       "      <td>...</td>\n",
       "      <td>...</td>\n",
       "      <td>...</td>\n",
       "      <td>...</td>\n",
       "      <td>...</td>\n",
       "      <td>...</td>\n",
       "      <td>...</td>\n",
       "      <td>...</td>\n",
       "      <td>...</td>\n",
       "      <td>...</td>\n",
       "      <td>...</td>\n",
       "      <td>...</td>\n",
       "      <td>...</td>\n",
       "      <td>...</td>\n",
       "      <td>...</td>\n",
       "      <td>...</td>\n",
       "      <td>...</td>\n",
       "      <td>...</td>\n",
       "      <td>...</td>\n",
       "      <td>...</td>\n",
       "      <td>...</td>\n",
       "      <td>...</td>\n",
       "      <td>...</td>\n",
       "      <td>...</td>\n",
       "      <td>...</td>\n",
       "      <td>...</td>\n",
       "      <td>...</td>\n",
       "      <td>...</td>\n",
       "      <td>...</td>\n",
       "      <td>...</td>\n",
       "      <td>...</td>\n",
       "      <td>...</td>\n",
       "      <td>...</td>\n",
       "    </tr>\n",
       "    <tr>\n",
       "      <th>3243</th>\n",
       "      <td>0x7dd7a7b8ee1bec7c44b24f738c752482f6161065</td>\n",
       "      <td>2.317</td>\n",
       "      <td>2.301</td>\n",
       "      <td>2.352</td>\n",
       "      <td>2.516</td>\n",
       "      <td>2.229</td>\n",
       "      <td>2.354</td>\n",
       "      <td>2.397</td>\n",
       "      <td>2.397</td>\n",
       "      <td>2.269</td>\n",
       "      <td>NaN</td>\n",
       "      <td>2.339</td>\n",
       "      <td>2.212</td>\n",
       "      <td>2.456</td>\n",
       "      <td>2.229</td>\n",
       "      <td>2.503</td>\n",
       "      <td>2.207</td>\n",
       "      <td>2.469</td>\n",
       "      <td>2.266</td>\n",
       "      <td>2.321</td>\n",
       "      <td>2.262</td>\n",
       "      <td>2.286</td>\n",
       "      <td>2.384</td>\n",
       "      <td>2.319</td>\n",
       "      <td>2.289</td>\n",
       "      <td>...</td>\n",
       "      <td>9.6750</td>\n",
       "      <td>9.9760</td>\n",
       "      <td>NaN</td>\n",
       "      <td>10.635</td>\n",
       "      <td>10.650</td>\n",
       "      <td>NaN</td>\n",
       "      <td>10.1490</td>\n",
       "      <td>10.112</td>\n",
       "      <td>10.6320</td>\n",
       "      <td>10.566</td>\n",
       "      <td>10.732</td>\n",
       "      <td>10.615</td>\n",
       "      <td>10.386</td>\n",
       "      <td>9.936</td>\n",
       "      <td>9.625</td>\n",
       "      <td>9.390</td>\n",
       "      <td>9.231</td>\n",
       "      <td>NaN</td>\n",
       "      <td>9.216</td>\n",
       "      <td>9.336</td>\n",
       "      <td>NaN</td>\n",
       "      <td>10.032</td>\n",
       "      <td>NaN</td>\n",
       "      <td>9.757</td>\n",
       "      <td>9.480</td>\n",
       "    </tr>\n",
       "    <tr>\n",
       "      <th>3244</th>\n",
       "      <td>0xfdaf9f857621ec06f2cf801f42a020a322835090</td>\n",
       "      <td>14.437</td>\n",
       "      <td>16.274</td>\n",
       "      <td>7.031</td>\n",
       "      <td>17.018</td>\n",
       "      <td>17.603</td>\n",
       "      <td>15.005</td>\n",
       "      <td>8.987</td>\n",
       "      <td>8.490</td>\n",
       "      <td>10.136</td>\n",
       "      <td>NaN</td>\n",
       "      <td>10.466</td>\n",
       "      <td>8.177</td>\n",
       "      <td>11.929</td>\n",
       "      <td>8.261</td>\n",
       "      <td>12.369</td>\n",
       "      <td>14.352</td>\n",
       "      <td>14.058</td>\n",
       "      <td>10.472</td>\n",
       "      <td>17.396</td>\n",
       "      <td>9.879</td>\n",
       "      <td>21.971</td>\n",
       "      <td>12.708</td>\n",
       "      <td>15.327</td>\n",
       "      <td>8.309</td>\n",
       "      <td>...</td>\n",
       "      <td>3.5980</td>\n",
       "      <td>5.8620</td>\n",
       "      <td>NaN</td>\n",
       "      <td>7.770</td>\n",
       "      <td>5.091</td>\n",
       "      <td>NaN</td>\n",
       "      <td>6.1090</td>\n",
       "      <td>5.056</td>\n",
       "      <td>3.9720</td>\n",
       "      <td>3.458</td>\n",
       "      <td>7.793</td>\n",
       "      <td>9.837</td>\n",
       "      <td>8.697</td>\n",
       "      <td>5.079</td>\n",
       "      <td>6.031</td>\n",
       "      <td>4.141</td>\n",
       "      <td>2.828</td>\n",
       "      <td>NaN</td>\n",
       "      <td>4.818</td>\n",
       "      <td>3.357</td>\n",
       "      <td>NaN</td>\n",
       "      <td>12.906</td>\n",
       "      <td>NaN</td>\n",
       "      <td>3.122</td>\n",
       "      <td>3.401</td>\n",
       "    </tr>\n",
       "    <tr>\n",
       "      <th>3245</th>\n",
       "      <td>0xd28f2f001e0cd4d6c121a3cb2e1427207e170e18</td>\n",
       "      <td>7.824</td>\n",
       "      <td>7.517</td>\n",
       "      <td>5.398</td>\n",
       "      <td>6.788</td>\n",
       "      <td>7.360</td>\n",
       "      <td>6.898</td>\n",
       "      <td>7.321</td>\n",
       "      <td>8.042</td>\n",
       "      <td>8.207</td>\n",
       "      <td>NaN</td>\n",
       "      <td>5.464</td>\n",
       "      <td>7.545</td>\n",
       "      <td>6.432</td>\n",
       "      <td>6.001</td>\n",
       "      <td>5.558</td>\n",
       "      <td>6.391</td>\n",
       "      <td>6.066</td>\n",
       "      <td>6.443</td>\n",
       "      <td>6.675</td>\n",
       "      <td>7.363</td>\n",
       "      <td>7.269</td>\n",
       "      <td>7.183</td>\n",
       "      <td>7.102</td>\n",
       "      <td>NaN</td>\n",
       "      <td>...</td>\n",
       "      <td>5.7350</td>\n",
       "      <td>7.2410</td>\n",
       "      <td>NaN</td>\n",
       "      <td>5.695</td>\n",
       "      <td>8.143</td>\n",
       "      <td>NaN</td>\n",
       "      <td>6.9930</td>\n",
       "      <td>6.451</td>\n",
       "      <td>7.6290</td>\n",
       "      <td>6.880</td>\n",
       "      <td>5.960</td>\n",
       "      <td>6.231</td>\n",
       "      <td>5.748</td>\n",
       "      <td>5.259</td>\n",
       "      <td>5.258</td>\n",
       "      <td>6.767</td>\n",
       "      <td>5.919</td>\n",
       "      <td>NaN</td>\n",
       "      <td>6.077</td>\n",
       "      <td>7.761</td>\n",
       "      <td>NaN</td>\n",
       "      <td>5.455</td>\n",
       "      <td>NaN</td>\n",
       "      <td>5.679</td>\n",
       "      <td>8.148</td>\n",
       "    </tr>\n",
       "    <tr>\n",
       "      <th>3246</th>\n",
       "      <td>0x47218b46abb2fcaade487a211911406dc6e13730</td>\n",
       "      <td>23.965</td>\n",
       "      <td>28.689</td>\n",
       "      <td>27.664</td>\n",
       "      <td>29.229</td>\n",
       "      <td>29.548</td>\n",
       "      <td>27.909</td>\n",
       "      <td>26.923</td>\n",
       "      <td>21.277</td>\n",
       "      <td>23.452</td>\n",
       "      <td>NaN</td>\n",
       "      <td>25.924</td>\n",
       "      <td>26.834</td>\n",
       "      <td>30.346</td>\n",
       "      <td>30.367</td>\n",
       "      <td>26.135</td>\n",
       "      <td>26.842</td>\n",
       "      <td>25.588</td>\n",
       "      <td>30.267</td>\n",
       "      <td>28.921</td>\n",
       "      <td>27.530</td>\n",
       "      <td>28.424</td>\n",
       "      <td>28.961</td>\n",
       "      <td>29.346</td>\n",
       "      <td>28.640</td>\n",
       "      <td>...</td>\n",
       "      <td>23.8700</td>\n",
       "      <td>28.7260</td>\n",
       "      <td>NaN</td>\n",
       "      <td>29.844</td>\n",
       "      <td>31.899</td>\n",
       "      <td>NaN</td>\n",
       "      <td>30.0390</td>\n",
       "      <td>30.470</td>\n",
       "      <td>30.0440</td>\n",
       "      <td>28.617</td>\n",
       "      <td>31.578</td>\n",
       "      <td>31.481</td>\n",
       "      <td>32.123</td>\n",
       "      <td>29.524</td>\n",
       "      <td>22.586</td>\n",
       "      <td>20.747</td>\n",
       "      <td>19.979</td>\n",
       "      <td>NaN</td>\n",
       "      <td>20.406</td>\n",
       "      <td>23.668</td>\n",
       "      <td>NaN</td>\n",
       "      <td>31.912</td>\n",
       "      <td>NaN</td>\n",
       "      <td>26.313</td>\n",
       "      <td>24.201</td>\n",
       "    </tr>\n",
       "    <tr>\n",
       "      <th>3247</th>\n",
       "      <td>0xcd19e6fe3d887bc5dcac7ca18d46199695463fdd</td>\n",
       "      <td>11.302</td>\n",
       "      <td>14.178</td>\n",
       "      <td>15.499</td>\n",
       "      <td>11.853</td>\n",
       "      <td>17.431</td>\n",
       "      <td>14.506</td>\n",
       "      <td>12.812</td>\n",
       "      <td>10.472</td>\n",
       "      <td>10.879</td>\n",
       "      <td>NaN</td>\n",
       "      <td>9.826</td>\n",
       "      <td>11.969</td>\n",
       "      <td>14.236</td>\n",
       "      <td>15.300</td>\n",
       "      <td>14.199</td>\n",
       "      <td>9.955</td>\n",
       "      <td>16.184</td>\n",
       "      <td>15.341</td>\n",
       "      <td>14.343</td>\n",
       "      <td>17.231</td>\n",
       "      <td>10.636</td>\n",
       "      <td>17.707</td>\n",
       "      <td>15.851</td>\n",
       "      <td>13.311</td>\n",
       "      <td>...</td>\n",
       "      <td>18.5060</td>\n",
       "      <td>24.9040</td>\n",
       "      <td>NaN</td>\n",
       "      <td>34.299</td>\n",
       "      <td>28.132</td>\n",
       "      <td>NaN</td>\n",
       "      <td>35.0540</td>\n",
       "      <td>35.282</td>\n",
       "      <td>28.4120</td>\n",
       "      <td>40.251</td>\n",
       "      <td>30.084</td>\n",
       "      <td>26.058</td>\n",
       "      <td>27.873</td>\n",
       "      <td>21.999</td>\n",
       "      <td>26.232</td>\n",
       "      <td>14.036</td>\n",
       "      <td>15.990</td>\n",
       "      <td>NaN</td>\n",
       "      <td>15.111</td>\n",
       "      <td>16.506</td>\n",
       "      <td>NaN</td>\n",
       "      <td>21.011</td>\n",
       "      <td>NaN</td>\n",
       "      <td>17.397</td>\n",
       "      <td>15.237</td>\n",
       "    </tr>\n",
       "  </tbody>\n",
       "</table>\n",
       "<p>3248 rows × 366 columns</p>\n",
       "</div>"
      ],
      "text/plain": [
       "                                        meter_id  2017-01-01  2017-01-02  \\\n",
       "0     0xa62b9f23553ff183f61e2bf943aab3d5983d02d7         NaN         NaN   \n",
       "1     0x459c834d1f6cfb5b734b82aa9f5410fa97fb70da         NaN         NaN   \n",
       "2     0x4a1ed36825360a058cec2bdd409fc2459e1ce54f         NaN         NaN   \n",
       "3     0x5b76d3c0e0aefc6e0a8d1d031f96388a23263407         NaN         NaN   \n",
       "4     0x943ebe39ef2be6ef807c42c5a647e27112ca5b0f         NaN         NaN   \n",
       "...                                          ...         ...         ...   \n",
       "3243  0x7dd7a7b8ee1bec7c44b24f738c752482f6161065       2.317       2.301   \n",
       "3244  0xfdaf9f857621ec06f2cf801f42a020a322835090      14.437      16.274   \n",
       "3245  0xd28f2f001e0cd4d6c121a3cb2e1427207e170e18       7.824       7.517   \n",
       "3246  0x47218b46abb2fcaade487a211911406dc6e13730      23.965      28.689   \n",
       "3247  0xcd19e6fe3d887bc5dcac7ca18d46199695463fdd      11.302      14.178   \n",
       "\n",
       "      2017-01-03  2017-01-04  2017-01-05  2017-01-06  2017-01-07  2017-01-08  \\\n",
       "0            NaN         NaN         NaN         NaN         NaN         NaN   \n",
       "1            NaN         NaN         NaN         NaN         NaN         NaN   \n",
       "2            NaN         NaN         NaN         NaN         NaN         NaN   \n",
       "3            NaN         NaN         NaN         NaN         NaN         NaN   \n",
       "4            NaN         NaN         NaN         NaN         NaN         NaN   \n",
       "...          ...         ...         ...         ...         ...         ...   \n",
       "3243       2.352       2.516       2.229       2.354       2.397       2.397   \n",
       "3244       7.031      17.018      17.603      15.005       8.987       8.490   \n",
       "3245       5.398       6.788       7.360       6.898       7.321       8.042   \n",
       "3246      27.664      29.229      29.548      27.909      26.923      21.277   \n",
       "3247      15.499      11.853      17.431      14.506      12.812      10.472   \n",
       "\n",
       "      2017-01-09  2017-01-10  2017-01-11  2017-01-12  2017-01-13  2017-01-14  \\\n",
       "0            NaN         NaN         NaN         NaN         NaN         NaN   \n",
       "1            NaN         NaN         NaN         NaN         NaN         NaN   \n",
       "2            NaN         NaN         NaN         NaN         NaN         NaN   \n",
       "3            NaN         NaN         NaN         NaN         NaN         NaN   \n",
       "4            NaN         NaN         NaN         NaN         NaN         NaN   \n",
       "...          ...         ...         ...         ...         ...         ...   \n",
       "3243       2.269         NaN       2.339       2.212       2.456       2.229   \n",
       "3244      10.136         NaN      10.466       8.177      11.929       8.261   \n",
       "3245       8.207         NaN       5.464       7.545       6.432       6.001   \n",
       "3246      23.452         NaN      25.924      26.834      30.346      30.367   \n",
       "3247      10.879         NaN       9.826      11.969      14.236      15.300   \n",
       "\n",
       "      2017-01-15  2017-01-16  2017-01-17  2017-01-18  2017-01-19  2017-01-20  \\\n",
       "0            NaN         NaN         NaN         NaN         NaN         NaN   \n",
       "1            NaN         NaN         NaN         NaN         NaN         NaN   \n",
       "2            NaN         NaN         NaN         NaN         NaN         NaN   \n",
       "3            NaN         NaN         NaN         NaN         NaN         NaN   \n",
       "4            NaN         NaN         NaN         NaN         NaN         NaN   \n",
       "...          ...         ...         ...         ...         ...         ...   \n",
       "3243       2.503       2.207       2.469       2.266       2.321       2.262   \n",
       "3244      12.369      14.352      14.058      10.472      17.396       9.879   \n",
       "3245       5.558       6.391       6.066       6.443       6.675       7.363   \n",
       "3246      26.135      26.842      25.588      30.267      28.921      27.530   \n",
       "3247      14.199       9.955      16.184      15.341      14.343      17.231   \n",
       "\n",
       "      2017-01-21  2017-01-22  2017-01-23  2017-01-24  ...  2017-12-07  \\\n",
       "0            NaN         NaN         NaN         NaN  ...      4.4710   \n",
       "1            NaN         NaN         NaN         NaN  ...     17.2510   \n",
       "2            NaN         NaN         NaN         NaN  ...      6.3985   \n",
       "3            NaN         NaN         NaN         NaN  ...     14.1100   \n",
       "4            NaN         NaN         NaN         NaN  ...     30.5070   \n",
       "...          ...         ...         ...         ...  ...         ...   \n",
       "3243       2.286       2.384       2.319       2.289  ...      9.6750   \n",
       "3244      21.971      12.708      15.327       8.309  ...      3.5980   \n",
       "3245       7.269       7.183       7.102         NaN  ...      5.7350   \n",
       "3246      28.424      28.961      29.346      28.640  ...     23.8700   \n",
       "3247      10.636      17.707      15.851      13.311  ...     18.5060   \n",
       "\n",
       "      2017-12-08  2017-12-09  2017-12-10  2017-12-11  2017-12-12  2017-12-13  \\\n",
       "0         3.7410         NaN       7.224       4.951         NaN      3.4420   \n",
       "1        23.4690         NaN      24.730      24.597         NaN     20.0560   \n",
       "2        20.0265         NaN      12.423      18.379         NaN     13.3215   \n",
       "3        23.3150         NaN      19.672      21.023         NaN     19.6860   \n",
       "4        35.3880         NaN      48.607      54.760         NaN     42.7030   \n",
       "...          ...         ...         ...         ...         ...         ...   \n",
       "3243      9.9760         NaN      10.635      10.650         NaN     10.1490   \n",
       "3244      5.8620         NaN       7.770       5.091         NaN      6.1090   \n",
       "3245      7.2410         NaN       5.695       8.143         NaN      6.9930   \n",
       "3246     28.7260         NaN      29.844      31.899         NaN     30.0390   \n",
       "3247     24.9040         NaN      34.299      28.132         NaN     35.0540   \n",
       "\n",
       "      2017-12-14  2017-12-15  2017-12-16  2017-12-17  2017-12-18  2017-12-19  \\\n",
       "0          3.509      4.6750       6.131       4.962       3.336       4.318   \n",
       "1         22.546     22.3330      23.353      22.774      20.229      21.218   \n",
       "2         13.821     14.2175      16.712      12.364      16.102      18.601   \n",
       "3         23.435     18.7330      22.249      20.755      19.730      21.135   \n",
       "4         35.045     38.6640      36.790      29.009      42.716      29.052   \n",
       "...          ...         ...         ...         ...         ...         ...   \n",
       "3243      10.112     10.6320      10.566      10.732      10.615      10.386   \n",
       "3244       5.056      3.9720       3.458       7.793       9.837       8.697   \n",
       "3245       6.451      7.6290       6.880       5.960       6.231       5.748   \n",
       "3246      30.470     30.0440      28.617      31.578      31.481      32.123   \n",
       "3247      35.282     28.4120      40.251      30.084      26.058      27.873   \n",
       "\n",
       "      2017-12-20  2017-12-21  2017-12-22  2017-12-23  2017-12-24  2017-12-25  \\\n",
       "0          3.561       4.279       4.030       5.397         NaN       4.818   \n",
       "1         15.419      13.475      13.101      14.327         NaN      14.936   \n",
       "2         10.385      10.917      10.201       7.320         NaN       7.384   \n",
       "3         16.526      12.677      14.833      12.477         NaN      10.974   \n",
       "4         25.444      28.234      39.440      35.538         NaN       8.351   \n",
       "...          ...         ...         ...         ...         ...         ...   \n",
       "3243       9.936       9.625       9.390       9.231         NaN       9.216   \n",
       "3244       5.079       6.031       4.141       2.828         NaN       4.818   \n",
       "3245       5.259       5.258       6.767       5.919         NaN       6.077   \n",
       "3246      29.524      22.586      20.747      19.979         NaN      20.406   \n",
       "3247      21.999      26.232      14.036      15.990         NaN      15.111   \n",
       "\n",
       "      2017-12-26  2017-12-27  2017-12-28  2017-12-29  2017-12-30  2017-12-31  \n",
       "0          3.931         NaN       4.503         NaN       5.129       5.395  \n",
       "1         16.174         NaN      24.618         NaN      15.167      11.751  \n",
       "2         14.425         NaN      17.705         NaN       8.966       4.633  \n",
       "3         19.646         NaN      23.993         NaN      15.841      14.452  \n",
       "4          9.957         NaN      25.871         NaN      46.274      16.901  \n",
       "...          ...         ...         ...         ...         ...         ...  \n",
       "3243       9.336         NaN      10.032         NaN       9.757       9.480  \n",
       "3244       3.357         NaN      12.906         NaN       3.122       3.401  \n",
       "3245       7.761         NaN       5.455         NaN       5.679       8.148  \n",
       "3246      23.668         NaN      31.912         NaN      26.313      24.201  \n",
       "3247      16.506         NaN      21.011         NaN      17.397      15.237  \n",
       "\n",
       "[3248 rows x 366 columns]"
      ]
     },
     "execution_count": 20,
     "metadata": {},
     "output_type": "execute_result"
    }
   ],
   "source": [
    "df_energy_interpolate_days"
   ]
  },
  {
   "cell_type": "code",
   "execution_count": 21,
   "metadata": {},
   "outputs": [],
   "source": [
    "#replacing 0 with nan\n",
    "df_energy_interpolate_days_interpolate = df_energy_interpolate_days.replace(0, np.nan)"
   ]
  },
  {
   "cell_type": "code",
   "execution_count": 22,
   "metadata": {},
   "outputs": [],
   "source": [
    "#dropping meter_id\n",
    "meter_id = df_energy_interpolate_days_interpolate[\"meter_id\"] \n",
    "df_energy_interpolate_days_interpolate=df_energy_interpolate_days_interpolate.drop(\"meter_id\", axis=1)\n",
    "#interpolating the days we set to nan due to containing a missing value as acceptNaNs is false\n",
    "df_energy_interpolate_days_interpolate = df_energy_interpolate_days_interpolate.interpolate(method=\"linear\", axis=1) \n",
    "#adding meter_id back on\n",
    "df_energy_interpolate_days_interpolate = pd.concat([pd.DataFrame(meter_id), df_energy_interpolate_days_interpolate],axis=1)"
   ]
  },
  {
   "cell_type": "code",
   "execution_count": 23,
   "metadata": {
    "scrolled": false
   },
   "outputs": [
    {
     "data": {
      "text/html": [
       "<div>\n",
       "<style scoped>\n",
       "    .dataframe tbody tr th:only-of-type {\n",
       "        vertical-align: middle;\n",
       "    }\n",
       "\n",
       "    .dataframe tbody tr th {\n",
       "        vertical-align: top;\n",
       "    }\n",
       "\n",
       "    .dataframe thead th {\n",
       "        text-align: right;\n",
       "    }\n",
       "</style>\n",
       "<table border=\"1\" class=\"dataframe\">\n",
       "  <thead>\n",
       "    <tr style=\"text-align: right;\">\n",
       "      <th></th>\n",
       "      <th>meter_id</th>\n",
       "      <th>2017-01-01</th>\n",
       "      <th>2017-01-02</th>\n",
       "      <th>2017-01-03</th>\n",
       "      <th>2017-01-04</th>\n",
       "      <th>2017-01-05</th>\n",
       "      <th>2017-01-06</th>\n",
       "      <th>2017-01-07</th>\n",
       "      <th>2017-01-08</th>\n",
       "      <th>2017-01-09</th>\n",
       "      <th>2017-01-10</th>\n",
       "      <th>2017-01-11</th>\n",
       "      <th>2017-01-12</th>\n",
       "      <th>2017-01-13</th>\n",
       "      <th>2017-01-14</th>\n",
       "      <th>2017-01-15</th>\n",
       "      <th>2017-01-16</th>\n",
       "      <th>2017-01-17</th>\n",
       "      <th>2017-01-18</th>\n",
       "      <th>2017-01-19</th>\n",
       "      <th>2017-01-20</th>\n",
       "      <th>2017-01-21</th>\n",
       "      <th>2017-01-22</th>\n",
       "      <th>2017-01-23</th>\n",
       "      <th>2017-01-24</th>\n",
       "      <th>...</th>\n",
       "      <th>2017-12-07</th>\n",
       "      <th>2017-12-08</th>\n",
       "      <th>2017-12-09</th>\n",
       "      <th>2017-12-10</th>\n",
       "      <th>2017-12-11</th>\n",
       "      <th>2017-12-12</th>\n",
       "      <th>2017-12-13</th>\n",
       "      <th>2017-12-14</th>\n",
       "      <th>2017-12-15</th>\n",
       "      <th>2017-12-16</th>\n",
       "      <th>2017-12-17</th>\n",
       "      <th>2017-12-18</th>\n",
       "      <th>2017-12-19</th>\n",
       "      <th>2017-12-20</th>\n",
       "      <th>2017-12-21</th>\n",
       "      <th>2017-12-22</th>\n",
       "      <th>2017-12-23</th>\n",
       "      <th>2017-12-24</th>\n",
       "      <th>2017-12-25</th>\n",
       "      <th>2017-12-26</th>\n",
       "      <th>2017-12-27</th>\n",
       "      <th>2017-12-28</th>\n",
       "      <th>2017-12-29</th>\n",
       "      <th>2017-12-30</th>\n",
       "      <th>2017-12-31</th>\n",
       "    </tr>\n",
       "  </thead>\n",
       "  <tbody>\n",
       "    <tr>\n",
       "      <th>0</th>\n",
       "      <td>0xa62b9f23553ff183f61e2bf943aab3d5983d02d7</td>\n",
       "      <td>NaN</td>\n",
       "      <td>NaN</td>\n",
       "      <td>NaN</td>\n",
       "      <td>NaN</td>\n",
       "      <td>NaN</td>\n",
       "      <td>NaN</td>\n",
       "      <td>NaN</td>\n",
       "      <td>NaN</td>\n",
       "      <td>NaN</td>\n",
       "      <td>NaN</td>\n",
       "      <td>NaN</td>\n",
       "      <td>NaN</td>\n",
       "      <td>NaN</td>\n",
       "      <td>NaN</td>\n",
       "      <td>NaN</td>\n",
       "      <td>NaN</td>\n",
       "      <td>NaN</td>\n",
       "      <td>NaN</td>\n",
       "      <td>NaN</td>\n",
       "      <td>NaN</td>\n",
       "      <td>NaN</td>\n",
       "      <td>NaN</td>\n",
       "      <td>NaN</td>\n",
       "      <td>NaN</td>\n",
       "      <td>...</td>\n",
       "      <td>4.4710</td>\n",
       "      <td>3.7410</td>\n",
       "      <td>5.48250</td>\n",
       "      <td>7.224</td>\n",
       "      <td>4.951</td>\n",
       "      <td>4.19650</td>\n",
       "      <td>3.4420</td>\n",
       "      <td>3.509</td>\n",
       "      <td>4.6750</td>\n",
       "      <td>6.131</td>\n",
       "      <td>4.962</td>\n",
       "      <td>3.336</td>\n",
       "      <td>4.318</td>\n",
       "      <td>3.561</td>\n",
       "      <td>4.279</td>\n",
       "      <td>4.030</td>\n",
       "      <td>5.397</td>\n",
       "      <td>5.1075</td>\n",
       "      <td>4.818</td>\n",
       "      <td>3.931</td>\n",
       "      <td>4.2170</td>\n",
       "      <td>4.503</td>\n",
       "      <td>4.8160</td>\n",
       "      <td>5.129</td>\n",
       "      <td>5.395</td>\n",
       "    </tr>\n",
       "    <tr>\n",
       "      <th>1</th>\n",
       "      <td>0x459c834d1f6cfb5b734b82aa9f5410fa97fb70da</td>\n",
       "      <td>NaN</td>\n",
       "      <td>NaN</td>\n",
       "      <td>NaN</td>\n",
       "      <td>NaN</td>\n",
       "      <td>NaN</td>\n",
       "      <td>NaN</td>\n",
       "      <td>NaN</td>\n",
       "      <td>NaN</td>\n",
       "      <td>NaN</td>\n",
       "      <td>NaN</td>\n",
       "      <td>NaN</td>\n",
       "      <td>NaN</td>\n",
       "      <td>NaN</td>\n",
       "      <td>NaN</td>\n",
       "      <td>NaN</td>\n",
       "      <td>NaN</td>\n",
       "      <td>NaN</td>\n",
       "      <td>NaN</td>\n",
       "      <td>NaN</td>\n",
       "      <td>NaN</td>\n",
       "      <td>NaN</td>\n",
       "      <td>NaN</td>\n",
       "      <td>NaN</td>\n",
       "      <td>NaN</td>\n",
       "      <td>...</td>\n",
       "      <td>17.2510</td>\n",
       "      <td>23.4690</td>\n",
       "      <td>24.09950</td>\n",
       "      <td>24.730</td>\n",
       "      <td>24.597</td>\n",
       "      <td>22.32650</td>\n",
       "      <td>20.0560</td>\n",
       "      <td>22.546</td>\n",
       "      <td>22.3330</td>\n",
       "      <td>23.353</td>\n",
       "      <td>22.774</td>\n",
       "      <td>20.229</td>\n",
       "      <td>21.218</td>\n",
       "      <td>15.419</td>\n",
       "      <td>13.475</td>\n",
       "      <td>13.101</td>\n",
       "      <td>14.327</td>\n",
       "      <td>14.6315</td>\n",
       "      <td>14.936</td>\n",
       "      <td>16.174</td>\n",
       "      <td>20.3960</td>\n",
       "      <td>24.618</td>\n",
       "      <td>19.8925</td>\n",
       "      <td>15.167</td>\n",
       "      <td>11.751</td>\n",
       "    </tr>\n",
       "    <tr>\n",
       "      <th>2</th>\n",
       "      <td>0x4a1ed36825360a058cec2bdd409fc2459e1ce54f</td>\n",
       "      <td>NaN</td>\n",
       "      <td>NaN</td>\n",
       "      <td>NaN</td>\n",
       "      <td>NaN</td>\n",
       "      <td>NaN</td>\n",
       "      <td>NaN</td>\n",
       "      <td>NaN</td>\n",
       "      <td>NaN</td>\n",
       "      <td>NaN</td>\n",
       "      <td>NaN</td>\n",
       "      <td>NaN</td>\n",
       "      <td>NaN</td>\n",
       "      <td>NaN</td>\n",
       "      <td>NaN</td>\n",
       "      <td>NaN</td>\n",
       "      <td>NaN</td>\n",
       "      <td>NaN</td>\n",
       "      <td>NaN</td>\n",
       "      <td>NaN</td>\n",
       "      <td>NaN</td>\n",
       "      <td>NaN</td>\n",
       "      <td>NaN</td>\n",
       "      <td>NaN</td>\n",
       "      <td>NaN</td>\n",
       "      <td>...</td>\n",
       "      <td>6.3985</td>\n",
       "      <td>20.0265</td>\n",
       "      <td>16.22475</td>\n",
       "      <td>12.423</td>\n",
       "      <td>18.379</td>\n",
       "      <td>15.85025</td>\n",
       "      <td>13.3215</td>\n",
       "      <td>13.821</td>\n",
       "      <td>14.2175</td>\n",
       "      <td>16.712</td>\n",
       "      <td>12.364</td>\n",
       "      <td>16.102</td>\n",
       "      <td>18.601</td>\n",
       "      <td>10.385</td>\n",
       "      <td>10.917</td>\n",
       "      <td>10.201</td>\n",
       "      <td>7.320</td>\n",
       "      <td>7.3520</td>\n",
       "      <td>7.384</td>\n",
       "      <td>14.425</td>\n",
       "      <td>16.0650</td>\n",
       "      <td>17.705</td>\n",
       "      <td>13.3355</td>\n",
       "      <td>8.966</td>\n",
       "      <td>4.633</td>\n",
       "    </tr>\n",
       "    <tr>\n",
       "      <th>3</th>\n",
       "      <td>0x5b76d3c0e0aefc6e0a8d1d031f96388a23263407</td>\n",
       "      <td>NaN</td>\n",
       "      <td>NaN</td>\n",
       "      <td>NaN</td>\n",
       "      <td>NaN</td>\n",
       "      <td>NaN</td>\n",
       "      <td>NaN</td>\n",
       "      <td>NaN</td>\n",
       "      <td>NaN</td>\n",
       "      <td>NaN</td>\n",
       "      <td>NaN</td>\n",
       "      <td>NaN</td>\n",
       "      <td>NaN</td>\n",
       "      <td>NaN</td>\n",
       "      <td>NaN</td>\n",
       "      <td>NaN</td>\n",
       "      <td>NaN</td>\n",
       "      <td>NaN</td>\n",
       "      <td>NaN</td>\n",
       "      <td>NaN</td>\n",
       "      <td>NaN</td>\n",
       "      <td>NaN</td>\n",
       "      <td>NaN</td>\n",
       "      <td>NaN</td>\n",
       "      <td>NaN</td>\n",
       "      <td>...</td>\n",
       "      <td>14.1100</td>\n",
       "      <td>23.3150</td>\n",
       "      <td>21.49350</td>\n",
       "      <td>19.672</td>\n",
       "      <td>21.023</td>\n",
       "      <td>20.35450</td>\n",
       "      <td>19.6860</td>\n",
       "      <td>23.435</td>\n",
       "      <td>18.7330</td>\n",
       "      <td>22.249</td>\n",
       "      <td>20.755</td>\n",
       "      <td>19.730</td>\n",
       "      <td>21.135</td>\n",
       "      <td>16.526</td>\n",
       "      <td>12.677</td>\n",
       "      <td>14.833</td>\n",
       "      <td>12.477</td>\n",
       "      <td>11.7255</td>\n",
       "      <td>10.974</td>\n",
       "      <td>19.646</td>\n",
       "      <td>21.8195</td>\n",
       "      <td>23.993</td>\n",
       "      <td>19.9170</td>\n",
       "      <td>15.841</td>\n",
       "      <td>14.452</td>\n",
       "    </tr>\n",
       "    <tr>\n",
       "      <th>4</th>\n",
       "      <td>0x943ebe39ef2be6ef807c42c5a647e27112ca5b0f</td>\n",
       "      <td>NaN</td>\n",
       "      <td>NaN</td>\n",
       "      <td>NaN</td>\n",
       "      <td>NaN</td>\n",
       "      <td>NaN</td>\n",
       "      <td>NaN</td>\n",
       "      <td>NaN</td>\n",
       "      <td>NaN</td>\n",
       "      <td>NaN</td>\n",
       "      <td>NaN</td>\n",
       "      <td>NaN</td>\n",
       "      <td>NaN</td>\n",
       "      <td>NaN</td>\n",
       "      <td>NaN</td>\n",
       "      <td>NaN</td>\n",
       "      <td>NaN</td>\n",
       "      <td>NaN</td>\n",
       "      <td>NaN</td>\n",
       "      <td>NaN</td>\n",
       "      <td>NaN</td>\n",
       "      <td>NaN</td>\n",
       "      <td>NaN</td>\n",
       "      <td>NaN</td>\n",
       "      <td>NaN</td>\n",
       "      <td>...</td>\n",
       "      <td>30.5070</td>\n",
       "      <td>35.3880</td>\n",
       "      <td>41.99750</td>\n",
       "      <td>48.607</td>\n",
       "      <td>54.760</td>\n",
       "      <td>48.73150</td>\n",
       "      <td>42.7030</td>\n",
       "      <td>35.045</td>\n",
       "      <td>38.6640</td>\n",
       "      <td>36.790</td>\n",
       "      <td>29.009</td>\n",
       "      <td>42.716</td>\n",
       "      <td>29.052</td>\n",
       "      <td>25.444</td>\n",
       "      <td>28.234</td>\n",
       "      <td>39.440</td>\n",
       "      <td>35.538</td>\n",
       "      <td>21.9445</td>\n",
       "      <td>8.351</td>\n",
       "      <td>9.957</td>\n",
       "      <td>17.9140</td>\n",
       "      <td>25.871</td>\n",
       "      <td>36.0725</td>\n",
       "      <td>46.274</td>\n",
       "      <td>16.901</td>\n",
       "    </tr>\n",
       "    <tr>\n",
       "      <th>...</th>\n",
       "      <td>...</td>\n",
       "      <td>...</td>\n",
       "      <td>...</td>\n",
       "      <td>...</td>\n",
       "      <td>...</td>\n",
       "      <td>...</td>\n",
       "      <td>...</td>\n",
       "      <td>...</td>\n",
       "      <td>...</td>\n",
       "      <td>...</td>\n",
       "      <td>...</td>\n",
       "      <td>...</td>\n",
       "      <td>...</td>\n",
       "      <td>...</td>\n",
       "      <td>...</td>\n",
       "      <td>...</td>\n",
       "      <td>...</td>\n",
       "      <td>...</td>\n",
       "      <td>...</td>\n",
       "      <td>...</td>\n",
       "      <td>...</td>\n",
       "      <td>...</td>\n",
       "      <td>...</td>\n",
       "      <td>...</td>\n",
       "      <td>...</td>\n",
       "      <td>...</td>\n",
       "      <td>...</td>\n",
       "      <td>...</td>\n",
       "      <td>...</td>\n",
       "      <td>...</td>\n",
       "      <td>...</td>\n",
       "      <td>...</td>\n",
       "      <td>...</td>\n",
       "      <td>...</td>\n",
       "      <td>...</td>\n",
       "      <td>...</td>\n",
       "      <td>...</td>\n",
       "      <td>...</td>\n",
       "      <td>...</td>\n",
       "      <td>...</td>\n",
       "      <td>...</td>\n",
       "      <td>...</td>\n",
       "      <td>...</td>\n",
       "      <td>...</td>\n",
       "      <td>...</td>\n",
       "      <td>...</td>\n",
       "      <td>...</td>\n",
       "      <td>...</td>\n",
       "      <td>...</td>\n",
       "      <td>...</td>\n",
       "      <td>...</td>\n",
       "    </tr>\n",
       "    <tr>\n",
       "      <th>3243</th>\n",
       "      <td>0x7dd7a7b8ee1bec7c44b24f738c752482f6161065</td>\n",
       "      <td>2.317</td>\n",
       "      <td>2.301</td>\n",
       "      <td>2.352</td>\n",
       "      <td>2.516</td>\n",
       "      <td>2.229</td>\n",
       "      <td>2.354</td>\n",
       "      <td>2.397</td>\n",
       "      <td>2.397</td>\n",
       "      <td>2.269</td>\n",
       "      <td>2.3040</td>\n",
       "      <td>2.339</td>\n",
       "      <td>2.212</td>\n",
       "      <td>2.456</td>\n",
       "      <td>2.229</td>\n",
       "      <td>2.503</td>\n",
       "      <td>2.207</td>\n",
       "      <td>2.469</td>\n",
       "      <td>2.266</td>\n",
       "      <td>2.321</td>\n",
       "      <td>2.262</td>\n",
       "      <td>2.286</td>\n",
       "      <td>2.384</td>\n",
       "      <td>2.319</td>\n",
       "      <td>2.289</td>\n",
       "      <td>...</td>\n",
       "      <td>9.6750</td>\n",
       "      <td>9.9760</td>\n",
       "      <td>10.30550</td>\n",
       "      <td>10.635</td>\n",
       "      <td>10.650</td>\n",
       "      <td>10.39950</td>\n",
       "      <td>10.1490</td>\n",
       "      <td>10.112</td>\n",
       "      <td>10.6320</td>\n",
       "      <td>10.566</td>\n",
       "      <td>10.732</td>\n",
       "      <td>10.615</td>\n",
       "      <td>10.386</td>\n",
       "      <td>9.936</td>\n",
       "      <td>9.625</td>\n",
       "      <td>9.390</td>\n",
       "      <td>9.231</td>\n",
       "      <td>9.2235</td>\n",
       "      <td>9.216</td>\n",
       "      <td>9.336</td>\n",
       "      <td>9.6840</td>\n",
       "      <td>10.032</td>\n",
       "      <td>9.8945</td>\n",
       "      <td>9.757</td>\n",
       "      <td>9.480</td>\n",
       "    </tr>\n",
       "    <tr>\n",
       "      <th>3244</th>\n",
       "      <td>0xfdaf9f857621ec06f2cf801f42a020a322835090</td>\n",
       "      <td>14.437</td>\n",
       "      <td>16.274</td>\n",
       "      <td>7.031</td>\n",
       "      <td>17.018</td>\n",
       "      <td>17.603</td>\n",
       "      <td>15.005</td>\n",
       "      <td>8.987</td>\n",
       "      <td>8.490</td>\n",
       "      <td>10.136</td>\n",
       "      <td>10.3010</td>\n",
       "      <td>10.466</td>\n",
       "      <td>8.177</td>\n",
       "      <td>11.929</td>\n",
       "      <td>8.261</td>\n",
       "      <td>12.369</td>\n",
       "      <td>14.352</td>\n",
       "      <td>14.058</td>\n",
       "      <td>10.472</td>\n",
       "      <td>17.396</td>\n",
       "      <td>9.879</td>\n",
       "      <td>21.971</td>\n",
       "      <td>12.708</td>\n",
       "      <td>15.327</td>\n",
       "      <td>8.309</td>\n",
       "      <td>...</td>\n",
       "      <td>3.5980</td>\n",
       "      <td>5.8620</td>\n",
       "      <td>6.81600</td>\n",
       "      <td>7.770</td>\n",
       "      <td>5.091</td>\n",
       "      <td>5.60000</td>\n",
       "      <td>6.1090</td>\n",
       "      <td>5.056</td>\n",
       "      <td>3.9720</td>\n",
       "      <td>3.458</td>\n",
       "      <td>7.793</td>\n",
       "      <td>9.837</td>\n",
       "      <td>8.697</td>\n",
       "      <td>5.079</td>\n",
       "      <td>6.031</td>\n",
       "      <td>4.141</td>\n",
       "      <td>2.828</td>\n",
       "      <td>3.8230</td>\n",
       "      <td>4.818</td>\n",
       "      <td>3.357</td>\n",
       "      <td>8.1315</td>\n",
       "      <td>12.906</td>\n",
       "      <td>8.0140</td>\n",
       "      <td>3.122</td>\n",
       "      <td>3.401</td>\n",
       "    </tr>\n",
       "    <tr>\n",
       "      <th>3245</th>\n",
       "      <td>0xd28f2f001e0cd4d6c121a3cb2e1427207e170e18</td>\n",
       "      <td>7.824</td>\n",
       "      <td>7.517</td>\n",
       "      <td>5.398</td>\n",
       "      <td>6.788</td>\n",
       "      <td>7.360</td>\n",
       "      <td>6.898</td>\n",
       "      <td>7.321</td>\n",
       "      <td>8.042</td>\n",
       "      <td>8.207</td>\n",
       "      <td>6.8355</td>\n",
       "      <td>5.464</td>\n",
       "      <td>7.545</td>\n",
       "      <td>6.432</td>\n",
       "      <td>6.001</td>\n",
       "      <td>5.558</td>\n",
       "      <td>6.391</td>\n",
       "      <td>6.066</td>\n",
       "      <td>6.443</td>\n",
       "      <td>6.675</td>\n",
       "      <td>7.363</td>\n",
       "      <td>7.269</td>\n",
       "      <td>7.183</td>\n",
       "      <td>7.102</td>\n",
       "      <td>6.449</td>\n",
       "      <td>...</td>\n",
       "      <td>5.7350</td>\n",
       "      <td>7.2410</td>\n",
       "      <td>6.46800</td>\n",
       "      <td>5.695</td>\n",
       "      <td>8.143</td>\n",
       "      <td>7.56800</td>\n",
       "      <td>6.9930</td>\n",
       "      <td>6.451</td>\n",
       "      <td>7.6290</td>\n",
       "      <td>6.880</td>\n",
       "      <td>5.960</td>\n",
       "      <td>6.231</td>\n",
       "      <td>5.748</td>\n",
       "      <td>5.259</td>\n",
       "      <td>5.258</td>\n",
       "      <td>6.767</td>\n",
       "      <td>5.919</td>\n",
       "      <td>5.9980</td>\n",
       "      <td>6.077</td>\n",
       "      <td>7.761</td>\n",
       "      <td>6.6080</td>\n",
       "      <td>5.455</td>\n",
       "      <td>5.5670</td>\n",
       "      <td>5.679</td>\n",
       "      <td>8.148</td>\n",
       "    </tr>\n",
       "    <tr>\n",
       "      <th>3246</th>\n",
       "      <td>0x47218b46abb2fcaade487a211911406dc6e13730</td>\n",
       "      <td>23.965</td>\n",
       "      <td>28.689</td>\n",
       "      <td>27.664</td>\n",
       "      <td>29.229</td>\n",
       "      <td>29.548</td>\n",
       "      <td>27.909</td>\n",
       "      <td>26.923</td>\n",
       "      <td>21.277</td>\n",
       "      <td>23.452</td>\n",
       "      <td>24.6880</td>\n",
       "      <td>25.924</td>\n",
       "      <td>26.834</td>\n",
       "      <td>30.346</td>\n",
       "      <td>30.367</td>\n",
       "      <td>26.135</td>\n",
       "      <td>26.842</td>\n",
       "      <td>25.588</td>\n",
       "      <td>30.267</td>\n",
       "      <td>28.921</td>\n",
       "      <td>27.530</td>\n",
       "      <td>28.424</td>\n",
       "      <td>28.961</td>\n",
       "      <td>29.346</td>\n",
       "      <td>28.640</td>\n",
       "      <td>...</td>\n",
       "      <td>23.8700</td>\n",
       "      <td>28.7260</td>\n",
       "      <td>29.28500</td>\n",
       "      <td>29.844</td>\n",
       "      <td>31.899</td>\n",
       "      <td>30.96900</td>\n",
       "      <td>30.0390</td>\n",
       "      <td>30.470</td>\n",
       "      <td>30.0440</td>\n",
       "      <td>28.617</td>\n",
       "      <td>31.578</td>\n",
       "      <td>31.481</td>\n",
       "      <td>32.123</td>\n",
       "      <td>29.524</td>\n",
       "      <td>22.586</td>\n",
       "      <td>20.747</td>\n",
       "      <td>19.979</td>\n",
       "      <td>20.1925</td>\n",
       "      <td>20.406</td>\n",
       "      <td>23.668</td>\n",
       "      <td>27.7900</td>\n",
       "      <td>31.912</td>\n",
       "      <td>29.1125</td>\n",
       "      <td>26.313</td>\n",
       "      <td>24.201</td>\n",
       "    </tr>\n",
       "    <tr>\n",
       "      <th>3247</th>\n",
       "      <td>0xcd19e6fe3d887bc5dcac7ca18d46199695463fdd</td>\n",
       "      <td>11.302</td>\n",
       "      <td>14.178</td>\n",
       "      <td>15.499</td>\n",
       "      <td>11.853</td>\n",
       "      <td>17.431</td>\n",
       "      <td>14.506</td>\n",
       "      <td>12.812</td>\n",
       "      <td>10.472</td>\n",
       "      <td>10.879</td>\n",
       "      <td>10.3525</td>\n",
       "      <td>9.826</td>\n",
       "      <td>11.969</td>\n",
       "      <td>14.236</td>\n",
       "      <td>15.300</td>\n",
       "      <td>14.199</td>\n",
       "      <td>9.955</td>\n",
       "      <td>16.184</td>\n",
       "      <td>15.341</td>\n",
       "      <td>14.343</td>\n",
       "      <td>17.231</td>\n",
       "      <td>10.636</td>\n",
       "      <td>17.707</td>\n",
       "      <td>15.851</td>\n",
       "      <td>13.311</td>\n",
       "      <td>...</td>\n",
       "      <td>18.5060</td>\n",
       "      <td>24.9040</td>\n",
       "      <td>29.60150</td>\n",
       "      <td>34.299</td>\n",
       "      <td>28.132</td>\n",
       "      <td>31.59300</td>\n",
       "      <td>35.0540</td>\n",
       "      <td>35.282</td>\n",
       "      <td>28.4120</td>\n",
       "      <td>40.251</td>\n",
       "      <td>30.084</td>\n",
       "      <td>26.058</td>\n",
       "      <td>27.873</td>\n",
       "      <td>21.999</td>\n",
       "      <td>26.232</td>\n",
       "      <td>14.036</td>\n",
       "      <td>15.990</td>\n",
       "      <td>15.5505</td>\n",
       "      <td>15.111</td>\n",
       "      <td>16.506</td>\n",
       "      <td>18.7585</td>\n",
       "      <td>21.011</td>\n",
       "      <td>19.2040</td>\n",
       "      <td>17.397</td>\n",
       "      <td>15.237</td>\n",
       "    </tr>\n",
       "  </tbody>\n",
       "</table>\n",
       "<p>3248 rows × 366 columns</p>\n",
       "</div>"
      ],
      "text/plain": [
       "                                        meter_id  2017-01-01  2017-01-02  \\\n",
       "0     0xa62b9f23553ff183f61e2bf943aab3d5983d02d7         NaN         NaN   \n",
       "1     0x459c834d1f6cfb5b734b82aa9f5410fa97fb70da         NaN         NaN   \n",
       "2     0x4a1ed36825360a058cec2bdd409fc2459e1ce54f         NaN         NaN   \n",
       "3     0x5b76d3c0e0aefc6e0a8d1d031f96388a23263407         NaN         NaN   \n",
       "4     0x943ebe39ef2be6ef807c42c5a647e27112ca5b0f         NaN         NaN   \n",
       "...                                          ...         ...         ...   \n",
       "3243  0x7dd7a7b8ee1bec7c44b24f738c752482f6161065       2.317       2.301   \n",
       "3244  0xfdaf9f857621ec06f2cf801f42a020a322835090      14.437      16.274   \n",
       "3245  0xd28f2f001e0cd4d6c121a3cb2e1427207e170e18       7.824       7.517   \n",
       "3246  0x47218b46abb2fcaade487a211911406dc6e13730      23.965      28.689   \n",
       "3247  0xcd19e6fe3d887bc5dcac7ca18d46199695463fdd      11.302      14.178   \n",
       "\n",
       "      2017-01-03  2017-01-04  2017-01-05  2017-01-06  2017-01-07  2017-01-08  \\\n",
       "0            NaN         NaN         NaN         NaN         NaN         NaN   \n",
       "1            NaN         NaN         NaN         NaN         NaN         NaN   \n",
       "2            NaN         NaN         NaN         NaN         NaN         NaN   \n",
       "3            NaN         NaN         NaN         NaN         NaN         NaN   \n",
       "4            NaN         NaN         NaN         NaN         NaN         NaN   \n",
       "...          ...         ...         ...         ...         ...         ...   \n",
       "3243       2.352       2.516       2.229       2.354       2.397       2.397   \n",
       "3244       7.031      17.018      17.603      15.005       8.987       8.490   \n",
       "3245       5.398       6.788       7.360       6.898       7.321       8.042   \n",
       "3246      27.664      29.229      29.548      27.909      26.923      21.277   \n",
       "3247      15.499      11.853      17.431      14.506      12.812      10.472   \n",
       "\n",
       "      2017-01-09  2017-01-10  2017-01-11  2017-01-12  2017-01-13  2017-01-14  \\\n",
       "0            NaN         NaN         NaN         NaN         NaN         NaN   \n",
       "1            NaN         NaN         NaN         NaN         NaN         NaN   \n",
       "2            NaN         NaN         NaN         NaN         NaN         NaN   \n",
       "3            NaN         NaN         NaN         NaN         NaN         NaN   \n",
       "4            NaN         NaN         NaN         NaN         NaN         NaN   \n",
       "...          ...         ...         ...         ...         ...         ...   \n",
       "3243       2.269      2.3040       2.339       2.212       2.456       2.229   \n",
       "3244      10.136     10.3010      10.466       8.177      11.929       8.261   \n",
       "3245       8.207      6.8355       5.464       7.545       6.432       6.001   \n",
       "3246      23.452     24.6880      25.924      26.834      30.346      30.367   \n",
       "3247      10.879     10.3525       9.826      11.969      14.236      15.300   \n",
       "\n",
       "      2017-01-15  2017-01-16  2017-01-17  2017-01-18  2017-01-19  2017-01-20  \\\n",
       "0            NaN         NaN         NaN         NaN         NaN         NaN   \n",
       "1            NaN         NaN         NaN         NaN         NaN         NaN   \n",
       "2            NaN         NaN         NaN         NaN         NaN         NaN   \n",
       "3            NaN         NaN         NaN         NaN         NaN         NaN   \n",
       "4            NaN         NaN         NaN         NaN         NaN         NaN   \n",
       "...          ...         ...         ...         ...         ...         ...   \n",
       "3243       2.503       2.207       2.469       2.266       2.321       2.262   \n",
       "3244      12.369      14.352      14.058      10.472      17.396       9.879   \n",
       "3245       5.558       6.391       6.066       6.443       6.675       7.363   \n",
       "3246      26.135      26.842      25.588      30.267      28.921      27.530   \n",
       "3247      14.199       9.955      16.184      15.341      14.343      17.231   \n",
       "\n",
       "      2017-01-21  2017-01-22  2017-01-23  2017-01-24  ...  2017-12-07  \\\n",
       "0            NaN         NaN         NaN         NaN  ...      4.4710   \n",
       "1            NaN         NaN         NaN         NaN  ...     17.2510   \n",
       "2            NaN         NaN         NaN         NaN  ...      6.3985   \n",
       "3            NaN         NaN         NaN         NaN  ...     14.1100   \n",
       "4            NaN         NaN         NaN         NaN  ...     30.5070   \n",
       "...          ...         ...         ...         ...  ...         ...   \n",
       "3243       2.286       2.384       2.319       2.289  ...      9.6750   \n",
       "3244      21.971      12.708      15.327       8.309  ...      3.5980   \n",
       "3245       7.269       7.183       7.102       6.449  ...      5.7350   \n",
       "3246      28.424      28.961      29.346      28.640  ...     23.8700   \n",
       "3247      10.636      17.707      15.851      13.311  ...     18.5060   \n",
       "\n",
       "      2017-12-08  2017-12-09  2017-12-10  2017-12-11  2017-12-12  2017-12-13  \\\n",
       "0         3.7410     5.48250       7.224       4.951     4.19650      3.4420   \n",
       "1        23.4690    24.09950      24.730      24.597    22.32650     20.0560   \n",
       "2        20.0265    16.22475      12.423      18.379    15.85025     13.3215   \n",
       "3        23.3150    21.49350      19.672      21.023    20.35450     19.6860   \n",
       "4        35.3880    41.99750      48.607      54.760    48.73150     42.7030   \n",
       "...          ...         ...         ...         ...         ...         ...   \n",
       "3243      9.9760    10.30550      10.635      10.650    10.39950     10.1490   \n",
       "3244      5.8620     6.81600       7.770       5.091     5.60000      6.1090   \n",
       "3245      7.2410     6.46800       5.695       8.143     7.56800      6.9930   \n",
       "3246     28.7260    29.28500      29.844      31.899    30.96900     30.0390   \n",
       "3247     24.9040    29.60150      34.299      28.132    31.59300     35.0540   \n",
       "\n",
       "      2017-12-14  2017-12-15  2017-12-16  2017-12-17  2017-12-18  2017-12-19  \\\n",
       "0          3.509      4.6750       6.131       4.962       3.336       4.318   \n",
       "1         22.546     22.3330      23.353      22.774      20.229      21.218   \n",
       "2         13.821     14.2175      16.712      12.364      16.102      18.601   \n",
       "3         23.435     18.7330      22.249      20.755      19.730      21.135   \n",
       "4         35.045     38.6640      36.790      29.009      42.716      29.052   \n",
       "...          ...         ...         ...         ...         ...         ...   \n",
       "3243      10.112     10.6320      10.566      10.732      10.615      10.386   \n",
       "3244       5.056      3.9720       3.458       7.793       9.837       8.697   \n",
       "3245       6.451      7.6290       6.880       5.960       6.231       5.748   \n",
       "3246      30.470     30.0440      28.617      31.578      31.481      32.123   \n",
       "3247      35.282     28.4120      40.251      30.084      26.058      27.873   \n",
       "\n",
       "      2017-12-20  2017-12-21  2017-12-22  2017-12-23  2017-12-24  2017-12-25  \\\n",
       "0          3.561       4.279       4.030       5.397      5.1075       4.818   \n",
       "1         15.419      13.475      13.101      14.327     14.6315      14.936   \n",
       "2         10.385      10.917      10.201       7.320      7.3520       7.384   \n",
       "3         16.526      12.677      14.833      12.477     11.7255      10.974   \n",
       "4         25.444      28.234      39.440      35.538     21.9445       8.351   \n",
       "...          ...         ...         ...         ...         ...         ...   \n",
       "3243       9.936       9.625       9.390       9.231      9.2235       9.216   \n",
       "3244       5.079       6.031       4.141       2.828      3.8230       4.818   \n",
       "3245       5.259       5.258       6.767       5.919      5.9980       6.077   \n",
       "3246      29.524      22.586      20.747      19.979     20.1925      20.406   \n",
       "3247      21.999      26.232      14.036      15.990     15.5505      15.111   \n",
       "\n",
       "      2017-12-26  2017-12-27  2017-12-28  2017-12-29  2017-12-30  2017-12-31  \n",
       "0          3.931      4.2170       4.503      4.8160       5.129       5.395  \n",
       "1         16.174     20.3960      24.618     19.8925      15.167      11.751  \n",
       "2         14.425     16.0650      17.705     13.3355       8.966       4.633  \n",
       "3         19.646     21.8195      23.993     19.9170      15.841      14.452  \n",
       "4          9.957     17.9140      25.871     36.0725      46.274      16.901  \n",
       "...          ...         ...         ...         ...         ...         ...  \n",
       "3243       9.336      9.6840      10.032      9.8945       9.757       9.480  \n",
       "3244       3.357      8.1315      12.906      8.0140       3.122       3.401  \n",
       "3245       7.761      6.6080       5.455      5.5670       5.679       8.148  \n",
       "3246      23.668     27.7900      31.912     29.1125      26.313      24.201  \n",
       "3247      16.506     18.7585      21.011     19.2040      17.397      15.237  \n",
       "\n",
       "[3248 rows x 366 columns]"
      ]
     },
     "execution_count": 23,
     "metadata": {},
     "output_type": "execute_result"
    }
   ],
   "source": [
    "df_energy_interpolate_days_interpolate"
   ]
  },
  {
   "cell_type": "code",
   "execution_count": 24,
   "metadata": {},
   "outputs": [],
   "source": [
    "# saving the dataframe\n",
    "#if(os.path.exists(\"../Data/Preprocessed_Data/consumption_daily_nan_interpolated.pkl\")==False):\n",
    "#        df_energy_interpolate_days_interpolate.to_pickle(\"../Data/Preprocessed_Data/consumption_daily_nan_interpolated.pkl\")\n",
    "df_energy_interpolate_days_interpolate.to_pickle(\"../Data/Preprocessed_Data/consumption_daily_nan_interpolated.pkl\")"
   ]
  },
  {
   "cell_type": "markdown",
   "metadata": {},
   "source": [
    "## Plotting graph of the time patterns for each meter\n",
    "\n",
    "time_step_size =\n",
    "* O : Original\n",
    "* D : Day"
   ]
  },
  {
   "cell_type": "code",
   "execution_count": 25,
   "metadata": {},
   "outputs": [
    {
     "ename": "SyntaxError",
     "evalue": "invalid syntax (<ipython-input-25-d15714b74a52>, line 30)",
     "output_type": "error",
     "traceback": [
      "\u001b[1;36m  File \u001b[1;32m\"<ipython-input-25-d15714b74a52>\"\u001b[1;36m, line \u001b[1;32m30\u001b[0m\n\u001b[1;33m    plt.plot(day_average, label=\"daily moving average, lw=0.5,color=\"darkorange\")\u001b[0m\n\u001b[1;37m                                                                              ^\u001b[0m\n\u001b[1;31mSyntaxError\u001b[0m\u001b[1;31m:\u001b[0m invalid syntax\n"
     ]
    }
   ],
   "source": [
    "def plot_time_patterns(df_energy_day, directory, show_pid, time_step_size):\n",
    "      \n",
    "    df_energy_day_plot = df_energy_day.drop([\"meter_id\"], axis=1)\n",
    "   \n",
    "    for pid in tqdm(range(0,3248)):\n",
    "        \n",
    "        #getting this row\n",
    "        meter_id = df_energy_day.iloc[pid,0]\n",
    "        df_days_pid = df_energy_day_plot[pid:pid+1].T\n",
    "\n",
    "        #converting index to datetime for ease of plots key\n",
    "        df_days_pid.index=pd.to_datetime(df_days_pid.index)\n",
    "        \n",
    "        #creating figure\n",
    "        fig = plt.figure(figsize=(20,10))\n",
    "        \n",
    "        # if this is already in days just plot the days with the weekly and monthly moving averages\n",
    "        if(time_step_size == \"D\"):\n",
    "            #calculating the week and month using moving averages\n",
    "            month_average=df_days_pid.rolling(30).mean()\n",
    "            #plot the monthly moving moving average and the daily readings\n",
    "            plt.plot(month_average, label=\"monthly moving average\", lw=2, color=\"darkorange\")\n",
    "            plt.plot(df_days_pid, label=\"total daily energy\", lw=1,color=\"skyblue\")\n",
    "        \n",
    "        #elif this is the original half an hour readings also add a separate moving average for the day\n",
    "        elif(time_step_size == \"O\"):\n",
    "            #calculating the daily moving average (48 half hours)\n",
    "            day_average=df_days_pid.rolling(48).mean()\n",
    "            #plotting half hourly energy and daily moving average\n",
    "            plt.plot(day_average, label=\"daily moving average, lw=0.5,color=\"darkorange\")\n",
    "            plt.plot(df_days_pid, label=\"total half hourly energy\", lw=0.2,color=\"skyblue\")\n",
    "                     \n",
    "        #else it's uncrecognised so return\n",
    "        else:\n",
    "            return\n",
    "            \n",
    "        #annotations\n",
    "        plt.legend(fontsize=20)\n",
    "        plt.title(\"Meter '\"+str(meter_id)+\"' energy readings\", fontsize=15)\n",
    "        plt.xlabel(\"Date\")\n",
    "        plt.ylabel(\"Energy Usage kWh\")\n",
    "        \n",
    "        #showing a subset of the plots\n",
    "        if(pid in show_pid):\n",
    "            print(\"showing row: \",pid)\n",
    "            plt.show()\n",
    "        \n",
    "        #saving plot if it doesn't already exist\n",
    "        #if(os.path.exists(f\"../EDA/plots/consumption/{directory}/energy_usage_{pid}_{meter_id}.png\")==False):\n",
    "        #    fig.savefig(f\"../EDA/plots/consumption/{directory}/energy_usage_{pid}_{meter_id}.png\")\n",
    "        fig.savefig(f\"../EDA/plots/consumption/{directory}/energy_usage_{pid}_{meter_id}.png\")\n",
    "        \n",
    "        plt.close()"
   ]
  },
  {
   "cell_type": "code",
   "execution_count": null,
   "metadata": {},
   "outputs": [],
   "source": [
    "#getting plot id's we want to show (random amount as no point in showing 9000 plots in compiler it'll make it unnecessarily slow)\n",
    "#display_pid = random.sample(range(0,3248),showPlots) # new randomly selected sample\n",
    "#display_pid = [651, 3034, 1346, 1618, 2105] # previously randomly selected sample which we can repeat\n",
    "\n",
    "display_pid=[849,2410,2676,2680,2965,3158]#meters which contained values from within the max sequential nan limit\n",
    "\n",
    "#display_pid=[]#empty for not displaying any\n",
    "display_pid"
   ]
  },
  {
   "cell_type": "code",
   "execution_count": null,
   "metadata": {
    "scrolled": true
   },
   "outputs": [],
   "source": [
    "#plotting the original data\n",
    "plot_time_patterns(df_energy.replace(np.nan,0), \"Original\", display_pid, \"O\")"
   ]
  },
  {
   "cell_type": "code",
   "execution_count": null,
   "metadata": {
    "scrolled": true
   },
   "outputs": [],
   "source": [
    "#plotting the uninterpolated data with days with missing still summed to a daily value (but inaccurate as some hours missing)\n",
    "plot_time_patterns(df_energy_daily_with_missing.replace(np.nan, 0), \"Daily_Ignored\", display_pid, \"D\")"
   ]
  },
  {
   "cell_type": "code",
   "execution_count": null,
   "metadata": {
    "scrolled": true
   },
   "outputs": [],
   "source": [
    "#plotting the uninterpolated data with days with missing set to missing\n",
    "plot_time_patterns(df_energy_daily.replace(np.nan, 0), \"Daily_Removed\", display_pid, \"D\")"
   ]
  },
  {
   "cell_type": "code",
   "execution_count": null,
   "metadata": {
    "scrolled": true
   },
   "outputs": [],
   "source": [
    "#plotting the interpolated data\n",
    "plot_time_patterns(df_energy_interpolate_days_interpolate.replace(np.nan,0), \"Daily_Interpolated\", display_pid, \"D\")"
   ]
  },
  {
   "cell_type": "markdown",
   "metadata": {},
   "source": [
    "## Comparing how many missing values are now missing"
   ]
  },
  {
   "cell_type": "code",
   "execution_count": null,
   "metadata": {},
   "outputs": [],
   "source": [
    "print(\"Interpolated dataset has this many missing values\")\n",
    "print(df_energy_interpolate_days_interpolate.replace(0, np.nan).isna().sum().sum())"
   ]
  },
  {
   "cell_type": "code",
   "execution_count": null,
   "metadata": {},
   "outputs": [],
   "source": [
    "print(\"Uninterpolated dataset with days with missing values set to missing has this many missing values\")\n",
    "print(df_energy_daily.replace(0, np.nan).isna().sum().sum())"
   ]
  },
  {
   "cell_type": "code",
   "execution_count": null,
   "metadata": {},
   "outputs": [],
   "source": [
    "print(\"Uninterpolated dataset with days with missing values set to sum of values it does have has this many missing values\")\n",
    "print(df_energy_daily_with_missing.replace(0, np.nan).isna().sum().sum())"
   ]
  },
  {
   "cell_type": "markdown",
   "metadata": {},
   "source": [
    "##### Conclusion\n",
    "* Essentially can conclude interpolated has successfully done a good job at imputing the missing values\n",
    "    * Has similar pattern to that of the summed with missing\n",
    "        * But more accurate and much fewer missing values\n",
    "* Will use this dataset in the future for that reason\n",
    "* Now only has the 'prefix nans' still missing (nans from before the meters started)\n",
    "    * And some 'sufix na' (when meter failed and stopped recording\n",
    "        * Will need more EDA to find where these are and handle them\n",
    "            * Perhaps just write a script checking % variance and if it's at unexpected level then it's possibly failed?\n",
    "                * Eg this value is 99% lower than the yearly average (probably means something went wrong)v"
   ]
  },
  {
   "cell_type": "markdown",
   "metadata": {},
   "source": [
    "\n",
    "* Have removed the missing values that could be removed via linear interpolation:\n",
    "    * when there are values before and after the sequence of ?\n",
    "* Still have lots of missing values at start and end of dataset\n",
    "    * IN the data preparation for RNN and feature engineering stage will add a way to deal with this as mentioned perhaps checking if it falls under a certain threshold and then classifying the meter as not working that day if it was under that threshold and then set the day as missing\n",
    "        * As it'll be atypical"
   ]
  },
  {
   "cell_type": "markdown",
   "metadata": {},
   "source": [
    "\n",
    "_________\n",
    "_________________________________________________________\n",
    "_________\n",
    "\n",
    "\n",
    "# EDA on AddInfo\n",
    "## Adding missing rows to AddInfo based on missing meter_id's"
   ]
  },
  {
   "cell_type": "code",
   "execution_count": null,
   "metadata": {},
   "outputs": [],
   "source": [
    "# first making both dataframes alphabetical in order of meter_id for ease of comparison\n",
    "df_info.sort_values('meter_id')"
   ]
  },
  {
   "cell_type": "code",
   "execution_count": null,
   "metadata": {},
   "outputs": [],
   "source": [
    "df_energy.sort_values('meter_id')"
   ]
  },
  {
   "cell_type": "code",
   "execution_count": null,
   "metadata": {},
   "outputs": [],
   "source": [
    "#adding the missing meter rows to df_info\n",
    "df_info_all_meters = pd.merge(df_info, df_energy[\"meter_id\"], on=\"meter_id\",how=\"outer\")"
   ]
  },
  {
   "cell_type": "code",
   "execution_count": null,
   "metadata": {},
   "outputs": [],
   "source": [
    "#checking the values are correct now\n",
    "df_info_all_meters.sort_values('meter_id')"
   ]
  },
  {
   "cell_type": "code",
   "execution_count": null,
   "metadata": {},
   "outputs": [],
   "source": [
    "#checking the shape is correct now\n",
    "df_info_all_meters.shape"
   ]
  },
  {
   "cell_type": "markdown",
   "metadata": {},
   "source": [
    "## Exploring datatypes and unique values"
   ]
  },
  {
   "cell_type": "code",
   "execution_count": null,
   "metadata": {
    "scrolled": true
   },
   "outputs": [],
   "source": [
    "# inspecting the types of each column\n",
    "df_info_all_meters.dtypes"
   ]
  },
  {
   "cell_type": "code",
   "execution_count": null,
   "metadata": {
    "scrolled": true
   },
   "outputs": [],
   "source": [
    "#looking at the unique values for each column\n",
    "for column in df_info_all_meters.drop([\"meter_id\"],axis=1).columns:\n",
    "    print(column+\" unique value count: \"+str(df_info_all_meters[column].nunique()))\n",
    "    print(df_info_all_meters[column].unique())\n",
    "    print()"
   ]
  },
  {
   "cell_type": "markdown",
   "metadata": {},
   "source": [
    "* We now know:\n",
    "    1. The columns that contain categorical values vs the columns that contain real numbers\n",
    "    2. The unique values for each column\n",
    "    \n",
    "## Exploring missing values\n",
    "### Visualising as histogram"
   ]
  },
  {
   "cell_type": "code",
   "execution_count": null,
   "metadata": {
    "scrolled": true
   },
   "outputs": [],
   "source": [
    "# plotting a histogram for each of the columns in the dataset\n",
    "for column in df_info_all_meters.drop([\"meter_id\"],axis=1).columns:\n",
    "    df_temp = df_info_all_meters[column].replace(np.nan,\"NaN\").apply(str)\n",
    "    ax = df_temp.hist(figsize=(10,10))\n",
    "    ax.set_xlabel(\"unique values\")\n",
    "    ax.set_ylabel(\"count\")\n",
    "    fig = ax.get_figure()\n",
    "    plt.title(column+\" values\")\n",
    "    plt.show(block=False)\n",
    "    \n",
    "#     if(os.path.exists(f\"../EDA/plots/addInfo/{column}_hist.png\")==False):\n",
    "#         fig.savefig(f\"../EDA/plots/addInfo/{column}_hist.png\")\n",
    "    fig.savefig(f\"../EDA/plots/addInfo/{column}_hist.png\")\n",
    "            \n",
    "    plt.close(fig)"
   ]
  },
  {
   "cell_type": "markdown",
   "metadata": {},
   "source": [
    "### Calculating percentage of missing values for each column"
   ]
  },
  {
   "cell_type": "code",
   "execution_count": null,
   "metadata": {
    "scrolled": true
   },
   "outputs": [],
   "source": [
    "# Calculating percentage of missing values\n",
    "#stores index of columns to keep: defaults all to true and will check which to make false\n",
    "columns = np.full((df_info_all_meters.shape[1],), True, dtype=bool)\n",
    "\n",
    "# getting the count of each object type in each column\n",
    "for i in range(0,len(df_info_all_meters.columns)):\n",
    "    column =df_info_all_meters.columns[i]\n",
    "    #calculating the percentage of missing values\n",
    "    percent_missing = df_info_all_meters[column].isnull().sum() * 100 / len(df_info_all_meters)\n",
    "    print(column+\" contains missing values: \"+str(df_info_all_meters[column].isna().values.any()))\n",
    "    print(column+\" is missing: \"+str(round(percent_missing,2))+\"%\")\n",
    "    \n",
    "    #if the percentage of missing values is greater than 50% mark them to be removed\n",
    "    if(percent_missing>=50):\n",
    "        print(\"Marked \",column,\"for removal due to it having more than 50% missing values\")\n",
    "        columns[i] = False\n",
    "    else:\n",
    "        print(\"Not marked \",column,\"for removal due to it not having more than 50% missing values\")\n",
    "    print()"
   ]
  },
  {
   "cell_type": "markdown",
   "metadata": {},
   "source": [
    "#### Meaning of findings;\n",
    "* As the histograms and calculations show: there is a massive amount of missing values\n",
    "* Marked all columns with > 50% missing values for removal\n",
    "    * as if more than half of the values are missing it is likely what we do impute won't be accurate\n",
    "* Need to decide what to do with the the remaining 2 as they have 40% missing values: is this good enough?\n",
    "    * Will likely require experimentation:\n",
    "        * So will run one model which only uses energy\n",
    "        * And one that uses addInfo after the missing values have been imputed\n",
    "\n",
    "## Removing the columns with greater than 50% missing values"
   ]
  },
  {
   "cell_type": "code",
   "execution_count": null,
   "metadata": {},
   "outputs": [],
   "source": [
    "# Removing the columns marked for removal\n",
    "selected_columns = df_info_all_meters.columns[columns]\n",
    "df_info_all_meters = df_info_all_meters[selected_columns]"
   ]
  },
  {
   "cell_type": "code",
   "execution_count": null,
   "metadata": {},
   "outputs": [],
   "source": [
    "# inspecting the current state of df_info_all_meters\n",
    "df_info_all_meters"
   ]
  },
  {
   "cell_type": "markdown",
   "metadata": {},
   "source": [
    "## Imputing the missing values\n",
    "* May be worth experimenting with different imputation methods\n",
    "* But for now just going with KNN\n",
    "\n",
    "### Preparing dataframe for use by KNNImputer\n",
    "### Adding information on the energy time series data that may be useful for imputing the missing addInfo values\n",
    "Experimenting with different combinations 9think it may have been too many when I originally used 4 different energy ones and it got weighted too highly skewing it due to the multi collinearity problems"
   ]
  },
  {
   "cell_type": "code",
   "execution_count": null,
   "metadata": {},
   "outputs": [],
   "source": [
    "# Calculating the total, mean, max, and min energy usage only using KNOWN values (not including the interpolated ones)\n",
    "df_energy_info = pd.DataFrame(columns=[\"meter_id\",\n",
    "                                       \"mean_energy_usage\",\n",
    "                                       #\"max_energy_usage\",\n",
    "                                       #\"min_energy_usage\",\n",
    "                                       \"total_energy_usage\"\n",
    "                                      ])\n",
    "df_energy_info[\"meter_id\"]=df_energy_interpolate_days_interpolate[\"meter_id\"].values\n",
    "df_energy_info[\"mean_energy_usage\"] = df_energy_interpolate_days_interpolate.replace(0,np.nan).iloc[:, 1:].mean(axis=1).round(3)\n",
    "#df_energy_info[\"max_energy_usage\"] = df_energy_interpolate_days_interpolate.replace(0,np.nan).iloc[:, 1:].max(axis=1).round(3)\n",
    "#df_energy_info[\"min_energy_usage\"] = df_energy_interpolate_days_interpolate.replace(0,np.nan).iloc[:, 1:].min(axis=1).round(3)\n",
    "df_energy_info[\"total_energy_usage\"] = df_energy_interpolate_days_interpolate.replace(0,np.nan).iloc[:, 1:].sum(axis=1).round(3)"
   ]
  },
  {
   "cell_type": "code",
   "execution_count": null,
   "metadata": {},
   "outputs": [],
   "source": [
    "df_energy_info#.loc[df_energy_means[\"meter_id\"]==\"0xa62b9f23553ff183f61e2bf943aab3d5983d02d7\"]"
   ]
  },
  {
   "cell_type": "code",
   "execution_count": null,
   "metadata": {},
   "outputs": [],
   "source": [
    "#add the total, mean, max, and min to the df for use with knn imputation\n",
    "df_info_knn = df_info_all_meters\n",
    "df_info_knn = df_info_knn.merge(df_energy_info[[\"meter_id\",\n",
    "                                                \"mean_energy_usage\",\n",
    "                                                #\"max_energy_usage\",\n",
    "                                                #\"min_energy_usage\", \n",
    "                                                \"total_energy_usage\"\n",
    "                                               ]], on=\"meter_id\",how=\"left\")\n",
    "df_info_knn#.loc[df_info_knn2[\"meter_id\"]==\"0xa62b9f23553ff183f61e2bf943aab3d5983d02d7\"]"
   ]
  },
  {
   "cell_type": "markdown",
   "metadata": {},
   "source": [
    "### Dropping meter_id, encoding and normalizing data so it is suitable for KNN Imputation\n",
    "#### Dropping meter_id"
   ]
  },
  {
   "cell_type": "code",
   "execution_count": null,
   "metadata": {},
   "outputs": [],
   "source": [
    "#dropping the id column so it doesn't negatively influence the knn algorithm\n",
    "meter_id = df_info_knn[\"meter_id\"]\n",
    "df_info_knn = df_info_knn.drop([\"meter_id\"], axis=1)"
   ]
  },
  {
   "cell_type": "code",
   "execution_count": null,
   "metadata": {},
   "outputs": [],
   "source": [
    "#inspecting the df without the id column\n",
    "df_info_knn"
   ]
  },
  {
   "cell_type": "markdown",
   "metadata": {},
   "source": [
    "#### Encoding the categorical values ready for knn"
   ]
  },
  {
   "cell_type": "code",
   "execution_count": null,
   "metadata": {},
   "outputs": [],
   "source": [
    "df_info_knn_encoded = df_info_knn\n",
    "df_info_knn_encoded[\"dwelling_type\"]=df_info_knn_encoded[\"dwelling_type\"].replace(\"flat\",0).replace(\"terraced_house\",1).replace(\"semi_detached_house\",2).replace(\"detached_house\",3).replace(\"bungalow\",4)"
   ]
  },
  {
   "cell_type": "code",
   "execution_count": null,
   "metadata": {},
   "outputs": [],
   "source": [
    "df_info_knn_encoded"
   ]
  },
  {
   "cell_type": "markdown",
   "metadata": {},
   "source": [
    "#### Normalizing the data"
   ]
  },
  {
   "cell_type": "code",
   "execution_count": null,
   "metadata": {},
   "outputs": [],
   "source": [
    "# Normalizing the data as KNN is done via a distance measure and we don't want to skew it\n",
    "scaler = MinMaxScaler()\n",
    "df_info_knn_normalized = pd.DataFrame(scaler.fit_transform(df_info_knn_encoded), columns = df_info_knn_encoded.columns)\n",
    "\n",
    "# inspecting new state of the dataframe after normalisation\n",
    "df_info_knn_normalized"
   ]
  },
  {
   "cell_type": "markdown",
   "metadata": {},
   "source": [
    "### Now data is prepared, using KNN to impute the missing values\n",
    "* Experiment with different numbers for nearest neighbours"
   ]
  },
  {
   "cell_type": "code",
   "execution_count": null,
   "metadata": {},
   "outputs": [],
   "source": [
    "# now using KNN to impute the missing values\n",
    "imputer = KNNImputer(n_neighbors=5)\n",
    "df_info_knn_imputed = pd.DataFrame(imputer.fit_transform(df_info_knn_normalized),columns = df_info_knn_normalized.columns)\n",
    "\n",
    "# inspecting new state of the dataset now it no longer has missing values\n",
    "df_info_knn_imputed"
   ]
  },
  {
   "cell_type": "code",
   "execution_count": null,
   "metadata": {},
   "outputs": [],
   "source": [
    "# checking it no longer has missing values\n",
    "df_info_knn_imputed.isna().any()"
   ]
  },
  {
   "cell_type": "code",
   "execution_count": null,
   "metadata": {},
   "outputs": [],
   "source": [
    "# looking at sum of missing values\n",
    "df_info_knn_imputed.isna().sum()"
   ]
  },
  {
   "cell_type": "markdown",
   "metadata": {},
   "source": [
    "#### Turning these imputed values to usable values"
   ]
  },
  {
   "cell_type": "code",
   "execution_count": null,
   "metadata": {},
   "outputs": [],
   "source": [
    "#Unnormalsing the data\n",
    "df_info_knn_imputed.columns[1:] #ignoring meter id as that wasn't normalized\n",
    "df_info_knn_finished = pd.DataFrame(scaler.inverse_transform(df_info_knn_imputed), columns = df_info_knn_imputed.columns) # reversing the normalization"
   ]
  },
  {
   "cell_type": "code",
   "execution_count": null,
   "metadata": {},
   "outputs": [],
   "source": [
    "# viewing the unormalised data\n",
    "df_info_knn_finished"
   ]
  },
  {
   "cell_type": "code",
   "execution_count": null,
   "metadata": {},
   "outputs": [],
   "source": [
    "#rounding bedrooms to their final value\n",
    "num_bedrooms=df_info_knn_finished[\"num_bedrooms\"].round() "
   ]
  },
  {
   "cell_type": "code",
   "execution_count": null,
   "metadata": {},
   "outputs": [],
   "source": [
    "#rounding dwelling type to a real value\n",
    "df_dwellings=df_info_knn_finished[\"dwelling_type\"].round() \n",
    "#reverting the encoding\n",
    "df_dwellings=df_dwellings.replace(0, \"flat\").replace(1, \"terraced_house\").replace(2, \"semi_detached_house\").replace(3, \"detached_house\").replace(4, \"bungalow\")\n"
   ]
  },
  {
   "cell_type": "code",
   "execution_count": null,
   "metadata": {},
   "outputs": [],
   "source": [
    "#concatenating the meter_id, number of bedrooms, and dwellings columns\n",
    "df_info_knn_finished = pd.concat([meter_id, num_bedrooms, df_dwellings], axis=1)"
   ]
  },
  {
   "cell_type": "code",
   "execution_count": null,
   "metadata": {},
   "outputs": [],
   "source": [
    "#inspecting the final configuration of the knn imputed values\n",
    "df_info_knn_finished"
   ]
  },
  {
   "cell_type": "markdown",
   "metadata": {},
   "source": [
    "## Checking the unique values are the same as the original set"
   ]
  },
  {
   "cell_type": "code",
   "execution_count": null,
   "metadata": {},
   "outputs": [],
   "source": [
    "#looking at the unique values for each column before imputation\n",
    "print(\"Unique values before imputation\")\n",
    "\n",
    "print(\"num_bedrooms unique value count: \"+str(df_info_all_meters[\"num_bedrooms\"].nunique()))\n",
    "print(df_info_all_meters[\"num_bedrooms\"].unique())\n",
    "print()\n",
    "print(\"dwelling_type unique value count: \"+str(df_info_all_meters[\"dwelling_type\"].nunique()))\n",
    "print(df_info_all_meters[\"dwelling_type\"].unique())\n",
    "print()"
   ]
  },
  {
   "cell_type": "code",
   "execution_count": null,
   "metadata": {},
   "outputs": [],
   "source": [
    "#looking at the unique values for each column before imputation\n",
    "print(\"Unique values after imputation\\n\")\n",
    "\n",
    "print(\"num_bedrooms unique value count: \"+str(df_info_knn_finished[\"num_bedrooms\"].nunique()))\n",
    "print(df_info_knn_finished[\"num_bedrooms\"].unique())\n",
    "print()\n",
    "print(\"dwelling_type unique value count: \"+str(df_info_knn_finished[\"dwelling_type\"].nunique()))\n",
    "print(df_info_knn_finished[\"dwelling_type\"].unique())\n",
    "print()"
   ]
  },
  {
   "cell_type": "markdown",
   "metadata": {},
   "source": [
    "## Comparing the distribution of unique values that were distributed to the original"
   ]
  },
  {
   "cell_type": "code",
   "execution_count": null,
   "metadata": {},
   "outputs": [],
   "source": [
    "#looking at percentage distribution of values before imputation\n",
    "print(\"Distribution of unique values before imputation\")\n",
    "print()\n",
    "\n",
    "num_bedrooms_percentages = df_info_all_meters['num_bedrooms'].value_counts(normalize=True) * 100\n",
    "print(\"num_bedrooms percentages\")\n",
    "print(num_bedrooms_percentages)\n",
    "print()\n",
    "print(\"num_bedrooms totals\")\n",
    "print(df_info_all_meters['num_bedrooms'].value_counts())\n",
    "print()\n",
    "print()\n",
    "\n",
    "dwelling_type_percentages = df_info_all_meters['dwelling_type'].value_counts(normalize=True) * 100\n",
    "print(\"dwelling_type percentages\")\n",
    "print(dwelling_type_percentages)\n",
    "print()\n",
    "print(\"dwelling_type totals\")\n",
    "print(df_info_all_meters['dwelling_type'].value_counts())"
   ]
  },
  {
   "cell_type": "code",
   "execution_count": null,
   "metadata": {},
   "outputs": [],
   "source": [
    "#looking at percentage distribution of values after imputation\n",
    "print(\"Distribution of unique values before imputation\")\n",
    "print()\n",
    "\n",
    "num_bedrooms_percentages = df_info_knn_finished['num_bedrooms'].value_counts(normalize=True) * 100\n",
    "print(\"num_bedrooms percentages\")\n",
    "print(num_bedrooms_percentages)\n",
    "print()\n",
    "print(\"num_bedrooms totals\")\n",
    "print(df_info_knn_finished['num_bedrooms'].value_counts())\n",
    "print()\n",
    "print()\n",
    "\n",
    "dwelling_type_percentages = df_info_knn_finished['dwelling_type'].value_counts(normalize=True) * 100\n",
    "print(\"dwelling_type percentages\")\n",
    "print(dwelling_type_percentages)\n",
    "print()\n",
    "print(\"dwelling_type totals\")\n",
    "print(df_info_knn_finished['dwelling_type'].value_counts())\n",
    "print()"
   ]
  },
  {
   "cell_type": "markdown",
   "metadata": {},
   "source": [
    "##### Conclusions:\n",
    "* Hasn't imputed any meters to be a flat\n",
    "* Hasn't imputed any meters to have 1 or 5 bedrooms\n",
    "* Has essentially increased the % divide\n",
    "    * Higher % represented classes were more likely to be picked\n",
    "    * Whilst lower % represented classes were less likely to be picked \n",
    "* Expected behaviour but is this useful and has it imputed correctly?\n",
    "* As mentioned already will experiment and see if using these meters or not improves performance more\n",
    "    * From this we can infer if this was effective or not\n",
    "\n",
    "## Plotting hists of the imputed addInfo\n",
    "plotting hists of the imputed addInfo columns before and after imputation to compare their patterns"
   ]
  },
  {
   "cell_type": "code",
   "execution_count": null,
   "metadata": {},
   "outputs": [],
   "source": [
    "# plotting a histogram for each of the imputed columns in the dataset before imputation\n",
    "for column in df_info_knn_finished.drop([\"meter_id\"],axis=1).columns:\n",
    "    df_temp = df_info_all_meters[column]\n",
    "    ax = df_temp.hist(figsize=(10,10))\n",
    "    ax.set_xlabel(\"unique values\")\n",
    "    ax.set_ylabel(\"count\")\n",
    "    fig = ax.get_figure()\n",
    "    plt.title(column+\" values\")\n",
    "     plt.show(block=False)\n",
    "    \n",
    "#     if(os.path.exists(f\"../EDA/plots/addInfo/Pre-Imputation/{column}_preimp_hist.png\")==False):\n",
    "#         fig.savefig(f\"../EDA/plots/addInfo/Pre-Imputation/{column}_preimp_hist.png\")\n",
    "    fig.savefig(f\"../EDA/plots/addInfo/Pre-Imputation/{column}_preimp_hist.png\")\n",
    "    \n",
    "    plt.close(fig)"
   ]
  },
  {
   "cell_type": "code",
   "execution_count": null,
   "metadata": {
    "scrolled": false
   },
   "outputs": [],
   "source": [
    "# plotting a histogram for each of the columns in the dataset after imputation\n",
    "for column in df_info_knn_finished.drop([\"meter_id\"],axis=1).columns:\n",
    "    df_temp = df_info_knn_finished[column]\n",
    "    ax = df_temp.hist(figsize=(10,10))\n",
    "    ax.set_xlabel(\"unique values\")\n",
    "    ax.set_ylabel(\"count\")\n",
    "    fig = ax.get_figure()\n",
    "    plt.title(column+\" values\")\n",
    "    plt.show(block=False)\n",
    "    \n",
    "#     if(os.path.exists(f\"../EDA/plots/addInfo/Imputed/{column}_imp_hist.png\")==False):\n",
    "#         fig.savefig(f\"../EDA/plots/addInfo/Imputed/{column}_imp_hist.png\")\n",
    "    fig.savefig(f\"../EDA/plots/addInfo/Imputed/{column}_imp_hist.png\")\n",
    "        \n",
    "    plt.close(fig)"
   ]
  },
  {
   "cell_type": "markdown",
   "metadata": {},
   "source": [
    "## OneHot Encoding Ready for the RNN to make use of"
   ]
  },
  {
   "cell_type": "code",
   "execution_count": null,
   "metadata": {},
   "outputs": [],
   "source": [
    "#encoding the categorical values via one hot encoding\n",
    "cat_variables = df_info_knn_finished[df_info_knn_finished.loc[:,df_info_knn_finished.columns!=\"meter_id\"].select_dtypes(include=['object']).columns] # getting the categorical columns (just 'dwelling_type')\n",
    "cat_dummies = pd.get_dummies(cat_variables, drop_first=True, dummy_na=True) # getting dummies, including a separate one for na\n",
    "\n",
    "#setting nan rows and droppoing nan column\n",
    "cat_dummies.loc[cat_dummies.dwelling_type_nan==1, [\"dwelling_type_detached_house\",\"dwelling_type_flat\",\"dwelling_type_semi_detached_house\",\"dwelling_type_terraced_house\"]]=np.nan\n",
    "cat_dummies=cat_dummies.drop(\"dwelling_type_nan\",axis=1)\n",
    "cat_dummies"
   ]
  },
  {
   "cell_type": "code",
   "execution_count": null,
   "metadata": {},
   "outputs": [],
   "source": [
    "df_info_knn_finished"
   ]
  },
  {
   "cell_type": "code",
   "execution_count": null,
   "metadata": {
    "scrolled": false
   },
   "outputs": [],
   "source": [
    "# dropping the original columns then adding the dummy values\n",
    "#df_info_knn_finished = df_info_knn_finished.drop(df_info_knn_finished.loc[:,df_info_knn_finished.columns!=\"meter_id\"].select_dtypes(include=['object']).columns, axis=1)\n",
    "df_info_knn_finished = pd.concat([df_info_knn_finished, cat_dummies], axis=1)\n",
    "# inspecting new state of the dataframe with the dummy variables\n",
    "df_info_knn_finished"
   ]
  },
  {
   "cell_type": "markdown",
   "metadata": {},
   "source": [
    "## Generating correlation plot of the features to make sure there is minimal redundancy"
   ]
  },
  {
   "cell_type": "code",
   "execution_count": null,
   "metadata": {},
   "outputs": [],
   "source": [
    "#generating the correlation matrix\n",
    "corr_info = df_info_knn_finished.corr()"
   ]
  },
  {
   "cell_type": "code",
   "execution_count": null,
   "metadata": {},
   "outputs": [],
   "source": [
    "#generating the correlation heat map\n",
    "plt.figure(figsize=(10, 10))\n",
    "sns.heatmap(corr_info, cmap=\"coolwarm\", annot=True, square=True)"
   ]
  },
  {
   "cell_type": "code",
   "execution_count": null,
   "metadata": {},
   "outputs": [],
   "source": [
    "# for each feature on the x axis\n",
    "for i in range(corr_info.shape[0]):\n",
    "    # for each feature after i\n",
    "    for j in range(i+1, corr_info.shape[0]):\n",
    "        #check if their correlation is above a threshold % (50%)\n",
    "        if abs(corr_info.iloc[i,j]) >= 0.5:\n",
    "            print(\"\\nConsider \",corr_info.columns[j],\" for removal as it has a high correlation with \",corr_info.columns[i],\" of\",round(corr_info.iloc[i,j],2),\"\\n\")\n",
    "            #set column j to be removed \n",
    "            if columns[j]:\n",
    "                columns[j+1] = False #+1 for meter id\n",
    "        else: \n",
    "            print(\"Keeping \",corr_info.columns[i],\" and \",corr_info.columns[j],\" have a correlation of \", round(corr_info.iloc[i,j],2))"
   ]
  },
  {
   "cell_type": "markdown",
   "metadata": {},
   "source": [
    "##### Features don't have a particularly high correlation; no need to remove them based upon this\n",
    "\n",
    "## Saving the finished AddInfo"
   ]
  },
  {
   "cell_type": "code",
   "execution_count": null,
   "metadata": {},
   "outputs": [],
   "source": [
    "# if(os.path.exists(f\"../Data/Preprocessed_Data/addInfo_knn.pkl\")==False):\n",
    "#         df_info_knn_finished.to_pickle(f\"../Data/Preprocessed_Data/addInfo_knn.pkl\")\n",
    "df_info_knn_finished.to_pickle(f\"../Data/Preprocessed_Data/addInfo_knn.pkl\")"
   ]
  },
  {
   "cell_type": "code",
   "execution_count": null,
   "metadata": {},
   "outputs": [],
   "source": []
  }
 ],
 "metadata": {
  "kernelspec": {
   "display_name": "mle_tf",
   "language": "python",
   "name": "mle_tf"
  },
  "language_info": {
   "codemirror_mode": {
    "name": "ipython",
    "version": 3
   },
   "file_extension": ".py",
   "mimetype": "text/x-python",
   "name": "python",
   "nbconvert_exporter": "python",
   "pygments_lexer": "ipython3",
   "version": "3.7.9"
  }
 },
 "nbformat": 4,
 "nbformat_minor": 4
}
